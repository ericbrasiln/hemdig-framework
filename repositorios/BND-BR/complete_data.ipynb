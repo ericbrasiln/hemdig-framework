{
 "cells": [
  {
   "cell_type": "markdown",
   "metadata": {},
   "source": [
    "# Análise dos dados de periódicos da Hemerotéca Digital Brasileira da Biblioteca Nacional\n",
    "\n",
    "Os dados foram disponibilizados para pesquisa pela equipe da BNDigital em formato xml. O arquivo foi exportado da base do sistema de periódicos digitalizados e se encontra no padrão MARCXML (MAchine-Readable Cataloging XML). O arquivo pode ser acessado [aqui](/repositorios/BND-BR/data/exp_per_marcxml.xml).\n",
    "\n",
    "Agradeço a Vinicius Pontes Martins do Setor de Gestão de Programas e Inovação (SGPI) da BNDigital pela disponibilização dos dados."
   ]
  },
  {
   "cell_type": "markdown",
   "metadata": {},
   "source": [
    "## Analisando e Filtrando o xml\n",
    "\n",
    "Aqui vamos realizar realizar o *parse* dos dados contidos no arquivo xml e filtrar os dados que serão utilizados para análise.\n",
    "\n",
    "Utilizaremos a biblioteca xml.etree.ElementTree para realizar o *parse* do arquivo xml. A biblioteca é nativa do Python e não necessita de instalação."
   ]
  },
  {
   "cell_type": "code",
   "execution_count": 1,
   "metadata": {},
   "outputs": [],
   "source": [
    "# importar bibliotecas\n",
    "import xml.etree.ElementTree as ET"
   ]
  },
  {
   "cell_type": "code",
   "execution_count": 2,
   "metadata": {},
   "outputs": [],
   "source": [
    "# ler arquivo xml\n",
    "tree = ET.parse('./data/exp_per_marcxml.xml')"
   ]
  },
  {
   "cell_type": "code",
   "execution_count": 3,
   "metadata": {},
   "outputs": [
    {
     "name": "stdout",
     "output_type": "stream",
     "text": [
      "7685\n"
     ]
    }
   ],
   "source": [
    "# contar número de registros\n",
    "root = tree.getroot()\n",
    "print(len(root))"
   ]
  },
  {
   "cell_type": "markdown",
   "metadata": {},
   "source": [
    "### Subcampos utilizados\n",
    "\n",
    "Após a leitura do arquivos, selecionei sete subcampos para análise (serão listadas a tag e o subcampo de acordo com a estrutura do xml):\n",
    "\n",
    "- tag 245; subcampo a: Título do periódico\n",
    "- tag 245; subcampo b: Subtítulo do periódico\n",
    "- tag 260; subcampo a: Local de publicação\n",
    "- tag 260; subcampo b: Editora\n",
    "- tag 260; subcampo c: Período de publicação\n",
    "- tag 310; subcampo a: Periodicidade da publicação\n",
    "- tag 546; subcampo a: Idioma da publicação\n",
    "\n",
    "A seleção desses elementos buscou possibilitar a comparação com os dados disponibilizados pela BND-PT, conforme descrito no [notebook](..///BND-PT/escopo.ipynb).\n"
   ]
  },
  {
   "cell_type": "code",
   "execution_count": 4,
   "metadata": {},
   "outputs": [],
   "source": [
    "#subfield code=\"a\" do datafield tag=\"245\" corresponde ao Título do periódico\n",
    "#subfield code=\"b\" do datafield tag=\"245\" corresponde ao Subtítulo do periódico\n",
    "#subfield code=\"a\" do datafield tag=\"260\" corresponde ao Local de publicação\n",
    "#subfield code=\"b\" do datafield tag=\"260\" corresponde ao Editora de publicação\n",
    "#subfield code=\"c\" do datafield tag=\"260\" corresponde ao Período de publicação\n",
    "#subfield code=\"a\" do datafield tag=\"301\" corresponde à periodicidade\n",
    "#subfield code=\"a\" do datafield tag=\"546\" corresponde ao idioma da publicação\n",
    "# criar um csv com os dados selecionados\n",
    "import csv\n",
    "\n",
    "with open('./data/complete_data.csv', 'w', newline='', encoding='utf-8') as f:\n",
    "    writer = csv.writer(f, delimiter=',', quotechar='\"', quoting=csv.QUOTE_ALL)\n",
    "    writer.writerow(['title', 'subtitle', 'place', 'period', 'editor', 'periodicity', 'language'])\n",
    "    for record in root:\n",
    "        title = record.find(\"./datafield[@tag='245']/subfield[@code='a']\")\n",
    "        subtitle = record.find(\"./datafield[@tag='245']/subfield[@code='b']\")\n",
    "        place = record.find(\"./datafield[@tag='260']/subfield[@code='a']\")\n",
    "        period = record.find(\"./datafield[@tag='260']/subfield[@code='c']\")\n",
    "        editor = record.find(\"./datafield[@tag='260']/subfield[@code='b']\")\n",
    "        periodicity = record.find(\"./datafield[@tag='310']/subfield[@code='a']\")\n",
    "        language = record.find(\"./datafield[@tag='546']/subfield[@code='a']\")\n",
    "        if title is not None:\n",
    "            title = title.text\n",
    "        if subtitle is not None:\n",
    "            subtitle = subtitle.text\n",
    "        if place is not None:\n",
    "            place = place.text\n",
    "        if period is not None:\n",
    "            period = period.text\n",
    "        if editor is not None:\n",
    "            editor = editor.text\n",
    "        if periodicity is not None:\n",
    "            periodicity = periodicity.text\n",
    "        if language is not None:\n",
    "            language = language.text\n",
    "        writer.writerow([title, subtitle, place, period, editor, periodicity, language])"
   ]
  },
  {
   "cell_type": "markdown",
   "metadata": {},
   "source": [
    "## Analisar dados com Pandas"
   ]
  },
  {
   "cell_type": "code",
   "execution_count": 5,
   "metadata": {},
   "outputs": [],
   "source": [
    "# importar biblioteca\n",
    "import pandas as pd"
   ]
  },
  {
   "cell_type": "code",
   "execution_count": 6,
   "metadata": {},
   "outputs": [],
   "source": [
    "# ler csv com pandas\n",
    "df = pd.read_csv('./data/complete_data.csv', encoding='utf-8')\n"
   ]
  },
  {
   "cell_type": "code",
   "execution_count": 7,
   "metadata": {},
   "outputs": [
    {
     "data": {
      "text/html": [
       "<div>\n",
       "<style scoped>\n",
       "    .dataframe tbody tr th:only-of-type {\n",
       "        vertical-align: middle;\n",
       "    }\n",
       "\n",
       "    .dataframe tbody tr th {\n",
       "        vertical-align: top;\n",
       "    }\n",
       "\n",
       "    .dataframe thead th {\n",
       "        text-align: right;\n",
       "    }\n",
       "</style>\n",
       "<table border=\"1\" class=\"dataframe\">\n",
       "  <thead>\n",
       "    <tr style=\"text-align: right;\">\n",
       "      <th></th>\n",
       "      <th>title</th>\n",
       "      <th>subtitle</th>\n",
       "      <th>place</th>\n",
       "      <th>period</th>\n",
       "      <th>editor</th>\n",
       "      <th>periodicity</th>\n",
       "      <th>language</th>\n",
       "    </tr>\n",
       "  </thead>\n",
       "  <tbody>\n",
       "    <tr>\n",
       "      <th>0</th>\n",
       "      <td>O Abolicionista Paraense</td>\n",
       "      <td>NaN</td>\n",
       "      <td>Belém, PA</td>\n",
       "      <td>1883-</td>\n",
       "      <td>Typ. da Provincia do Para</td>\n",
       "      <td>Semanal</td>\n",
       "      <td>por</td>\n",
       "    </tr>\n",
       "    <tr>\n",
       "      <th>1</th>\n",
       "      <td>O Abolicionista</td>\n",
       "      <td>propriedade de uma associação</td>\n",
       "      <td>São Luis, MA</td>\n",
       "      <td>1885</td>\n",
       "      <td>Typ. do Abolicionista</td>\n",
       "      <td>NaN</td>\n",
       "      <td>por</td>\n",
       "    </tr>\n",
       "    <tr>\n",
       "      <th>2</th>\n",
       "      <td>O Academico</td>\n",
       "      <td>periodico scientifico, litterario e especialme...</td>\n",
       "      <td>Rio de Janeiro, RJ</td>\n",
       "      <td>1855-</td>\n",
       "      <td>Typ. Fluminense, de D.L. dos Santos</td>\n",
       "      <td>NaN</td>\n",
       "      <td>por</td>\n",
       "    </tr>\n",
       "    <tr>\n",
       "      <th>3</th>\n",
       "      <td>A Actualidade</td>\n",
       "      <td>orgao do Partido Liberal</td>\n",
       "      <td>Ouro Preto, MG</td>\n",
       "      <td>1878-[1882]</td>\n",
       "      <td>Typ. de Jose Egydio da Silca Campos</td>\n",
       "      <td>3 vezes por semana</td>\n",
       "      <td>NaN</td>\n",
       "    </tr>\n",
       "    <tr>\n",
       "      <th>4</th>\n",
       "      <td>A Actualidade</td>\n",
       "      <td>periodico imparcial, litterario, critico e not...</td>\n",
       "      <td>Maranhão</td>\n",
       "      <td>1900-</td>\n",
       "      <td>Typ. de Antonio Pereira Ramos d'Almeida e C. S...</td>\n",
       "      <td>3 vezes por mês</td>\n",
       "      <td>por</td>\n",
       "    </tr>\n",
       "  </tbody>\n",
       "</table>\n",
       "</div>"
      ],
      "text/plain": [
       "                      title  \\\n",
       "0  O Abolicionista Paraense   \n",
       "1           O Abolicionista   \n",
       "2               O Academico   \n",
       "3             A Actualidade   \n",
       "4             A Actualidade   \n",
       "\n",
       "                                            subtitle               place  \\\n",
       "0                                                NaN           Belém, PA   \n",
       "1                      propriedade de uma associação        São Luis, MA   \n",
       "2  periodico scientifico, litterario e especialme...  Rio de Janeiro, RJ   \n",
       "3                           orgao do Partido Liberal      Ouro Preto, MG   \n",
       "4  periodico imparcial, litterario, critico e not...            Maranhão   \n",
       "\n",
       "        period                                             editor  \\\n",
       "0        1883-                          Typ. da Provincia do Para   \n",
       "1         1885                              Typ. do Abolicionista   \n",
       "2        1855-                Typ. Fluminense, de D.L. dos Santos   \n",
       "3  1878-[1882]                Typ. de Jose Egydio da Silca Campos   \n",
       "4        1900-  Typ. de Antonio Pereira Ramos d'Almeida e C. S...   \n",
       "\n",
       "          periodicity language  \n",
       "0             Semanal      por  \n",
       "1                 NaN      por  \n",
       "2                 NaN      por  \n",
       "3  3 vezes por semana      NaN  \n",
       "4     3 vezes por mês      por  "
      ]
     },
     "execution_count": 7,
     "metadata": {},
     "output_type": "execute_result"
    }
   ],
   "source": [
    "df.head()"
   ]
  },
  {
   "cell_type": "code",
   "execution_count": 8,
   "metadata": {},
   "outputs": [
    {
     "data": {
      "text/plain": [
       "title          7685\n",
       "subtitle       3666\n",
       "place          7608\n",
       "period         7265\n",
       "editor         5675\n",
       "periodicity    5901\n",
       "language       6614\n",
       "dtype: int64"
      ]
     },
     "execution_count": 8,
     "metadata": {},
     "output_type": "execute_result"
    }
   ],
   "source": [
    "# contar número de registros\n",
    "df.count()"
   ]
  },
  {
   "cell_type": "markdown",
   "metadata": {},
   "source": [
    "### Locais de publicação\n",
    "\n",
    ":warning: ainda é preciso limpar os dados da coluna 'place'"
   ]
  },
  {
   "cell_type": "code",
   "execution_count": 9,
   "metadata": {},
   "outputs": [
    {
     "data": {
      "text/plain": [
       "Rio de Janeiro, RJ      2185\n",
       "São Paulo, SP            294\n",
       "Florianópolis, SC        239\n",
       "Recife, PE               207\n",
       "Bahia [Salvador, BA]     192\n",
       "                        ... \n",
       "Lageado, MT                1\n",
       "Joinvelle                  1\n",
       "Tiradentes, MG             1\n",
       "Duque de Caxias, RJ        1\n",
       "Urussanga                  1\n",
       "Name: place, Length: 672, dtype: int64"
      ]
     },
     "execution_count": 9,
     "metadata": {},
     "output_type": "execute_result"
    }
   ],
   "source": [
    "# contar locais de publicação\n",
    "df['place'].value_counts()"
   ]
  },
  {
   "cell_type": "markdown",
   "metadata": {},
   "source": [
    "### Editoras\n",
    "\n",
    ":warning: ainda é preciso limpar os dados da coluna 'editor'"
   ]
  },
  {
   "cell_type": "code",
   "execution_count": 10,
   "metadata": {},
   "outputs": [
    {
     "data": {
      "text/plain": [
       "[s.n.]                                     1764\n",
       "Typ. do Diário                               44\n",
       "Typ. Nacional                                42\n",
       "Typ. Americana                               33\n",
       "Typ. Cosmopolita                             32\n",
       "                                           ... \n",
       "Typografia do diário                          1\n",
       "Typ. do Brasil                                1\n",
       "Diário de Pernambuco                          1\n",
       "Typ. de J.A. dos Santos Cardoso e Irmao       1\n",
       "Typ. L. Faria & CIA.                          1\n",
       "Name: editor, Length: 2020, dtype: int64"
      ]
     },
     "execution_count": 10,
     "metadata": {},
     "output_type": "execute_result"
    }
   ],
   "source": [
    "# contar editor\n",
    "df['editor'].value_counts()"
   ]
  },
  {
   "cell_type": "markdown",
   "metadata": {},
   "source": [
    "### Idiomas"
   ]
  },
  {
   "cell_type": "code",
   "execution_count": 11,
   "metadata": {},
   "outputs": [],
   "source": [
    "# limpar dados de idioma\n",
    "# lista de termos para substituir\n",
    "replace_por = ['Texto em português', 'Texto em portugues', 'Português', 'Em português']\n",
    "replace_spa = ['Texto em espanhol', 'esp']\n",
    "replace_fre = ['Texto em frances']\n",
    "\n",
    "# substituir termos\n",
    "df['language'] = df['language'].replace(replace_por, 'por')\n",
    "df['language'] = df['language'].replace(replace_spa, 'spa')\n",
    "df['language'] = df['language'].replace(replace_fre, 'fre')"
   ]
  },
  {
   "cell_type": "code",
   "execution_count": 12,
   "metadata": {},
   "outputs": [
    {
     "data": {
      "text/plain": [
       "por                                              6461\n",
       "ger                                                61\n",
       "ita                                                33\n",
       "fre                                                27\n",
       "spa                                                17\n",
       "eng                                                10\n",
       "ara                                                 2\n",
       "syr                                                 1\n",
       "yid                                                 1\n",
       "Texto em português e alguns textos em francês       1\n",
       "Name: language, dtype: int64"
      ]
     },
     "execution_count": 12,
     "metadata": {},
     "output_type": "execute_result"
    }
   ],
   "source": [
    "# contar idioma\n",
    "df['language'].value_counts()"
   ]
  },
  {
   "cell_type": "code",
   "execution_count": 13,
   "metadata": {},
   "outputs": [
    {
     "data": {
      "text/plain": [
       "por                                              0.976867\n",
       "ger                                              0.009223\n",
       "ita                                              0.004989\n",
       "fre                                              0.004082\n",
       "spa                                              0.002570\n",
       "eng                                              0.001512\n",
       "ara                                              0.000302\n",
       "syr                                              0.000151\n",
       "yid                                              0.000151\n",
       "Texto em português e alguns textos em francês    0.000151\n",
       "Name: language, dtype: float64"
      ]
     },
     "execution_count": 13,
     "metadata": {},
     "output_type": "execute_result"
    }
   ],
   "source": [
    "# porcentagem de idiomas\n",
    "df['language'].value_counts(normalize=True)\n"
   ]
  },
  {
   "cell_type": "markdown",
   "metadata": {},
   "source": [
    "Interessante notar que noventa e sete porcento dos periódicos estão em português.\n",
    "\n",
    "[INCLUIR GRÁFICO]"
   ]
  },
  {
   "cell_type": "markdown",
   "metadata": {},
   "source": [
    "### Período de publicação\n",
    "\n"
   ]
  },
  {
   "cell_type": "code",
   "execution_count": 14,
   "metadata": {},
   "outputs": [],
   "source": [
    "#  limpar dados do período de publicação usando regex\n",
    "# excluir [, ], (, ), :\n",
    "df['period'] = df['period'].replace(to_replace=r'[\\[\\]\\(\\):\\?]', value='', regex=True)\n",
    "#substituir ' - ' por '-'\n",
    "df['period'] = df['period'].replace(to_replace=r' - ', value='-', regex=True)\n",
    "#substituir ' a ' por '-'\n",
    "df['period'] = df['period'].replace(to_replace=r' a ', value='-', regex=True)"
   ]
  },
  {
   "cell_type": "code",
   "execution_count": 15,
   "metadata": {},
   "outputs": [],
   "source": [
    "# criar coluna com o ano de início da publicação\n",
    "# se iniciar com dígito, pegar os 4 primeiros caracteres, senão, pegar do 2º ao 5º caractere\n",
    "df['start_year'] = df['period'].str.extract(r'(\\d{4})', expand=False).fillna(df['period'].str[1:5])"
   ]
  },
  {
   "cell_type": "code",
   "execution_count": 16,
   "metadata": {},
   "outputs": [],
   "source": [
    "# criar coluna com o ano de término da publicação a partir da coluna period\n",
    "# pegar 4 últimos dígitos que aparecem na coluna period usando regex\n",
    "df['end_year'] = df['period'].str.extract(r'(\\d{4})$', expand=False)"
   ]
  },
  {
   "cell_type": "code",
   "execution_count": 17,
   "metadata": {},
   "outputs": [],
   "source": [
    "# se 'end_year' for nulo, pegar o ano de início da publicação\n",
    "df['end_year'] = df['end_year'].fillna(df['start_year'])"
   ]
  },
  {
   "cell_type": "code",
   "execution_count": 18,
   "metadata": {},
   "outputs": [],
   "source": [
    "#converte as colunas para string\n",
    "df['start_year'] = df['start_year'].astype(str)\n",
    "df['end_year'] = df['end_year'].astype(str)\n",
    "\n",
    "# Substitui todos os caracteres que não são dígitos por uma string vazia\n",
    "df['start_year'] = df['start_year'].replace(to_replace=r'\\D', value='', regex=True)\n",
    "df['end_year'] = df['end_year'].replace(to_replace=r'\\D', value='', regex=True)\n",
    "\n",
    "# substitui os valores vazios por 0\n",
    "df['start_year'] = df['start_year'].replace(to_replace=r'^\\s*$', value='0', regex=True)\n",
    "df['end_year'] = df['end_year'].replace(to_replace=r'^\\s*$', value='0', regex=True)\n",
    "\n",
    "# converte as colunas para int\n",
    "df['start_year'] = df['start_year'].astype(int)\n",
    "df['end_year'] = df['end_year'].astype(int)\n"
   ]
  },
  {
   "cell_type": "code",
   "execution_count": 19,
   "metadata": {},
   "outputs": [
    {
     "data": {
      "text/plain": [
       "0       425\n",
       "1881    168\n",
       "1890    159\n",
       "1888    157\n",
       "1883    144\n",
       "       ... \n",
       "2011      1\n",
       "87        1\n",
       "2022      1\n",
       "1819      1\n",
       "2017      1\n",
       "Name: start_year, Length: 214, dtype: int64"
      ]
     },
     "execution_count": 19,
     "metadata": {},
     "output_type": "execute_result"
    }
   ],
   "source": [
    "# contar início da publicação\n",
    "df['start_year'].value_counts()"
   ]
  },
  {
   "cell_type": "code",
   "execution_count": 20,
   "metadata": {},
   "outputs": [
    {
     "data": {
      "text/plain": [
       "0       425\n",
       "1881    163\n",
       "1890    158\n",
       "1888    154\n",
       "1889    143\n",
       "       ... \n",
       "1767      1\n",
       "87        1\n",
       "1741      1\n",
       "1694      1\n",
       "88        1\n",
       "Name: end_year, Length: 219, dtype: int64"
      ]
     },
     "execution_count": 20,
     "metadata": {},
     "output_type": "execute_result"
    }
   ],
   "source": [
    "# contar fim da publicação\n",
    "df['end_year'].value_counts()"
   ]
  },
  {
   "cell_type": "code",
   "execution_count": 21,
   "metadata": {},
   "outputs": [
    {
     "data": {
      "text/plain": [
       "title          5694\n",
       "subtitle       2874\n",
       "place          5626\n",
       "period         5274\n",
       "editor         4155\n",
       "periodicity    4507\n",
       "language       4831\n",
       "start_year     5694\n",
       "end_year       5694\n",
       "dtype: int64"
      ]
     },
     "execution_count": 21,
     "metadata": {},
     "output_type": "execute_result"
    }
   ],
   "source": [
    "# contar quando início e fim da publicação são iguais\n",
    "df[df['start_year'] == df['end_year']].count()"
   ]
  },
  {
   "cell_type": "markdown",
   "metadata": {},
   "source": [
    "Em 5694 registros, o ano de início da publicação é o mesmo do ano de término, indicando que 7265 periódicos que possuem data registrada no *dataframe*, apenas 1569 possuem data de início e término diferentes. Isso corresponde a uma porcentagem de 21,6% dos periódicos."
   ]
  },
  {
   "cell_type": "code",
   "execution_count": 22,
   "metadata": {},
   "outputs": [],
   "source": [
    "# calcular a diferença entre início e fim da publicação\n",
    "df['diff'] = df['end_year'] - df['start_year']\n"
   ]
  },
  {
   "cell_type": "code",
   "execution_count": 23,
   "metadata": {},
   "outputs": [
    {
     "data": {
      "text/html": [
       "<div>\n",
       "<style scoped>\n",
       "    .dataframe tbody tr th:only-of-type {\n",
       "        vertical-align: middle;\n",
       "    }\n",
       "\n",
       "    .dataframe tbody tr th {\n",
       "        vertical-align: top;\n",
       "    }\n",
       "\n",
       "    .dataframe thead th {\n",
       "        text-align: right;\n",
       "    }\n",
       "</style>\n",
       "<table border=\"1\" class=\"dataframe\">\n",
       "  <thead>\n",
       "    <tr style=\"text-align: right;\">\n",
       "      <th></th>\n",
       "      <th>title</th>\n",
       "      <th>subtitle</th>\n",
       "      <th>place</th>\n",
       "      <th>period</th>\n",
       "      <th>editor</th>\n",
       "      <th>periodicity</th>\n",
       "      <th>language</th>\n",
       "      <th>start_year</th>\n",
       "      <th>end_year</th>\n",
       "      <th>diff</th>\n",
       "    </tr>\n",
       "  </thead>\n",
       "  <tbody>\n",
       "    <tr>\n",
       "      <th>5880</th>\n",
       "      <td>O Povo</td>\n",
       "      <td>orgam do Partido Popular</td>\n",
       "      <td>Pitangui, MG</td>\n",
       "      <td>19924</td>\n",
       "      <td>NaN</td>\n",
       "      <td>Semanal</td>\n",
       "      <td>NaN</td>\n",
       "      <td>1992</td>\n",
       "      <td>9924</td>\n",
       "      <td>7932</td>\n",
       "    </tr>\n",
       "    <tr>\n",
       "      <th>4303</th>\n",
       "      <td>O Abaete : jornal noticioso a servico do progr...</td>\n",
       "      <td>NaN</td>\n",
       "      <td>Abaeté, MG</td>\n",
       "      <td>1948-4949</td>\n",
       "      <td>[s.n.]</td>\n",
       "      <td>NaN</td>\n",
       "      <td>por</td>\n",
       "      <td>1948</td>\n",
       "      <td>4949</td>\n",
       "      <td>3001</td>\n",
       "    </tr>\n",
       "    <tr>\n",
       "      <th>2489</th>\n",
       "      <td>Diário de Pernambuco</td>\n",
       "      <td>NaN</td>\n",
       "      <td>Recife, PE</td>\n",
       "      <td>1825-1984</td>\n",
       "      <td>Diário de Pernambuco</td>\n",
       "      <td>Diária</td>\n",
       "      <td>NaN</td>\n",
       "      <td>1825</td>\n",
       "      <td>1984</td>\n",
       "      <td>159</td>\n",
       "    </tr>\n",
       "    <tr>\n",
       "      <th>2286</th>\n",
       "      <td>Correio Official de Goyaz</td>\n",
       "      <td>NaN</td>\n",
       "      <td>Goiás, GO</td>\n",
       "      <td>1837-1943</td>\n",
       "      <td>Typ. Provincial</td>\n",
       "      <td>Desconhecida</td>\n",
       "      <td>por</td>\n",
       "      <td>1837</td>\n",
       "      <td>1943</td>\n",
       "      <td>106</td>\n",
       "    </tr>\n",
       "    <tr>\n",
       "      <th>3659</th>\n",
       "      <td>Jornal do Commercio</td>\n",
       "      <td>NaN</td>\n",
       "      <td>Manaus, AM</td>\n",
       "      <td>1904-2007</td>\n",
       "      <td>Empresa Jornal do Commercio</td>\n",
       "      <td>Diária</td>\n",
       "      <td>NaN</td>\n",
       "      <td>1904</td>\n",
       "      <td>2007</td>\n",
       "      <td>103</td>\n",
       "    </tr>\n",
       "    <tr>\n",
       "      <th>3473</th>\n",
       "      <td>Imprensa e Lei</td>\n",
       "      <td>NaN</td>\n",
       "      <td>Lisboa [Portugal]</td>\n",
       "      <td>1854-1956</td>\n",
       "      <td>NaN</td>\n",
       "      <td>Indeterminada</td>\n",
       "      <td>por</td>\n",
       "      <td>1854</td>\n",
       "      <td>1956</td>\n",
       "      <td>102</td>\n",
       "    </tr>\n",
       "    <tr>\n",
       "      <th>1307</th>\n",
       "      <td>Almanak do Ministerio da Marinha</td>\n",
       "      <td>NaN</td>\n",
       "      <td>Rio de Janeiro, RJ</td>\n",
       "      <td>1858-1960</td>\n",
       "      <td>NaN</td>\n",
       "      <td>Anual</td>\n",
       "      <td>por</td>\n",
       "      <td>1858</td>\n",
       "      <td>1960</td>\n",
       "      <td>102</td>\n",
       "    </tr>\n",
       "    <tr>\n",
       "      <th>6990</th>\n",
       "      <td>Revista do Clube de Engenharia</td>\n",
       "      <td>NaN</td>\n",
       "      <td>Rio de Janeiro, RJ</td>\n",
       "      <td>1887-1989</td>\n",
       "      <td>O Clube</td>\n",
       "      <td>NaN</td>\n",
       "      <td>por</td>\n",
       "      <td>1887</td>\n",
       "      <td>1989</td>\n",
       "      <td>102</td>\n",
       "    </tr>\n",
       "    <tr>\n",
       "      <th>770</th>\n",
       "      <td>A Nova Era</td>\n",
       "      <td>NaN</td>\n",
       "      <td>Aracaju, SE</td>\n",
       "      <td>1889-1990</td>\n",
       "      <td>[s.n.]</td>\n",
       "      <td>Desconhecida</td>\n",
       "      <td>por</td>\n",
       "      <td>1889</td>\n",
       "      <td>1990</td>\n",
       "      <td>101</td>\n",
       "    </tr>\n",
       "    <tr>\n",
       "      <th>2597</th>\n",
       "      <td>Documentos</td>\n",
       "      <td>Acta dos festejos civicos com que o povo de So...</td>\n",
       "      <td>Sobral, CE</td>\n",
       "      <td>1822-1922</td>\n",
       "      <td>NaN</td>\n",
       "      <td>NaN</td>\n",
       "      <td>NaN</td>\n",
       "      <td>1822</td>\n",
       "      <td>1922</td>\n",
       "      <td>100</td>\n",
       "    </tr>\n",
       "    <tr>\n",
       "      <th>2551</th>\n",
       "      <td>Diario Official [do] Imperio do Brasil</td>\n",
       "      <td>NaN</td>\n",
       "      <td>Rio de Janeiro, RJ</td>\n",
       "      <td>1862-1959</td>\n",
       "      <td>Imprensa Oficial</td>\n",
       "      <td>NaN</td>\n",
       "      <td>por</td>\n",
       "      <td>1862</td>\n",
       "      <td>1959</td>\n",
       "      <td>97</td>\n",
       "    </tr>\n",
       "    <tr>\n",
       "      <th>2827</th>\n",
       "      <td>Estrella do Minho</td>\n",
       "      <td>folha noticiosa, litteraria e bibliographica</td>\n",
       "      <td>Vila Nova de Famalicão [Portugal]</td>\n",
       "      <td>1893-1987</td>\n",
       "      <td>NaN</td>\n",
       "      <td>Semanal</td>\n",
       "      <td>por</td>\n",
       "      <td>1893</td>\n",
       "      <td>1987</td>\n",
       "      <td>94</td>\n",
       "    </tr>\n",
       "    <tr>\n",
       "      <th>4516</th>\n",
       "      <td>O Beijo</td>\n",
       "      <td>litterário crítico e artistico</td>\n",
       "      <td>Manaus, AM</td>\n",
       "      <td>1897-1988</td>\n",
       "      <td>Typ. do Amazonas Commercial</td>\n",
       "      <td>Indeterminada</td>\n",
       "      <td>NaN</td>\n",
       "      <td>1897</td>\n",
       "      <td>1988</td>\n",
       "      <td>91</td>\n",
       "    </tr>\n",
       "    <tr>\n",
       "      <th>5345</th>\n",
       "      <td>O Juvenil</td>\n",
       "      <td>NaN</td>\n",
       "      <td>Bom Sucesso, MG</td>\n",
       "      <td>1892-1979</td>\n",
       "      <td>NaN</td>\n",
       "      <td>Semanal</td>\n",
       "      <td>NaN</td>\n",
       "      <td>1892</td>\n",
       "      <td>1979</td>\n",
       "      <td>87</td>\n",
       "    </tr>\n",
       "    <tr>\n",
       "      <th>1866</th>\n",
       "      <td>Casamentos Alemães</td>\n",
       "      <td>NaN</td>\n",
       "      <td>Blumenau, SC</td>\n",
       "      <td>1900-1985</td>\n",
       "      <td>NaN</td>\n",
       "      <td>Indeterminada</td>\n",
       "      <td>por</td>\n",
       "      <td>1900</td>\n",
       "      <td>1985</td>\n",
       "      <td>85</td>\n",
       "    </tr>\n",
       "    <tr>\n",
       "      <th>1192</th>\n",
       "      <td>Alagoas Livre</td>\n",
       "      <td>NaN</td>\n",
       "      <td>Recife, PE</td>\n",
       "      <td>1817-1901</td>\n",
       "      <td>[s.n.]</td>\n",
       "      <td>Semanal</td>\n",
       "      <td>por</td>\n",
       "      <td>1817</td>\n",
       "      <td>1901</td>\n",
       "      <td>84</td>\n",
       "    </tr>\n",
       "    <tr>\n",
       "      <th>3170</th>\n",
       "      <td>Gazeta de Noticias</td>\n",
       "      <td>NaN</td>\n",
       "      <td>Rio de Janeiro, RJ</td>\n",
       "      <td>1875-1956</td>\n",
       "      <td>Typ. da Gazeta de Noticias</td>\n",
       "      <td>Diária</td>\n",
       "      <td>por</td>\n",
       "      <td>1875</td>\n",
       "      <td>1956</td>\n",
       "      <td>81</td>\n",
       "    </tr>\n",
       "    <tr>\n",
       "      <th>3797</th>\n",
       "      <td>Kolonie Zeitung</td>\n",
       "      <td>NaN</td>\n",
       "      <td>Joinville, SC</td>\n",
       "      <td>1862-1942</td>\n",
       "      <td>Typ. de C.W. Boehm</td>\n",
       "      <td>Indeterminada</td>\n",
       "      <td>por</td>\n",
       "      <td>1862</td>\n",
       "      <td>1942</td>\n",
       "      <td>80</td>\n",
       "    </tr>\n",
       "    <tr>\n",
       "      <th>7535</th>\n",
       "      <td>União Médica</td>\n",
       "      <td>archivo internacional de sciencias medicas</td>\n",
       "      <td>Rio de Janeiro, RJ</td>\n",
       "      <td>1811-1890</td>\n",
       "      <td>NaN</td>\n",
       "      <td>Desconhecida</td>\n",
       "      <td>por</td>\n",
       "      <td>1811</td>\n",
       "      <td>1890</td>\n",
       "      <td>79</td>\n",
       "    </tr>\n",
       "    <tr>\n",
       "      <th>2985</th>\n",
       "      <td>Folha do Norte</td>\n",
       "      <td>NaN</td>\n",
       "      <td>Belém, PA</td>\n",
       "      <td>1896-1974</td>\n",
       "      <td>Typ. da Folha do Norte</td>\n",
       "      <td>Diária</td>\n",
       "      <td>por</td>\n",
       "      <td>1896</td>\n",
       "      <td>1974</td>\n",
       "      <td>78</td>\n",
       "    </tr>\n",
       "  </tbody>\n",
       "</table>\n",
       "</div>"
      ],
      "text/plain": [
       "                                                  title  \\\n",
       "5880                                             O Povo   \n",
       "4303  O Abaete : jornal noticioso a servico do progr...   \n",
       "2489                               Diário de Pernambuco   \n",
       "2286                          Correio Official de Goyaz   \n",
       "3659                                Jornal do Commercio   \n",
       "3473                                     Imprensa e Lei   \n",
       "1307                   Almanak do Ministerio da Marinha   \n",
       "6990                     Revista do Clube de Engenharia   \n",
       "770                                          A Nova Era   \n",
       "2597                                         Documentos   \n",
       "2551             Diario Official [do] Imperio do Brasil   \n",
       "2827                                  Estrella do Minho   \n",
       "4516                                            O Beijo   \n",
       "5345                                          O Juvenil   \n",
       "1866                                 Casamentos Alemães   \n",
       "1192                                      Alagoas Livre   \n",
       "3170                                 Gazeta de Noticias   \n",
       "3797                                    Kolonie Zeitung   \n",
       "7535                                       União Médica   \n",
       "2985                                     Folha do Norte   \n",
       "\n",
       "                                               subtitle  \\\n",
       "5880                           orgam do Partido Popular   \n",
       "4303                                                NaN   \n",
       "2489                                                NaN   \n",
       "2286                                                NaN   \n",
       "3659                                                NaN   \n",
       "3473                                                NaN   \n",
       "1307                                                NaN   \n",
       "6990                                                NaN   \n",
       "770                                                 NaN   \n",
       "2597  Acta dos festejos civicos com que o povo de So...   \n",
       "2551                                                NaN   \n",
       "2827       folha noticiosa, litteraria e bibliographica   \n",
       "4516                     litterário crítico e artistico   \n",
       "5345                                                NaN   \n",
       "1866                                                NaN   \n",
       "1192                                                NaN   \n",
       "3170                                                NaN   \n",
       "3797                                                NaN   \n",
       "7535         archivo internacional de sciencias medicas   \n",
       "2985                                                NaN   \n",
       "\n",
       "                                  place     period  \\\n",
       "5880                       Pitangui, MG      19924   \n",
       "4303                         Abaeté, MG  1948-4949   \n",
       "2489                         Recife, PE  1825-1984   \n",
       "2286                          Goiás, GO  1837-1943   \n",
       "3659                         Manaus, AM  1904-2007   \n",
       "3473                  Lisboa [Portugal]  1854-1956   \n",
       "1307                 Rio de Janeiro, RJ  1858-1960   \n",
       "6990                 Rio de Janeiro, RJ  1887-1989   \n",
       "770                         Aracaju, SE  1889-1990   \n",
       "2597                         Sobral, CE  1822-1922   \n",
       "2551                 Rio de Janeiro, RJ  1862-1959   \n",
       "2827  Vila Nova de Famalicão [Portugal]  1893-1987   \n",
       "4516                         Manaus, AM  1897-1988   \n",
       "5345                    Bom Sucesso, MG  1892-1979   \n",
       "1866                       Blumenau, SC  1900-1985   \n",
       "1192                         Recife, PE  1817-1901   \n",
       "3170                 Rio de Janeiro, RJ  1875-1956   \n",
       "3797                      Joinville, SC  1862-1942   \n",
       "7535                 Rio de Janeiro, RJ  1811-1890   \n",
       "2985                          Belém, PA  1896-1974   \n",
       "\n",
       "                           editor    periodicity language  start_year  \\\n",
       "5880                          NaN        Semanal      NaN        1992   \n",
       "4303                       [s.n.]            NaN      por        1948   \n",
       "2489         Diário de Pernambuco         Diária      NaN        1825   \n",
       "2286              Typ. Provincial   Desconhecida      por        1837   \n",
       "3659  Empresa Jornal do Commercio         Diária      NaN        1904   \n",
       "3473                          NaN  Indeterminada      por        1854   \n",
       "1307                          NaN          Anual      por        1858   \n",
       "6990                      O Clube            NaN      por        1887   \n",
       "770                        [s.n.]   Desconhecida      por        1889   \n",
       "2597                          NaN            NaN      NaN        1822   \n",
       "2551             Imprensa Oficial            NaN      por        1862   \n",
       "2827                          NaN        Semanal      por        1893   \n",
       "4516  Typ. do Amazonas Commercial  Indeterminada      NaN        1897   \n",
       "5345                          NaN        Semanal      NaN        1892   \n",
       "1866                          NaN  Indeterminada      por        1900   \n",
       "1192                       [s.n.]        Semanal      por        1817   \n",
       "3170   Typ. da Gazeta de Noticias         Diária      por        1875   \n",
       "3797           Typ. de C.W. Boehm  Indeterminada      por        1862   \n",
       "7535                          NaN   Desconhecida      por        1811   \n",
       "2985       Typ. da Folha do Norte         Diária      por        1896   \n",
       "\n",
       "      end_year  diff  \n",
       "5880      9924  7932  \n",
       "4303      4949  3001  \n",
       "2489      1984   159  \n",
       "2286      1943   106  \n",
       "3659      2007   103  \n",
       "3473      1956   102  \n",
       "1307      1960   102  \n",
       "6990      1989   102  \n",
       "770       1990   101  \n",
       "2597      1922   100  \n",
       "2551      1959    97  \n",
       "2827      1987    94  \n",
       "4516      1988    91  \n",
       "5345      1979    87  \n",
       "1866      1985    85  \n",
       "1192      1901    84  \n",
       "3170      1956    81  \n",
       "3797      1942    80  \n",
       "7535      1890    79  \n",
       "2985      1974    78  "
      ]
     },
     "execution_count": 23,
     "metadata": {},
     "output_type": "execute_result"
    }
   ],
   "source": [
    "# listar periódicos com maiores diferenças entre início e fim da publicação\n",
    "df.sort_values(by='diff', ascending=False).head(20)"
   ]
  },
  {
   "cell_type": "markdown",
   "metadata": {},
   "source": [
    ":warning: Analisar com mais atenção os dados sobre acervos com maior longevidade de publicação."
   ]
  },
  {
   "cell_type": "markdown",
   "metadata": {},
   "source": [
    "### Periodicidade\n",
    "\n",
    ":warning: ainda é preciso limpar os dados da coluna 'frequency'"
   ]
  },
  {
   "cell_type": "code",
   "execution_count": 24,
   "metadata": {},
   "outputs": [
    {
     "data": {
      "text/plain": [
       "Desconhecida                  2085\n",
       "Semanal                       1505\n",
       "Mensal                         425\n",
       "Indeterminada                  354\n",
       "Quinzenal                      308\n",
       "Diária                         258\n",
       "2 vezes por semana             257\n",
       "Anual                          170\n",
       "Irregular                       94\n",
       "2 vezes por mês                 72\n",
       "Bissemanal                      61\n",
       "3 vezes por semana              59\n",
       "3 vezes por mês                 31\n",
       "Número único                    29\n",
       "Duas vezes por semana           28\n",
       "Trimestral                      28\n",
       "Bimensal                        26\n",
       "Bimestral                       17\n",
       "4 vezes por mes                  8\n",
       "semanal: nos domingos            8\n",
       "Varia                            8\n",
       "Bi-mensal                        7\n",
       "Trimensal                        7\n",
       "Semisemanal                      5\n",
       "Semestral                        5\n",
       "Três vezes por semana            4\n",
       "6 vezes por mês                  3\n",
       "sábados                          3\n",
       "N. especial                      3\n",
       "semanal: domingo                 2\n",
       "semanal: no sábados              2\n",
       "3 vezes ao mes                   2\n",
       "semanal: quarta-feira            2\n",
       "Edição única                     2\n",
       "terça e sexta-feira              2\n",
       "Mensal?                          2\n",
       "Quinzenal [1ª fase]              2\n",
       "Duas vezes na semana             1\n",
       "4 vezes por semana               1\n",
       "Trimestral.(1ª e 2ª Fases)       1\n",
       "Semanal, as quintas              1\n",
       "Semanal: sabado                  1\n",
       "u                                1\n",
       "Quadrimestral                    1\n",
       "6 vezes por semana               1\n",
       "Bissemestral                     1\n",
       "5 vezes por semana               1\n",
       "quarta-feira e sábado            1\n",
       "Sabado                           1\n",
       "semanal: todo sábado             1\n",
       "Mensal (Edicao especial)         1\n",
       "2 veses por mês                  1\n",
       "Regular                          1\n",
       "Trissemanal                      1\n",
       "Name: periodicity, dtype: int64"
      ]
     },
     "execution_count": 24,
     "metadata": {},
     "output_type": "execute_result"
    }
   ],
   "source": [
    "# contar periodicidade\n",
    "df['periodicity'].value_counts()"
   ]
  },
  {
   "cell_type": "code",
   "execution_count": 25,
   "metadata": {},
   "outputs": [
    {
     "data": {
      "text/plain": [
       "Desconhecida                  0.353330\n",
       "Semanal                       0.255042\n",
       "Mensal                        0.072022\n",
       "Indeterminada                 0.059990\n",
       "Quinzenal                     0.052195\n",
       "Diária                        0.043721\n",
       "2 vezes por semana            0.043552\n",
       "Anual                         0.028809\n",
       "Irregular                     0.015930\n",
       "2 vezes por mês               0.012201\n",
       "Bissemanal                    0.010337\n",
       "3 vezes por semana            0.009998\n",
       "3 vezes por mês               0.005253\n",
       "Número único                  0.004914\n",
       "Duas vezes por semana         0.004745\n",
       "Trimestral                    0.004745\n",
       "Bimensal                      0.004406\n",
       "Bimestral                     0.002881\n",
       "4 vezes por mes               0.001356\n",
       "semanal: nos domingos         0.001356\n",
       "Varia                         0.001356\n",
       "Bi-mensal                     0.001186\n",
       "Trimensal                     0.001186\n",
       "Semisemanal                   0.000847\n",
       "Semestral                     0.000847\n",
       "Três vezes por semana         0.000678\n",
       "6 vezes por mês               0.000508\n",
       "sábados                       0.000508\n",
       "N. especial                   0.000508\n",
       "semanal: domingo              0.000339\n",
       "semanal: no sábados           0.000339\n",
       "3 vezes ao mes                0.000339\n",
       "semanal: quarta-feira         0.000339\n",
       "Edição única                  0.000339\n",
       "terça e sexta-feira           0.000339\n",
       "Mensal?                       0.000339\n",
       "Quinzenal [1ª fase]           0.000339\n",
       "Duas vezes na semana          0.000169\n",
       "4 vezes por semana            0.000169\n",
       "Trimestral.(1ª e 2ª Fases)    0.000169\n",
       "Semanal, as quintas           0.000169\n",
       "Semanal: sabado               0.000169\n",
       "u                             0.000169\n",
       "Quadrimestral                 0.000169\n",
       "6 vezes por semana            0.000169\n",
       "Bissemestral                  0.000169\n",
       "5 vezes por semana            0.000169\n",
       "quarta-feira e sábado         0.000169\n",
       "Sabado                        0.000169\n",
       "semanal: todo sábado          0.000169\n",
       "Mensal (Edicao especial)      0.000169\n",
       "2 veses por mês               0.000169\n",
       "Regular                       0.000169\n",
       "Trissemanal                   0.000169\n",
       "Name: periodicity, dtype: float64"
      ]
     },
     "execution_count": 25,
     "metadata": {},
     "output_type": "execute_result"
    }
   ],
   "source": [
    "# contar porcentagem de periodicidade\n",
    "df['periodicity'].value_counts(normalize=True)"
   ]
  }
 ],
 "metadata": {
  "kernelspec": {
   "display_name": "Python 3",
   "language": "python",
   "name": "python3"
  },
  "language_info": {
   "codemirror_mode": {
    "name": "ipython",
    "version": 3
   },
   "file_extension": ".py",
   "mimetype": "text/x-python",
   "name": "python",
   "nbconvert_exporter": "python",
   "pygments_lexer": "ipython3",
   "version": "3.10.6"
  },
  "orig_nbformat": 4
 },
 "nbformat": 4,
 "nbformat_minor": 2
}
