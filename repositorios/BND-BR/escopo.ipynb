{
 "cells": [
  {
   "cell_type": "code",
   "execution_count": 1,
   "metadata": {},
   "outputs": [],
   "source": [
    "# import pandas\n",
    "import pandas as pd\n"
   ]
  },
  {
   "cell_type": "code",
   "execution_count": 2,
   "metadata": {},
   "outputs": [],
   "source": [
    "# importar dataset e criar dataframe\n",
    "df_2019 = pd.read_csv('bnd-br_periodicos_2019.csv', sep=',', encoding='latin1')"
   ]
  },
  {
   "cell_type": "code",
   "execution_count": 3,
   "metadata": {},
   "outputs": [
    {
     "data": {
      "text/html": [
       "<div>\n",
       "<style scoped>\n",
       "    .dataframe tbody tr th:only-of-type {\n",
       "        vertical-align: middle;\n",
       "    }\n",
       "\n",
       "    .dataframe tbody tr th {\n",
       "        vertical-align: top;\n",
       "    }\n",
       "\n",
       "    .dataframe thead th {\n",
       "        text-align: right;\n",
       "    }\n",
       "</style>\n",
       "<table border=\"1\" class=\"dataframe\">\n",
       "  <thead>\n",
       "    <tr style=\"text-align: right;\">\n",
       "      <th></th>\n",
       "      <th>Título</th>\n",
       "      <th>Material</th>\n",
       "      <th>Cód. título</th>\n",
       "      <th>Números de chamada local</th>\n",
       "      <th>Objeto Digital</th>\n",
       "    </tr>\n",
       "  </thead>\n",
       "  <tbody>\n",
       "    <tr>\n",
       "      <th>0</th>\n",
       "      <td>19 de Outubro</td>\n",
       "      <td>Periódico</td>\n",
       "      <td>95759.0</td>\n",
       "      <td>P18B,03,37</td>\n",
       "      <td>per770400</td>\n",
       "    </tr>\n",
       "    <tr>\n",
       "      <th>1</th>\n",
       "      <td>A Abelha</td>\n",
       "      <td>Periódico</td>\n",
       "      <td>85471.0</td>\n",
       "      <td>P36,06,01</td>\n",
       "      <td>per789887</td>\n",
       "    </tr>\n",
       "    <tr>\n",
       "      <th>2</th>\n",
       "      <td>A abelha</td>\n",
       "      <td>Periódico</td>\n",
       "      <td>97032.0</td>\n",
       "      <td>PR-SOR 02784</td>\n",
       "      <td>per332135</td>\n",
       "    </tr>\n",
       "    <tr>\n",
       "      <th>3</th>\n",
       "      <td>A Academia de Sao Paulo</td>\n",
       "      <td>Periódico</td>\n",
       "      <td>97407.0</td>\n",
       "      <td>PR-SOR 04137</td>\n",
       "      <td>per712574</td>\n",
       "    </tr>\n",
       "    <tr>\n",
       "      <th>4</th>\n",
       "      <td>A Actualidade</td>\n",
       "      <td>Periódico</td>\n",
       "      <td>96108.0</td>\n",
       "      <td>PR-SOR 04132</td>\n",
       "      <td>per744018</td>\n",
       "    </tr>\n",
       "  </tbody>\n",
       "</table>\n",
       "</div>"
      ],
      "text/plain": [
       "                    Título   Material  Cód. título Números de chamada local  \\\n",
       "0            19 de Outubro  Periódico      95759.0               P18B,03,37   \n",
       "1                 A Abelha  Periódico      85471.0                P36,06,01   \n",
       "2                 A abelha  Periódico      97032.0             PR-SOR 02784   \n",
       "3  A Academia de Sao Paulo  Periódico      97407.0             PR-SOR 04137   \n",
       "4            A Actualidade  Periódico      96108.0             PR-SOR 04132   \n",
       "\n",
       "  Objeto Digital  \n",
       "0      per770400  \n",
       "1      per789887  \n",
       "2      per332135  \n",
       "3      per712574  \n",
       "4      per744018  "
      ]
     },
     "execution_count": 3,
     "metadata": {},
     "output_type": "execute_result"
    }
   ],
   "source": [
    "df_2019.head()"
   ]
  },
  {
   "cell_type": "code",
   "execution_count": 4,
   "metadata": {},
   "outputs": [
    {
     "data": {
      "text/plain": [
       "1004"
      ]
     },
     "execution_count": 4,
     "metadata": {},
     "output_type": "execute_result"
    }
   ],
   "source": [
    "# contar itens na coluna «Título»\n",
    "df_2019['Título'].count()\n"
   ]
  },
  {
   "cell_type": "code",
   "execution_count": 5,
   "metadata": {},
   "outputs": [],
   "source": [
    "# df_2020\n",
    "df_2020 = pd.read_csv('bnd-br_periodicos_2020.csv', sep=',', encoding='latin1')\n"
   ]
  },
  {
   "cell_type": "code",
   "execution_count": 6,
   "metadata": {},
   "outputs": [
    {
     "data": {
      "text/html": [
       "<div>\n",
       "<style scoped>\n",
       "    .dataframe tbody tr th:only-of-type {\n",
       "        vertical-align: middle;\n",
       "    }\n",
       "\n",
       "    .dataframe tbody tr th {\n",
       "        vertical-align: top;\n",
       "    }\n",
       "\n",
       "    .dataframe thead th {\n",
       "        text-align: right;\n",
       "    }\n",
       "</style>\n",
       "<table border=\"1\" class=\"dataframe\">\n",
       "  <thead>\n",
       "    <tr style=\"text-align: right;\">\n",
       "      <th></th>\n",
       "      <th>Título</th>\n",
       "      <th>Material</th>\n",
       "      <th>Cód. título</th>\n",
       "      <th>Números de chamada local</th>\n",
       "      <th>Objeto Digital</th>\n",
       "    </tr>\n",
       "  </thead>\n",
       "  <tbody>\n",
       "    <tr>\n",
       "      <th>0</th>\n",
       "      <td>1ª Conferencia de Ensino Primario</td>\n",
       "      <td>Periódico</td>\n",
       "      <td>103140.0</td>\n",
       "      <td>NaN</td>\n",
       "      <td>per888346</td>\n",
       "    </tr>\n",
       "    <tr>\n",
       "      <th>1</th>\n",
       "      <td>A Agricultura</td>\n",
       "      <td>Periódico</td>\n",
       "      <td>103059.0</td>\n",
       "      <td>NaN</td>\n",
       "      <td>per891770</td>\n",
       "    </tr>\n",
       "    <tr>\n",
       "      <th>2</th>\n",
       "      <td>A Aguia</td>\n",
       "      <td>Periódico</td>\n",
       "      <td>102893.0</td>\n",
       "      <td>NaN</td>\n",
       "      <td>per898619</td>\n",
       "    </tr>\n",
       "    <tr>\n",
       "      <th>3</th>\n",
       "      <td>A Bala</td>\n",
       "      <td>Periódico</td>\n",
       "      <td>102581.0</td>\n",
       "      <td>NaN</td>\n",
       "      <td>per872610</td>\n",
       "    </tr>\n",
       "    <tr>\n",
       "      <th>4</th>\n",
       "      <td>A Biblioteca</td>\n",
       "      <td>Periódico</td>\n",
       "      <td>102919.0</td>\n",
       "      <td>NaN</td>\n",
       "      <td>per068306</td>\n",
       "    </tr>\n",
       "  </tbody>\n",
       "</table>\n",
       "</div>"
      ],
      "text/plain": [
       "                              Título   Material  Cód. título  \\\n",
       "0  1ª Conferencia de Ensino Primario  Periódico     103140.0   \n",
       "1                      A Agricultura  Periódico     103059.0   \n",
       "2                            A Aguia  Periódico     102893.0   \n",
       "3                             A Bala  Periódico     102581.0   \n",
       "4                       A Biblioteca  Periódico     102919.0   \n",
       "\n",
       "  Números de chamada local Objeto Digital  \n",
       "0                      NaN      per888346  \n",
       "1                      NaN      per891770  \n",
       "2                      NaN      per898619  \n",
       "3                      NaN      per872610  \n",
       "4                      NaN      per068306  "
      ]
     },
     "execution_count": 6,
     "metadata": {},
     "output_type": "execute_result"
    }
   ],
   "source": [
    "df_2020.head()"
   ]
  },
  {
   "cell_type": "code",
   "execution_count": 7,
   "metadata": {},
   "outputs": [
    {
     "data": {
      "text/plain": [
       "699"
      ]
     },
     "execution_count": 7,
     "metadata": {},
     "output_type": "execute_result"
    }
   ],
   "source": [
    "# contar itens na coluna «Título»\n",
    "df_2020['Título'].count()"
   ]
  },
  {
   "attachments": {},
   "cell_type": "markdown",
   "metadata": {},
   "source": [
    "## Quantidades de periódicos por década\n",
    "\n",
    "Coleta de dados realizada manualmente na interface da HDB utilizando o parâmetro de busca inicial \"Período\"."
   ]
  },
  {
   "cell_type": "code",
   "execution_count": 8,
   "metadata": {},
   "outputs": [],
   "source": [
    "df = pd.read_csv('periodicos_dec.csv', sep=',', encoding='utf-8')"
   ]
  },
  {
   "cell_type": "code",
   "execution_count": 9,
   "metadata": {},
   "outputs": [
    {
     "data": {
      "text/html": [
       "<div>\n",
       "<style scoped>\n",
       "    .dataframe tbody tr th:only-of-type {\n",
       "        vertical-align: middle;\n",
       "    }\n",
       "\n",
       "    .dataframe tbody tr th {\n",
       "        vertical-align: top;\n",
       "    }\n",
       "\n",
       "    .dataframe thead th {\n",
       "        text-align: right;\n",
       "    }\n",
       "</style>\n",
       "<table border=\"1\" class=\"dataframe\">\n",
       "  <thead>\n",
       "    <tr style=\"text-align: right;\">\n",
       "      <th></th>\n",
       "      <th>período</th>\n",
       "      <th>quantidade de locais</th>\n",
       "      <th>quantidade de periódicos</th>\n",
       "    </tr>\n",
       "  </thead>\n",
       "  <tbody>\n",
       "    <tr>\n",
       "      <th>0</th>\n",
       "      <td>1740 - 1749</td>\n",
       "      <td>1</td>\n",
       "      <td>1</td>\n",
       "    </tr>\n",
       "    <tr>\n",
       "      <th>1</th>\n",
       "      <td>1760 - 1769</td>\n",
       "      <td>1</td>\n",
       "      <td>1</td>\n",
       "    </tr>\n",
       "    <tr>\n",
       "      <th>2</th>\n",
       "      <td>1800 - 1809</td>\n",
       "      <td>2</td>\n",
       "      <td>3</td>\n",
       "    </tr>\n",
       "    <tr>\n",
       "      <th>3</th>\n",
       "      <td>1810 - 1819</td>\n",
       "      <td>8</td>\n",
       "      <td>21</td>\n",
       "    </tr>\n",
       "    <tr>\n",
       "      <th>4</th>\n",
       "      <td>1820 - 1829</td>\n",
       "      <td>14</td>\n",
       "      <td>130</td>\n",
       "    </tr>\n",
       "    <tr>\n",
       "      <th>5</th>\n",
       "      <td>1830 - 1839</td>\n",
       "      <td>22</td>\n",
       "      <td>336</td>\n",
       "    </tr>\n",
       "    <tr>\n",
       "      <th>6</th>\n",
       "      <td>1840 - 1849</td>\n",
       "      <td>21</td>\n",
       "      <td>383</td>\n",
       "    </tr>\n",
       "    <tr>\n",
       "      <th>7</th>\n",
       "      <td>1850 - 1859</td>\n",
       "      <td>25</td>\n",
       "      <td>450</td>\n",
       "    </tr>\n",
       "    <tr>\n",
       "      <th>8</th>\n",
       "      <td>1860 - 1869</td>\n",
       "      <td>27</td>\n",
       "      <td>624</td>\n",
       "    </tr>\n",
       "    <tr>\n",
       "      <th>9</th>\n",
       "      <td>1870 - 1879</td>\n",
       "      <td>28</td>\n",
       "      <td>981</td>\n",
       "    </tr>\n",
       "    <tr>\n",
       "      <th>10</th>\n",
       "      <td>1880 - 1889</td>\n",
       "      <td>28</td>\n",
       "      <td>1595</td>\n",
       "    </tr>\n",
       "    <tr>\n",
       "      <th>11</th>\n",
       "      <td>1890 - 1899</td>\n",
       "      <td>27</td>\n",
       "      <td>1368</td>\n",
       "    </tr>\n",
       "    <tr>\n",
       "      <th>12</th>\n",
       "      <td>1900 - 1909</td>\n",
       "      <td>28</td>\n",
       "      <td>917</td>\n",
       "    </tr>\n",
       "    <tr>\n",
       "      <th>13</th>\n",
       "      <td>1910 - 1919</td>\n",
       "      <td>32</td>\n",
       "      <td>936</td>\n",
       "    </tr>\n",
       "    <tr>\n",
       "      <th>14</th>\n",
       "      <td>1920 - 1929</td>\n",
       "      <td>29</td>\n",
       "      <td>819</td>\n",
       "    </tr>\n",
       "    <tr>\n",
       "      <th>15</th>\n",
       "      <td>1930 - 1939</td>\n",
       "      <td>28</td>\n",
       "      <td>678</td>\n",
       "    </tr>\n",
       "    <tr>\n",
       "      <th>16</th>\n",
       "      <td>1940 - 1949</td>\n",
       "      <td>28</td>\n",
       "      <td>409</td>\n",
       "    </tr>\n",
       "    <tr>\n",
       "      <th>17</th>\n",
       "      <td>1950 - 1959</td>\n",
       "      <td>27</td>\n",
       "      <td>388</td>\n",
       "    </tr>\n",
       "    <tr>\n",
       "      <th>18</th>\n",
       "      <td>1960 - 1969</td>\n",
       "      <td>20</td>\n",
       "      <td>274</td>\n",
       "    </tr>\n",
       "    <tr>\n",
       "      <th>19</th>\n",
       "      <td>1970 - 1979</td>\n",
       "      <td>19</td>\n",
       "      <td>236</td>\n",
       "    </tr>\n",
       "    <tr>\n",
       "      <th>20</th>\n",
       "      <td>1980 - 1989</td>\n",
       "      <td>20</td>\n",
       "      <td>197</td>\n",
       "    </tr>\n",
       "    <tr>\n",
       "      <th>21</th>\n",
       "      <td>1990 - 1999</td>\n",
       "      <td>13</td>\n",
       "      <td>102</td>\n",
       "    </tr>\n",
       "    <tr>\n",
       "      <th>22</th>\n",
       "      <td>2000 - 2009</td>\n",
       "      <td>10</td>\n",
       "      <td>69</td>\n",
       "    </tr>\n",
       "    <tr>\n",
       "      <th>23</th>\n",
       "      <td>2010 - 2019</td>\n",
       "      <td>5</td>\n",
       "      <td>19</td>\n",
       "    </tr>\n",
       "    <tr>\n",
       "      <th>24</th>\n",
       "      <td>2020 - 2023</td>\n",
       "      <td>3</td>\n",
       "      <td>13</td>\n",
       "    </tr>\n",
       "    <tr>\n",
       "      <th>25</th>\n",
       "      <td>n.i.</td>\n",
       "      <td>14</td>\n",
       "      <td>57</td>\n",
       "    </tr>\n",
       "  </tbody>\n",
       "</table>\n",
       "</div>"
      ],
      "text/plain": [
       "        período  quantidade de locais   quantidade de periódicos\n",
       "0   1740 - 1749                     1                          1\n",
       "1   1760 - 1769                     1                          1\n",
       "2   1800 - 1809                     2                          3\n",
       "3   1810 - 1819                     8                         21\n",
       "4   1820 - 1829                    14                        130\n",
       "5   1830 - 1839                    22                        336\n",
       "6   1840 - 1849                    21                        383\n",
       "7   1850 - 1859                    25                        450\n",
       "8   1860 - 1869                    27                        624\n",
       "9   1870 - 1879                    28                        981\n",
       "10  1880 - 1889                    28                       1595\n",
       "11  1890 - 1899                    27                       1368\n",
       "12  1900 - 1909                    28                        917\n",
       "13  1910 - 1919                    32                        936\n",
       "14  1920 - 1929                    29                        819\n",
       "15  1930 - 1939                    28                        678\n",
       "16  1940 - 1949                    28                        409\n",
       "17  1950 - 1959                    27                        388\n",
       "18  1960 - 1969                    20                        274\n",
       "19  1970 - 1979                    19                        236\n",
       "20  1980 - 1989                    20                        197\n",
       "21  1990 - 1999                    13                        102\n",
       "22  2000 - 2009                    10                         69\n",
       "23  2010 - 2019                     5                         19\n",
       "24  2020 - 2023                     3                         13\n",
       "25         n.i.                    14                         57"
      ]
     },
     "execution_count": 9,
     "metadata": {},
     "output_type": "execute_result"
    }
   ],
   "source": [
    "df"
   ]
  },
  {
   "cell_type": "code",
   "execution_count": 10,
   "metadata": {},
   "outputs": [],
   "source": [
    "import plotly.express as px\n"
   ]
  },
  {
   "cell_type": "code",
   "execution_count": 14,
   "metadata": {},
   "outputs": [
    {
     "data": {
      "application/vnd.plotly.v1+json": {
       "config": {
        "plotlyServerURL": "https://plot.ly"
       },
       "data": [
        {
         "alignmentgroup": "True",
         "hovertemplate": "período=%{x}<br> quantidade de periódicos=%{y}<extra></extra>",
         "legendgroup": "1740 - 1749",
         "marker": {
          "color": "#636efa",
          "pattern": {
           "shape": ""
          }
         },
         "name": "1740 - 1749",
         "offsetgroup": "1740 - 1749",
         "orientation": "v",
         "showlegend": true,
         "textposition": "outside",
         "texttemplate": "%{value}",
         "type": "bar",
         "x": [
          "1740 - 1749"
         ],
         "xaxis": "x",
         "y": [
          1
         ],
         "yaxis": "y"
        },
        {
         "alignmentgroup": "True",
         "hovertemplate": "período=%{x}<br> quantidade de periódicos=%{y}<extra></extra>",
         "legendgroup": "1760 - 1769",
         "marker": {
          "color": "#EF553B",
          "pattern": {
           "shape": ""
          }
         },
         "name": "1760 - 1769",
         "offsetgroup": "1760 - 1769",
         "orientation": "v",
         "showlegend": true,
         "textposition": "outside",
         "texttemplate": "%{value}",
         "type": "bar",
         "x": [
          "1760 - 1769"
         ],
         "xaxis": "x",
         "y": [
          1
         ],
         "yaxis": "y"
        },
        {
         "alignmentgroup": "True",
         "hovertemplate": "período=%{x}<br> quantidade de periódicos=%{y}<extra></extra>",
         "legendgroup": "1800 - 1809",
         "marker": {
          "color": "#00cc96",
          "pattern": {
           "shape": ""
          }
         },
         "name": "1800 - 1809",
         "offsetgroup": "1800 - 1809",
         "orientation": "v",
         "showlegend": true,
         "textposition": "outside",
         "texttemplate": "%{value}",
         "type": "bar",
         "x": [
          "1800 - 1809"
         ],
         "xaxis": "x",
         "y": [
          3
         ],
         "yaxis": "y"
        },
        {
         "alignmentgroup": "True",
         "hovertemplate": "período=%{x}<br> quantidade de periódicos=%{y}<extra></extra>",
         "legendgroup": "1810 - 1819",
         "marker": {
          "color": "#ab63fa",
          "pattern": {
           "shape": ""
          }
         },
         "name": "1810 - 1819",
         "offsetgroup": "1810 - 1819",
         "orientation": "v",
         "showlegend": true,
         "textposition": "outside",
         "texttemplate": "%{value}",
         "type": "bar",
         "x": [
          "1810 - 1819"
         ],
         "xaxis": "x",
         "y": [
          21
         ],
         "yaxis": "y"
        },
        {
         "alignmentgroup": "True",
         "hovertemplate": "período=%{x}<br> quantidade de periódicos=%{y}<extra></extra>",
         "legendgroup": "1820 - 1829",
         "marker": {
          "color": "#FFA15A",
          "pattern": {
           "shape": ""
          }
         },
         "name": "1820 - 1829",
         "offsetgroup": "1820 - 1829",
         "orientation": "v",
         "showlegend": true,
         "textposition": "outside",
         "texttemplate": "%{value}",
         "type": "bar",
         "x": [
          "1820 - 1829"
         ],
         "xaxis": "x",
         "y": [
          130
         ],
         "yaxis": "y"
        },
        {
         "alignmentgroup": "True",
         "hovertemplate": "período=%{x}<br> quantidade de periódicos=%{y}<extra></extra>",
         "legendgroup": "1830 - 1839",
         "marker": {
          "color": "#19d3f3",
          "pattern": {
           "shape": ""
          }
         },
         "name": "1830 - 1839",
         "offsetgroup": "1830 - 1839",
         "orientation": "v",
         "showlegend": true,
         "textposition": "outside",
         "texttemplate": "%{value}",
         "type": "bar",
         "x": [
          "1830 - 1839"
         ],
         "xaxis": "x",
         "y": [
          336
         ],
         "yaxis": "y"
        },
        {
         "alignmentgroup": "True",
         "hovertemplate": "período=%{x}<br> quantidade de periódicos=%{y}<extra></extra>",
         "legendgroup": "1840 - 1849",
         "marker": {
          "color": "#FF6692",
          "pattern": {
           "shape": ""
          }
         },
         "name": "1840 - 1849",
         "offsetgroup": "1840 - 1849",
         "orientation": "v",
         "showlegend": true,
         "textposition": "outside",
         "texttemplate": "%{value}",
         "type": "bar",
         "x": [
          "1840 - 1849"
         ],
         "xaxis": "x",
         "y": [
          383
         ],
         "yaxis": "y"
        },
        {
         "alignmentgroup": "True",
         "hovertemplate": "período=%{x}<br> quantidade de periódicos=%{y}<extra></extra>",
         "legendgroup": "1850 - 1859",
         "marker": {
          "color": "#B6E880",
          "pattern": {
           "shape": ""
          }
         },
         "name": "1850 - 1859",
         "offsetgroup": "1850 - 1859",
         "orientation": "v",
         "showlegend": true,
         "textposition": "outside",
         "texttemplate": "%{value}",
         "type": "bar",
         "x": [
          "1850 - 1859"
         ],
         "xaxis": "x",
         "y": [
          450
         ],
         "yaxis": "y"
        },
        {
         "alignmentgroup": "True",
         "hovertemplate": "período=%{x}<br> quantidade de periódicos=%{y}<extra></extra>",
         "legendgroup": "1860 - 1869",
         "marker": {
          "color": "#FF97FF",
          "pattern": {
           "shape": ""
          }
         },
         "name": "1860 - 1869",
         "offsetgroup": "1860 - 1869",
         "orientation": "v",
         "showlegend": true,
         "textposition": "outside",
         "texttemplate": "%{value}",
         "type": "bar",
         "x": [
          "1860 - 1869"
         ],
         "xaxis": "x",
         "y": [
          624
         ],
         "yaxis": "y"
        },
        {
         "alignmentgroup": "True",
         "hovertemplate": "período=%{x}<br> quantidade de periódicos=%{y}<extra></extra>",
         "legendgroup": "1870 - 1879",
         "marker": {
          "color": "#FECB52",
          "pattern": {
           "shape": ""
          }
         },
         "name": "1870 - 1879",
         "offsetgroup": "1870 - 1879",
         "orientation": "v",
         "showlegend": true,
         "textposition": "outside",
         "texttemplate": "%{value}",
         "type": "bar",
         "x": [
          "1870 - 1879"
         ],
         "xaxis": "x",
         "y": [
          981
         ],
         "yaxis": "y"
        },
        {
         "alignmentgroup": "True",
         "hovertemplate": "período=%{x}<br> quantidade de periódicos=%{y}<extra></extra>",
         "legendgroup": "1880 - 1889",
         "marker": {
          "color": "#636efa",
          "pattern": {
           "shape": ""
          }
         },
         "name": "1880 - 1889",
         "offsetgroup": "1880 - 1889",
         "orientation": "v",
         "showlegend": true,
         "textposition": "outside",
         "texttemplate": "%{value}",
         "type": "bar",
         "x": [
          "1880 - 1889"
         ],
         "xaxis": "x",
         "y": [
          1595
         ],
         "yaxis": "y"
        },
        {
         "alignmentgroup": "True",
         "hovertemplate": "período=%{x}<br> quantidade de periódicos=%{y}<extra></extra>",
         "legendgroup": "1890 - 1899",
         "marker": {
          "color": "#EF553B",
          "pattern": {
           "shape": ""
          }
         },
         "name": "1890 - 1899",
         "offsetgroup": "1890 - 1899",
         "orientation": "v",
         "showlegend": true,
         "textposition": "outside",
         "texttemplate": "%{value}",
         "type": "bar",
         "x": [
          "1890 - 1899"
         ],
         "xaxis": "x",
         "y": [
          1368
         ],
         "yaxis": "y"
        },
        {
         "alignmentgroup": "True",
         "hovertemplate": "período=%{x}<br> quantidade de periódicos=%{y}<extra></extra>",
         "legendgroup": "1900 - 1909",
         "marker": {
          "color": "#00cc96",
          "pattern": {
           "shape": ""
          }
         },
         "name": "1900 - 1909",
         "offsetgroup": "1900 - 1909",
         "orientation": "v",
         "showlegend": true,
         "textposition": "outside",
         "texttemplate": "%{value}",
         "type": "bar",
         "x": [
          "1900 - 1909"
         ],
         "xaxis": "x",
         "y": [
          917
         ],
         "yaxis": "y"
        },
        {
         "alignmentgroup": "True",
         "hovertemplate": "período=%{x}<br> quantidade de periódicos=%{y}<extra></extra>",
         "legendgroup": "1910 - 1919",
         "marker": {
          "color": "#ab63fa",
          "pattern": {
           "shape": ""
          }
         },
         "name": "1910 - 1919",
         "offsetgroup": "1910 - 1919",
         "orientation": "v",
         "showlegend": true,
         "textposition": "outside",
         "texttemplate": "%{value}",
         "type": "bar",
         "x": [
          "1910 - 1919"
         ],
         "xaxis": "x",
         "y": [
          936
         ],
         "yaxis": "y"
        },
        {
         "alignmentgroup": "True",
         "hovertemplate": "período=%{x}<br> quantidade de periódicos=%{y}<extra></extra>",
         "legendgroup": "1920 - 1929",
         "marker": {
          "color": "#FFA15A",
          "pattern": {
           "shape": ""
          }
         },
         "name": "1920 - 1929",
         "offsetgroup": "1920 - 1929",
         "orientation": "v",
         "showlegend": true,
         "textposition": "outside",
         "texttemplate": "%{value}",
         "type": "bar",
         "x": [
          "1920 - 1929"
         ],
         "xaxis": "x",
         "y": [
          819
         ],
         "yaxis": "y"
        },
        {
         "alignmentgroup": "True",
         "hovertemplate": "período=%{x}<br> quantidade de periódicos=%{y}<extra></extra>",
         "legendgroup": "1930 - 1939",
         "marker": {
          "color": "#19d3f3",
          "pattern": {
           "shape": ""
          }
         },
         "name": "1930 - 1939",
         "offsetgroup": "1930 - 1939",
         "orientation": "v",
         "showlegend": true,
         "textposition": "outside",
         "texttemplate": "%{value}",
         "type": "bar",
         "x": [
          "1930 - 1939"
         ],
         "xaxis": "x",
         "y": [
          678
         ],
         "yaxis": "y"
        },
        {
         "alignmentgroup": "True",
         "hovertemplate": "período=%{x}<br> quantidade de periódicos=%{y}<extra></extra>",
         "legendgroup": "1940 - 1949",
         "marker": {
          "color": "#FF6692",
          "pattern": {
           "shape": ""
          }
         },
         "name": "1940 - 1949",
         "offsetgroup": "1940 - 1949",
         "orientation": "v",
         "showlegend": true,
         "textposition": "outside",
         "texttemplate": "%{value}",
         "type": "bar",
         "x": [
          "1940 - 1949"
         ],
         "xaxis": "x",
         "y": [
          409
         ],
         "yaxis": "y"
        },
        {
         "alignmentgroup": "True",
         "hovertemplate": "período=%{x}<br> quantidade de periódicos=%{y}<extra></extra>",
         "legendgroup": "1950 - 1959",
         "marker": {
          "color": "#B6E880",
          "pattern": {
           "shape": ""
          }
         },
         "name": "1950 - 1959",
         "offsetgroup": "1950 - 1959",
         "orientation": "v",
         "showlegend": true,
         "textposition": "outside",
         "texttemplate": "%{value}",
         "type": "bar",
         "x": [
          "1950 - 1959"
         ],
         "xaxis": "x",
         "y": [
          388
         ],
         "yaxis": "y"
        },
        {
         "alignmentgroup": "True",
         "hovertemplate": "período=%{x}<br> quantidade de periódicos=%{y}<extra></extra>",
         "legendgroup": "1960 - 1969",
         "marker": {
          "color": "#FF97FF",
          "pattern": {
           "shape": ""
          }
         },
         "name": "1960 - 1969",
         "offsetgroup": "1960 - 1969",
         "orientation": "v",
         "showlegend": true,
         "textposition": "outside",
         "texttemplate": "%{value}",
         "type": "bar",
         "x": [
          "1960 - 1969"
         ],
         "xaxis": "x",
         "y": [
          274
         ],
         "yaxis": "y"
        },
        {
         "alignmentgroup": "True",
         "hovertemplate": "período=%{x}<br> quantidade de periódicos=%{y}<extra></extra>",
         "legendgroup": "1970 - 1979",
         "marker": {
          "color": "#FECB52",
          "pattern": {
           "shape": ""
          }
         },
         "name": "1970 - 1979",
         "offsetgroup": "1970 - 1979",
         "orientation": "v",
         "showlegend": true,
         "textposition": "outside",
         "texttemplate": "%{value}",
         "type": "bar",
         "x": [
          "1970 - 1979"
         ],
         "xaxis": "x",
         "y": [
          236
         ],
         "yaxis": "y"
        },
        {
         "alignmentgroup": "True",
         "hovertemplate": "período=%{x}<br> quantidade de periódicos=%{y}<extra></extra>",
         "legendgroup": "1980 - 1989",
         "marker": {
          "color": "#636efa",
          "pattern": {
           "shape": ""
          }
         },
         "name": "1980 - 1989",
         "offsetgroup": "1980 - 1989",
         "orientation": "v",
         "showlegend": true,
         "textposition": "outside",
         "texttemplate": "%{value}",
         "type": "bar",
         "x": [
          "1980 - 1989"
         ],
         "xaxis": "x",
         "y": [
          197
         ],
         "yaxis": "y"
        },
        {
         "alignmentgroup": "True",
         "hovertemplate": "período=%{x}<br> quantidade de periódicos=%{y}<extra></extra>",
         "legendgroup": "1990 - 1999",
         "marker": {
          "color": "#EF553B",
          "pattern": {
           "shape": ""
          }
         },
         "name": "1990 - 1999",
         "offsetgroup": "1990 - 1999",
         "orientation": "v",
         "showlegend": true,
         "textposition": "outside",
         "texttemplate": "%{value}",
         "type": "bar",
         "x": [
          "1990 - 1999"
         ],
         "xaxis": "x",
         "y": [
          102
         ],
         "yaxis": "y"
        },
        {
         "alignmentgroup": "True",
         "hovertemplate": "período=%{x}<br> quantidade de periódicos=%{y}<extra></extra>",
         "legendgroup": "2000 - 2009",
         "marker": {
          "color": "#00cc96",
          "pattern": {
           "shape": ""
          }
         },
         "name": "2000 - 2009",
         "offsetgroup": "2000 - 2009",
         "orientation": "v",
         "showlegend": true,
         "textposition": "outside",
         "texttemplate": "%{value}",
         "type": "bar",
         "x": [
          "2000 - 2009"
         ],
         "xaxis": "x",
         "y": [
          69
         ],
         "yaxis": "y"
        },
        {
         "alignmentgroup": "True",
         "hovertemplate": "período=%{x}<br> quantidade de periódicos=%{y}<extra></extra>",
         "legendgroup": "2010 - 2019",
         "marker": {
          "color": "#ab63fa",
          "pattern": {
           "shape": ""
          }
         },
         "name": "2010 - 2019",
         "offsetgroup": "2010 - 2019",
         "orientation": "v",
         "showlegend": true,
         "textposition": "outside",
         "texttemplate": "%{value}",
         "type": "bar",
         "x": [
          "2010 - 2019"
         ],
         "xaxis": "x",
         "y": [
          19
         ],
         "yaxis": "y"
        },
        {
         "alignmentgroup": "True",
         "hovertemplate": "período=%{x}<br> quantidade de periódicos=%{y}<extra></extra>",
         "legendgroup": "2020 - 2023",
         "marker": {
          "color": "#FFA15A",
          "pattern": {
           "shape": ""
          }
         },
         "name": "2020 - 2023",
         "offsetgroup": "2020 - 2023",
         "orientation": "v",
         "showlegend": true,
         "textposition": "outside",
         "texttemplate": "%{value}",
         "type": "bar",
         "x": [
          "2020 - 2023"
         ],
         "xaxis": "x",
         "y": [
          13
         ],
         "yaxis": "y"
        },
        {
         "alignmentgroup": "True",
         "hovertemplate": "período=%{x}<br> quantidade de periódicos=%{y}<extra></extra>",
         "legendgroup": "n.i.",
         "marker": {
          "color": "#19d3f3",
          "pattern": {
           "shape": ""
          }
         },
         "name": "n.i.",
         "offsetgroup": "n.i.",
         "orientation": "v",
         "showlegend": true,
         "textposition": "outside",
         "texttemplate": "%{value}",
         "type": "bar",
         "x": [
          "n.i."
         ],
         "xaxis": "x",
         "y": [
          57
         ],
         "yaxis": "y"
        }
       ],
       "layout": {
        "barmode": "relative",
        "height": 600,
        "legend": {
         "title": {
          "text": "período"
         },
         "tracegroupgap": 0
        },
        "template": {
         "data": {
          "bar": [
           {
            "error_x": {
             "color": "#2a3f5f"
            },
            "error_y": {
             "color": "#2a3f5f"
            },
            "marker": {
             "line": {
              "color": "#E5ECF6",
              "width": 0.5
             },
             "pattern": {
              "fillmode": "overlay",
              "size": 10,
              "solidity": 0.2
             }
            },
            "type": "bar"
           }
          ],
          "barpolar": [
           {
            "marker": {
             "line": {
              "color": "#E5ECF6",
              "width": 0.5
             },
             "pattern": {
              "fillmode": "overlay",
              "size": 10,
              "solidity": 0.2
             }
            },
            "type": "barpolar"
           }
          ],
          "carpet": [
           {
            "aaxis": {
             "endlinecolor": "#2a3f5f",
             "gridcolor": "white",
             "linecolor": "white",
             "minorgridcolor": "white",
             "startlinecolor": "#2a3f5f"
            },
            "baxis": {
             "endlinecolor": "#2a3f5f",
             "gridcolor": "white",
             "linecolor": "white",
             "minorgridcolor": "white",
             "startlinecolor": "#2a3f5f"
            },
            "type": "carpet"
           }
          ],
          "choropleth": [
           {
            "colorbar": {
             "outlinewidth": 0,
             "ticks": ""
            },
            "type": "choropleth"
           }
          ],
          "contour": [
           {
            "colorbar": {
             "outlinewidth": 0,
             "ticks": ""
            },
            "colorscale": [
             [
              0,
              "#0d0887"
             ],
             [
              0.1111111111111111,
              "#46039f"
             ],
             [
              0.2222222222222222,
              "#7201a8"
             ],
             [
              0.3333333333333333,
              "#9c179e"
             ],
             [
              0.4444444444444444,
              "#bd3786"
             ],
             [
              0.5555555555555556,
              "#d8576b"
             ],
             [
              0.6666666666666666,
              "#ed7953"
             ],
             [
              0.7777777777777778,
              "#fb9f3a"
             ],
             [
              0.8888888888888888,
              "#fdca26"
             ],
             [
              1,
              "#f0f921"
             ]
            ],
            "type": "contour"
           }
          ],
          "contourcarpet": [
           {
            "colorbar": {
             "outlinewidth": 0,
             "ticks": ""
            },
            "type": "contourcarpet"
           }
          ],
          "heatmap": [
           {
            "colorbar": {
             "outlinewidth": 0,
             "ticks": ""
            },
            "colorscale": [
             [
              0,
              "#0d0887"
             ],
             [
              0.1111111111111111,
              "#46039f"
             ],
             [
              0.2222222222222222,
              "#7201a8"
             ],
             [
              0.3333333333333333,
              "#9c179e"
             ],
             [
              0.4444444444444444,
              "#bd3786"
             ],
             [
              0.5555555555555556,
              "#d8576b"
             ],
             [
              0.6666666666666666,
              "#ed7953"
             ],
             [
              0.7777777777777778,
              "#fb9f3a"
             ],
             [
              0.8888888888888888,
              "#fdca26"
             ],
             [
              1,
              "#f0f921"
             ]
            ],
            "type": "heatmap"
           }
          ],
          "heatmapgl": [
           {
            "colorbar": {
             "outlinewidth": 0,
             "ticks": ""
            },
            "colorscale": [
             [
              0,
              "#0d0887"
             ],
             [
              0.1111111111111111,
              "#46039f"
             ],
             [
              0.2222222222222222,
              "#7201a8"
             ],
             [
              0.3333333333333333,
              "#9c179e"
             ],
             [
              0.4444444444444444,
              "#bd3786"
             ],
             [
              0.5555555555555556,
              "#d8576b"
             ],
             [
              0.6666666666666666,
              "#ed7953"
             ],
             [
              0.7777777777777778,
              "#fb9f3a"
             ],
             [
              0.8888888888888888,
              "#fdca26"
             ],
             [
              1,
              "#f0f921"
             ]
            ],
            "type": "heatmapgl"
           }
          ],
          "histogram": [
           {
            "marker": {
             "pattern": {
              "fillmode": "overlay",
              "size": 10,
              "solidity": 0.2
             }
            },
            "type": "histogram"
           }
          ],
          "histogram2d": [
           {
            "colorbar": {
             "outlinewidth": 0,
             "ticks": ""
            },
            "colorscale": [
             [
              0,
              "#0d0887"
             ],
             [
              0.1111111111111111,
              "#46039f"
             ],
             [
              0.2222222222222222,
              "#7201a8"
             ],
             [
              0.3333333333333333,
              "#9c179e"
             ],
             [
              0.4444444444444444,
              "#bd3786"
             ],
             [
              0.5555555555555556,
              "#d8576b"
             ],
             [
              0.6666666666666666,
              "#ed7953"
             ],
             [
              0.7777777777777778,
              "#fb9f3a"
             ],
             [
              0.8888888888888888,
              "#fdca26"
             ],
             [
              1,
              "#f0f921"
             ]
            ],
            "type": "histogram2d"
           }
          ],
          "histogram2dcontour": [
           {
            "colorbar": {
             "outlinewidth": 0,
             "ticks": ""
            },
            "colorscale": [
             [
              0,
              "#0d0887"
             ],
             [
              0.1111111111111111,
              "#46039f"
             ],
             [
              0.2222222222222222,
              "#7201a8"
             ],
             [
              0.3333333333333333,
              "#9c179e"
             ],
             [
              0.4444444444444444,
              "#bd3786"
             ],
             [
              0.5555555555555556,
              "#d8576b"
             ],
             [
              0.6666666666666666,
              "#ed7953"
             ],
             [
              0.7777777777777778,
              "#fb9f3a"
             ],
             [
              0.8888888888888888,
              "#fdca26"
             ],
             [
              1,
              "#f0f921"
             ]
            ],
            "type": "histogram2dcontour"
           }
          ],
          "mesh3d": [
           {
            "colorbar": {
             "outlinewidth": 0,
             "ticks": ""
            },
            "type": "mesh3d"
           }
          ],
          "parcoords": [
           {
            "line": {
             "colorbar": {
              "outlinewidth": 0,
              "ticks": ""
             }
            },
            "type": "parcoords"
           }
          ],
          "pie": [
           {
            "automargin": true,
            "type": "pie"
           }
          ],
          "scatter": [
           {
            "fillpattern": {
             "fillmode": "overlay",
             "size": 10,
             "solidity": 0.2
            },
            "type": "scatter"
           }
          ],
          "scatter3d": [
           {
            "line": {
             "colorbar": {
              "outlinewidth": 0,
              "ticks": ""
             }
            },
            "marker": {
             "colorbar": {
              "outlinewidth": 0,
              "ticks": ""
             }
            },
            "type": "scatter3d"
           }
          ],
          "scattercarpet": [
           {
            "marker": {
             "colorbar": {
              "outlinewidth": 0,
              "ticks": ""
             }
            },
            "type": "scattercarpet"
           }
          ],
          "scattergeo": [
           {
            "marker": {
             "colorbar": {
              "outlinewidth": 0,
              "ticks": ""
             }
            },
            "type": "scattergeo"
           }
          ],
          "scattergl": [
           {
            "marker": {
             "colorbar": {
              "outlinewidth": 0,
              "ticks": ""
             }
            },
            "type": "scattergl"
           }
          ],
          "scattermapbox": [
           {
            "marker": {
             "colorbar": {
              "outlinewidth": 0,
              "ticks": ""
             }
            },
            "type": "scattermapbox"
           }
          ],
          "scatterpolar": [
           {
            "marker": {
             "colorbar": {
              "outlinewidth": 0,
              "ticks": ""
             }
            },
            "type": "scatterpolar"
           }
          ],
          "scatterpolargl": [
           {
            "marker": {
             "colorbar": {
              "outlinewidth": 0,
              "ticks": ""
             }
            },
            "type": "scatterpolargl"
           }
          ],
          "scatterternary": [
           {
            "marker": {
             "colorbar": {
              "outlinewidth": 0,
              "ticks": ""
             }
            },
            "type": "scatterternary"
           }
          ],
          "surface": [
           {
            "colorbar": {
             "outlinewidth": 0,
             "ticks": ""
            },
            "colorscale": [
             [
              0,
              "#0d0887"
             ],
             [
              0.1111111111111111,
              "#46039f"
             ],
             [
              0.2222222222222222,
              "#7201a8"
             ],
             [
              0.3333333333333333,
              "#9c179e"
             ],
             [
              0.4444444444444444,
              "#bd3786"
             ],
             [
              0.5555555555555556,
              "#d8576b"
             ],
             [
              0.6666666666666666,
              "#ed7953"
             ],
             [
              0.7777777777777778,
              "#fb9f3a"
             ],
             [
              0.8888888888888888,
              "#fdca26"
             ],
             [
              1,
              "#f0f921"
             ]
            ],
            "type": "surface"
           }
          ],
          "table": [
           {
            "cells": {
             "fill": {
              "color": "#EBF0F8"
             },
             "line": {
              "color": "white"
             }
            },
            "header": {
             "fill": {
              "color": "#C8D4E3"
             },
             "line": {
              "color": "white"
             }
            },
            "type": "table"
           }
          ]
         },
         "layout": {
          "annotationdefaults": {
           "arrowcolor": "#2a3f5f",
           "arrowhead": 0,
           "arrowwidth": 1
          },
          "autotypenumbers": "strict",
          "coloraxis": {
           "colorbar": {
            "outlinewidth": 0,
            "ticks": ""
           }
          },
          "colorscale": {
           "diverging": [
            [
             0,
             "#8e0152"
            ],
            [
             0.1,
             "#c51b7d"
            ],
            [
             0.2,
             "#de77ae"
            ],
            [
             0.3,
             "#f1b6da"
            ],
            [
             0.4,
             "#fde0ef"
            ],
            [
             0.5,
             "#f7f7f7"
            ],
            [
             0.6,
             "#e6f5d0"
            ],
            [
             0.7,
             "#b8e186"
            ],
            [
             0.8,
             "#7fbc41"
            ],
            [
             0.9,
             "#4d9221"
            ],
            [
             1,
             "#276419"
            ]
           ],
           "sequential": [
            [
             0,
             "#0d0887"
            ],
            [
             0.1111111111111111,
             "#46039f"
            ],
            [
             0.2222222222222222,
             "#7201a8"
            ],
            [
             0.3333333333333333,
             "#9c179e"
            ],
            [
             0.4444444444444444,
             "#bd3786"
            ],
            [
             0.5555555555555556,
             "#d8576b"
            ],
            [
             0.6666666666666666,
             "#ed7953"
            ],
            [
             0.7777777777777778,
             "#fb9f3a"
            ],
            [
             0.8888888888888888,
             "#fdca26"
            ],
            [
             1,
             "#f0f921"
            ]
           ],
           "sequentialminus": [
            [
             0,
             "#0d0887"
            ],
            [
             0.1111111111111111,
             "#46039f"
            ],
            [
             0.2222222222222222,
             "#7201a8"
            ],
            [
             0.3333333333333333,
             "#9c179e"
            ],
            [
             0.4444444444444444,
             "#bd3786"
            ],
            [
             0.5555555555555556,
             "#d8576b"
            ],
            [
             0.6666666666666666,
             "#ed7953"
            ],
            [
             0.7777777777777778,
             "#fb9f3a"
            ],
            [
             0.8888888888888888,
             "#fdca26"
            ],
            [
             1,
             "#f0f921"
            ]
           ]
          },
          "colorway": [
           "#636efa",
           "#EF553B",
           "#00cc96",
           "#ab63fa",
           "#FFA15A",
           "#19d3f3",
           "#FF6692",
           "#B6E880",
           "#FF97FF",
           "#FECB52"
          ],
          "font": {
           "color": "#2a3f5f"
          },
          "geo": {
           "bgcolor": "white",
           "lakecolor": "white",
           "landcolor": "#E5ECF6",
           "showlakes": true,
           "showland": true,
           "subunitcolor": "white"
          },
          "hoverlabel": {
           "align": "left"
          },
          "hovermode": "closest",
          "mapbox": {
           "style": "light"
          },
          "paper_bgcolor": "white",
          "plot_bgcolor": "#E5ECF6",
          "polar": {
           "angularaxis": {
            "gridcolor": "white",
            "linecolor": "white",
            "ticks": ""
           },
           "bgcolor": "#E5ECF6",
           "radialaxis": {
            "gridcolor": "white",
            "linecolor": "white",
            "ticks": ""
           }
          },
          "scene": {
           "xaxis": {
            "backgroundcolor": "#E5ECF6",
            "gridcolor": "white",
            "gridwidth": 2,
            "linecolor": "white",
            "showbackground": true,
            "ticks": "",
            "zerolinecolor": "white"
           },
           "yaxis": {
            "backgroundcolor": "#E5ECF6",
            "gridcolor": "white",
            "gridwidth": 2,
            "linecolor": "white",
            "showbackground": true,
            "ticks": "",
            "zerolinecolor": "white"
           },
           "zaxis": {
            "backgroundcolor": "#E5ECF6",
            "gridcolor": "white",
            "gridwidth": 2,
            "linecolor": "white",
            "showbackground": true,
            "ticks": "",
            "zerolinecolor": "white"
           }
          },
          "shapedefaults": {
           "line": {
            "color": "#2a3f5f"
           }
          },
          "ternary": {
           "aaxis": {
            "gridcolor": "white",
            "linecolor": "white",
            "ticks": ""
           },
           "baxis": {
            "gridcolor": "white",
            "linecolor": "white",
            "ticks": ""
           },
           "bgcolor": "#E5ECF6",
           "caxis": {
            "gridcolor": "white",
            "linecolor": "white",
            "ticks": ""
           }
          },
          "title": {
           "x": 0.05
          },
          "xaxis": {
           "automargin": true,
           "gridcolor": "white",
           "linecolor": "white",
           "ticks": "",
           "title": {
            "standoff": 15
           },
           "zerolinecolor": "white",
           "zerolinewidth": 2
          },
          "yaxis": {
           "automargin": true,
           "gridcolor": "white",
           "linecolor": "white",
           "ticks": "",
           "title": {
            "standoff": 15
           },
           "zerolinecolor": "white",
           "zerolinewidth": 2
          }
         }
        },
        "title": {
         "text": "HDB - Quantidade de itens por década"
        },
        "width": 1200,
        "xaxis": {
         "anchor": "y",
         "categoryarray": [
          "1740 - 1749",
          "1760 - 1769",
          "1800 - 1809",
          "1810 - 1819",
          "1820 - 1829",
          "1830 - 1839",
          "1840 - 1849",
          "1850 - 1859",
          "1860 - 1869",
          "1870 - 1879",
          "1880 - 1889",
          "1890 - 1899",
          "1900 - 1909",
          "1910 - 1919",
          "1920 - 1929",
          "1930 - 1939",
          "1940 - 1949",
          "1950 - 1959",
          "1960 - 1969",
          "1970 - 1979",
          "1980 - 1989",
          "1990 - 1999",
          "2000 - 2009",
          "2010 - 2019",
          "2020 - 2023",
          "n.i."
         ],
         "categoryorder": "array",
         "domain": [
          0,
          1
         ],
         "title": {
          "text": "período"
         }
        },
        "yaxis": {
         "anchor": "x",
         "domain": [
          0,
          1
         ],
         "title": {
          "text": " quantidade de periódicos"
         }
        }
       }
      }
     },
     "metadata": {},
     "output_type": "display_data"
    }
   ],
   "source": [
    "# criar gráfico de barras com a quantidade de itens por década\n",
    "fig = px.bar(df, x='período', y=' quantidade de periódicos', color='período', title='HDB - Quantidade de itens por década')\n",
    "# add values in bars\n",
    "fig.update_traces(texttemplate='%{value}', textposition='outside')\n",
    "# define o tamanho da figura\n",
    "fig.update_layout(height=600, width=1200)\n",
    "fig.show()"
   ]
  },
  {
   "cell_type": "code",
   "execution_count": 15,
   "metadata": {},
   "outputs": [],
   "source": [
    "# save as html\n",
    "fig.write_html(\"periodicos_dec.html\")"
   ]
  },
  {
   "cell_type": "code",
   "execution_count": 16,
   "metadata": {},
   "outputs": [],
   "source": [
    "# save as image\n",
    "fig.write_image(\"periodicos_dec.png\")"
   ]
  },
  {
   "cell_type": "code",
   "execution_count": null,
   "metadata": {},
   "outputs": [],
   "source": []
  }
 ],
 "metadata": {
  "kernelspec": {
   "display_name": "Python 3",
   "language": "python",
   "name": "python3"
  },
  "language_info": {
   "codemirror_mode": {
    "name": "ipython",
    "version": 3
   },
   "file_extension": ".py",
   "mimetype": "text/x-python",
   "name": "python",
   "nbconvert_exporter": "python",
   "pygments_lexer": "ipython3",
   "version": "3.10.6"
  },
  "orig_nbformat": 4
 },
 "nbformat": 4,
 "nbformat_minor": 2
}
