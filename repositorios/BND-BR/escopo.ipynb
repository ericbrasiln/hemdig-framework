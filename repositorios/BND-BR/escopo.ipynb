{
 "cells": [
  {
   "attachments": {},
   "cell_type": "markdown",
   "metadata": {},
   "source": [
    "# Hemeroteca Digital Brasileira, Fundação Biblioteca Nacional, Brasil\n",
    "\n",
    "Nesse notebook, vamos limpar e apresentar os dados disponibilizados pela BNP em seu sítio de dados abertos. Buscaremos compreender o escopo do acervo digitalizado e disponibilizado e ao mesmo tempo apresentar suas características gerais.\n",
    "\n",
    "- Link: [http://memoria.bn.br/hdb/](http://memoria.bn.br/hdb/)\n",
    "- Tipos de materiais: Periódicos, Almanaques, Anais.\n",
    "- Recorte temporal: 1740-2023\n",
    "- Recorte espacial: (majoritariamente) Brasil\n",
    "- Ferramenta de suporte: [pyHDB](https://ericbrasiln.github.io/pyHDB/)"
   ]
  },
  {
   "attachments": {},
   "cell_type": "markdown",
   "metadata": {},
   "source": [
    "## Dados Abertos da Biblioteca Nacional do Brasil"
   ]
  },
  {
   "attachments": {},
   "cell_type": "markdown",
   "metadata": {},
   "source": [
    "No sítio da Fundação Biblioteca Nacional, encontramos uma seção específica para os [dados abertos](https://www.gov.br/bn/pt-br/acesso-a-informacao-2/dados-abertos/dados-abertos). A instituição, como parte do poder executivo federal está subordinada à legislação que rege a política de dados abertos do governo federal:\n",
    "\n",
    ">A política de Dados Abertos do poder executivo federal foi instituída pelo Decreto nº 8.777, de 11 de maio de 2016, e a ação tem por objetivo geral promover a abertura de dados do Governo, amparada pelos princípios da publicidade, transparência e eficiência, buscando tornar possível a completa disseminação de dados contendo informações de interesse público. O resultado esperado pela abertura é a efetiva participação social na res pública, elemento essencial que a legitima. \n",
    "\n",
    ">Como objetivos específicos do Plano de Dados Abertos, podemos destacar:\n",
    "\n",
    ">- O controle social: decorrente da disseminação da informação;\n",
    ">- Aprimoramento da máquina estatal: a abertura de dados possibilitará a construção de mais eficientes processos e soluções;\n",
    ">- Inovação: a veracidade dos dados e sua abertura universal possibilitará à sociedade elaborar propostas inovadoras no campo privado.  \n",
    "\n",
    ">O espírito que permeia a política de dados abertos é a transparência absoluta e, neste sentido, todos dados são públicos salvo exceções devidamente justificadas. "
   ]
  },
  {
   "attachments": {},
   "cell_type": "markdown",
   "metadata": {},
   "source": [
    "Entretanto, ss dados referentes a periódicos disponibilizados atualmente pela Fundação Biblioteca Nacional correspondem apenas ao acervo digitalizado e incorporado nos anos de 2019 e 2020.\n",
    "\n",
    "Os dados, em formato `csv`, podem ser baixados na [página de acesso à informação do site da Fundação Biblioteca Nacional](https://www.gov.br/bn/pt-br/acesso-a-informacao-2/dados-abertos/dados-abertos)."
   ]
  },
  {
   "attachments": {},
   "cell_type": "markdown",
   "metadata": {},
   "source": [
    "## Coleta dos dados"
   ]
  },
  {
   "attachments": {},
   "cell_type": "markdown",
   "metadata": {},
   "source": [
    "O primeiro passo foi realizar o download dos ficheiros `csv` disponibilizados pela Fundação Biblioteca Nacional (se referem aos acervo de periódicos digitalizados e incorporados à BNDigital): [2019](../BND-BR/bnd-br_periodicos_2019.csv) e [2020](../BND-BR/bnd-br_periodicos_2020.csv).\n",
    "\n",
    "Diante da impossibilidade de acessar os dados gerais da HDB, realizei análise manual na interface gráfica de busca no dia 01 de junho de 2023, buscando o escopo geral dos dados disponíveis.\n",
    "\n",
    "Inicialmente, inseri o parâmetro <Período> e o primeiro recorde temporal disponível: <1740 - 1779>. Um único item para <Local>: *Lisboa, POR* e um <Periódico>: *Folheto de Lisboa : Entre Douro e Minho (Lisboa, POR)*. O príodo seguinte, 1760 - 1769, também possui um periódico de Lisboa, o *Hebdomadario Lisbonense (Lisboa, POR)*. \n",
    "\n",
    "O último item no parâmetro período é <2020 - 2023>, onde encontramos periódicos do Rio de Janeiro (3), São Paulo (3) e Santa Catarina (7)."
   ]
  },
  {
   "attachments": {},
   "cell_type": "markdown",
   "metadata": {},
   "source": [
    "| Período | Local | Periódico |\n",
    "| ------- | ----- | --------- |\n",
    "| 1740 - 1779 | Lisboa, POR |  Folheto de Lisboa : Entre Douro e Minho (Lisboa, POR) |\n",
    "| 1760 - 1769 | Lisboa, POR |  Hebdomadario Lisbonense (Lisboa, POR) |\n",
    "| 2020 - 2023 | RJ | Conjuntura Econômica (RJ) |\n",
    "| 2020 - 2023 | RJ | Revista do Instituto Histórico e Geographico do Brazil (RJ) |\n",
    "| 2020 - 2023 | RJ | Revista Saúde em Debate (RJ) |\n",
    "| 2020 - 2023 | SP | A Tribuna (SP) |\n",
    "| 2020 - 2023 | SP | AT Revista (SP) |\n",
    "| 2020 - 2023 | SP | Jornal do Boqueirão (SP) |\n",
    "| 2020 - 2023 | SC | Cooperalfa (SC) |\n",
    "| 2020 - 2023 | SC | Correio do Norte (SC) |\n",
    "| 2020 - 2023 | SC | Cruzeiro do Vale (SC) |\n",
    "| 2020 - 2023 | SC | Folha de Coqueiros (SC) |\n",
    "| 2020 - 2023 | SC | Jornal do Zinga (SC) |\n",
    "| 2020 - 2023 | SC | Jornal Metas (SC) |\n",
    "| 2020 - 2023 | SC | Revista do CEMJ (SC) |"
   ]
  },
  {
   "attachments": {},
   "cell_type": "markdown",
   "metadata": {},
   "source": [
    "Ou seja, o acesso aos dados dos periódicos disponibilizados pela interface da HDB não se dá de forma estruturada, como no caso da BNP-PT. No caso da BND-PT, conseguimos acessar um ficheiro csv com os dados completos de todos os periódicos digitalizados, contando com informações como local de publicação, ano, editora, idioma, entre outros.  \n",
    "\n",
    "Para construirmos um dataset nesse mesmo modelo para o acervo da HDB, precisaríamos ou da disponibilização diretamente pela Fundação Biblioteca Nacional,[^1] ou da criação de um *scrapper* para acessar a interface gráfica e coletar os dados. Esse objetivo não está no escopo da pesquisa.\n",
    "\n",
    "Contudo, podemos realizar uma análise manual dos dados disponíveis na interface gráfica. Foi registrada a quantidade de periódicos por década, e a quantidade de periódicos por local de publicação. Essa estratégia busca apenas um panorama geral do acervo, sem aprofundamento na análise dos dados.\n",
    "\n",
    "Na tabela abaixo, podemos visualizar a quantidade de periódicos por década, e a quantidade de periódicos por local de publicação.\n",
    "\n",
    "[^1]: Realizei contato com *Setor de Gestão de Programas e Inovação - SGPI/BNDigital* solicitando informações sobre o acesso a esses dados. Até o momento da atualização desse documento, ainda não havia obtido resposta."
   ]
  },
  {
   "attachments": {},
   "cell_type": "markdown",
   "metadata": {},
   "source": [
    "| Período     |Quantidade de locais | Quantidade de periódicos |\n",
    "| ----------- | ------------------- | ------------------------ |\n",
    "| 1740 - 1749 | 1  | 1    |   \n",
    "| 1760 - 1769 | 1  | 1    |\n",
    "| 1800 - 1809 | 2  | 3    |\n",
    "| 1810 - 1819 | 8  | 21   |\n",
    "| 1820 - 1829 | 14 | 130  |\n",
    "| 1830 - 1839 | 22 | 336  |\n",
    "| 1840 - 1849 | 21 | 383  |\n",
    "| 1850 - 1859 | 25 | 450  |\n",
    "| 1860 - 1869 | 27 | 624  |\n",
    "| 1870 - 1879 | 28 | 981  |\n",
    "| 1880 - 1889 | 28 | 1595 |\n",
    "| 1890 - 1899 | 27 | 1368 |\n",
    "| 1900 - 1909 | 28 | 917  |\n",
    "| 1910 - 1919 | 32 | 936  |\n",
    "| 1920 - 1929 | 29 | 819  |\n",
    "| 1930 - 1939 | 28 | 678  |\n",
    "| 1940 - 1949 | 28 | 409  |\n",
    "| 1950 - 1959 | 27 | 388  |\n",
    "| 1960 - 1969 | 20 | 274  |\n",
    "| 1970 - 1979 | 19 | 236  |\n",
    "| 1980 - 1989 | 20 | 197  |\n",
    "| 1990 - 1999 | 13 | 102  |\n",
    "| 2000 - 2009 | 10 | 69   |\n",
    "| 2010 - 2019 | 5  | 19   |\n",
    "| 2020 - 2023 | 3  | 13   |\n",
    "| n.i.        | 14 | 57   |"
   ]
  },
  {
   "attachments": {},
   "cell_type": "markdown",
   "metadata": {},
   "source": [
    "## Apresentação dos dados"
   ]
  },
  {
   "attachments": {},
   "cell_type": "markdown",
   "metadata": {},
   "source": [
    "Temos dois conjuntos de dados referentes à HDB: A) os `csv` de periódicos digitalizados e incorporados ao acervo nos anos de 2029 e 2020 e B) um `csv` com a contagem de itens por década e por local de publicação disponíveis na interface gráfica da HDB no dia 01 de junho de 2023, construído manualmente.\n",
    "\n",
    "Ambos serão analisados com a biblioteca `pandas` do Python."
   ]
  },
  {
   "cell_type": "code",
   "execution_count": 1,
   "metadata": {},
   "outputs": [],
   "source": [
    "# importando a biblioteca pandas\n",
    "import pandas as pd"
   ]
  },
  {
   "attachments": {},
   "cell_type": "markdown",
   "metadata": {},
   "source": [
    "### A) Periódicos digitalizados e incorporados ao acervo nos anos de 2029 e 2020"
   ]
  },
  {
   "attachments": {},
   "cell_type": "markdown",
   "metadata": {},
   "source": [
    "Vamos criar um dataframe com os dados do `csv` de periódicos digitalizados e incorporados ao acervo no ano de 2019."
   ]
  },
  {
   "cell_type": "code",
   "execution_count": 2,
   "metadata": {},
   "outputs": [],
   "source": [
    "# importar dataset e criar dataframe\n",
    "df_2019 = pd.read_csv('bnd-br_periodicos_2019.csv', sep=',', encoding='latin1')"
   ]
  },
  {
   "attachments": {},
   "cell_type": "markdown",
   "metadata": {},
   "source": [
    "As colunas do dataframe são:"
   ]
  },
  {
   "cell_type": "code",
   "execution_count": 3,
   "metadata": {},
   "outputs": [
    {
     "data": {
      "text/plain": [
       "['Título',\n",
       " 'Material',\n",
       " 'Cód. título',\n",
       " 'Números de chamada local',\n",
       " 'Objeto Digital']"
      ]
     },
     "execution_count": 3,
     "metadata": {},
     "output_type": "execute_result"
    }
   ],
   "source": [
    "# listar as colunas do dataframe\n",
    "df_2019.columns.tolist()"
   ]
  },
  {
   "attachments": {},
   "cell_type": "markdown",
   "metadata": {},
   "source": [
    "Vamos realizar a contagem de itens na coluna `Título` para verificarmos a quantidades de periódicos digitalizados e incorporados ao acervo no ano de 2019."
   ]
  },
  {
   "cell_type": "code",
   "execution_count": 4,
   "metadata": {},
   "outputs": [
    {
     "data": {
      "text/plain": [
       "1004"
      ]
     },
     "execution_count": 4,
     "metadata": {},
     "output_type": "execute_result"
    }
   ],
   "source": [
    "# contar itens na coluna «Título»\n",
    "df_2019['Título'].count()\n"
   ]
  },
  {
   "attachments": {},
   "cell_type": "markdown",
   "metadata": {},
   "source": [
    "Vamos repetir o processo para o `csv` de periódicos digitalizados e incorporados ao acervo no ano de 2020."
   ]
  },
  {
   "cell_type": "code",
   "execution_count": 5,
   "metadata": {},
   "outputs": [],
   "source": [
    "# importar dataset e criar dataframe\n",
    "df_2020 = pd.read_csv('bnd-br_periodicos_2020.csv', sep=',', encoding='latin1')\n"
   ]
  },
  {
   "cell_type": "code",
   "execution_count": 6,
   "metadata": {},
   "outputs": [
    {
     "data": {
      "text/plain": [
       "Index(['Título', 'Material', 'Cód. título', 'Números de chamada local',\n",
       "       'Objeto Digital'],\n",
       "      dtype='object')"
      ]
     },
     "execution_count": 6,
     "metadata": {},
     "output_type": "execute_result"
    }
   ],
   "source": [
    "# listar as colunas do dataframe\n",
    "df_2020.columns"
   ]
  },
  {
   "cell_type": "code",
   "execution_count": 7,
   "metadata": {},
   "outputs": [
    {
     "data": {
      "text/plain": [
       "699"
      ]
     },
     "execution_count": 7,
     "metadata": {},
     "output_type": "execute_result"
    }
   ],
   "source": [
    "# contar itens na coluna «Título»\n",
    "df_2020['Título'].count()"
   ]
  },
  {
   "attachments": {},
   "cell_type": "markdown",
   "metadata": {},
   "source": [
    "Portanto, nos anos de 2019 e 2020, foram digitalizados e incorporados ao acervo 1004 e 699 periódicos respectivamente. Infelizmente, esses dados não nos possibilitam uma análise mais completa do acervo da HDB."
   ]
  },
  {
   "attachments": {},
   "cell_type": "markdown",
   "metadata": {},
   "source": [
    "## B) Contagem de itens por década e por local de publicação disponíveis na interface gráfica da HDB no dia 01 de junho de 2023"
   ]
  },
  {
   "attachments": {},
   "cell_type": "markdown",
   "metadata": {},
   "source": [
    "O `csv` [periodicos_dec](periodicos_dec.csv) contém a contagem de itens por década e por local de publicação disponíveis na interface gráfica da HDB no dia 01 de junho de 2023. É importante destacar que a coleta desses dados foi realizada manualmente, e que a interface gráfica da HDB não disponibiliza os dados de forma estruturada. Uma descrição detalhada do método utilizado pode ser encontrada no tópico [Coleta de dados](#coleta-de-dados)."
   ]
  },
  {
   "attachments": {},
   "cell_type": "markdown",
   "metadata": {},
   "source": [
    "Primeiro, vamos criar um dataframe com os dados do `csv` [periodicos_dec](periodicos_dec.csv)."
   ]
  },
  {
   "cell_type": "code",
   "execution_count": 8,
   "metadata": {},
   "outputs": [],
   "source": [
    "# importar dataset e criar dataframe\n",
    "df = pd.read_csv('periodicos_dec.csv', sep=',', encoding='utf-8')"
   ]
  },
  {
   "cell_type": "code",
   "execution_count": 9,
   "metadata": {},
   "outputs": [
    {
     "data": {
      "text/html": [
       "<div>\n",
       "<style scoped>\n",
       "    .dataframe tbody tr th:only-of-type {\n",
       "        vertical-align: middle;\n",
       "    }\n",
       "\n",
       "    .dataframe tbody tr th {\n",
       "        vertical-align: top;\n",
       "    }\n",
       "\n",
       "    .dataframe thead th {\n",
       "        text-align: right;\n",
       "    }\n",
       "</style>\n",
       "<table border=\"1\" class=\"dataframe\">\n",
       "  <thead>\n",
       "    <tr style=\"text-align: right;\">\n",
       "      <th></th>\n",
       "      <th>período</th>\n",
       "      <th>quantidade de locais</th>\n",
       "      <th>quantidade de periódicos</th>\n",
       "    </tr>\n",
       "  </thead>\n",
       "  <tbody>\n",
       "    <tr>\n",
       "      <th>0</th>\n",
       "      <td>1740 - 1749</td>\n",
       "      <td>1</td>\n",
       "      <td>1</td>\n",
       "    </tr>\n",
       "    <tr>\n",
       "      <th>1</th>\n",
       "      <td>1760 - 1769</td>\n",
       "      <td>1</td>\n",
       "      <td>1</td>\n",
       "    </tr>\n",
       "    <tr>\n",
       "      <th>2</th>\n",
       "      <td>1800 - 1809</td>\n",
       "      <td>2</td>\n",
       "      <td>3</td>\n",
       "    </tr>\n",
       "    <tr>\n",
       "      <th>3</th>\n",
       "      <td>1810 - 1819</td>\n",
       "      <td>8</td>\n",
       "      <td>21</td>\n",
       "    </tr>\n",
       "    <tr>\n",
       "      <th>4</th>\n",
       "      <td>1820 - 1829</td>\n",
       "      <td>14</td>\n",
       "      <td>130</td>\n",
       "    </tr>\n",
       "    <tr>\n",
       "      <th>5</th>\n",
       "      <td>1830 - 1839</td>\n",
       "      <td>22</td>\n",
       "      <td>336</td>\n",
       "    </tr>\n",
       "    <tr>\n",
       "      <th>6</th>\n",
       "      <td>1840 - 1849</td>\n",
       "      <td>21</td>\n",
       "      <td>383</td>\n",
       "    </tr>\n",
       "    <tr>\n",
       "      <th>7</th>\n",
       "      <td>1850 - 1859</td>\n",
       "      <td>25</td>\n",
       "      <td>450</td>\n",
       "    </tr>\n",
       "    <tr>\n",
       "      <th>8</th>\n",
       "      <td>1860 - 1869</td>\n",
       "      <td>27</td>\n",
       "      <td>624</td>\n",
       "    </tr>\n",
       "    <tr>\n",
       "      <th>9</th>\n",
       "      <td>1870 - 1879</td>\n",
       "      <td>28</td>\n",
       "      <td>981</td>\n",
       "    </tr>\n",
       "    <tr>\n",
       "      <th>10</th>\n",
       "      <td>1880 - 1889</td>\n",
       "      <td>28</td>\n",
       "      <td>1595</td>\n",
       "    </tr>\n",
       "    <tr>\n",
       "      <th>11</th>\n",
       "      <td>1890 - 1899</td>\n",
       "      <td>27</td>\n",
       "      <td>1368</td>\n",
       "    </tr>\n",
       "    <tr>\n",
       "      <th>12</th>\n",
       "      <td>1900 - 1909</td>\n",
       "      <td>28</td>\n",
       "      <td>917</td>\n",
       "    </tr>\n",
       "    <tr>\n",
       "      <th>13</th>\n",
       "      <td>1910 - 1919</td>\n",
       "      <td>32</td>\n",
       "      <td>936</td>\n",
       "    </tr>\n",
       "    <tr>\n",
       "      <th>14</th>\n",
       "      <td>1920 - 1929</td>\n",
       "      <td>29</td>\n",
       "      <td>819</td>\n",
       "    </tr>\n",
       "    <tr>\n",
       "      <th>15</th>\n",
       "      <td>1930 - 1939</td>\n",
       "      <td>28</td>\n",
       "      <td>678</td>\n",
       "    </tr>\n",
       "    <tr>\n",
       "      <th>16</th>\n",
       "      <td>1940 - 1949</td>\n",
       "      <td>28</td>\n",
       "      <td>409</td>\n",
       "    </tr>\n",
       "    <tr>\n",
       "      <th>17</th>\n",
       "      <td>1950 - 1959</td>\n",
       "      <td>27</td>\n",
       "      <td>388</td>\n",
       "    </tr>\n",
       "    <tr>\n",
       "      <th>18</th>\n",
       "      <td>1960 - 1969</td>\n",
       "      <td>20</td>\n",
       "      <td>274</td>\n",
       "    </tr>\n",
       "    <tr>\n",
       "      <th>19</th>\n",
       "      <td>1970 - 1979</td>\n",
       "      <td>19</td>\n",
       "      <td>236</td>\n",
       "    </tr>\n",
       "    <tr>\n",
       "      <th>20</th>\n",
       "      <td>1980 - 1989</td>\n",
       "      <td>20</td>\n",
       "      <td>197</td>\n",
       "    </tr>\n",
       "    <tr>\n",
       "      <th>21</th>\n",
       "      <td>1990 - 1999</td>\n",
       "      <td>13</td>\n",
       "      <td>102</td>\n",
       "    </tr>\n",
       "    <tr>\n",
       "      <th>22</th>\n",
       "      <td>2000 - 2009</td>\n",
       "      <td>10</td>\n",
       "      <td>69</td>\n",
       "    </tr>\n",
       "    <tr>\n",
       "      <th>23</th>\n",
       "      <td>2010 - 2019</td>\n",
       "      <td>5</td>\n",
       "      <td>19</td>\n",
       "    </tr>\n",
       "    <tr>\n",
       "      <th>24</th>\n",
       "      <td>2020 - 2023</td>\n",
       "      <td>3</td>\n",
       "      <td>13</td>\n",
       "    </tr>\n",
       "    <tr>\n",
       "      <th>25</th>\n",
       "      <td>n.i.</td>\n",
       "      <td>14</td>\n",
       "      <td>57</td>\n",
       "    </tr>\n",
       "  </tbody>\n",
       "</table>\n",
       "</div>"
      ],
      "text/plain": [
       "        período  quantidade de locais   quantidade de periódicos\n",
       "0   1740 - 1749                     1                          1\n",
       "1   1760 - 1769                     1                          1\n",
       "2   1800 - 1809                     2                          3\n",
       "3   1810 - 1819                     8                         21\n",
       "4   1820 - 1829                    14                        130\n",
       "5   1830 - 1839                    22                        336\n",
       "6   1840 - 1849                    21                        383\n",
       "7   1850 - 1859                    25                        450\n",
       "8   1860 - 1869                    27                        624\n",
       "9   1870 - 1879                    28                        981\n",
       "10  1880 - 1889                    28                       1595\n",
       "11  1890 - 1899                    27                       1368\n",
       "12  1900 - 1909                    28                        917\n",
       "13  1910 - 1919                    32                        936\n",
       "14  1920 - 1929                    29                        819\n",
       "15  1930 - 1939                    28                        678\n",
       "16  1940 - 1949                    28                        409\n",
       "17  1950 - 1959                    27                        388\n",
       "18  1960 - 1969                    20                        274\n",
       "19  1970 - 1979                    19                        236\n",
       "20  1980 - 1989                    20                        197\n",
       "21  1990 - 1999                    13                        102\n",
       "22  2000 - 2009                    10                         69\n",
       "23  2010 - 2019                     5                         19\n",
       "24  2020 - 2023                     3                         13\n",
       "25         n.i.                    14                         57"
      ]
     },
     "execution_count": 9,
     "metadata": {},
     "output_type": "execute_result"
    }
   ],
   "source": [
    "# visualizar o dataframe\n",
    "df"
   ]
  },
  {
   "attachments": {},
   "cell_type": "markdown",
   "metadata": {},
   "source": [
    "Buscando compreender melhor os dados, vamos gerar visualizações gráficas com a biblioteca `plotly`."
   ]
  },
  {
   "cell_type": "code",
   "execution_count": 10,
   "metadata": {},
   "outputs": [],
   "source": [
    "# importar a biblioteca plotly\n",
    "import plotly.express as px"
   ]
  },
  {
   "attachments": {},
   "cell_type": "markdown",
   "metadata": {},
   "source": [
    "Combinado as bibliotecas `pandas` e `plotly`, vamos gerar um gráfico de barras com a quantidade de periódicos por década. Definimos que o eixo x será a coluna `período` e o eixo y será a coluna `quantidade de periódicos` do nosso dataframe."
   ]
  },
  {
   "cell_type": "code",
   "execution_count": 11,
   "metadata": {},
   "outputs": [
    {
     "data": {
      "application/vnd.plotly.v1+json": {
       "config": {
        "plotlyServerURL": "https://plot.ly"
       },
       "data": [
        {
         "alignmentgroup": "True",
         "hovertemplate": "período=%{x}<br> quantidade de periódicos=%{y}<extra></extra>",
         "legendgroup": "1740 - 1749",
         "marker": {
          "color": "#636efa",
          "pattern": {
           "shape": ""
          }
         },
         "name": "1740 - 1749",
         "offsetgroup": "1740 - 1749",
         "orientation": "v",
         "showlegend": true,
         "textposition": "outside",
         "texttemplate": "%{value}",
         "type": "bar",
         "x": [
          "1740 - 1749"
         ],
         "xaxis": "x",
         "y": [
          1
         ],
         "yaxis": "y"
        },
        {
         "alignmentgroup": "True",
         "hovertemplate": "período=%{x}<br> quantidade de periódicos=%{y}<extra></extra>",
         "legendgroup": "1760 - 1769",
         "marker": {
          "color": "#EF553B",
          "pattern": {
           "shape": ""
          }
         },
         "name": "1760 - 1769",
         "offsetgroup": "1760 - 1769",
         "orientation": "v",
         "showlegend": true,
         "textposition": "outside",
         "texttemplate": "%{value}",
         "type": "bar",
         "x": [
          "1760 - 1769"
         ],
         "xaxis": "x",
         "y": [
          1
         ],
         "yaxis": "y"
        },
        {
         "alignmentgroup": "True",
         "hovertemplate": "período=%{x}<br> quantidade de periódicos=%{y}<extra></extra>",
         "legendgroup": "1800 - 1809",
         "marker": {
          "color": "#00cc96",
          "pattern": {
           "shape": ""
          }
         },
         "name": "1800 - 1809",
         "offsetgroup": "1800 - 1809",
         "orientation": "v",
         "showlegend": true,
         "textposition": "outside",
         "texttemplate": "%{value}",
         "type": "bar",
         "x": [
          "1800 - 1809"
         ],
         "xaxis": "x",
         "y": [
          3
         ],
         "yaxis": "y"
        },
        {
         "alignmentgroup": "True",
         "hovertemplate": "período=%{x}<br> quantidade de periódicos=%{y}<extra></extra>",
         "legendgroup": "1810 - 1819",
         "marker": {
          "color": "#ab63fa",
          "pattern": {
           "shape": ""
          }
         },
         "name": "1810 - 1819",
         "offsetgroup": "1810 - 1819",
         "orientation": "v",
         "showlegend": true,
         "textposition": "outside",
         "texttemplate": "%{value}",
         "type": "bar",
         "x": [
          "1810 - 1819"
         ],
         "xaxis": "x",
         "y": [
          21
         ],
         "yaxis": "y"
        },
        {
         "alignmentgroup": "True",
         "hovertemplate": "período=%{x}<br> quantidade de periódicos=%{y}<extra></extra>",
         "legendgroup": "1820 - 1829",
         "marker": {
          "color": "#FFA15A",
          "pattern": {
           "shape": ""
          }
         },
         "name": "1820 - 1829",
         "offsetgroup": "1820 - 1829",
         "orientation": "v",
         "showlegend": true,
         "textposition": "outside",
         "texttemplate": "%{value}",
         "type": "bar",
         "x": [
          "1820 - 1829"
         ],
         "xaxis": "x",
         "y": [
          130
         ],
         "yaxis": "y"
        },
        {
         "alignmentgroup": "True",
         "hovertemplate": "período=%{x}<br> quantidade de periódicos=%{y}<extra></extra>",
         "legendgroup": "1830 - 1839",
         "marker": {
          "color": "#19d3f3",
          "pattern": {
           "shape": ""
          }
         },
         "name": "1830 - 1839",
         "offsetgroup": "1830 - 1839",
         "orientation": "v",
         "showlegend": true,
         "textposition": "outside",
         "texttemplate": "%{value}",
         "type": "bar",
         "x": [
          "1830 - 1839"
         ],
         "xaxis": "x",
         "y": [
          336
         ],
         "yaxis": "y"
        },
        {
         "alignmentgroup": "True",
         "hovertemplate": "período=%{x}<br> quantidade de periódicos=%{y}<extra></extra>",
         "legendgroup": "1840 - 1849",
         "marker": {
          "color": "#FF6692",
          "pattern": {
           "shape": ""
          }
         },
         "name": "1840 - 1849",
         "offsetgroup": "1840 - 1849",
         "orientation": "v",
         "showlegend": true,
         "textposition": "outside",
         "texttemplate": "%{value}",
         "type": "bar",
         "x": [
          "1840 - 1849"
         ],
         "xaxis": "x",
         "y": [
          383
         ],
         "yaxis": "y"
        },
        {
         "alignmentgroup": "True",
         "hovertemplate": "período=%{x}<br> quantidade de periódicos=%{y}<extra></extra>",
         "legendgroup": "1850 - 1859",
         "marker": {
          "color": "#B6E880",
          "pattern": {
           "shape": ""
          }
         },
         "name": "1850 - 1859",
         "offsetgroup": "1850 - 1859",
         "orientation": "v",
         "showlegend": true,
         "textposition": "outside",
         "texttemplate": "%{value}",
         "type": "bar",
         "x": [
          "1850 - 1859"
         ],
         "xaxis": "x",
         "y": [
          450
         ],
         "yaxis": "y"
        },
        {
         "alignmentgroup": "True",
         "hovertemplate": "período=%{x}<br> quantidade de periódicos=%{y}<extra></extra>",
         "legendgroup": "1860 - 1869",
         "marker": {
          "color": "#FF97FF",
          "pattern": {
           "shape": ""
          }
         },
         "name": "1860 - 1869",
         "offsetgroup": "1860 - 1869",
         "orientation": "v",
         "showlegend": true,
         "textposition": "outside",
         "texttemplate": "%{value}",
         "type": "bar",
         "x": [
          "1860 - 1869"
         ],
         "xaxis": "x",
         "y": [
          624
         ],
         "yaxis": "y"
        },
        {
         "alignmentgroup": "True",
         "hovertemplate": "período=%{x}<br> quantidade de periódicos=%{y}<extra></extra>",
         "legendgroup": "1870 - 1879",
         "marker": {
          "color": "#FECB52",
          "pattern": {
           "shape": ""
          }
         },
         "name": "1870 - 1879",
         "offsetgroup": "1870 - 1879",
         "orientation": "v",
         "showlegend": true,
         "textposition": "outside",
         "texttemplate": "%{value}",
         "type": "bar",
         "x": [
          "1870 - 1879"
         ],
         "xaxis": "x",
         "y": [
          981
         ],
         "yaxis": "y"
        },
        {
         "alignmentgroup": "True",
         "hovertemplate": "período=%{x}<br> quantidade de periódicos=%{y}<extra></extra>",
         "legendgroup": "1880 - 1889",
         "marker": {
          "color": "#636efa",
          "pattern": {
           "shape": ""
          }
         },
         "name": "1880 - 1889",
         "offsetgroup": "1880 - 1889",
         "orientation": "v",
         "showlegend": true,
         "textposition": "outside",
         "texttemplate": "%{value}",
         "type": "bar",
         "x": [
          "1880 - 1889"
         ],
         "xaxis": "x",
         "y": [
          1595
         ],
         "yaxis": "y"
        },
        {
         "alignmentgroup": "True",
         "hovertemplate": "período=%{x}<br> quantidade de periódicos=%{y}<extra></extra>",
         "legendgroup": "1890 - 1899",
         "marker": {
          "color": "#EF553B",
          "pattern": {
           "shape": ""
          }
         },
         "name": "1890 - 1899",
         "offsetgroup": "1890 - 1899",
         "orientation": "v",
         "showlegend": true,
         "textposition": "outside",
         "texttemplate": "%{value}",
         "type": "bar",
         "x": [
          "1890 - 1899"
         ],
         "xaxis": "x",
         "y": [
          1368
         ],
         "yaxis": "y"
        },
        {
         "alignmentgroup": "True",
         "hovertemplate": "período=%{x}<br> quantidade de periódicos=%{y}<extra></extra>",
         "legendgroup": "1900 - 1909",
         "marker": {
          "color": "#00cc96",
          "pattern": {
           "shape": ""
          }
         },
         "name": "1900 - 1909",
         "offsetgroup": "1900 - 1909",
         "orientation": "v",
         "showlegend": true,
         "textposition": "outside",
         "texttemplate": "%{value}",
         "type": "bar",
         "x": [
          "1900 - 1909"
         ],
         "xaxis": "x",
         "y": [
          917
         ],
         "yaxis": "y"
        },
        {
         "alignmentgroup": "True",
         "hovertemplate": "período=%{x}<br> quantidade de periódicos=%{y}<extra></extra>",
         "legendgroup": "1910 - 1919",
         "marker": {
          "color": "#ab63fa",
          "pattern": {
           "shape": ""
          }
         },
         "name": "1910 - 1919",
         "offsetgroup": "1910 - 1919",
         "orientation": "v",
         "showlegend": true,
         "textposition": "outside",
         "texttemplate": "%{value}",
         "type": "bar",
         "x": [
          "1910 - 1919"
         ],
         "xaxis": "x",
         "y": [
          936
         ],
         "yaxis": "y"
        },
        {
         "alignmentgroup": "True",
         "hovertemplate": "período=%{x}<br> quantidade de periódicos=%{y}<extra></extra>",
         "legendgroup": "1920 - 1929",
         "marker": {
          "color": "#FFA15A",
          "pattern": {
           "shape": ""
          }
         },
         "name": "1920 - 1929",
         "offsetgroup": "1920 - 1929",
         "orientation": "v",
         "showlegend": true,
         "textposition": "outside",
         "texttemplate": "%{value}",
         "type": "bar",
         "x": [
          "1920 - 1929"
         ],
         "xaxis": "x",
         "y": [
          819
         ],
         "yaxis": "y"
        },
        {
         "alignmentgroup": "True",
         "hovertemplate": "período=%{x}<br> quantidade de periódicos=%{y}<extra></extra>",
         "legendgroup": "1930 - 1939",
         "marker": {
          "color": "#19d3f3",
          "pattern": {
           "shape": ""
          }
         },
         "name": "1930 - 1939",
         "offsetgroup": "1930 - 1939",
         "orientation": "v",
         "showlegend": true,
         "textposition": "outside",
         "texttemplate": "%{value}",
         "type": "bar",
         "x": [
          "1930 - 1939"
         ],
         "xaxis": "x",
         "y": [
          678
         ],
         "yaxis": "y"
        },
        {
         "alignmentgroup": "True",
         "hovertemplate": "período=%{x}<br> quantidade de periódicos=%{y}<extra></extra>",
         "legendgroup": "1940 - 1949",
         "marker": {
          "color": "#FF6692",
          "pattern": {
           "shape": ""
          }
         },
         "name": "1940 - 1949",
         "offsetgroup": "1940 - 1949",
         "orientation": "v",
         "showlegend": true,
         "textposition": "outside",
         "texttemplate": "%{value}",
         "type": "bar",
         "x": [
          "1940 - 1949"
         ],
         "xaxis": "x",
         "y": [
          409
         ],
         "yaxis": "y"
        },
        {
         "alignmentgroup": "True",
         "hovertemplate": "período=%{x}<br> quantidade de periódicos=%{y}<extra></extra>",
         "legendgroup": "1950 - 1959",
         "marker": {
          "color": "#B6E880",
          "pattern": {
           "shape": ""
          }
         },
         "name": "1950 - 1959",
         "offsetgroup": "1950 - 1959",
         "orientation": "v",
         "showlegend": true,
         "textposition": "outside",
         "texttemplate": "%{value}",
         "type": "bar",
         "x": [
          "1950 - 1959"
         ],
         "xaxis": "x",
         "y": [
          388
         ],
         "yaxis": "y"
        },
        {
         "alignmentgroup": "True",
         "hovertemplate": "período=%{x}<br> quantidade de periódicos=%{y}<extra></extra>",
         "legendgroup": "1960 - 1969",
         "marker": {
          "color": "#FF97FF",
          "pattern": {
           "shape": ""
          }
         },
         "name": "1960 - 1969",
         "offsetgroup": "1960 - 1969",
         "orientation": "v",
         "showlegend": true,
         "textposition": "outside",
         "texttemplate": "%{value}",
         "type": "bar",
         "x": [
          "1960 - 1969"
         ],
         "xaxis": "x",
         "y": [
          274
         ],
         "yaxis": "y"
        },
        {
         "alignmentgroup": "True",
         "hovertemplate": "período=%{x}<br> quantidade de periódicos=%{y}<extra></extra>",
         "legendgroup": "1970 - 1979",
         "marker": {
          "color": "#FECB52",
          "pattern": {
           "shape": ""
          }
         },
         "name": "1970 - 1979",
         "offsetgroup": "1970 - 1979",
         "orientation": "v",
         "showlegend": true,
         "textposition": "outside",
         "texttemplate": "%{value}",
         "type": "bar",
         "x": [
          "1970 - 1979"
         ],
         "xaxis": "x",
         "y": [
          236
         ],
         "yaxis": "y"
        },
        {
         "alignmentgroup": "True",
         "hovertemplate": "período=%{x}<br> quantidade de periódicos=%{y}<extra></extra>",
         "legendgroup": "1980 - 1989",
         "marker": {
          "color": "#636efa",
          "pattern": {
           "shape": ""
          }
         },
         "name": "1980 - 1989",
         "offsetgroup": "1980 - 1989",
         "orientation": "v",
         "showlegend": true,
         "textposition": "outside",
         "texttemplate": "%{value}",
         "type": "bar",
         "x": [
          "1980 - 1989"
         ],
         "xaxis": "x",
         "y": [
          197
         ],
         "yaxis": "y"
        },
        {
         "alignmentgroup": "True",
         "hovertemplate": "período=%{x}<br> quantidade de periódicos=%{y}<extra></extra>",
         "legendgroup": "1990 - 1999",
         "marker": {
          "color": "#EF553B",
          "pattern": {
           "shape": ""
          }
         },
         "name": "1990 - 1999",
         "offsetgroup": "1990 - 1999",
         "orientation": "v",
         "showlegend": true,
         "textposition": "outside",
         "texttemplate": "%{value}",
         "type": "bar",
         "x": [
          "1990 - 1999"
         ],
         "xaxis": "x",
         "y": [
          102
         ],
         "yaxis": "y"
        },
        {
         "alignmentgroup": "True",
         "hovertemplate": "período=%{x}<br> quantidade de periódicos=%{y}<extra></extra>",
         "legendgroup": "2000 - 2009",
         "marker": {
          "color": "#00cc96",
          "pattern": {
           "shape": ""
          }
         },
         "name": "2000 - 2009",
         "offsetgroup": "2000 - 2009",
         "orientation": "v",
         "showlegend": true,
         "textposition": "outside",
         "texttemplate": "%{value}",
         "type": "bar",
         "x": [
          "2000 - 2009"
         ],
         "xaxis": "x",
         "y": [
          69
         ],
         "yaxis": "y"
        },
        {
         "alignmentgroup": "True",
         "hovertemplate": "período=%{x}<br> quantidade de periódicos=%{y}<extra></extra>",
         "legendgroup": "2010 - 2019",
         "marker": {
          "color": "#ab63fa",
          "pattern": {
           "shape": ""
          }
         },
         "name": "2010 - 2019",
         "offsetgroup": "2010 - 2019",
         "orientation": "v",
         "showlegend": true,
         "textposition": "outside",
         "texttemplate": "%{value}",
         "type": "bar",
         "x": [
          "2010 - 2019"
         ],
         "xaxis": "x",
         "y": [
          19
         ],
         "yaxis": "y"
        },
        {
         "alignmentgroup": "True",
         "hovertemplate": "período=%{x}<br> quantidade de periódicos=%{y}<extra></extra>",
         "legendgroup": "2020 - 2023",
         "marker": {
          "color": "#FFA15A",
          "pattern": {
           "shape": ""
          }
         },
         "name": "2020 - 2023",
         "offsetgroup": "2020 - 2023",
         "orientation": "v",
         "showlegend": true,
         "textposition": "outside",
         "texttemplate": "%{value}",
         "type": "bar",
         "x": [
          "2020 - 2023"
         ],
         "xaxis": "x",
         "y": [
          13
         ],
         "yaxis": "y"
        },
        {
         "alignmentgroup": "True",
         "hovertemplate": "período=%{x}<br> quantidade de periódicos=%{y}<extra></extra>",
         "legendgroup": "n.i.",
         "marker": {
          "color": "#19d3f3",
          "pattern": {
           "shape": ""
          }
         },
         "name": "n.i.",
         "offsetgroup": "n.i.",
         "orientation": "v",
         "showlegend": true,
         "textposition": "outside",
         "texttemplate": "%{value}",
         "type": "bar",
         "x": [
          "n.i."
         ],
         "xaxis": "x",
         "y": [
          57
         ],
         "yaxis": "y"
        }
       ],
       "layout": {
        "barmode": "relative",
        "height": 800,
        "legend": {
         "title": {
          "text": "período"
         },
         "tracegroupgap": 0
        },
        "template": {
         "data": {
          "bar": [
           {
            "error_x": {
             "color": "#2a3f5f"
            },
            "error_y": {
             "color": "#2a3f5f"
            },
            "marker": {
             "line": {
              "color": "#E5ECF6",
              "width": 0.5
             },
             "pattern": {
              "fillmode": "overlay",
              "size": 10,
              "solidity": 0.2
             }
            },
            "type": "bar"
           }
          ],
          "barpolar": [
           {
            "marker": {
             "line": {
              "color": "#E5ECF6",
              "width": 0.5
             },
             "pattern": {
              "fillmode": "overlay",
              "size": 10,
              "solidity": 0.2
             }
            },
            "type": "barpolar"
           }
          ],
          "carpet": [
           {
            "aaxis": {
             "endlinecolor": "#2a3f5f",
             "gridcolor": "white",
             "linecolor": "white",
             "minorgridcolor": "white",
             "startlinecolor": "#2a3f5f"
            },
            "baxis": {
             "endlinecolor": "#2a3f5f",
             "gridcolor": "white",
             "linecolor": "white",
             "minorgridcolor": "white",
             "startlinecolor": "#2a3f5f"
            },
            "type": "carpet"
           }
          ],
          "choropleth": [
           {
            "colorbar": {
             "outlinewidth": 0,
             "ticks": ""
            },
            "type": "choropleth"
           }
          ],
          "contour": [
           {
            "colorbar": {
             "outlinewidth": 0,
             "ticks": ""
            },
            "colorscale": [
             [
              0,
              "#0d0887"
             ],
             [
              0.1111111111111111,
              "#46039f"
             ],
             [
              0.2222222222222222,
              "#7201a8"
             ],
             [
              0.3333333333333333,
              "#9c179e"
             ],
             [
              0.4444444444444444,
              "#bd3786"
             ],
             [
              0.5555555555555556,
              "#d8576b"
             ],
             [
              0.6666666666666666,
              "#ed7953"
             ],
             [
              0.7777777777777778,
              "#fb9f3a"
             ],
             [
              0.8888888888888888,
              "#fdca26"
             ],
             [
              1,
              "#f0f921"
             ]
            ],
            "type": "contour"
           }
          ],
          "contourcarpet": [
           {
            "colorbar": {
             "outlinewidth": 0,
             "ticks": ""
            },
            "type": "contourcarpet"
           }
          ],
          "heatmap": [
           {
            "colorbar": {
             "outlinewidth": 0,
             "ticks": ""
            },
            "colorscale": [
             [
              0,
              "#0d0887"
             ],
             [
              0.1111111111111111,
              "#46039f"
             ],
             [
              0.2222222222222222,
              "#7201a8"
             ],
             [
              0.3333333333333333,
              "#9c179e"
             ],
             [
              0.4444444444444444,
              "#bd3786"
             ],
             [
              0.5555555555555556,
              "#d8576b"
             ],
             [
              0.6666666666666666,
              "#ed7953"
             ],
             [
              0.7777777777777778,
              "#fb9f3a"
             ],
             [
              0.8888888888888888,
              "#fdca26"
             ],
             [
              1,
              "#f0f921"
             ]
            ],
            "type": "heatmap"
           }
          ],
          "heatmapgl": [
           {
            "colorbar": {
             "outlinewidth": 0,
             "ticks": ""
            },
            "colorscale": [
             [
              0,
              "#0d0887"
             ],
             [
              0.1111111111111111,
              "#46039f"
             ],
             [
              0.2222222222222222,
              "#7201a8"
             ],
             [
              0.3333333333333333,
              "#9c179e"
             ],
             [
              0.4444444444444444,
              "#bd3786"
             ],
             [
              0.5555555555555556,
              "#d8576b"
             ],
             [
              0.6666666666666666,
              "#ed7953"
             ],
             [
              0.7777777777777778,
              "#fb9f3a"
             ],
             [
              0.8888888888888888,
              "#fdca26"
             ],
             [
              1,
              "#f0f921"
             ]
            ],
            "type": "heatmapgl"
           }
          ],
          "histogram": [
           {
            "marker": {
             "pattern": {
              "fillmode": "overlay",
              "size": 10,
              "solidity": 0.2
             }
            },
            "type": "histogram"
           }
          ],
          "histogram2d": [
           {
            "colorbar": {
             "outlinewidth": 0,
             "ticks": ""
            },
            "colorscale": [
             [
              0,
              "#0d0887"
             ],
             [
              0.1111111111111111,
              "#46039f"
             ],
             [
              0.2222222222222222,
              "#7201a8"
             ],
             [
              0.3333333333333333,
              "#9c179e"
             ],
             [
              0.4444444444444444,
              "#bd3786"
             ],
             [
              0.5555555555555556,
              "#d8576b"
             ],
             [
              0.6666666666666666,
              "#ed7953"
             ],
             [
              0.7777777777777778,
              "#fb9f3a"
             ],
             [
              0.8888888888888888,
              "#fdca26"
             ],
             [
              1,
              "#f0f921"
             ]
            ],
            "type": "histogram2d"
           }
          ],
          "histogram2dcontour": [
           {
            "colorbar": {
             "outlinewidth": 0,
             "ticks": ""
            },
            "colorscale": [
             [
              0,
              "#0d0887"
             ],
             [
              0.1111111111111111,
              "#46039f"
             ],
             [
              0.2222222222222222,
              "#7201a8"
             ],
             [
              0.3333333333333333,
              "#9c179e"
             ],
             [
              0.4444444444444444,
              "#bd3786"
             ],
             [
              0.5555555555555556,
              "#d8576b"
             ],
             [
              0.6666666666666666,
              "#ed7953"
             ],
             [
              0.7777777777777778,
              "#fb9f3a"
             ],
             [
              0.8888888888888888,
              "#fdca26"
             ],
             [
              1,
              "#f0f921"
             ]
            ],
            "type": "histogram2dcontour"
           }
          ],
          "mesh3d": [
           {
            "colorbar": {
             "outlinewidth": 0,
             "ticks": ""
            },
            "type": "mesh3d"
           }
          ],
          "parcoords": [
           {
            "line": {
             "colorbar": {
              "outlinewidth": 0,
              "ticks": ""
             }
            },
            "type": "parcoords"
           }
          ],
          "pie": [
           {
            "automargin": true,
            "type": "pie"
           }
          ],
          "scatter": [
           {
            "fillpattern": {
             "fillmode": "overlay",
             "size": 10,
             "solidity": 0.2
            },
            "type": "scatter"
           }
          ],
          "scatter3d": [
           {
            "line": {
             "colorbar": {
              "outlinewidth": 0,
              "ticks": ""
             }
            },
            "marker": {
             "colorbar": {
              "outlinewidth": 0,
              "ticks": ""
             }
            },
            "type": "scatter3d"
           }
          ],
          "scattercarpet": [
           {
            "marker": {
             "colorbar": {
              "outlinewidth": 0,
              "ticks": ""
             }
            },
            "type": "scattercarpet"
           }
          ],
          "scattergeo": [
           {
            "marker": {
             "colorbar": {
              "outlinewidth": 0,
              "ticks": ""
             }
            },
            "type": "scattergeo"
           }
          ],
          "scattergl": [
           {
            "marker": {
             "colorbar": {
              "outlinewidth": 0,
              "ticks": ""
             }
            },
            "type": "scattergl"
           }
          ],
          "scattermapbox": [
           {
            "marker": {
             "colorbar": {
              "outlinewidth": 0,
              "ticks": ""
             }
            },
            "type": "scattermapbox"
           }
          ],
          "scatterpolar": [
           {
            "marker": {
             "colorbar": {
              "outlinewidth": 0,
              "ticks": ""
             }
            },
            "type": "scatterpolar"
           }
          ],
          "scatterpolargl": [
           {
            "marker": {
             "colorbar": {
              "outlinewidth": 0,
              "ticks": ""
             }
            },
            "type": "scatterpolargl"
           }
          ],
          "scatterternary": [
           {
            "marker": {
             "colorbar": {
              "outlinewidth": 0,
              "ticks": ""
             }
            },
            "type": "scatterternary"
           }
          ],
          "surface": [
           {
            "colorbar": {
             "outlinewidth": 0,
             "ticks": ""
            },
            "colorscale": [
             [
              0,
              "#0d0887"
             ],
             [
              0.1111111111111111,
              "#46039f"
             ],
             [
              0.2222222222222222,
              "#7201a8"
             ],
             [
              0.3333333333333333,
              "#9c179e"
             ],
             [
              0.4444444444444444,
              "#bd3786"
             ],
             [
              0.5555555555555556,
              "#d8576b"
             ],
             [
              0.6666666666666666,
              "#ed7953"
             ],
             [
              0.7777777777777778,
              "#fb9f3a"
             ],
             [
              0.8888888888888888,
              "#fdca26"
             ],
             [
              1,
              "#f0f921"
             ]
            ],
            "type": "surface"
           }
          ],
          "table": [
           {
            "cells": {
             "fill": {
              "color": "#EBF0F8"
             },
             "line": {
              "color": "white"
             }
            },
            "header": {
             "fill": {
              "color": "#C8D4E3"
             },
             "line": {
              "color": "white"
             }
            },
            "type": "table"
           }
          ]
         },
         "layout": {
          "annotationdefaults": {
           "arrowcolor": "#2a3f5f",
           "arrowhead": 0,
           "arrowwidth": 1
          },
          "autotypenumbers": "strict",
          "coloraxis": {
           "colorbar": {
            "outlinewidth": 0,
            "ticks": ""
           }
          },
          "colorscale": {
           "diverging": [
            [
             0,
             "#8e0152"
            ],
            [
             0.1,
             "#c51b7d"
            ],
            [
             0.2,
             "#de77ae"
            ],
            [
             0.3,
             "#f1b6da"
            ],
            [
             0.4,
             "#fde0ef"
            ],
            [
             0.5,
             "#f7f7f7"
            ],
            [
             0.6,
             "#e6f5d0"
            ],
            [
             0.7,
             "#b8e186"
            ],
            [
             0.8,
             "#7fbc41"
            ],
            [
             0.9,
             "#4d9221"
            ],
            [
             1,
             "#276419"
            ]
           ],
           "sequential": [
            [
             0,
             "#0d0887"
            ],
            [
             0.1111111111111111,
             "#46039f"
            ],
            [
             0.2222222222222222,
             "#7201a8"
            ],
            [
             0.3333333333333333,
             "#9c179e"
            ],
            [
             0.4444444444444444,
             "#bd3786"
            ],
            [
             0.5555555555555556,
             "#d8576b"
            ],
            [
             0.6666666666666666,
             "#ed7953"
            ],
            [
             0.7777777777777778,
             "#fb9f3a"
            ],
            [
             0.8888888888888888,
             "#fdca26"
            ],
            [
             1,
             "#f0f921"
            ]
           ],
           "sequentialminus": [
            [
             0,
             "#0d0887"
            ],
            [
             0.1111111111111111,
             "#46039f"
            ],
            [
             0.2222222222222222,
             "#7201a8"
            ],
            [
             0.3333333333333333,
             "#9c179e"
            ],
            [
             0.4444444444444444,
             "#bd3786"
            ],
            [
             0.5555555555555556,
             "#d8576b"
            ],
            [
             0.6666666666666666,
             "#ed7953"
            ],
            [
             0.7777777777777778,
             "#fb9f3a"
            ],
            [
             0.8888888888888888,
             "#fdca26"
            ],
            [
             1,
             "#f0f921"
            ]
           ]
          },
          "colorway": [
           "#636efa",
           "#EF553B",
           "#00cc96",
           "#ab63fa",
           "#FFA15A",
           "#19d3f3",
           "#FF6692",
           "#B6E880",
           "#FF97FF",
           "#FECB52"
          ],
          "font": {
           "color": "#2a3f5f"
          },
          "geo": {
           "bgcolor": "white",
           "lakecolor": "white",
           "landcolor": "#E5ECF6",
           "showlakes": true,
           "showland": true,
           "subunitcolor": "white"
          },
          "hoverlabel": {
           "align": "left"
          },
          "hovermode": "closest",
          "mapbox": {
           "style": "light"
          },
          "paper_bgcolor": "white",
          "plot_bgcolor": "#E5ECF6",
          "polar": {
           "angularaxis": {
            "gridcolor": "white",
            "linecolor": "white",
            "ticks": ""
           },
           "bgcolor": "#E5ECF6",
           "radialaxis": {
            "gridcolor": "white",
            "linecolor": "white",
            "ticks": ""
           }
          },
          "scene": {
           "xaxis": {
            "backgroundcolor": "#E5ECF6",
            "gridcolor": "white",
            "gridwidth": 2,
            "linecolor": "white",
            "showbackground": true,
            "ticks": "",
            "zerolinecolor": "white"
           },
           "yaxis": {
            "backgroundcolor": "#E5ECF6",
            "gridcolor": "white",
            "gridwidth": 2,
            "linecolor": "white",
            "showbackground": true,
            "ticks": "",
            "zerolinecolor": "white"
           },
           "zaxis": {
            "backgroundcolor": "#E5ECF6",
            "gridcolor": "white",
            "gridwidth": 2,
            "linecolor": "white",
            "showbackground": true,
            "ticks": "",
            "zerolinecolor": "white"
           }
          },
          "shapedefaults": {
           "line": {
            "color": "#2a3f5f"
           }
          },
          "ternary": {
           "aaxis": {
            "gridcolor": "white",
            "linecolor": "white",
            "ticks": ""
           },
           "baxis": {
            "gridcolor": "white",
            "linecolor": "white",
            "ticks": ""
           },
           "bgcolor": "#E5ECF6",
           "caxis": {
            "gridcolor": "white",
            "linecolor": "white",
            "ticks": ""
           }
          },
          "title": {
           "x": 0.05
          },
          "xaxis": {
           "automargin": true,
           "gridcolor": "white",
           "linecolor": "white",
           "ticks": "",
           "title": {
            "standoff": 15
           },
           "zerolinecolor": "white",
           "zerolinewidth": 2
          },
          "yaxis": {
           "automargin": true,
           "gridcolor": "white",
           "linecolor": "white",
           "ticks": "",
           "title": {
            "standoff": 15
           },
           "zerolinecolor": "white",
           "zerolinewidth": 2
          }
         }
        },
        "title": {
         "text": "HDB - Quantidade de itens por década"
        },
        "width": 1200,
        "xaxis": {
         "anchor": "y",
         "categoryarray": [
          "1740 - 1749",
          "1760 - 1769",
          "1800 - 1809",
          "1810 - 1819",
          "1820 - 1829",
          "1830 - 1839",
          "1840 - 1849",
          "1850 - 1859",
          "1860 - 1869",
          "1870 - 1879",
          "1880 - 1889",
          "1890 - 1899",
          "1900 - 1909",
          "1910 - 1919",
          "1920 - 1929",
          "1930 - 1939",
          "1940 - 1949",
          "1950 - 1959",
          "1960 - 1969",
          "1970 - 1979",
          "1980 - 1989",
          "1990 - 1999",
          "2000 - 2009",
          "2010 - 2019",
          "2020 - 2023",
          "n.i."
         ],
         "categoryorder": "array",
         "domain": [
          0,
          1
         ],
         "title": {
          "text": "Década"
         }
        },
        "yaxis": {
         "anchor": "x",
         "domain": [
          0,
          1
         ],
         "title": {
          "text": "Quantidade de Periódicos"
         }
        }
       }
      }
     },
     "metadata": {},
     "output_type": "display_data"
    }
   ],
   "source": [
    "# criar gráfico de barras com a quantidade de itens por década\n",
    "fig = px.bar(df, x='período', y=' quantidade de periódicos', color='período', title='HDB - Quantidade de itens por década')\n",
    "# renomear eixos\n",
    "fig.update_layout(xaxis_title='Década', yaxis_title='Quantidade de Periódicos')\n",
    "# incluir valores nos topos das barras\n",
    "fig.update_traces(texttemplate='%{value}', textposition='outside')\n",
    "# definir o tamanho da figura\n",
    "fig.update_layout(height=800, width=1200)\n",
    "# exibir o gráfico\n",
    "fig.show()"
   ]
  },
  {
   "cell_type": "code",
   "execution_count": 12,
   "metadata": {},
   "outputs": [],
   "source": [
    "# salvar como html\n",
    "fig.write_html(\"periodicos_dec.html\")\n",
    "# savar como imagem\n",
    "fig.write_image(\"periodicos_dec.png\")"
   ]
  },
  {
   "attachments": {},
   "cell_type": "markdown",
   "metadata": {},
   "source": [
    "Percebemos o acentuado crescimento de periódicos digitalizados no século XIX e o declínio em meados do século XX. Entre 1860 e 1940, todas as décadas possuem mais de 600 títulos digitalizados. As décacdas de 1880 e 1890 concentram 1595 e 1368 respectivamente. Vamos olhar os percentuais de periódicos por década, para entendermos mais claramente a concentração dos itens do acervo em um determinado recorte temporal."
   ]
  },
  {
   "cell_type": "code",
   "execution_count": 13,
   "metadata": {},
   "outputs": [
    {
     "data": {
      "text/html": [
       "<div>\n",
       "<style scoped>\n",
       "    .dataframe tbody tr th:only-of-type {\n",
       "        vertical-align: middle;\n",
       "    }\n",
       "\n",
       "    .dataframe tbody tr th {\n",
       "        vertical-align: top;\n",
       "    }\n",
       "\n",
       "    .dataframe thead th {\n",
       "        text-align: right;\n",
       "    }\n",
       "</style>\n",
       "<table border=\"1\" class=\"dataframe\">\n",
       "  <thead>\n",
       "    <tr style=\"text-align: right;\">\n",
       "      <th></th>\n",
       "      <th>período</th>\n",
       "      <th>quantidade de locais</th>\n",
       "      <th>quantidade de periódicos</th>\n",
       "      <th>porcentagem</th>\n",
       "    </tr>\n",
       "  </thead>\n",
       "  <tbody>\n",
       "    <tr>\n",
       "      <th>10</th>\n",
       "      <td>1880 - 1889</td>\n",
       "      <td>28</td>\n",
       "      <td>1595</td>\n",
       "      <td>14.490779</td>\n",
       "    </tr>\n",
       "    <tr>\n",
       "      <th>11</th>\n",
       "      <td>1890 - 1899</td>\n",
       "      <td>27</td>\n",
       "      <td>1368</td>\n",
       "      <td>12.428455</td>\n",
       "    </tr>\n",
       "    <tr>\n",
       "      <th>9</th>\n",
       "      <td>1870 - 1879</td>\n",
       "      <td>28</td>\n",
       "      <td>981</td>\n",
       "      <td>8.912510</td>\n",
       "    </tr>\n",
       "    <tr>\n",
       "      <th>13</th>\n",
       "      <td>1910 - 1919</td>\n",
       "      <td>32</td>\n",
       "      <td>936</td>\n",
       "      <td>8.503679</td>\n",
       "    </tr>\n",
       "    <tr>\n",
       "      <th>12</th>\n",
       "      <td>1900 - 1909</td>\n",
       "      <td>28</td>\n",
       "      <td>917</td>\n",
       "      <td>8.331062</td>\n",
       "    </tr>\n",
       "    <tr>\n",
       "      <th>14</th>\n",
       "      <td>1920 - 1929</td>\n",
       "      <td>29</td>\n",
       "      <td>819</td>\n",
       "      <td>7.440720</td>\n",
       "    </tr>\n",
       "    <tr>\n",
       "      <th>15</th>\n",
       "      <td>1930 - 1939</td>\n",
       "      <td>28</td>\n",
       "      <td>678</td>\n",
       "      <td>6.159717</td>\n",
       "    </tr>\n",
       "    <tr>\n",
       "      <th>8</th>\n",
       "      <td>1860 - 1869</td>\n",
       "      <td>27</td>\n",
       "      <td>624</td>\n",
       "      <td>5.669120</td>\n",
       "    </tr>\n",
       "    <tr>\n",
       "      <th>7</th>\n",
       "      <td>1850 - 1859</td>\n",
       "      <td>25</td>\n",
       "      <td>450</td>\n",
       "      <td>4.088307</td>\n",
       "    </tr>\n",
       "    <tr>\n",
       "      <th>16</th>\n",
       "      <td>1940 - 1949</td>\n",
       "      <td>28</td>\n",
       "      <td>409</td>\n",
       "      <td>3.715817</td>\n",
       "    </tr>\n",
       "    <tr>\n",
       "      <th>17</th>\n",
       "      <td>1950 - 1959</td>\n",
       "      <td>27</td>\n",
       "      <td>388</td>\n",
       "      <td>3.525030</td>\n",
       "    </tr>\n",
       "    <tr>\n",
       "      <th>6</th>\n",
       "      <td>1840 - 1849</td>\n",
       "      <td>21</td>\n",
       "      <td>383</td>\n",
       "      <td>3.479604</td>\n",
       "    </tr>\n",
       "    <tr>\n",
       "      <th>5</th>\n",
       "      <td>1830 - 1839</td>\n",
       "      <td>22</td>\n",
       "      <td>336</td>\n",
       "      <td>3.052603</td>\n",
       "    </tr>\n",
       "    <tr>\n",
       "      <th>18</th>\n",
       "      <td>1960 - 1969</td>\n",
       "      <td>20</td>\n",
       "      <td>274</td>\n",
       "      <td>2.489325</td>\n",
       "    </tr>\n",
       "    <tr>\n",
       "      <th>19</th>\n",
       "      <td>1970 - 1979</td>\n",
       "      <td>19</td>\n",
       "      <td>236</td>\n",
       "      <td>2.144090</td>\n",
       "    </tr>\n",
       "    <tr>\n",
       "      <th>20</th>\n",
       "      <td>1980 - 1989</td>\n",
       "      <td>20</td>\n",
       "      <td>197</td>\n",
       "      <td>1.789770</td>\n",
       "    </tr>\n",
       "    <tr>\n",
       "      <th>4</th>\n",
       "      <td>1820 - 1829</td>\n",
       "      <td>14</td>\n",
       "      <td>130</td>\n",
       "      <td>1.181067</td>\n",
       "    </tr>\n",
       "    <tr>\n",
       "      <th>21</th>\n",
       "      <td>1990 - 1999</td>\n",
       "      <td>13</td>\n",
       "      <td>102</td>\n",
       "      <td>0.926683</td>\n",
       "    </tr>\n",
       "    <tr>\n",
       "      <th>22</th>\n",
       "      <td>2000 - 2009</td>\n",
       "      <td>10</td>\n",
       "      <td>69</td>\n",
       "      <td>0.626874</td>\n",
       "    </tr>\n",
       "    <tr>\n",
       "      <th>25</th>\n",
       "      <td>n.i.</td>\n",
       "      <td>14</td>\n",
       "      <td>57</td>\n",
       "      <td>0.517852</td>\n",
       "    </tr>\n",
       "    <tr>\n",
       "      <th>3</th>\n",
       "      <td>1810 - 1819</td>\n",
       "      <td>8</td>\n",
       "      <td>21</td>\n",
       "      <td>0.190788</td>\n",
       "    </tr>\n",
       "    <tr>\n",
       "      <th>23</th>\n",
       "      <td>2010 - 2019</td>\n",
       "      <td>5</td>\n",
       "      <td>19</td>\n",
       "      <td>0.172617</td>\n",
       "    </tr>\n",
       "    <tr>\n",
       "      <th>24</th>\n",
       "      <td>2020 - 2023</td>\n",
       "      <td>3</td>\n",
       "      <td>13</td>\n",
       "      <td>0.118107</td>\n",
       "    </tr>\n",
       "    <tr>\n",
       "      <th>2</th>\n",
       "      <td>1800 - 1809</td>\n",
       "      <td>2</td>\n",
       "      <td>3</td>\n",
       "      <td>0.027255</td>\n",
       "    </tr>\n",
       "    <tr>\n",
       "      <th>1</th>\n",
       "      <td>1760 - 1769</td>\n",
       "      <td>1</td>\n",
       "      <td>1</td>\n",
       "      <td>0.009085</td>\n",
       "    </tr>\n",
       "    <tr>\n",
       "      <th>0</th>\n",
       "      <td>1740 - 1749</td>\n",
       "      <td>1</td>\n",
       "      <td>1</td>\n",
       "      <td>0.009085</td>\n",
       "    </tr>\n",
       "  </tbody>\n",
       "</table>\n",
       "</div>"
      ],
      "text/plain": [
       "        período  quantidade de locais   quantidade de periódicos  porcentagem\n",
       "10  1880 - 1889                    28                       1595    14.490779\n",
       "11  1890 - 1899                    27                       1368    12.428455\n",
       "9   1870 - 1879                    28                        981     8.912510\n",
       "13  1910 - 1919                    32                        936     8.503679\n",
       "12  1900 - 1909                    28                        917     8.331062\n",
       "14  1920 - 1929                    29                        819     7.440720\n",
       "15  1930 - 1939                    28                        678     6.159717\n",
       "8   1860 - 1869                    27                        624     5.669120\n",
       "7   1850 - 1859                    25                        450     4.088307\n",
       "16  1940 - 1949                    28                        409     3.715817\n",
       "17  1950 - 1959                    27                        388     3.525030\n",
       "6   1840 - 1849                    21                        383     3.479604\n",
       "5   1830 - 1839                    22                        336     3.052603\n",
       "18  1960 - 1969                    20                        274     2.489325\n",
       "19  1970 - 1979                    19                        236     2.144090\n",
       "20  1980 - 1989                    20                        197     1.789770\n",
       "4   1820 - 1829                    14                        130     1.181067\n",
       "21  1990 - 1999                    13                        102     0.926683\n",
       "22  2000 - 2009                    10                         69     0.626874\n",
       "25         n.i.                    14                         57     0.517852\n",
       "3   1810 - 1819                     8                         21     0.190788\n",
       "23  2010 - 2019                     5                         19     0.172617\n",
       "24  2020 - 2023                     3                         13     0.118107\n",
       "2   1800 - 1809                     2                          3     0.027255\n",
       "1   1760 - 1769                     1                          1     0.009085\n",
       "0   1740 - 1749                     1                          1     0.009085"
      ]
     },
     "execution_count": 13,
     "metadata": {},
     "output_type": "execute_result"
    }
   ],
   "source": [
    "# calcular a porcentagem de itens por década\n",
    "df['porcentagem'] = df[' quantidade de periódicos'] / df[' quantidade de periódicos'].sum() * 100\n",
    "# classificar o dataframe pela coluna «porcentagem»\n",
    "df = df.sort_values(by='porcentagem', ascending=False)\n",
    "# visualizar o dataframe\n",
    "df"
   ]
  },
  {
   "cell_type": "code",
   "execution_count": 14,
   "metadata": {},
   "outputs": [
    {
     "data": {
      "application/vnd.plotly.v1+json": {
       "config": {
        "plotlyServerURL": "https://plot.ly"
       },
       "data": [
        {
         "domain": {
          "x": [
           0,
           1
          ],
          "y": [
           0,
           1
          ]
         },
         "hovertemplate": "período=%{label}<br>porcentagem=%{value}<extra></extra>",
         "labels": [
          "1880 - 1889",
          "1890 - 1899",
          "1870 - 1879",
          "1910 - 1919",
          "1900 - 1909",
          "1920 - 1929",
          "1930 - 1939",
          "1860 - 1869",
          "1850 - 1859",
          "1940 - 1949",
          "1950 - 1959",
          "1840 - 1849",
          "1830 - 1839",
          "1960 - 1969",
          "1970 - 1979",
          "1980 - 1989",
          "1820 - 1829",
          "1990 - 1999",
          "2000 - 2009",
          "n.i.",
          "1810 - 1819",
          "2010 - 2019",
          "2020 - 2023",
          "1800 - 1809",
          "1760 - 1769",
          "1740 - 1749"
         ],
         "legendgroup": "",
         "name": "",
         "showlegend": true,
         "type": "pie",
         "values": [
          14.490778595439266,
          12.428454619787408,
          8.912510220768603,
          8.503679476696648,
          8.331062051421823,
          7.440719542109567,
          6.159716544017443,
          5.669119651131099,
          4.088307440719542,
          3.7158172072317615,
          3.5250295266648495,
          3.4796038884346325,
          3.0526028890705916,
          2.489324975015899,
          2.1440901244662487,
          1.7897701462705549,
          1.1810665939856455,
          0.9266830198964295,
          0.6268738075769964,
          0.5178522758244753,
          0.19078768056691198,
          0.17261742527482513,
          0.11810665939856456,
          0.027255382938130283,
          0.009085127646043427,
          0.009085127646043427
         ]
        }
       ],
       "layout": {
        "height": 800,
        "legend": {
         "tracegroupgap": 0
        },
        "template": {
         "data": {
          "bar": [
           {
            "error_x": {
             "color": "#2a3f5f"
            },
            "error_y": {
             "color": "#2a3f5f"
            },
            "marker": {
             "line": {
              "color": "#E5ECF6",
              "width": 0.5
             },
             "pattern": {
              "fillmode": "overlay",
              "size": 10,
              "solidity": 0.2
             }
            },
            "type": "bar"
           }
          ],
          "barpolar": [
           {
            "marker": {
             "line": {
              "color": "#E5ECF6",
              "width": 0.5
             },
             "pattern": {
              "fillmode": "overlay",
              "size": 10,
              "solidity": 0.2
             }
            },
            "type": "barpolar"
           }
          ],
          "carpet": [
           {
            "aaxis": {
             "endlinecolor": "#2a3f5f",
             "gridcolor": "white",
             "linecolor": "white",
             "minorgridcolor": "white",
             "startlinecolor": "#2a3f5f"
            },
            "baxis": {
             "endlinecolor": "#2a3f5f",
             "gridcolor": "white",
             "linecolor": "white",
             "minorgridcolor": "white",
             "startlinecolor": "#2a3f5f"
            },
            "type": "carpet"
           }
          ],
          "choropleth": [
           {
            "colorbar": {
             "outlinewidth": 0,
             "ticks": ""
            },
            "type": "choropleth"
           }
          ],
          "contour": [
           {
            "colorbar": {
             "outlinewidth": 0,
             "ticks": ""
            },
            "colorscale": [
             [
              0,
              "#0d0887"
             ],
             [
              0.1111111111111111,
              "#46039f"
             ],
             [
              0.2222222222222222,
              "#7201a8"
             ],
             [
              0.3333333333333333,
              "#9c179e"
             ],
             [
              0.4444444444444444,
              "#bd3786"
             ],
             [
              0.5555555555555556,
              "#d8576b"
             ],
             [
              0.6666666666666666,
              "#ed7953"
             ],
             [
              0.7777777777777778,
              "#fb9f3a"
             ],
             [
              0.8888888888888888,
              "#fdca26"
             ],
             [
              1,
              "#f0f921"
             ]
            ],
            "type": "contour"
           }
          ],
          "contourcarpet": [
           {
            "colorbar": {
             "outlinewidth": 0,
             "ticks": ""
            },
            "type": "contourcarpet"
           }
          ],
          "heatmap": [
           {
            "colorbar": {
             "outlinewidth": 0,
             "ticks": ""
            },
            "colorscale": [
             [
              0,
              "#0d0887"
             ],
             [
              0.1111111111111111,
              "#46039f"
             ],
             [
              0.2222222222222222,
              "#7201a8"
             ],
             [
              0.3333333333333333,
              "#9c179e"
             ],
             [
              0.4444444444444444,
              "#bd3786"
             ],
             [
              0.5555555555555556,
              "#d8576b"
             ],
             [
              0.6666666666666666,
              "#ed7953"
             ],
             [
              0.7777777777777778,
              "#fb9f3a"
             ],
             [
              0.8888888888888888,
              "#fdca26"
             ],
             [
              1,
              "#f0f921"
             ]
            ],
            "type": "heatmap"
           }
          ],
          "heatmapgl": [
           {
            "colorbar": {
             "outlinewidth": 0,
             "ticks": ""
            },
            "colorscale": [
             [
              0,
              "#0d0887"
             ],
             [
              0.1111111111111111,
              "#46039f"
             ],
             [
              0.2222222222222222,
              "#7201a8"
             ],
             [
              0.3333333333333333,
              "#9c179e"
             ],
             [
              0.4444444444444444,
              "#bd3786"
             ],
             [
              0.5555555555555556,
              "#d8576b"
             ],
             [
              0.6666666666666666,
              "#ed7953"
             ],
             [
              0.7777777777777778,
              "#fb9f3a"
             ],
             [
              0.8888888888888888,
              "#fdca26"
             ],
             [
              1,
              "#f0f921"
             ]
            ],
            "type": "heatmapgl"
           }
          ],
          "histogram": [
           {
            "marker": {
             "pattern": {
              "fillmode": "overlay",
              "size": 10,
              "solidity": 0.2
             }
            },
            "type": "histogram"
           }
          ],
          "histogram2d": [
           {
            "colorbar": {
             "outlinewidth": 0,
             "ticks": ""
            },
            "colorscale": [
             [
              0,
              "#0d0887"
             ],
             [
              0.1111111111111111,
              "#46039f"
             ],
             [
              0.2222222222222222,
              "#7201a8"
             ],
             [
              0.3333333333333333,
              "#9c179e"
             ],
             [
              0.4444444444444444,
              "#bd3786"
             ],
             [
              0.5555555555555556,
              "#d8576b"
             ],
             [
              0.6666666666666666,
              "#ed7953"
             ],
             [
              0.7777777777777778,
              "#fb9f3a"
             ],
             [
              0.8888888888888888,
              "#fdca26"
             ],
             [
              1,
              "#f0f921"
             ]
            ],
            "type": "histogram2d"
           }
          ],
          "histogram2dcontour": [
           {
            "colorbar": {
             "outlinewidth": 0,
             "ticks": ""
            },
            "colorscale": [
             [
              0,
              "#0d0887"
             ],
             [
              0.1111111111111111,
              "#46039f"
             ],
             [
              0.2222222222222222,
              "#7201a8"
             ],
             [
              0.3333333333333333,
              "#9c179e"
             ],
             [
              0.4444444444444444,
              "#bd3786"
             ],
             [
              0.5555555555555556,
              "#d8576b"
             ],
             [
              0.6666666666666666,
              "#ed7953"
             ],
             [
              0.7777777777777778,
              "#fb9f3a"
             ],
             [
              0.8888888888888888,
              "#fdca26"
             ],
             [
              1,
              "#f0f921"
             ]
            ],
            "type": "histogram2dcontour"
           }
          ],
          "mesh3d": [
           {
            "colorbar": {
             "outlinewidth": 0,
             "ticks": ""
            },
            "type": "mesh3d"
           }
          ],
          "parcoords": [
           {
            "line": {
             "colorbar": {
              "outlinewidth": 0,
              "ticks": ""
             }
            },
            "type": "parcoords"
           }
          ],
          "pie": [
           {
            "automargin": true,
            "type": "pie"
           }
          ],
          "scatter": [
           {
            "fillpattern": {
             "fillmode": "overlay",
             "size": 10,
             "solidity": 0.2
            },
            "type": "scatter"
           }
          ],
          "scatter3d": [
           {
            "line": {
             "colorbar": {
              "outlinewidth": 0,
              "ticks": ""
             }
            },
            "marker": {
             "colorbar": {
              "outlinewidth": 0,
              "ticks": ""
             }
            },
            "type": "scatter3d"
           }
          ],
          "scattercarpet": [
           {
            "marker": {
             "colorbar": {
              "outlinewidth": 0,
              "ticks": ""
             }
            },
            "type": "scattercarpet"
           }
          ],
          "scattergeo": [
           {
            "marker": {
             "colorbar": {
              "outlinewidth": 0,
              "ticks": ""
             }
            },
            "type": "scattergeo"
           }
          ],
          "scattergl": [
           {
            "marker": {
             "colorbar": {
              "outlinewidth": 0,
              "ticks": ""
             }
            },
            "type": "scattergl"
           }
          ],
          "scattermapbox": [
           {
            "marker": {
             "colorbar": {
              "outlinewidth": 0,
              "ticks": ""
             }
            },
            "type": "scattermapbox"
           }
          ],
          "scatterpolar": [
           {
            "marker": {
             "colorbar": {
              "outlinewidth": 0,
              "ticks": ""
             }
            },
            "type": "scatterpolar"
           }
          ],
          "scatterpolargl": [
           {
            "marker": {
             "colorbar": {
              "outlinewidth": 0,
              "ticks": ""
             }
            },
            "type": "scatterpolargl"
           }
          ],
          "scatterternary": [
           {
            "marker": {
             "colorbar": {
              "outlinewidth": 0,
              "ticks": ""
             }
            },
            "type": "scatterternary"
           }
          ],
          "surface": [
           {
            "colorbar": {
             "outlinewidth": 0,
             "ticks": ""
            },
            "colorscale": [
             [
              0,
              "#0d0887"
             ],
             [
              0.1111111111111111,
              "#46039f"
             ],
             [
              0.2222222222222222,
              "#7201a8"
             ],
             [
              0.3333333333333333,
              "#9c179e"
             ],
             [
              0.4444444444444444,
              "#bd3786"
             ],
             [
              0.5555555555555556,
              "#d8576b"
             ],
             [
              0.6666666666666666,
              "#ed7953"
             ],
             [
              0.7777777777777778,
              "#fb9f3a"
             ],
             [
              0.8888888888888888,
              "#fdca26"
             ],
             [
              1,
              "#f0f921"
             ]
            ],
            "type": "surface"
           }
          ],
          "table": [
           {
            "cells": {
             "fill": {
              "color": "#EBF0F8"
             },
             "line": {
              "color": "white"
             }
            },
            "header": {
             "fill": {
              "color": "#C8D4E3"
             },
             "line": {
              "color": "white"
             }
            },
            "type": "table"
           }
          ]
         },
         "layout": {
          "annotationdefaults": {
           "arrowcolor": "#2a3f5f",
           "arrowhead": 0,
           "arrowwidth": 1
          },
          "autotypenumbers": "strict",
          "coloraxis": {
           "colorbar": {
            "outlinewidth": 0,
            "ticks": ""
           }
          },
          "colorscale": {
           "diverging": [
            [
             0,
             "#8e0152"
            ],
            [
             0.1,
             "#c51b7d"
            ],
            [
             0.2,
             "#de77ae"
            ],
            [
             0.3,
             "#f1b6da"
            ],
            [
             0.4,
             "#fde0ef"
            ],
            [
             0.5,
             "#f7f7f7"
            ],
            [
             0.6,
             "#e6f5d0"
            ],
            [
             0.7,
             "#b8e186"
            ],
            [
             0.8,
             "#7fbc41"
            ],
            [
             0.9,
             "#4d9221"
            ],
            [
             1,
             "#276419"
            ]
           ],
           "sequential": [
            [
             0,
             "#0d0887"
            ],
            [
             0.1111111111111111,
             "#46039f"
            ],
            [
             0.2222222222222222,
             "#7201a8"
            ],
            [
             0.3333333333333333,
             "#9c179e"
            ],
            [
             0.4444444444444444,
             "#bd3786"
            ],
            [
             0.5555555555555556,
             "#d8576b"
            ],
            [
             0.6666666666666666,
             "#ed7953"
            ],
            [
             0.7777777777777778,
             "#fb9f3a"
            ],
            [
             0.8888888888888888,
             "#fdca26"
            ],
            [
             1,
             "#f0f921"
            ]
           ],
           "sequentialminus": [
            [
             0,
             "#0d0887"
            ],
            [
             0.1111111111111111,
             "#46039f"
            ],
            [
             0.2222222222222222,
             "#7201a8"
            ],
            [
             0.3333333333333333,
             "#9c179e"
            ],
            [
             0.4444444444444444,
             "#bd3786"
            ],
            [
             0.5555555555555556,
             "#d8576b"
            ],
            [
             0.6666666666666666,
             "#ed7953"
            ],
            [
             0.7777777777777778,
             "#fb9f3a"
            ],
            [
             0.8888888888888888,
             "#fdca26"
            ],
            [
             1,
             "#f0f921"
            ]
           ]
          },
          "colorway": [
           "#636efa",
           "#EF553B",
           "#00cc96",
           "#ab63fa",
           "#FFA15A",
           "#19d3f3",
           "#FF6692",
           "#B6E880",
           "#FF97FF",
           "#FECB52"
          ],
          "font": {
           "color": "#2a3f5f"
          },
          "geo": {
           "bgcolor": "white",
           "lakecolor": "white",
           "landcolor": "#E5ECF6",
           "showlakes": true,
           "showland": true,
           "subunitcolor": "white"
          },
          "hoverlabel": {
           "align": "left"
          },
          "hovermode": "closest",
          "mapbox": {
           "style": "light"
          },
          "paper_bgcolor": "white",
          "plot_bgcolor": "#E5ECF6",
          "polar": {
           "angularaxis": {
            "gridcolor": "white",
            "linecolor": "white",
            "ticks": ""
           },
           "bgcolor": "#E5ECF6",
           "radialaxis": {
            "gridcolor": "white",
            "linecolor": "white",
            "ticks": ""
           }
          },
          "scene": {
           "xaxis": {
            "backgroundcolor": "#E5ECF6",
            "gridcolor": "white",
            "gridwidth": 2,
            "linecolor": "white",
            "showbackground": true,
            "ticks": "",
            "zerolinecolor": "white"
           },
           "yaxis": {
            "backgroundcolor": "#E5ECF6",
            "gridcolor": "white",
            "gridwidth": 2,
            "linecolor": "white",
            "showbackground": true,
            "ticks": "",
            "zerolinecolor": "white"
           },
           "zaxis": {
            "backgroundcolor": "#E5ECF6",
            "gridcolor": "white",
            "gridwidth": 2,
            "linecolor": "white",
            "showbackground": true,
            "ticks": "",
            "zerolinecolor": "white"
           }
          },
          "shapedefaults": {
           "line": {
            "color": "#2a3f5f"
           }
          },
          "ternary": {
           "aaxis": {
            "gridcolor": "white",
            "linecolor": "white",
            "ticks": ""
           },
           "baxis": {
            "gridcolor": "white",
            "linecolor": "white",
            "ticks": ""
           },
           "bgcolor": "#E5ECF6",
           "caxis": {
            "gridcolor": "white",
            "linecolor": "white",
            "ticks": ""
           }
          },
          "title": {
           "x": 0.05
          },
          "xaxis": {
           "automargin": true,
           "gridcolor": "white",
           "linecolor": "white",
           "ticks": "",
           "title": {
            "standoff": 15
           },
           "zerolinecolor": "white",
           "zerolinewidth": 2
          },
          "yaxis": {
           "automargin": true,
           "gridcolor": "white",
           "linecolor": "white",
           "ticks": "",
           "title": {
            "standoff": 15
           },
           "zerolinecolor": "white",
           "zerolinewidth": 2
          }
         }
        },
        "title": {
         "text": "HDB - Porcentagem de itens por década"
        },
        "width": 1200
       }
      }
     },
     "metadata": {},
     "output_type": "display_data"
    }
   ],
   "source": [
    "# criar gráfico de pizza com a porcentagem de itens por década\n",
    "fig_pizza = px.pie(df, values='porcentagem', names='período', title='HDB - Porcentagem de itens por década')\n",
    "# definir o tamanho da figura\n",
    "fig_pizza.update_layout(height=800, width=1200)\n",
    "# exibir o gráfico\n",
    "fig_pizza.show()"
   ]
  },
  {
   "cell_type": "code",
   "execution_count": 15,
   "metadata": {},
   "outputs": [],
   "source": [
    "# salvar como html\n",
    "fig_pizza.write_html(\"periodicos_dec_pizza.html\")\n",
    "# salvar como imagem\n",
    "fig_pizza.write_image(\"periodicos_dec_pizza.png\")"
   ]
  },
  {
   "cell_type": "code",
   "execution_count": 16,
   "metadata": {},
   "outputs": [
    {
     "data": {
      "text/html": [
       "<div>\n",
       "<style scoped>\n",
       "    .dataframe tbody tr th:only-of-type {\n",
       "        vertical-align: middle;\n",
       "    }\n",
       "\n",
       "    .dataframe tbody tr th {\n",
       "        vertical-align: top;\n",
       "    }\n",
       "\n",
       "    .dataframe thead th {\n",
       "        text-align: right;\n",
       "    }\n",
       "</style>\n",
       "<table border=\"1\" class=\"dataframe\">\n",
       "  <thead>\n",
       "    <tr style=\"text-align: right;\">\n",
       "      <th></th>\n",
       "      <th>período</th>\n",
       "      <th>quantidade de locais</th>\n",
       "      <th>quantidade de periódicos</th>\n",
       "      <th>porcentagem</th>\n",
       "    </tr>\n",
       "  </thead>\n",
       "  <tbody>\n",
       "    <tr>\n",
       "      <th>10</th>\n",
       "      <td>1880 - 1889</td>\n",
       "      <td>28</td>\n",
       "      <td>1595</td>\n",
       "      <td>14.490779</td>\n",
       "    </tr>\n",
       "    <tr>\n",
       "      <th>11</th>\n",
       "      <td>1890 - 1899</td>\n",
       "      <td>27</td>\n",
       "      <td>1368</td>\n",
       "      <td>12.428455</td>\n",
       "    </tr>\n",
       "    <tr>\n",
       "      <th>9</th>\n",
       "      <td>1870 - 1879</td>\n",
       "      <td>28</td>\n",
       "      <td>981</td>\n",
       "      <td>8.912510</td>\n",
       "    </tr>\n",
       "  </tbody>\n",
       "</table>\n",
       "</div>"
      ],
      "text/plain": [
       "        período  quantidade de locais   quantidade de periódicos  porcentagem\n",
       "10  1880 - 1889                    28                       1595    14.490779\n",
       "11  1890 - 1899                    27                       1368    12.428455\n",
       "9   1870 - 1879                    28                        981     8.912510"
      ]
     },
     "execution_count": 16,
     "metadata": {},
     "output_type": "execute_result"
    }
   ],
   "source": [
    "# somar os três itens mais altos da coluna «porcentagem» e criar um novo dataframe\n",
    "df_top3 = df.nlargest(3, 'porcentagem')\n",
    "# visualizar o dataframe\n",
    "df_top3"
   ]
  },
  {
   "cell_type": "code",
   "execution_count": 17,
   "metadata": {},
   "outputs": [
    {
     "data": {
      "text/plain": [
       "35.83174343599528"
      ]
     },
     "execution_count": 17,
     "metadata": {},
     "output_type": "execute_result"
    }
   ],
   "source": [
    "# Soma da porcentagem dos três itens mais altos\n",
    "df_top3['porcentagem'].sum()"
   ]
  },
  {
   "cell_type": "code",
   "execution_count": 18,
   "metadata": {},
   "outputs": [
    {
     "data": {
      "text/plain": [
       "3944"
      ]
     },
     "execution_count": 18,
     "metadata": {},
     "output_type": "execute_result"
    }
   ],
   "source": [
    "# soma da quantidade de itens dos três itens mais altos\n",
    "df_top3[' quantidade de periódicos'].sum()"
   ]
  },
  {
   "attachments": {},
   "cell_type": "markdown",
   "metadata": {},
   "source": [
    "As duas últimas células mostram que os três principais períodos (1870 - 1879, 1880 - 1889 e 1890 - 1899) reúnem 35,83% de todos os periódicos digitalizados disponíveis na interface gráfica da HDB no dia 01 de junho de 2023. Um total de 3.944 periódicos."
   ]
  }
 ],
 "metadata": {
  "kernelspec": {
   "display_name": "Python 3",
   "language": "python",
   "name": "python3"
  },
  "language_info": {
   "codemirror_mode": {
    "name": "ipython",
    "version": 3
   },
   "file_extension": ".py",
   "mimetype": "text/x-python",
   "name": "python",
   "nbconvert_exporter": "python",
   "pygments_lexer": "ipython3",
   "version": "3.10.6"
  },
  "orig_nbformat": 4
 },
 "nbformat": 4,
 "nbformat_minor": 2
}
