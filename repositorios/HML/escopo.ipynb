{
 "cells": [
  {
   "attachments": {},
   "cell_type": "markdown",
   "metadata": {},
   "source": [
    "#  Hemeroteca Digital de Lisboa\n",
    "\n",
    "Nesse notebook, vamos limpar e apresentar os dados coletados na HML. Buscaremos compreender o escopo do acervo digitalizado e ao mesmo tempo apresentar suas características gerais.\n",
    "\n",
    ":warning: Os dados da HML são escassos, visto que seu sítio não apresenta uma política de dados abertos. Os dados apresentados e analisados aqui são fruto de uma coleta realizada pelo [scraper_hml](scrapper.ipynb) e representam um esforço da pesquisa, mas que não são suficientes para uma análise mais profunda, apresentando dados incompletos e insuficientes para uma análise mais profunda.\n",
    "\n",
    ":warning: Atualmente está em desenvolvimento uma nova verão da HML, e sua versão beta pode ser acessada [aqui](https://hemerotecadigital.lisboa.pt/) . A nova versão apresenta uma interface mais moderna e intuitiva, com mais recursos de filtros e busca. No entanto, a nova versão ainda não foi oficialmente lançada e não contém todo o acervo digitalizado da HML. Portanto, a análise aqui apresentada se refere à versão atual da HML, que pode ser acessada [aqui](http://hemerotecadigital.cm-lisboa.pt/)."
   ]
  },
  {
   "attachments": {},
   "cell_type": "markdown",
   "metadata": {},
   "source": [
    "- Link: [https://hemerotecadigital.cm-lisboa.pt/](https://hemerotecadigital.cm-lisboa.pt/)\n",
    "- Escopo: Periódicos, Jornais, Revistas, Almanaques.\n",
    "- Recorte temporal: \n",
    "- Recorte espacial: Portugal.\n"
   ]
  }
 ],
 "metadata": {
  "language_info": {
   "name": "python"
  },
  "orig_nbformat": 4
 },
 "nbformat": 4,
 "nbformat_minor": 2
}
