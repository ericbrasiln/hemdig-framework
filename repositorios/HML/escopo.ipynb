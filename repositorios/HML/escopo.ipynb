{
 "cells": [
  {
   "attachments": {},
   "cell_type": "markdown",
   "metadata": {},
   "source": [
    "#  Hemeroteca Digital de Lisboa\n",
    "\n",
    "Nesse notebook, vamos limpar e apresentar os dados coletados na HML. Buscaremos compreender o escopo do acervo digitalizado e ao mesmo tempo apresentar suas características gerais.\n",
    "\n",
    ":warning: Os dados da HML são escassos, visto que seu sítio não apresenta uma política de dados abertos. Os dados apresentados e analisados aqui são fruto de uma coleta realizada pelo [scraper_hml](scrapper.ipynb) e representam um esforço da pesquisa, mas que não são suficientes para uma análise mais profunda, apresentando dados incompletos e insuficientes para uma análise mais profunda.\n",
    "\n",
    ":warning: Atualmente está em desenvolvimento uma nova verão da HML, e sua versão beta pode ser acessada [aqui](https://hemerotecadigital.lisboa.pt/) . A nova versão apresenta uma interface mais moderna e intuitiva, com mais recursos de filtros e busca. No entanto, a nova versão ainda não foi oficialmente lançada e não contém todo o acervo digitalizado da HML. Portanto, a análise aqui apresentada se refere à versão atual da HML, que pode ser acessada [aqui](http://hemerotecadigital.cm-lisboa.pt/)."
   ]
  },
  {
   "attachments": {},
   "cell_type": "markdown",
   "metadata": {},
   "source": [
    "- Link: [https://hemerotecadigital.cm-lisboa.pt/](https://hemerotecadigital.cm-lisboa.pt/)\n",
    "- Escopo: Periódicos, Jornais, Revistas, Almanaques.\n",
    "- Recorte temporal: \n",
    "- Recorte espacial: Portugal.\n"
   ]
  },
  {
   "attachments": {},
   "cell_type": "markdown",
   "metadata": {},
   "source": [
    "## Coleta de dados\n",
    "\n",
    "Os dados foram coletados utilizando o [scraper_hml](scrapper.ipynb), que é um scraper desenvolvido em Python utilizando a biblioteca [BeautifulSoup](). O scraper foi desenvolvido para coletar os dados de todos os periódicos disponíveis na HML, e os dados coletados foram salvos em um arquivo CSV.\n",
    "\n",
    "Os dados coletados são:\n",
    "\n",
    "- **Título**: Título do periódico\n",
    "- **Autoria**: Autoria do periódico\n",
    "- **Período**: Período disponível do periódico\n",
    "- **Link**: Link para o periódico\n",
    "- **Fichas Históricas**: Link para as fichas históricas do periódico\n",
    "- **Quantidade de PDF**: Quantidade de PDFs disponíveis do periódico\n",
    "- **Links dos PDFs**: Lista com links para os PDFs disponíveis do periódico"
   ]
  },
  {
   "attachments": {},
   "cell_type": "markdown",
   "metadata": {},
   "source": [
    "## Apresentação dos dados"
   ]
  },
  {
   "attachments": {},
   "cell_type": "markdown",
   "metadata": {},
   "source": [
    "Primeiramente, vamos importar as bibliotecas necessárias para a análise."
   ]
  },
  {
   "cell_type": "code",
   "execution_count": 1,
   "metadata": {},
   "outputs": [],
   "source": [
    "# importar pandas e plotly\n",
    "import pandas as pd\n",
    "import plotly.express as px"
   ]
  },
  {
   "attachments": {},
   "cell_type": "markdown",
   "metadata": {},
   "source": [
    "Vamos ler o arquivo CSV com os dados coletados e apresentar os dados em um DataFrame."
   ]
  },
  {
   "cell_type": "code",
   "execution_count": 2,
   "metadata": {},
   "outputs": [],
   "source": [
    "# abrir arquivo csv e criar dataframe\n",
    "df = pd.read_csv('hemeroteca_lisboa.csv')\n"
   ]
  },
  {
   "cell_type": "code",
   "execution_count": 3,
   "metadata": {},
   "outputs": [
    {
     "data": {
      "text/html": [
       "<div>\n",
       "<style scoped>\n",
       "    .dataframe tbody tr th:only-of-type {\n",
       "        vertical-align: middle;\n",
       "    }\n",
       "\n",
       "    .dataframe tbody tr th {\n",
       "        vertical-align: top;\n",
       "    }\n",
       "\n",
       "    .dataframe thead th {\n",
       "        text-align: right;\n",
       "    }\n",
       "</style>\n",
       "<table border=\"1\" class=\"dataframe\">\n",
       "  <thead>\n",
       "    <tr style=\"text-align: right;\">\n",
       "      <th></th>\n",
       "      <th>Título</th>\n",
       "      <th>Anos</th>\n",
       "      <th>Local</th>\n",
       "      <th>Fichas Históricas</th>\n",
       "      <th>Quantidade de PDF</th>\n",
       "      <th>Links dos PDFs</th>\n",
       "    </tr>\n",
       "  </thead>\n",
       "  <tbody>\n",
       "    <tr>\n",
       "      <th>0</th>\n",
       "      <td>Academia Portuguesa</td>\n",
       "      <td>['1933']</td>\n",
       "      <td>Sem local</td>\n",
       "      <td>Sem Ficha Histórica</td>\n",
       "      <td>11</td>\n",
       "      <td>['https://hemerotecadigital.cm-lisboa.pt/Perio...</td>\n",
       "    </tr>\n",
       "    <tr>\n",
       "      <th>1</th>\n",
       "      <td>O Académico: publicação bi-semanal redigida po...</td>\n",
       "      <td>[]</td>\n",
       "      <td>Sem local</td>\n",
       "      <td>Sem Ficha Histórica</td>\n",
       "      <td>1</td>\n",
       "      <td>['https://hemerotecadigital.cm-lisboa.pt/Perio...</td>\n",
       "    </tr>\n",
       "    <tr>\n",
       "      <th>2</th>\n",
       "      <td>O academico: revista quinzenal litteraria</td>\n",
       "      <td>['1878']</td>\n",
       "      <td>Sem local</td>\n",
       "      <td>https://hemerotecadigital.cm-lisboa.pt/Periodi...</td>\n",
       "      <td>6</td>\n",
       "      <td>['https://hemerotecadigital.cm-lisboa.pt/Perio...</td>\n",
       "    </tr>\n",
       "    <tr>\n",
       "      <th>3</th>\n",
       "      <td>O Académico: semanário ilustrado</td>\n",
       "      <td>['1902-1903']</td>\n",
       "      <td>Sem local</td>\n",
       "      <td>https://hemerotecadigital.cm-lisboa.pt/Periodi...</td>\n",
       "      <td>8</td>\n",
       "      <td>['https://hemerotecadigital.cm-lisboa.pt/Perio...</td>\n",
       "    </tr>\n",
       "    <tr>\n",
       "      <th>4</th>\n",
       "      <td>AccaoColonial_NComemorativo</td>\n",
       "      <td>['1934']</td>\n",
       "      <td>Sem local</td>\n",
       "      <td>Sem Ficha Histórica</td>\n",
       "      <td>1</td>\n",
       "      <td>['https://hemerotecadigital.cm-lisboa.pt/Perio...</td>\n",
       "    </tr>\n",
       "  </tbody>\n",
       "</table>\n",
       "</div>"
      ],
      "text/plain": [
       "                                              Título           Anos  \\\n",
       "0                               Academia Portuguesa        ['1933']   \n",
       "1  O Académico: publicação bi-semanal redigida po...             []   \n",
       "2         O academico: revista quinzenal litteraria        ['1878']   \n",
       "3                  O Académico: semanário ilustrado   ['1902-1903']   \n",
       "4                        AccaoColonial_NComemorativo       ['1934']   \n",
       "\n",
       "       Local                                  Fichas Históricas  \\\n",
       "0  Sem local                                Sem Ficha Histórica   \n",
       "1  Sem local                                Sem Ficha Histórica   \n",
       "2  Sem local  https://hemerotecadigital.cm-lisboa.pt/Periodi...   \n",
       "3  Sem local  https://hemerotecadigital.cm-lisboa.pt/Periodi...   \n",
       "4  Sem local                                Sem Ficha Histórica   \n",
       "\n",
       "   Quantidade de PDF                                     Links dos PDFs  \n",
       "0                 11  ['https://hemerotecadigital.cm-lisboa.pt/Perio...  \n",
       "1                  1  ['https://hemerotecadigital.cm-lisboa.pt/Perio...  \n",
       "2                  6  ['https://hemerotecadigital.cm-lisboa.pt/Perio...  \n",
       "3                  8  ['https://hemerotecadigital.cm-lisboa.pt/Perio...  \n",
       "4                  1  ['https://hemerotecadigital.cm-lisboa.pt/Perio...  "
      ]
     },
     "execution_count": 3,
     "metadata": {},
     "output_type": "execute_result"
    }
   ],
   "source": [
    "# visualizar as primeiras linhas do dataframe\n",
    "df.head()"
   ]
  },
  {
   "cell_type": "code",
   "execution_count": 4,
   "metadata": {},
   "outputs": [
    {
     "data": {
      "text/plain": [
       "['Título',\n",
       " 'Anos',\n",
       " 'Local',\n",
       " 'Fichas Históricas',\n",
       " 'Quantidade de PDF',\n",
       " 'Links dos PDFs']"
      ]
     },
     "execution_count": 4,
     "metadata": {},
     "output_type": "execute_result"
    }
   ],
   "source": [
    "# mostrar colunas do dataframe\n",
    "df.columns.tolist()"
   ]
  },
  {
   "attachments": {},
   "cell_type": "markdown",
   "metadata": {},
   "source": [
    "### Quantidade de itens no acervo"
   ]
  },
  {
   "cell_type": "code",
   "execution_count": 6,
   "metadata": {},
   "outputs": [
    {
     "data": {
      "text/plain": [
       "349"
      ]
     },
     "execution_count": 6,
     "metadata": {},
     "output_type": "execute_result"
    }
   ],
   "source": [
    "# contar valores únicos da coluna 'Título' e mostrar a soma\n",
    "df['Título'].nunique()"
   ]
  },
  {
   "attachments": {},
   "cell_type": "markdown",
   "metadata": {},
   "source": [
    "### Local\n",
    "\n",
    "Mostrar itens que possuem identificação de local\n"
   ]
  },
  {
   "cell_type": "code",
   "execution_count": 8,
   "metadata": {},
   "outputs": [
    {
     "data": {
      "text/plain": [
       "Sem local                  260\n",
       "Lisboa                      57\n",
       "Coimbra                      9\n",
       "Rio de Janeiro               6\n",
       "Porto                        5\n",
       "Paris                        3\n",
       "Lisboa e Rio de Janeiro      1\n",
       "Praia                        1\n",
       "Lourenço Marques             1\n",
       "Nova Goa                     1\n",
       "Washington                   1\n",
       "Luanda                       1\n",
       "Díli                         1\n",
       "Bolama                       1\n",
       "Macau                        1\n",
       "Madrid                       1\n",
       "Name: Local, dtype: int64"
      ]
     },
     "execution_count": 8,
     "metadata": {},
     "output_type": "execute_result"
    }
   ],
   "source": [
    "# contar cada valor na coluna 'Local'\n",
    "df['Local'].value_counts()"
   ]
  },
  {
   "attachments": {},
   "cell_type": "markdown",
   "metadata": {},
   "source": [
    "### Fichas Históricas\n",
    "\n",
    "Quantidade de itens no acervo que contam com fichas históricas"
   ]
  },
  {
   "cell_type": "code",
   "execution_count": 14,
   "metadata": {},
   "outputs": [
    {
     "data": {
      "text/plain": [
       "Sem Ficha Histórica                                                                                                                   147\n",
       "https://hemerotecadigital.cm-lisboa.pt/Periodicos/OPaquetedoTejo/../../FichasHistoricas/PaquetedoTejo.pdf                               1\n",
       "https://hemerotecadigital.cm-lisboa.pt/Periodicos/NovaSilva/1907/../../../FichasHistoricas/NOVASILVA.pdf                                1\n",
       "https://hemerotecadigital.cm-lisboa.pt/OBRAS/Ocidente/http://hemerotecadigital.cm-lisboa.pt/FichasHistoricas/Ocidente.pdf               1\n",
       "https://hemerotecadigital.cm-lisboa.pt/Periodicos/OrdemNova/../../FichasHistoricas/Ordem_Nova.pdf                                       1\n",
       "                                                                                                                                     ... \n",
       "https://hemerotecadigital.cm-lisboa.pt/Periodicos/OElenco/../../FichasHistoricas/OElenco.pdf                                            1\n",
       "https://hemerotecadigital.cm-lisboa.pt/Periodicos/EngenhocasECoisasPracticas/../../FichasHistoricas/EngenhocaseCoisasPracticas.pdf      1\n",
       "https://hemerotecadigital.cm-lisboa.pt/Periodicos/AEpoca/../../../../FichasHistoricas/AEpoca.pdf                                        1\n",
       "https://hemerotecadigital.cm-lisboa.pt/Periodicos/EraNova/../../FichasHistoricas/EraNova.pdf                                            1\n",
       "https://hemerotecadigital.cm-lisboa.pt/Periodicos/OZe/http://hemerotecadigital.cm-lisboa.pt/FichasHistoricas/OZe.pdf                    1\n",
       "Name: Fichas Históricas, Length: 204, dtype: int64"
      ]
     },
     "execution_count": 14,
     "metadata": {},
     "output_type": "execute_result"
    }
   ],
   "source": [
    "df['Fichas Históricas'].value_counts()"
   ]
  },
  {
   "cell_type": "code",
   "execution_count": 13,
   "metadata": {},
   "outputs": [
    {
     "data": {
      "text/plain": [
       "147"
      ]
     },
     "execution_count": 13,
     "metadata": {},
     "output_type": "execute_result"
    }
   ],
   "source": [
    "# itens sem ficha histórica\n",
    "df['Fichas Históricas'].value_counts()['Sem Ficha Histórica']"
   ]
  },
  {
   "cell_type": "code",
   "execution_count": 16,
   "metadata": {},
   "outputs": [
    {
     "data": {
      "text/plain": [
       "202"
      ]
     },
     "execution_count": 16,
     "metadata": {},
     "output_type": "execute_result"
    }
   ],
   "source": [
    "# cálculo de itens com ficha histórica\n",
    "com_ficha = df['Título'].nunique()-df['Fichas Históricas'].value_counts()['Sem Ficha Histórica']\n",
    "com_ficha"
   ]
  },
  {
   "cell_type": "code",
   "execution_count": 17,
   "metadata": {},
   "outputs": [
    {
     "data": {
      "text/plain": [
       "57.879656160458445"
      ]
     },
     "execution_count": 17,
     "metadata": {},
     "output_type": "execute_result"
    }
   ],
   "source": [
    "# porcentagem de itens com ficha histórica\n",
    "porcentagem = com_ficha/df['Título'].nunique()*100\n",
    "porcentagem"
   ]
  }
 ],
 "metadata": {
  "kernelspec": {
   "display_name": "Python 3",
   "language": "python",
   "name": "python3"
  },
  "language_info": {
   "codemirror_mode": {
    "name": "ipython",
    "version": 3
   },
   "file_extension": ".py",
   "mimetype": "text/x-python",
   "name": "python",
   "nbconvert_exporter": "python",
   "pygments_lexer": "ipython3",
   "version": "3.10.6"
  },
  "orig_nbformat": 4
 },
 "nbformat": 4,
 "nbformat_minor": 2
}
