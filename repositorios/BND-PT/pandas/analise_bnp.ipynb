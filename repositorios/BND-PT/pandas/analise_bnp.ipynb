{
 "cells": [
  {
   "attachments": {},
   "cell_type": "markdown",
   "metadata": {},
   "source": [
    "# Análise dos dados da Biblioteca Nacional Digital de Portugal\n",
    "\n",
    "Nesse notebook, vamos limpar e analisar os dados disponibilizados pela BNP em seu sítio de dados abertos. Buscaremos compreender o escopo do acervo digitalizado e disponibilizado e ao mesmo tempo analisar suas características e como impactam na pesquisa e uso do acervo."
   ]
  },
  {
   "cell_type": "code",
   "execution_count": 1,
   "metadata": {},
   "outputs": [],
   "source": [
    "# Importar bibliotecas\n",
    "import pandas as pd\n",
    "import plotly.express as px"
   ]
  },
  {
   "cell_type": "code",
   "execution_count": 2,
   "metadata": {},
   "outputs": [],
   "source": [
    "# importar dataset e criar dataframe\n",
    "#dataset_path =\"/home/ebn/Documentos/Github/hemdig-framework/repositorios/BND-PT/bnd-pt_livre.csv\" #str(input('Insira o caminho do dataset: ')) #/home/ebn/Documentos/Github/hemdig-framework/repositorios/BND-PT/bnd-pt.csv\n",
    "#df = pd.read_csv(dataset_path, sep=',', encoding='utf-8')\n",
    "\n",
    "file_encoding = 'utf8'        # set file_encoding to the file encoding (utf8, latin1, etc.)\n",
    "input_fd = open(\"/home/ebn/Documentos/Github/hemdig-framework/repositorios/BND-PT/bnd-pt_livre.csv\", encoding=file_encoding, errors = 'backslashreplace')\n",
    "df = pd.read_csv(input_fd, sep=',', encoding='utf-8')"
   ]
  },
  {
   "attachments": {},
   "cell_type": "markdown",
   "metadata": {},
   "source": [
    "Sobre o código anterior, ver a [resposta no StackOverflow](https://stackoverflow.com/a/51763708/12751702)"
   ]
  },
  {
   "attachments": {},
   "cell_type": "markdown",
   "metadata": {},
   "source": [
    "## Visão geral dos dados"
   ]
  },
  {
   "attachments": {},
   "cell_type": "markdown",
   "metadata": {},
   "source": [
    "Primeiras 10 linhas do *dataframe*:"
   ]
  },
  {
   "cell_type": "code",
   "execution_count": 3,
   "metadata": {},
   "outputs": [
    {
     "data": {
      "text/html": [
       "<div>\n",
       "<style scoped>\n",
       "    .dataframe tbody tr th:only-of-type {\n",
       "        vertical-align: middle;\n",
       "    }\n",
       "\n",
       "    .dataframe tbody tr th {\n",
       "        vertical-align: top;\n",
       "    }\n",
       "\n",
       "    .dataframe thead th {\n",
       "        text-align: right;\n",
       "    }\n",
       "</style>\n",
       "<table border=\"1\" class=\"dataframe\">\n",
       "  <thead>\n",
       "    <tr style=\"text-align: right;\">\n",
       "      <th></th>\n",
       "      <th>BNP record ID</th>\n",
       "      <th>Material type</th>\n",
       "      <th>ISBN</th>\n",
       "      <th>Legal deposit number</th>\n",
       "      <th>Language of Text</th>\n",
       "      <th>Language of Original Work</th>\n",
       "      <th>Title</th>\n",
       "      <th>Subtitle</th>\n",
       "      <th>Original title</th>\n",
       "      <th>Edition</th>\n",
       "      <th>...</th>\n",
       "      <th>Name of Publisher</th>\n",
       "      <th>Date of Publication</th>\n",
       "      <th>Extent of Item</th>\n",
       "      <th>Dimensions</th>\n",
       "      <th>Series</th>\n",
       "      <th>Volume</th>\n",
       "      <th>Universal Decimal Classification</th>\n",
       "      <th>Authors</th>\n",
       "      <th>Image</th>\n",
       "      <th>Persistent URL</th>\n",
       "    </tr>\n",
       "  </thead>\n",
       "  <tbody>\n",
       "    <tr>\n",
       "      <th>0</th>\n",
       "      <td>544</td>\n",
       "      <td>Book</td>\n",
       "      <td>NaN</td>\n",
       "      <td>NaN</td>\n",
       "      <td>por</td>\n",
       "      <td>NaN</td>\n",
       "      <td>A Suma Oriental de Tomé Pires e o livro de Fra...</td>\n",
       "      <td>NaN</td>\n",
       "      <td>NaN</td>\n",
       "      <td>NaN</td>\n",
       "      <td>...</td>\n",
       "      <td>por Ordem da Universidade</td>\n",
       "      <td>1978</td>\n",
       "      <td>X, 503 p.</td>\n",
       "      <td>22 cm</td>\n",
       "      <td>Acta Universitatis Conimbrigensis</td>\n",
       "      <td>NaN</td>\n",
       "      <td>910.4(469+5)\"15\" ; 821.134.3-992\"15\"</td>\n",
       "      <td>Pires, Tomé ; Rodrigues, Francisco ; Cortesão,...</td>\n",
       "      <td>https://purl.pt/37597/service/media/cover/low</td>\n",
       "      <td>http://id.bnportugal.gov.pt/bib/catbnp/544</td>\n",
       "    </tr>\n",
       "    <tr>\n",
       "      <th>1</th>\n",
       "      <td>619</td>\n",
       "      <td>Book</td>\n",
       "      <td>NaN</td>\n",
       "      <td>NaN</td>\n",
       "      <td>por</td>\n",
       "      <td>NaN</td>\n",
       "      <td>Timor, do século XVI ao século XX</td>\n",
       "      <td>[catálogo da exposição] no ano do IV Centenári...</td>\n",
       "      <td>NaN</td>\n",
       "      <td>NaN</td>\n",
       "      <td>...</td>\n",
       "      <td>B. N. L.</td>\n",
       "      <td>1980</td>\n",
       "      <td>66, [1] p.</td>\n",
       "      <td>29 cm</td>\n",
       "      <td>NaN</td>\n",
       "      <td>NaN</td>\n",
       "      <td>011(594.75)\"15/19\"</td>\n",
       "      <td>Portugal, Biblioteca Nacional de Lisboa</td>\n",
       "      <td>https://purl.pt/206/service/media/cover/low</td>\n",
       "      <td>http://id.bnportugal.gov.pt/bib/catbnp/619</td>\n",
       "    </tr>\n",
       "    <tr>\n",
       "      <th>2</th>\n",
       "      <td>3024</td>\n",
       "      <td>Book</td>\n",
       "      <td>NaN</td>\n",
       "      <td>NaN</td>\n",
       "      <td>por</td>\n",
       "      <td>NaN</td>\n",
       "      <td>Macau</td>\n",
       "      <td>letras e artes do século XVI ao século XX</td>\n",
       "      <td>NaN</td>\n",
       "      <td>NaN</td>\n",
       "      <td>...</td>\n",
       "      <td>Biblioteca Nacional de Lisboa</td>\n",
       "      <td>1979</td>\n",
       "      <td>VI, 68, [1] p.</td>\n",
       "      <td>23 cm</td>\n",
       "      <td>NaN</td>\n",
       "      <td>NaN</td>\n",
       "      <td>908.512.318(01) ; 017.1(469) IBL ; 061.4</td>\n",
       "      <td>Casa de Macau ; Portugal, Biblioteca Nacional ...</td>\n",
       "      <td>https://purl.pt/28923/service/media/cover/low</td>\n",
       "      <td>http://id.bnportugal.gov.pt/bib/catbnp/3024</td>\n",
       "    </tr>\n",
       "    <tr>\n",
       "      <th>3</th>\n",
       "      <td>6187</td>\n",
       "      <td>Book</td>\n",
       "      <td>NaN</td>\n",
       "      <td>NaN</td>\n",
       "      <td>por</td>\n",
       "      <td>NaN</td>\n",
       "      <td>Estatutos</td>\n",
       "      <td>NaN</td>\n",
       "      <td>NaN</td>\n",
       "      <td>NaN</td>\n",
       "      <td>...</td>\n",
       "      <td>G. L. T. Carreiros</td>\n",
       "      <td>1979</td>\n",
       "      <td>11 p.</td>\n",
       "      <td>15 cm</td>\n",
       "      <td>NaN</td>\n",
       "      <td>NaN</td>\n",
       "      <td>796/799</td>\n",
       "      <td>Grupo Lawn Tennis de Carreiros</td>\n",
       "      <td>https://purl.pt/38809/service/media/cover/low</td>\n",
       "      <td>http://id.bnportugal.gov.pt/bib/catbnp/6187</td>\n",
       "    </tr>\n",
       "    <tr>\n",
       "      <th>4</th>\n",
       "      <td>6849</td>\n",
       "      <td>Book</td>\n",
       "      <td>NaN</td>\n",
       "      <td>NaN</td>\n",
       "      <td>por</td>\n",
       "      <td>NaN</td>\n",
       "      <td>Documentos remettidos da India ou Livros das M...</td>\n",
       "      <td>NaN</td>\n",
       "      <td>NaN</td>\n",
       "      <td>NaN</td>\n",
       "      <td>...</td>\n",
       "      <td>Academia Real das Sciências</td>\n",
       "      <td>1880</td>\n",
       "      <td>10 v.</td>\n",
       "      <td>30 cm</td>\n",
       "      <td>Monumentos inéditos para a história das conqui...</td>\n",
       "      <td>7, 8, 9, 12, 18, 20, 21, 22</td>\n",
       "      <td>946.9(548.96)</td>\n",
       "      <td>Pato, Bulhão ; Rego, António da Silva ; Portug...</td>\n",
       "      <td>https://purl.pt/26875/service/media/cover/low</td>\n",
       "      <td>http://id.bnportugal.gov.pt/bib/catbnp/6849</td>\n",
       "    </tr>\n",
       "  </tbody>\n",
       "</table>\n",
       "<p>5 rows × 21 columns</p>\n",
       "</div>"
      ],
      "text/plain": [
       "   BNP record ID Material type ISBN Legal deposit number Language of Text  \\\n",
       "0            544          Book  NaN                  NaN              por   \n",
       "1            619          Book  NaN                  NaN              por   \n",
       "2           3024          Book  NaN                  NaN              por   \n",
       "3           6187          Book  NaN                  NaN              por   \n",
       "4           6849          Book  NaN                  NaN              por   \n",
       "\n",
       "  Language of Original Work  \\\n",
       "0                       NaN   \n",
       "1                       NaN   \n",
       "2                       NaN   \n",
       "3                       NaN   \n",
       "4                       NaN   \n",
       "\n",
       "                                               Title  \\\n",
       "0  A Suma Oriental de Tomé Pires e o livro de Fra...   \n",
       "1                  Timor, do século XVI ao século XX   \n",
       "2                                              Macau   \n",
       "3                                          Estatutos   \n",
       "4  Documentos remettidos da India ou Livros das M...   \n",
       "\n",
       "                                            Subtitle Original title Edition  \\\n",
       "0                                                NaN            NaN     NaN   \n",
       "1  [catálogo da exposição] no ano do IV Centenári...            NaN     NaN   \n",
       "2          letras e artes do século XVI ao século XX            NaN     NaN   \n",
       "3                                                NaN            NaN     NaN   \n",
       "4                                                NaN            NaN     NaN   \n",
       "\n",
       "   ...              Name of Publisher Date of Publication  Extent of Item  \\\n",
       "0  ...      por Ordem da Universidade                1978       X, 503 p.   \n",
       "1  ...                       B. N. L.                1980      66, [1] p.   \n",
       "2  ...  Biblioteca Nacional de Lisboa                1979  VI, 68, [1] p.   \n",
       "3  ...             G. L. T. Carreiros                1979           11 p.   \n",
       "4  ...    Academia Real das Sciências                1880           10 v.   \n",
       "\n",
       "  Dimensions                                             Series  \\\n",
       "0      22 cm                  Acta Universitatis Conimbrigensis   \n",
       "1      29 cm                                                NaN   \n",
       "2      23 cm                                                NaN   \n",
       "3      15 cm                                                NaN   \n",
       "4      30 cm  Monumentos inéditos para a história das conqui...   \n",
       "\n",
       "                        Volume          Universal Decimal Classification  \\\n",
       "0                          NaN      910.4(469+5)\"15\" ; 821.134.3-992\"15\"   \n",
       "1                          NaN                        011(594.75)\"15/19\"   \n",
       "2                          NaN  908.512.318(01) ; 017.1(469) IBL ; 061.4   \n",
       "3                          NaN                                   796/799   \n",
       "4  7, 8, 9, 12, 18, 20, 21, 22                             946.9(548.96)   \n",
       "\n",
       "                                             Authors  \\\n",
       "0  Pires, Tomé ; Rodrigues, Francisco ; Cortesão,...   \n",
       "1            Portugal, Biblioteca Nacional de Lisboa   \n",
       "2  Casa de Macau ; Portugal, Biblioteca Nacional ...   \n",
       "3                     Grupo Lawn Tennis de Carreiros   \n",
       "4  Pato, Bulhão ; Rego, António da Silva ; Portug...   \n",
       "\n",
       "                                           Image  \\\n",
       "0  https://purl.pt/37597/service/media/cover/low   \n",
       "1    https://purl.pt/206/service/media/cover/low   \n",
       "2  https://purl.pt/28923/service/media/cover/low   \n",
       "3  https://purl.pt/38809/service/media/cover/low   \n",
       "4  https://purl.pt/26875/service/media/cover/low   \n",
       "\n",
       "                                Persistent URL  \n",
       "0   http://id.bnportugal.gov.pt/bib/catbnp/544  \n",
       "1   http://id.bnportugal.gov.pt/bib/catbnp/619  \n",
       "2  http://id.bnportugal.gov.pt/bib/catbnp/3024  \n",
       "3  http://id.bnportugal.gov.pt/bib/catbnp/6187  \n",
       "4  http://id.bnportugal.gov.pt/bib/catbnp/6849  \n",
       "\n",
       "[5 rows x 21 columns]"
      ]
     },
     "execution_count": 3,
     "metadata": {},
     "output_type": "execute_result"
    }
   ],
   "source": [
    "df.head()"
   ]
  },
  {
   "attachments": {},
   "cell_type": "markdown",
   "metadata": {},
   "source": [
    "O *dataframe* é composto pelas seguintes colunas:"
   ]
  },
  {
   "cell_type": "code",
   "execution_count": 39,
   "metadata": {},
   "outputs": [
    {
     "data": {
      "text/plain": [
       "['BNP record ID',\n",
       " 'Material type',\n",
       " 'ISBN',\n",
       " 'Legal deposit number',\n",
       " 'Language of Text',\n",
       " 'Language of Original Work',\n",
       " 'Title',\n",
       " 'Subtitle',\n",
       " 'Original title',\n",
       " 'Edition',\n",
       " 'Place of publicattion',\n",
       " 'Name of Publisher',\n",
       " 'Date of Publication',\n",
       " 'Extent of Item',\n",
       " 'Dimensions',\n",
       " 'Series',\n",
       " 'Volume',\n",
       " 'Universal Decimal Classification',\n",
       " 'Authors',\n",
       " 'Image',\n",
       " 'Persistent URL']"
      ]
     },
     "execution_count": 39,
     "metadata": {},
     "output_type": "execute_result"
    }
   ],
   "source": [
    "# mostrar colunas em lista\n",
    "df.columns.tolist()\n"
   ]
  },
  {
   "attachments": {},
   "cell_type": "markdown",
   "metadata": {},
   "source": [
    "### Tipos de Materiais\n",
    "\n",
    "Primeiro vamos analisar que tipos de materiais compõem o acervo digitalizado e disponibilizado pela BNP."
   ]
  },
  {
   "cell_type": "code",
   "execution_count": 40,
   "metadata": {},
   "outputs": [
    {
     "data": {
      "text/plain": [
       "['Book',\n",
       " 'Iconographic material',\n",
       " nan,\n",
       " 'Periodical',\n",
       " 'Cartographic material',\n",
       " 'Notated music',\n",
       " 'Manuscript',\n",
       " 'Electronic resource',\n",
       " 'Multimedia']"
      ]
     },
     "execution_count": 40,
     "metadata": {},
     "output_type": "execute_result"
    }
   ],
   "source": [
    "#listar tipos de materiais\n",
    "df['Material type'].unique().tolist()"
   ]
  },
  {
   "attachments": {},
   "cell_type": "markdown",
   "metadata": {},
   "source": [
    "Encontramos oito tipos de materiais: Livro, Material Iconográfico, Periódico, Material Cartográfico, Partitura, Manuscrito, Fonte eletrônica, Multimeios.\n",
    "\n",
    "Sua contagem pode ser vista no  dataframe e gráfico abaixo:"
   ]
  },
  {
   "cell_type": "code",
   "execution_count": 7,
   "metadata": {},
   "outputs": [
    {
     "data": {
      "text/html": [
       "<div>\n",
       "<style scoped>\n",
       "    .dataframe tbody tr th:only-of-type {\n",
       "        vertical-align: middle;\n",
       "    }\n",
       "\n",
       "    .dataframe tbody tr th {\n",
       "        vertical-align: top;\n",
       "    }\n",
       "\n",
       "    .dataframe thead th {\n",
       "        text-align: right;\n",
       "    }\n",
       "</style>\n",
       "<table border=\"1\" class=\"dataframe\">\n",
       "  <thead>\n",
       "    <tr style=\"text-align: right;\">\n",
       "      <th></th>\n",
       "      <th>Material type</th>\n",
       "      <th>counts</th>\n",
       "    </tr>\n",
       "  </thead>\n",
       "  <tbody>\n",
       "    <tr>\n",
       "      <th>0</th>\n",
       "      <td>Book</td>\n",
       "      <td>9008</td>\n",
       "    </tr>\n",
       "    <tr>\n",
       "      <th>1</th>\n",
       "      <td>Iconographic material</td>\n",
       "      <td>7953</td>\n",
       "    </tr>\n",
       "    <tr>\n",
       "      <th>2</th>\n",
       "      <td>Manuscript</td>\n",
       "      <td>2781</td>\n",
       "    </tr>\n",
       "    <tr>\n",
       "      <th>3</th>\n",
       "      <td>Cartographic material</td>\n",
       "      <td>2283</td>\n",
       "    </tr>\n",
       "    <tr>\n",
       "      <th>4</th>\n",
       "      <td>Periodical</td>\n",
       "      <td>1359</td>\n",
       "    </tr>\n",
       "    <tr>\n",
       "      <th>5</th>\n",
       "      <td>Notated music</td>\n",
       "      <td>948</td>\n",
       "    </tr>\n",
       "    <tr>\n",
       "      <th>6</th>\n",
       "      <td>Multimedia</td>\n",
       "      <td>52</td>\n",
       "    </tr>\n",
       "    <tr>\n",
       "      <th>7</th>\n",
       "      <td>Electronic resource</td>\n",
       "      <td>35</td>\n",
       "    </tr>\n",
       "  </tbody>\n",
       "</table>\n",
       "</div>"
      ],
      "text/plain": [
       "           Material type  counts\n",
       "0                   Book    9008\n",
       "1  Iconographic material    7953\n",
       "2             Manuscript    2781\n",
       "3  Cartographic material    2283\n",
       "4             Periodical    1359\n",
       "5          Notated music     948\n",
       "6             Multimedia      52\n",
       "7    Electronic resource      35"
      ]
     },
     "execution_count": 7,
     "metadata": {},
     "output_type": "execute_result"
    }
   ],
   "source": [
    "# criar dataframe com os tipos de materiais e a quantidade de cada um\n",
    "df_material = df['Material type'].value_counts().rename_axis('Material type').reset_index(name='counts')\n",
    "df_material"
   ]
  },
  {
   "cell_type": "code",
   "execution_count": 8,
   "metadata": {},
   "outputs": [],
   "source": [
    "# criar gráfico de barras com os dados de tipos de materiais\n",
    "fig = px.bar(df_material, x='Material type', y='counts', title='Tipos de materiais')"
   ]
  },
  {
   "cell_type": "code",
   "execution_count": 9,
   "metadata": {},
   "outputs": [
    {
     "data": {
      "application/vnd.plotly.v1+json": {
       "config": {
        "plotlyServerURL": "https://plot.ly"
       },
       "data": [
        {
         "alignmentgroup": "True",
         "hovertemplate": "Material type=%{x}<br>counts=%{y}<extra></extra>",
         "legendgroup": "",
         "marker": {
          "color": "#636efa",
          "pattern": {
           "shape": ""
          }
         },
         "name": "",
         "offsetgroup": "",
         "orientation": "v",
         "showlegend": false,
         "textposition": "auto",
         "type": "bar",
         "x": [
          "Book",
          "Iconographic material",
          "Manuscript",
          "Cartographic material",
          "Periodical",
          "Notated music",
          "Multimedia",
          "Electronic resource"
         ],
         "xaxis": "x",
         "y": [
          9008,
          7953,
          2781,
          2283,
          1359,
          948,
          52,
          35
         ],
         "yaxis": "y"
        }
       ],
       "layout": {
        "barmode": "relative",
        "legend": {
         "tracegroupgap": 0
        },
        "template": {
         "data": {
          "bar": [
           {
            "error_x": {
             "color": "#2a3f5f"
            },
            "error_y": {
             "color": "#2a3f5f"
            },
            "marker": {
             "line": {
              "color": "#E5ECF6",
              "width": 0.5
             },
             "pattern": {
              "fillmode": "overlay",
              "size": 10,
              "solidity": 0.2
             }
            },
            "type": "bar"
           }
          ],
          "barpolar": [
           {
            "marker": {
             "line": {
              "color": "#E5ECF6",
              "width": 0.5
             },
             "pattern": {
              "fillmode": "overlay",
              "size": 10,
              "solidity": 0.2
             }
            },
            "type": "barpolar"
           }
          ],
          "carpet": [
           {
            "aaxis": {
             "endlinecolor": "#2a3f5f",
             "gridcolor": "white",
             "linecolor": "white",
             "minorgridcolor": "white",
             "startlinecolor": "#2a3f5f"
            },
            "baxis": {
             "endlinecolor": "#2a3f5f",
             "gridcolor": "white",
             "linecolor": "white",
             "minorgridcolor": "white",
             "startlinecolor": "#2a3f5f"
            },
            "type": "carpet"
           }
          ],
          "choropleth": [
           {
            "colorbar": {
             "outlinewidth": 0,
             "ticks": ""
            },
            "type": "choropleth"
           }
          ],
          "contour": [
           {
            "colorbar": {
             "outlinewidth": 0,
             "ticks": ""
            },
            "colorscale": [
             [
              0,
              "#0d0887"
             ],
             [
              0.1111111111111111,
              "#46039f"
             ],
             [
              0.2222222222222222,
              "#7201a8"
             ],
             [
              0.3333333333333333,
              "#9c179e"
             ],
             [
              0.4444444444444444,
              "#bd3786"
             ],
             [
              0.5555555555555556,
              "#d8576b"
             ],
             [
              0.6666666666666666,
              "#ed7953"
             ],
             [
              0.7777777777777778,
              "#fb9f3a"
             ],
             [
              0.8888888888888888,
              "#fdca26"
             ],
             [
              1,
              "#f0f921"
             ]
            ],
            "type": "contour"
           }
          ],
          "contourcarpet": [
           {
            "colorbar": {
             "outlinewidth": 0,
             "ticks": ""
            },
            "type": "contourcarpet"
           }
          ],
          "heatmap": [
           {
            "colorbar": {
             "outlinewidth": 0,
             "ticks": ""
            },
            "colorscale": [
             [
              0,
              "#0d0887"
             ],
             [
              0.1111111111111111,
              "#46039f"
             ],
             [
              0.2222222222222222,
              "#7201a8"
             ],
             [
              0.3333333333333333,
              "#9c179e"
             ],
             [
              0.4444444444444444,
              "#bd3786"
             ],
             [
              0.5555555555555556,
              "#d8576b"
             ],
             [
              0.6666666666666666,
              "#ed7953"
             ],
             [
              0.7777777777777778,
              "#fb9f3a"
             ],
             [
              0.8888888888888888,
              "#fdca26"
             ],
             [
              1,
              "#f0f921"
             ]
            ],
            "type": "heatmap"
           }
          ],
          "heatmapgl": [
           {
            "colorbar": {
             "outlinewidth": 0,
             "ticks": ""
            },
            "colorscale": [
             [
              0,
              "#0d0887"
             ],
             [
              0.1111111111111111,
              "#46039f"
             ],
             [
              0.2222222222222222,
              "#7201a8"
             ],
             [
              0.3333333333333333,
              "#9c179e"
             ],
             [
              0.4444444444444444,
              "#bd3786"
             ],
             [
              0.5555555555555556,
              "#d8576b"
             ],
             [
              0.6666666666666666,
              "#ed7953"
             ],
             [
              0.7777777777777778,
              "#fb9f3a"
             ],
             [
              0.8888888888888888,
              "#fdca26"
             ],
             [
              1,
              "#f0f921"
             ]
            ],
            "type": "heatmapgl"
           }
          ],
          "histogram": [
           {
            "marker": {
             "pattern": {
              "fillmode": "overlay",
              "size": 10,
              "solidity": 0.2
             }
            },
            "type": "histogram"
           }
          ],
          "histogram2d": [
           {
            "colorbar": {
             "outlinewidth": 0,
             "ticks": ""
            },
            "colorscale": [
             [
              0,
              "#0d0887"
             ],
             [
              0.1111111111111111,
              "#46039f"
             ],
             [
              0.2222222222222222,
              "#7201a8"
             ],
             [
              0.3333333333333333,
              "#9c179e"
             ],
             [
              0.4444444444444444,
              "#bd3786"
             ],
             [
              0.5555555555555556,
              "#d8576b"
             ],
             [
              0.6666666666666666,
              "#ed7953"
             ],
             [
              0.7777777777777778,
              "#fb9f3a"
             ],
             [
              0.8888888888888888,
              "#fdca26"
             ],
             [
              1,
              "#f0f921"
             ]
            ],
            "type": "histogram2d"
           }
          ],
          "histogram2dcontour": [
           {
            "colorbar": {
             "outlinewidth": 0,
             "ticks": ""
            },
            "colorscale": [
             [
              0,
              "#0d0887"
             ],
             [
              0.1111111111111111,
              "#46039f"
             ],
             [
              0.2222222222222222,
              "#7201a8"
             ],
             [
              0.3333333333333333,
              "#9c179e"
             ],
             [
              0.4444444444444444,
              "#bd3786"
             ],
             [
              0.5555555555555556,
              "#d8576b"
             ],
             [
              0.6666666666666666,
              "#ed7953"
             ],
             [
              0.7777777777777778,
              "#fb9f3a"
             ],
             [
              0.8888888888888888,
              "#fdca26"
             ],
             [
              1,
              "#f0f921"
             ]
            ],
            "type": "histogram2dcontour"
           }
          ],
          "mesh3d": [
           {
            "colorbar": {
             "outlinewidth": 0,
             "ticks": ""
            },
            "type": "mesh3d"
           }
          ],
          "parcoords": [
           {
            "line": {
             "colorbar": {
              "outlinewidth": 0,
              "ticks": ""
             }
            },
            "type": "parcoords"
           }
          ],
          "pie": [
           {
            "automargin": true,
            "type": "pie"
           }
          ],
          "scatter": [
           {
            "fillpattern": {
             "fillmode": "overlay",
             "size": 10,
             "solidity": 0.2
            },
            "type": "scatter"
           }
          ],
          "scatter3d": [
           {
            "line": {
             "colorbar": {
              "outlinewidth": 0,
              "ticks": ""
             }
            },
            "marker": {
             "colorbar": {
              "outlinewidth": 0,
              "ticks": ""
             }
            },
            "type": "scatter3d"
           }
          ],
          "scattercarpet": [
           {
            "marker": {
             "colorbar": {
              "outlinewidth": 0,
              "ticks": ""
             }
            },
            "type": "scattercarpet"
           }
          ],
          "scattergeo": [
           {
            "marker": {
             "colorbar": {
              "outlinewidth": 0,
              "ticks": ""
             }
            },
            "type": "scattergeo"
           }
          ],
          "scattergl": [
           {
            "marker": {
             "colorbar": {
              "outlinewidth": 0,
              "ticks": ""
             }
            },
            "type": "scattergl"
           }
          ],
          "scattermapbox": [
           {
            "marker": {
             "colorbar": {
              "outlinewidth": 0,
              "ticks": ""
             }
            },
            "type": "scattermapbox"
           }
          ],
          "scatterpolar": [
           {
            "marker": {
             "colorbar": {
              "outlinewidth": 0,
              "ticks": ""
             }
            },
            "type": "scatterpolar"
           }
          ],
          "scatterpolargl": [
           {
            "marker": {
             "colorbar": {
              "outlinewidth": 0,
              "ticks": ""
             }
            },
            "type": "scatterpolargl"
           }
          ],
          "scatterternary": [
           {
            "marker": {
             "colorbar": {
              "outlinewidth": 0,
              "ticks": ""
             }
            },
            "type": "scatterternary"
           }
          ],
          "surface": [
           {
            "colorbar": {
             "outlinewidth": 0,
             "ticks": ""
            },
            "colorscale": [
             [
              0,
              "#0d0887"
             ],
             [
              0.1111111111111111,
              "#46039f"
             ],
             [
              0.2222222222222222,
              "#7201a8"
             ],
             [
              0.3333333333333333,
              "#9c179e"
             ],
             [
              0.4444444444444444,
              "#bd3786"
             ],
             [
              0.5555555555555556,
              "#d8576b"
             ],
             [
              0.6666666666666666,
              "#ed7953"
             ],
             [
              0.7777777777777778,
              "#fb9f3a"
             ],
             [
              0.8888888888888888,
              "#fdca26"
             ],
             [
              1,
              "#f0f921"
             ]
            ],
            "type": "surface"
           }
          ],
          "table": [
           {
            "cells": {
             "fill": {
              "color": "#EBF0F8"
             },
             "line": {
              "color": "white"
             }
            },
            "header": {
             "fill": {
              "color": "#C8D4E3"
             },
             "line": {
              "color": "white"
             }
            },
            "type": "table"
           }
          ]
         },
         "layout": {
          "annotationdefaults": {
           "arrowcolor": "#2a3f5f",
           "arrowhead": 0,
           "arrowwidth": 1
          },
          "autotypenumbers": "strict",
          "coloraxis": {
           "colorbar": {
            "outlinewidth": 0,
            "ticks": ""
           }
          },
          "colorscale": {
           "diverging": [
            [
             0,
             "#8e0152"
            ],
            [
             0.1,
             "#c51b7d"
            ],
            [
             0.2,
             "#de77ae"
            ],
            [
             0.3,
             "#f1b6da"
            ],
            [
             0.4,
             "#fde0ef"
            ],
            [
             0.5,
             "#f7f7f7"
            ],
            [
             0.6,
             "#e6f5d0"
            ],
            [
             0.7,
             "#b8e186"
            ],
            [
             0.8,
             "#7fbc41"
            ],
            [
             0.9,
             "#4d9221"
            ],
            [
             1,
             "#276419"
            ]
           ],
           "sequential": [
            [
             0,
             "#0d0887"
            ],
            [
             0.1111111111111111,
             "#46039f"
            ],
            [
             0.2222222222222222,
             "#7201a8"
            ],
            [
             0.3333333333333333,
             "#9c179e"
            ],
            [
             0.4444444444444444,
             "#bd3786"
            ],
            [
             0.5555555555555556,
             "#d8576b"
            ],
            [
             0.6666666666666666,
             "#ed7953"
            ],
            [
             0.7777777777777778,
             "#fb9f3a"
            ],
            [
             0.8888888888888888,
             "#fdca26"
            ],
            [
             1,
             "#f0f921"
            ]
           ],
           "sequentialminus": [
            [
             0,
             "#0d0887"
            ],
            [
             0.1111111111111111,
             "#46039f"
            ],
            [
             0.2222222222222222,
             "#7201a8"
            ],
            [
             0.3333333333333333,
             "#9c179e"
            ],
            [
             0.4444444444444444,
             "#bd3786"
            ],
            [
             0.5555555555555556,
             "#d8576b"
            ],
            [
             0.6666666666666666,
             "#ed7953"
            ],
            [
             0.7777777777777778,
             "#fb9f3a"
            ],
            [
             0.8888888888888888,
             "#fdca26"
            ],
            [
             1,
             "#f0f921"
            ]
           ]
          },
          "colorway": [
           "#636efa",
           "#EF553B",
           "#00cc96",
           "#ab63fa",
           "#FFA15A",
           "#19d3f3",
           "#FF6692",
           "#B6E880",
           "#FF97FF",
           "#FECB52"
          ],
          "font": {
           "color": "#2a3f5f"
          },
          "geo": {
           "bgcolor": "white",
           "lakecolor": "white",
           "landcolor": "#E5ECF6",
           "showlakes": true,
           "showland": true,
           "subunitcolor": "white"
          },
          "hoverlabel": {
           "align": "left"
          },
          "hovermode": "closest",
          "mapbox": {
           "style": "light"
          },
          "paper_bgcolor": "white",
          "plot_bgcolor": "#E5ECF6",
          "polar": {
           "angularaxis": {
            "gridcolor": "white",
            "linecolor": "white",
            "ticks": ""
           },
           "bgcolor": "#E5ECF6",
           "radialaxis": {
            "gridcolor": "white",
            "linecolor": "white",
            "ticks": ""
           }
          },
          "scene": {
           "xaxis": {
            "backgroundcolor": "#E5ECF6",
            "gridcolor": "white",
            "gridwidth": 2,
            "linecolor": "white",
            "showbackground": true,
            "ticks": "",
            "zerolinecolor": "white"
           },
           "yaxis": {
            "backgroundcolor": "#E5ECF6",
            "gridcolor": "white",
            "gridwidth": 2,
            "linecolor": "white",
            "showbackground": true,
            "ticks": "",
            "zerolinecolor": "white"
           },
           "zaxis": {
            "backgroundcolor": "#E5ECF6",
            "gridcolor": "white",
            "gridwidth": 2,
            "linecolor": "white",
            "showbackground": true,
            "ticks": "",
            "zerolinecolor": "white"
           }
          },
          "shapedefaults": {
           "line": {
            "color": "#2a3f5f"
           }
          },
          "ternary": {
           "aaxis": {
            "gridcolor": "white",
            "linecolor": "white",
            "ticks": ""
           },
           "baxis": {
            "gridcolor": "white",
            "linecolor": "white",
            "ticks": ""
           },
           "bgcolor": "#E5ECF6",
           "caxis": {
            "gridcolor": "white",
            "linecolor": "white",
            "ticks": ""
           }
          },
          "title": {
           "x": 0.05
          },
          "xaxis": {
           "automargin": true,
           "gridcolor": "white",
           "linecolor": "white",
           "ticks": "",
           "title": {
            "standoff": 15
           },
           "zerolinecolor": "white",
           "zerolinewidth": 2
          },
          "yaxis": {
           "automargin": true,
           "gridcolor": "white",
           "linecolor": "white",
           "ticks": "",
           "title": {
            "standoff": 15
           },
           "zerolinecolor": "white",
           "zerolinewidth": 2
          }
         }
        },
        "title": {
         "text": "Tipos de materiais"
        },
        "xaxis": {
         "anchor": "y",
         "domain": [
          0,
          1
         ],
         "title": {
          "text": "Material type"
         }
        },
        "yaxis": {
         "anchor": "x",
         "domain": [
          0,
          1
         ],
         "title": {
          "text": "counts"
         }
        }
       }
      }
     },
     "metadata": {},
     "output_type": "display_data"
    }
   ],
   "source": [
    "fig.show()"
   ]
  },
  {
   "attachments": {},
   "cell_type": "markdown",
   "metadata": {},
   "source": [
    "Vamos analisar os tipos de materiais por ano de publicação."
   ]
  },
  {
   "cell_type": "code",
   "execution_count": 42,
   "metadata": {},
   "outputs": [
    {
     "data": {
      "text/html": [
       "<div>\n",
       "<style scoped>\n",
       "    .dataframe tbody tr th:only-of-type {\n",
       "        vertical-align: middle;\n",
       "    }\n",
       "\n",
       "    .dataframe tbody tr th {\n",
       "        vertical-align: top;\n",
       "    }\n",
       "\n",
       "    .dataframe thead th {\n",
       "        text-align: right;\n",
       "    }\n",
       "</style>\n",
       "<table border=\"1\" class=\"dataframe\">\n",
       "  <thead>\n",
       "    <tr style=\"text-align: right;\">\n",
       "      <th></th>\n",
       "      <th>Material type</th>\n",
       "      <th>Date of Publication</th>\n",
       "      <th>counts</th>\n",
       "    </tr>\n",
       "  </thead>\n",
       "  <tbody>\n",
       "    <tr>\n",
       "      <th>0</th>\n",
       "      <td>Book</td>\n",
       "      <td></td>\n",
       "      <td>3</td>\n",
       "    </tr>\n",
       "    <tr>\n",
       "      <th>1</th>\n",
       "      <td>Book</td>\n",
       "      <td>14</td>\n",
       "      <td>3</td>\n",
       "    </tr>\n",
       "    <tr>\n",
       "      <th>2</th>\n",
       "      <td>Book</td>\n",
       "      <td>1440</td>\n",
       "      <td>1</td>\n",
       "    </tr>\n",
       "    <tr>\n",
       "      <th>3</th>\n",
       "      <td>Book</td>\n",
       "      <td>1454</td>\n",
       "      <td>1</td>\n",
       "    </tr>\n",
       "    <tr>\n",
       "      <th>4</th>\n",
       "      <td>Book</td>\n",
       "      <td>1463</td>\n",
       "      <td>1</td>\n",
       "    </tr>\n",
       "    <tr>\n",
       "      <th>...</th>\n",
       "      <td>...</td>\n",
       "      <td>...</td>\n",
       "      <td>...</td>\n",
       "    </tr>\n",
       "    <tr>\n",
       "      <th>2226</th>\n",
       "      <td>Periodical</td>\n",
       "      <td>1964</td>\n",
       "      <td>1</td>\n",
       "    </tr>\n",
       "    <tr>\n",
       "      <th>2227</th>\n",
       "      <td>Periodical</td>\n",
       "      <td>1975</td>\n",
       "      <td>1</td>\n",
       "    </tr>\n",
       "    <tr>\n",
       "      <th>2228</th>\n",
       "      <td>Periodical</td>\n",
       "      <td>1987</td>\n",
       "      <td>1</td>\n",
       "    </tr>\n",
       "    <tr>\n",
       "      <th>2229</th>\n",
       "      <td>Periodical</td>\n",
       "      <td>1989</td>\n",
       "      <td>1</td>\n",
       "    </tr>\n",
       "    <tr>\n",
       "      <th>2230</th>\n",
       "      <td>Periodical</td>\n",
       "      <td>19_</td>\n",
       "      <td>1</td>\n",
       "    </tr>\n",
       "  </tbody>\n",
       "</table>\n",
       "<p>2231 rows × 3 columns</p>\n",
       "</div>"
      ],
      "text/plain": [
       "     Material type Date of Publication  counts\n",
       "0             Book                           3\n",
       "1             Book                14         3\n",
       "2             Book                1440       1\n",
       "3             Book                1454       1\n",
       "4             Book                1463       1\n",
       "...            ...                 ...     ...\n",
       "2226    Periodical                1964       1\n",
       "2227    Periodical                1975       1\n",
       "2228    Periodical                1987       1\n",
       "2229    Periodical                1989       1\n",
       "2230    Periodical                19_        1\n",
       "\n",
       "[2231 rows x 3 columns]"
      ]
     },
     "execution_count": 42,
     "metadata": {},
     "output_type": "execute_result"
    }
   ],
   "source": [
    "# criar dataframe com os tipos de materiais e o ano de publicação e a quantidade de cada um\n",
    "df_material_ano = df.groupby(['Material type', 'Date of Publication']).size().reset_index(name='counts')\n",
    "df_material_ano"
   ]
  },
  {
   "cell_type": "code",
   "execution_count": 43,
   "metadata": {},
   "outputs": [
    {
     "data": {
      "application/vnd.plotly.v1+json": {
       "config": {
        "plotlyServerURL": "https://plot.ly"
       },
       "data": [
        {
         "alignmentgroup": "True",
         "hovertemplate": "Date of Publication=    <br>Material type=%{x}<br>counts=%{y}<extra></extra>",
         "legendgroup": "    ",
         "marker": {
          "color": "#636efa",
          "pattern": {
           "shape": ""
          }
         },
         "name": "    ",
         "offsetgroup": "    ",
         "orientation": "v",
         "showlegend": true,
         "textposition": "auto",
         "type": "bar",
         "x": [
          "Book",
          "Cartographic material",
          "Iconographic material"
         ],
         "xaxis": "x",
         "y": [
          3,
          1,
          1
         ],
         "yaxis": "y"
        },
        {
         "alignmentgroup": "True",
         "hovertemplate": "Date of Publication=14  <br>Material type=%{x}<br>counts=%{y}<extra></extra>",
         "legendgroup": "14  ",
         "marker": {
          "color": "#EF553B",
          "pattern": {
           "shape": ""
          }
         },
         "name": "14  ",
         "offsetgroup": "14  ",
         "orientation": "v",
         "showlegend": true,
         "textposition": "auto",
         "type": "bar",
         "x": [
          "Book"
         ],
         "xaxis": "x",
         "y": [
          3
         ],
         "yaxis": "y"
        },
        {
         "alignmentgroup": "True",
         "hovertemplate": "Date of Publication=1440<br>Material type=%{x}<br>counts=%{y}<extra></extra>",
         "legendgroup": "1440",
         "marker": {
          "color": "#00cc96",
          "pattern": {
           "shape": ""
          }
         },
         "name": "1440",
         "offsetgroup": "1440",
         "orientation": "v",
         "showlegend": true,
         "textposition": "auto",
         "type": "bar",
         "x": [
          "Book",
          "Manuscript"
         ],
         "xaxis": "x",
         "y": [
          1,
          3
         ],
         "yaxis": "y"
        },
        {
         "alignmentgroup": "True",
         "hovertemplate": "Date of Publication=1454<br>Material type=%{x}<br>counts=%{y}<extra></extra>",
         "legendgroup": "1454",
         "marker": {
          "color": "#ab63fa",
          "pattern": {
           "shape": ""
          }
         },
         "name": "1454",
         "offsetgroup": "1454",
         "orientation": "v",
         "showlegend": true,
         "textposition": "auto",
         "type": "bar",
         "x": [
          "Book"
         ],
         "xaxis": "x",
         "y": [
          1
         ],
         "yaxis": "y"
        },
        {
         "alignmentgroup": "True",
         "hovertemplate": "Date of Publication=1463<br>Material type=%{x}<br>counts=%{y}<extra></extra>",
         "legendgroup": "1463",
         "marker": {
          "color": "#FFA15A",
          "pattern": {
           "shape": ""
          }
         },
         "name": "1463",
         "offsetgroup": "1463",
         "orientation": "v",
         "showlegend": true,
         "textposition": "auto",
         "type": "bar",
         "x": [
          "Book"
         ],
         "xaxis": "x",
         "y": [
          1
         ],
         "yaxis": "y"
        },
        {
         "alignmentgroup": "True",
         "hovertemplate": "Date of Publication=1466<br>Material type=%{x}<br>counts=%{y}<extra></extra>",
         "legendgroup": "1466",
         "marker": {
          "color": "#19d3f3",
          "pattern": {
           "shape": ""
          }
         },
         "name": "1466",
         "offsetgroup": "1466",
         "orientation": "v",
         "showlegend": true,
         "textposition": "auto",
         "type": "bar",
         "x": [
          "Book"
         ],
         "xaxis": "x",
         "y": [
          1
         ],
         "yaxis": "y"
        },
        {
         "alignmentgroup": "True",
         "hovertemplate": "Date of Publication=1468<br>Material type=%{x}<br>counts=%{y}<extra></extra>",
         "legendgroup": "1468",
         "marker": {
          "color": "#FF6692",
          "pattern": {
           "shape": ""
          }
         },
         "name": "1468",
         "offsetgroup": "1468",
         "orientation": "v",
         "showlegend": true,
         "textposition": "auto",
         "type": "bar",
         "x": [
          "Book",
          "Manuscript"
         ],
         "xaxis": "x",
         "y": [
          2,
          1
         ],
         "yaxis": "y"
        },
        {
         "alignmentgroup": "True",
         "hovertemplate": "Date of Publication=1469<br>Material type=%{x}<br>counts=%{y}<extra></extra>",
         "legendgroup": "1469",
         "marker": {
          "color": "#B6E880",
          "pattern": {
           "shape": ""
          }
         },
         "name": "1469",
         "offsetgroup": "1469",
         "orientation": "v",
         "showlegend": true,
         "textposition": "auto",
         "type": "bar",
         "x": [
          "Book"
         ],
         "xaxis": "x",
         "y": [
          1
         ],
         "yaxis": "y"
        },
        {
         "alignmentgroup": "True",
         "hovertemplate": "Date of Publication=147 <br>Material type=%{x}<br>counts=%{y}<extra></extra>",
         "legendgroup": "147 ",
         "marker": {
          "color": "#FF97FF",
          "pattern": {
           "shape": ""
          }
         },
         "name": "147 ",
         "offsetgroup": "147 ",
         "orientation": "v",
         "showlegend": true,
         "textposition": "auto",
         "type": "bar",
         "x": [
          "Book"
         ],
         "xaxis": "x",
         "y": [
          1
         ],
         "yaxis": "y"
        },
        {
         "alignmentgroup": "True",
         "hovertemplate": "Date of Publication=1470<br>Material type=%{x}<br>counts=%{y}<extra></extra>",
         "legendgroup": "1470",
         "marker": {
          "color": "#FECB52",
          "pattern": {
           "shape": ""
          }
         },
         "name": "1470",
         "offsetgroup": "1470",
         "orientation": "v",
         "showlegend": true,
         "textposition": "auto",
         "type": "bar",
         "x": [
          "Book",
          "Manuscript"
         ],
         "xaxis": "x",
         "y": [
          10,
          3
         ],
         "yaxis": "y"
        },
        {
         "alignmentgroup": "True",
         "hovertemplate": "Date of Publication=1471<br>Material type=%{x}<br>counts=%{y}<extra></extra>",
         "legendgroup": "1471",
         "marker": {
          "color": "#636efa",
          "pattern": {
           "shape": ""
          }
         },
         "name": "1471",
         "offsetgroup": "1471",
         "orientation": "v",
         "showlegend": true,
         "textposition": "auto",
         "type": "bar",
         "x": [
          "Book"
         ],
         "xaxis": "x",
         "y": [
          5
         ],
         "yaxis": "y"
        },
        {
         "alignmentgroup": "True",
         "hovertemplate": "Date of Publication=1472<br>Material type=%{x}<br>counts=%{y}<extra></extra>",
         "legendgroup": "1472",
         "marker": {
          "color": "#EF553B",
          "pattern": {
           "shape": ""
          }
         },
         "name": "1472",
         "offsetgroup": "1472",
         "orientation": "v",
         "showlegend": true,
         "textposition": "auto",
         "type": "bar",
         "x": [
          "Book"
         ],
         "xaxis": "x",
         "y": [
          7
         ],
         "yaxis": "y"
        },
        {
         "alignmentgroup": "True",
         "hovertemplate": "Date of Publication=1473<br>Material type=%{x}<br>counts=%{y}<extra></extra>",
         "legendgroup": "1473",
         "marker": {
          "color": "#00cc96",
          "pattern": {
           "shape": ""
          }
         },
         "name": "1473",
         "offsetgroup": "1473",
         "orientation": "v",
         "showlegend": true,
         "textposition": "auto",
         "type": "bar",
         "x": [
          "Book"
         ],
         "xaxis": "x",
         "y": [
          3
         ],
         "yaxis": "y"
        },
        {
         "alignmentgroup": "True",
         "hovertemplate": "Date of Publication=1474<br>Material type=%{x}<br>counts=%{y}<extra></extra>",
         "legendgroup": "1474",
         "marker": {
          "color": "#ab63fa",
          "pattern": {
           "shape": ""
          }
         },
         "name": "1474",
         "offsetgroup": "1474",
         "orientation": "v",
         "showlegend": true,
         "textposition": "auto",
         "type": "bar",
         "x": [
          "Book"
         ],
         "xaxis": "x",
         "y": [
          8
         ],
         "yaxis": "y"
        },
        {
         "alignmentgroup": "True",
         "hovertemplate": "Date of Publication=1475<br>Material type=%{x}<br>counts=%{y}<extra></extra>",
         "legendgroup": "1475",
         "marker": {
          "color": "#FFA15A",
          "pattern": {
           "shape": ""
          }
         },
         "name": "1475",
         "offsetgroup": "1475",
         "orientation": "v",
         "showlegend": true,
         "textposition": "auto",
         "type": "bar",
         "x": [
          "Book",
          "Manuscript"
         ],
         "xaxis": "x",
         "y": [
          14,
          2
         ],
         "yaxis": "y"
        },
        {
         "alignmentgroup": "True",
         "hovertemplate": "Date of Publication=1476<br>Material type=%{x}<br>counts=%{y}<extra></extra>",
         "legendgroup": "1476",
         "marker": {
          "color": "#19d3f3",
          "pattern": {
           "shape": ""
          }
         },
         "name": "1476",
         "offsetgroup": "1476",
         "orientation": "v",
         "showlegend": true,
         "textposition": "auto",
         "type": "bar",
         "x": [
          "Book",
          "Manuscript"
         ],
         "xaxis": "x",
         "y": [
          17,
          25
         ],
         "yaxis": "y"
        },
        {
         "alignmentgroup": "True",
         "hovertemplate": "Date of Publication=1477<br>Material type=%{x}<br>counts=%{y}<extra></extra>",
         "legendgroup": "1477",
         "marker": {
          "color": "#FF6692",
          "pattern": {
           "shape": ""
          }
         },
         "name": "1477",
         "offsetgroup": "1477",
         "orientation": "v",
         "showlegend": true,
         "textposition": "auto",
         "type": "bar",
         "x": [
          "Book"
         ],
         "xaxis": "x",
         "y": [
          23
         ],
         "yaxis": "y"
        },
        {
         "alignmentgroup": "True",
         "hovertemplate": "Date of Publication=1478<br>Material type=%{x}<br>counts=%{y}<extra></extra>",
         "legendgroup": "1478",
         "marker": {
          "color": "#B6E880",
          "pattern": {
           "shape": ""
          }
         },
         "name": "1478",
         "offsetgroup": "1478",
         "orientation": "v",
         "showlegend": true,
         "textposition": "auto",
         "type": "bar",
         "x": [
          "Book"
         ],
         "xaxis": "x",
         "y": [
          21
         ],
         "yaxis": "y"
        },
        {
         "alignmentgroup": "True",
         "hovertemplate": "Date of Publication=1479<br>Material type=%{x}<br>counts=%{y}<extra></extra>",
         "legendgroup": "1479",
         "marker": {
          "color": "#FF97FF",
          "pattern": {
           "shape": ""
          }
         },
         "name": "1479",
         "offsetgroup": "1479",
         "orientation": "v",
         "showlegend": true,
         "textposition": "auto",
         "type": "bar",
         "x": [
          "Book",
          "Manuscript"
         ],
         "xaxis": "x",
         "y": [
          17,
          1
         ],
         "yaxis": "y"
        },
        {
         "alignmentgroup": "True",
         "hovertemplate": "Date of Publication=1480<br>Material type=%{x}<br>counts=%{y}<extra></extra>",
         "legendgroup": "1480",
         "marker": {
          "color": "#FECB52",
          "pattern": {
           "shape": ""
          }
         },
         "name": "1480",
         "offsetgroup": "1480",
         "orientation": "v",
         "showlegend": true,
         "textposition": "auto",
         "type": "bar",
         "x": [
          "Book",
          "Manuscript"
         ],
         "xaxis": "x",
         "y": [
          25,
          1
         ],
         "yaxis": "y"
        },
        {
         "alignmentgroup": "True",
         "hovertemplate": "Date of Publication=1481<br>Material type=%{x}<br>counts=%{y}<extra></extra>",
         "legendgroup": "1481",
         "marker": {
          "color": "#636efa",
          "pattern": {
           "shape": ""
          }
         },
         "name": "1481",
         "offsetgroup": "1481",
         "orientation": "v",
         "showlegend": true,
         "textposition": "auto",
         "type": "bar",
         "x": [
          "Book"
         ],
         "xaxis": "x",
         "y": [
          25
         ],
         "yaxis": "y"
        },
        {
         "alignmentgroup": "True",
         "hovertemplate": "Date of Publication=1482<br>Material type=%{x}<br>counts=%{y}<extra></extra>",
         "legendgroup": "1482",
         "marker": {
          "color": "#EF553B",
          "pattern": {
           "shape": ""
          }
         },
         "name": "1482",
         "offsetgroup": "1482",
         "orientation": "v",
         "showlegend": true,
         "textposition": "auto",
         "type": "bar",
         "x": [
          "Book"
         ],
         "xaxis": "x",
         "y": [
          29
         ],
         "yaxis": "y"
        },
        {
         "alignmentgroup": "True",
         "hovertemplate": "Date of Publication=1483<br>Material type=%{x}<br>counts=%{y}<extra></extra>",
         "legendgroup": "1483",
         "marker": {
          "color": "#00cc96",
          "pattern": {
           "shape": ""
          }
         },
         "name": "1483",
         "offsetgroup": "1483",
         "orientation": "v",
         "showlegend": true,
         "textposition": "auto",
         "type": "bar",
         "x": [
          "Book",
          "Manuscript"
         ],
         "xaxis": "x",
         "y": [
          28,
          1
         ],
         "yaxis": "y"
        },
        {
         "alignmentgroup": "True",
         "hovertemplate": "Date of Publication=1484<br>Material type=%{x}<br>counts=%{y}<extra></extra>",
         "legendgroup": "1484",
         "marker": {
          "color": "#ab63fa",
          "pattern": {
           "shape": ""
          }
         },
         "name": "1484",
         "offsetgroup": "1484",
         "orientation": "v",
         "showlegend": true,
         "textposition": "auto",
         "type": "bar",
         "x": [
          "Book"
         ],
         "xaxis": "x",
         "y": [
          26
         ],
         "yaxis": "y"
        },
        {
         "alignmentgroup": "True",
         "hovertemplate": "Date of Publication=1485<br>Material type=%{x}<br>counts=%{y}<extra></extra>",
         "legendgroup": "1485",
         "marker": {
          "color": "#FFA15A",
          "pattern": {
           "shape": ""
          }
         },
         "name": "1485",
         "offsetgroup": "1485",
         "orientation": "v",
         "showlegend": true,
         "textposition": "auto",
         "type": "bar",
         "x": [
          "Book"
         ],
         "xaxis": "x",
         "y": [
          48
         ],
         "yaxis": "y"
        },
        {
         "alignmentgroup": "True",
         "hovertemplate": "Date of Publication=1486<br>Material type=%{x}<br>counts=%{y}<extra></extra>",
         "legendgroup": "1486",
         "marker": {
          "color": "#19d3f3",
          "pattern": {
           "shape": ""
          }
         },
         "name": "1486",
         "offsetgroup": "1486",
         "orientation": "v",
         "showlegend": true,
         "textposition": "auto",
         "type": "bar",
         "x": [
          "Book",
          "Manuscript"
         ],
         "xaxis": "x",
         "y": [
          26,
          1
         ],
         "yaxis": "y"
        },
        {
         "alignmentgroup": "True",
         "hovertemplate": "Date of Publication=1487<br>Material type=%{x}<br>counts=%{y}<extra></extra>",
         "legendgroup": "1487",
         "marker": {
          "color": "#FF6692",
          "pattern": {
           "shape": ""
          }
         },
         "name": "1487",
         "offsetgroup": "1487",
         "orientation": "v",
         "showlegend": true,
         "textposition": "auto",
         "type": "bar",
         "x": [
          "Book",
          "Manuscript"
         ],
         "xaxis": "x",
         "y": [
          20,
          1
         ],
         "yaxis": "y"
        },
        {
         "alignmentgroup": "True",
         "hovertemplate": "Date of Publication=1488<br>Material type=%{x}<br>counts=%{y}<extra></extra>",
         "legendgroup": "1488",
         "marker": {
          "color": "#B6E880",
          "pattern": {
           "shape": ""
          }
         },
         "name": "1488",
         "offsetgroup": "1488",
         "orientation": "v",
         "showlegend": true,
         "textposition": "auto",
         "type": "bar",
         "x": [
          "Book"
         ],
         "xaxis": "x",
         "y": [
          31
         ],
         "yaxis": "y"
        },
        {
         "alignmentgroup": "True",
         "hovertemplate": "Date of Publication=1489<br>Material type=%{x}<br>counts=%{y}<extra></extra>",
         "legendgroup": "1489",
         "marker": {
          "color": "#FF97FF",
          "pattern": {
           "shape": ""
          }
         },
         "name": "1489",
         "offsetgroup": "1489",
         "orientation": "v",
         "showlegend": true,
         "textposition": "auto",
         "type": "bar",
         "x": [
          "Book",
          "Manuscript"
         ],
         "xaxis": "x",
         "y": [
          39,
          1
         ],
         "yaxis": "y"
        },
        {
         "alignmentgroup": "True",
         "hovertemplate": "Date of Publication=1490<br>Material type=%{x}<br>counts=%{y}<extra></extra>",
         "legendgroup": "1490",
         "marker": {
          "color": "#FECB52",
          "pattern": {
           "shape": ""
          }
         },
         "name": "1490",
         "offsetgroup": "1490",
         "orientation": "v",
         "showlegend": true,
         "textposition": "auto",
         "type": "bar",
         "x": [
          "Book",
          "Cartographic material"
         ],
         "xaxis": "x",
         "y": [
          42,
          1
         ],
         "yaxis": "y"
        },
        {
         "alignmentgroup": "True",
         "hovertemplate": "Date of Publication=1491<br>Material type=%{x}<br>counts=%{y}<extra></extra>",
         "legendgroup": "1491",
         "marker": {
          "color": "#636efa",
          "pattern": {
           "shape": ""
          }
         },
         "name": "1491",
         "offsetgroup": "1491",
         "orientation": "v",
         "showlegend": true,
         "textposition": "auto",
         "type": "bar",
         "x": [
          "Book",
          "Manuscript"
         ],
         "xaxis": "x",
         "y": [
          43,
          1
         ],
         "yaxis": "y"
        },
        {
         "alignmentgroup": "True",
         "hovertemplate": "Date of Publication=1492<br>Material type=%{x}<br>counts=%{y}<extra></extra>",
         "legendgroup": "1492",
         "marker": {
          "color": "#EF553B",
          "pattern": {
           "shape": ""
          }
         },
         "name": "1492",
         "offsetgroup": "1492",
         "orientation": "v",
         "showlegend": true,
         "textposition": "auto",
         "type": "bar",
         "x": [
          "Book"
         ],
         "xaxis": "x",
         "y": [
          53
         ],
         "yaxis": "y"
        },
        {
         "alignmentgroup": "True",
         "hovertemplate": "Date of Publication=1493<br>Material type=%{x}<br>counts=%{y}<extra></extra>",
         "legendgroup": "1493",
         "marker": {
          "color": "#00cc96",
          "pattern": {
           "shape": ""
          }
         },
         "name": "1493",
         "offsetgroup": "1493",
         "orientation": "v",
         "showlegend": true,
         "textposition": "auto",
         "type": "bar",
         "x": [
          "Book"
         ],
         "xaxis": "x",
         "y": [
          61
         ],
         "yaxis": "y"
        },
        {
         "alignmentgroup": "True",
         "hovertemplate": "Date of Publication=1494<br>Material type=%{x}<br>counts=%{y}<extra></extra>",
         "legendgroup": "1494",
         "marker": {
          "color": "#ab63fa",
          "pattern": {
           "shape": ""
          }
         },
         "name": "1494",
         "offsetgroup": "1494",
         "orientation": "v",
         "showlegend": true,
         "textposition": "auto",
         "type": "bar",
         "x": [
          "Book",
          "Manuscript"
         ],
         "xaxis": "x",
         "y": [
          72,
          1
         ],
         "yaxis": "y"
        },
        {
         "alignmentgroup": "True",
         "hovertemplate": "Date of Publication=1495<br>Material type=%{x}<br>counts=%{y}<extra></extra>",
         "legendgroup": "1495",
         "marker": {
          "color": "#FFA15A",
          "pattern": {
           "shape": ""
          }
         },
         "name": "1495",
         "offsetgroup": "1495",
         "orientation": "v",
         "showlegend": true,
         "textposition": "auto",
         "type": "bar",
         "x": [
          "Book",
          "Manuscript"
         ],
         "xaxis": "x",
         "y": [
          46,
          1
         ],
         "yaxis": "y"
        },
        {
         "alignmentgroup": "True",
         "hovertemplate": "Date of Publication=1496<br>Material type=%{x}<br>counts=%{y}<extra></extra>",
         "legendgroup": "1496",
         "marker": {
          "color": "#19d3f3",
          "pattern": {
           "shape": ""
          }
         },
         "name": "1496",
         "offsetgroup": "1496",
         "orientation": "v",
         "showlegend": true,
         "textposition": "auto",
         "type": "bar",
         "x": [
          "Book"
         ],
         "xaxis": "x",
         "y": [
          56
         ],
         "yaxis": "y"
        },
        {
         "alignmentgroup": "True",
         "hovertemplate": "Date of Publication=1497<br>Material type=%{x}<br>counts=%{y}<extra></extra>",
         "legendgroup": "1497",
         "marker": {
          "color": "#FF6692",
          "pattern": {
           "shape": ""
          }
         },
         "name": "1497",
         "offsetgroup": "1497",
         "orientation": "v",
         "showlegend": true,
         "textposition": "auto",
         "type": "bar",
         "x": [
          "Book"
         ],
         "xaxis": "x",
         "y": [
          74
         ],
         "yaxis": "y"
        },
        {
         "alignmentgroup": "True",
         "hovertemplate": "Date of Publication=1498<br>Material type=%{x}<br>counts=%{y}<extra></extra>",
         "legendgroup": "1498",
         "marker": {
          "color": "#B6E880",
          "pattern": {
           "shape": ""
          }
         },
         "name": "1498",
         "offsetgroup": "1498",
         "orientation": "v",
         "showlegend": true,
         "textposition": "auto",
         "type": "bar",
         "x": [
          "Book"
         ],
         "xaxis": "x",
         "y": [
          56
         ],
         "yaxis": "y"
        },
        {
         "alignmentgroup": "True",
         "hovertemplate": "Date of Publication=1499<br>Material type=%{x}<br>counts=%{y}<extra></extra>",
         "legendgroup": "1499",
         "marker": {
          "color": "#FF97FF",
          "pattern": {
           "shape": ""
          }
         },
         "name": "1499",
         "offsetgroup": "1499",
         "orientation": "v",
         "showlegend": true,
         "textposition": "auto",
         "type": "bar",
         "x": [
          "Book"
         ],
         "xaxis": "x",
         "y": [
          60
         ],
         "yaxis": "y"
        },
        {
         "alignmentgroup": "True",
         "hovertemplate": "Date of Publication=1500<br>Material type=%{x}<br>counts=%{y}<extra></extra>",
         "legendgroup": "1500",
         "marker": {
          "color": "#FECB52",
          "pattern": {
           "shape": ""
          }
         },
         "name": "1500",
         "offsetgroup": "1500",
         "orientation": "v",
         "showlegend": true,
         "textposition": "auto",
         "type": "bar",
         "x": [
          "Book",
          "Iconographic material",
          "Manuscript"
         ],
         "xaxis": "x",
         "y": [
          55,
          7,
          2
         ],
         "yaxis": "y"
        },
        {
         "alignmentgroup": "True",
         "hovertemplate": "Date of Publication=1501<br>Material type=%{x}<br>counts=%{y}<extra></extra>",
         "legendgroup": "1501",
         "marker": {
          "color": "#636efa",
          "pattern": {
           "shape": ""
          }
         },
         "name": "1501",
         "offsetgroup": "1501",
         "orientation": "v",
         "showlegend": true,
         "textposition": "auto",
         "type": "bar",
         "x": [
          "Book",
          "Manuscript"
         ],
         "xaxis": "x",
         "y": [
          16,
          36
         ],
         "yaxis": "y"
        },
        {
         "alignmentgroup": "True",
         "hovertemplate": "Date of Publication=1502<br>Material type=%{x}<br>counts=%{y}<extra></extra>",
         "legendgroup": "1502",
         "marker": {
          "color": "#EF553B",
          "pattern": {
           "shape": ""
          }
         },
         "name": "1502",
         "offsetgroup": "1502",
         "orientation": "v",
         "showlegend": true,
         "textposition": "auto",
         "type": "bar",
         "x": [
          "Book",
          "Manuscript"
         ],
         "xaxis": "x",
         "y": [
          5,
          1
         ],
         "yaxis": "y"
        },
        {
         "alignmentgroup": "True",
         "hovertemplate": "Date of Publication=1503<br>Material type=%{x}<br>counts=%{y}<extra></extra>",
         "legendgroup": "1503",
         "marker": {
          "color": "#00cc96",
          "pattern": {
           "shape": ""
          }
         },
         "name": "1503",
         "offsetgroup": "1503",
         "orientation": "v",
         "showlegend": true,
         "textposition": "auto",
         "type": "bar",
         "x": [
          "Book"
         ],
         "xaxis": "x",
         "y": [
          3
         ],
         "yaxis": "y"
        },
        {
         "alignmentgroup": "True",
         "hovertemplate": "Date of Publication=1504<br>Material type=%{x}<br>counts=%{y}<extra></extra>",
         "legendgroup": "1504",
         "marker": {
          "color": "#ab63fa",
          "pattern": {
           "shape": ""
          }
         },
         "name": "1504",
         "offsetgroup": "1504",
         "orientation": "v",
         "showlegend": true,
         "textposition": "auto",
         "type": "bar",
         "x": [
          "Book"
         ],
         "xaxis": "x",
         "y": [
          3
         ],
         "yaxis": "y"
        },
        {
         "alignmentgroup": "True",
         "hovertemplate": "Date of Publication=1505<br>Material type=%{x}<br>counts=%{y}<extra></extra>",
         "legendgroup": "1505",
         "marker": {
          "color": "#FFA15A",
          "pattern": {
           "shape": ""
          }
         },
         "name": "1505",
         "offsetgroup": "1505",
         "orientation": "v",
         "showlegend": true,
         "textposition": "auto",
         "type": "bar",
         "x": [
          "Book"
         ],
         "xaxis": "x",
         "y": [
          2
         ],
         "yaxis": "y"
        },
        {
         "alignmentgroup": "True",
         "hovertemplate": "Date of Publication=1507<br>Material type=%{x}<br>counts=%{y}<extra></extra>",
         "legendgroup": "1507",
         "marker": {
          "color": "#19d3f3",
          "pattern": {
           "shape": ""
          }
         },
         "name": "1507",
         "offsetgroup": "1507",
         "orientation": "v",
         "showlegend": true,
         "textposition": "auto",
         "type": "bar",
         "x": [
          "Book"
         ],
         "xaxis": "x",
         "y": [
          4
         ],
         "yaxis": "y"
        },
        {
         "alignmentgroup": "True",
         "hovertemplate": "Date of Publication=1508<br>Material type=%{x}<br>counts=%{y}<extra></extra>",
         "legendgroup": "1508",
         "marker": {
          "color": "#FF6692",
          "pattern": {
           "shape": ""
          }
         },
         "name": "1508",
         "offsetgroup": "1508",
         "orientation": "v",
         "showlegend": true,
         "textposition": "auto",
         "type": "bar",
         "x": [
          "Book"
         ],
         "xaxis": "x",
         "y": [
          2
         ],
         "yaxis": "y"
        },
        {
         "alignmentgroup": "True",
         "hovertemplate": "Date of Publication=1509<br>Material type=%{x}<br>counts=%{y}<extra></extra>",
         "legendgroup": "1509",
         "marker": {
          "color": "#B6E880",
          "pattern": {
           "shape": ""
          }
         },
         "name": "1509",
         "offsetgroup": "1509",
         "orientation": "v",
         "showlegend": true,
         "textposition": "auto",
         "type": "bar",
         "x": [
          "Book"
         ],
         "xaxis": "x",
         "y": [
          7
         ],
         "yaxis": "y"
        },
        {
         "alignmentgroup": "True",
         "hovertemplate": "Date of Publication=1510<br>Material type=%{x}<br>counts=%{y}<extra></extra>",
         "legendgroup": "1510",
         "marker": {
          "color": "#FF97FF",
          "pattern": {
           "shape": ""
          }
         },
         "name": "1510",
         "offsetgroup": "1510",
         "orientation": "v",
         "showlegend": true,
         "textposition": "auto",
         "type": "bar",
         "x": [
          "Book",
          "Manuscript"
         ],
         "xaxis": "x",
         "y": [
          1,
          3
         ],
         "yaxis": "y"
        },
        {
         "alignmentgroup": "True",
         "hovertemplate": "Date of Publication=1511<br>Material type=%{x}<br>counts=%{y}<extra></extra>",
         "legendgroup": "1511",
         "marker": {
          "color": "#FECB52",
          "pattern": {
           "shape": ""
          }
         },
         "name": "1511",
         "offsetgroup": "1511",
         "orientation": "v",
         "showlegend": true,
         "textposition": "auto",
         "type": "bar",
         "x": [
          "Book",
          "Manuscript"
         ],
         "xaxis": "x",
         "y": [
          1,
          1
         ],
         "yaxis": "y"
        },
        {
         "alignmentgroup": "True",
         "hovertemplate": "Date of Publication=1512<br>Material type=%{x}<br>counts=%{y}<extra></extra>",
         "legendgroup": "1512",
         "marker": {
          "color": "#636efa",
          "pattern": {
           "shape": ""
          }
         },
         "name": "1512",
         "offsetgroup": "1512",
         "orientation": "v",
         "showlegend": true,
         "textposition": "auto",
         "type": "bar",
         "x": [
          "Book",
          "Iconographic material"
         ],
         "xaxis": "x",
         "y": [
          4,
          1
         ],
         "yaxis": "y"
        },
        {
         "alignmentgroup": "True",
         "hovertemplate": "Date of Publication=1513<br>Material type=%{x}<br>counts=%{y}<extra></extra>",
         "legendgroup": "1513",
         "marker": {
          "color": "#EF553B",
          "pattern": {
           "shape": ""
          }
         },
         "name": "1513",
         "offsetgroup": "1513",
         "orientation": "v",
         "showlegend": true,
         "textposition": "auto",
         "type": "bar",
         "x": [
          "Book",
          "Cartographic material",
          "Manuscript"
         ],
         "xaxis": "x",
         "y": [
          1,
          1,
          1
         ],
         "yaxis": "y"
        },
        {
         "alignmentgroup": "True",
         "hovertemplate": "Date of Publication=1514<br>Material type=%{x}<br>counts=%{y}<extra></extra>",
         "legendgroup": "1514",
         "marker": {
          "color": "#00cc96",
          "pattern": {
           "shape": ""
          }
         },
         "name": "1514",
         "offsetgroup": "1514",
         "orientation": "v",
         "showlegend": true,
         "textposition": "auto",
         "type": "bar",
         "x": [
          "Book",
          "Manuscript"
         ],
         "xaxis": "x",
         "y": [
          1,
          9
         ],
         "yaxis": "y"
        },
        {
         "alignmentgroup": "True",
         "hovertemplate": "Date of Publication=1515<br>Material type=%{x}<br>counts=%{y}<extra></extra>",
         "legendgroup": "1515",
         "marker": {
          "color": "#ab63fa",
          "pattern": {
           "shape": ""
          }
         },
         "name": "1515",
         "offsetgroup": "1515",
         "orientation": "v",
         "showlegend": true,
         "textposition": "auto",
         "type": "bar",
         "x": [
          "Book",
          "Manuscript"
         ],
         "xaxis": "x",
         "y": [
          5,
          1
         ],
         "yaxis": "y"
        },
        {
         "alignmentgroup": "True",
         "hovertemplate": "Date of Publication=1516<br>Material type=%{x}<br>counts=%{y}<extra></extra>",
         "legendgroup": "1516",
         "marker": {
          "color": "#FFA15A",
          "pattern": {
           "shape": ""
          }
         },
         "name": "1516",
         "offsetgroup": "1516",
         "orientation": "v",
         "showlegend": true,
         "textposition": "auto",
         "type": "bar",
         "x": [
          "Book",
          "Manuscript"
         ],
         "xaxis": "x",
         "y": [
          7,
          1
         ],
         "yaxis": "y"
        },
        {
         "alignmentgroup": "True",
         "hovertemplate": "Date of Publication=1517<br>Material type=%{x}<br>counts=%{y}<extra></extra>",
         "legendgroup": "1517",
         "marker": {
          "color": "#19d3f3",
          "pattern": {
           "shape": ""
          }
         },
         "name": "1517",
         "offsetgroup": "1517",
         "orientation": "v",
         "showlegend": true,
         "textposition": "auto",
         "type": "bar",
         "x": [
          "Book"
         ],
         "xaxis": "x",
         "y": [
          2
         ],
         "yaxis": "y"
        },
        {
         "alignmentgroup": "True",
         "hovertemplate": "Date of Publication=1518<br>Material type=%{x}<br>counts=%{y}<extra></extra>",
         "legendgroup": "1518",
         "marker": {
          "color": "#FF6692",
          "pattern": {
           "shape": ""
          }
         },
         "name": "1518",
         "offsetgroup": "1518",
         "orientation": "v",
         "showlegend": true,
         "textposition": "auto",
         "type": "bar",
         "x": [
          "Book"
         ],
         "xaxis": "x",
         "y": [
          8
         ],
         "yaxis": "y"
        },
        {
         "alignmentgroup": "True",
         "hovertemplate": "Date of Publication=1519<br>Material type=%{x}<br>counts=%{y}<extra></extra>",
         "legendgroup": "1519",
         "marker": {
          "color": "#B6E880",
          "pattern": {
           "shape": ""
          }
         },
         "name": "1519",
         "offsetgroup": "1519",
         "orientation": "v",
         "showlegend": true,
         "textposition": "auto",
         "type": "bar",
         "x": [
          "Book",
          "Manuscript"
         ],
         "xaxis": "x",
         "y": [
          3,
          1
         ],
         "yaxis": "y"
        },
        {
         "alignmentgroup": "True",
         "hovertemplate": "Date of Publication=1520<br>Material type=%{x}<br>counts=%{y}<extra></extra>",
         "legendgroup": "1520",
         "marker": {
          "color": "#FF97FF",
          "pattern": {
           "shape": ""
          }
         },
         "name": "1520",
         "offsetgroup": "1520",
         "orientation": "v",
         "showlegend": true,
         "textposition": "auto",
         "type": "bar",
         "x": [
          "Book",
          "Cartographic material",
          "Manuscript"
         ],
         "xaxis": "x",
         "y": [
          10,
          1,
          1
         ],
         "yaxis": "y"
        },
        {
         "alignmentgroup": "True",
         "hovertemplate": "Date of Publication=1521<br>Material type=%{x}<br>counts=%{y}<extra></extra>",
         "legendgroup": "1521",
         "marker": {
          "color": "#FECB52",
          "pattern": {
           "shape": ""
          }
         },
         "name": "1521",
         "offsetgroup": "1521",
         "orientation": "v",
         "showlegend": true,
         "textposition": "auto",
         "type": "bar",
         "x": [
          "Book",
          "Manuscript"
         ],
         "xaxis": "x",
         "y": [
          7,
          2
         ],
         "yaxis": "y"
        },
        {
         "alignmentgroup": "True",
         "hovertemplate": "Date of Publication=1522<br>Material type=%{x}<br>counts=%{y}<extra></extra>",
         "legendgroup": "1522",
         "marker": {
          "color": "#636efa",
          "pattern": {
           "shape": ""
          }
         },
         "name": "1522",
         "offsetgroup": "1522",
         "orientation": "v",
         "showlegend": true,
         "textposition": "auto",
         "type": "bar",
         "x": [
          "Book",
          "Manuscript"
         ],
         "xaxis": "x",
         "y": [
          1,
          1
         ],
         "yaxis": "y"
        },
        {
         "alignmentgroup": "True",
         "hovertemplate": "Date of Publication=1523<br>Material type=%{x}<br>counts=%{y}<extra></extra>",
         "legendgroup": "1523",
         "marker": {
          "color": "#EF553B",
          "pattern": {
           "shape": ""
          }
         },
         "name": "1523",
         "offsetgroup": "1523",
         "orientation": "v",
         "showlegend": true,
         "textposition": "auto",
         "type": "bar",
         "x": [
          "Book",
          "Manuscript"
         ],
         "xaxis": "x",
         "y": [
          4,
          1
         ],
         "yaxis": "y"
        },
        {
         "alignmentgroup": "True",
         "hovertemplate": "Date of Publication=1524<br>Material type=%{x}<br>counts=%{y}<extra></extra>",
         "legendgroup": "1524",
         "marker": {
          "color": "#00cc96",
          "pattern": {
           "shape": ""
          }
         },
         "name": "1524",
         "offsetgroup": "1524",
         "orientation": "v",
         "showlegend": true,
         "textposition": "auto",
         "type": "bar",
         "x": [
          "Book",
          "Manuscript",
          "Notated music"
         ],
         "xaxis": "x",
         "y": [
          2,
          1,
          2
         ],
         "yaxis": "y"
        },
        {
         "alignmentgroup": "True",
         "hovertemplate": "Date of Publication=1525<br>Material type=%{x}<br>counts=%{y}<extra></extra>",
         "legendgroup": "1525",
         "marker": {
          "color": "#ab63fa",
          "pattern": {
           "shape": ""
          }
         },
         "name": "1525",
         "offsetgroup": "1525",
         "orientation": "v",
         "showlegend": true,
         "textposition": "auto",
         "type": "bar",
         "x": [
          "Book",
          "Manuscript",
          "Notated music"
         ],
         "xaxis": "x",
         "y": [
          4,
          3,
          1
         ],
         "yaxis": "y"
        },
        {
         "alignmentgroup": "True",
         "hovertemplate": "Date of Publication=1526<br>Material type=%{x}<br>counts=%{y}<extra></extra>",
         "legendgroup": "1526",
         "marker": {
          "color": "#FFA15A",
          "pattern": {
           "shape": ""
          }
         },
         "name": "1526",
         "offsetgroup": "1526",
         "orientation": "v",
         "showlegend": true,
         "textposition": "auto",
         "type": "bar",
         "x": [
          "Book",
          "Manuscript"
         ],
         "xaxis": "x",
         "y": [
          5,
          3
         ],
         "yaxis": "y"
        },
        {
         "alignmentgroup": "True",
         "hovertemplate": "Date of Publication=1527<br>Material type=%{x}<br>counts=%{y}<extra></extra>",
         "legendgroup": "1527",
         "marker": {
          "color": "#19d3f3",
          "pattern": {
           "shape": ""
          }
         },
         "name": "1527",
         "offsetgroup": "1527",
         "orientation": "v",
         "showlegend": true,
         "textposition": "auto",
         "type": "bar",
         "x": [
          "Book",
          "Manuscript"
         ],
         "xaxis": "x",
         "y": [
          3,
          1
         ],
         "yaxis": "y"
        },
        {
         "alignmentgroup": "True",
         "hovertemplate": "Date of Publication=1528<br>Material type=%{x}<br>counts=%{y}<extra></extra>",
         "legendgroup": "1528",
         "marker": {
          "color": "#FF6692",
          "pattern": {
           "shape": ""
          }
         },
         "name": "1528",
         "offsetgroup": "1528",
         "orientation": "v",
         "showlegend": true,
         "textposition": "auto",
         "type": "bar",
         "x": [
          "Book"
         ],
         "xaxis": "x",
         "y": [
          2
         ],
         "yaxis": "y"
        },
        {
         "alignmentgroup": "True",
         "hovertemplate": "Date of Publication=1529<br>Material type=%{x}<br>counts=%{y}<extra></extra>",
         "legendgroup": "1529",
         "marker": {
          "color": "#B6E880",
          "pattern": {
           "shape": ""
          }
         },
         "name": "1529",
         "offsetgroup": "1529",
         "orientation": "v",
         "showlegend": true,
         "textposition": "auto",
         "type": "bar",
         "x": [
          "Book"
         ],
         "xaxis": "x",
         "y": [
          6
         ],
         "yaxis": "y"
        },
        {
         "alignmentgroup": "True",
         "hovertemplate": "Date of Publication=1530<br>Material type=%{x}<br>counts=%{y}<extra></extra>",
         "legendgroup": "1530",
         "marker": {
          "color": "#FF97FF",
          "pattern": {
           "shape": ""
          }
         },
         "name": "1530",
         "offsetgroup": "1530",
         "orientation": "v",
         "showlegend": true,
         "textposition": "auto",
         "type": "bar",
         "x": [
          "Book",
          "Notated music"
         ],
         "xaxis": "x",
         "y": [
          5,
          1
         ],
         "yaxis": "y"
        },
        {
         "alignmentgroup": "True",
         "hovertemplate": "Date of Publication=1531<br>Material type=%{x}<br>counts=%{y}<extra></extra>",
         "legendgroup": "1531",
         "marker": {
          "color": "#FECB52",
          "pattern": {
           "shape": ""
          }
         },
         "name": "1531",
         "offsetgroup": "1531",
         "orientation": "v",
         "showlegend": true,
         "textposition": "auto",
         "type": "bar",
         "x": [
          "Book"
         ],
         "xaxis": "x",
         "y": [
          3
         ],
         "yaxis": "y"
        },
        {
         "alignmentgroup": "True",
         "hovertemplate": "Date of Publication=1532<br>Material type=%{x}<br>counts=%{y}<extra></extra>",
         "legendgroup": "1532",
         "marker": {
          "color": "#636efa",
          "pattern": {
           "shape": ""
          }
         },
         "name": "1532",
         "offsetgroup": "1532",
         "orientation": "v",
         "showlegend": true,
         "textposition": "auto",
         "type": "bar",
         "x": [
          "Book"
         ],
         "xaxis": "x",
         "y": [
          4
         ],
         "yaxis": "y"
        },
        {
         "alignmentgroup": "True",
         "hovertemplate": "Date of Publication=1533<br>Material type=%{x}<br>counts=%{y}<extra></extra>",
         "legendgroup": "1533",
         "marker": {
          "color": "#EF553B",
          "pattern": {
           "shape": ""
          }
         },
         "name": "1533",
         "offsetgroup": "1533",
         "orientation": "v",
         "showlegend": true,
         "textposition": "auto",
         "type": "bar",
         "x": [
          "Book"
         ],
         "xaxis": "x",
         "y": [
          1
         ],
         "yaxis": "y"
        },
        {
         "alignmentgroup": "True",
         "hovertemplate": "Date of Publication=1534<br>Material type=%{x}<br>counts=%{y}<extra></extra>",
         "legendgroup": "1534",
         "marker": {
          "color": "#00cc96",
          "pattern": {
           "shape": ""
          }
         },
         "name": "1534",
         "offsetgroup": "1534",
         "orientation": "v",
         "showlegend": true,
         "textposition": "auto",
         "type": "bar",
         "x": [
          "Book",
          "Manuscript"
         ],
         "xaxis": "x",
         "y": [
          4,
          1
         ],
         "yaxis": "y"
        },
        {
         "alignmentgroup": "True",
         "hovertemplate": "Date of Publication=1535<br>Material type=%{x}<br>counts=%{y}<extra></extra>",
         "legendgroup": "1535",
         "marker": {
          "color": "#ab63fa",
          "pattern": {
           "shape": ""
          }
         },
         "name": "1535",
         "offsetgroup": "1535",
         "orientation": "v",
         "showlegend": true,
         "textposition": "auto",
         "type": "bar",
         "x": [
          "Book",
          "Manuscript"
         ],
         "xaxis": "x",
         "y": [
          2,
          2
         ],
         "yaxis": "y"
        },
        {
         "alignmentgroup": "True",
         "hovertemplate": "Date of Publication=1536<br>Material type=%{x}<br>counts=%{y}<extra></extra>",
         "legendgroup": "1536",
         "marker": {
          "color": "#FFA15A",
          "pattern": {
           "shape": ""
          }
         },
         "name": "1536",
         "offsetgroup": "1536",
         "orientation": "v",
         "showlegend": true,
         "textposition": "auto",
         "type": "bar",
         "x": [
          "Book"
         ],
         "xaxis": "x",
         "y": [
          13
         ],
         "yaxis": "y"
        },
        {
         "alignmentgroup": "True",
         "hovertemplate": "Date of Publication=1537<br>Material type=%{x}<br>counts=%{y}<extra></extra>",
         "legendgroup": "1537",
         "marker": {
          "color": "#19d3f3",
          "pattern": {
           "shape": ""
          }
         },
         "name": "1537",
         "offsetgroup": "1537",
         "orientation": "v",
         "showlegend": true,
         "textposition": "auto",
         "type": "bar",
         "x": [
          "Book",
          "Manuscript"
         ],
         "xaxis": "x",
         "y": [
          5,
          1
         ],
         "yaxis": "y"
        },
        {
         "alignmentgroup": "True",
         "hovertemplate": "Date of Publication=1538<br>Material type=%{x}<br>counts=%{y}<extra></extra>",
         "legendgroup": "1538",
         "marker": {
          "color": "#FF6692",
          "pattern": {
           "shape": ""
          }
         },
         "name": "1538",
         "offsetgroup": "1538",
         "orientation": "v",
         "showlegend": true,
         "textposition": "auto",
         "type": "bar",
         "x": [
          "Book",
          "Cartographic material",
          "Manuscript"
         ],
         "xaxis": "x",
         "y": [
          7,
          1,
          1
         ],
         "yaxis": "y"
        },
        {
         "alignmentgroup": "True",
         "hovertemplate": "Date of Publication=1539<br>Material type=%{x}<br>counts=%{y}<extra></extra>",
         "legendgroup": "1539",
         "marker": {
          "color": "#B6E880",
          "pattern": {
           "shape": ""
          }
         },
         "name": "1539",
         "offsetgroup": "1539",
         "orientation": "v",
         "showlegend": true,
         "textposition": "auto",
         "type": "bar",
         "x": [
          "Book",
          "Manuscript"
         ],
         "xaxis": "x",
         "y": [
          18,
          1
         ],
         "yaxis": "y"
        },
        {
         "alignmentgroup": "True",
         "hovertemplate": "Date of Publication=1540<br>Material type=%{x}<br>counts=%{y}<extra></extra>",
         "legendgroup": "1540",
         "marker": {
          "color": "#FF97FF",
          "pattern": {
           "shape": ""
          }
         },
         "name": "1540",
         "offsetgroup": "1540",
         "orientation": "v",
         "showlegend": true,
         "textposition": "auto",
         "type": "bar",
         "x": [
          "Book",
          "Iconographic material",
          "Manuscript"
         ],
         "xaxis": "x",
         "y": [
          14,
          1,
          2
         ],
         "yaxis": "y"
        },
        {
         "alignmentgroup": "True",
         "hovertemplate": "Date of Publication=1541<br>Material type=%{x}<br>counts=%{y}<extra></extra>",
         "legendgroup": "1541",
         "marker": {
          "color": "#FECB52",
          "pattern": {
           "shape": ""
          }
         },
         "name": "1541",
         "offsetgroup": "1541",
         "orientation": "v",
         "showlegend": true,
         "textposition": "auto",
         "type": "bar",
         "x": [
          "Book",
          "Cartographic material"
         ],
         "xaxis": "x",
         "y": [
          11,
          1
         ],
         "yaxis": "y"
        },
        {
         "alignmentgroup": "True",
         "hovertemplate": "Date of Publication=1542<br>Material type=%{x}<br>counts=%{y}<extra></extra>",
         "legendgroup": "1542",
         "marker": {
          "color": "#636efa",
          "pattern": {
           "shape": ""
          }
         },
         "name": "1542",
         "offsetgroup": "1542",
         "orientation": "v",
         "showlegend": true,
         "textposition": "auto",
         "type": "bar",
         "x": [
          "Book",
          "Manuscript"
         ],
         "xaxis": "x",
         "y": [
          16,
          1
         ],
         "yaxis": "y"
        },
        {
         "alignmentgroup": "True",
         "hovertemplate": "Date of Publication=1543<br>Material type=%{x}<br>counts=%{y}<extra></extra>",
         "legendgroup": "1543",
         "marker": {
          "color": "#EF553B",
          "pattern": {
           "shape": ""
          }
         },
         "name": "1543",
         "offsetgroup": "1543",
         "orientation": "v",
         "showlegend": true,
         "textposition": "auto",
         "type": "bar",
         "x": [
          "Book",
          "Manuscript"
         ],
         "xaxis": "x",
         "y": [
          4,
          2
         ],
         "yaxis": "y"
        },
        {
         "alignmentgroup": "True",
         "hovertemplate": "Date of Publication=1544<br>Material type=%{x}<br>counts=%{y}<extra></extra>",
         "legendgroup": "1544",
         "marker": {
          "color": "#00cc96",
          "pattern": {
           "shape": ""
          }
         },
         "name": "1544",
         "offsetgroup": "1544",
         "orientation": "v",
         "showlegend": true,
         "textposition": "auto",
         "type": "bar",
         "x": [
          "Book"
         ],
         "xaxis": "x",
         "y": [
          6
         ],
         "yaxis": "y"
        },
        {
         "alignmentgroup": "True",
         "hovertemplate": "Date of Publication=1545<br>Material type=%{x}<br>counts=%{y}<extra></extra>",
         "legendgroup": "1545",
         "marker": {
          "color": "#ab63fa",
          "pattern": {
           "shape": ""
          }
         },
         "name": "1545",
         "offsetgroup": "1545",
         "orientation": "v",
         "showlegend": true,
         "textposition": "auto",
         "type": "bar",
         "x": [
          "Book",
          "Manuscript"
         ],
         "xaxis": "x",
         "y": [
          6,
          1
         ],
         "yaxis": "y"
        },
        {
         "alignmentgroup": "True",
         "hovertemplate": "Date of Publication=1546<br>Material type=%{x}<br>counts=%{y}<extra></extra>",
         "legendgroup": "1546",
         "marker": {
          "color": "#FFA15A",
          "pattern": {
           "shape": ""
          }
         },
         "name": "1546",
         "offsetgroup": "1546",
         "orientation": "v",
         "showlegend": true,
         "textposition": "auto",
         "type": "bar",
         "x": [
          "Book",
          "Manuscript"
         ],
         "xaxis": "x",
         "y": [
          5,
          1
         ],
         "yaxis": "y"
        },
        {
         "alignmentgroup": "True",
         "hovertemplate": "Date of Publication=1547<br>Material type=%{x}<br>counts=%{y}<extra></extra>",
         "legendgroup": "1547",
         "marker": {
          "color": "#19d3f3",
          "pattern": {
           "shape": ""
          }
         },
         "name": "1547",
         "offsetgroup": "1547",
         "orientation": "v",
         "showlegend": true,
         "textposition": "auto",
         "type": "bar",
         "x": [
          "Book",
          "Manuscript"
         ],
         "xaxis": "x",
         "y": [
          5,
          3
         ],
         "yaxis": "y"
        },
        {
         "alignmentgroup": "True",
         "hovertemplate": "Date of Publication=1548<br>Material type=%{x}<br>counts=%{y}<extra></extra>",
         "legendgroup": "1548",
         "marker": {
          "color": "#FF6692",
          "pattern": {
           "shape": ""
          }
         },
         "name": "1548",
         "offsetgroup": "1548",
         "orientation": "v",
         "showlegend": true,
         "textposition": "auto",
         "type": "bar",
         "x": [
          "Book",
          "Manuscript"
         ],
         "xaxis": "x",
         "y": [
          14,
          2
         ],
         "yaxis": "y"
        },
        {
         "alignmentgroup": "True",
         "hovertemplate": "Date of Publication=1549<br>Material type=%{x}<br>counts=%{y}<extra></extra>",
         "legendgroup": "1549",
         "marker": {
          "color": "#B6E880",
          "pattern": {
           "shape": ""
          }
         },
         "name": "1549",
         "offsetgroup": "1549",
         "orientation": "v",
         "showlegend": true,
         "textposition": "auto",
         "type": "bar",
         "x": [
          "Book",
          "Manuscript"
         ],
         "xaxis": "x",
         "y": [
          16,
          5
         ],
         "yaxis": "y"
        },
        {
         "alignmentgroup": "True",
         "hovertemplate": "Date of Publication=1550<br>Material type=%{x}<br>counts=%{y}<extra></extra>",
         "legendgroup": "1550",
         "marker": {
          "color": "#FF97FF",
          "pattern": {
           "shape": ""
          }
         },
         "name": "1550",
         "offsetgroup": "1550",
         "orientation": "v",
         "showlegend": true,
         "textposition": "auto",
         "type": "bar",
         "x": [
          "Book",
          "Cartographic material",
          "Iconographic material",
          "Manuscript",
          "Notated music"
         ],
         "xaxis": "x",
         "y": [
          10,
          4,
          8,
          3,
          3
         ],
         "yaxis": "y"
        },
        {
         "alignmentgroup": "True",
         "hovertemplate": "Date of Publication=1551<br>Material type=%{x}<br>counts=%{y}<extra></extra>",
         "legendgroup": "1551",
         "marker": {
          "color": "#FECB52",
          "pattern": {
           "shape": ""
          }
         },
         "name": "1551",
         "offsetgroup": "1551",
         "orientation": "v",
         "showlegend": true,
         "textposition": "auto",
         "type": "bar",
         "x": [
          "Book",
          "Cartographic material",
          "Manuscript"
         ],
         "xaxis": "x",
         "y": [
          17,
          1,
          15
         ],
         "yaxis": "y"
        },
        {
         "alignmentgroup": "True",
         "hovertemplate": "Date of Publication=1552<br>Material type=%{x}<br>counts=%{y}<extra></extra>",
         "legendgroup": "1552",
         "marker": {
          "color": "#636efa",
          "pattern": {
           "shape": ""
          }
         },
         "name": "1552",
         "offsetgroup": "1552",
         "orientation": "v",
         "showlegend": true,
         "textposition": "auto",
         "type": "bar",
         "x": [
          "Book",
          "Cartographic material",
          "Manuscript"
         ],
         "xaxis": "x",
         "y": [
          18,
          2,
          12
         ],
         "yaxis": "y"
        },
        {
         "alignmentgroup": "True",
         "hovertemplate": "Date of Publication=1553<br>Material type=%{x}<br>counts=%{y}<extra></extra>",
         "legendgroup": "1553",
         "marker": {
          "color": "#EF553B",
          "pattern": {
           "shape": ""
          }
         },
         "name": "1553",
         "offsetgroup": "1553",
         "orientation": "v",
         "showlegend": true,
         "textposition": "auto",
         "type": "bar",
         "x": [
          "Book",
          "Cartographic material",
          "Iconographic material",
          "Manuscript"
         ],
         "xaxis": "x",
         "y": [
          14,
          1,
          1,
          4
         ],
         "yaxis": "y"
        },
        {
         "alignmentgroup": "True",
         "hovertemplate": "Date of Publication=1554<br>Material type=%{x}<br>counts=%{y}<extra></extra>",
         "legendgroup": "1554",
         "marker": {
          "color": "#00cc96",
          "pattern": {
           "shape": ""
          }
         },
         "name": "1554",
         "offsetgroup": "1554",
         "orientation": "v",
         "showlegend": true,
         "textposition": "auto",
         "type": "bar",
         "x": [
          "Book",
          "Manuscript"
         ],
         "xaxis": "x",
         "y": [
          19,
          2
         ],
         "yaxis": "y"
        },
        {
         "alignmentgroup": "True",
         "hovertemplate": "Date of Publication=1555<br>Material type=%{x}<br>counts=%{y}<extra></extra>",
         "legendgroup": "1555",
         "marker": {
          "color": "#ab63fa",
          "pattern": {
           "shape": ""
          }
         },
         "name": "1555",
         "offsetgroup": "1555",
         "orientation": "v",
         "showlegend": true,
         "textposition": "auto",
         "type": "bar",
         "x": [
          "Book",
          "Iconographic material",
          "Manuscript"
         ],
         "xaxis": "x",
         "y": [
          8,
          1,
          2
         ],
         "yaxis": "y"
        },
        {
         "alignmentgroup": "True",
         "hovertemplate": "Date of Publication=1556<br>Material type=%{x}<br>counts=%{y}<extra></extra>",
         "legendgroup": "1556",
         "marker": {
          "color": "#FFA15A",
          "pattern": {
           "shape": ""
          }
         },
         "name": "1556",
         "offsetgroup": "1556",
         "orientation": "v",
         "showlegend": true,
         "textposition": "auto",
         "type": "bar",
         "x": [
          "Book"
         ],
         "xaxis": "x",
         "y": [
          9
         ],
         "yaxis": "y"
        },
        {
         "alignmentgroup": "True",
         "hovertemplate": "Date of Publication=1557<br>Material type=%{x}<br>counts=%{y}<extra></extra>",
         "legendgroup": "1557",
         "marker": {
          "color": "#19d3f3",
          "pattern": {
           "shape": ""
          }
         },
         "name": "1557",
         "offsetgroup": "1557",
         "orientation": "v",
         "showlegend": true,
         "textposition": "auto",
         "type": "bar",
         "x": [
          "Book",
          "Iconographic material",
          "Manuscript"
         ],
         "xaxis": "x",
         "y": [
          33,
          2,
          1
         ],
         "yaxis": "y"
        },
        {
         "alignmentgroup": "True",
         "hovertemplate": "Date of Publication=1558<br>Material type=%{x}<br>counts=%{y}<extra></extra>",
         "legendgroup": "1558",
         "marker": {
          "color": "#FF6692",
          "pattern": {
           "shape": ""
          }
         },
         "name": "1558",
         "offsetgroup": "1558",
         "orientation": "v",
         "showlegend": true,
         "textposition": "auto",
         "type": "bar",
         "x": [
          "Book"
         ],
         "xaxis": "x",
         "y": [
          21
         ],
         "yaxis": "y"
        },
        {
         "alignmentgroup": "True",
         "hovertemplate": "Date of Publication=1559<br>Material type=%{x}<br>counts=%{y}<extra></extra>",
         "legendgroup": "1559",
         "marker": {
          "color": "#B6E880",
          "pattern": {
           "shape": ""
          }
         },
         "name": "1559",
         "offsetgroup": "1559",
         "orientation": "v",
         "showlegend": true,
         "textposition": "auto",
         "type": "bar",
         "x": [
          "Book"
         ],
         "xaxis": "x",
         "y": [
          12
         ],
         "yaxis": "y"
        },
        {
         "alignmentgroup": "True",
         "hovertemplate": "Date of Publication=1560<br>Material type=%{x}<br>counts=%{y}<extra></extra>",
         "legendgroup": "1560",
         "marker": {
          "color": "#FF97FF",
          "pattern": {
           "shape": ""
          }
         },
         "name": "1560",
         "offsetgroup": "1560",
         "orientation": "v",
         "showlegend": true,
         "textposition": "auto",
         "type": "bar",
         "x": [
          "Book",
          "Cartographic material",
          "Iconographic material",
          "Manuscript"
         ],
         "xaxis": "x",
         "y": [
          19,
          2,
          8,
          2
         ],
         "yaxis": "y"
        },
        {
         "alignmentgroup": "True",
         "hovertemplate": "Date of Publication=1561<br>Material type=%{x}<br>counts=%{y}<extra></extra>",
         "legendgroup": "1561",
         "marker": {
          "color": "#FECB52",
          "pattern": {
           "shape": ""
          }
         },
         "name": "1561",
         "offsetgroup": "1561",
         "orientation": "v",
         "showlegend": true,
         "textposition": "auto",
         "type": "bar",
         "x": [
          "Book",
          "Cartographic material",
          "Iconographic material",
          "Manuscript"
         ],
         "xaxis": "x",
         "y": [
          19,
          4,
          2,
          2
         ],
         "yaxis": "y"
        },
        {
         "alignmentgroup": "True",
         "hovertemplate": "Date of Publication=1562<br>Material type=%{x}<br>counts=%{y}<extra></extra>",
         "legendgroup": "1562",
         "marker": {
          "color": "#636efa",
          "pattern": {
           "shape": ""
          }
         },
         "name": "1562",
         "offsetgroup": "1562",
         "orientation": "v",
         "showlegend": true,
         "textposition": "auto",
         "type": "bar",
         "x": [
          "Book",
          "Manuscript"
         ],
         "xaxis": "x",
         "y": [
          15,
          3
         ],
         "yaxis": "y"
        },
        {
         "alignmentgroup": "True",
         "hovertemplate": "Date of Publication=1563<br>Material type=%{x}<br>counts=%{y}<extra></extra>",
         "legendgroup": "1563",
         "marker": {
          "color": "#EF553B",
          "pattern": {
           "shape": ""
          }
         },
         "name": "1563",
         "offsetgroup": "1563",
         "orientation": "v",
         "showlegend": true,
         "textposition": "auto",
         "type": "bar",
         "x": [
          "Book",
          "Manuscript"
         ],
         "xaxis": "x",
         "y": [
          16,
          1
         ],
         "yaxis": "y"
        },
        {
         "alignmentgroup": "True",
         "hovertemplate": "Date of Publication=1564<br>Material type=%{x}<br>counts=%{y}<extra></extra>",
         "legendgroup": "1564",
         "marker": {
          "color": "#00cc96",
          "pattern": {
           "shape": ""
          }
         },
         "name": "1564",
         "offsetgroup": "1564",
         "orientation": "v",
         "showlegend": true,
         "textposition": "auto",
         "type": "bar",
         "x": [
          "Book"
         ],
         "xaxis": "x",
         "y": [
          24
         ],
         "yaxis": "y"
        },
        {
         "alignmentgroup": "True",
         "hovertemplate": "Date of Publication=1565<br>Material type=%{x}<br>counts=%{y}<extra></extra>",
         "legendgroup": "1565",
         "marker": {
          "color": "#ab63fa",
          "pattern": {
           "shape": ""
          }
         },
         "name": "1565",
         "offsetgroup": "1565",
         "orientation": "v",
         "showlegend": true,
         "textposition": "auto",
         "type": "bar",
         "x": [
          "Book",
          "Cartographic material",
          "Manuscript"
         ],
         "xaxis": "x",
         "y": [
          29,
          2,
          2
         ],
         "yaxis": "y"
        },
        {
         "alignmentgroup": "True",
         "hovertemplate": "Date of Publication=1566<br>Material type=%{x}<br>counts=%{y}<extra></extra>",
         "legendgroup": "1566",
         "marker": {
          "color": "#FFA15A",
          "pattern": {
           "shape": ""
          }
         },
         "name": "1566",
         "offsetgroup": "1566",
         "orientation": "v",
         "showlegend": true,
         "textposition": "auto",
         "type": "bar",
         "x": [
          "Book",
          "Cartographic material",
          "Iconographic material"
         ],
         "xaxis": "x",
         "y": [
          23,
          1,
          1
         ],
         "yaxis": "y"
        },
        {
         "alignmentgroup": "True",
         "hovertemplate": "Date of Publication=1567<br>Material type=%{x}<br>counts=%{y}<extra></extra>",
         "legendgroup": "1567",
         "marker": {
          "color": "#19d3f3",
          "pattern": {
           "shape": ""
          }
         },
         "name": "1567",
         "offsetgroup": "1567",
         "orientation": "v",
         "showlegend": true,
         "textposition": "auto",
         "type": "bar",
         "x": [
          "Book",
          "Cartographic material",
          "Manuscript"
         ],
         "xaxis": "x",
         "y": [
          18,
          1,
          1
         ],
         "yaxis": "y"
        },
        {
         "alignmentgroup": "True",
         "hovertemplate": "Date of Publication=1568<br>Material type=%{x}<br>counts=%{y}<extra></extra>",
         "legendgroup": "1568",
         "marker": {
          "color": "#FF6692",
          "pattern": {
           "shape": ""
          }
         },
         "name": "1568",
         "offsetgroup": "1568",
         "orientation": "v",
         "showlegend": true,
         "textposition": "auto",
         "type": "bar",
         "x": [
          "Book",
          "Iconographic material"
         ],
         "xaxis": "x",
         "y": [
          12,
          1
         ],
         "yaxis": "y"
        },
        {
         "alignmentgroup": "True",
         "hovertemplate": "Date of Publication=1569<br>Material type=%{x}<br>counts=%{y}<extra></extra>",
         "legendgroup": "1569",
         "marker": {
          "color": "#B6E880",
          "pattern": {
           "shape": ""
          }
         },
         "name": "1569",
         "offsetgroup": "1569",
         "orientation": "v",
         "showlegend": true,
         "textposition": "auto",
         "type": "bar",
         "x": [
          "Book",
          "Iconographic material"
         ],
         "xaxis": "x",
         "y": [
          13,
          2
         ],
         "yaxis": "y"
        },
        {
         "alignmentgroup": "True",
         "hovertemplate": "Date of Publication=1570<br>Material type=%{x}<br>counts=%{y}<extra></extra>",
         "legendgroup": "1570",
         "marker": {
          "color": "#FF97FF",
          "pattern": {
           "shape": ""
          }
         },
         "name": "1570",
         "offsetgroup": "1570",
         "orientation": "v",
         "showlegend": true,
         "textposition": "auto",
         "type": "bar",
         "x": [
          "Book",
          "Cartographic material",
          "Iconographic material",
          "Manuscript"
         ],
         "xaxis": "x",
         "y": [
          11,
          3,
          3,
          1
         ],
         "yaxis": "y"
        },
        {
         "alignmentgroup": "True",
         "hovertemplate": "Date of Publication=1571<br>Material type=%{x}<br>counts=%{y}<extra></extra>",
         "legendgroup": "1571",
         "marker": {
          "color": "#FECB52",
          "pattern": {
           "shape": ""
          }
         },
         "name": "1571",
         "offsetgroup": "1571",
         "orientation": "v",
         "showlegend": true,
         "textposition": "auto",
         "type": "bar",
         "x": [
          "Book",
          "Cartographic material",
          "Iconographic material"
         ],
         "xaxis": "x",
         "y": [
          11,
          1,
          2
         ],
         "yaxis": "y"
        },
        {
         "alignmentgroup": "True",
         "hovertemplate": "Date of Publication=1572<br>Material type=%{x}<br>counts=%{y}<extra></extra>",
         "legendgroup": "1572",
         "marker": {
          "color": "#636efa",
          "pattern": {
           "shape": ""
          }
         },
         "name": "1572",
         "offsetgroup": "1572",
         "orientation": "v",
         "showlegend": true,
         "textposition": "auto",
         "type": "bar",
         "x": [
          "Book",
          "Cartographic material",
          "Iconographic material",
          "Manuscript"
         ],
         "xaxis": "x",
         "y": [
          13,
          5,
          2,
          2
         ],
         "yaxis": "y"
        },
        {
         "alignmentgroup": "True",
         "hovertemplate": "Date of Publication=1573<br>Material type=%{x}<br>counts=%{y}<extra></extra>",
         "legendgroup": "1573",
         "marker": {
          "color": "#EF553B",
          "pattern": {
           "shape": ""
          }
         },
         "name": "1573",
         "offsetgroup": "1573",
         "orientation": "v",
         "showlegend": true,
         "textposition": "auto",
         "type": "bar",
         "x": [
          "Book",
          "Iconographic material",
          "Manuscript"
         ],
         "xaxis": "x",
         "y": [
          12,
          2,
          2
         ],
         "yaxis": "y"
        },
        {
         "alignmentgroup": "True",
         "hovertemplate": "Date of Publication=1574<br>Material type=%{x}<br>counts=%{y}<extra></extra>",
         "legendgroup": "1574",
         "marker": {
          "color": "#00cc96",
          "pattern": {
           "shape": ""
          }
         },
         "name": "1574",
         "offsetgroup": "1574",
         "orientation": "v",
         "showlegend": true,
         "textposition": "auto",
         "type": "bar",
         "x": [
          "Book",
          "Cartographic material",
          "Iconographic material"
         ],
         "xaxis": "x",
         "y": [
          10,
          2,
          1
         ],
         "yaxis": "y"
        },
        {
         "alignmentgroup": "True",
         "hovertemplate": "Date of Publication=1575<br>Material type=%{x}<br>counts=%{y}<extra></extra>",
         "legendgroup": "1575",
         "marker": {
          "color": "#ab63fa",
          "pattern": {
           "shape": ""
          }
         },
         "name": "1575",
         "offsetgroup": "1575",
         "orientation": "v",
         "showlegend": true,
         "textposition": "auto",
         "type": "bar",
         "x": [
          "Book",
          "Iconographic material",
          "Manuscript"
         ],
         "xaxis": "x",
         "y": [
          15,
          8,
          9
         ],
         "yaxis": "y"
        },
        {
         "alignmentgroup": "True",
         "hovertemplate": "Date of Publication=1576<br>Material type=%{x}<br>counts=%{y}<extra></extra>",
         "legendgroup": "1576",
         "marker": {
          "color": "#FFA15A",
          "pattern": {
           "shape": ""
          }
         },
         "name": "1576",
         "offsetgroup": "1576",
         "orientation": "v",
         "showlegend": true,
         "textposition": "auto",
         "type": "bar",
         "x": [
          "Book",
          "Cartographic material",
          "Iconographic material",
          "Manuscript"
         ],
         "xaxis": "x",
         "y": [
          17,
          1,
          1,
          4
         ],
         "yaxis": "y"
        },
        {
         "alignmentgroup": "True",
         "hovertemplate": "Date of Publication=1577<br>Material type=%{x}<br>counts=%{y}<extra></extra>",
         "legendgroup": "1577",
         "marker": {
          "color": "#19d3f3",
          "pattern": {
           "shape": ""
          }
         },
         "name": "1577",
         "offsetgroup": "1577",
         "orientation": "v",
         "showlegend": true,
         "textposition": "auto",
         "type": "bar",
         "x": [
          "Book"
         ],
         "xaxis": "x",
         "y": [
          6
         ],
         "yaxis": "y"
        },
        {
         "alignmentgroup": "True",
         "hovertemplate": "Date of Publication=1578<br>Material type=%{x}<br>counts=%{y}<extra></extra>",
         "legendgroup": "1578",
         "marker": {
          "color": "#FF6692",
          "pattern": {
           "shape": ""
          }
         },
         "name": "1578",
         "offsetgroup": "1578",
         "orientation": "v",
         "showlegend": true,
         "textposition": "auto",
         "type": "bar",
         "x": [
          "Book",
          "Iconographic material",
          "Manuscript"
         ],
         "xaxis": "x",
         "y": [
          15,
          1,
          4
         ],
         "yaxis": "y"
        },
        {
         "alignmentgroup": "True",
         "hovertemplate": "Date of Publication=1579<br>Material type=%{x}<br>counts=%{y}<extra></extra>",
         "legendgroup": "1579",
         "marker": {
          "color": "#B6E880",
          "pattern": {
           "shape": ""
          }
         },
         "name": "1579",
         "offsetgroup": "1579",
         "orientation": "v",
         "showlegend": true,
         "textposition": "auto",
         "type": "bar",
         "x": [
          "Book",
          "Manuscript"
         ],
         "xaxis": "x",
         "y": [
          13,
          3
         ],
         "yaxis": "y"
        },
        {
         "alignmentgroup": "True",
         "hovertemplate": "Date of Publication=1580<br>Material type=%{x}<br>counts=%{y}<extra></extra>",
         "legendgroup": "1580",
         "marker": {
          "color": "#FF97FF",
          "pattern": {
           "shape": ""
          }
         },
         "name": "1580",
         "offsetgroup": "1580",
         "orientation": "v",
         "showlegend": true,
         "textposition": "auto",
         "type": "bar",
         "x": [
          "Book",
          "Cartographic material",
          "Iconographic material",
          "Manuscript"
         ],
         "xaxis": "x",
         "y": [
          10,
          1,
          22,
          5
         ],
         "yaxis": "y"
        },
        {
         "alignmentgroup": "True",
         "hovertemplate": "Date of Publication=1581<br>Material type=%{x}<br>counts=%{y}<extra></extra>",
         "legendgroup": "1581",
         "marker": {
          "color": "#FECB52",
          "pattern": {
           "shape": ""
          }
         },
         "name": "1581",
         "offsetgroup": "1581",
         "orientation": "v",
         "showlegend": true,
         "textposition": "auto",
         "type": "bar",
         "x": [
          "Book",
          "Cartographic material",
          "Manuscript"
         ],
         "xaxis": "x",
         "y": [
          10,
          2,
          2
         ],
         "yaxis": "y"
        },
        {
         "alignmentgroup": "True",
         "hovertemplate": "Date of Publication=1582<br>Material type=%{x}<br>counts=%{y}<extra></extra>",
         "legendgroup": "1582",
         "marker": {
          "color": "#636efa",
          "pattern": {
           "shape": ""
          }
         },
         "name": "1582",
         "offsetgroup": "1582",
         "orientation": "v",
         "showlegend": true,
         "textposition": "auto",
         "type": "bar",
         "x": [
          "Book",
          "Manuscript"
         ],
         "xaxis": "x",
         "y": [
          17,
          1
         ],
         "yaxis": "y"
        },
        {
         "alignmentgroup": "True",
         "hovertemplate": "Date of Publication=1583<br>Material type=%{x}<br>counts=%{y}<extra></extra>",
         "legendgroup": "1583",
         "marker": {
          "color": "#EF553B",
          "pattern": {
           "shape": ""
          }
         },
         "name": "1583",
         "offsetgroup": "1583",
         "orientation": "v",
         "showlegend": true,
         "textposition": "auto",
         "type": "bar",
         "x": [
          "Book",
          "Manuscript"
         ],
         "xaxis": "x",
         "y": [
          22,
          2
         ],
         "yaxis": "y"
        },
        {
         "alignmentgroup": "True",
         "hovertemplate": "Date of Publication=1584<br>Material type=%{x}<br>counts=%{y}<extra></extra>",
         "legendgroup": "1584",
         "marker": {
          "color": "#00cc96",
          "pattern": {
           "shape": ""
          }
         },
         "name": "1584",
         "offsetgroup": "1584",
         "orientation": "v",
         "showlegend": true,
         "textposition": "auto",
         "type": "bar",
         "x": [
          "Book",
          "Cartographic material",
          "Manuscript"
         ],
         "xaxis": "x",
         "y": [
          5,
          2,
          1
         ],
         "yaxis": "y"
        },
        {
         "alignmentgroup": "True",
         "hovertemplate": "Date of Publication=1585<br>Material type=%{x}<br>counts=%{y}<extra></extra>",
         "legendgroup": "1585",
         "marker": {
          "color": "#ab63fa",
          "pattern": {
           "shape": ""
          }
         },
         "name": "1585",
         "offsetgroup": "1585",
         "orientation": "v",
         "showlegend": true,
         "textposition": "auto",
         "type": "bar",
         "x": [
          "Book",
          "Cartographic material",
          "Iconographic material",
          "Manuscript"
         ],
         "xaxis": "x",
         "y": [
          16,
          1,
          4,
          2
         ],
         "yaxis": "y"
        },
        {
         "alignmentgroup": "True",
         "hovertemplate": "Date of Publication=1586<br>Material type=%{x}<br>counts=%{y}<extra></extra>",
         "legendgroup": "1586",
         "marker": {
          "color": "#FFA15A",
          "pattern": {
           "shape": ""
          }
         },
         "name": "1586",
         "offsetgroup": "1586",
         "orientation": "v",
         "showlegend": true,
         "textposition": "auto",
         "type": "bar",
         "x": [
          "Book",
          "Cartographic material",
          "Manuscript"
         ],
         "xaxis": "x",
         "y": [
          15,
          3,
          1
         ],
         "yaxis": "y"
        },
        {
         "alignmentgroup": "True",
         "hovertemplate": "Date of Publication=1587<br>Material type=%{x}<br>counts=%{y}<extra></extra>",
         "legendgroup": "1587",
         "marker": {
          "color": "#19d3f3",
          "pattern": {
           "shape": ""
          }
         },
         "name": "1587",
         "offsetgroup": "1587",
         "orientation": "v",
         "showlegend": true,
         "textposition": "auto",
         "type": "bar",
         "x": [
          "Book",
          "Iconographic material"
         ],
         "xaxis": "x",
         "y": [
          12,
          2
         ],
         "yaxis": "y"
        },
        {
         "alignmentgroup": "True",
         "hovertemplate": "Date of Publication=1588<br>Material type=%{x}<br>counts=%{y}<extra></extra>",
         "legendgroup": "1588",
         "marker": {
          "color": "#FF6692",
          "pattern": {
           "shape": ""
          }
         },
         "name": "1588",
         "offsetgroup": "1588",
         "orientation": "v",
         "showlegend": true,
         "textposition": "auto",
         "type": "bar",
         "x": [
          "Book",
          "Cartographic material",
          "Iconographic material",
          "Manuscript"
         ],
         "xaxis": "x",
         "y": [
          27,
          1,
          3,
          2
         ],
         "yaxis": "y"
        },
        {
         "alignmentgroup": "True",
         "hovertemplate": "Date of Publication=1589<br>Material type=%{x}<br>counts=%{y}<extra></extra>",
         "legendgroup": "1589",
         "marker": {
          "color": "#B6E880",
          "pattern": {
           "shape": ""
          }
         },
         "name": "1589",
         "offsetgroup": "1589",
         "orientation": "v",
         "showlegend": true,
         "textposition": "auto",
         "type": "bar",
         "x": [
          "Book",
          "Cartographic material",
          "Iconographic material",
          "Manuscript"
         ],
         "xaxis": "x",
         "y": [
          18,
          1,
          1,
          1
         ],
         "yaxis": "y"
        },
        {
         "alignmentgroup": "True",
         "hovertemplate": "Date of Publication=1590<br>Material type=%{x}<br>counts=%{y}<extra></extra>",
         "legendgroup": "1590",
         "marker": {
          "color": "#FF97FF",
          "pattern": {
           "shape": ""
          }
         },
         "name": "1590",
         "offsetgroup": "1590",
         "orientation": "v",
         "showlegend": true,
         "textposition": "auto",
         "type": "bar",
         "x": [
          "Book",
          "Cartographic material",
          "Iconographic material",
          "Manuscript"
         ],
         "xaxis": "x",
         "y": [
          23,
          1,
          14,
          7
         ],
         "yaxis": "y"
        },
        {
         "alignmentgroup": "True",
         "hovertemplate": "Date of Publication=1591<br>Material type=%{x}<br>counts=%{y}<extra></extra>",
         "legendgroup": "1591",
         "marker": {
          "color": "#FECB52",
          "pattern": {
           "shape": ""
          }
         },
         "name": "1591",
         "offsetgroup": "1591",
         "orientation": "v",
         "showlegend": true,
         "textposition": "auto",
         "type": "bar",
         "x": [
          "Book",
          "Cartographic material",
          "Iconographic material"
         ],
         "xaxis": "x",
         "y": [
          23,
          3,
          3
         ],
         "yaxis": "y"
        },
        {
         "alignmentgroup": "True",
         "hovertemplate": "Date of Publication=1592<br>Material type=%{x}<br>counts=%{y}<extra></extra>",
         "legendgroup": "1592",
         "marker": {
          "color": "#636efa",
          "pattern": {
           "shape": ""
          }
         },
         "name": "1592",
         "offsetgroup": "1592",
         "orientation": "v",
         "showlegend": true,
         "textposition": "auto",
         "type": "bar",
         "x": [
          "Book",
          "Cartographic material",
          "Iconographic material",
          "Manuscript"
         ],
         "xaxis": "x",
         "y": [
          15,
          1,
          1,
          4
         ],
         "yaxis": "y"
        },
        {
         "alignmentgroup": "True",
         "hovertemplate": "Date of Publication=1593<br>Material type=%{x}<br>counts=%{y}<extra></extra>",
         "legendgroup": "1593",
         "marker": {
          "color": "#EF553B",
          "pattern": {
           "shape": ""
          }
         },
         "name": "1593",
         "offsetgroup": "1593",
         "orientation": "v",
         "showlegend": true,
         "textposition": "auto",
         "type": "bar",
         "x": [
          "Book",
          "Cartographic material",
          "Iconographic material",
          "Manuscript"
         ],
         "xaxis": "x",
         "y": [
          20,
          1,
          1,
          2
         ],
         "yaxis": "y"
        },
        {
         "alignmentgroup": "True",
         "hovertemplate": "Date of Publication=1594<br>Material type=%{x}<br>counts=%{y}<extra></extra>",
         "legendgroup": "1594",
         "marker": {
          "color": "#00cc96",
          "pattern": {
           "shape": ""
          }
         },
         "name": "1594",
         "offsetgroup": "1594",
         "orientation": "v",
         "showlegend": true,
         "textposition": "auto",
         "type": "bar",
         "x": [
          "Book",
          "Cartographic material",
          "Iconographic material",
          "Manuscript",
          "Notated music"
         ],
         "xaxis": "x",
         "y": [
          16,
          1,
          2,
          1,
          1
         ],
         "yaxis": "y"
        },
        {
         "alignmentgroup": "True",
         "hovertemplate": "Date of Publication=1595<br>Material type=%{x}<br>counts=%{y}<extra></extra>",
         "legendgroup": "1595",
         "marker": {
          "color": "#ab63fa",
          "pattern": {
           "shape": ""
          }
         },
         "name": "1595",
         "offsetgroup": "1595",
         "orientation": "v",
         "showlegend": true,
         "textposition": "auto",
         "type": "bar",
         "x": [
          "Book",
          "Cartographic material",
          "Iconographic material",
          "Manuscript"
         ],
         "xaxis": "x",
         "y": [
          12,
          5,
          1,
          1
         ],
         "yaxis": "y"
        },
        {
         "alignmentgroup": "True",
         "hovertemplate": "Date of Publication=1596<br>Material type=%{x}<br>counts=%{y}<extra></extra>",
         "legendgroup": "1596",
         "marker": {
          "color": "#FFA15A",
          "pattern": {
           "shape": ""
          }
         },
         "name": "1596",
         "offsetgroup": "1596",
         "orientation": "v",
         "showlegend": true,
         "textposition": "auto",
         "type": "bar",
         "x": [
          "Book",
          "Cartographic material",
          "Manuscript"
         ],
         "xaxis": "x",
         "y": [
          11,
          2,
          2
         ],
         "yaxis": "y"
        },
        {
         "alignmentgroup": "True",
         "hovertemplate": "Date of Publication=1597<br>Material type=%{x}<br>counts=%{y}<extra></extra>",
         "legendgroup": "1597",
         "marker": {
          "color": "#19d3f3",
          "pattern": {
           "shape": ""
          }
         },
         "name": "1597",
         "offsetgroup": "1597",
         "orientation": "v",
         "showlegend": true,
         "textposition": "auto",
         "type": "bar",
         "x": [
          "Book",
          "Iconographic material",
          "Manuscript"
         ],
         "xaxis": "x",
         "y": [
          19,
          2,
          5
         ],
         "yaxis": "y"
        },
        {
         "alignmentgroup": "True",
         "hovertemplate": "Date of Publication=1598<br>Material type=%{x}<br>counts=%{y}<extra></extra>",
         "legendgroup": "1598",
         "marker": {
          "color": "#FF6692",
          "pattern": {
           "shape": ""
          }
         },
         "name": "1598",
         "offsetgroup": "1598",
         "orientation": "v",
         "showlegend": true,
         "textposition": "auto",
         "type": "bar",
         "x": [
          "Book",
          "Cartographic material",
          "Iconographic material",
          "Manuscript"
         ],
         "xaxis": "x",
         "y": [
          18,
          1,
          5,
          2
         ],
         "yaxis": "y"
        },
        {
         "alignmentgroup": "True",
         "hovertemplate": "Date of Publication=1599<br>Material type=%{x}<br>counts=%{y}<extra></extra>",
         "legendgroup": "1599",
         "marker": {
          "color": "#B6E880",
          "pattern": {
           "shape": ""
          }
         },
         "name": "1599",
         "offsetgroup": "1599",
         "orientation": "v",
         "showlegend": true,
         "textposition": "auto",
         "type": "bar",
         "x": [
          "Book",
          "Iconographic material",
          "Manuscript"
         ],
         "xaxis": "x",
         "y": [
          9,
          1,
          4
         ],
         "yaxis": "y"
        },
        {
         "alignmentgroup": "True",
         "hovertemplate": "Date of Publication=16  <br>Material type=%{x}<br>counts=%{y}<extra></extra>",
         "legendgroup": "16  ",
         "marker": {
          "color": "#FF97FF",
          "pattern": {
           "shape": ""
          }
         },
         "name": "16  ",
         "offsetgroup": "16  ",
         "orientation": "v",
         "showlegend": true,
         "textposition": "auto",
         "type": "bar",
         "x": [
          "Book",
          "Cartographic material",
          "Manuscript"
         ],
         "xaxis": "x",
         "y": [
          1,
          7,
          2
         ],
         "yaxis": "y"
        },
        {
         "alignmentgroup": "True",
         "hovertemplate": "Date of Publication=1600<br>Material type=%{x}<br>counts=%{y}<extra></extra>",
         "legendgroup": "1600",
         "marker": {
          "color": "#FECB52",
          "pattern": {
           "shape": ""
          }
         },
         "name": "1600",
         "offsetgroup": "1600",
         "orientation": "v",
         "showlegend": true,
         "textposition": "auto",
         "type": "bar",
         "x": [
          "Book",
          "Cartographic material",
          "Iconographic material",
          "Manuscript",
          "Notated music"
         ],
         "xaxis": "x",
         "y": [
          19,
          14,
          163,
          3,
          2
         ],
         "yaxis": "y"
        },
        {
         "alignmentgroup": "True",
         "hovertemplate": "Date of Publication=1601<br>Material type=%{x}<br>counts=%{y}<extra></extra>",
         "legendgroup": "1601",
         "marker": {
          "color": "#636efa",
          "pattern": {
           "shape": ""
          }
         },
         "name": "1601",
         "offsetgroup": "1601",
         "orientation": "v",
         "showlegend": true,
         "textposition": "auto",
         "type": "bar",
         "x": [
          "Book",
          "Cartographic material",
          "Iconographic material",
          "Manuscript"
         ],
         "xaxis": "x",
         "y": [
          22,
          1,
          6,
          172
         ],
         "yaxis": "y"
        },
        {
         "alignmentgroup": "True",
         "hovertemplate": "Date of Publication=1602<br>Material type=%{x}<br>counts=%{y}<extra></extra>",
         "legendgroup": "1602",
         "marker": {
          "color": "#EF553B",
          "pattern": {
           "shape": ""
          }
         },
         "name": "1602",
         "offsetgroup": "1602",
         "orientation": "v",
         "showlegend": true,
         "textposition": "auto",
         "type": "bar",
         "x": [
          "Book",
          "Cartographic material",
          "Iconographic material"
         ],
         "xaxis": "x",
         "y": [
          12,
          1,
          1
         ],
         "yaxis": "y"
        },
        {
         "alignmentgroup": "True",
         "hovertemplate": "Date of Publication=1603<br>Material type=%{x}<br>counts=%{y}<extra></extra>",
         "legendgroup": "1603",
         "marker": {
          "color": "#00cc96",
          "pattern": {
           "shape": ""
          }
         },
         "name": "1603",
         "offsetgroup": "1603",
         "orientation": "v",
         "showlegend": true,
         "textposition": "auto",
         "type": "bar",
         "x": [
          "Book",
          "Cartographic material",
          "Iconographic material",
          "Manuscript"
         ],
         "xaxis": "x",
         "y": [
          10,
          2,
          3,
          1
         ],
         "yaxis": "y"
        },
        {
         "alignmentgroup": "True",
         "hovertemplate": "Date of Publication=1604<br>Material type=%{x}<br>counts=%{y}<extra></extra>",
         "legendgroup": "1604",
         "marker": {
          "color": "#ab63fa",
          "pattern": {
           "shape": ""
          }
         },
         "name": "1604",
         "offsetgroup": "1604",
         "orientation": "v",
         "showlegend": true,
         "textposition": "auto",
         "type": "bar",
         "x": [
          "Book",
          "Manuscript"
         ],
         "xaxis": "x",
         "y": [
          7,
          1
         ],
         "yaxis": "y"
        },
        {
         "alignmentgroup": "True",
         "hovertemplate": "Date of Publication=1605<br>Material type=%{x}<br>counts=%{y}<extra></extra>",
         "legendgroup": "1605",
         "marker": {
          "color": "#FFA15A",
          "pattern": {
           "shape": ""
          }
         },
         "name": "1605",
         "offsetgroup": "1605",
         "orientation": "v",
         "showlegend": true,
         "textposition": "auto",
         "type": "bar",
         "x": [
          "Book",
          "Cartographic material",
          "Iconographic material",
          "Manuscript",
          "Notated music"
         ],
         "xaxis": "x",
         "y": [
          11,
          3,
          3,
          2,
          1
         ],
         "yaxis": "y"
        },
        {
         "alignmentgroup": "True",
         "hovertemplate": "Date of Publication=1606<br>Material type=%{x}<br>counts=%{y}<extra></extra>",
         "legendgroup": "1606",
         "marker": {
          "color": "#19d3f3",
          "pattern": {
           "shape": ""
          }
         },
         "name": "1606",
         "offsetgroup": "1606",
         "orientation": "v",
         "showlegend": true,
         "textposition": "auto",
         "type": "bar",
         "x": [
          "Book",
          "Cartographic material",
          "Iconographic material",
          "Manuscript"
         ],
         "xaxis": "x",
         "y": [
          8,
          1,
          3,
          2
         ],
         "yaxis": "y"
        },
        {
         "alignmentgroup": "True",
         "hovertemplate": "Date of Publication=1607<br>Material type=%{x}<br>counts=%{y}<extra></extra>",
         "legendgroup": "1607",
         "marker": {
          "color": "#FF6692",
          "pattern": {
           "shape": ""
          }
         },
         "name": "1607",
         "offsetgroup": "1607",
         "orientation": "v",
         "showlegend": true,
         "textposition": "auto",
         "type": "bar",
         "x": [
          "Book",
          "Manuscript"
         ],
         "xaxis": "x",
         "y": [
          8,
          4
         ],
         "yaxis": "y"
        },
        {
         "alignmentgroup": "True",
         "hovertemplate": "Date of Publication=1608<br>Material type=%{x}<br>counts=%{y}<extra></extra>",
         "legendgroup": "1608",
         "marker": {
          "color": "#B6E880",
          "pattern": {
           "shape": ""
          }
         },
         "name": "1608",
         "offsetgroup": "1608",
         "orientation": "v",
         "showlegend": true,
         "textposition": "auto",
         "type": "bar",
         "x": [
          "Book",
          "Iconographic material"
         ],
         "xaxis": "x",
         "y": [
          9,
          2
         ],
         "yaxis": "y"
        },
        {
         "alignmentgroup": "True",
         "hovertemplate": "Date of Publication=1609<br>Material type=%{x}<br>counts=%{y}<extra></extra>",
         "legendgroup": "1609",
         "marker": {
          "color": "#FF97FF",
          "pattern": {
           "shape": ""
          }
         },
         "name": "1609",
         "offsetgroup": "1609",
         "orientation": "v",
         "showlegend": true,
         "textposition": "auto",
         "type": "bar",
         "x": [
          "Book",
          "Cartographic material",
          "Iconographic material",
          "Manuscript",
          "Notated music"
         ],
         "xaxis": "x",
         "y": [
          9,
          1,
          1,
          1,
          1
         ],
         "yaxis": "y"
        },
        {
         "alignmentgroup": "True",
         "hovertemplate": "Date of Publication=1610<br>Material type=%{x}<br>counts=%{y}<extra></extra>",
         "legendgroup": "1610",
         "marker": {
          "color": "#FECB52",
          "pattern": {
           "shape": ""
          }
         },
         "name": "1610",
         "offsetgroup": "1610",
         "orientation": "v",
         "showlegend": true,
         "textposition": "auto",
         "type": "bar",
         "x": [
          "Book",
          "Cartographic material",
          "Iconographic material",
          "Manuscript",
          "Notated music"
         ],
         "xaxis": "x",
         "y": [
          12,
          1,
          3,
          1,
          1
         ],
         "yaxis": "y"
        },
        {
         "alignmentgroup": "True",
         "hovertemplate": "Date of Publication=1611<br>Material type=%{x}<br>counts=%{y}<extra></extra>",
         "legendgroup": "1611",
         "marker": {
          "color": "#636efa",
          "pattern": {
           "shape": ""
          }
         },
         "name": "1611",
         "offsetgroup": "1611",
         "orientation": "v",
         "showlegend": true,
         "textposition": "auto",
         "type": "bar",
         "x": [
          "Book",
          "Iconographic material"
         ],
         "xaxis": "x",
         "y": [
          8,
          2
         ],
         "yaxis": "y"
        },
        {
         "alignmentgroup": "True",
         "hovertemplate": "Date of Publication=1612<br>Material type=%{x}<br>counts=%{y}<extra></extra>",
         "legendgroup": "1612",
         "marker": {
          "color": "#EF553B",
          "pattern": {
           "shape": ""
          }
         },
         "name": "1612",
         "offsetgroup": "1612",
         "orientation": "v",
         "showlegend": true,
         "textposition": "auto",
         "type": "bar",
         "x": [
          "Book",
          "Cartographic material",
          "Manuscript"
         ],
         "xaxis": "x",
         "y": [
          16,
          1,
          5
         ],
         "yaxis": "y"
        },
        {
         "alignmentgroup": "True",
         "hovertemplate": "Date of Publication=1613<br>Material type=%{x}<br>counts=%{y}<extra></extra>",
         "legendgroup": "1613",
         "marker": {
          "color": "#00cc96",
          "pattern": {
           "shape": ""
          }
         },
         "name": "1613",
         "offsetgroup": "1613",
         "orientation": "v",
         "showlegend": true,
         "textposition": "auto",
         "type": "bar",
         "x": [
          "Book",
          "Cartographic material",
          "Iconographic material"
         ],
         "xaxis": "x",
         "y": [
          10,
          2,
          2
         ],
         "yaxis": "y"
        },
        {
         "alignmentgroup": "True",
         "hovertemplate": "Date of Publication=1614<br>Material type=%{x}<br>counts=%{y}<extra></extra>",
         "legendgroup": "1614",
         "marker": {
          "color": "#ab63fa",
          "pattern": {
           "shape": ""
          }
         },
         "name": "1614",
         "offsetgroup": "1614",
         "orientation": "v",
         "showlegend": true,
         "textposition": "auto",
         "type": "bar",
         "x": [
          "Book",
          "Manuscript"
         ],
         "xaxis": "x",
         "y": [
          16,
          2
         ],
         "yaxis": "y"
        },
        {
         "alignmentgroup": "True",
         "hovertemplate": "Date of Publication=1615<br>Material type=%{x}<br>counts=%{y}<extra></extra>",
         "legendgroup": "1615",
         "marker": {
          "color": "#FFA15A",
          "pattern": {
           "shape": ""
          }
         },
         "name": "1615",
         "offsetgroup": "1615",
         "orientation": "v",
         "showlegend": true,
         "textposition": "auto",
         "type": "bar",
         "x": [
          "Book",
          "Cartographic material",
          "Manuscript"
         ],
         "xaxis": "x",
         "y": [
          13,
          3,
          2
         ],
         "yaxis": "y"
        },
        {
         "alignmentgroup": "True",
         "hovertemplate": "Date of Publication=1616<br>Material type=%{x}<br>counts=%{y}<extra></extra>",
         "legendgroup": "1616",
         "marker": {
          "color": "#19d3f3",
          "pattern": {
           "shape": ""
          }
         },
         "name": "1616",
         "offsetgroup": "1616",
         "orientation": "v",
         "showlegend": true,
         "textposition": "auto",
         "type": "bar",
         "x": [
          "Book",
          "Iconographic material",
          "Manuscript"
         ],
         "xaxis": "x",
         "y": [
          15,
          4,
          2
         ],
         "yaxis": "y"
        },
        {
         "alignmentgroup": "True",
         "hovertemplate": "Date of Publication=1617<br>Material type=%{x}<br>counts=%{y}<extra></extra>",
         "legendgroup": "1617",
         "marker": {
          "color": "#FF6692",
          "pattern": {
           "shape": ""
          }
         },
         "name": "1617",
         "offsetgroup": "1617",
         "orientation": "v",
         "showlegend": true,
         "textposition": "auto",
         "type": "bar",
         "x": [
          "Book",
          "Manuscript"
         ],
         "xaxis": "x",
         "y": [
          15,
          1
         ],
         "yaxis": "y"
        },
        {
         "alignmentgroup": "True",
         "hovertemplate": "Date of Publication=1618<br>Material type=%{x}<br>counts=%{y}<extra></extra>",
         "legendgroup": "1618",
         "marker": {
          "color": "#B6E880",
          "pattern": {
           "shape": ""
          }
         },
         "name": "1618",
         "offsetgroup": "1618",
         "orientation": "v",
         "showlegend": true,
         "textposition": "auto",
         "type": "bar",
         "x": [
          "Book",
          "Iconographic material",
          "Manuscript",
          "Notated music"
         ],
         "xaxis": "x",
         "y": [
          11,
          2,
          2,
          1
         ],
         "yaxis": "y"
        },
        {
         "alignmentgroup": "True",
         "hovertemplate": "Date of Publication=1619<br>Material type=%{x}<br>counts=%{y}<extra></extra>",
         "legendgroup": "1619",
         "marker": {
          "color": "#FF97FF",
          "pattern": {
           "shape": ""
          }
         },
         "name": "1619",
         "offsetgroup": "1619",
         "orientation": "v",
         "showlegend": true,
         "textposition": "auto",
         "type": "bar",
         "x": [
          "Book",
          "Iconographic material",
          "Manuscript"
         ],
         "xaxis": "x",
         "y": [
          17,
          3,
          5
         ],
         "yaxis": "y"
        },
        {
         "alignmentgroup": "True",
         "hovertemplate": "Date of Publication=1620<br>Material type=%{x}<br>counts=%{y}<extra></extra>",
         "legendgroup": "1620",
         "marker": {
          "color": "#FECB52",
          "pattern": {
           "shape": ""
          }
         },
         "name": "1620",
         "offsetgroup": "1620",
         "orientation": "v",
         "showlegend": true,
         "textposition": "auto",
         "type": "bar",
         "x": [
          "Book",
          "Cartographic material",
          "Iconographic material",
          "Manuscript",
          "Notated music"
         ],
         "xaxis": "x",
         "y": [
          13,
          2,
          21,
          4,
          1
         ],
         "yaxis": "y"
        },
        {
         "alignmentgroup": "True",
         "hovertemplate": "Date of Publication=1621<br>Material type=%{x}<br>counts=%{y}<extra></extra>",
         "legendgroup": "1621",
         "marker": {
          "color": "#636efa",
          "pattern": {
           "shape": ""
          }
         },
         "name": "1621",
         "offsetgroup": "1621",
         "orientation": "v",
         "showlegend": true,
         "textposition": "auto",
         "type": "bar",
         "x": [
          "Book",
          "Iconographic material",
          "Manuscript"
         ],
         "xaxis": "x",
         "y": [
          18,
          4,
          2
         ],
         "yaxis": "y"
        },
        {
         "alignmentgroup": "True",
         "hovertemplate": "Date of Publication=1622<br>Material type=%{x}<br>counts=%{y}<extra></extra>",
         "legendgroup": "1622",
         "marker": {
          "color": "#EF553B",
          "pattern": {
           "shape": ""
          }
         },
         "name": "1622",
         "offsetgroup": "1622",
         "orientation": "v",
         "showlegend": true,
         "textposition": "auto",
         "type": "bar",
         "x": [
          "Book",
          "Cartographic material",
          "Iconographic material",
          "Manuscript"
         ],
         "xaxis": "x",
         "y": [
          26,
          2,
          4,
          7
         ],
         "yaxis": "y"
        },
        {
         "alignmentgroup": "True",
         "hovertemplate": "Date of Publication=1623<br>Material type=%{x}<br>counts=%{y}<extra></extra>",
         "legendgroup": "1623",
         "marker": {
          "color": "#00cc96",
          "pattern": {
           "shape": ""
          }
         },
         "name": "1623",
         "offsetgroup": "1623",
         "orientation": "v",
         "showlegend": true,
         "textposition": "auto",
         "type": "bar",
         "x": [
          "Book",
          "Iconographic material",
          "Manuscript"
         ],
         "xaxis": "x",
         "y": [
          10,
          3,
          1
         ],
         "yaxis": "y"
        },
        {
         "alignmentgroup": "True",
         "hovertemplate": "Date of Publication=1624<br>Material type=%{x}<br>counts=%{y}<extra></extra>",
         "legendgroup": "1624",
         "marker": {
          "color": "#ab63fa",
          "pattern": {
           "shape": ""
          }
         },
         "name": "1624",
         "offsetgroup": "1624",
         "orientation": "v",
         "showlegend": true,
         "textposition": "auto",
         "type": "bar",
         "x": [
          "Book",
          "Cartographic material",
          "Iconographic material",
          "Manuscript"
         ],
         "xaxis": "x",
         "y": [
          13,
          1,
          1,
          3
         ],
         "yaxis": "y"
        },
        {
         "alignmentgroup": "True",
         "hovertemplate": "Date of Publication=1625<br>Material type=%{x}<br>counts=%{y}<extra></extra>",
         "legendgroup": "1625",
         "marker": {
          "color": "#FFA15A",
          "pattern": {
           "shape": ""
          }
         },
         "name": "1625",
         "offsetgroup": "1625",
         "orientation": "v",
         "showlegend": true,
         "textposition": "auto",
         "type": "bar",
         "x": [
          "Book",
          "Cartographic material",
          "Iconographic material",
          "Manuscript"
         ],
         "xaxis": "x",
         "y": [
          20,
          1,
          13,
          5
         ],
         "yaxis": "y"
        },
        {
         "alignmentgroup": "True",
         "hovertemplate": "Date of Publication=1626<br>Material type=%{x}<br>counts=%{y}<extra></extra>",
         "legendgroup": "1626",
         "marker": {
          "color": "#19d3f3",
          "pattern": {
           "shape": ""
          }
         },
         "name": "1626",
         "offsetgroup": "1626",
         "orientation": "v",
         "showlegend": true,
         "textposition": "auto",
         "type": "bar",
         "x": [
          "Book",
          "Manuscript"
         ],
         "xaxis": "x",
         "y": [
          20,
          2
         ],
         "yaxis": "y"
        },
        {
         "alignmentgroup": "True",
         "hovertemplate": "Date of Publication=1627<br>Material type=%{x}<br>counts=%{y}<extra></extra>",
         "legendgroup": "1627",
         "marker": {
          "color": "#FF6692",
          "pattern": {
           "shape": ""
          }
         },
         "name": "1627",
         "offsetgroup": "1627",
         "orientation": "v",
         "showlegend": true,
         "textposition": "auto",
         "type": "bar",
         "x": [
          "Book",
          "Cartographic material",
          "Manuscript"
         ],
         "xaxis": "x",
         "y": [
          15,
          4,
          2
         ],
         "yaxis": "y"
        },
        {
         "alignmentgroup": "True",
         "hovertemplate": "Date of Publication=1628<br>Material type=%{x}<br>counts=%{y}<extra></extra>",
         "legendgroup": "1628",
         "marker": {
          "color": "#B6E880",
          "pattern": {
           "shape": ""
          }
         },
         "name": "1628",
         "offsetgroup": "1628",
         "orientation": "v",
         "showlegend": true,
         "textposition": "auto",
         "type": "bar",
         "x": [
          "Book",
          "Cartographic material",
          "Iconographic material",
          "Manuscript"
         ],
         "xaxis": "x",
         "y": [
          14,
          2,
          12,
          1
         ],
         "yaxis": "y"
        },
        {
         "alignmentgroup": "True",
         "hovertemplate": "Date of Publication=1629<br>Material type=%{x}<br>counts=%{y}<extra></extra>",
         "legendgroup": "1629",
         "marker": {
          "color": "#FF97FF",
          "pattern": {
           "shape": ""
          }
         },
         "name": "1629",
         "offsetgroup": "1629",
         "orientation": "v",
         "showlegend": true,
         "textposition": "auto",
         "type": "bar",
         "x": [
          "Book",
          "Cartographic material",
          "Iconographic material",
          "Manuscript"
         ],
         "xaxis": "x",
         "y": [
          16,
          1,
          8,
          2
         ],
         "yaxis": "y"
        },
        {
         "alignmentgroup": "True",
         "hovertemplate": "Date of Publication=1630<br>Material type=%{x}<br>counts=%{y}<extra></extra>",
         "legendgroup": "1630",
         "marker": {
          "color": "#FECB52",
          "pattern": {
           "shape": ""
          }
         },
         "name": "1630",
         "offsetgroup": "1630",
         "orientation": "v",
         "showlegend": true,
         "textposition": "auto",
         "type": "bar",
         "x": [
          "Book",
          "Cartographic material",
          "Iconographic material",
          "Manuscript"
         ],
         "xaxis": "x",
         "y": [
          17,
          7,
          16,
          6
         ],
         "yaxis": "y"
        },
        {
         "alignmentgroup": "True",
         "hovertemplate": "Date of Publication=1631<br>Material type=%{x}<br>counts=%{y}<extra></extra>",
         "legendgroup": "1631",
         "marker": {
          "color": "#636efa",
          "pattern": {
           "shape": ""
          }
         },
         "name": "1631",
         "offsetgroup": "1631",
         "orientation": "v",
         "showlegend": true,
         "textposition": "auto",
         "type": "bar",
         "x": [
          "Book",
          "Cartographic material",
          "Iconographic material",
          "Manuscript"
         ],
         "xaxis": "x",
         "y": [
          19,
          1,
          1,
          4
         ],
         "yaxis": "y"
        },
        {
         "alignmentgroup": "True",
         "hovertemplate": "Date of Publication=1632<br>Material type=%{x}<br>counts=%{y}<extra></extra>",
         "legendgroup": "1632",
         "marker": {
          "color": "#EF553B",
          "pattern": {
           "shape": ""
          }
         },
         "name": "1632",
         "offsetgroup": "1632",
         "orientation": "v",
         "showlegend": true,
         "textposition": "auto",
         "type": "bar",
         "x": [
          "Book",
          "Cartographic material",
          "Iconographic material",
          "Manuscript"
         ],
         "xaxis": "x",
         "y": [
          11,
          2,
          1,
          1
         ],
         "yaxis": "y"
        },
        {
         "alignmentgroup": "True",
         "hovertemplate": "Date of Publication=1633<br>Material type=%{x}<br>counts=%{y}<extra></extra>",
         "legendgroup": "1633",
         "marker": {
          "color": "#00cc96",
          "pattern": {
           "shape": ""
          }
         },
         "name": "1633",
         "offsetgroup": "1633",
         "orientation": "v",
         "showlegend": true,
         "textposition": "auto",
         "type": "bar",
         "x": [
          "Book",
          "Cartographic material",
          "Manuscript"
         ],
         "xaxis": "x",
         "y": [
          15,
          2,
          7
         ],
         "yaxis": "y"
        },
        {
         "alignmentgroup": "True",
         "hovertemplate": "Date of Publication=1634<br>Material type=%{x}<br>counts=%{y}<extra></extra>",
         "legendgroup": "1634",
         "marker": {
          "color": "#ab63fa",
          "pattern": {
           "shape": ""
          }
         },
         "name": "1634",
         "offsetgroup": "1634",
         "orientation": "v",
         "showlegend": true,
         "textposition": "auto",
         "type": "bar",
         "x": [
          "Book",
          "Iconographic material",
          "Manuscript"
         ],
         "xaxis": "x",
         "y": [
          8,
          1,
          3
         ],
         "yaxis": "y"
        },
        {
         "alignmentgroup": "True",
         "hovertemplate": "Date of Publication=1635<br>Material type=%{x}<br>counts=%{y}<extra></extra>",
         "legendgroup": "1635",
         "marker": {
          "color": "#FFA15A",
          "pattern": {
           "shape": ""
          }
         },
         "name": "1635",
         "offsetgroup": "1635",
         "orientation": "v",
         "showlegend": true,
         "textposition": "auto",
         "type": "bar",
         "x": [
          "Book",
          "Iconographic material",
          "Manuscript"
         ],
         "xaxis": "x",
         "y": [
          9,
          10,
          3
         ],
         "yaxis": "y"
        },
        {
         "alignmentgroup": "True",
         "hovertemplate": "Date of Publication=1636<br>Material type=%{x}<br>counts=%{y}<extra></extra>",
         "legendgroup": "1636",
         "marker": {
          "color": "#19d3f3",
          "pattern": {
           "shape": ""
          }
         },
         "name": "1636",
         "offsetgroup": "1636",
         "orientation": "v",
         "showlegend": true,
         "textposition": "auto",
         "type": "bar",
         "x": [
          "Book",
          "Iconographic material",
          "Manuscript"
         ],
         "xaxis": "x",
         "y": [
          8,
          4,
          2
         ],
         "yaxis": "y"
        },
        {
         "alignmentgroup": "True",
         "hovertemplate": "Date of Publication=1637<br>Material type=%{x}<br>counts=%{y}<extra></extra>",
         "legendgroup": "1637",
         "marker": {
          "color": "#FF6692",
          "pattern": {
           "shape": ""
          }
         },
         "name": "1637",
         "offsetgroup": "1637",
         "orientation": "v",
         "showlegend": true,
         "textposition": "auto",
         "type": "bar",
         "x": [
          "Book",
          "Cartographic material",
          "Iconographic material",
          "Manuscript"
         ],
         "xaxis": "x",
         "y": [
          6,
          1,
          3,
          1
         ],
         "yaxis": "y"
        },
        {
         "alignmentgroup": "True",
         "hovertemplate": "Date of Publication=1638<br>Material type=%{x}<br>counts=%{y}<extra></extra>",
         "legendgroup": "1638",
         "marker": {
          "color": "#B6E880",
          "pattern": {
           "shape": ""
          }
         },
         "name": "1638",
         "offsetgroup": "1638",
         "orientation": "v",
         "showlegend": true,
         "textposition": "auto",
         "type": "bar",
         "x": [
          "Book",
          "Cartographic material",
          "Iconographic material",
          "Manuscript"
         ],
         "xaxis": "x",
         "y": [
          8,
          3,
          6,
          4
         ],
         "yaxis": "y"
        },
        {
         "alignmentgroup": "True",
         "hovertemplate": "Date of Publication=1639<br>Material type=%{x}<br>counts=%{y}<extra></extra>",
         "legendgroup": "1639",
         "marker": {
          "color": "#FF97FF",
          "pattern": {
           "shape": ""
          }
         },
         "name": "1639",
         "offsetgroup": "1639",
         "orientation": "v",
         "showlegend": true,
         "textposition": "auto",
         "type": "bar",
         "x": [
          "Book",
          "Iconographic material",
          "Manuscript"
         ],
         "xaxis": "x",
         "y": [
          14,
          9,
          2
         ],
         "yaxis": "y"
        },
        {
         "alignmentgroup": "True",
         "hovertemplate": "Date of Publication=1640<br>Material type=%{x}<br>counts=%{y}<extra></extra>",
         "legendgroup": "1640",
         "marker": {
          "color": "#FECB52",
          "pattern": {
           "shape": ""
          }
         },
         "name": "1640",
         "offsetgroup": "1640",
         "orientation": "v",
         "showlegend": true,
         "textposition": "auto",
         "type": "bar",
         "x": [
          "Book",
          "Cartographic material",
          "Iconographic material",
          "Manuscript"
         ],
         "xaxis": "x",
         "y": [
          8,
          6,
          30,
          7
         ],
         "yaxis": "y"
        },
        {
         "alignmentgroup": "True",
         "hovertemplate": "Date of Publication=1641<br>Material type=%{x}<br>counts=%{y}<extra></extra>",
         "legendgroup": "1641",
         "marker": {
          "color": "#636efa",
          "pattern": {
           "shape": ""
          }
         },
         "name": "1641",
         "offsetgroup": "1641",
         "orientation": "v",
         "showlegend": true,
         "textposition": "auto",
         "type": "bar",
         "x": [
          "Book",
          "Cartographic material",
          "Iconographic material",
          "Manuscript",
          "Periodical"
         ],
         "xaxis": "x",
         "y": [
          50,
          3,
          5,
          5,
          1
         ],
         "yaxis": "y"
        },
        {
         "alignmentgroup": "True",
         "hovertemplate": "Date of Publication=1642<br>Material type=%{x}<br>counts=%{y}<extra></extra>",
         "legendgroup": "1642",
         "marker": {
          "color": "#EF553B",
          "pattern": {
           "shape": ""
          }
         },
         "name": "1642",
         "offsetgroup": "1642",
         "orientation": "v",
         "showlegend": true,
         "textposition": "auto",
         "type": "bar",
         "x": [
          "Book",
          "Cartographic material",
          "Iconographic material",
          "Manuscript"
         ],
         "xaxis": "x",
         "y": [
          41,
          2,
          1,
          3
         ],
         "yaxis": "y"
        },
        {
         "alignmentgroup": "True",
         "hovertemplate": "Date of Publication=1643<br>Material type=%{x}<br>counts=%{y}<extra></extra>",
         "legendgroup": "1643",
         "marker": {
          "color": "#00cc96",
          "pattern": {
           "shape": ""
          }
         },
         "name": "1643",
         "offsetgroup": "1643",
         "orientation": "v",
         "showlegend": true,
         "textposition": "auto",
         "type": "bar",
         "x": [
          "Book",
          "Cartographic material",
          "Iconographic material",
          "Manuscript"
         ],
         "xaxis": "x",
         "y": [
          39,
          2,
          4,
          2
         ],
         "yaxis": "y"
        },
        {
         "alignmentgroup": "True",
         "hovertemplate": "Date of Publication=1644<br>Material type=%{x}<br>counts=%{y}<extra></extra>",
         "legendgroup": "1644",
         "marker": {
          "color": "#ab63fa",
          "pattern": {
           "shape": ""
          }
         },
         "name": "1644",
         "offsetgroup": "1644",
         "orientation": "v",
         "showlegend": true,
         "textposition": "auto",
         "type": "bar",
         "x": [
          "Book",
          "Iconographic material",
          "Manuscript"
         ],
         "xaxis": "x",
         "y": [
          33,
          1,
          8
         ],
         "yaxis": "y"
        },
        {
         "alignmentgroup": "True",
         "hovertemplate": "Date of Publication=1645<br>Material type=%{x}<br>counts=%{y}<extra></extra>",
         "legendgroup": "1645",
         "marker": {
          "color": "#FFA15A",
          "pattern": {
           "shape": ""
          }
         },
         "name": "1645",
         "offsetgroup": "1645",
         "orientation": "v",
         "showlegend": true,
         "textposition": "auto",
         "type": "bar",
         "x": [
          "Book",
          "Cartographic material",
          "Iconographic material",
          "Manuscript"
         ],
         "xaxis": "x",
         "y": [
          28,
          1,
          4,
          4
         ],
         "yaxis": "y"
        },
        {
         "alignmentgroup": "True",
         "hovertemplate": "Date of Publication=1646<br>Material type=%{x}<br>counts=%{y}<extra></extra>",
         "legendgroup": "1646",
         "marker": {
          "color": "#19d3f3",
          "pattern": {
           "shape": ""
          }
         },
         "name": "1646",
         "offsetgroup": "1646",
         "orientation": "v",
         "showlegend": true,
         "textposition": "auto",
         "type": "bar",
         "x": [
          "Book",
          "Cartographic material",
          "Manuscript"
         ],
         "xaxis": "x",
         "y": [
          19,
          2,
          4
         ],
         "yaxis": "y"
        },
        {
         "alignmentgroup": "True",
         "hovertemplate": "Date of Publication=1647<br>Material type=%{x}<br>counts=%{y}<extra></extra>",
         "legendgroup": "1647",
         "marker": {
          "color": "#FF6692",
          "pattern": {
           "shape": ""
          }
         },
         "name": "1647",
         "offsetgroup": "1647",
         "orientation": "v",
         "showlegend": true,
         "textposition": "auto",
         "type": "bar",
         "x": [
          "Book",
          "Cartographic material",
          "Iconographic material",
          "Manuscript"
         ],
         "xaxis": "x",
         "y": [
          22,
          12,
          31,
          2
         ],
         "yaxis": "y"
        },
        {
         "alignmentgroup": "True",
         "hovertemplate": "Date of Publication=1648<br>Material type=%{x}<br>counts=%{y}<extra></extra>",
         "legendgroup": "1648",
         "marker": {
          "color": "#B6E880",
          "pattern": {
           "shape": ""
          }
         },
         "name": "1648",
         "offsetgroup": "1648",
         "orientation": "v",
         "showlegend": true,
         "textposition": "auto",
         "type": "bar",
         "x": [
          "Book",
          "Iconographic material",
          "Manuscript"
         ],
         "xaxis": "x",
         "y": [
          13,
          4,
          3
         ],
         "yaxis": "y"
        },
        {
         "alignmentgroup": "True",
         "hovertemplate": "Date of Publication=1649<br>Material type=%{x}<br>counts=%{y}<extra></extra>",
         "legendgroup": "1649",
         "marker": {
          "color": "#FF97FF",
          "pattern": {
           "shape": ""
          }
         },
         "name": "1649",
         "offsetgroup": "1649",
         "orientation": "v",
         "showlegend": true,
         "textposition": "auto",
         "type": "bar",
         "x": [
          "Book",
          "Cartographic material",
          "Iconographic material",
          "Manuscript"
         ],
         "xaxis": "x",
         "y": [
          17,
          3,
          1,
          4
         ],
         "yaxis": "y"
        },
        {
         "alignmentgroup": "True",
         "hovertemplate": "Date of Publication=1650<br>Material type=%{x}<br>counts=%{y}<extra></extra>",
         "legendgroup": "1650",
         "marker": {
          "color": "#FECB52",
          "pattern": {
           "shape": ""
          }
         },
         "name": "1650",
         "offsetgroup": "1650",
         "orientation": "v",
         "showlegend": true,
         "textposition": "auto",
         "type": "bar",
         "x": [
          "Book",
          "Cartographic material",
          "Iconographic material",
          "Manuscript"
         ],
         "xaxis": "x",
         "y": [
          20,
          14,
          97,
          6
         ],
         "yaxis": "y"
        },
        {
         "alignmentgroup": "True",
         "hovertemplate": "Date of Publication=1651<br>Material type=%{x}<br>counts=%{y}<extra></extra>",
         "legendgroup": "1651",
         "marker": {
          "color": "#636efa",
          "pattern": {
           "shape": ""
          }
         },
         "name": "1651",
         "offsetgroup": "1651",
         "orientation": "v",
         "showlegend": true,
         "textposition": "auto",
         "type": "bar",
         "x": [
          "Book",
          "Cartographic material",
          "Manuscript"
         ],
         "xaxis": "x",
         "y": [
          17,
          2,
          12
         ],
         "yaxis": "y"
        },
        {
         "alignmentgroup": "True",
         "hovertemplate": "Date of Publication=1652<br>Material type=%{x}<br>counts=%{y}<extra></extra>",
         "legendgroup": "1652",
         "marker": {
          "color": "#EF553B",
          "pattern": {
           "shape": ""
          }
         },
         "name": "1652",
         "offsetgroup": "1652",
         "orientation": "v",
         "showlegend": true,
         "textposition": "auto",
         "type": "bar",
         "x": [
          "Book",
          "Cartographic material",
          "Iconographic material",
          "Manuscript"
         ],
         "xaxis": "x",
         "y": [
          13,
          1,
          3,
          7
         ],
         "yaxis": "y"
        },
        {
         "alignmentgroup": "True",
         "hovertemplate": "Date of Publication=1653<br>Material type=%{x}<br>counts=%{y}<extra></extra>",
         "legendgroup": "1653",
         "marker": {
          "color": "#00cc96",
          "pattern": {
           "shape": ""
          }
         },
         "name": "1653",
         "offsetgroup": "1653",
         "orientation": "v",
         "showlegend": true,
         "textposition": "auto",
         "type": "bar",
         "x": [
          "Book",
          "Cartographic material",
          "Iconographic material",
          "Manuscript"
         ],
         "xaxis": "x",
         "y": [
          23,
          1,
          2,
          2
         ],
         "yaxis": "y"
        },
        {
         "alignmentgroup": "True",
         "hovertemplate": "Date of Publication=1654<br>Material type=%{x}<br>counts=%{y}<extra></extra>",
         "legendgroup": "1654",
         "marker": {
          "color": "#ab63fa",
          "pattern": {
           "shape": ""
          }
         },
         "name": "1654",
         "offsetgroup": "1654",
         "orientation": "v",
         "showlegend": true,
         "textposition": "auto",
         "type": "bar",
         "x": [
          "Book",
          "Cartographic material",
          "Iconographic material",
          "Manuscript"
         ],
         "xaxis": "x",
         "y": [
          15,
          4,
          1,
          1
         ],
         "yaxis": "y"
        },
        {
         "alignmentgroup": "True",
         "hovertemplate": "Date of Publication=1655<br>Material type=%{x}<br>counts=%{y}<extra></extra>",
         "legendgroup": "1655",
         "marker": {
          "color": "#FFA15A",
          "pattern": {
           "shape": ""
          }
         },
         "name": "1655",
         "offsetgroup": "1655",
         "orientation": "v",
         "showlegend": true,
         "textposition": "auto",
         "type": "bar",
         "x": [
          "Book",
          "Cartographic material",
          "Iconographic material",
          "Manuscript"
         ],
         "xaxis": "x",
         "y": [
          15,
          8,
          3,
          2
         ],
         "yaxis": "y"
        },
        {
         "alignmentgroup": "True",
         "hovertemplate": "Date of Publication=1656<br>Material type=%{x}<br>counts=%{y}<extra></extra>",
         "legendgroup": "1656",
         "marker": {
          "color": "#19d3f3",
          "pattern": {
           "shape": ""
          }
         },
         "name": "1656",
         "offsetgroup": "1656",
         "orientation": "v",
         "showlegend": true,
         "textposition": "auto",
         "type": "bar",
         "x": [
          "Book",
          "Cartographic material",
          "Iconographic material",
          "Manuscript"
         ],
         "xaxis": "x",
         "y": [
          14,
          2,
          2,
          3
         ],
         "yaxis": "y"
        },
        {
         "alignmentgroup": "True",
         "hovertemplate": "Date of Publication=1657<br>Material type=%{x}<br>counts=%{y}<extra></extra>",
         "legendgroup": "1657",
         "marker": {
          "color": "#FF6692",
          "pattern": {
           "shape": ""
          }
         },
         "name": "1657",
         "offsetgroup": "1657",
         "orientation": "v",
         "showlegend": true,
         "textposition": "auto",
         "type": "bar",
         "x": [
          "Book",
          "Cartographic material",
          "Iconographic material",
          "Manuscript"
         ],
         "xaxis": "x",
         "y": [
          10,
          4,
          3,
          1
         ],
         "yaxis": "y"
        },
        {
         "alignmentgroup": "True",
         "hovertemplate": "Date of Publication=1658<br>Material type=%{x}<br>counts=%{y}<extra></extra>",
         "legendgroup": "1658",
         "marker": {
          "color": "#B6E880",
          "pattern": {
           "shape": ""
          }
         },
         "name": "1658",
         "offsetgroup": "1658",
         "orientation": "v",
         "showlegend": true,
         "textposition": "auto",
         "type": "bar",
         "x": [
          "Book",
          "Cartographic material",
          "Iconographic material",
          "Manuscript"
         ],
         "xaxis": "x",
         "y": [
          21,
          3,
          2,
          4
         ],
         "yaxis": "y"
        },
        {
         "alignmentgroup": "True",
         "hovertemplate": "Date of Publication=1659<br>Material type=%{x}<br>counts=%{y}<extra></extra>",
         "legendgroup": "1659",
         "marker": {
          "color": "#FF97FF",
          "pattern": {
           "shape": ""
          }
         },
         "name": "1659",
         "offsetgroup": "1659",
         "orientation": "v",
         "showlegend": true,
         "textposition": "auto",
         "type": "bar",
         "x": [
          "Book",
          "Cartographic material",
          "Iconographic material",
          "Manuscript"
         ],
         "xaxis": "x",
         "y": [
          26,
          3,
          2,
          3
         ],
         "yaxis": "y"
        },
        {
         "alignmentgroup": "True",
         "hovertemplate": "Date of Publication=1660<br>Material type=%{x}<br>counts=%{y}<extra></extra>",
         "legendgroup": "1660",
         "marker": {
          "color": "#FECB52",
          "pattern": {
           "shape": ""
          }
         },
         "name": "1660",
         "offsetgroup": "1660",
         "orientation": "v",
         "showlegend": true,
         "textposition": "auto",
         "type": "bar",
         "x": [
          "Book",
          "Cartographic material",
          "Iconographic material",
          "Manuscript"
         ],
         "xaxis": "x",
         "y": [
          14,
          2,
          20,
          5
         ],
         "yaxis": "y"
        },
        {
         "alignmentgroup": "True",
         "hovertemplate": "Date of Publication=1661<br>Material type=%{x}<br>counts=%{y}<extra></extra>",
         "legendgroup": "1661",
         "marker": {
          "color": "#636efa",
          "pattern": {
           "shape": ""
          }
         },
         "name": "1661",
         "offsetgroup": "1661",
         "orientation": "v",
         "showlegend": true,
         "textposition": "auto",
         "type": "bar",
         "x": [
          "Book",
          "Iconographic material",
          "Manuscript",
          "Notated music"
         ],
         "xaxis": "x",
         "y": [
          17,
          2,
          7,
          1
         ],
         "yaxis": "y"
        },
        {
         "alignmentgroup": "True",
         "hovertemplate": "Date of Publication=1662<br>Material type=%{x}<br>counts=%{y}<extra></extra>",
         "legendgroup": "1662",
         "marker": {
          "color": "#EF553B",
          "pattern": {
           "shape": ""
          }
         },
         "name": "1662",
         "offsetgroup": "1662",
         "orientation": "v",
         "showlegend": true,
         "textposition": "auto",
         "type": "bar",
         "x": [
          "Book",
          "Cartographic material",
          "Iconographic material",
          "Manuscript"
         ],
         "xaxis": "x",
         "y": [
          17,
          3,
          4,
          3
         ],
         "yaxis": "y"
        },
        {
         "alignmentgroup": "True",
         "hovertemplate": "Date of Publication=1663<br>Material type=%{x}<br>counts=%{y}<extra></extra>",
         "legendgroup": "1663",
         "marker": {
          "color": "#00cc96",
          "pattern": {
           "shape": ""
          }
         },
         "name": "1663",
         "offsetgroup": "1663",
         "orientation": "v",
         "showlegend": true,
         "textposition": "auto",
         "type": "bar",
         "x": [
          "Book",
          "Cartographic material",
          "Iconographic material",
          "Manuscript"
         ],
         "xaxis": "x",
         "y": [
          20,
          3,
          4,
          8
         ],
         "yaxis": "y"
        },
        {
         "alignmentgroup": "True",
         "hovertemplate": "Date of Publication=1664<br>Material type=%{x}<br>counts=%{y}<extra></extra>",
         "legendgroup": "1664",
         "marker": {
          "color": "#ab63fa",
          "pattern": {
           "shape": ""
          }
         },
         "name": "1664",
         "offsetgroup": "1664",
         "orientation": "v",
         "showlegend": true,
         "textposition": "auto",
         "type": "bar",
         "x": [
          "Book",
          "Cartographic material",
          "Iconographic material",
          "Manuscript"
         ],
         "xaxis": "x",
         "y": [
          13,
          2,
          3,
          3
         ],
         "yaxis": "y"
        },
        {
         "alignmentgroup": "True",
         "hovertemplate": "Date of Publication=1665<br>Material type=%{x}<br>counts=%{y}<extra></extra>",
         "legendgroup": "1665",
         "marker": {
          "color": "#FFA15A",
          "pattern": {
           "shape": ""
          }
         },
         "name": "1665",
         "offsetgroup": "1665",
         "orientation": "v",
         "showlegend": true,
         "textposition": "auto",
         "type": "bar",
         "x": [
          "Book",
          "Iconographic material",
          "Manuscript"
         ],
         "xaxis": "x",
         "y": [
          23,
          8,
          3
         ],
         "yaxis": "y"
        },
        {
         "alignmentgroup": "True",
         "hovertemplate": "Date of Publication=1666<br>Material type=%{x}<br>counts=%{y}<extra></extra>",
         "legendgroup": "1666",
         "marker": {
          "color": "#19d3f3",
          "pattern": {
           "shape": ""
          }
         },
         "name": "1666",
         "offsetgroup": "1666",
         "orientation": "v",
         "showlegend": true,
         "textposition": "auto",
         "type": "bar",
         "x": [
          "Book",
          "Iconographic material"
         ],
         "xaxis": "x",
         "y": [
          17,
          3
         ],
         "yaxis": "y"
        },
        {
         "alignmentgroup": "True",
         "hovertemplate": "Date of Publication=1667<br>Material type=%{x}<br>counts=%{y}<extra></extra>",
         "legendgroup": "1667",
         "marker": {
          "color": "#FF6692",
          "pattern": {
           "shape": ""
          }
         },
         "name": "1667",
         "offsetgroup": "1667",
         "orientation": "v",
         "showlegend": true,
         "textposition": "auto",
         "type": "bar",
         "x": [
          "Book",
          "Cartographic material",
          "Iconographic material",
          "Manuscript"
         ],
         "xaxis": "x",
         "y": [
          18,
          7,
          8,
          5
         ],
         "yaxis": "y"
        },
        {
         "alignmentgroup": "True",
         "hovertemplate": "Date of Publication=1668<br>Material type=%{x}<br>counts=%{y}<extra></extra>",
         "legendgroup": "1668",
         "marker": {
          "color": "#B6E880",
          "pattern": {
           "shape": ""
          }
         },
         "name": "1668",
         "offsetgroup": "1668",
         "orientation": "v",
         "showlegend": true,
         "textposition": "auto",
         "type": "bar",
         "x": [
          "Book",
          "Cartographic material",
          "Iconographic material",
          "Manuscript"
         ],
         "xaxis": "x",
         "y": [
          17,
          2,
          2,
          9
         ],
         "yaxis": "y"
        },
        {
         "alignmentgroup": "True",
         "hovertemplate": "Date of Publication=1669<br>Material type=%{x}<br>counts=%{y}<extra></extra>",
         "legendgroup": "1669",
         "marker": {
          "color": "#FF97FF",
          "pattern": {
           "shape": ""
          }
         },
         "name": "1669",
         "offsetgroup": "1669",
         "orientation": "v",
         "showlegend": true,
         "textposition": "auto",
         "type": "bar",
         "x": [
          "Book",
          "Cartographic material",
          "Iconographic material",
          "Manuscript"
         ],
         "xaxis": "x",
         "y": [
          22,
          2,
          2,
          1
         ],
         "yaxis": "y"
        },
        {
         "alignmentgroup": "True",
         "hovertemplate": "Date of Publication=1670<br>Material type=%{x}<br>counts=%{y}<extra></extra>",
         "legendgroup": "1670",
         "marker": {
          "color": "#FECB52",
          "pattern": {
           "shape": ""
          }
         },
         "name": "1670",
         "offsetgroup": "1670",
         "orientation": "v",
         "showlegend": true,
         "textposition": "auto",
         "type": "bar",
         "x": [
          "Book",
          "Cartographic material",
          "Iconographic material",
          "Manuscript"
         ],
         "xaxis": "x",
         "y": [
          22,
          9,
          37,
          2
         ],
         "yaxis": "y"
        },
        {
         "alignmentgroup": "True",
         "hovertemplate": "Date of Publication=1671<br>Material type=%{x}<br>counts=%{y}<extra></extra>",
         "legendgroup": "1671",
         "marker": {
          "color": "#636efa",
          "pattern": {
           "shape": ""
          }
         },
         "name": "1671",
         "offsetgroup": "1671",
         "orientation": "v",
         "showlegend": true,
         "textposition": "auto",
         "type": "bar",
         "x": [
          "Book",
          "Cartographic material",
          "Manuscript"
         ],
         "xaxis": "x",
         "y": [
          35,
          1,
          11
         ],
         "yaxis": "y"
        },
        {
         "alignmentgroup": "True",
         "hovertemplate": "Date of Publication=1672<br>Material type=%{x}<br>counts=%{y}<extra></extra>",
         "legendgroup": "1672",
         "marker": {
          "color": "#EF553B",
          "pattern": {
           "shape": ""
          }
         },
         "name": "1672",
         "offsetgroup": "1672",
         "orientation": "v",
         "showlegend": true,
         "textposition": "auto",
         "type": "bar",
         "x": [
          "Book",
          "Cartographic material",
          "Iconographic material",
          "Manuscript"
         ],
         "xaxis": "x",
         "y": [
          31,
          4,
          1,
          3
         ],
         "yaxis": "y"
        },
        {
         "alignmentgroup": "True",
         "hovertemplate": "Date of Publication=1673<br>Material type=%{x}<br>counts=%{y}<extra></extra>",
         "legendgroup": "1673",
         "marker": {
          "color": "#00cc96",
          "pattern": {
           "shape": ""
          }
         },
         "name": "1673",
         "offsetgroup": "1673",
         "orientation": "v",
         "showlegend": true,
         "textposition": "auto",
         "type": "bar",
         "x": [
          "Book",
          "Cartographic material",
          "Iconographic material",
          "Manuscript"
         ],
         "xaxis": "x",
         "y": [
          31,
          1,
          4,
          7
         ],
         "yaxis": "y"
        },
        {
         "alignmentgroup": "True",
         "hovertemplate": "Date of Publication=1674<br>Material type=%{x}<br>counts=%{y}<extra></extra>",
         "legendgroup": "1674",
         "marker": {
          "color": "#ab63fa",
          "pattern": {
           "shape": ""
          }
         },
         "name": "1674",
         "offsetgroup": "1674",
         "orientation": "v",
         "showlegend": true,
         "textposition": "auto",
         "type": "bar",
         "x": [
          "Book",
          "Cartographic material",
          "Iconographic material",
          "Manuscript"
         ],
         "xaxis": "x",
         "y": [
          20,
          5,
          11,
          2
         ],
         "yaxis": "y"
        },
        {
         "alignmentgroup": "True",
         "hovertemplate": "Date of Publication=1675<br>Material type=%{x}<br>counts=%{y}<extra></extra>",
         "legendgroup": "1675",
         "marker": {
          "color": "#FFA15A",
          "pattern": {
           "shape": ""
          }
         },
         "name": "1675",
         "offsetgroup": "1675",
         "orientation": "v",
         "showlegend": true,
         "textposition": "auto",
         "type": "bar",
         "x": [
          "Book",
          "Cartographic material",
          "Iconographic material",
          "Manuscript"
         ],
         "xaxis": "x",
         "y": [
          24,
          2,
          14,
          14
         ],
         "yaxis": "y"
        },
        {
         "alignmentgroup": "True",
         "hovertemplate": "Date of Publication=1676<br>Material type=%{x}<br>counts=%{y}<extra></extra>",
         "legendgroup": "1676",
         "marker": {
          "color": "#19d3f3",
          "pattern": {
           "shape": ""
          }
         },
         "name": "1676",
         "offsetgroup": "1676",
         "orientation": "v",
         "showlegend": true,
         "textposition": "auto",
         "type": "bar",
         "x": [
          "Book",
          "Cartographic material",
          "Iconographic material",
          "Manuscript"
         ],
         "xaxis": "x",
         "y": [
          21,
          3,
          1,
          28
         ],
         "yaxis": "y"
        },
        {
         "alignmentgroup": "True",
         "hovertemplate": "Date of Publication=1677<br>Material type=%{x}<br>counts=%{y}<extra></extra>",
         "legendgroup": "1677",
         "marker": {
          "color": "#FF6692",
          "pattern": {
           "shape": ""
          }
         },
         "name": "1677",
         "offsetgroup": "1677",
         "orientation": "v",
         "showlegend": true,
         "textposition": "auto",
         "type": "bar",
         "x": [
          "Book",
          "Cartographic material",
          "Iconographic material",
          "Manuscript"
         ],
         "xaxis": "x",
         "y": [
          16,
          3,
          8,
          2
         ],
         "yaxis": "y"
        },
        {
         "alignmentgroup": "True",
         "hovertemplate": "Date of Publication=1678<br>Material type=%{x}<br>counts=%{y}<extra></extra>",
         "legendgroup": "1678",
         "marker": {
          "color": "#B6E880",
          "pattern": {
           "shape": ""
          }
         },
         "name": "1678",
         "offsetgroup": "1678",
         "orientation": "v",
         "showlegend": true,
         "textposition": "auto",
         "type": "bar",
         "x": [
          "Book",
          "Cartographic material",
          "Iconographic material",
          "Manuscript"
         ],
         "xaxis": "x",
         "y": [
          14,
          1,
          11,
          1
         ],
         "yaxis": "y"
        },
        {
         "alignmentgroup": "True",
         "hovertemplate": "Date of Publication=1679<br>Material type=%{x}<br>counts=%{y}<extra></extra>",
         "legendgroup": "1679",
         "marker": {
          "color": "#FF97FF",
          "pattern": {
           "shape": ""
          }
         },
         "name": "1679",
         "offsetgroup": "1679",
         "orientation": "v",
         "showlegend": true,
         "textposition": "auto",
         "type": "bar",
         "x": [
          "Book",
          "Cartographic material",
          "Iconographic material",
          "Manuscript"
         ],
         "xaxis": "x",
         "y": [
          12,
          7,
          4,
          5
         ],
         "yaxis": "y"
        },
        {
         "alignmentgroup": "True",
         "hovertemplate": "Date of Publication=168 <br>Material type=%{x}<br>counts=%{y}<extra></extra>",
         "legendgroup": "168 ",
         "marker": {
          "color": "#FECB52",
          "pattern": {
           "shape": ""
          }
         },
         "name": "168 ",
         "offsetgroup": "168 ",
         "orientation": "v",
         "showlegend": true,
         "textposition": "auto",
         "type": "bar",
         "x": [
          "Book"
         ],
         "xaxis": "x",
         "y": [
          1
         ],
         "yaxis": "y"
        },
        {
         "alignmentgroup": "True",
         "hovertemplate": "Date of Publication=1680<br>Material type=%{x}<br>counts=%{y}<extra></extra>",
         "legendgroup": "1680",
         "marker": {
          "color": "#636efa",
          "pattern": {
           "shape": ""
          }
         },
         "name": "1680",
         "offsetgroup": "1680",
         "orientation": "v",
         "showlegend": true,
         "textposition": "auto",
         "type": "bar",
         "x": [
          "Book",
          "Cartographic material",
          "Iconographic material",
          "Manuscript"
         ],
         "xaxis": "x",
         "y": [
          17,
          7,
          51,
          1
         ],
         "yaxis": "y"
        },
        {
         "alignmentgroup": "True",
         "hovertemplate": "Date of Publication=1681<br>Material type=%{x}<br>counts=%{y}<extra></extra>",
         "legendgroup": "1681",
         "marker": {
          "color": "#EF553B",
          "pattern": {
           "shape": ""
          }
         },
         "name": "1681",
         "offsetgroup": "1681",
         "orientation": "v",
         "showlegend": true,
         "textposition": "auto",
         "type": "bar",
         "x": [
          "Book",
          "Cartographic material",
          "Iconographic material",
          "Manuscript"
         ],
         "xaxis": "x",
         "y": [
          19,
          3,
          3,
          1
         ],
         "yaxis": "y"
        },
        {
         "alignmentgroup": "True",
         "hovertemplate": "Date of Publication=1682<br>Material type=%{x}<br>counts=%{y}<extra></extra>",
         "legendgroup": "1682",
         "marker": {
          "color": "#00cc96",
          "pattern": {
           "shape": ""
          }
         },
         "name": "1682",
         "offsetgroup": "1682",
         "orientation": "v",
         "showlegend": true,
         "textposition": "auto",
         "type": "bar",
         "x": [
          "Book",
          "Cartographic material",
          "Iconographic material",
          "Manuscript"
         ],
         "xaxis": "x",
         "y": [
          14,
          5,
          2,
          4
         ],
         "yaxis": "y"
        },
        {
         "alignmentgroup": "True",
         "hovertemplate": "Date of Publication=1683<br>Material type=%{x}<br>counts=%{y}<extra></extra>",
         "legendgroup": "1683",
         "marker": {
          "color": "#ab63fa",
          "pattern": {
           "shape": ""
          }
         },
         "name": "1683",
         "offsetgroup": "1683",
         "orientation": "v",
         "showlegend": true,
         "textposition": "auto",
         "type": "bar",
         "x": [
          "Book",
          "Cartographic material",
          "Iconographic material",
          "Manuscript"
         ],
         "xaxis": "x",
         "y": [
          20,
          1,
          2,
          5
         ],
         "yaxis": "y"
        },
        {
         "alignmentgroup": "True",
         "hovertemplate": "Date of Publication=1684<br>Material type=%{x}<br>counts=%{y}<extra></extra>",
         "legendgroup": "1684",
         "marker": {
          "color": "#FFA15A",
          "pattern": {
           "shape": ""
          }
         },
         "name": "1684",
         "offsetgroup": "1684",
         "orientation": "v",
         "showlegend": true,
         "textposition": "auto",
         "type": "bar",
         "x": [
          "Book",
          "Cartographic material",
          "Iconographic material",
          "Manuscript"
         ],
         "xaxis": "x",
         "y": [
          16,
          5,
          2,
          4
         ],
         "yaxis": "y"
        },
        {
         "alignmentgroup": "True",
         "hovertemplate": "Date of Publication=1685<br>Material type=%{x}<br>counts=%{y}<extra></extra>",
         "legendgroup": "1685",
         "marker": {
          "color": "#19d3f3",
          "pattern": {
           "shape": ""
          }
         },
         "name": "1685",
         "offsetgroup": "1685",
         "orientation": "v",
         "showlegend": true,
         "textposition": "auto",
         "type": "bar",
         "x": [
          "Book",
          "Cartographic material",
          "Iconographic material",
          "Manuscript"
         ],
         "xaxis": "x",
         "y": [
          20,
          4,
          4,
          1
         ],
         "yaxis": "y"
        },
        {
         "alignmentgroup": "True",
         "hovertemplate": "Date of Publication=1686<br>Material type=%{x}<br>counts=%{y}<extra></extra>",
         "legendgroup": "1686",
         "marker": {
          "color": "#FF6692",
          "pattern": {
           "shape": ""
          }
         },
         "name": "1686",
         "offsetgroup": "1686",
         "orientation": "v",
         "showlegend": true,
         "textposition": "auto",
         "type": "bar",
         "x": [
          "Book",
          "Cartographic material",
          "Iconographic material",
          "Manuscript"
         ],
         "xaxis": "x",
         "y": [
          21,
          6,
          2,
          1
         ],
         "yaxis": "y"
        },
        {
         "alignmentgroup": "True",
         "hovertemplate": "Date of Publication=1687<br>Material type=%{x}<br>counts=%{y}<extra></extra>",
         "legendgroup": "1687",
         "marker": {
          "color": "#B6E880",
          "pattern": {
           "shape": ""
          }
         },
         "name": "1687",
         "offsetgroup": "1687",
         "orientation": "v",
         "showlegend": true,
         "textposition": "auto",
         "type": "bar",
         "x": [
          "Book",
          "Cartographic material",
          "Iconographic material",
          "Manuscript"
         ],
         "xaxis": "x",
         "y": [
          17,
          4,
          4,
          1
         ],
         "yaxis": "y"
        },
        {
         "alignmentgroup": "True",
         "hovertemplate": "Date of Publication=1688<br>Material type=%{x}<br>counts=%{y}<extra></extra>",
         "legendgroup": "1688",
         "marker": {
          "color": "#FF97FF",
          "pattern": {
           "shape": ""
          }
         },
         "name": "1688",
         "offsetgroup": "1688",
         "orientation": "v",
         "showlegend": true,
         "textposition": "auto",
         "type": "bar",
         "x": [
          "Book",
          "Cartographic material",
          "Iconographic material",
          "Manuscript"
         ],
         "xaxis": "x",
         "y": [
          28,
          9,
          2,
          2
         ],
         "yaxis": "y"
        },
        {
         "alignmentgroup": "True",
         "hovertemplate": "Date of Publication=1689<br>Material type=%{x}<br>counts=%{y}<extra></extra>",
         "legendgroup": "1689",
         "marker": {
          "color": "#FECB52",
          "pattern": {
           "shape": ""
          }
         },
         "name": "1689",
         "offsetgroup": "1689",
         "orientation": "v",
         "showlegend": true,
         "textposition": "auto",
         "type": "bar",
         "x": [
          "Book",
          "Cartographic material",
          "Iconographic material",
          "Manuscript"
         ],
         "xaxis": "x",
         "y": [
          24,
          4,
          3,
          1
         ],
         "yaxis": "y"
        },
        {
         "alignmentgroup": "True",
         "hovertemplate": "Date of Publication=169-<br>Material type=%{x}<br>counts=%{y}<extra></extra>",
         "legendgroup": "169-",
         "marker": {
          "color": "#636efa",
          "pattern": {
           "shape": ""
          }
         },
         "name": "169-",
         "offsetgroup": "169-",
         "orientation": "v",
         "showlegend": true,
         "textposition": "auto",
         "type": "bar",
         "x": [
          "Book",
          "Iconographic material"
         ],
         "xaxis": "x",
         "y": [
          1,
          4
         ],
         "yaxis": "y"
        },
        {
         "alignmentgroup": "True",
         "hovertemplate": "Date of Publication=1690<br>Material type=%{x}<br>counts=%{y}<extra></extra>",
         "legendgroup": "1690",
         "marker": {
          "color": "#EF553B",
          "pattern": {
           "shape": ""
          }
         },
         "name": "1690",
         "offsetgroup": "1690",
         "orientation": "v",
         "showlegend": true,
         "textposition": "auto",
         "type": "bar",
         "x": [
          "Book",
          "Cartographic material",
          "Iconographic material",
          "Manuscript"
         ],
         "xaxis": "x",
         "y": [
          18,
          20,
          39,
          3
         ],
         "yaxis": "y"
        },
        {
         "alignmentgroup": "True",
         "hovertemplate": "Date of Publication=1691<br>Material type=%{x}<br>counts=%{y}<extra></extra>",
         "legendgroup": "1691",
         "marker": {
          "color": "#00cc96",
          "pattern": {
           "shape": ""
          }
         },
         "name": "1691",
         "offsetgroup": "1691",
         "orientation": "v",
         "showlegend": true,
         "textposition": "auto",
         "type": "bar",
         "x": [
          "Book",
          "Cartographic material",
          "Iconographic material",
          "Manuscript"
         ],
         "xaxis": "x",
         "y": [
          17,
          3,
          4,
          2
         ],
         "yaxis": "y"
        },
        {
         "alignmentgroup": "True",
         "hovertemplate": "Date of Publication=1692<br>Material type=%{x}<br>counts=%{y}<extra></extra>",
         "legendgroup": "1692",
         "marker": {
          "color": "#ab63fa",
          "pattern": {
           "shape": ""
          }
         },
         "name": "1692",
         "offsetgroup": "1692",
         "orientation": "v",
         "showlegend": true,
         "textposition": "auto",
         "type": "bar",
         "x": [
          "Book",
          "Cartographic material",
          "Iconographic material",
          "Manuscript"
         ],
         "xaxis": "x",
         "y": [
          25,
          7,
          6,
          2
         ],
         "yaxis": "y"
        },
        {
         "alignmentgroup": "True",
         "hovertemplate": "Date of Publication=1693<br>Material type=%{x}<br>counts=%{y}<extra></extra>",
         "legendgroup": "1693",
         "marker": {
          "color": "#FFA15A",
          "pattern": {
           "shape": ""
          }
         },
         "name": "1693",
         "offsetgroup": "1693",
         "orientation": "v",
         "showlegend": true,
         "textposition": "auto",
         "type": "bar",
         "x": [
          "Book",
          "Cartographic material",
          "Iconographic material",
          "Manuscript"
         ],
         "xaxis": "x",
         "y": [
          22,
          9,
          3,
          1
         ],
         "yaxis": "y"
        },
        {
         "alignmentgroup": "True",
         "hovertemplate": "Date of Publication=1694<br>Material type=%{x}<br>counts=%{y}<extra></extra>",
         "legendgroup": "1694",
         "marker": {
          "color": "#19d3f3",
          "pattern": {
           "shape": ""
          }
         },
         "name": "1694",
         "offsetgroup": "1694",
         "orientation": "v",
         "showlegend": true,
         "textposition": "auto",
         "type": "bar",
         "x": [
          "Book",
          "Cartographic material",
          "Iconographic material",
          "Manuscript"
         ],
         "xaxis": "x",
         "y": [
          20,
          7,
          7,
          1
         ],
         "yaxis": "y"
        },
        {
         "alignmentgroup": "True",
         "hovertemplate": "Date of Publication=1695<br>Material type=%{x}<br>counts=%{y}<extra></extra>",
         "legendgroup": "1695",
         "marker": {
          "color": "#FF6692",
          "pattern": {
           "shape": ""
          }
         },
         "name": "1695",
         "offsetgroup": "1695",
         "orientation": "v",
         "showlegend": true,
         "textposition": "auto",
         "type": "bar",
         "x": [
          "Book",
          "Cartographic material",
          "Iconographic material",
          "Manuscript"
         ],
         "xaxis": "x",
         "y": [
          13,
          11,
          5,
          2
         ],
         "yaxis": "y"
        },
        {
         "alignmentgroup": "True",
         "hovertemplate": "Date of Publication=1696<br>Material type=%{x}<br>counts=%{y}<extra></extra>",
         "legendgroup": "1696",
         "marker": {
          "color": "#B6E880",
          "pattern": {
           "shape": ""
          }
         },
         "name": "1696",
         "offsetgroup": "1696",
         "orientation": "v",
         "showlegend": true,
         "textposition": "auto",
         "type": "bar",
         "x": [
          "Book",
          "Cartographic material",
          "Iconographic material",
          "Manuscript"
         ],
         "xaxis": "x",
         "y": [
          23,
          9,
          2,
          2
         ],
         "yaxis": "y"
        },
        {
         "alignmentgroup": "True",
         "hovertemplate": "Date of Publication=1697<br>Material type=%{x}<br>counts=%{y}<extra></extra>",
         "legendgroup": "1697",
         "marker": {
          "color": "#FF97FF",
          "pattern": {
           "shape": ""
          }
         },
         "name": "1697",
         "offsetgroup": "1697",
         "orientation": "v",
         "showlegend": true,
         "textposition": "auto",
         "type": "bar",
         "x": [
          "Book",
          "Cartographic material",
          "Iconographic material",
          "Manuscript"
         ],
         "xaxis": "x",
         "y": [
          28,
          6,
          5,
          5
         ],
         "yaxis": "y"
        },
        {
         "alignmentgroup": "True",
         "hovertemplate": "Date of Publication=1698<br>Material type=%{x}<br>counts=%{y}<extra></extra>",
         "legendgroup": "1698",
         "marker": {
          "color": "#FECB52",
          "pattern": {
           "shape": ""
          }
         },
         "name": "1698",
         "offsetgroup": "1698",
         "orientation": "v",
         "showlegend": true,
         "textposition": "auto",
         "type": "bar",
         "x": [
          "Book",
          "Cartographic material",
          "Iconographic material",
          "Manuscript"
         ],
         "xaxis": "x",
         "y": [
          26,
          2,
          1,
          2
         ],
         "yaxis": "y"
        },
        {
         "alignmentgroup": "True",
         "hovertemplate": "Date of Publication=1699<br>Material type=%{x}<br>counts=%{y}<extra></extra>",
         "legendgroup": "1699",
         "marker": {
          "color": "#636efa",
          "pattern": {
           "shape": ""
          }
         },
         "name": "1699",
         "offsetgroup": "1699",
         "orientation": "v",
         "showlegend": true,
         "textposition": "auto",
         "type": "bar",
         "x": [
          "Book",
          "Iconographic material",
          "Manuscript"
         ],
         "xaxis": "x",
         "y": [
          44,
          2,
          1
         ],
         "yaxis": "y"
        },
        {
         "alignmentgroup": "True",
         "hovertemplate": "Date of Publication=17  <br>Material type=%{x}<br>counts=%{y}<extra></extra>",
         "legendgroup": "17  ",
         "marker": {
          "color": "#EF553B",
          "pattern": {
           "shape": ""
          }
         },
         "name": "17  ",
         "offsetgroup": "17  ",
         "orientation": "v",
         "showlegend": true,
         "textposition": "auto",
         "type": "bar",
         "x": [
          "Book",
          "Cartographic material",
          "Iconographic material",
          "Manuscript",
          "Notated music"
         ],
         "xaxis": "x",
         "y": [
          3,
          11,
          22,
          9,
          1
         ],
         "yaxis": "y"
        },
        {
         "alignmentgroup": "True",
         "hovertemplate": "Date of Publication=17--<br>Material type=%{x}<br>counts=%{y}<extra></extra>",
         "legendgroup": "17--",
         "marker": {
          "color": "#00cc96",
          "pattern": {
           "shape": ""
          }
         },
         "name": "17--",
         "offsetgroup": "17--",
         "orientation": "v",
         "showlegend": true,
         "textposition": "auto",
         "type": "bar",
         "x": [
          "Book",
          "Cartographic material",
          "Manuscript"
         ],
         "xaxis": "x",
         "y": [
          1,
          1,
          2
         ],
         "yaxis": "y"
        },
        {
         "alignmentgroup": "True",
         "hovertemplate": "Date of Publication=1700<br>Material type=%{x}<br>counts=%{y}<extra></extra>",
         "legendgroup": "1700",
         "marker": {
          "color": "#ab63fa",
          "pattern": {
           "shape": ""
          }
         },
         "name": "1700",
         "offsetgroup": "1700",
         "orientation": "v",
         "showlegend": true,
         "textposition": "auto",
         "type": "bar",
         "x": [
          "Book",
          "Cartographic material",
          "Iconographic material",
          "Manuscript",
          "Notated music"
         ],
         "xaxis": "x",
         "y": [
          62,
          86,
          675,
          12,
          2
         ],
         "yaxis": "y"
        },
        {
         "alignmentgroup": "True",
         "hovertemplate": "Date of Publication=1701<br>Material type=%{x}<br>counts=%{y}<extra></extra>",
         "legendgroup": "1701",
         "marker": {
          "color": "#FFA15A",
          "pattern": {
           "shape": ""
          }
         },
         "name": "1701",
         "offsetgroup": "1701",
         "orientation": "v",
         "showlegend": true,
         "textposition": "auto",
         "type": "bar",
         "x": [
          "Book",
          "Cartographic material",
          "Iconographic material",
          "Manuscript",
          "Notated music"
         ],
         "xaxis": "x",
         "y": [
          51,
          11,
          6,
          253,
          3
         ],
         "yaxis": "y"
        },
        {
         "alignmentgroup": "True",
         "hovertemplate": "Date of Publication=1702<br>Material type=%{x}<br>counts=%{y}<extra></extra>",
         "legendgroup": "1702",
         "marker": {
          "color": "#19d3f3",
          "pattern": {
           "shape": ""
          }
         },
         "name": "1702",
         "offsetgroup": "1702",
         "orientation": "v",
         "showlegend": true,
         "textposition": "auto",
         "type": "bar",
         "x": [
          "Book",
          "Cartographic material",
          "Iconographic material",
          "Manuscript"
         ],
         "xaxis": "x",
         "y": [
          13,
          18,
          2,
          1
         ],
         "yaxis": "y"
        },
        {
         "alignmentgroup": "True",
         "hovertemplate": "Date of Publication=1703<br>Material type=%{x}<br>counts=%{y}<extra></extra>",
         "legendgroup": "1703",
         "marker": {
          "color": "#FF6692",
          "pattern": {
           "shape": ""
          }
         },
         "name": "1703",
         "offsetgroup": "1703",
         "orientation": "v",
         "showlegend": true,
         "textposition": "auto",
         "type": "bar",
         "x": [
          "Book",
          "Cartographic material",
          "Iconographic material",
          "Manuscript"
         ],
         "xaxis": "x",
         "y": [
          15,
          23,
          1,
          4
         ],
         "yaxis": "y"
        },
        {
         "alignmentgroup": "True",
         "hovertemplate": "Date of Publication=1704<br>Material type=%{x}<br>counts=%{y}<extra></extra>",
         "legendgroup": "1704",
         "marker": {
          "color": "#B6E880",
          "pattern": {
           "shape": ""
          }
         },
         "name": "1704",
         "offsetgroup": "1704",
         "orientation": "v",
         "showlegend": true,
         "textposition": "auto",
         "type": "bar",
         "x": [
          "Book",
          "Cartographic material",
          "Iconographic material"
         ],
         "xaxis": "x",
         "y": [
          18,
          20,
          6
         ],
         "yaxis": "y"
        },
        {
         "alignmentgroup": "True",
         "hovertemplate": "Date of Publication=1705<br>Material type=%{x}<br>counts=%{y}<extra></extra>",
         "legendgroup": "1705",
         "marker": {
          "color": "#FF97FF",
          "pattern": {
           "shape": ""
          }
         },
         "name": "1705",
         "offsetgroup": "1705",
         "orientation": "v",
         "showlegend": true,
         "textposition": "auto",
         "type": "bar",
         "x": [
          "Book",
          "Cartographic material",
          "Iconographic material",
          "Manuscript"
         ],
         "xaxis": "x",
         "y": [
          14,
          47,
          6,
          2
         ],
         "yaxis": "y"
        },
        {
         "alignmentgroup": "True",
         "hovertemplate": "Date of Publication=1706<br>Material type=%{x}<br>counts=%{y}<extra></extra>",
         "legendgroup": "1706",
         "marker": {
          "color": "#FECB52",
          "pattern": {
           "shape": ""
          }
         },
         "name": "1706",
         "offsetgroup": "1706",
         "orientation": "v",
         "showlegend": true,
         "textposition": "auto",
         "type": "bar",
         "x": [
          "Book",
          "Cartographic material",
          "Iconographic material",
          "Manuscript",
          "Notated music"
         ],
         "xaxis": "x",
         "y": [
          25,
          16,
          7,
          2,
          1
         ],
         "yaxis": "y"
        },
        {
         "alignmentgroup": "True",
         "hovertemplate": "Date of Publication=1707<br>Material type=%{x}<br>counts=%{y}<extra></extra>",
         "legendgroup": "1707",
         "marker": {
          "color": "#636efa",
          "pattern": {
           "shape": ""
          }
         },
         "name": "1707",
         "offsetgroup": "1707",
         "orientation": "v",
         "showlegend": true,
         "textposition": "auto",
         "type": "bar",
         "x": [
          "Book",
          "Cartographic material",
          "Iconographic material",
          "Manuscript"
         ],
         "xaxis": "x",
         "y": [
          19,
          11,
          8,
          2
         ],
         "yaxis": "y"
        },
        {
         "alignmentgroup": "True",
         "hovertemplate": "Date of Publication=1708<br>Material type=%{x}<br>counts=%{y}<extra></extra>",
         "legendgroup": "1708",
         "marker": {
          "color": "#EF553B",
          "pattern": {
           "shape": ""
          }
         },
         "name": "1708",
         "offsetgroup": "1708",
         "orientation": "v",
         "showlegend": true,
         "textposition": "auto",
         "type": "bar",
         "x": [
          "Book",
          "Cartographic material",
          "Iconographic material"
         ],
         "xaxis": "x",
         "y": [
          24,
          13,
          9
         ],
         "yaxis": "y"
        },
        {
         "alignmentgroup": "True",
         "hovertemplate": "Date of Publication=1709<br>Material type=%{x}<br>counts=%{y}<extra></extra>",
         "legendgroup": "1709",
         "marker": {
          "color": "#00cc96",
          "pattern": {
           "shape": ""
          }
         },
         "name": "1709",
         "offsetgroup": "1709",
         "orientation": "v",
         "showlegend": true,
         "textposition": "auto",
         "type": "bar",
         "x": [
          "Book",
          "Cartographic material",
          "Iconographic material",
          "Manuscript"
         ],
         "xaxis": "x",
         "y": [
          22,
          7,
          10,
          2
         ],
         "yaxis": "y"
        },
        {
         "alignmentgroup": "True",
         "hovertemplate": "Date of Publication=1710<br>Material type=%{x}<br>counts=%{y}<extra></extra>",
         "legendgroup": "1710",
         "marker": {
          "color": "#ab63fa",
          "pattern": {
           "shape": ""
          }
         },
         "name": "1710",
         "offsetgroup": "1710",
         "orientation": "v",
         "showlegend": true,
         "textposition": "auto",
         "type": "bar",
         "x": [
          "Book",
          "Cartographic material",
          "Iconographic material",
          "Manuscript"
         ],
         "xaxis": "x",
         "y": [
          18,
          24,
          12,
          4
         ],
         "yaxis": "y"
        },
        {
         "alignmentgroup": "True",
         "hovertemplate": "Date of Publication=1711<br>Material type=%{x}<br>counts=%{y}<extra></extra>",
         "legendgroup": "1711",
         "marker": {
          "color": "#FFA15A",
          "pattern": {
           "shape": ""
          }
         },
         "name": "1711",
         "offsetgroup": "1711",
         "orientation": "v",
         "showlegend": true,
         "textposition": "auto",
         "type": "bar",
         "x": [
          "Book",
          "Cartographic material",
          "Iconographic material",
          "Manuscript"
         ],
         "xaxis": "x",
         "y": [
          18,
          6,
          1,
          3
         ],
         "yaxis": "y"
        },
        {
         "alignmentgroup": "True",
         "hovertemplate": "Date of Publication=1712<br>Material type=%{x}<br>counts=%{y}<extra></extra>",
         "legendgroup": "1712",
         "marker": {
          "color": "#19d3f3",
          "pattern": {
           "shape": ""
          }
         },
         "name": "1712",
         "offsetgroup": "1712",
         "orientation": "v",
         "showlegend": true,
         "textposition": "auto",
         "type": "bar",
         "x": [
          "Book",
          "Cartographic material",
          "Iconographic material",
          "Manuscript"
         ],
         "xaxis": "x",
         "y": [
          19,
          5,
          10,
          4
         ],
         "yaxis": "y"
        },
        {
         "alignmentgroup": "True",
         "hovertemplate": "Date of Publication=1713<br>Material type=%{x}<br>counts=%{y}<extra></extra>",
         "legendgroup": "1713",
         "marker": {
          "color": "#FF6692",
          "pattern": {
           "shape": ""
          }
         },
         "name": "1713",
         "offsetgroup": "1713",
         "orientation": "v",
         "showlegend": true,
         "textposition": "auto",
         "type": "bar",
         "x": [
          "Book",
          "Cartographic material",
          "Iconographic material",
          "Manuscript"
         ],
         "xaxis": "x",
         "y": [
          21,
          10,
          18,
          11
         ],
         "yaxis": "y"
        },
        {
         "alignmentgroup": "True",
         "hovertemplate": "Date of Publication=1714<br>Material type=%{x}<br>counts=%{y}<extra></extra>",
         "legendgroup": "1714",
         "marker": {
          "color": "#B6E880",
          "pattern": {
           "shape": ""
          }
         },
         "name": "1714",
         "offsetgroup": "1714",
         "orientation": "v",
         "showlegend": true,
         "textposition": "auto",
         "type": "bar",
         "x": [
          "Book",
          "Cartographic material",
          "Iconographic material",
          "Manuscript"
         ],
         "xaxis": "x",
         "y": [
          22,
          5,
          6,
          7
         ],
         "yaxis": "y"
        },
        {
         "alignmentgroup": "True",
         "hovertemplate": "Date of Publication=1715<br>Material type=%{x}<br>counts=%{y}<extra></extra>",
         "legendgroup": "1715",
         "marker": {
          "color": "#FF97FF",
          "pattern": {
           "shape": ""
          }
         },
         "name": "1715",
         "offsetgroup": "1715",
         "orientation": "v",
         "showlegend": true,
         "textposition": "auto",
         "type": "bar",
         "x": [
          "Book",
          "Cartographic material",
          "Iconographic material",
          "Manuscript"
         ],
         "xaxis": "x",
         "y": [
          16,
          5,
          9,
          6
         ],
         "yaxis": "y"
        },
        {
         "alignmentgroup": "True",
         "hovertemplate": "Date of Publication=1716<br>Material type=%{x}<br>counts=%{y}<extra></extra>",
         "legendgroup": "1716",
         "marker": {
          "color": "#FECB52",
          "pattern": {
           "shape": ""
          }
         },
         "name": "1716",
         "offsetgroup": "1716",
         "orientation": "v",
         "showlegend": true,
         "textposition": "auto",
         "type": "bar",
         "x": [
          "Book",
          "Cartographic material",
          "Iconographic material",
          "Manuscript"
         ],
         "xaxis": "x",
         "y": [
          11,
          5,
          3,
          9
         ],
         "yaxis": "y"
        },
        {
         "alignmentgroup": "True",
         "hovertemplate": "Date of Publication=1717<br>Material type=%{x}<br>counts=%{y}<extra></extra>",
         "legendgroup": "1717",
         "marker": {
          "color": "#636efa",
          "pattern": {
           "shape": ""
          }
         },
         "name": "1717",
         "offsetgroup": "1717",
         "orientation": "v",
         "showlegend": true,
         "textposition": "auto",
         "type": "bar",
         "x": [
          "Book",
          "Cartographic material",
          "Iconographic material",
          "Manuscript"
         ],
         "xaxis": "x",
         "y": [
          17,
          5,
          7,
          2
         ],
         "yaxis": "y"
        },
        {
         "alignmentgroup": "True",
         "hovertemplate": "Date of Publication=1718<br>Material type=%{x}<br>counts=%{y}<extra></extra>",
         "legendgroup": "1718",
         "marker": {
          "color": "#EF553B",
          "pattern": {
           "shape": ""
          }
         },
         "name": "1718",
         "offsetgroup": "1718",
         "orientation": "v",
         "showlegend": true,
         "textposition": "auto",
         "type": "bar",
         "x": [
          "Book",
          "Cartographic material",
          "Iconographic material",
          "Manuscript"
         ],
         "xaxis": "x",
         "y": [
          14,
          4,
          1,
          4
         ],
         "yaxis": "y"
        },
        {
         "alignmentgroup": "True",
         "hovertemplate": "Date of Publication=1719<br>Material type=%{x}<br>counts=%{y}<extra></extra>",
         "legendgroup": "1719",
         "marker": {
          "color": "#00cc96",
          "pattern": {
           "shape": ""
          }
         },
         "name": "1719",
         "offsetgroup": "1719",
         "orientation": "v",
         "showlegend": true,
         "textposition": "auto",
         "type": "bar",
         "x": [
          "Book",
          "Cartographic material",
          "Iconographic material",
          "Manuscript"
         ],
         "xaxis": "x",
         "y": [
          15,
          5,
          5,
          2
         ],
         "yaxis": "y"
        },
        {
         "alignmentgroup": "True",
         "hovertemplate": "Date of Publication=1720<br>Material type=%{x}<br>counts=%{y}<extra></extra>",
         "legendgroup": "1720",
         "marker": {
          "color": "#ab63fa",
          "pattern": {
           "shape": ""
          }
         },
         "name": "1720",
         "offsetgroup": "1720",
         "orientation": "v",
         "showlegend": true,
         "textposition": "auto",
         "type": "bar",
         "x": [
          "Book",
          "Cartographic material",
          "Iconographic material",
          "Manuscript",
          "Notated music"
         ],
         "xaxis": "x",
         "y": [
          17,
          14,
          29,
          14,
          4
         ],
         "yaxis": "y"
        },
        {
         "alignmentgroup": "True",
         "hovertemplate": "Date of Publication=1721<br>Material type=%{x}<br>counts=%{y}<extra></extra>",
         "legendgroup": "1721",
         "marker": {
          "color": "#FFA15A",
          "pattern": {
           "shape": ""
          }
         },
         "name": "1721",
         "offsetgroup": "1721",
         "orientation": "v",
         "showlegend": true,
         "textposition": "auto",
         "type": "bar",
         "x": [
          "Book",
          "Cartographic material",
          "Iconographic material",
          "Manuscript"
         ],
         "xaxis": "x",
         "y": [
          12,
          2,
          8,
          10
         ],
         "yaxis": "y"
        },
        {
         "alignmentgroup": "True",
         "hovertemplate": "Date of Publication=1722<br>Material type=%{x}<br>counts=%{y}<extra></extra>",
         "legendgroup": "1722",
         "marker": {
          "color": "#19d3f3",
          "pattern": {
           "shape": ""
          }
         },
         "name": "1722",
         "offsetgroup": "1722",
         "orientation": "v",
         "showlegend": true,
         "textposition": "auto",
         "type": "bar",
         "x": [
          "Book",
          "Cartographic material",
          "Iconographic material",
          "Manuscript"
         ],
         "xaxis": "x",
         "y": [
          12,
          7,
          2,
          4
         ],
         "yaxis": "y"
        },
        {
         "alignmentgroup": "True",
         "hovertemplate": "Date of Publication=1723<br>Material type=%{x}<br>counts=%{y}<extra></extra>",
         "legendgroup": "1723",
         "marker": {
          "color": "#FF6692",
          "pattern": {
           "shape": ""
          }
         },
         "name": "1723",
         "offsetgroup": "1723",
         "orientation": "v",
         "showlegend": true,
         "textposition": "auto",
         "type": "bar",
         "x": [
          "Book",
          "Cartographic material",
          "Iconographic material",
          "Manuscript"
         ],
         "xaxis": "x",
         "y": [
          5,
          2,
          2,
          5
         ],
         "yaxis": "y"
        },
        {
         "alignmentgroup": "True",
         "hovertemplate": "Date of Publication=1724<br>Material type=%{x}<br>counts=%{y}<extra></extra>",
         "legendgroup": "1724",
         "marker": {
          "color": "#B6E880",
          "pattern": {
           "shape": ""
          }
         },
         "name": "1724",
         "offsetgroup": "1724",
         "orientation": "v",
         "showlegend": true,
         "textposition": "auto",
         "type": "bar",
         "x": [
          "Book",
          "Cartographic material",
          "Iconographic material",
          "Manuscript",
          "Notated music"
         ],
         "xaxis": "x",
         "y": [
          8,
          3,
          1,
          8,
          1
         ],
         "yaxis": "y"
        },
        {
         "alignmentgroup": "True",
         "hovertemplate": "Date of Publication=1725<br>Material type=%{x}<br>counts=%{y}<extra></extra>",
         "legendgroup": "1725",
         "marker": {
          "color": "#FF97FF",
          "pattern": {
           "shape": ""
          }
         },
         "name": "1725",
         "offsetgroup": "1725",
         "orientation": "v",
         "showlegend": true,
         "textposition": "auto",
         "type": "bar",
         "x": [
          "Book",
          "Cartographic material",
          "Iconographic material",
          "Manuscript",
          "Notated music"
         ],
         "xaxis": "x",
         "y": [
          7,
          4,
          15,
          2,
          2
         ],
         "yaxis": "y"
        },
        {
         "alignmentgroup": "True",
         "hovertemplate": "Date of Publication=1726<br>Material type=%{x}<br>counts=%{y}<extra></extra>",
         "legendgroup": "1726",
         "marker": {
          "color": "#FECB52",
          "pattern": {
           "shape": ""
          }
         },
         "name": "1726",
         "offsetgroup": "1726",
         "orientation": "v",
         "showlegend": true,
         "textposition": "auto",
         "type": "bar",
         "x": [
          "Book",
          "Cartographic material",
          "Iconographic material",
          "Manuscript"
         ],
         "xaxis": "x",
         "y": [
          10,
          4,
          29,
          10
         ],
         "yaxis": "y"
        },
        {
         "alignmentgroup": "True",
         "hovertemplate": "Date of Publication=1727<br>Material type=%{x}<br>counts=%{y}<extra></extra>",
         "legendgroup": "1727",
         "marker": {
          "color": "#636efa",
          "pattern": {
           "shape": ""
          }
         },
         "name": "1727",
         "offsetgroup": "1727",
         "orientation": "v",
         "showlegend": true,
         "textposition": "auto",
         "type": "bar",
         "x": [
          "Book",
          "Cartographic material",
          "Iconographic material",
          "Manuscript"
         ],
         "xaxis": "x",
         "y": [
          13,
          3,
          9,
          4
         ],
         "yaxis": "y"
        },
        {
         "alignmentgroup": "True",
         "hovertemplate": "Date of Publication=1728<br>Material type=%{x}<br>counts=%{y}<extra></extra>",
         "legendgroup": "1728",
         "marker": {
          "color": "#EF553B",
          "pattern": {
           "shape": ""
          }
         },
         "name": "1728",
         "offsetgroup": "1728",
         "orientation": "v",
         "showlegend": true,
         "textposition": "auto",
         "type": "bar",
         "x": [
          "Book",
          "Cartographic material",
          "Iconographic material",
          "Manuscript"
         ],
         "xaxis": "x",
         "y": [
          21,
          2,
          7,
          4
         ],
         "yaxis": "y"
        },
        {
         "alignmentgroup": "True",
         "hovertemplate": "Date of Publication=1729<br>Material type=%{x}<br>counts=%{y}<extra></extra>",
         "legendgroup": "1729",
         "marker": {
          "color": "#00cc96",
          "pattern": {
           "shape": ""
          }
         },
         "name": "1729",
         "offsetgroup": "1729",
         "orientation": "v",
         "showlegend": true,
         "textposition": "auto",
         "type": "bar",
         "x": [
          "Book",
          "Cartographic material",
          "Iconographic material",
          "Manuscript"
         ],
         "xaxis": "x",
         "y": [
          19,
          5,
          8,
          4
         ],
         "yaxis": "y"
        },
        {
         "alignmentgroup": "True",
         "hovertemplate": "Date of Publication=1730<br>Material type=%{x}<br>counts=%{y}<extra></extra>",
         "legendgroup": "1730",
         "marker": {
          "color": "#ab63fa",
          "pattern": {
           "shape": ""
          }
         },
         "name": "1730",
         "offsetgroup": "1730",
         "orientation": "v",
         "showlegend": true,
         "textposition": "auto",
         "type": "bar",
         "x": [
          "Book",
          "Cartographic material",
          "Iconographic material",
          "Manuscript",
          "Notated music",
          "Periodical"
         ],
         "xaxis": "x",
         "y": [
          24,
          22,
          87,
          6,
          1,
          1
         ],
         "yaxis": "y"
        },
        {
         "alignmentgroup": "True",
         "hovertemplate": "Date of Publication=1731<br>Material type=%{x}<br>counts=%{y}<extra></extra>",
         "legendgroup": "1731",
         "marker": {
          "color": "#FFA15A",
          "pattern": {
           "shape": ""
          }
         },
         "name": "1731",
         "offsetgroup": "1731",
         "orientation": "v",
         "showlegend": true,
         "textposition": "auto",
         "type": "bar",
         "x": [
          "Book",
          "Cartographic material",
          "Iconographic material",
          "Manuscript"
         ],
         "xaxis": "x",
         "y": [
          9,
          1,
          6,
          7
         ],
         "yaxis": "y"
        },
        {
         "alignmentgroup": "True",
         "hovertemplate": "Date of Publication=1732<br>Material type=%{x}<br>counts=%{y}<extra></extra>",
         "legendgroup": "1732",
         "marker": {
          "color": "#19d3f3",
          "pattern": {
           "shape": ""
          }
         },
         "name": "1732",
         "offsetgroup": "1732",
         "orientation": "v",
         "showlegend": true,
         "textposition": "auto",
         "type": "bar",
         "x": [
          "Book",
          "Cartographic material",
          "Iconographic material",
          "Manuscript"
         ],
         "xaxis": "x",
         "y": [
          11,
          2,
          11,
          4
         ],
         "yaxis": "y"
        },
        {
         "alignmentgroup": "True",
         "hovertemplate": "Date of Publication=1733<br>Material type=%{x}<br>counts=%{y}<extra></extra>",
         "legendgroup": "1733",
         "marker": {
          "color": "#FF6692",
          "pattern": {
           "shape": ""
          }
         },
         "name": "1733",
         "offsetgroup": "1733",
         "orientation": "v",
         "showlegend": true,
         "textposition": "auto",
         "type": "bar",
         "x": [
          "Book",
          "Cartographic material",
          "Iconographic material",
          "Manuscript"
         ],
         "xaxis": "x",
         "y": [
          11,
          6,
          7,
          4
         ],
         "yaxis": "y"
        },
        {
         "alignmentgroup": "True",
         "hovertemplate": "Date of Publication=1734<br>Material type=%{x}<br>counts=%{y}<extra></extra>",
         "legendgroup": "1734",
         "marker": {
          "color": "#B6E880",
          "pattern": {
           "shape": ""
          }
         },
         "name": "1734",
         "offsetgroup": "1734",
         "orientation": "v",
         "showlegend": true,
         "textposition": "auto",
         "type": "bar",
         "x": [
          "Book",
          "Cartographic material",
          "Iconographic material",
          "Manuscript",
          "Notated music"
         ],
         "xaxis": "x",
         "y": [
          16,
          8,
          8,
          20,
          1
         ],
         "yaxis": "y"
        },
        {
         "alignmentgroup": "True",
         "hovertemplate": "Date of Publication=1735<br>Material type=%{x}<br>counts=%{y}<extra></extra>",
         "legendgroup": "1735",
         "marker": {
          "color": "#FF97FF",
          "pattern": {
           "shape": ""
          }
         },
         "name": "1735",
         "offsetgroup": "1735",
         "orientation": "v",
         "showlegend": true,
         "textposition": "auto",
         "type": "bar",
         "x": [
          "Book",
          "Cartographic material",
          "Iconographic material",
          "Manuscript",
          "Notated music"
         ],
         "xaxis": "x",
         "y": [
          20,
          6,
          12,
          6,
          7
         ],
         "yaxis": "y"
        },
        {
         "alignmentgroup": "True",
         "hovertemplate": "Date of Publication=1736<br>Material type=%{x}<br>counts=%{y}<extra></extra>",
         "legendgroup": "1736",
         "marker": {
          "color": "#FECB52",
          "pattern": {
           "shape": ""
          }
         },
         "name": "1736",
         "offsetgroup": "1736",
         "orientation": "v",
         "showlegend": true,
         "textposition": "auto",
         "type": "bar",
         "x": [
          "Book",
          "Cartographic material",
          "Iconographic material",
          "Manuscript"
         ],
         "xaxis": "x",
         "y": [
          30,
          4,
          11,
          7
         ],
         "yaxis": "y"
        },
        {
         "alignmentgroup": "True",
         "hovertemplate": "Date of Publication=1737<br>Material type=%{x}<br>counts=%{y}<extra></extra>",
         "legendgroup": "1737",
         "marker": {
          "color": "#636efa",
          "pattern": {
           "shape": ""
          }
         },
         "name": "1737",
         "offsetgroup": "1737",
         "orientation": "v",
         "showlegend": true,
         "textposition": "auto",
         "type": "bar",
         "x": [
          "Book",
          "Cartographic material",
          "Iconographic material",
          "Manuscript"
         ],
         "xaxis": "x",
         "y": [
          21,
          3,
          8,
          3
         ],
         "yaxis": "y"
        },
        {
         "alignmentgroup": "True",
         "hovertemplate": "Date of Publication=1738<br>Material type=%{x}<br>counts=%{y}<extra></extra>",
         "legendgroup": "1738",
         "marker": {
          "color": "#EF553B",
          "pattern": {
           "shape": ""
          }
         },
         "name": "1738",
         "offsetgroup": "1738",
         "orientation": "v",
         "showlegend": true,
         "textposition": "auto",
         "type": "bar",
         "x": [
          "Book",
          "Cartographic material",
          "Iconographic material",
          "Manuscript"
         ],
         "xaxis": "x",
         "y": [
          17,
          1,
          3,
          2
         ],
         "yaxis": "y"
        },
        {
         "alignmentgroup": "True",
         "hovertemplate": "Date of Publication=1739<br>Material type=%{x}<br>counts=%{y}<extra></extra>",
         "legendgroup": "1739",
         "marker": {
          "color": "#00cc96",
          "pattern": {
           "shape": ""
          }
         },
         "name": "1739",
         "offsetgroup": "1739",
         "orientation": "v",
         "showlegend": true,
         "textposition": "auto",
         "type": "bar",
         "x": [
          "Book",
          "Cartographic material",
          "Iconographic material",
          "Manuscript"
         ],
         "xaxis": "x",
         "y": [
          20,
          9,
          12,
          2
         ],
         "yaxis": "y"
        },
        {
         "alignmentgroup": "True",
         "hovertemplate": "Date of Publication=1740<br>Material type=%{x}<br>counts=%{y}<extra></extra>",
         "legendgroup": "1740",
         "marker": {
          "color": "#ab63fa",
          "pattern": {
           "shape": ""
          }
         },
         "name": "1740",
         "offsetgroup": "1740",
         "orientation": "v",
         "showlegend": true,
         "textposition": "auto",
         "type": "bar",
         "x": [
          "Book",
          "Cartographic material",
          "Iconographic material",
          "Manuscript",
          "Notated music"
         ],
         "xaxis": "x",
         "y": [
          18,
          7,
          29,
          6,
          5
         ],
         "yaxis": "y"
        },
        {
         "alignmentgroup": "True",
         "hovertemplate": "Date of Publication=1741<br>Material type=%{x}<br>counts=%{y}<extra></extra>",
         "legendgroup": "1741",
         "marker": {
          "color": "#FFA15A",
          "pattern": {
           "shape": ""
          }
         },
         "name": "1741",
         "offsetgroup": "1741",
         "orientation": "v",
         "showlegend": true,
         "textposition": "auto",
         "type": "bar",
         "x": [
          "Book",
          "Cartographic material",
          "Iconographic material",
          "Manuscript"
         ],
         "xaxis": "x",
         "y": [
          16,
          10,
          7,
          5
         ],
         "yaxis": "y"
        },
        {
         "alignmentgroup": "True",
         "hovertemplate": "Date of Publication=1742<br>Material type=%{x}<br>counts=%{y}<extra></extra>",
         "legendgroup": "1742",
         "marker": {
          "color": "#19d3f3",
          "pattern": {
           "shape": ""
          }
         },
         "name": "1742",
         "offsetgroup": "1742",
         "orientation": "v",
         "showlegend": true,
         "textposition": "auto",
         "type": "bar",
         "x": [
          "Book",
          "Cartographic material",
          "Iconographic material",
          "Manuscript"
         ],
         "xaxis": "x",
         "y": [
          18,
          7,
          10,
          5
         ],
         "yaxis": "y"
        },
        {
         "alignmentgroup": "True",
         "hovertemplate": "Date of Publication=1743<br>Material type=%{x}<br>counts=%{y}<extra></extra>",
         "legendgroup": "1743",
         "marker": {
          "color": "#FF6692",
          "pattern": {
           "shape": ""
          }
         },
         "name": "1743",
         "offsetgroup": "1743",
         "orientation": "v",
         "showlegend": true,
         "textposition": "auto",
         "type": "bar",
         "x": [
          "Book",
          "Cartographic material",
          "Iconographic material",
          "Manuscript",
          "Periodical"
         ],
         "xaxis": "x",
         "y": [
          13,
          3,
          2,
          5,
          1
         ],
         "yaxis": "y"
        },
        {
         "alignmentgroup": "True",
         "hovertemplate": "Date of Publication=1744<br>Material type=%{x}<br>counts=%{y}<extra></extra>",
         "legendgroup": "1744",
         "marker": {
          "color": "#B6E880",
          "pattern": {
           "shape": ""
          }
         },
         "name": "1744",
         "offsetgroup": "1744",
         "orientation": "v",
         "showlegend": true,
         "textposition": "auto",
         "type": "bar",
         "x": [
          "Book",
          "Cartographic material",
          "Iconographic material",
          "Manuscript",
          "Notated music"
         ],
         "xaxis": "x",
         "y": [
          19,
          9,
          4,
          7,
          1
         ],
         "yaxis": "y"
        },
        {
         "alignmentgroup": "True",
         "hovertemplate": "Date of Publication=1745<br>Material type=%{x}<br>counts=%{y}<extra></extra>",
         "legendgroup": "1745",
         "marker": {
          "color": "#FF97FF",
          "pattern": {
           "shape": ""
          }
         },
         "name": "1745",
         "offsetgroup": "1745",
         "orientation": "v",
         "showlegend": true,
         "textposition": "auto",
         "type": "bar",
         "x": [
          "Book",
          "Cartographic material",
          "Iconographic material",
          "Manuscript"
         ],
         "xaxis": "x",
         "y": [
          13,
          23,
          18,
          5
         ],
         "yaxis": "y"
        },
        {
         "alignmentgroup": "True",
         "hovertemplate": "Date of Publication=1746<br>Material type=%{x}<br>counts=%{y}<extra></extra>",
         "legendgroup": "1746",
         "marker": {
          "color": "#FECB52",
          "pattern": {
           "shape": ""
          }
         },
         "name": "1746",
         "offsetgroup": "1746",
         "orientation": "v",
         "showlegend": true,
         "textposition": "auto",
         "type": "bar",
         "x": [
          "Book",
          "Cartographic material",
          "Iconographic material",
          "Manuscript"
         ],
         "xaxis": "x",
         "y": [
          22,
          3,
          21,
          4
         ],
         "yaxis": "y"
        },
        {
         "alignmentgroup": "True",
         "hovertemplate": "Date of Publication=1747<br>Material type=%{x}<br>counts=%{y}<extra></extra>",
         "legendgroup": "1747",
         "marker": {
          "color": "#636efa",
          "pattern": {
           "shape": ""
          }
         },
         "name": "1747",
         "offsetgroup": "1747",
         "orientation": "v",
         "showlegend": true,
         "textposition": "auto",
         "type": "bar",
         "x": [
          "Book",
          "Cartographic material",
          "Iconographic material",
          "Manuscript",
          "Notated music"
         ],
         "xaxis": "x",
         "y": [
          23,
          4,
          15,
          4,
          1
         ],
         "yaxis": "y"
        },
        {
         "alignmentgroup": "True",
         "hovertemplate": "Date of Publication=1748<br>Material type=%{x}<br>counts=%{y}<extra></extra>",
         "legendgroup": "1748",
         "marker": {
          "color": "#EF553B",
          "pattern": {
           "shape": ""
          }
         },
         "name": "1748",
         "offsetgroup": "1748",
         "orientation": "v",
         "showlegend": true,
         "textposition": "auto",
         "type": "bar",
         "x": [
          "Book",
          "Cartographic material",
          "Iconographic material",
          "Manuscript"
         ],
         "xaxis": "x",
         "y": [
          11,
          7,
          4,
          6
         ],
         "yaxis": "y"
        },
        {
         "alignmentgroup": "True",
         "hovertemplate": "Date of Publication=1749<br>Material type=%{x}<br>counts=%{y}<extra></extra>",
         "legendgroup": "1749",
         "marker": {
          "color": "#00cc96",
          "pattern": {
           "shape": ""
          }
         },
         "name": "1749",
         "offsetgroup": "1749",
         "orientation": "v",
         "showlegend": true,
         "textposition": "auto",
         "type": "bar",
         "x": [
          "Book",
          "Cartographic material",
          "Iconographic material",
          "Manuscript"
         ],
         "xaxis": "x",
         "y": [
          23,
          2,
          12,
          3
         ],
         "yaxis": "y"
        },
        {
         "alignmentgroup": "True",
         "hovertemplate": "Date of Publication=175 <br>Material type=%{x}<br>counts=%{y}<extra></extra>",
         "legendgroup": "175 ",
         "marker": {
          "color": "#ab63fa",
          "pattern": {
           "shape": ""
          }
         },
         "name": "175 ",
         "offsetgroup": "175 ",
         "orientation": "v",
         "showlegend": true,
         "textposition": "auto",
         "type": "bar",
         "x": [
          "Book",
          "Iconographic material"
         ],
         "xaxis": "x",
         "y": [
          1,
          2
         ],
         "yaxis": "y"
        },
        {
         "alignmentgroup": "True",
         "hovertemplate": "Date of Publication=1750<br>Material type=%{x}<br>counts=%{y}<extra></extra>",
         "legendgroup": "1750",
         "marker": {
          "color": "#FFA15A",
          "pattern": {
           "shape": ""
          }
         },
         "name": "1750",
         "offsetgroup": "1750",
         "orientation": "v",
         "showlegend": true,
         "textposition": "auto",
         "type": "bar",
         "x": [
          "Book",
          "Cartographic material",
          "Iconographic material",
          "Manuscript",
          "Notated music"
         ],
         "xaxis": "x",
         "y": [
          47,
          58,
          215,
          14,
          10
         ],
         "yaxis": "y"
        },
        {
         "alignmentgroup": "True",
         "hovertemplate": "Date of Publication=1751<br>Material type=%{x}<br>counts=%{y}<extra></extra>",
         "legendgroup": "1751",
         "marker": {
          "color": "#19d3f3",
          "pattern": {
           "shape": ""
          }
         },
         "name": "1751",
         "offsetgroup": "1751",
         "orientation": "v",
         "showlegend": true,
         "textposition": "auto",
         "type": "bar",
         "x": [
          "Book",
          "Cartographic material",
          "Iconographic material",
          "Manuscript"
         ],
         "xaxis": "x",
         "y": [
          27,
          3,
          4,
          27
         ],
         "yaxis": "y"
        },
        {
         "alignmentgroup": "True",
         "hovertemplate": "Date of Publication=1752<br>Material type=%{x}<br>counts=%{y}<extra></extra>",
         "legendgroup": "1752",
         "marker": {
          "color": "#FF6692",
          "pattern": {
           "shape": ""
          }
         },
         "name": "1752",
         "offsetgroup": "1752",
         "orientation": "v",
         "showlegend": true,
         "textposition": "auto",
         "type": "bar",
         "x": [
          "Book",
          "Cartographic material",
          "Iconographic material",
          "Manuscript",
          "Periodical"
         ],
         "xaxis": "x",
         "y": [
          30,
          11,
          7,
          32,
          1
         ],
         "yaxis": "y"
        },
        {
         "alignmentgroup": "True",
         "hovertemplate": "Date of Publication=1753<br>Material type=%{x}<br>counts=%{y}<extra></extra>",
         "legendgroup": "1753",
         "marker": {
          "color": "#B6E880",
          "pattern": {
           "shape": ""
          }
         },
         "name": "1753",
         "offsetgroup": "1753",
         "orientation": "v",
         "showlegend": true,
         "textposition": "auto",
         "type": "bar",
         "x": [
          "Book",
          "Cartographic material",
          "Iconographic material",
          "Manuscript"
         ],
         "xaxis": "x",
         "y": [
          26,
          11,
          1,
          16
         ],
         "yaxis": "y"
        },
        {
         "alignmentgroup": "True",
         "hovertemplate": "Date of Publication=1754<br>Material type=%{x}<br>counts=%{y}<extra></extra>",
         "legendgroup": "1754",
         "marker": {
          "color": "#FF97FF",
          "pattern": {
           "shape": ""
          }
         },
         "name": "1754",
         "offsetgroup": "1754",
         "orientation": "v",
         "showlegend": true,
         "textposition": "auto",
         "type": "bar",
         "x": [
          "Book",
          "Cartographic material",
          "Iconographic material",
          "Manuscript"
         ],
         "xaxis": "x",
         "y": [
          24,
          10,
          5,
          21
         ],
         "yaxis": "y"
        },
        {
         "alignmentgroup": "True",
         "hovertemplate": "Date of Publication=1755<br>Material type=%{x}<br>counts=%{y}<extra></extra>",
         "legendgroup": "1755",
         "marker": {
          "color": "#FECB52",
          "pattern": {
           "shape": ""
          }
         },
         "name": "1755",
         "offsetgroup": "1755",
         "orientation": "v",
         "showlegend": true,
         "textposition": "auto",
         "type": "bar",
         "x": [
          "Book",
          "Cartographic material",
          "Iconographic material",
          "Manuscript",
          "Notated music"
         ],
         "xaxis": "x",
         "y": [
          18,
          9,
          35,
          4,
          1
         ],
         "yaxis": "y"
        },
        {
         "alignmentgroup": "True",
         "hovertemplate": "Date of Publication=1756<br>Material type=%{x}<br>counts=%{y}<extra></extra>",
         "legendgroup": "1756",
         "marker": {
          "color": "#636efa",
          "pattern": {
           "shape": ""
          }
         },
         "name": "1756",
         "offsetgroup": "1756",
         "orientation": "v",
         "showlegend": true,
         "textposition": "auto",
         "type": "bar",
         "x": [
          "Book",
          "Cartographic material",
          "Iconographic material",
          "Manuscript"
         ],
         "xaxis": "x",
         "y": [
          17,
          13,
          15,
          9
         ],
         "yaxis": "y"
        },
        {
         "alignmentgroup": "True",
         "hovertemplate": "Date of Publication=1757<br>Material type=%{x}<br>counts=%{y}<extra></extra>",
         "legendgroup": "1757",
         "marker": {
          "color": "#EF553B",
          "pattern": {
           "shape": ""
          }
         },
         "name": "1757",
         "offsetgroup": "1757",
         "orientation": "v",
         "showlegend": true,
         "textposition": "auto",
         "type": "bar",
         "x": [
          "Book",
          "Cartographic material",
          "Iconographic material",
          "Manuscript"
         ],
         "xaxis": "x",
         "y": [
          53,
          5,
          6,
          36
         ],
         "yaxis": "y"
        },
        {
         "alignmentgroup": "True",
         "hovertemplate": "Date of Publication=1758<br>Material type=%{x}<br>counts=%{y}<extra></extra>",
         "legendgroup": "1758",
         "marker": {
          "color": "#00cc96",
          "pattern": {
           "shape": ""
          }
         },
         "name": "1758",
         "offsetgroup": "1758",
         "orientation": "v",
         "showlegend": true,
         "textposition": "auto",
         "type": "bar",
         "x": [
          "Book",
          "Cartographic material",
          "Iconographic material",
          "Manuscript",
          "Notated music"
         ],
         "xaxis": "x",
         "y": [
          32,
          4,
          13,
          3,
          1
         ],
         "yaxis": "y"
        },
        {
         "alignmentgroup": "True",
         "hovertemplate": "Date of Publication=1759<br>Material type=%{x}<br>counts=%{y}<extra></extra>",
         "legendgroup": "1759",
         "marker": {
          "color": "#ab63fa",
          "pattern": {
           "shape": ""
          }
         },
         "name": "1759",
         "offsetgroup": "1759",
         "orientation": "v",
         "showlegend": true,
         "textposition": "auto",
         "type": "bar",
         "x": [
          "Book",
          "Iconographic material",
          "Manuscript",
          "Notated music"
         ],
         "xaxis": "x",
         "y": [
          40,
          15,
          7,
          1
         ],
         "yaxis": "y"
        },
        {
         "alignmentgroup": "True",
         "hovertemplate": "Date of Publication=1760<br>Material type=%{x}<br>counts=%{y}<extra></extra>",
         "legendgroup": "1760",
         "marker": {
          "color": "#FFA15A",
          "pattern": {
           "shape": ""
          }
         },
         "name": "1760",
         "offsetgroup": "1760",
         "orientation": "v",
         "showlegend": true,
         "textposition": "auto",
         "type": "bar",
         "x": [
          "Book",
          "Cartographic material",
          "Iconographic material",
          "Manuscript",
          "Notated music"
         ],
         "xaxis": "x",
         "y": [
          27,
          7,
          69,
          8,
          10
         ],
         "yaxis": "y"
        },
        {
         "alignmentgroup": "True",
         "hovertemplate": "Date of Publication=1761<br>Material type=%{x}<br>counts=%{y}<extra></extra>",
         "legendgroup": "1761",
         "marker": {
          "color": "#19d3f3",
          "pattern": {
           "shape": ""
          }
         },
         "name": "1761",
         "offsetgroup": "1761",
         "orientation": "v",
         "showlegend": true,
         "textposition": "auto",
         "type": "bar",
         "x": [
          "Book",
          "Cartographic material",
          "Iconographic material",
          "Manuscript"
         ],
         "xaxis": "x",
         "y": [
          27,
          2,
          9,
          6
         ],
         "yaxis": "y"
        },
        {
         "alignmentgroup": "True",
         "hovertemplate": "Date of Publication=1762<br>Material type=%{x}<br>counts=%{y}<extra></extra>",
         "legendgroup": "1762",
         "marker": {
          "color": "#FF6692",
          "pattern": {
           "shape": ""
          }
         },
         "name": "1762",
         "offsetgroup": "1762",
         "orientation": "v",
         "showlegend": true,
         "textposition": "auto",
         "type": "bar",
         "x": [
          "Book",
          "Cartographic material",
          "Iconographic material",
          "Manuscript",
          "Notated music"
         ],
         "xaxis": "x",
         "y": [
          13,
          10,
          5,
          3,
          2
         ],
         "yaxis": "y"
        },
        {
         "alignmentgroup": "True",
         "hovertemplate": "Date of Publication=1763<br>Material type=%{x}<br>counts=%{y}<extra></extra>",
         "legendgroup": "1763",
         "marker": {
          "color": "#B6E880",
          "pattern": {
           "shape": ""
          }
         },
         "name": "1763",
         "offsetgroup": "1763",
         "orientation": "v",
         "showlegend": true,
         "textposition": "auto",
         "type": "bar",
         "x": [
          "Book",
          "Cartographic material",
          "Iconographic material",
          "Manuscript"
         ],
         "xaxis": "x",
         "y": [
          8,
          3,
          7,
          20
         ],
         "yaxis": "y"
        },
        {
         "alignmentgroup": "True",
         "hovertemplate": "Date of Publication=1764<br>Material type=%{x}<br>counts=%{y}<extra></extra>",
         "legendgroup": "1764",
         "marker": {
          "color": "#FF97FF",
          "pattern": {
           "shape": ""
          }
         },
         "name": "1764",
         "offsetgroup": "1764",
         "orientation": "v",
         "showlegend": true,
         "textposition": "auto",
         "type": "bar",
         "x": [
          "Book",
          "Cartographic material",
          "Iconographic material",
          "Manuscript",
          "Notated music"
         ],
         "xaxis": "x",
         "y": [
          14,
          6,
          6,
          28,
          2
         ],
         "yaxis": "y"
        },
        {
         "alignmentgroup": "True",
         "hovertemplate": "Date of Publication=1765<br>Material type=%{x}<br>counts=%{y}<extra></extra>",
         "legendgroup": "1765",
         "marker": {
          "color": "#FECB52",
          "pattern": {
           "shape": ""
          }
         },
         "name": "1765",
         "offsetgroup": "1765",
         "orientation": "v",
         "showlegend": true,
         "textposition": "auto",
         "type": "bar",
         "x": [
          "Book",
          "Cartographic material",
          "Iconographic material",
          "Manuscript"
         ],
         "xaxis": "x",
         "y": [
          8,
          4,
          43,
          10
         ],
         "yaxis": "y"
        },
        {
         "alignmentgroup": "True",
         "hovertemplate": "Date of Publication=1766<br>Material type=%{x}<br>counts=%{y}<extra></extra>",
         "legendgroup": "1766",
         "marker": {
          "color": "#636efa",
          "pattern": {
           "shape": ""
          }
         },
         "name": "1766",
         "offsetgroup": "1766",
         "orientation": "v",
         "showlegend": true,
         "textposition": "auto",
         "type": "bar",
         "x": [
          "Book",
          "Cartographic material",
          "Iconographic material",
          "Manuscript"
         ],
         "xaxis": "x",
         "y": [
          7,
          4,
          7,
          2
         ],
         "yaxis": "y"
        },
        {
         "alignmentgroup": "True",
         "hovertemplate": "Date of Publication=1767<br>Material type=%{x}<br>counts=%{y}<extra></extra>",
         "legendgroup": "1767",
         "marker": {
          "color": "#EF553B",
          "pattern": {
           "shape": ""
          }
         },
         "name": "1767",
         "offsetgroup": "1767",
         "orientation": "v",
         "showlegend": true,
         "textposition": "auto",
         "type": "bar",
         "x": [
          "Book",
          "Cartographic material",
          "Iconographic material",
          "Manuscript",
          "Notated music"
         ],
         "xaxis": "x",
         "y": [
          9,
          1,
          6,
          5,
          1
         ],
         "yaxis": "y"
        },
        {
         "alignmentgroup": "True",
         "hovertemplate": "Date of Publication=1768<br>Material type=%{x}<br>counts=%{y}<extra></extra>",
         "legendgroup": "1768",
         "marker": {
          "color": "#00cc96",
          "pattern": {
           "shape": ""
          }
         },
         "name": "1768",
         "offsetgroup": "1768",
         "orientation": "v",
         "showlegend": true,
         "textposition": "auto",
         "type": "bar",
         "x": [
          "Book",
          "Cartographic material",
          "Iconographic material",
          "Manuscript",
          "Notated music"
         ],
         "xaxis": "x",
         "y": [
          14,
          3,
          4,
          12,
          1
         ],
         "yaxis": "y"
        },
        {
         "alignmentgroup": "True",
         "hovertemplate": "Date of Publication=1769<br>Material type=%{x}<br>counts=%{y}<extra></extra>",
         "legendgroup": "1769",
         "marker": {
          "color": "#ab63fa",
          "pattern": {
           "shape": ""
          }
         },
         "name": "1769",
         "offsetgroup": "1769",
         "orientation": "v",
         "showlegend": true,
         "textposition": "auto",
         "type": "bar",
         "x": [
          "Book",
          "Cartographic material",
          "Iconographic material",
          "Manuscript",
          "Notated music"
         ],
         "xaxis": "x",
         "y": [
          12,
          3,
          5,
          7,
          5
         ],
         "yaxis": "y"
        },
        {
         "alignmentgroup": "True",
         "hovertemplate": "Date of Publication=1770<br>Material type=%{x}<br>counts=%{y}<extra></extra>",
         "legendgroup": "1770",
         "marker": {
          "color": "#FFA15A",
          "pattern": {
           "shape": ""
          }
         },
         "name": "1770",
         "offsetgroup": "1770",
         "orientation": "v",
         "showlegend": true,
         "textposition": "auto",
         "type": "bar",
         "x": [
          "Book",
          "Cartographic material",
          "Iconographic material",
          "Manuscript",
          "Notated music"
         ],
         "xaxis": "x",
         "y": [
          14,
          7,
          65,
          7,
          13
         ],
         "yaxis": "y"
        },
        {
         "alignmentgroup": "True",
         "hovertemplate": "Date of Publication=1771<br>Material type=%{x}<br>counts=%{y}<extra></extra>",
         "legendgroup": "1771",
         "marker": {
          "color": "#19d3f3",
          "pattern": {
           "shape": ""
          }
         },
         "name": "1771",
         "offsetgroup": "1771",
         "orientation": "v",
         "showlegend": true,
         "textposition": "auto",
         "type": "bar",
         "x": [
          "Book",
          "Cartographic material",
          "Iconographic material",
          "Manuscript",
          "Notated music"
         ],
         "xaxis": "x",
         "y": [
          10,
          5,
          10,
          8,
          1
         ],
         "yaxis": "y"
        },
        {
         "alignmentgroup": "True",
         "hovertemplate": "Date of Publication=1772<br>Material type=%{x}<br>counts=%{y}<extra></extra>",
         "legendgroup": "1772",
         "marker": {
          "color": "#FF6692",
          "pattern": {
           "shape": ""
          }
         },
         "name": "1772",
         "offsetgroup": "1772",
         "orientation": "v",
         "showlegend": true,
         "textposition": "auto",
         "type": "bar",
         "x": [
          "Book",
          "Cartographic material",
          "Iconographic material",
          "Notated music"
         ],
         "xaxis": "x",
         "y": [
          7,
          2,
          4,
          2
         ],
         "yaxis": "y"
        },
        {
         "alignmentgroup": "True",
         "hovertemplate": "Date of Publication=1773<br>Material type=%{x}<br>counts=%{y}<extra></extra>",
         "legendgroup": "1773",
         "marker": {
          "color": "#B6E880",
          "pattern": {
           "shape": ""
          }
         },
         "name": "1773",
         "offsetgroup": "1773",
         "orientation": "v",
         "showlegend": true,
         "textposition": "auto",
         "type": "bar",
         "x": [
          "Book",
          "Cartographic material",
          "Iconographic material",
          "Manuscript",
          "Notated music"
         ],
         "xaxis": "x",
         "y": [
          5,
          5,
          7,
          4,
          1
         ],
         "yaxis": "y"
        },
        {
         "alignmentgroup": "True",
         "hovertemplate": "Date of Publication=1774<br>Material type=%{x}<br>counts=%{y}<extra></extra>",
         "legendgroup": "1774",
         "marker": {
          "color": "#FF97FF",
          "pattern": {
           "shape": ""
          }
         },
         "name": "1774",
         "offsetgroup": "1774",
         "orientation": "v",
         "showlegend": true,
         "textposition": "auto",
         "type": "bar",
         "x": [
          "Book",
          "Cartographic material",
          "Iconographic material",
          "Manuscript"
         ],
         "xaxis": "x",
         "y": [
          7,
          5,
          6,
          7
         ],
         "yaxis": "y"
        },
        {
         "alignmentgroup": "True",
         "hovertemplate": "Date of Publication=1775<br>Material type=%{x}<br>counts=%{y}<extra></extra>",
         "legendgroup": "1775",
         "marker": {
          "color": "#FECB52",
          "pattern": {
           "shape": ""
          }
         },
         "name": "1775",
         "offsetgroup": "1775",
         "orientation": "v",
         "showlegend": true,
         "textposition": "auto",
         "type": "bar",
         "x": [
          "Book",
          "Cartographic material",
          "Iconographic material",
          "Manuscript",
          "Notated music"
         ],
         "xaxis": "x",
         "y": [
          21,
          39,
          87,
          17,
          35
         ],
         "yaxis": "y"
        },
        {
         "alignmentgroup": "True",
         "hovertemplate": "Date of Publication=1776<br>Material type=%{x}<br>counts=%{y}<extra></extra>",
         "legendgroup": "1776",
         "marker": {
          "color": "#636efa",
          "pattern": {
           "shape": ""
          }
         },
         "name": "1776",
         "offsetgroup": "1776",
         "orientation": "v",
         "showlegend": true,
         "textposition": "auto",
         "type": "bar",
         "x": [
          "Book",
          "Cartographic material",
          "Iconographic material",
          "Manuscript"
         ],
         "xaxis": "x",
         "y": [
          14,
          8,
          4,
          10
         ],
         "yaxis": "y"
        },
        {
         "alignmentgroup": "True",
         "hovertemplate": "Date of Publication=1777<br>Material type=%{x}<br>counts=%{y}<extra></extra>",
         "legendgroup": "1777",
         "marker": {
          "color": "#EF553B",
          "pattern": {
           "shape": ""
          }
         },
         "name": "1777",
         "offsetgroup": "1777",
         "orientation": "v",
         "showlegend": true,
         "textposition": "auto",
         "type": "bar",
         "x": [
          "Book",
          "Cartographic material",
          "Iconographic material",
          "Manuscript"
         ],
         "xaxis": "x",
         "y": [
          28,
          8,
          8,
          11
         ],
         "yaxis": "y"
        },
        {
         "alignmentgroup": "True",
         "hovertemplate": "Date of Publication=1778<br>Material type=%{x}<br>counts=%{y}<extra></extra>",
         "legendgroup": "1778",
         "marker": {
          "color": "#00cc96",
          "pattern": {
           "shape": ""
          }
         },
         "name": "1778",
         "offsetgroup": "1778",
         "orientation": "v",
         "showlegend": true,
         "textposition": "auto",
         "type": "bar",
         "x": [
          "Book",
          "Cartographic material",
          "Iconographic material",
          "Manuscript",
          "Notated music"
         ],
         "xaxis": "x",
         "y": [
          13,
          7,
          13,
          7,
          1
         ],
         "yaxis": "y"
        },
        {
         "alignmentgroup": "True",
         "hovertemplate": "Date of Publication=1779<br>Material type=%{x}<br>counts=%{y}<extra></extra>",
         "legendgroup": "1779",
         "marker": {
          "color": "#ab63fa",
          "pattern": {
           "shape": ""
          }
         },
         "name": "1779",
         "offsetgroup": "1779",
         "orientation": "v",
         "showlegend": true,
         "textposition": "auto",
         "type": "bar",
         "x": [
          "Book",
          "Cartographic material",
          "Iconographic material",
          "Manuscript",
          "Notated music",
          "Periodical"
         ],
         "xaxis": "x",
         "y": [
          7,
          7,
          7,
          3,
          3,
          1
         ],
         "yaxis": "y"
        },
        {
         "alignmentgroup": "True",
         "hovertemplate": "Date of Publication=1780<br>Material type=%{x}<br>counts=%{y}<extra></extra>",
         "legendgroup": "1780",
         "marker": {
          "color": "#FFA15A",
          "pattern": {
           "shape": ""
          }
         },
         "name": "1780",
         "offsetgroup": "1780",
         "orientation": "v",
         "showlegend": true,
         "textposition": "auto",
         "type": "bar",
         "x": [
          "Book",
          "Cartographic material",
          "Iconographic material",
          "Manuscript",
          "Notated music"
         ],
         "xaxis": "x",
         "y": [
          9,
          9,
          60,
          7,
          15
         ],
         "yaxis": "y"
        },
        {
         "alignmentgroup": "True",
         "hovertemplate": "Date of Publication=1781<br>Material type=%{x}<br>counts=%{y}<extra></extra>",
         "legendgroup": "1781",
         "marker": {
          "color": "#19d3f3",
          "pattern": {
           "shape": ""
          }
         },
         "name": "1781",
         "offsetgroup": "1781",
         "orientation": "v",
         "showlegend": true,
         "textposition": "auto",
         "type": "bar",
         "x": [
          "Book",
          "Cartographic material",
          "Iconographic material",
          "Manuscript",
          "Notated music"
         ],
         "xaxis": "x",
         "y": [
          15,
          7,
          6,
          4,
          1
         ],
         "yaxis": "y"
        },
        {
         "alignmentgroup": "True",
         "hovertemplate": "Date of Publication=1782<br>Material type=%{x}<br>counts=%{y}<extra></extra>",
         "legendgroup": "1782",
         "marker": {
          "color": "#FF6692",
          "pattern": {
           "shape": ""
          }
         },
         "name": "1782",
         "offsetgroup": "1782",
         "orientation": "v",
         "showlegend": true,
         "textposition": "auto",
         "type": "bar",
         "x": [
          "Book",
          "Cartographic material",
          "Iconographic material",
          "Manuscript",
          "Notated music"
         ],
         "xaxis": "x",
         "y": [
          4,
          5,
          4,
          19,
          2
         ],
         "yaxis": "y"
        },
        {
         "alignmentgroup": "True",
         "hovertemplate": "Date of Publication=1783<br>Material type=%{x}<br>counts=%{y}<extra></extra>",
         "legendgroup": "1783",
         "marker": {
          "color": "#B6E880",
          "pattern": {
           "shape": ""
          }
         },
         "name": "1783",
         "offsetgroup": "1783",
         "orientation": "v",
         "showlegend": true,
         "textposition": "auto",
         "type": "bar",
         "x": [
          "Book",
          "Cartographic material",
          "Iconographic material",
          "Manuscript"
         ],
         "xaxis": "x",
         "y": [
          14,
          5,
          19,
          41
         ],
         "yaxis": "y"
        },
        {
         "alignmentgroup": "True",
         "hovertemplate": "Date of Publication=1784<br>Material type=%{x}<br>counts=%{y}<extra></extra>",
         "legendgroup": "1784",
         "marker": {
          "color": "#FF97FF",
          "pattern": {
           "shape": ""
          }
         },
         "name": "1784",
         "offsetgroup": "1784",
         "orientation": "v",
         "showlegend": true,
         "textposition": "auto",
         "type": "bar",
         "x": [
          "Book",
          "Cartographic material",
          "Iconographic material",
          "Manuscript",
          "Notated music"
         ],
         "xaxis": "x",
         "y": [
          16,
          18,
          6,
          35,
          1
         ],
         "yaxis": "y"
        },
        {
         "alignmentgroup": "True",
         "hovertemplate": "Date of Publication=1785<br>Material type=%{x}<br>counts=%{y}<extra></extra>",
         "legendgroup": "1785",
         "marker": {
          "color": "#FECB52",
          "pattern": {
           "shape": ""
          }
         },
         "name": "1785",
         "offsetgroup": "1785",
         "orientation": "v",
         "showlegend": true,
         "textposition": "auto",
         "type": "bar",
         "x": [
          "Book",
          "Cartographic material",
          "Iconographic material",
          "Manuscript",
          "Notated music"
         ],
         "xaxis": "x",
         "y": [
          22,
          7,
          25,
          5,
          2
         ],
         "yaxis": "y"
        },
        {
         "alignmentgroup": "True",
         "hovertemplate": "Date of Publication=1786<br>Material type=%{x}<br>counts=%{y}<extra></extra>",
         "legendgroup": "1786",
         "marker": {
          "color": "#636efa",
          "pattern": {
           "shape": ""
          }
         },
         "name": "1786",
         "offsetgroup": "1786",
         "orientation": "v",
         "showlegend": true,
         "textposition": "auto",
         "type": "bar",
         "x": [
          "Book",
          "Cartographic material",
          "Iconographic material",
          "Manuscript",
          "Notated music"
         ],
         "xaxis": "x",
         "y": [
          12,
          7,
          10,
          10,
          1
         ],
         "yaxis": "y"
        },
        {
         "alignmentgroup": "True",
         "hovertemplate": "Date of Publication=1787<br>Material type=%{x}<br>counts=%{y}<extra></extra>",
         "legendgroup": "1787",
         "marker": {
          "color": "#EF553B",
          "pattern": {
           "shape": ""
          }
         },
         "name": "1787",
         "offsetgroup": "1787",
         "orientation": "v",
         "showlegend": true,
         "textposition": "auto",
         "type": "bar",
         "x": [
          "Book",
          "Cartographic material",
          "Iconographic material",
          "Manuscript",
          "Notated music"
         ],
         "xaxis": "x",
         "y": [
          13,
          10,
          6,
          3,
          2
         ],
         "yaxis": "y"
        },
        {
         "alignmentgroup": "True",
         "hovertemplate": "Date of Publication=1788<br>Material type=%{x}<br>counts=%{y}<extra></extra>",
         "legendgroup": "1788",
         "marker": {
          "color": "#00cc96",
          "pattern": {
           "shape": ""
          }
         },
         "name": "1788",
         "offsetgroup": "1788",
         "orientation": "v",
         "showlegend": true,
         "textposition": "auto",
         "type": "bar",
         "x": [
          "Book",
          "Cartographic material",
          "Iconographic material",
          "Manuscript",
          "Notated music"
         ],
         "xaxis": "x",
         "y": [
          11,
          13,
          10,
          14,
          2
         ],
         "yaxis": "y"
        },
        {
         "alignmentgroup": "True",
         "hovertemplate": "Date of Publication=1789<br>Material type=%{x}<br>counts=%{y}<extra></extra>",
         "legendgroup": "1789",
         "marker": {
          "color": "#ab63fa",
          "pattern": {
           "shape": ""
          }
         },
         "name": "1789",
         "offsetgroup": "1789",
         "orientation": "v",
         "showlegend": true,
         "textposition": "auto",
         "type": "bar",
         "x": [
          "Book",
          "Cartographic material",
          "Iconographic material",
          "Manuscript",
          "Notated music"
         ],
         "xaxis": "x",
         "y": [
          24,
          16,
          11,
          10,
          4
         ],
         "yaxis": "y"
        },
        {
         "alignmentgroup": "True",
         "hovertemplate": "Date of Publication=1790<br>Material type=%{x}<br>counts=%{y}<extra></extra>",
         "legendgroup": "1790",
         "marker": {
          "color": "#FFA15A",
          "pattern": {
           "shape": ""
          }
         },
         "name": "1790",
         "offsetgroup": "1790",
         "orientation": "v",
         "showlegend": true,
         "textposition": "auto",
         "type": "bar",
         "x": [
          "Book",
          "Cartographic material",
          "Iconographic material",
          "Manuscript",
          "Notated music"
         ],
         "xaxis": "x",
         "y": [
          32,
          30,
          154,
          16,
          26
         ],
         "yaxis": "y"
        },
        {
         "alignmentgroup": "True",
         "hovertemplate": "Date of Publication=1791<br>Material type=%{x}<br>counts=%{y}<extra></extra>",
         "legendgroup": "1791",
         "marker": {
          "color": "#19d3f3",
          "pattern": {
           "shape": ""
          }
         },
         "name": "1791",
         "offsetgroup": "1791",
         "orientation": "v",
         "showlegend": true,
         "textposition": "auto",
         "type": "bar",
         "x": [
          "Book",
          "Cartographic material",
          "Iconographic material",
          "Manuscript",
          "Notated music"
         ],
         "xaxis": "x",
         "y": [
          13,
          6,
          10,
          18,
          2
         ],
         "yaxis": "y"
        },
        {
         "alignmentgroup": "True",
         "hovertemplate": "Date of Publication=1792<br>Material type=%{x}<br>counts=%{y}<extra></extra>",
         "legendgroup": "1792",
         "marker": {
          "color": "#FF6692",
          "pattern": {
           "shape": ""
          }
         },
         "name": "1792",
         "offsetgroup": "1792",
         "orientation": "v",
         "showlegend": true,
         "textposition": "auto",
         "type": "bar",
         "x": [
          "Book",
          "Cartographic material",
          "Iconographic material",
          "Manuscript",
          "Notated music",
          "Periodical"
         ],
         "xaxis": "x",
         "y": [
          9,
          7,
          5,
          10,
          11,
          1
         ],
         "yaxis": "y"
        },
        {
         "alignmentgroup": "True",
         "hovertemplate": "Date of Publication=1793<br>Material type=%{x}<br>counts=%{y}<extra></extra>",
         "legendgroup": "1793",
         "marker": {
          "color": "#B6E880",
          "pattern": {
           "shape": ""
          }
         },
         "name": "1793",
         "offsetgroup": "1793",
         "orientation": "v",
         "showlegend": true,
         "textposition": "auto",
         "type": "bar",
         "x": [
          "Book",
          "Cartographic material",
          "Iconographic material",
          "Manuscript",
          "Notated music"
         ],
         "xaxis": "x",
         "y": [
          33,
          5,
          10,
          22,
          24
         ],
         "yaxis": "y"
        },
        {
         "alignmentgroup": "True",
         "hovertemplate": "Date of Publication=1794<br>Material type=%{x}<br>counts=%{y}<extra></extra>",
         "legendgroup": "1794",
         "marker": {
          "color": "#FF97FF",
          "pattern": {
           "shape": ""
          }
         },
         "name": "1794",
         "offsetgroup": "1794",
         "orientation": "v",
         "showlegend": true,
         "textposition": "auto",
         "type": "bar",
         "x": [
          "Book",
          "Cartographic material",
          "Iconographic material",
          "Manuscript",
          "Notated music"
         ],
         "xaxis": "x",
         "y": [
          14,
          18,
          5,
          5,
          29
         ],
         "yaxis": "y"
        },
        {
         "alignmentgroup": "True",
         "hovertemplate": "Date of Publication=1795<br>Material type=%{x}<br>counts=%{y}<extra></extra>",
         "legendgroup": "1795",
         "marker": {
          "color": "#FECB52",
          "pattern": {
           "shape": ""
          }
         },
         "name": "1795",
         "offsetgroup": "1795",
         "orientation": "v",
         "showlegend": true,
         "textposition": "auto",
         "type": "bar",
         "x": [
          "Book",
          "Cartographic material",
          "Iconographic material",
          "Manuscript",
          "Notated music"
         ],
         "xaxis": "x",
         "y": [
          10,
          12,
          18,
          24,
          36
         ],
         "yaxis": "y"
        },
        {
         "alignmentgroup": "True",
         "hovertemplate": "Date of Publication=1796<br>Material type=%{x}<br>counts=%{y}<extra></extra>",
         "legendgroup": "1796",
         "marker": {
          "color": "#636efa",
          "pattern": {
           "shape": ""
          }
         },
         "name": "1796",
         "offsetgroup": "1796",
         "orientation": "v",
         "showlegend": true,
         "textposition": "auto",
         "type": "bar",
         "x": [
          "Book",
          "Cartographic material",
          "Iconographic material",
          "Manuscript",
          "Notated music"
         ],
         "xaxis": "x",
         "y": [
          4,
          3,
          14,
          35,
          1
         ],
         "yaxis": "y"
        },
        {
         "alignmentgroup": "True",
         "hovertemplate": "Date of Publication=1797<br>Material type=%{x}<br>counts=%{y}<extra></extra>",
         "legendgroup": "1797",
         "marker": {
          "color": "#EF553B",
          "pattern": {
           "shape": ""
          }
         },
         "name": "1797",
         "offsetgroup": "1797",
         "orientation": "v",
         "showlegend": true,
         "textposition": "auto",
         "type": "bar",
         "x": [
          "Book",
          "Cartographic material",
          "Iconographic material",
          "Manuscript",
          "Notated music"
         ],
         "xaxis": "x",
         "y": [
          9,
          3,
          20,
          16,
          1
         ],
         "yaxis": "y"
        },
        {
         "alignmentgroup": "True",
         "hovertemplate": "Date of Publication=1798<br>Material type=%{x}<br>counts=%{y}<extra></extra>",
         "legendgroup": "1798",
         "marker": {
          "color": "#00cc96",
          "pattern": {
           "shape": ""
          }
         },
         "name": "1798",
         "offsetgroup": "1798",
         "orientation": "v",
         "showlegend": true,
         "textposition": "auto",
         "type": "bar",
         "x": [
          "Book",
          "Cartographic material",
          "Iconographic material",
          "Manuscript",
          "Notated music"
         ],
         "xaxis": "x",
         "y": [
          14,
          3,
          12,
          8,
          4
         ],
         "yaxis": "y"
        },
        {
         "alignmentgroup": "True",
         "hovertemplate": "Date of Publication=1799<br>Material type=%{x}<br>counts=%{y}<extra></extra>",
         "legendgroup": "1799",
         "marker": {
          "color": "#ab63fa",
          "pattern": {
           "shape": ""
          }
         },
         "name": "1799",
         "offsetgroup": "1799",
         "orientation": "v",
         "showlegend": true,
         "textposition": "auto",
         "type": "bar",
         "x": [
          "Book",
          "Cartographic material",
          "Iconographic material",
          "Manuscript",
          "Notated music"
         ],
         "xaxis": "x",
         "y": [
          17,
          8,
          17,
          2,
          1
         ],
         "yaxis": "y"
        },
        {
         "alignmentgroup": "True",
         "hovertemplate": "Date of Publication=18  <br>Material type=%{x}<br>counts=%{y}<extra></extra>",
         "legendgroup": "18  ",
         "marker": {
          "color": "#FFA15A",
          "pattern": {
           "shape": ""
          }
         },
         "name": "18  ",
         "offsetgroup": "18  ",
         "orientation": "v",
         "showlegend": true,
         "textposition": "auto",
         "type": "bar",
         "x": [
          "Book",
          "Cartographic material",
          "Iconographic material",
          "Manuscript",
          "Notated music",
          "Periodical"
         ],
         "xaxis": "x",
         "y": [
          30,
          7,
          10,
          9,
          24,
          2
         ],
         "yaxis": "y"
        },
        {
         "alignmentgroup": "True",
         "hovertemplate": "Date of Publication=180 <br>Material type=%{x}<br>counts=%{y}<extra></extra>",
         "legendgroup": "180 ",
         "marker": {
          "color": "#19d3f3",
          "pattern": {
           "shape": ""
          }
         },
         "name": "180 ",
         "offsetgroup": "180 ",
         "orientation": "v",
         "showlegend": true,
         "textposition": "auto",
         "type": "bar",
         "x": [
          "Book"
         ],
         "xaxis": "x",
         "y": [
          1
         ],
         "yaxis": "y"
        },
        {
         "alignmentgroup": "True",
         "hovertemplate": "Date of Publication=1800<br>Material type=%{x}<br>counts=%{y}<extra></extra>",
         "legendgroup": "1800",
         "marker": {
          "color": "#FF6692",
          "pattern": {
           "shape": ""
          }
         },
         "name": "1800",
         "offsetgroup": "1800",
         "orientation": "v",
         "showlegend": true,
         "textposition": "auto",
         "type": "bar",
         "x": [
          "Book",
          "Cartographic material",
          "Iconographic material",
          "Manuscript",
          "Notated music"
         ],
         "xaxis": "x",
         "y": [
          68,
          23,
          152,
          9,
          42
         ],
         "yaxis": "y"
        },
        {
         "alignmentgroup": "True",
         "hovertemplate": "Date of Publication=1801<br>Material type=%{x}<br>counts=%{y}<extra></extra>",
         "legendgroup": "1801",
         "marker": {
          "color": "#B6E880",
          "pattern": {
           "shape": ""
          }
         },
         "name": "1801",
         "offsetgroup": "1801",
         "orientation": "v",
         "showlegend": true,
         "textposition": "auto",
         "type": "bar",
         "x": [
          "Book",
          "Cartographic material",
          "Iconographic material",
          "Manuscript",
          "Notated music"
         ],
         "xaxis": "x",
         "y": [
          28,
          8,
          9,
          38,
          1
         ],
         "yaxis": "y"
        },
        {
         "alignmentgroup": "True",
         "hovertemplate": "Date of Publication=1802<br>Material type=%{x}<br>counts=%{y}<extra></extra>",
         "legendgroup": "1802",
         "marker": {
          "color": "#FF97FF",
          "pattern": {
           "shape": ""
          }
         },
         "name": "1802",
         "offsetgroup": "1802",
         "orientation": "v",
         "showlegend": true,
         "textposition": "auto",
         "type": "bar",
         "x": [
          "Book",
          "Cartographic material",
          "Iconographic material",
          "Manuscript",
          "Notated music",
          "Periodical"
         ],
         "xaxis": "x",
         "y": [
          6,
          7,
          8,
          3,
          3,
          1
         ],
         "yaxis": "y"
        },
        {
         "alignmentgroup": "True",
         "hovertemplate": "Date of Publication=1803<br>Material type=%{x}<br>counts=%{y}<extra></extra>",
         "legendgroup": "1803",
         "marker": {
          "color": "#FECB52",
          "pattern": {
           "shape": ""
          }
         },
         "name": "1803",
         "offsetgroup": "1803",
         "orientation": "v",
         "showlegend": true,
         "textposition": "auto",
         "type": "bar",
         "x": [
          "Book",
          "Iconographic material",
          "Manuscript",
          "Notated music"
         ],
         "xaxis": "x",
         "y": [
          13,
          3,
          2,
          6
         ],
         "yaxis": "y"
        },
        {
         "alignmentgroup": "True",
         "hovertemplate": "Date of Publication=1804<br>Material type=%{x}<br>counts=%{y}<extra></extra>",
         "legendgroup": "1804",
         "marker": {
          "color": "#636efa",
          "pattern": {
           "shape": ""
          }
         },
         "name": "1804",
         "offsetgroup": "1804",
         "orientation": "v",
         "showlegend": true,
         "textposition": "auto",
         "type": "bar",
         "x": [
          "Book",
          "Cartographic material",
          "Iconographic material",
          "Manuscript",
          "Notated music",
          "Periodical"
         ],
         "xaxis": "x",
         "y": [
          11,
          4,
          6,
          2,
          4,
          1
         ],
         "yaxis": "y"
        },
        {
         "alignmentgroup": "True",
         "hovertemplate": "Date of Publication=1805<br>Material type=%{x}<br>counts=%{y}<extra></extra>",
         "legendgroup": "1805",
         "marker": {
          "color": "#EF553B",
          "pattern": {
           "shape": ""
          }
         },
         "name": "1805",
         "offsetgroup": "1805",
         "orientation": "v",
         "showlegend": true,
         "textposition": "auto",
         "type": "bar",
         "x": [
          "Book",
          "Cartographic material",
          "Iconographic material",
          "Manuscript",
          "Notated music"
         ],
         "xaxis": "x",
         "y": [
          12,
          4,
          4,
          1,
          9
         ],
         "yaxis": "y"
        },
        {
         "alignmentgroup": "True",
         "hovertemplate": "Date of Publication=1806<br>Material type=%{x}<br>counts=%{y}<extra></extra>",
         "legendgroup": "1806",
         "marker": {
          "color": "#00cc96",
          "pattern": {
           "shape": ""
          }
         },
         "name": "1806",
         "offsetgroup": "1806",
         "orientation": "v",
         "showlegend": true,
         "textposition": "auto",
         "type": "bar",
         "x": [
          "Book",
          "Cartographic material",
          "Iconographic material",
          "Manuscript",
          "Notated music",
          "Periodical"
         ],
         "xaxis": "x",
         "y": [
          16,
          2,
          28,
          4,
          8,
          1
         ],
         "yaxis": "y"
        },
        {
         "alignmentgroup": "True",
         "hovertemplate": "Date of Publication=1807<br>Material type=%{x}<br>counts=%{y}<extra></extra>",
         "legendgroup": "1807",
         "marker": {
          "color": "#ab63fa",
          "pattern": {
           "shape": ""
          }
         },
         "name": "1807",
         "offsetgroup": "1807",
         "orientation": "v",
         "showlegend": true,
         "textposition": "auto",
         "type": "bar",
         "x": [
          "Book",
          "Cartographic material",
          "Iconographic material",
          "Periodical"
         ],
         "xaxis": "x",
         "y": [
          23,
          2,
          11,
          1
         ],
         "yaxis": "y"
        },
        {
         "alignmentgroup": "True",
         "hovertemplate": "Date of Publication=1808<br>Material type=%{x}<br>counts=%{y}<extra></extra>",
         "legendgroup": "1808",
         "marker": {
          "color": "#FFA15A",
          "pattern": {
           "shape": ""
          }
         },
         "name": "1808",
         "offsetgroup": "1808",
         "orientation": "v",
         "showlegend": true,
         "textposition": "auto",
         "type": "bar",
         "x": [
          "Book",
          "Cartographic material",
          "Iconographic material",
          "Manuscript",
          "Notated music"
         ],
         "xaxis": "x",
         "y": [
          61,
          9,
          8,
          5,
          3
         ],
         "yaxis": "y"
        },
        {
         "alignmentgroup": "True",
         "hovertemplate": "Date of Publication=1809<br>Material type=%{x}<br>counts=%{y}<extra></extra>",
         "legendgroup": "1809",
         "marker": {
          "color": "#19d3f3",
          "pattern": {
           "shape": ""
          }
         },
         "name": "1809",
         "offsetgroup": "1809",
         "orientation": "v",
         "showlegend": true,
         "textposition": "auto",
         "type": "bar",
         "x": [
          "Book",
          "Cartographic material",
          "Iconographic material",
          "Manuscript",
          "Notated music",
          "Periodical"
         ],
         "xaxis": "x",
         "y": [
          32,
          10,
          22,
          2,
          2,
          10
         ],
         "yaxis": "y"
        },
        {
         "alignmentgroup": "True",
         "hovertemplate": "Date of Publication=181 <br>Material type=%{x}<br>counts=%{y}<extra></extra>",
         "legendgroup": "181 ",
         "marker": {
          "color": "#FF6692",
          "pattern": {
           "shape": ""
          }
         },
         "name": "181 ",
         "offsetgroup": "181 ",
         "orientation": "v",
         "showlegend": true,
         "textposition": "auto",
         "type": "bar",
         "x": [
          "Book",
          "Iconographic material",
          "Notated music"
         ],
         "xaxis": "x",
         "y": [
          1,
          1,
          1
         ],
         "yaxis": "y"
        },
        {
         "alignmentgroup": "True",
         "hovertemplate": "Date of Publication=1810<br>Material type=%{x}<br>counts=%{y}<extra></extra>",
         "legendgroup": "1810",
         "marker": {
          "color": "#B6E880",
          "pattern": {
           "shape": ""
          }
         },
         "name": "1810",
         "offsetgroup": "1810",
         "orientation": "v",
         "showlegend": true,
         "textposition": "auto",
         "type": "bar",
         "x": [
          "Book",
          "Cartographic material",
          "Iconographic material",
          "Manuscript",
          "Notated music"
         ],
         "xaxis": "x",
         "y": [
          22,
          8,
          21,
          3,
          24
         ],
         "yaxis": "y"
        },
        {
         "alignmentgroup": "True",
         "hovertemplate": "Date of Publication=1811<br>Material type=%{x}<br>counts=%{y}<extra></extra>",
         "legendgroup": "1811",
         "marker": {
          "color": "#FF97FF",
          "pattern": {
           "shape": ""
          }
         },
         "name": "1811",
         "offsetgroup": "1811",
         "orientation": "v",
         "showlegend": true,
         "textposition": "auto",
         "type": "bar",
         "x": [
          "Book",
          "Cartographic material",
          "Iconographic material",
          "Manuscript",
          "Notated music",
          "Periodical"
         ],
         "xaxis": "x",
         "y": [
          22,
          10,
          26,
          4,
          5,
          3
         ],
         "yaxis": "y"
        },
        {
         "alignmentgroup": "True",
         "hovertemplate": "Date of Publication=1812<br>Material type=%{x}<br>counts=%{y}<extra></extra>",
         "legendgroup": "1812",
         "marker": {
          "color": "#FECB52",
          "pattern": {
           "shape": ""
          }
         },
         "name": "1812",
         "offsetgroup": "1812",
         "orientation": "v",
         "showlegend": true,
         "textposition": "auto",
         "type": "bar",
         "x": [
          "Book",
          "Cartographic material",
          "Iconographic material",
          "Manuscript",
          "Notated music",
          "Periodical"
         ],
         "xaxis": "x",
         "y": [
          25,
          10,
          10,
          5,
          2,
          1
         ],
         "yaxis": "y"
        },
        {
         "alignmentgroup": "True",
         "hovertemplate": "Date of Publication=1813<br>Material type=%{x}<br>counts=%{y}<extra></extra>",
         "legendgroup": "1813",
         "marker": {
          "color": "#636efa",
          "pattern": {
           "shape": ""
          }
         },
         "name": "1813",
         "offsetgroup": "1813",
         "orientation": "v",
         "showlegend": true,
         "textposition": "auto",
         "type": "bar",
         "x": [
          "Book",
          "Cartographic material",
          "Iconographic material",
          "Manuscript"
         ],
         "xaxis": "x",
         "y": [
          14,
          6,
          13,
          1
         ],
         "yaxis": "y"
        },
        {
         "alignmentgroup": "True",
         "hovertemplate": "Date of Publication=1814<br>Material type=%{x}<br>counts=%{y}<extra></extra>",
         "legendgroup": "1814",
         "marker": {
          "color": "#EF553B",
          "pattern": {
           "shape": ""
          }
         },
         "name": "1814",
         "offsetgroup": "1814",
         "orientation": "v",
         "showlegend": true,
         "textposition": "auto",
         "type": "bar",
         "x": [
          "Book",
          "Cartographic material",
          "Iconographic material",
          "Manuscript",
          "Notated music",
          "Periodical"
         ],
         "xaxis": "x",
         "y": [
          20,
          4,
          11,
          1,
          2,
          1
         ],
         "yaxis": "y"
        },
        {
         "alignmentgroup": "True",
         "hovertemplate": "Date of Publication=1815<br>Material type=%{x}<br>counts=%{y}<extra></extra>",
         "legendgroup": "1815",
         "marker": {
          "color": "#00cc96",
          "pattern": {
           "shape": ""
          }
         },
         "name": "1815",
         "offsetgroup": "1815",
         "orientation": "v",
         "showlegend": true,
         "textposition": "auto",
         "type": "bar",
         "x": [
          "Book",
          "Cartographic material",
          "Iconographic material",
          "Manuscript"
         ],
         "xaxis": "x",
         "y": [
          16,
          3,
          10,
          1
         ],
         "yaxis": "y"
        },
        {
         "alignmentgroup": "True",
         "hovertemplate": "Date of Publication=1816<br>Material type=%{x}<br>counts=%{y}<extra></extra>",
         "legendgroup": "1816",
         "marker": {
          "color": "#ab63fa",
          "pattern": {
           "shape": ""
          }
         },
         "name": "1816",
         "offsetgroup": "1816",
         "orientation": "v",
         "showlegend": true,
         "textposition": "auto",
         "type": "bar",
         "x": [
          "Book",
          "Cartographic material",
          "Iconographic material",
          "Manuscript",
          "Notated music"
         ],
         "xaxis": "x",
         "y": [
          30,
          2,
          16,
          2,
          5
         ],
         "yaxis": "y"
        },
        {
         "alignmentgroup": "True",
         "hovertemplate": "Date of Publication=1817<br>Material type=%{x}<br>counts=%{y}<extra></extra>",
         "legendgroup": "1817",
         "marker": {
          "color": "#FFA15A",
          "pattern": {
           "shape": ""
          }
         },
         "name": "1817",
         "offsetgroup": "1817",
         "orientation": "v",
         "showlegend": true,
         "textposition": "auto",
         "type": "bar",
         "x": [
          "Book",
          "Cartographic material",
          "Iconographic material",
          "Notated music",
          "Periodical"
         ],
         "xaxis": "x",
         "y": [
          9,
          2,
          7,
          3,
          1
         ],
         "yaxis": "y"
        },
        {
         "alignmentgroup": "True",
         "hovertemplate": "Date of Publication=1818<br>Material type=%{x}<br>counts=%{y}<extra></extra>",
         "legendgroup": "1818",
         "marker": {
          "color": "#19d3f3",
          "pattern": {
           "shape": ""
          }
         },
         "name": "1818",
         "offsetgroup": "1818",
         "orientation": "v",
         "showlegend": true,
         "textposition": "auto",
         "type": "bar",
         "x": [
          "Book",
          "Cartographic material",
          "Iconographic material",
          "Manuscript",
          "Notated music"
         ],
         "xaxis": "x",
         "y": [
          21,
          1,
          7,
          1,
          1
         ],
         "yaxis": "y"
        },
        {
         "alignmentgroup": "True",
         "hovertemplate": "Date of Publication=1819<br>Material type=%{x}<br>counts=%{y}<extra></extra>",
         "legendgroup": "1819",
         "marker": {
          "color": "#FF6692",
          "pattern": {
           "shape": ""
          }
         },
         "name": "1819",
         "offsetgroup": "1819",
         "orientation": "v",
         "showlegend": true,
         "textposition": "auto",
         "type": "bar",
         "x": [
          "Book",
          "Iconographic material",
          "Manuscript",
          "Notated music",
          "Periodical"
         ],
         "xaxis": "x",
         "y": [
          17,
          10,
          2,
          3,
          1
         ],
         "yaxis": "y"
        },
        {
         "alignmentgroup": "True",
         "hovertemplate": "Date of Publication=182 <br>Material type=%{x}<br>counts=%{y}<extra></extra>",
         "legendgroup": "182 ",
         "marker": {
          "color": "#B6E880",
          "pattern": {
           "shape": ""
          }
         },
         "name": "182 ",
         "offsetgroup": "182 ",
         "orientation": "v",
         "showlegend": true,
         "textposition": "auto",
         "type": "bar",
         "x": [
          "Book",
          "Iconographic material"
         ],
         "xaxis": "x",
         "y": [
          2,
          1
         ],
         "yaxis": "y"
        },
        {
         "alignmentgroup": "True",
         "hovertemplate": "Date of Publication=1820<br>Material type=%{x}<br>counts=%{y}<extra></extra>",
         "legendgroup": "1820",
         "marker": {
          "color": "#FF97FF",
          "pattern": {
           "shape": ""
          }
         },
         "name": "1820",
         "offsetgroup": "1820",
         "orientation": "v",
         "showlegend": true,
         "textposition": "auto",
         "type": "bar",
         "x": [
          "Book",
          "Cartographic material",
          "Iconographic material",
          "Manuscript",
          "Notated music",
          "Periodical"
         ],
         "xaxis": "x",
         "y": [
          38,
          5,
          47,
          23,
          29,
          4
         ],
         "yaxis": "y"
        },
        {
         "alignmentgroup": "True",
         "hovertemplate": "Date of Publication=1821<br>Material type=%{x}<br>counts=%{y}<extra></extra>",
         "legendgroup": "1821",
         "marker": {
          "color": "#FECB52",
          "pattern": {
           "shape": ""
          }
         },
         "name": "1821",
         "offsetgroup": "1821",
         "orientation": "v",
         "showlegend": true,
         "textposition": "auto",
         "type": "bar",
         "x": [
          "Book",
          "Cartographic material",
          "Iconographic material",
          "Notated music",
          "Periodical"
         ],
         "xaxis": "x",
         "y": [
          70,
          7,
          8,
          4,
          9
         ],
         "yaxis": "y"
        },
        {
         "alignmentgroup": "True",
         "hovertemplate": "Date of Publication=1822<br>Material type=%{x}<br>counts=%{y}<extra></extra>",
         "legendgroup": "1822",
         "marker": {
          "color": "#636efa",
          "pattern": {
           "shape": ""
          }
         },
         "name": "1822",
         "offsetgroup": "1822",
         "orientation": "v",
         "showlegend": true,
         "textposition": "auto",
         "type": "bar",
         "x": [
          "Book",
          "Cartographic material",
          "Iconographic material",
          "Manuscript",
          "Notated music",
          "Periodical"
         ],
         "xaxis": "x",
         "y": [
          42,
          5,
          41,
          2,
          5,
          7
         ],
         "yaxis": "y"
        },
        {
         "alignmentgroup": "True",
         "hovertemplate": "Date of Publication=1823<br>Material type=%{x}<br>counts=%{y}<extra></extra>",
         "legendgroup": "1823",
         "marker": {
          "color": "#EF553B",
          "pattern": {
           "shape": ""
          }
         },
         "name": "1823",
         "offsetgroup": "1823",
         "orientation": "v",
         "showlegend": true,
         "textposition": "auto",
         "type": "bar",
         "x": [
          "Book",
          "Cartographic material",
          "Iconographic material",
          "Manuscript",
          "Notated music",
          "Periodical"
         ],
         "xaxis": "x",
         "y": [
          30,
          1,
          11,
          2,
          2,
          1
         ],
         "yaxis": "y"
        },
        {
         "alignmentgroup": "True",
         "hovertemplate": "Date of Publication=1824<br>Material type=%{x}<br>counts=%{y}<extra></extra>",
         "legendgroup": "1824",
         "marker": {
          "color": "#00cc96",
          "pattern": {
           "shape": ""
          }
         },
         "name": "1824",
         "offsetgroup": "1824",
         "orientation": "v",
         "showlegend": true,
         "textposition": "auto",
         "type": "bar",
         "x": [
          "Book",
          "Cartographic material",
          "Iconographic material",
          "Manuscript",
          "Notated music",
          "Periodical"
         ],
         "xaxis": "x",
         "y": [
          12,
          7,
          17,
          3,
          1,
          2
         ],
         "yaxis": "y"
        },
        {
         "alignmentgroup": "True",
         "hovertemplate": "Date of Publication=1825<br>Material type=%{x}<br>counts=%{y}<extra></extra>",
         "legendgroup": "1825",
         "marker": {
          "color": "#ab63fa",
          "pattern": {
           "shape": ""
          }
         },
         "name": "1825",
         "offsetgroup": "1825",
         "orientation": "v",
         "showlegend": true,
         "textposition": "auto",
         "type": "bar",
         "x": [
          "Book",
          "Cartographic material",
          "Iconographic material",
          "Notated music"
         ],
         "xaxis": "x",
         "y": [
          14,
          4,
          39,
          2
         ],
         "yaxis": "y"
        },
        {
         "alignmentgroup": "True",
         "hovertemplate": "Date of Publication=1826<br>Material type=%{x}<br>counts=%{y}<extra></extra>",
         "legendgroup": "1826",
         "marker": {
          "color": "#FFA15A",
          "pattern": {
           "shape": ""
          }
         },
         "name": "1826",
         "offsetgroup": "1826",
         "orientation": "v",
         "showlegend": true,
         "textposition": "auto",
         "type": "bar",
         "x": [
          "Book",
          "Cartographic material",
          "Iconographic material",
          "Manuscript",
          "Notated music",
          "Periodical"
         ],
         "xaxis": "x",
         "y": [
          21,
          5,
          15,
          1,
          7,
          20
         ],
         "yaxis": "y"
        },
        {
         "alignmentgroup": "True",
         "hovertemplate": "Date of Publication=1827<br>Material type=%{x}<br>counts=%{y}<extra></extra>",
         "legendgroup": "1827",
         "marker": {
          "color": "#19d3f3",
          "pattern": {
           "shape": ""
          }
         },
         "name": "1827",
         "offsetgroup": "1827",
         "orientation": "v",
         "showlegend": true,
         "textposition": "auto",
         "type": "bar",
         "x": [
          "Book",
          "Cartographic material",
          "Iconographic material",
          "Manuscript"
         ],
         "xaxis": "x",
         "y": [
          14,
          5,
          11,
          1
         ],
         "yaxis": "y"
        },
        {
         "alignmentgroup": "True",
         "hovertemplate": "Date of Publication=1828<br>Material type=%{x}<br>counts=%{y}<extra></extra>",
         "legendgroup": "1828",
         "marker": {
          "color": "#FF6692",
          "pattern": {
           "shape": ""
          }
         },
         "name": "1828",
         "offsetgroup": "1828",
         "orientation": "v",
         "showlegend": true,
         "textposition": "auto",
         "type": "bar",
         "x": [
          "Book",
          "Cartographic material",
          "Iconographic material",
          "Manuscript",
          "Notated music",
          "Periodical"
         ],
         "xaxis": "x",
         "y": [
          24,
          1,
          14,
          1,
          1,
          2
         ],
         "yaxis": "y"
        },
        {
         "alignmentgroup": "True",
         "hovertemplate": "Date of Publication=1829<br>Material type=%{x}<br>counts=%{y}<extra></extra>",
         "legendgroup": "1829",
         "marker": {
          "color": "#B6E880",
          "pattern": {
           "shape": ""
          }
         },
         "name": "1829",
         "offsetgroup": "1829",
         "orientation": "v",
         "showlegend": true,
         "textposition": "auto",
         "type": "bar",
         "x": [
          "Book",
          "Cartographic material",
          "Iconographic material",
          "Notated music",
          "Periodical"
         ],
         "xaxis": "x",
         "y": [
          29,
          4,
          17,
          1,
          1
         ],
         "yaxis": "y"
        },
        {
         "alignmentgroup": "True",
         "hovertemplate": "Date of Publication=1830<br>Material type=%{x}<br>counts=%{y}<extra></extra>",
         "legendgroup": "1830",
         "marker": {
          "color": "#FF97FF",
          "pattern": {
           "shape": ""
          }
         },
         "name": "1830",
         "offsetgroup": "1830",
         "orientation": "v",
         "showlegend": true,
         "textposition": "auto",
         "type": "bar",
         "x": [
          "Book",
          "Cartographic material",
          "Iconographic material",
          "Manuscript",
          "Notated music",
          "Periodical"
         ],
         "xaxis": "x",
         "y": [
          21,
          9,
          68,
          1,
          8,
          1
         ],
         "yaxis": "y"
        },
        {
         "alignmentgroup": "True",
         "hovertemplate": "Date of Publication=1831<br>Material type=%{x}<br>counts=%{y}<extra></extra>",
         "legendgroup": "1831",
         "marker": {
          "color": "#FECB52",
          "pattern": {
           "shape": ""
          }
         },
         "name": "1831",
         "offsetgroup": "1831",
         "orientation": "v",
         "showlegend": true,
         "textposition": "auto",
         "type": "bar",
         "x": [
          "Book",
          "Cartographic material",
          "Iconographic material",
          "Manuscript",
          "Notated music",
          "Periodical"
         ],
         "xaxis": "x",
         "y": [
          15,
          8,
          6,
          4,
          3,
          2
         ],
         "yaxis": "y"
        },
        {
         "alignmentgroup": "True",
         "hovertemplate": "Date of Publication=1832<br>Material type=%{x}<br>counts=%{y}<extra></extra>",
         "legendgroup": "1832",
         "marker": {
          "color": "#636efa",
          "pattern": {
           "shape": ""
          }
         },
         "name": "1832",
         "offsetgroup": "1832",
         "orientation": "v",
         "showlegend": true,
         "textposition": "auto",
         "type": "bar",
         "x": [
          "Book",
          "Cartographic material",
          "Iconographic material",
          "Notated music",
          "Periodical"
         ],
         "xaxis": "x",
         "y": [
          9,
          3,
          20,
          3,
          1
         ],
         "yaxis": "y"
        },
        {
         "alignmentgroup": "True",
         "hovertemplate": "Date of Publication=1833<br>Material type=%{x}<br>counts=%{y}<extra></extra>",
         "legendgroup": "1833",
         "marker": {
          "color": "#EF553B",
          "pattern": {
           "shape": ""
          }
         },
         "name": "1833",
         "offsetgroup": "1833",
         "orientation": "v",
         "showlegend": true,
         "textposition": "auto",
         "type": "bar",
         "x": [
          "Book",
          "Cartographic material",
          "Iconographic material",
          "Manuscript",
          "Notated music",
          "Periodical"
         ],
         "xaxis": "x",
         "y": [
          9,
          6,
          27,
          3,
          2,
          3
         ],
         "yaxis": "y"
        },
        {
         "alignmentgroup": "True",
         "hovertemplate": "Date of Publication=1834<br>Material type=%{x}<br>counts=%{y}<extra></extra>",
         "legendgroup": "1834",
         "marker": {
          "color": "#00cc96",
          "pattern": {
           "shape": ""
          }
         },
         "name": "1834",
         "offsetgroup": "1834",
         "orientation": "v",
         "showlegend": true,
         "textposition": "auto",
         "type": "bar",
         "x": [
          "Book",
          "Cartographic material",
          "Iconographic material",
          "Manuscript",
          "Notated music",
          "Periodical"
         ],
         "xaxis": "x",
         "y": [
          23,
          8,
          24,
          32,
          3,
          1
         ],
         "yaxis": "y"
        },
        {
         "alignmentgroup": "True",
         "hovertemplate": "Date of Publication=1835<br>Material type=%{x}<br>counts=%{y}<extra></extra>",
         "legendgroup": "1835",
         "marker": {
          "color": "#ab63fa",
          "pattern": {
           "shape": ""
          }
         },
         "name": "1835",
         "offsetgroup": "1835",
         "orientation": "v",
         "showlegend": true,
         "textposition": "auto",
         "type": "bar",
         "x": [
          "Book",
          "Cartographic material",
          "Iconographic material",
          "Manuscript",
          "Notated music",
          "Periodical"
         ],
         "xaxis": "x",
         "y": [
          16,
          6,
          97,
          3,
          6,
          2
         ],
         "yaxis": "y"
        },
        {
         "alignmentgroup": "True",
         "hovertemplate": "Date of Publication=1836<br>Material type=%{x}<br>counts=%{y}<extra></extra>",
         "legendgroup": "1836",
         "marker": {
          "color": "#FFA15A",
          "pattern": {
           "shape": ""
          }
         },
         "name": "1836",
         "offsetgroup": "1836",
         "orientation": "v",
         "showlegend": true,
         "textposition": "auto",
         "type": "bar",
         "x": [
          "Book",
          "Cartographic material",
          "Iconographic material",
          "Manuscript",
          "Periodical"
         ],
         "xaxis": "x",
         "y": [
          23,
          4,
          32,
          5,
          11
         ],
         "yaxis": "y"
        },
        {
         "alignmentgroup": "True",
         "hovertemplate": "Date of Publication=1837<br>Material type=%{x}<br>counts=%{y}<extra></extra>",
         "legendgroup": "1837",
         "marker": {
          "color": "#19d3f3",
          "pattern": {
           "shape": ""
          }
         },
         "name": "1837",
         "offsetgroup": "1837",
         "orientation": "v",
         "showlegend": true,
         "textposition": "auto",
         "type": "bar",
         "x": [
          "Book",
          "Cartographic material",
          "Iconographic material",
          "Manuscript",
          "Periodical"
         ],
         "xaxis": "x",
         "y": [
          11,
          3,
          31,
          1,
          8
         ],
         "yaxis": "y"
        },
        {
         "alignmentgroup": "True",
         "hovertemplate": "Date of Publication=1838<br>Material type=%{x}<br>counts=%{y}<extra></extra>",
         "legendgroup": "1838",
         "marker": {
          "color": "#FF6692",
          "pattern": {
           "shape": ""
          }
         },
         "name": "1838",
         "offsetgroup": "1838",
         "orientation": "v",
         "showlegend": true,
         "textposition": "auto",
         "type": "bar",
         "x": [
          "Book",
          "Cartographic material",
          "Iconographic material",
          "Manuscript",
          "Notated music",
          "Periodical"
         ],
         "xaxis": "x",
         "y": [
          21,
          6,
          37,
          5,
          1,
          3
         ],
         "yaxis": "y"
        },
        {
         "alignmentgroup": "True",
         "hovertemplate": "Date of Publication=1839<br>Material type=%{x}<br>counts=%{y}<extra></extra>",
         "legendgroup": "1839",
         "marker": {
          "color": "#B6E880",
          "pattern": {
           "shape": ""
          }
         },
         "name": "1839",
         "offsetgroup": "1839",
         "orientation": "v",
         "showlegend": true,
         "textposition": "auto",
         "type": "bar",
         "x": [
          "Book",
          "Cartographic material",
          "Iconographic material",
          "Manuscript",
          "Notated music",
          "Periodical"
         ],
         "xaxis": "x",
         "y": [
          24,
          1,
          48,
          10,
          1,
          10
         ],
         "yaxis": "y"
        },
        {
         "alignmentgroup": "True",
         "hovertemplate": "Date of Publication=184 <br>Material type=%{x}<br>counts=%{y}<extra></extra>",
         "legendgroup": "184 ",
         "marker": {
          "color": "#FF97FF",
          "pattern": {
           "shape": ""
          }
         },
         "name": "184 ",
         "offsetgroup": "184 ",
         "orientation": "v",
         "showlegend": true,
         "textposition": "auto",
         "type": "bar",
         "x": [
          "Book",
          "Notated music"
         ],
         "xaxis": "x",
         "y": [
          1,
          1
         ],
         "yaxis": "y"
        },
        {
         "alignmentgroup": "True",
         "hovertemplate": "Date of Publication=1840<br>Material type=%{x}<br>counts=%{y}<extra></extra>",
         "legendgroup": "1840",
         "marker": {
          "color": "#FECB52",
          "pattern": {
           "shape": ""
          }
         },
         "name": "1840",
         "offsetgroup": "1840",
         "orientation": "v",
         "showlegend": true,
         "textposition": "auto",
         "type": "bar",
         "x": [
          "Book",
          "Cartographic material",
          "Iconographic material",
          "Manuscript",
          "Notated music",
          "Periodical"
         ],
         "xaxis": "x",
         "y": [
          32,
          29,
          278,
          3,
          10,
          5
         ],
         "yaxis": "y"
        },
        {
         "alignmentgroup": "True",
         "hovertemplate": "Date of Publication=1841<br>Material type=%{x}<br>counts=%{y}<extra></extra>",
         "legendgroup": "1841",
         "marker": {
          "color": "#636efa",
          "pattern": {
           "shape": ""
          }
         },
         "name": "1841",
         "offsetgroup": "1841",
         "orientation": "v",
         "showlegend": true,
         "textposition": "auto",
         "type": "bar",
         "x": [
          "Book",
          "Cartographic material",
          "Iconographic material",
          "Manuscript",
          "Notated music",
          "Periodical"
         ],
         "xaxis": "x",
         "y": [
          20,
          5,
          55,
          1,
          1,
          1
         ],
         "yaxis": "y"
        },
        {
         "alignmentgroup": "True",
         "hovertemplate": "Date of Publication=1842<br>Material type=%{x}<br>counts=%{y}<extra></extra>",
         "legendgroup": "1842",
         "marker": {
          "color": "#EF553B",
          "pattern": {
           "shape": ""
          }
         },
         "name": "1842",
         "offsetgroup": "1842",
         "orientation": "v",
         "showlegend": true,
         "textposition": "auto",
         "type": "bar",
         "x": [
          "Book",
          "Cartographic material",
          "Iconographic material",
          "Notated music",
          "Periodical"
         ],
         "xaxis": "x",
         "y": [
          15,
          10,
          63,
          4,
          1
         ],
         "yaxis": "y"
        },
        {
         "alignmentgroup": "True",
         "hovertemplate": "Date of Publication=1843<br>Material type=%{x}<br>counts=%{y}<extra></extra>",
         "legendgroup": "1843",
         "marker": {
          "color": "#00cc96",
          "pattern": {
           "shape": ""
          }
         },
         "name": "1843",
         "offsetgroup": "1843",
         "orientation": "v",
         "showlegend": true,
         "textposition": "auto",
         "type": "bar",
         "x": [
          "Book",
          "Cartographic material",
          "Iconographic material",
          "Manuscript",
          "Notated music",
          "Periodical"
         ],
         "xaxis": "x",
         "y": [
          17,
          3,
          54,
          1,
          2,
          1
         ],
         "yaxis": "y"
        },
        {
         "alignmentgroup": "True",
         "hovertemplate": "Date of Publication=1844<br>Material type=%{x}<br>counts=%{y}<extra></extra>",
         "legendgroup": "1844",
         "marker": {
          "color": "#ab63fa",
          "pattern": {
           "shape": ""
          }
         },
         "name": "1844",
         "offsetgroup": "1844",
         "orientation": "v",
         "showlegend": true,
         "textposition": "auto",
         "type": "bar",
         "x": [
          "Book",
          "Cartographic material",
          "Iconographic material",
          "Notated music",
          "Periodical"
         ],
         "xaxis": "x",
         "y": [
          44,
          9,
          27,
          5,
          1
         ],
         "yaxis": "y"
        },
        {
         "alignmentgroup": "True",
         "hovertemplate": "Date of Publication=1845<br>Material type=%{x}<br>counts=%{y}<extra></extra>",
         "legendgroup": "1845",
         "marker": {
          "color": "#FFA15A",
          "pattern": {
           "shape": ""
          }
         },
         "name": "1845",
         "offsetgroup": "1845",
         "orientation": "v",
         "showlegend": true,
         "textposition": "auto",
         "type": "bar",
         "x": [
          "Book",
          "Cartographic material",
          "Iconographic material",
          "Notated music",
          "Periodical"
         ],
         "xaxis": "x",
         "y": [
          33,
          8,
          88,
          3,
          5
         ],
         "yaxis": "y"
        },
        {
         "alignmentgroup": "True",
         "hovertemplate": "Date of Publication=1846<br>Material type=%{x}<br>counts=%{y}<extra></extra>",
         "legendgroup": "1846",
         "marker": {
          "color": "#19d3f3",
          "pattern": {
           "shape": ""
          }
         },
         "name": "1846",
         "offsetgroup": "1846",
         "orientation": "v",
         "showlegend": true,
         "textposition": "auto",
         "type": "bar",
         "x": [
          "Book",
          "Cartographic material",
          "Iconographic material",
          "Notated music",
          "Periodical"
         ],
         "xaxis": "x",
         "y": [
          14,
          2,
          40,
          3,
          2
         ],
         "yaxis": "y"
        },
        {
         "alignmentgroup": "True",
         "hovertemplate": "Date of Publication=1847<br>Material type=%{x}<br>counts=%{y}<extra></extra>",
         "legendgroup": "1847",
         "marker": {
          "color": "#FF6692",
          "pattern": {
           "shape": ""
          }
         },
         "name": "1847",
         "offsetgroup": "1847",
         "orientation": "v",
         "showlegend": true,
         "textposition": "auto",
         "type": "bar",
         "x": [
          "Book",
          "Cartographic material",
          "Iconographic material",
          "Manuscript",
          "Notated music",
          "Periodical"
         ],
         "xaxis": "x",
         "y": [
          14,
          3,
          51,
          1,
          1,
          9
         ],
         "yaxis": "y"
        },
        {
         "alignmentgroup": "True",
         "hovertemplate": "Date of Publication=1848<br>Material type=%{x}<br>counts=%{y}<extra></extra>",
         "legendgroup": "1848",
         "marker": {
          "color": "#B6E880",
          "pattern": {
           "shape": ""
          }
         },
         "name": "1848",
         "offsetgroup": "1848",
         "orientation": "v",
         "showlegend": true,
         "textposition": "auto",
         "type": "bar",
         "x": [
          "Book",
          "Cartographic material",
          "Iconographic material",
          "Manuscript",
          "Notated music",
          "Periodical"
         ],
         "xaxis": "x",
         "y": [
          23,
          3,
          41,
          1,
          4,
          9
         ],
         "yaxis": "y"
        },
        {
         "alignmentgroup": "True",
         "hovertemplate": "Date of Publication=1849<br>Material type=%{x}<br>counts=%{y}<extra></extra>",
         "legendgroup": "1849",
         "marker": {
          "color": "#FF97FF",
          "pattern": {
           "shape": ""
          }
         },
         "name": "1849",
         "offsetgroup": "1849",
         "orientation": "v",
         "showlegend": true,
         "textposition": "auto",
         "type": "bar",
         "x": [
          "Book",
          "Cartographic material",
          "Iconographic material",
          "Manuscript",
          "Notated music",
          "Periodical"
         ],
         "xaxis": "x",
         "y": [
          20,
          8,
          18,
          1,
          3,
          3
         ],
         "yaxis": "y"
        },
        {
         "alignmentgroup": "True",
         "hovertemplate": "Date of Publication=1850<br>Material type=%{x}<br>counts=%{y}<extra></extra>",
         "legendgroup": "1850",
         "marker": {
          "color": "#FECB52",
          "pattern": {
           "shape": ""
          }
         },
         "name": "1850",
         "offsetgroup": "1850",
         "orientation": "v",
         "showlegend": true,
         "textposition": "auto",
         "type": "bar",
         "x": [
          "Book",
          "Cartographic material",
          "Iconographic material",
          "Manuscript",
          "Notated music",
          "Periodical"
         ],
         "xaxis": "x",
         "y": [
          28,
          21,
          170,
          1,
          19,
          1
         ],
         "yaxis": "y"
        },
        {
         "alignmentgroup": "True",
         "hovertemplate": "Date of Publication=1851<br>Material type=%{x}<br>counts=%{y}<extra></extra>",
         "legendgroup": "1851",
         "marker": {
          "color": "#636efa",
          "pattern": {
           "shape": ""
          }
         },
         "name": "1851",
         "offsetgroup": "1851",
         "orientation": "v",
         "showlegend": true,
         "textposition": "auto",
         "type": "bar",
         "x": [
          "Book",
          "Cartographic material",
          "Iconographic material",
          "Manuscript",
          "Notated music",
          "Periodical"
         ],
         "xaxis": "x",
         "y": [
          21,
          2,
          43,
          3,
          1,
          5
         ],
         "yaxis": "y"
        },
        {
         "alignmentgroup": "True",
         "hovertemplate": "Date of Publication=1852<br>Material type=%{x}<br>counts=%{y}<extra></extra>",
         "legendgroup": "1852",
         "marker": {
          "color": "#EF553B",
          "pattern": {
           "shape": ""
          }
         },
         "name": "1852",
         "offsetgroup": "1852",
         "orientation": "v",
         "showlegend": true,
         "textposition": "auto",
         "type": "bar",
         "x": [
          "Book",
          "Cartographic material",
          "Iconographic material",
          "Manuscript",
          "Notated music",
          "Periodical"
         ],
         "xaxis": "x",
         "y": [
          11,
          4,
          30,
          1,
          1,
          4
         ],
         "yaxis": "y"
        },
        {
         "alignmentgroup": "True",
         "hovertemplate": "Date of Publication=1853<br>Material type=%{x}<br>counts=%{y}<extra></extra>",
         "legendgroup": "1853",
         "marker": {
          "color": "#00cc96",
          "pattern": {
           "shape": ""
          }
         },
         "name": "1853",
         "offsetgroup": "1853",
         "orientation": "v",
         "showlegend": true,
         "textposition": "auto",
         "type": "bar",
         "x": [
          "Book",
          "Cartographic material",
          "Iconographic material",
          "Manuscript",
          "Notated music",
          "Periodical"
         ],
         "xaxis": "x",
         "y": [
          22,
          5,
          20,
          1,
          4,
          5
         ],
         "yaxis": "y"
        },
        {
         "alignmentgroup": "True",
         "hovertemplate": "Date of Publication=1854<br>Material type=%{x}<br>counts=%{y}<extra></extra>",
         "legendgroup": "1854",
         "marker": {
          "color": "#ab63fa",
          "pattern": {
           "shape": ""
          }
         },
         "name": "1854",
         "offsetgroup": "1854",
         "orientation": "v",
         "showlegend": true,
         "textposition": "auto",
         "type": "bar",
         "x": [
          "Book",
          "Cartographic material",
          "Iconographic material",
          "Manuscript",
          "Periodical"
         ],
         "xaxis": "x",
         "y": [
          19,
          6,
          12,
          1,
          1
         ],
         "yaxis": "y"
        },
        {
         "alignmentgroup": "True",
         "hovertemplate": "Date of Publication=1855<br>Material type=%{x}<br>counts=%{y}<extra></extra>",
         "legendgroup": "1855",
         "marker": {
          "color": "#FFA15A",
          "pattern": {
           "shape": ""
          }
         },
         "name": "1855",
         "offsetgroup": "1855",
         "orientation": "v",
         "showlegend": true,
         "textposition": "auto",
         "type": "bar",
         "x": [
          "Book",
          "Cartographic material",
          "Iconographic material",
          "Manuscript",
          "Notated music",
          "Periodical"
         ],
         "xaxis": "x",
         "y": [
          8,
          1,
          49,
          2,
          5,
          1
         ],
         "yaxis": "y"
        },
        {
         "alignmentgroup": "True",
         "hovertemplate": "Date of Publication=1856<br>Material type=%{x}<br>counts=%{y}<extra></extra>",
         "legendgroup": "1856",
         "marker": {
          "color": "#19d3f3",
          "pattern": {
           "shape": ""
          }
         },
         "name": "1856",
         "offsetgroup": "1856",
         "orientation": "v",
         "showlegend": true,
         "textposition": "auto",
         "type": "bar",
         "x": [
          "Book",
          "Cartographic material",
          "Iconographic material",
          "Manuscript",
          "Notated music",
          "Periodical"
         ],
         "xaxis": "x",
         "y": [
          16,
          4,
          28,
          3,
          5,
          1
         ],
         "yaxis": "y"
        },
        {
         "alignmentgroup": "True",
         "hovertemplate": "Date of Publication=1857<br>Material type=%{x}<br>counts=%{y}<extra></extra>",
         "legendgroup": "1857",
         "marker": {
          "color": "#FF6692",
          "pattern": {
           "shape": ""
          }
         },
         "name": "1857",
         "offsetgroup": "1857",
         "orientation": "v",
         "showlegend": true,
         "textposition": "auto",
         "type": "bar",
         "x": [
          "Book",
          "Cartographic material",
          "Iconographic material",
          "Manuscript",
          "Notated music",
          "Periodical"
         ],
         "xaxis": "x",
         "y": [
          8,
          3,
          23,
          1,
          2,
          1
         ],
         "yaxis": "y"
        },
        {
         "alignmentgroup": "True",
         "hovertemplate": "Date of Publication=1858<br>Material type=%{x}<br>counts=%{y}<extra></extra>",
         "legendgroup": "1858",
         "marker": {
          "color": "#B6E880",
          "pattern": {
           "shape": ""
          }
         },
         "name": "1858",
         "offsetgroup": "1858",
         "orientation": "v",
         "showlegend": true,
         "textposition": "auto",
         "type": "bar",
         "x": [
          "Book",
          "Cartographic material",
          "Iconographic material",
          "Notated music",
          "Periodical"
         ],
         "xaxis": "x",
         "y": [
          19,
          4,
          10,
          2,
          2
         ],
         "yaxis": "y"
        },
        {
         "alignmentgroup": "True",
         "hovertemplate": "Date of Publication=1859<br>Material type=%{x}<br>counts=%{y}<extra></extra>",
         "legendgroup": "1859",
         "marker": {
          "color": "#FF97FF",
          "pattern": {
           "shape": ""
          }
         },
         "name": "1859",
         "offsetgroup": "1859",
         "orientation": "v",
         "showlegend": true,
         "textposition": "auto",
         "type": "bar",
         "x": [
          "Book",
          "Cartographic material",
          "Iconographic material",
          "Manuscript",
          "Periodical"
         ],
         "xaxis": "x",
         "y": [
          18,
          2,
          25,
          1,
          2
         ],
         "yaxis": "y"
        },
        {
         "alignmentgroup": "True",
         "hovertemplate": "Date of Publication=186 <br>Material type=%{x}<br>counts=%{y}<extra></extra>",
         "legendgroup": "186 ",
         "marker": {
          "color": "#FECB52",
          "pattern": {
           "shape": ""
          }
         },
         "name": "186 ",
         "offsetgroup": "186 ",
         "orientation": "v",
         "showlegend": true,
         "textposition": "auto",
         "type": "bar",
         "x": [
          "Book",
          "Notated music",
          "Periodical"
         ],
         "xaxis": "x",
         "y": [
          1,
          1,
          1
         ],
         "yaxis": "y"
        },
        {
         "alignmentgroup": "True",
         "hovertemplate": "Date of Publication=186-<br>Material type=%{x}<br>counts=%{y}<extra></extra>",
         "legendgroup": "186-",
         "marker": {
          "color": "#636efa",
          "pattern": {
           "shape": ""
          }
         },
         "name": "186-",
         "offsetgroup": "186-",
         "orientation": "v",
         "showlegend": true,
         "textposition": "auto",
         "type": "bar",
         "x": [
          "Book"
         ],
         "xaxis": "x",
         "y": [
          1
         ],
         "yaxis": "y"
        },
        {
         "alignmentgroup": "True",
         "hovertemplate": "Date of Publication=1860<br>Material type=%{x}<br>counts=%{y}<extra></extra>",
         "legendgroup": "1860",
         "marker": {
          "color": "#EF553B",
          "pattern": {
           "shape": ""
          }
         },
         "name": "1860",
         "offsetgroup": "1860",
         "orientation": "v",
         "showlegend": true,
         "textposition": "auto",
         "type": "bar",
         "x": [
          "Book",
          "Cartographic material",
          "Iconographic material",
          "Notated music",
          "Periodical"
         ],
         "xaxis": "x",
         "y": [
          16,
          11,
          59,
          11,
          4
         ],
         "yaxis": "y"
        },
        {
         "alignmentgroup": "True",
         "hovertemplate": "Date of Publication=1861<br>Material type=%{x}<br>counts=%{y}<extra></extra>",
         "legendgroup": "1861",
         "marker": {
          "color": "#00cc96",
          "pattern": {
           "shape": ""
          }
         },
         "name": "1861",
         "offsetgroup": "1861",
         "orientation": "v",
         "showlegend": true,
         "textposition": "auto",
         "type": "bar",
         "x": [
          "Book",
          "Cartographic material",
          "Iconographic material",
          "Manuscript",
          "Notated music",
          "Periodical"
         ],
         "xaxis": "x",
         "y": [
          12,
          10,
          17,
          3,
          2,
          2
         ],
         "yaxis": "y"
        },
        {
         "alignmentgroup": "True",
         "hovertemplate": "Date of Publication=1862<br>Material type=%{x}<br>counts=%{y}<extra></extra>",
         "legendgroup": "1862",
         "marker": {
          "color": "#ab63fa",
          "pattern": {
           "shape": ""
          }
         },
         "name": "1862",
         "offsetgroup": "1862",
         "orientation": "v",
         "showlegend": true,
         "textposition": "auto",
         "type": "bar",
         "x": [
          "Book",
          "Cartographic material",
          "Iconographic material",
          "Manuscript",
          "Periodical"
         ],
         "xaxis": "x",
         "y": [
          13,
          12,
          14,
          1,
          1
         ],
         "yaxis": "y"
        },
        {
         "alignmentgroup": "True",
         "hovertemplate": "Date of Publication=1863<br>Material type=%{x}<br>counts=%{y}<extra></extra>",
         "legendgroup": "1863",
         "marker": {
          "color": "#FFA15A",
          "pattern": {
           "shape": ""
          }
         },
         "name": "1863",
         "offsetgroup": "1863",
         "orientation": "v",
         "showlegend": true,
         "textposition": "auto",
         "type": "bar",
         "x": [
          "Book",
          "Cartographic material",
          "Iconographic material",
          "Manuscript",
          "Periodical"
         ],
         "xaxis": "x",
         "y": [
          6,
          8,
          7,
          4,
          7
         ],
         "yaxis": "y"
        },
        {
         "alignmentgroup": "True",
         "hovertemplate": "Date of Publication=1864<br>Material type=%{x}<br>counts=%{y}<extra></extra>",
         "legendgroup": "1864",
         "marker": {
          "color": "#19d3f3",
          "pattern": {
           "shape": ""
          }
         },
         "name": "1864",
         "offsetgroup": "1864",
         "orientation": "v",
         "showlegend": true,
         "textposition": "auto",
         "type": "bar",
         "x": [
          "Book",
          "Cartographic material",
          "Iconographic material",
          "Notated music",
          "Periodical"
         ],
         "xaxis": "x",
         "y": [
          8,
          9,
          7,
          1,
          4
         ],
         "yaxis": "y"
        },
        {
         "alignmentgroup": "True",
         "hovertemplate": "Date of Publication=1865<br>Material type=%{x}<br>counts=%{y}<extra></extra>",
         "legendgroup": "1865",
         "marker": {
          "color": "#FF6692",
          "pattern": {
           "shape": ""
          }
         },
         "name": "1865",
         "offsetgroup": "1865",
         "orientation": "v",
         "showlegend": true,
         "textposition": "auto",
         "type": "bar",
         "x": [
          "Book",
          "Cartographic material",
          "Iconographic material",
          "Notated music",
          "Periodical"
         ],
         "xaxis": "x",
         "y": [
          14,
          8,
          14,
          3,
          4
         ],
         "yaxis": "y"
        },
        {
         "alignmentgroup": "True",
         "hovertemplate": "Date of Publication=1866<br>Material type=%{x}<br>counts=%{y}<extra></extra>",
         "legendgroup": "1866",
         "marker": {
          "color": "#B6E880",
          "pattern": {
           "shape": ""
          }
         },
         "name": "1866",
         "offsetgroup": "1866",
         "orientation": "v",
         "showlegend": true,
         "textposition": "auto",
         "type": "bar",
         "x": [
          "Book",
          "Cartographic material",
          "Iconographic material",
          "Manuscript",
          "Notated music",
          "Periodical"
         ],
         "xaxis": "x",
         "y": [
          10,
          6,
          24,
          1,
          1,
          4
         ],
         "yaxis": "y"
        },
        {
         "alignmentgroup": "True",
         "hovertemplate": "Date of Publication=1867<br>Material type=%{x}<br>counts=%{y}<extra></extra>",
         "legendgroup": "1867",
         "marker": {
          "color": "#FF97FF",
          "pattern": {
           "shape": ""
          }
         },
         "name": "1867",
         "offsetgroup": "1867",
         "orientation": "v",
         "showlegend": true,
         "textposition": "auto",
         "type": "bar",
         "x": [
          "Book",
          "Cartographic material",
          "Iconographic material",
          "Manuscript",
          "Notated music",
          "Periodical"
         ],
         "xaxis": "x",
         "y": [
          9,
          6,
          20,
          1,
          1,
          8
         ],
         "yaxis": "y"
        },
        {
         "alignmentgroup": "True",
         "hovertemplate": "Date of Publication=1868<br>Material type=%{x}<br>counts=%{y}<extra></extra>",
         "legendgroup": "1868",
         "marker": {
          "color": "#FECB52",
          "pattern": {
           "shape": ""
          }
         },
         "name": "1868",
         "offsetgroup": "1868",
         "orientation": "v",
         "showlegend": true,
         "textposition": "auto",
         "type": "bar",
         "x": [
          "Book",
          "Cartographic material",
          "Iconographic material",
          "Manuscript",
          "Notated music",
          "Periodical"
         ],
         "xaxis": "x",
         "y": [
          20,
          7,
          13,
          1,
          1,
          4
         ],
         "yaxis": "y"
        },
        {
         "alignmentgroup": "True",
         "hovertemplate": "Date of Publication=1869<br>Material type=%{x}<br>counts=%{y}<extra></extra>",
         "legendgroup": "1869",
         "marker": {
          "color": "#636efa",
          "pattern": {
           "shape": ""
          }
         },
         "name": "1869",
         "offsetgroup": "1869",
         "orientation": "v",
         "showlegend": true,
         "textposition": "auto",
         "type": "bar",
         "x": [
          "Book",
          "Iconographic material",
          "Notated music",
          "Periodical"
         ],
         "xaxis": "x",
         "y": [
          5,
          16,
          4,
          3
         ],
         "yaxis": "y"
        },
        {
         "alignmentgroup": "True",
         "hovertemplate": "Date of Publication=187 <br>Material type=%{x}<br>counts=%{y}<extra></extra>",
         "legendgroup": "187 ",
         "marker": {
          "color": "#EF553B",
          "pattern": {
           "shape": ""
          }
         },
         "name": "187 ",
         "offsetgroup": "187 ",
         "orientation": "v",
         "showlegend": true,
         "textposition": "auto",
         "type": "bar",
         "x": [
          "Book",
          "Notated music"
         ],
         "xaxis": "x",
         "y": [
          2,
          6
         ],
         "yaxis": "y"
        },
        {
         "alignmentgroup": "True",
         "hovertemplate": "Date of Publication=1870<br>Material type=%{x}<br>counts=%{y}<extra></extra>",
         "legendgroup": "1870",
         "marker": {
          "color": "#00cc96",
          "pattern": {
           "shape": ""
          }
         },
         "name": "1870",
         "offsetgroup": "1870",
         "orientation": "v",
         "showlegend": true,
         "textposition": "auto",
         "type": "bar",
         "x": [
          "Book",
          "Cartographic material",
          "Iconographic material",
          "Manuscript",
          "Notated music",
          "Periodical"
         ],
         "xaxis": "x",
         "y": [
          22,
          7,
          26,
          1,
          13,
          6
         ],
         "yaxis": "y"
        },
        {
         "alignmentgroup": "True",
         "hovertemplate": "Date of Publication=1871<br>Material type=%{x}<br>counts=%{y}<extra></extra>",
         "legendgroup": "1871",
         "marker": {
          "color": "#ab63fa",
          "pattern": {
           "shape": ""
          }
         },
         "name": "1871",
         "offsetgroup": "1871",
         "orientation": "v",
         "showlegend": true,
         "textposition": "auto",
         "type": "bar",
         "x": [
          "Book",
          "Cartographic material",
          "Iconographic material",
          "Manuscript",
          "Notated music",
          "Periodical"
         ],
         "xaxis": "x",
         "y": [
          7,
          14,
          5,
          1,
          1,
          5
         ],
         "yaxis": "y"
        },
        {
         "alignmentgroup": "True",
         "hovertemplate": "Date of Publication=1872<br>Material type=%{x}<br>counts=%{y}<extra></extra>",
         "legendgroup": "1872",
         "marker": {
          "color": "#FFA15A",
          "pattern": {
           "shape": ""
          }
         },
         "name": "1872",
         "offsetgroup": "1872",
         "orientation": "v",
         "showlegend": true,
         "textposition": "auto",
         "type": "bar",
         "x": [
          "Book",
          "Cartographic material",
          "Iconographic material",
          "Notated music",
          "Periodical"
         ],
         "xaxis": "x",
         "y": [
          12,
          3,
          11,
          7,
          10
         ],
         "yaxis": "y"
        },
        {
         "alignmentgroup": "True",
         "hovertemplate": "Date of Publication=1873<br>Material type=%{x}<br>counts=%{y}<extra></extra>",
         "legendgroup": "1873",
         "marker": {
          "color": "#19d3f3",
          "pattern": {
           "shape": ""
          }
         },
         "name": "1873",
         "offsetgroup": "1873",
         "orientation": "v",
         "showlegend": true,
         "textposition": "auto",
         "type": "bar",
         "x": [
          "Book",
          "Cartographic material",
          "Iconographic material",
          "Manuscript",
          "Notated music",
          "Periodical"
         ],
         "xaxis": "x",
         "y": [
          15,
          6,
          9,
          1,
          12,
          6
         ],
         "yaxis": "y"
        },
        {
         "alignmentgroup": "True",
         "hovertemplate": "Date of Publication=1874<br>Material type=%{x}<br>counts=%{y}<extra></extra>",
         "legendgroup": "1874",
         "marker": {
          "color": "#FF6692",
          "pattern": {
           "shape": ""
          }
         },
         "name": "1874",
         "offsetgroup": "1874",
         "orientation": "v",
         "showlegend": true,
         "textposition": "auto",
         "type": "bar",
         "x": [
          "Book",
          "Cartographic material",
          "Iconographic material",
          "Notated music",
          "Periodical"
         ],
         "xaxis": "x",
         "y": [
          20,
          4,
          11,
          6,
          5
         ],
         "yaxis": "y"
        },
        {
         "alignmentgroup": "True",
         "hovertemplate": "Date of Publication=1875<br>Material type=%{x}<br>counts=%{y}<extra></extra>",
         "legendgroup": "1875",
         "marker": {
          "color": "#B6E880",
          "pattern": {
           "shape": ""
          }
         },
         "name": "1875",
         "offsetgroup": "1875",
         "orientation": "v",
         "showlegend": true,
         "textposition": "auto",
         "type": "bar",
         "x": [
          "Book",
          "Cartographic material",
          "Iconographic material",
          "Notated music",
          "Periodical"
         ],
         "xaxis": "x",
         "y": [
          33,
          11,
          10,
          8,
          18
         ],
         "yaxis": "y"
        },
        {
         "alignmentgroup": "True",
         "hovertemplate": "Date of Publication=1876<br>Material type=%{x}<br>counts=%{y}<extra></extra>",
         "legendgroup": "1876",
         "marker": {
          "color": "#FF97FF",
          "pattern": {
           "shape": ""
          }
         },
         "name": "1876",
         "offsetgroup": "1876",
         "orientation": "v",
         "showlegend": true,
         "textposition": "auto",
         "type": "bar",
         "x": [
          "Book",
          "Cartographic material",
          "Iconographic material",
          "Notated music",
          "Periodical"
         ],
         "xaxis": "x",
         "y": [
          23,
          2,
          7,
          6,
          12
         ],
         "yaxis": "y"
        },
        {
         "alignmentgroup": "True",
         "hovertemplate": "Date of Publication=1877<br>Material type=%{x}<br>counts=%{y}<extra></extra>",
         "legendgroup": "1877",
         "marker": {
          "color": "#FECB52",
          "pattern": {
           "shape": ""
          }
         },
         "name": "1877",
         "offsetgroup": "1877",
         "orientation": "v",
         "showlegend": true,
         "textposition": "auto",
         "type": "bar",
         "x": [
          "Book",
          "Cartographic material",
          "Iconographic material",
          "Manuscript",
          "Notated music",
          "Periodical"
         ],
         "xaxis": "x",
         "y": [
          16,
          6,
          6,
          1,
          8,
          11
         ],
         "yaxis": "y"
        },
        {
         "alignmentgroup": "True",
         "hovertemplate": "Date of Publication=1878<br>Material type=%{x}<br>counts=%{y}<extra></extra>",
         "legendgroup": "1878",
         "marker": {
          "color": "#636efa",
          "pattern": {
           "shape": ""
          }
         },
         "name": "1878",
         "offsetgroup": "1878",
         "orientation": "v",
         "showlegend": true,
         "textposition": "auto",
         "type": "bar",
         "x": [
          "Book",
          "Cartographic material",
          "Iconographic material",
          "Manuscript",
          "Notated music",
          "Periodical"
         ],
         "xaxis": "x",
         "y": [
          27,
          5,
          4,
          1,
          9,
          20
         ],
         "yaxis": "y"
        },
        {
         "alignmentgroup": "True",
         "hovertemplate": "Date of Publication=1879<br>Material type=%{x}<br>counts=%{y}<extra></extra>",
         "legendgroup": "1879",
         "marker": {
          "color": "#EF553B",
          "pattern": {
           "shape": ""
          }
         },
         "name": "1879",
         "offsetgroup": "1879",
         "orientation": "v",
         "showlegend": true,
         "textposition": "auto",
         "type": "bar",
         "x": [
          "Book",
          "Cartographic material",
          "Iconographic material",
          "Manuscript",
          "Notated music",
          "Periodical"
         ],
         "xaxis": "x",
         "y": [
          10,
          3,
          5,
          1,
          4,
          18
         ],
         "yaxis": "y"
        },
        {
         "alignmentgroup": "True",
         "hovertemplate": "Date of Publication=1880<br>Material type=%{x}<br>counts=%{y}<extra></extra>",
         "legendgroup": "1880",
         "marker": {
          "color": "#00cc96",
          "pattern": {
           "shape": ""
          }
         },
         "name": "1880",
         "offsetgroup": "1880",
         "orientation": "v",
         "showlegend": true,
         "textposition": "auto",
         "type": "bar",
         "x": [
          "Book",
          "Cartographic material",
          "Iconographic material",
          "Manuscript",
          "Notated music",
          "Periodical"
         ],
         "xaxis": "x",
         "y": [
          39,
          4,
          35,
          2,
          13,
          28
         ],
         "yaxis": "y"
        },
        {
         "alignmentgroup": "True",
         "hovertemplate": "Date of Publication=1881<br>Material type=%{x}<br>counts=%{y}<extra></extra>",
         "legendgroup": "1881",
         "marker": {
          "color": "#ab63fa",
          "pattern": {
           "shape": ""
          }
         },
         "name": "1881",
         "offsetgroup": "1881",
         "orientation": "v",
         "showlegend": true,
         "textposition": "auto",
         "type": "bar",
         "x": [
          "Book",
          "Cartographic material",
          "Iconographic material",
          "Notated music",
          "Periodical"
         ],
         "xaxis": "x",
         "y": [
          43,
          4,
          7,
          8,
          29
         ],
         "yaxis": "y"
        },
        {
         "alignmentgroup": "True",
         "hovertemplate": "Date of Publication=1882<br>Material type=%{x}<br>counts=%{y}<extra></extra>",
         "legendgroup": "1882",
         "marker": {
          "color": "#FFA15A",
          "pattern": {
           "shape": ""
          }
         },
         "name": "1882",
         "offsetgroup": "1882",
         "orientation": "v",
         "showlegend": true,
         "textposition": "auto",
         "type": "bar",
         "x": [
          "Book",
          "Cartographic material",
          "Iconographic material",
          "Manuscript",
          "Notated music",
          "Periodical"
         ],
         "xaxis": "x",
         "y": [
          10,
          6,
          6,
          1,
          19,
          31
         ],
         "yaxis": "y"
        },
        {
         "alignmentgroup": "True",
         "hovertemplate": "Date of Publication=1883<br>Material type=%{x}<br>counts=%{y}<extra></extra>",
         "legendgroup": "1883",
         "marker": {
          "color": "#19d3f3",
          "pattern": {
           "shape": ""
          }
         },
         "name": "1883",
         "offsetgroup": "1883",
         "orientation": "v",
         "showlegend": true,
         "textposition": "auto",
         "type": "bar",
         "x": [
          "Book",
          "Cartographic material",
          "Iconographic material",
          "Notated music",
          "Periodical"
         ],
         "xaxis": "x",
         "y": [
          12,
          9,
          2,
          4,
          29
         ],
         "yaxis": "y"
        },
        {
         "alignmentgroup": "True",
         "hovertemplate": "Date of Publication=1884<br>Material type=%{x}<br>counts=%{y}<extra></extra>",
         "legendgroup": "1884",
         "marker": {
          "color": "#FF6692",
          "pattern": {
           "shape": ""
          }
         },
         "name": "1884",
         "offsetgroup": "1884",
         "orientation": "v",
         "showlegend": true,
         "textposition": "auto",
         "type": "bar",
         "x": [
          "Book",
          "Cartographic material",
          "Iconographic material",
          "Manuscript",
          "Notated music",
          "Periodical"
         ],
         "xaxis": "x",
         "y": [
          16,
          8,
          1,
          2,
          1,
          24
         ],
         "yaxis": "y"
        },
        {
         "alignmentgroup": "True",
         "hovertemplate": "Date of Publication=1885<br>Material type=%{x}<br>counts=%{y}<extra></extra>",
         "legendgroup": "1885",
         "marker": {
          "color": "#B6E880",
          "pattern": {
           "shape": ""
          }
         },
         "name": "1885",
         "offsetgroup": "1885",
         "orientation": "v",
         "showlegend": true,
         "textposition": "auto",
         "type": "bar",
         "x": [
          "Book",
          "Cartographic material",
          "Iconographic material",
          "Notated music",
          "Periodical"
         ],
         "xaxis": "x",
         "y": [
          9,
          14,
          7,
          5,
          39
         ],
         "yaxis": "y"
        },
        {
         "alignmentgroup": "True",
         "hovertemplate": "Date of Publication=1886<br>Material type=%{x}<br>counts=%{y}<extra></extra>",
         "legendgroup": "1886",
         "marker": {
          "color": "#FF97FF",
          "pattern": {
           "shape": ""
          }
         },
         "name": "1886",
         "offsetgroup": "1886",
         "orientation": "v",
         "showlegend": true,
         "textposition": "auto",
         "type": "bar",
         "x": [
          "Book",
          "Cartographic material",
          "Iconographic material",
          "Notated music",
          "Periodical"
         ],
         "xaxis": "x",
         "y": [
          11,
          19,
          2,
          7,
          29
         ],
         "yaxis": "y"
        },
        {
         "alignmentgroup": "True",
         "hovertemplate": "Date of Publication=1887<br>Material type=%{x}<br>counts=%{y}<extra></extra>",
         "legendgroup": "1887",
         "marker": {
          "color": "#FECB52",
          "pattern": {
           "shape": ""
          }
         },
         "name": "1887",
         "offsetgroup": "1887",
         "orientation": "v",
         "showlegend": true,
         "textposition": "auto",
         "type": "bar",
         "x": [
          "Book",
          "Cartographic material",
          "Iconographic material",
          "Manuscript",
          "Notated music",
          "Periodical"
         ],
         "xaxis": "x",
         "y": [
          11,
          16,
          7,
          2,
          5,
          34
         ],
         "yaxis": "y"
        },
        {
         "alignmentgroup": "True",
         "hovertemplate": "Date of Publication=1888<br>Material type=%{x}<br>counts=%{y}<extra></extra>",
         "legendgroup": "1888",
         "marker": {
          "color": "#636efa",
          "pattern": {
           "shape": ""
          }
         },
         "name": "1888",
         "offsetgroup": "1888",
         "orientation": "v",
         "showlegend": true,
         "textposition": "auto",
         "type": "bar",
         "x": [
          "Book",
          "Cartographic material",
          "Iconographic material",
          "Manuscript",
          "Notated music",
          "Periodical"
         ],
         "xaxis": "x",
         "y": [
          18,
          23,
          7,
          1,
          6,
          38
         ],
         "yaxis": "y"
        },
        {
         "alignmentgroup": "True",
         "hovertemplate": "Date of Publication=1889<br>Material type=%{x}<br>counts=%{y}<extra></extra>",
         "legendgroup": "1889",
         "marker": {
          "color": "#EF553B",
          "pattern": {
           "shape": ""
          }
         },
         "name": "1889",
         "offsetgroup": "1889",
         "orientation": "v",
         "showlegend": true,
         "textposition": "auto",
         "type": "bar",
         "x": [
          "Book",
          "Cartographic material",
          "Iconographic material",
          "Manuscript",
          "Notated music",
          "Periodical"
         ],
         "xaxis": "x",
         "y": [
          26,
          21,
          8,
          1,
          4,
          36
         ],
         "yaxis": "y"
        },
        {
         "alignmentgroup": "True",
         "hovertemplate": "Date of Publication=189 <br>Material type=%{x}<br>counts=%{y}<extra></extra>",
         "legendgroup": "189 ",
         "marker": {
          "color": "#00cc96",
          "pattern": {
           "shape": ""
          }
         },
         "name": "189 ",
         "offsetgroup": "189 ",
         "orientation": "v",
         "showlegend": true,
         "textposition": "auto",
         "type": "bar",
         "x": [
          "Book",
          "Cartographic material",
          "Notated music",
          "Periodical"
         ],
         "xaxis": "x",
         "y": [
          1,
          2,
          6,
          3
         ],
         "yaxis": "y"
        },
        {
         "alignmentgroup": "True",
         "hovertemplate": "Date of Publication=1890<br>Material type=%{x}<br>counts=%{y}<extra></extra>",
         "legendgroup": "1890",
         "marker": {
          "color": "#ab63fa",
          "pattern": {
           "shape": ""
          }
         },
         "name": "1890",
         "offsetgroup": "1890",
         "orientation": "v",
         "showlegend": true,
         "textposition": "auto",
         "type": "bar",
         "x": [
          "Book",
          "Cartographic material",
          "Iconographic material",
          "Manuscript",
          "Notated music",
          "Periodical"
         ],
         "xaxis": "x",
         "y": [
          24,
          27,
          50,
          1,
          5,
          29
         ],
         "yaxis": "y"
        },
        {
         "alignmentgroup": "True",
         "hovertemplate": "Date of Publication=1891<br>Material type=%{x}<br>counts=%{y}<extra></extra>",
         "legendgroup": "1891",
         "marker": {
          "color": "#FFA15A",
          "pattern": {
           "shape": ""
          }
         },
         "name": "1891",
         "offsetgroup": "1891",
         "orientation": "v",
         "showlegend": true,
         "textposition": "auto",
         "type": "bar",
         "x": [
          "Book",
          "Cartographic material",
          "Iconographic material",
          "Notated music",
          "Periodical"
         ],
         "xaxis": "x",
         "y": [
          12,
          19,
          14,
          3,
          40
         ],
         "yaxis": "y"
        },
        {
         "alignmentgroup": "True",
         "hovertemplate": "Date of Publication=1892<br>Material type=%{x}<br>counts=%{y}<extra></extra>",
         "legendgroup": "1892",
         "marker": {
          "color": "#19d3f3",
          "pattern": {
           "shape": ""
          }
         },
         "name": "1892",
         "offsetgroup": "1892",
         "orientation": "v",
         "showlegend": true,
         "textposition": "auto",
         "type": "bar",
         "x": [
          "Book",
          "Cartographic material",
          "Iconographic material",
          "Notated music",
          "Periodical"
         ],
         "xaxis": "x",
         "y": [
          34,
          22,
          11,
          3,
          26
         ],
         "yaxis": "y"
        },
        {
         "alignmentgroup": "True",
         "hovertemplate": "Date of Publication=1893<br>Material type=%{x}<br>counts=%{y}<extra></extra>",
         "legendgroup": "1893",
         "marker": {
          "color": "#FF6692",
          "pattern": {
           "shape": ""
          }
         },
         "name": "1893",
         "offsetgroup": "1893",
         "orientation": "v",
         "showlegend": true,
         "textposition": "auto",
         "type": "bar",
         "x": [
          "Book",
          "Cartographic material",
          "Iconographic material",
          "Notated music",
          "Periodical"
         ],
         "xaxis": "x",
         "y": [
          17,
          10,
          6,
          9,
          38
         ],
         "yaxis": "y"
        },
        {
         "alignmentgroup": "True",
         "hovertemplate": "Date of Publication=1894<br>Material type=%{x}<br>counts=%{y}<extra></extra>",
         "legendgroup": "1894",
         "marker": {
          "color": "#B6E880",
          "pattern": {
           "shape": ""
          }
         },
         "name": "1894",
         "offsetgroup": "1894",
         "orientation": "v",
         "showlegend": true,
         "textposition": "auto",
         "type": "bar",
         "x": [
          "Book",
          "Cartographic material",
          "Iconographic material",
          "Notated music",
          "Periodical"
         ],
         "xaxis": "x",
         "y": [
          21,
          15,
          18,
          4,
          41
         ],
         "yaxis": "y"
        },
        {
         "alignmentgroup": "True",
         "hovertemplate": "Date of Publication=1895<br>Material type=%{x}<br>counts=%{y}<extra></extra>",
         "legendgroup": "1895",
         "marker": {
          "color": "#FF97FF",
          "pattern": {
           "shape": ""
          }
         },
         "name": "1895",
         "offsetgroup": "1895",
         "orientation": "v",
         "showlegend": true,
         "textposition": "auto",
         "type": "bar",
         "x": [
          "Book",
          "Cartographic material",
          "Iconographic material",
          "Manuscript",
          "Notated music",
          "Periodical"
         ],
         "xaxis": "x",
         "y": [
          23,
          9,
          12,
          3,
          16,
          37
         ],
         "yaxis": "y"
        },
        {
         "alignmentgroup": "True",
         "hovertemplate": "Date of Publication=1896<br>Material type=%{x}<br>counts=%{y}<extra></extra>",
         "legendgroup": "1896",
         "marker": {
          "color": "#FECB52",
          "pattern": {
           "shape": ""
          }
         },
         "name": "1896",
         "offsetgroup": "1896",
         "orientation": "v",
         "showlegend": true,
         "textposition": "auto",
         "type": "bar",
         "x": [
          "Book",
          "Cartographic material",
          "Iconographic material",
          "Manuscript",
          "Notated music",
          "Periodical"
         ],
         "xaxis": "x",
         "y": [
          26,
          2,
          4,
          1,
          6,
          40
         ],
         "yaxis": "y"
        },
        {
         "alignmentgroup": "True",
         "hovertemplate": "Date of Publication=1897<br>Material type=%{x}<br>counts=%{y}<extra></extra>",
         "legendgroup": "1897",
         "marker": {
          "color": "#636efa",
          "pattern": {
           "shape": ""
          }
         },
         "name": "1897",
         "offsetgroup": "1897",
         "orientation": "v",
         "showlegend": true,
         "textposition": "auto",
         "type": "bar",
         "x": [
          "Book",
          "Cartographic material",
          "Iconographic material",
          "Manuscript",
          "Notated music",
          "Periodical"
         ],
         "xaxis": "x",
         "y": [
          13,
          12,
          11,
          2,
          2,
          40
         ],
         "yaxis": "y"
        },
        {
         "alignmentgroup": "True",
         "hovertemplate": "Date of Publication=1898<br>Material type=%{x}<br>counts=%{y}<extra></extra>",
         "legendgroup": "1898",
         "marker": {
          "color": "#EF553B",
          "pattern": {
           "shape": ""
          }
         },
         "name": "1898",
         "offsetgroup": "1898",
         "orientation": "v",
         "showlegend": true,
         "textposition": "auto",
         "type": "bar",
         "x": [
          "Book",
          "Cartographic material",
          "Iconographic material",
          "Manuscript",
          "Periodical"
         ],
         "xaxis": "x",
         "y": [
          10,
          7,
          14,
          1,
          28
         ],
         "yaxis": "y"
        },
        {
         "alignmentgroup": "True",
         "hovertemplate": "Date of Publication=1899<br>Material type=%{x}<br>counts=%{y}<extra></extra>",
         "legendgroup": "1899",
         "marker": {
          "color": "#00cc96",
          "pattern": {
           "shape": ""
          }
         },
         "name": "1899",
         "offsetgroup": "1899",
         "orientation": "v",
         "showlegend": true,
         "textposition": "auto",
         "type": "bar",
         "x": [
          "Book",
          "Cartographic material",
          "Iconographic material",
          "Manuscript",
          "Notated music",
          "Periodical"
         ],
         "xaxis": "x",
         "y": [
          20,
          7,
          8,
          1,
          4,
          23
         ],
         "yaxis": "y"
        },
        {
         "alignmentgroup": "True",
         "hovertemplate": "Date of Publication=19  <br>Material type=%{x}<br>counts=%{y}<extra></extra>",
         "legendgroup": "19  ",
         "marker": {
          "color": "#ab63fa",
          "pattern": {
           "shape": ""
          }
         },
         "name": "19  ",
         "offsetgroup": "19  ",
         "orientation": "v",
         "showlegend": true,
         "textposition": "auto",
         "type": "bar",
         "x": [
          "Book",
          "Cartographic material",
          "Iconographic material",
          "Notated music",
          "Periodical"
         ],
         "xaxis": "x",
         "y": [
          14,
          8,
          6,
          9,
          2
         ],
         "yaxis": "y"
        },
        {
         "alignmentgroup": "True",
         "hovertemplate": "Date of Publication=19--<br>Material type=%{x}<br>counts=%{y}<extra></extra>",
         "legendgroup": "19--",
         "marker": {
          "color": "#FFA15A",
          "pattern": {
           "shape": ""
          }
         },
         "name": "19--",
         "offsetgroup": "19--",
         "orientation": "v",
         "showlegend": true,
         "textposition": "auto",
         "type": "bar",
         "x": [
          "Book",
          "Cartographic material",
          "Manuscript"
         ],
         "xaxis": "x",
         "y": [
          1,
          1,
          2
         ],
         "yaxis": "y"
        },
        {
         "alignmentgroup": "True",
         "hovertemplate": "Date of Publication=1900<br>Material type=%{x}<br>counts=%{y}<extra></extra>",
         "legendgroup": "1900",
         "marker": {
          "color": "#19d3f3",
          "pattern": {
           "shape": ""
          }
         },
         "name": "1900",
         "offsetgroup": "1900",
         "orientation": "v",
         "showlegend": true,
         "textposition": "auto",
         "type": "bar",
         "x": [
          "Book",
          "Cartographic material",
          "Iconographic material",
          "Notated music",
          "Periodical"
         ],
         "xaxis": "x",
         "y": [
          28,
          21,
          194,
          18,
          14
         ],
         "yaxis": "y"
        },
        {
         "alignmentgroup": "True",
         "hovertemplate": "Date of Publication=1901<br>Material type=%{x}<br>counts=%{y}<extra></extra>",
         "legendgroup": "1901",
         "marker": {
          "color": "#FF6692",
          "pattern": {
           "shape": ""
          }
         },
         "name": "1901",
         "offsetgroup": "1901",
         "orientation": "v",
         "showlegend": true,
         "textposition": "auto",
         "type": "bar",
         "x": [
          "Book",
          "Cartographic material",
          "Iconographic material",
          "Manuscript",
          "Periodical"
         ],
         "xaxis": "x",
         "y": [
          14,
          7,
          8,
          3,
          6
         ],
         "yaxis": "y"
        },
        {
         "alignmentgroup": "True",
         "hovertemplate": "Date of Publication=1902<br>Material type=%{x}<br>counts=%{y}<extra></extra>",
         "legendgroup": "1902",
         "marker": {
          "color": "#B6E880",
          "pattern": {
           "shape": ""
          }
         },
         "name": "1902",
         "offsetgroup": "1902",
         "orientation": "v",
         "showlegend": true,
         "textposition": "auto",
         "type": "bar",
         "x": [
          "Book",
          "Cartographic material",
          "Iconographic material",
          "Manuscript",
          "Notated music",
          "Periodical"
         ],
         "xaxis": "x",
         "y": [
          14,
          7,
          26,
          3,
          3,
          7
         ],
         "yaxis": "y"
        },
        {
         "alignmentgroup": "True",
         "hovertemplate": "Date of Publication=1903<br>Material type=%{x}<br>counts=%{y}<extra></extra>",
         "legendgroup": "1903",
         "marker": {
          "color": "#FF97FF",
          "pattern": {
           "shape": ""
          }
         },
         "name": "1903",
         "offsetgroup": "1903",
         "orientation": "v",
         "showlegend": true,
         "textposition": "auto",
         "type": "bar",
         "x": [
          "Book",
          "Cartographic material",
          "Iconographic material",
          "Manuscript",
          "Notated music",
          "Periodical"
         ],
         "xaxis": "x",
         "y": [
          16,
          8,
          52,
          1,
          1,
          11
         ],
         "yaxis": "y"
        },
        {
         "alignmentgroup": "True",
         "hovertemplate": "Date of Publication=1904<br>Material type=%{x}<br>counts=%{y}<extra></extra>",
         "legendgroup": "1904",
         "marker": {
          "color": "#FECB52",
          "pattern": {
           "shape": ""
          }
         },
         "name": "1904",
         "offsetgroup": "1904",
         "orientation": "v",
         "showlegend": true,
         "textposition": "auto",
         "type": "bar",
         "x": [
          "Book",
          "Cartographic material",
          "Iconographic material",
          "Manuscript",
          "Notated music",
          "Periodical"
         ],
         "xaxis": "x",
         "y": [
          10,
          5,
          60,
          2,
          1,
          5
         ],
         "yaxis": "y"
        },
        {
         "alignmentgroup": "True",
         "hovertemplate": "Date of Publication=1905<br>Material type=%{x}<br>counts=%{y}<extra></extra>",
         "legendgroup": "1905",
         "marker": {
          "color": "#636efa",
          "pattern": {
           "shape": ""
          }
         },
         "name": "1905",
         "offsetgroup": "1905",
         "orientation": "v",
         "showlegend": true,
         "textposition": "auto",
         "type": "bar",
         "x": [
          "Book",
          "Cartographic material",
          "Iconographic material",
          "Manuscript",
          "Periodical"
         ],
         "xaxis": "x",
         "y": [
          12,
          8,
          40,
          17,
          9
         ],
         "yaxis": "y"
        },
        {
         "alignmentgroup": "True",
         "hovertemplate": "Date of Publication=1906<br>Material type=%{x}<br>counts=%{y}<extra></extra>",
         "legendgroup": "1906",
         "marker": {
          "color": "#EF553B",
          "pattern": {
           "shape": ""
          }
         },
         "name": "1906",
         "offsetgroup": "1906",
         "orientation": "v",
         "showlegend": true,
         "textposition": "auto",
         "type": "bar",
         "x": [
          "Book",
          "Cartographic material",
          "Iconographic material",
          "Manuscript",
          "Notated music",
          "Periodical"
         ],
         "xaxis": "x",
         "y": [
          21,
          6,
          21,
          2,
          2,
          8
         ],
         "yaxis": "y"
        },
        {
         "alignmentgroup": "True",
         "hovertemplate": "Date of Publication=1907<br>Material type=%{x}<br>counts=%{y}<extra></extra>",
         "legendgroup": "1907",
         "marker": {
          "color": "#00cc96",
          "pattern": {
           "shape": ""
          }
         },
         "name": "1907",
         "offsetgroup": "1907",
         "orientation": "v",
         "showlegend": true,
         "textposition": "auto",
         "type": "bar",
         "x": [
          "Book",
          "Cartographic material",
          "Iconographic material",
          "Manuscript",
          "Notated music",
          "Periodical"
         ],
         "xaxis": "x",
         "y": [
          15,
          7,
          11,
          1,
          2,
          18
         ],
         "yaxis": "y"
        },
        {
         "alignmentgroup": "True",
         "hovertemplate": "Date of Publication=1908<br>Material type=%{x}<br>counts=%{y}<extra></extra>",
         "legendgroup": "1908",
         "marker": {
          "color": "#ab63fa",
          "pattern": {
           "shape": ""
          }
         },
         "name": "1908",
         "offsetgroup": "1908",
         "orientation": "v",
         "showlegend": true,
         "textposition": "auto",
         "type": "bar",
         "x": [
          "Book",
          "Cartographic material",
          "Iconographic material",
          "Manuscript",
          "Notated music",
          "Periodical"
         ],
         "xaxis": "x",
         "y": [
          19,
          7,
          28,
          1,
          2,
          15
         ],
         "yaxis": "y"
        },
        {
         "alignmentgroup": "True",
         "hovertemplate": "Date of Publication=1909<br>Material type=%{x}<br>counts=%{y}<extra></extra>",
         "legendgroup": "1909",
         "marker": {
          "color": "#FFA15A",
          "pattern": {
           "shape": ""
          }
         },
         "name": "1909",
         "offsetgroup": "1909",
         "orientation": "v",
         "showlegend": true,
         "textposition": "auto",
         "type": "bar",
         "x": [
          "Book",
          "Cartographic material",
          "Iconographic material",
          "Periodical"
         ],
         "xaxis": "x",
         "y": [
          25,
          5,
          13,
          26
         ],
         "yaxis": "y"
        },
        {
         "alignmentgroup": "True",
         "hovertemplate": "Date of Publication=191 <br>Material type=%{x}<br>counts=%{y}<extra></extra>",
         "legendgroup": "191 ",
         "marker": {
          "color": "#19d3f3",
          "pattern": {
           "shape": ""
          }
         },
         "name": "191 ",
         "offsetgroup": "191 ",
         "orientation": "v",
         "showlegend": true,
         "textposition": "auto",
         "type": "bar",
         "x": [
          "Book",
          "Notated music",
          "Periodical"
         ],
         "xaxis": "x",
         "y": [
          1,
          3,
          1
         ],
         "yaxis": "y"
        },
        {
         "alignmentgroup": "True",
         "hovertemplate": "Date of Publication=1910<br>Material type=%{x}<br>counts=%{y}<extra></extra>",
         "legendgroup": "1910",
         "marker": {
          "color": "#FF6692",
          "pattern": {
           "shape": ""
          }
         },
         "name": "1910",
         "offsetgroup": "1910",
         "orientation": "v",
         "showlegend": true,
         "textposition": "auto",
         "type": "bar",
         "x": [
          "Book",
          "Cartographic material",
          "Iconographic material",
          "Manuscript",
          "Notated music",
          "Periodical"
         ],
         "xaxis": "x",
         "y": [
          15,
          7,
          106,
          1,
          5,
          23
         ],
         "yaxis": "y"
        },
        {
         "alignmentgroup": "True",
         "hovertemplate": "Date of Publication=1911<br>Material type=%{x}<br>counts=%{y}<extra></extra>",
         "legendgroup": "1911",
         "marker": {
          "color": "#B6E880",
          "pattern": {
           "shape": ""
          }
         },
         "name": "1911",
         "offsetgroup": "1911",
         "orientation": "v",
         "showlegend": true,
         "textposition": "auto",
         "type": "bar",
         "x": [
          "Book",
          "Iconographic material",
          "Manuscript",
          "Notated music",
          "Periodical"
         ],
         "xaxis": "x",
         "y": [
          19,
          43,
          1,
          1,
          19
         ],
         "yaxis": "y"
        },
        {
         "alignmentgroup": "True",
         "hovertemplate": "Date of Publication=1912<br>Material type=%{x}<br>counts=%{y}<extra></extra>",
         "legendgroup": "1912",
         "marker": {
          "color": "#FF97FF",
          "pattern": {
           "shape": ""
          }
         },
         "name": "1912",
         "offsetgroup": "1912",
         "orientation": "v",
         "showlegend": true,
         "textposition": "auto",
         "type": "bar",
         "x": [
          "Book",
          "Cartographic material",
          "Iconographic material",
          "Notated music",
          "Periodical"
         ],
         "xaxis": "x",
         "y": [
          20,
          1,
          12,
          1,
          12
         ],
         "yaxis": "y"
        },
        {
         "alignmentgroup": "True",
         "hovertemplate": "Date of Publication=1913<br>Material type=%{x}<br>counts=%{y}<extra></extra>",
         "legendgroup": "1913",
         "marker": {
          "color": "#FECB52",
          "pattern": {
           "shape": ""
          }
         },
         "name": "1913",
         "offsetgroup": "1913",
         "orientation": "v",
         "showlegend": true,
         "textposition": "auto",
         "type": "bar",
         "x": [
          "Book",
          "Cartographic material",
          "Iconographic material",
          "Manuscript",
          "Notated music",
          "Periodical"
         ],
         "xaxis": "x",
         "y": [
          15,
          5,
          4,
          13,
          1,
          17
         ],
         "yaxis": "y"
        },
        {
         "alignmentgroup": "True",
         "hovertemplate": "Date of Publication=1914<br>Material type=%{x}<br>counts=%{y}<extra></extra>",
         "legendgroup": "1914",
         "marker": {
          "color": "#636efa",
          "pattern": {
           "shape": ""
          }
         },
         "name": "1914",
         "offsetgroup": "1914",
         "orientation": "v",
         "showlegend": true,
         "textposition": "auto",
         "type": "bar",
         "x": [
          "Book",
          "Cartographic material",
          "Iconographic material",
          "Manuscript",
          "Notated music",
          "Periodical"
         ],
         "xaxis": "x",
         "y": [
          33,
          4,
          80,
          12,
          2,
          13
         ],
         "yaxis": "y"
        },
        {
         "alignmentgroup": "True",
         "hovertemplate": "Date of Publication=1915<br>Material type=%{x}<br>counts=%{y}<extra></extra>",
         "legendgroup": "1915",
         "marker": {
          "color": "#EF553B",
          "pattern": {
           "shape": ""
          }
         },
         "name": "1915",
         "offsetgroup": "1915",
         "orientation": "v",
         "showlegend": true,
         "textposition": "auto",
         "type": "bar",
         "x": [
          "Book",
          "Cartographic material",
          "Iconographic material",
          "Manuscript",
          "Notated music",
          "Periodical"
         ],
         "xaxis": "x",
         "y": [
          58,
          2,
          22,
          39,
          1,
          5
         ],
         "yaxis": "y"
        },
        {
         "alignmentgroup": "True",
         "hovertemplate": "Date of Publication=1916<br>Material type=%{x}<br>counts=%{y}<extra></extra>",
         "legendgroup": "1916",
         "marker": {
          "color": "#00cc96",
          "pattern": {
           "shape": ""
          }
         },
         "name": "1916",
         "offsetgroup": "1916",
         "orientation": "v",
         "showlegend": true,
         "textposition": "auto",
         "type": "bar",
         "x": [
          "Book",
          "Cartographic material",
          "Iconographic material",
          "Manuscript",
          "Notated music",
          "Periodical"
         ],
         "xaxis": "x",
         "y": [
          50,
          2,
          38,
          4,
          1,
          9
         ],
         "yaxis": "y"
        },
        {
         "alignmentgroup": "True",
         "hovertemplate": "Date of Publication=1917<br>Material type=%{x}<br>counts=%{y}<extra></extra>",
         "legendgroup": "1917",
         "marker": {
          "color": "#ab63fa",
          "pattern": {
           "shape": ""
          }
         },
         "name": "1917",
         "offsetgroup": "1917",
         "orientation": "v",
         "showlegend": true,
         "textposition": "auto",
         "type": "bar",
         "x": [
          "Book",
          "Cartographic material",
          "Iconographic material",
          "Manuscript",
          "Periodical"
         ],
         "xaxis": "x",
         "y": [
          99,
          1,
          92,
          5,
          14
         ],
         "yaxis": "y"
        },
        {
         "alignmentgroup": "True",
         "hovertemplate": "Date of Publication=1918<br>Material type=%{x}<br>counts=%{y}<extra></extra>",
         "legendgroup": "1918",
         "marker": {
          "color": "#FFA15A",
          "pattern": {
           "shape": ""
          }
         },
         "name": "1918",
         "offsetgroup": "1918",
         "orientation": "v",
         "showlegend": true,
         "textposition": "auto",
         "type": "bar",
         "x": [
          "Book",
          "Cartographic material",
          "Iconographic material",
          "Manuscript",
          "Periodical"
         ],
         "xaxis": "x",
         "y": [
          71,
          1,
          172,
          2,
          11
         ],
         "yaxis": "y"
        },
        {
         "alignmentgroup": "True",
         "hovertemplate": "Date of Publication=1919<br>Material type=%{x}<br>counts=%{y}<extra></extra>",
         "legendgroup": "1919",
         "marker": {
          "color": "#19d3f3",
          "pattern": {
           "shape": ""
          }
         },
         "name": "1919",
         "offsetgroup": "1919",
         "orientation": "v",
         "showlegend": true,
         "textposition": "auto",
         "type": "bar",
         "x": [
          "Book",
          "Iconographic material",
          "Manuscript",
          "Notated music",
          "Periodical"
         ],
         "xaxis": "x",
         "y": [
          17,
          45,
          1,
          1,
          10
         ],
         "yaxis": "y"
        },
        {
         "alignmentgroup": "True",
         "hovertemplate": "Date of Publication=192 <br>Material type=%{x}<br>counts=%{y}<extra></extra>",
         "legendgroup": "192 ",
         "marker": {
          "color": "#FF6692",
          "pattern": {
           "shape": ""
          }
         },
         "name": "192 ",
         "offsetgroup": "192 ",
         "orientation": "v",
         "showlegend": true,
         "textposition": "auto",
         "type": "bar",
         "x": [
          "Book",
          "Iconographic material",
          "Notated music",
          "Periodical"
         ],
         "xaxis": "x",
         "y": [
          6,
          2,
          1,
          1
         ],
         "yaxis": "y"
        },
        {
         "alignmentgroup": "True",
         "hovertemplate": "Date of Publication=1920<br>Material type=%{x}<br>counts=%{y}<extra></extra>",
         "legendgroup": "1920",
         "marker": {
          "color": "#B6E880",
          "pattern": {
           "shape": ""
          }
         },
         "name": "1920",
         "offsetgroup": "1920",
         "orientation": "v",
         "showlegend": true,
         "textposition": "auto",
         "type": "bar",
         "x": [
          "Book",
          "Cartographic material",
          "Iconographic material",
          "Manuscript",
          "Notated music",
          "Periodical"
         ],
         "xaxis": "x",
         "y": [
          18,
          3,
          19,
          4,
          2,
          13
         ],
         "yaxis": "y"
        },
        {
         "alignmentgroup": "True",
         "hovertemplate": "Date of Publication=1921<br>Material type=%{x}<br>counts=%{y}<extra></extra>",
         "legendgroup": "1921",
         "marker": {
          "color": "#FF97FF",
          "pattern": {
           "shape": ""
          }
         },
         "name": "1921",
         "offsetgroup": "1921",
         "orientation": "v",
         "showlegend": true,
         "textposition": "auto",
         "type": "bar",
         "x": [
          "Book",
          "Iconographic material",
          "Notated music",
          "Periodical"
         ],
         "xaxis": "x",
         "y": [
          22,
          10,
          1,
          5
         ],
         "yaxis": "y"
        },
        {
         "alignmentgroup": "True",
         "hovertemplate": "Date of Publication=1922<br>Material type=%{x}<br>counts=%{y}<extra></extra>",
         "legendgroup": "1922",
         "marker": {
          "color": "#FECB52",
          "pattern": {
           "shape": ""
          }
         },
         "name": "1922",
         "offsetgroup": "1922",
         "orientation": "v",
         "showlegend": true,
         "textposition": "auto",
         "type": "bar",
         "x": [
          "Book",
          "Cartographic material",
          "Iconographic material",
          "Manuscript",
          "Notated music",
          "Periodical"
         ],
         "xaxis": "x",
         "y": [
          22,
          1,
          7,
          2,
          1,
          9
         ],
         "yaxis": "y"
        },
        {
         "alignmentgroup": "True",
         "hovertemplate": "Date of Publication=1923<br>Material type=%{x}<br>counts=%{y}<extra></extra>",
         "legendgroup": "1923",
         "marker": {
          "color": "#636efa",
          "pattern": {
           "shape": ""
          }
         },
         "name": "1923",
         "offsetgroup": "1923",
         "orientation": "v",
         "showlegend": true,
         "textposition": "auto",
         "type": "bar",
         "x": [
          "Book",
          "Cartographic material",
          "Iconographic material",
          "Periodical"
         ],
         "xaxis": "x",
         "y": [
          9,
          1,
          2,
          6
         ],
         "yaxis": "y"
        },
        {
         "alignmentgroup": "True",
         "hovertemplate": "Date of Publication=1924<br>Material type=%{x}<br>counts=%{y}<extra></extra>",
         "legendgroup": "1924",
         "marker": {
          "color": "#EF553B",
          "pattern": {
           "shape": ""
          }
         },
         "name": "1924",
         "offsetgroup": "1924",
         "orientation": "v",
         "showlegend": true,
         "textposition": "auto",
         "type": "bar",
         "x": [
          "Book",
          "Cartographic material",
          "Iconographic material",
          "Periodical"
         ],
         "xaxis": "x",
         "y": [
          7,
          3,
          3,
          7
         ],
         "yaxis": "y"
        },
        {
         "alignmentgroup": "True",
         "hovertemplate": "Date of Publication=1925<br>Material type=%{x}<br>counts=%{y}<extra></extra>",
         "legendgroup": "1925",
         "marker": {
          "color": "#00cc96",
          "pattern": {
           "shape": ""
          }
         },
         "name": "1925",
         "offsetgroup": "1925",
         "orientation": "v",
         "showlegend": true,
         "textposition": "auto",
         "type": "bar",
         "x": [
          "Book",
          "Cartographic material",
          "Iconographic material",
          "Periodical"
         ],
         "xaxis": "x",
         "y": [
          13,
          6,
          23,
          8
         ],
         "yaxis": "y"
        },
        {
         "alignmentgroup": "True",
         "hovertemplate": "Date of Publication=1926<br>Material type=%{x}<br>counts=%{y}<extra></extra>",
         "legendgroup": "1926",
         "marker": {
          "color": "#ab63fa",
          "pattern": {
           "shape": ""
          }
         },
         "name": "1926",
         "offsetgroup": "1926",
         "orientation": "v",
         "showlegend": true,
         "textposition": "auto",
         "type": "bar",
         "x": [
          "Book",
          "Cartographic material",
          "Iconographic material",
          "Notated music",
          "Periodical"
         ],
         "xaxis": "x",
         "y": [
          9,
          2,
          6,
          1,
          7
         ],
         "yaxis": "y"
        },
        {
         "alignmentgroup": "True",
         "hovertemplate": "Date of Publication=1927<br>Material type=%{x}<br>counts=%{y}<extra></extra>",
         "legendgroup": "1927",
         "marker": {
          "color": "#FFA15A",
          "pattern": {
           "shape": ""
          }
         },
         "name": "1927",
         "offsetgroup": "1927",
         "orientation": "v",
         "showlegend": true,
         "textposition": "auto",
         "type": "bar",
         "x": [
          "Book",
          "Cartographic material",
          "Iconographic material",
          "Notated music",
          "Periodical"
         ],
         "xaxis": "x",
         "y": [
          4,
          2,
          4,
          1,
          7
         ],
         "yaxis": "y"
        },
        {
         "alignmentgroup": "True",
         "hovertemplate": "Date of Publication=1928<br>Material type=%{x}<br>counts=%{y}<extra></extra>",
         "legendgroup": "1928",
         "marker": {
          "color": "#19d3f3",
          "pattern": {
           "shape": ""
          }
         },
         "name": "1928",
         "offsetgroup": "1928",
         "orientation": "v",
         "showlegend": true,
         "textposition": "auto",
         "type": "bar",
         "x": [
          "Book",
          "Cartographic material",
          "Iconographic material",
          "Periodical"
         ],
         "xaxis": "x",
         "y": [
          3,
          5,
          4,
          1
         ],
         "yaxis": "y"
        },
        {
         "alignmentgroup": "True",
         "hovertemplate": "Date of Publication=1929<br>Material type=%{x}<br>counts=%{y}<extra></extra>",
         "legendgroup": "1929",
         "marker": {
          "color": "#FF6692",
          "pattern": {
           "shape": ""
          }
         },
         "name": "1929",
         "offsetgroup": "1929",
         "orientation": "v",
         "showlegend": true,
         "textposition": "auto",
         "type": "bar",
         "x": [
          "Book",
          "Cartographic material",
          "Iconographic material",
          "Manuscript",
          "Periodical"
         ],
         "xaxis": "x",
         "y": [
          15,
          1,
          1,
          2,
          8
         ],
         "yaxis": "y"
        },
        {
         "alignmentgroup": "True",
         "hovertemplate": "Date of Publication=193 <br>Material type=%{x}<br>counts=%{y}<extra></extra>",
         "legendgroup": "193 ",
         "marker": {
          "color": "#B6E880",
          "pattern": {
           "shape": ""
          }
         },
         "name": "193 ",
         "offsetgroup": "193 ",
         "orientation": "v",
         "showlegend": true,
         "textposition": "auto",
         "type": "bar",
         "x": [
          "Book",
          "Iconographic material",
          "Notated music",
          "Periodical"
         ],
         "xaxis": "x",
         "y": [
          1,
          3,
          1,
          1
         ],
         "yaxis": "y"
        },
        {
         "alignmentgroup": "True",
         "hovertemplate": "Date of Publication=1930<br>Material type=%{x}<br>counts=%{y}<extra></extra>",
         "legendgroup": "1930",
         "marker": {
          "color": "#FF97FF",
          "pattern": {
           "shape": ""
          }
         },
         "name": "1930",
         "offsetgroup": "1930",
         "orientation": "v",
         "showlegend": true,
         "textposition": "auto",
         "type": "bar",
         "x": [
          "Book",
          "Iconographic material",
          "Manuscript",
          "Notated music",
          "Periodical"
         ],
         "xaxis": "x",
         "y": [
          14,
          21,
          1,
          1,
          2
         ],
         "yaxis": "y"
        },
        {
         "alignmentgroup": "True",
         "hovertemplate": "Date of Publication=1931<br>Material type=%{x}<br>counts=%{y}<extra></extra>",
         "legendgroup": "1931",
         "marker": {
          "color": "#FECB52",
          "pattern": {
           "shape": ""
          }
         },
         "name": "1931",
         "offsetgroup": "1931",
         "orientation": "v",
         "showlegend": true,
         "textposition": "auto",
         "type": "bar",
         "x": [
          "Book",
          "Iconographic material"
         ],
         "xaxis": "x",
         "y": [
          7,
          6
         ],
         "yaxis": "y"
        },
        {
         "alignmentgroup": "True",
         "hovertemplate": "Date of Publication=1932<br>Material type=%{x}<br>counts=%{y}<extra></extra>",
         "legendgroup": "1932",
         "marker": {
          "color": "#636efa",
          "pattern": {
           "shape": ""
          }
         },
         "name": "1932",
         "offsetgroup": "1932",
         "orientation": "v",
         "showlegend": true,
         "textposition": "auto",
         "type": "bar",
         "x": [
          "Book",
          "Iconographic material",
          "Manuscript",
          "Notated music",
          "Periodical"
         ],
         "xaxis": "x",
         "y": [
          6,
          2,
          1,
          1,
          2
         ],
         "yaxis": "y"
        },
        {
         "alignmentgroup": "True",
         "hovertemplate": "Date of Publication=1933<br>Material type=%{x}<br>counts=%{y}<extra></extra>",
         "legendgroup": "1933",
         "marker": {
          "color": "#EF553B",
          "pattern": {
           "shape": ""
          }
         },
         "name": "1933",
         "offsetgroup": "1933",
         "orientation": "v",
         "showlegend": true,
         "textposition": "auto",
         "type": "bar",
         "x": [
          "Book",
          "Cartographic material",
          "Iconographic material",
          "Notated music",
          "Periodical"
         ],
         "xaxis": "x",
         "y": [
          7,
          2,
          5,
          3,
          5
         ],
         "yaxis": "y"
        },
        {
         "alignmentgroup": "True",
         "hovertemplate": "Date of Publication=1934<br>Material type=%{x}<br>counts=%{y}<extra></extra>",
         "legendgroup": "1934",
         "marker": {
          "color": "#00cc96",
          "pattern": {
           "shape": ""
          }
         },
         "name": "1934",
         "offsetgroup": "1934",
         "orientation": "v",
         "showlegend": true,
         "textposition": "auto",
         "type": "bar",
         "x": [
          "Book",
          "Cartographic material",
          "Iconographic material",
          "Notated music",
          "Periodical"
         ],
         "xaxis": "x",
         "y": [
          14,
          2,
          3,
          1,
          1
         ],
         "yaxis": "y"
        },
        {
         "alignmentgroup": "True",
         "hovertemplate": "Date of Publication=1935<br>Material type=%{x}<br>counts=%{y}<extra></extra>",
         "legendgroup": "1935",
         "marker": {
          "color": "#ab63fa",
          "pattern": {
           "shape": ""
          }
         },
         "name": "1935",
         "offsetgroup": "1935",
         "orientation": "v",
         "showlegend": true,
         "textposition": "auto",
         "type": "bar",
         "x": [
          "Book",
          "Iconographic material",
          "Notated music",
          "Periodical"
         ],
         "xaxis": "x",
         "y": [
          13,
          5,
          1,
          1
         ],
         "yaxis": "y"
        },
        {
         "alignmentgroup": "True",
         "hovertemplate": "Date of Publication=1936<br>Material type=%{x}<br>counts=%{y}<extra></extra>",
         "legendgroup": "1936",
         "marker": {
          "color": "#FFA15A",
          "pattern": {
           "shape": ""
          }
         },
         "name": "1936",
         "offsetgroup": "1936",
         "orientation": "v",
         "showlegend": true,
         "textposition": "auto",
         "type": "bar",
         "x": [
          "Book",
          "Cartographic material",
          "Iconographic material",
          "Manuscript",
          "Periodical"
         ],
         "xaxis": "x",
         "y": [
          7,
          2,
          2,
          1,
          1
         ],
         "yaxis": "y"
        },
        {
         "alignmentgroup": "True",
         "hovertemplate": "Date of Publication=1937<br>Material type=%{x}<br>counts=%{y}<extra></extra>",
         "legendgroup": "1937",
         "marker": {
          "color": "#19d3f3",
          "pattern": {
           "shape": ""
          }
         },
         "name": "1937",
         "offsetgroup": "1937",
         "orientation": "v",
         "showlegend": true,
         "textposition": "auto",
         "type": "bar",
         "x": [
          "Book",
          "Cartographic material",
          "Manuscript",
          "Periodical"
         ],
         "xaxis": "x",
         "y": [
          10,
          1,
          1,
          4
         ],
         "yaxis": "y"
        },
        {
         "alignmentgroup": "True",
         "hovertemplate": "Date of Publication=1938<br>Material type=%{x}<br>counts=%{y}<extra></extra>",
         "legendgroup": "1938",
         "marker": {
          "color": "#FF6692",
          "pattern": {
           "shape": ""
          }
         },
         "name": "1938",
         "offsetgroup": "1938",
         "orientation": "v",
         "showlegend": true,
         "textposition": "auto",
         "type": "bar",
         "x": [
          "Book",
          "Iconographic material"
         ],
         "xaxis": "x",
         "y": [
          8,
          3
         ],
         "yaxis": "y"
        },
        {
         "alignmentgroup": "True",
         "hovertemplate": "Date of Publication=1939<br>Material type=%{x}<br>counts=%{y}<extra></extra>",
         "legendgroup": "1939",
         "marker": {
          "color": "#B6E880",
          "pattern": {
           "shape": ""
          }
         },
         "name": "1939",
         "offsetgroup": "1939",
         "orientation": "v",
         "showlegend": true,
         "textposition": "auto",
         "type": "bar",
         "x": [
          "Book",
          "Cartographic material"
         ],
         "xaxis": "x",
         "y": [
          3,
          2
         ],
         "yaxis": "y"
        },
        {
         "alignmentgroup": "True",
         "hovertemplate": "Date of Publication=194 <br>Material type=%{x}<br>counts=%{y}<extra></extra>",
         "legendgroup": "194 ",
         "marker": {
          "color": "#FF97FF",
          "pattern": {
           "shape": ""
          }
         },
         "name": "194 ",
         "offsetgroup": "194 ",
         "orientation": "v",
         "showlegend": true,
         "textposition": "auto",
         "type": "bar",
         "x": [
          "Book",
          "Iconographic material"
         ],
         "xaxis": "x",
         "y": [
          1,
          1
         ],
         "yaxis": "y"
        },
        {
         "alignmentgroup": "True",
         "hovertemplate": "Date of Publication=1940<br>Material type=%{x}<br>counts=%{y}<extra></extra>",
         "legendgroup": "1940",
         "marker": {
          "color": "#FECB52",
          "pattern": {
           "shape": ""
          }
         },
         "name": "1940",
         "offsetgroup": "1940",
         "orientation": "v",
         "showlegend": true,
         "textposition": "auto",
         "type": "bar",
         "x": [
          "Book",
          "Cartographic material",
          "Iconographic material",
          "Periodical"
         ],
         "xaxis": "x",
         "y": [
          13,
          1,
          46,
          1
         ],
         "yaxis": "y"
        },
        {
         "alignmentgroup": "True",
         "hovertemplate": "Date of Publication=1941<br>Material type=%{x}<br>counts=%{y}<extra></extra>",
         "legendgroup": "1941",
         "marker": {
          "color": "#636efa",
          "pattern": {
           "shape": ""
          }
         },
         "name": "1941",
         "offsetgroup": "1941",
         "orientation": "v",
         "showlegend": true,
         "textposition": "auto",
         "type": "bar",
         "x": [
          "Book",
          "Cartographic material",
          "Iconographic material",
          "Notated music",
          "Periodical"
         ],
         "xaxis": "x",
         "y": [
          7,
          2,
          1,
          2,
          1
         ],
         "yaxis": "y"
        },
        {
         "alignmentgroup": "True",
         "hovertemplate": "Date of Publication=1942<br>Material type=%{x}<br>counts=%{y}<extra></extra>",
         "legendgroup": "1942",
         "marker": {
          "color": "#EF553B",
          "pattern": {
           "shape": ""
          }
         },
         "name": "1942",
         "offsetgroup": "1942",
         "orientation": "v",
         "showlegend": true,
         "textposition": "auto",
         "type": "bar",
         "x": [
          "Book",
          "Cartographic material",
          "Iconographic material"
         ],
         "xaxis": "x",
         "y": [
          8,
          1,
          2
         ],
         "yaxis": "y"
        },
        {
         "alignmentgroup": "True",
         "hovertemplate": "Date of Publication=1943<br>Material type=%{x}<br>counts=%{y}<extra></extra>",
         "legendgroup": "1943",
         "marker": {
          "color": "#00cc96",
          "pattern": {
           "shape": ""
          }
         },
         "name": "1943",
         "offsetgroup": "1943",
         "orientation": "v",
         "showlegend": true,
         "textposition": "auto",
         "type": "bar",
         "x": [
          "Book",
          "Notated music",
          "Periodical"
         ],
         "xaxis": "x",
         "y": [
          8,
          1,
          2
         ],
         "yaxis": "y"
        },
        {
         "alignmentgroup": "True",
         "hovertemplate": "Date of Publication=1944<br>Material type=%{x}<br>counts=%{y}<extra></extra>",
         "legendgroup": "1944",
         "marker": {
          "color": "#ab63fa",
          "pattern": {
           "shape": ""
          }
         },
         "name": "1944",
         "offsetgroup": "1944",
         "orientation": "v",
         "showlegend": true,
         "textposition": "auto",
         "type": "bar",
         "x": [
          "Book",
          "Iconographic material"
         ],
         "xaxis": "x",
         "y": [
          10,
          3
         ],
         "yaxis": "y"
        },
        {
         "alignmentgroup": "True",
         "hovertemplate": "Date of Publication=1945<br>Material type=%{x}<br>counts=%{y}<extra></extra>",
         "legendgroup": "1945",
         "marker": {
          "color": "#FFA15A",
          "pattern": {
           "shape": ""
          }
         },
         "name": "1945",
         "offsetgroup": "1945",
         "orientation": "v",
         "showlegend": true,
         "textposition": "auto",
         "type": "bar",
         "x": [
          "Book",
          "Cartographic material",
          "Iconographic material",
          "Manuscript",
          "Notated music"
         ],
         "xaxis": "x",
         "y": [
          2,
          1,
          5,
          2,
          1
         ],
         "yaxis": "y"
        },
        {
         "alignmentgroup": "True",
         "hovertemplate": "Date of Publication=1946<br>Material type=%{x}<br>counts=%{y}<extra></extra>",
         "legendgroup": "1946",
         "marker": {
          "color": "#19d3f3",
          "pattern": {
           "shape": ""
          }
         },
         "name": "1946",
         "offsetgroup": "1946",
         "orientation": "v",
         "showlegend": true,
         "textposition": "auto",
         "type": "bar",
         "x": [
          "Book",
          "Cartographic material",
          "Iconographic material",
          "Manuscript"
         ],
         "xaxis": "x",
         "y": [
          3,
          1,
          13,
          2
         ],
         "yaxis": "y"
        },
        {
         "alignmentgroup": "True",
         "hovertemplate": "Date of Publication=1947<br>Material type=%{x}<br>counts=%{y}<extra></extra>",
         "legendgroup": "1947",
         "marker": {
          "color": "#FF6692",
          "pattern": {
           "shape": ""
          }
         },
         "name": "1947",
         "offsetgroup": "1947",
         "orientation": "v",
         "showlegend": true,
         "textposition": "auto",
         "type": "bar",
         "x": [
          "Book",
          "Iconographic material"
         ],
         "xaxis": "x",
         "y": [
          2,
          7
         ],
         "yaxis": "y"
        },
        {
         "alignmentgroup": "True",
         "hovertemplate": "Date of Publication=1948<br>Material type=%{x}<br>counts=%{y}<extra></extra>",
         "legendgroup": "1948",
         "marker": {
          "color": "#B6E880",
          "pattern": {
           "shape": ""
          }
         },
         "name": "1948",
         "offsetgroup": "1948",
         "orientation": "v",
         "showlegend": true,
         "textposition": "auto",
         "type": "bar",
         "x": [
          "Book",
          "Cartographic material",
          "Iconographic material"
         ],
         "xaxis": "x",
         "y": [
          3,
          1,
          1
         ],
         "yaxis": "y"
        },
        {
         "alignmentgroup": "True",
         "hovertemplate": "Date of Publication=1949<br>Material type=%{x}<br>counts=%{y}<extra></extra>",
         "legendgroup": "1949",
         "marker": {
          "color": "#FF97FF",
          "pattern": {
           "shape": ""
          }
         },
         "name": "1949",
         "offsetgroup": "1949",
         "orientation": "v",
         "showlegend": true,
         "textposition": "auto",
         "type": "bar",
         "x": [
          "Book",
          "Cartographic material",
          "Iconographic material"
         ],
         "xaxis": "x",
         "y": [
          3,
          1,
          5
         ],
         "yaxis": "y"
        },
        {
         "alignmentgroup": "True",
         "hovertemplate": "Date of Publication=1950<br>Material type=%{x}<br>counts=%{y}<extra></extra>",
         "legendgroup": "1950",
         "marker": {
          "color": "#FECB52",
          "pattern": {
           "shape": ""
          }
         },
         "name": "1950",
         "offsetgroup": "1950",
         "orientation": "v",
         "showlegend": true,
         "textposition": "auto",
         "type": "bar",
         "x": [
          "Book",
          "Cartographic material",
          "Iconographic material"
         ],
         "xaxis": "x",
         "y": [
          7,
          2,
          7
         ],
         "yaxis": "y"
        },
        {
         "alignmentgroup": "True",
         "hovertemplate": "Date of Publication=1951<br>Material type=%{x}<br>counts=%{y}<extra></extra>",
         "legendgroup": "1951",
         "marker": {
          "color": "#636efa",
          "pattern": {
           "shape": ""
          }
         },
         "name": "1951",
         "offsetgroup": "1951",
         "orientation": "v",
         "showlegend": true,
         "textposition": "auto",
         "type": "bar",
         "x": [
          "Book",
          "Iconographic material"
         ],
         "xaxis": "x",
         "y": [
          2,
          2
         ],
         "yaxis": "y"
        },
        {
         "alignmentgroup": "True",
         "hovertemplate": "Date of Publication=1952<br>Material type=%{x}<br>counts=%{y}<extra></extra>",
         "legendgroup": "1952",
         "marker": {
          "color": "#EF553B",
          "pattern": {
           "shape": ""
          }
         },
         "name": "1952",
         "offsetgroup": "1952",
         "orientation": "v",
         "showlegend": true,
         "textposition": "auto",
         "type": "bar",
         "x": [
          "Book",
          "Iconographic material",
          "Periodical"
         ],
         "xaxis": "x",
         "y": [
          5,
          2,
          1
         ],
         "yaxis": "y"
        },
        {
         "alignmentgroup": "True",
         "hovertemplate": "Date of Publication=1953<br>Material type=%{x}<br>counts=%{y}<extra></extra>",
         "legendgroup": "1953",
         "marker": {
          "color": "#00cc96",
          "pattern": {
           "shape": ""
          }
         },
         "name": "1953",
         "offsetgroup": "1953",
         "orientation": "v",
         "showlegend": true,
         "textposition": "auto",
         "type": "bar",
         "x": [
          "Book",
          "Cartographic material",
          "Iconographic material",
          "Notated music",
          "Periodical"
         ],
         "xaxis": "x",
         "y": [
          3,
          1,
          1,
          1,
          1
         ],
         "yaxis": "y"
        },
        {
         "alignmentgroup": "True",
         "hovertemplate": "Date of Publication=1954<br>Material type=%{x}<br>counts=%{y}<extra></extra>",
         "legendgroup": "1954",
         "marker": {
          "color": "#ab63fa",
          "pattern": {
           "shape": ""
          }
         },
         "name": "1954",
         "offsetgroup": "1954",
         "orientation": "v",
         "showlegend": true,
         "textposition": "auto",
         "type": "bar",
         "x": [
          "Book",
          "Cartographic material",
          "Iconographic material",
          "Periodical"
         ],
         "xaxis": "x",
         "y": [
          3,
          3,
          2,
          1
         ],
         "yaxis": "y"
        },
        {
         "alignmentgroup": "True",
         "hovertemplate": "Date of Publication=1955<br>Material type=%{x}<br>counts=%{y}<extra></extra>",
         "legendgroup": "1955",
         "marker": {
          "color": "#FFA15A",
          "pattern": {
           "shape": ""
          }
         },
         "name": "1955",
         "offsetgroup": "1955",
         "orientation": "v",
         "showlegend": true,
         "textposition": "auto",
         "type": "bar",
         "x": [
          "Book",
          "Cartographic material",
          "Iconographic material",
          "Notated music"
         ],
         "xaxis": "x",
         "y": [
          2,
          1,
          5,
          1
         ],
         "yaxis": "y"
        },
        {
         "alignmentgroup": "True",
         "hovertemplate": "Date of Publication=1956<br>Material type=%{x}<br>counts=%{y}<extra></extra>",
         "legendgroup": "1956",
         "marker": {
          "color": "#19d3f3",
          "pattern": {
           "shape": ""
          }
         },
         "name": "1956",
         "offsetgroup": "1956",
         "orientation": "v",
         "showlegend": true,
         "textposition": "auto",
         "type": "bar",
         "x": [
          "Book",
          "Cartographic material",
          "Iconographic material"
         ],
         "xaxis": "x",
         "y": [
          4,
          2,
          1
         ],
         "yaxis": "y"
        },
        {
         "alignmentgroup": "True",
         "hovertemplate": "Date of Publication=1958<br>Material type=%{x}<br>counts=%{y}<extra></extra>",
         "legendgroup": "1958",
         "marker": {
          "color": "#FF6692",
          "pattern": {
           "shape": ""
          }
         },
         "name": "1958",
         "offsetgroup": "1958",
         "orientation": "v",
         "showlegend": true,
         "textposition": "auto",
         "type": "bar",
         "x": [
          "Book",
          "Cartographic material",
          "Iconographic material",
          "Manuscript",
          "Periodical"
         ],
         "xaxis": "x",
         "y": [
          2,
          1,
          8,
          2,
          1
         ],
         "yaxis": "y"
        },
        {
         "alignmentgroup": "True",
         "hovertemplate": "Date of Publication=1959<br>Material type=%{x}<br>counts=%{y}<extra></extra>",
         "legendgroup": "1959",
         "marker": {
          "color": "#B6E880",
          "pattern": {
           "shape": ""
          }
         },
         "name": "1959",
         "offsetgroup": "1959",
         "orientation": "v",
         "showlegend": true,
         "textposition": "auto",
         "type": "bar",
         "x": [
          "Book",
          "Iconographic material"
         ],
         "xaxis": "x",
         "y": [
          1,
          3
         ],
         "yaxis": "y"
        },
        {
         "alignmentgroup": "True",
         "hovertemplate": "Date of Publication=1960<br>Material type=%{x}<br>counts=%{y}<extra></extra>",
         "legendgroup": "1960",
         "marker": {
          "color": "#FF97FF",
          "pattern": {
           "shape": ""
          }
         },
         "name": "1960",
         "offsetgroup": "1960",
         "orientation": "v",
         "showlegend": true,
         "textposition": "auto",
         "type": "bar",
         "x": [
          "Book",
          "Iconographic material",
          "Periodical"
         ],
         "xaxis": "x",
         "y": [
          4,
          18,
          1
         ],
         "yaxis": "y"
        },
        {
         "alignmentgroup": "True",
         "hovertemplate": "Date of Publication=1961<br>Material type=%{x}<br>counts=%{y}<extra></extra>",
         "legendgroup": "1961",
         "marker": {
          "color": "#FECB52",
          "pattern": {
           "shape": ""
          }
         },
         "name": "1961",
         "offsetgroup": "1961",
         "orientation": "v",
         "showlegend": true,
         "textposition": "auto",
         "type": "bar",
         "x": [
          "Book",
          "Cartographic material",
          "Iconographic material",
          "Periodical"
         ],
         "xaxis": "x",
         "y": [
          2,
          1,
          5,
          1
         ],
         "yaxis": "y"
        },
        {
         "alignmentgroup": "True",
         "hovertemplate": "Date of Publication=1962<br>Material type=%{x}<br>counts=%{y}<extra></extra>",
         "legendgroup": "1962",
         "marker": {
          "color": "#636efa",
          "pattern": {
           "shape": ""
          }
         },
         "name": "1962",
         "offsetgroup": "1962",
         "orientation": "v",
         "showlegend": true,
         "textposition": "auto",
         "type": "bar",
         "x": [
          "Book",
          "Iconographic material"
         ],
         "xaxis": "x",
         "y": [
          7,
          7
         ],
         "yaxis": "y"
        },
        {
         "alignmentgroup": "True",
         "hovertemplate": "Date of Publication=1963<br>Material type=%{x}<br>counts=%{y}<extra></extra>",
         "legendgroup": "1963",
         "marker": {
          "color": "#EF553B",
          "pattern": {
           "shape": ""
          }
         },
         "name": "1963",
         "offsetgroup": "1963",
         "orientation": "v",
         "showlegend": true,
         "textposition": "auto",
         "type": "bar",
         "x": [
          "Book",
          "Iconographic material"
         ],
         "xaxis": "x",
         "y": [
          2,
          19
         ],
         "yaxis": "y"
        },
        {
         "alignmentgroup": "True",
         "hovertemplate": "Date of Publication=1964<br>Material type=%{x}<br>counts=%{y}<extra></extra>",
         "legendgroup": "1964",
         "marker": {
          "color": "#00cc96",
          "pattern": {
           "shape": ""
          }
         },
         "name": "1964",
         "offsetgroup": "1964",
         "orientation": "v",
         "showlegend": true,
         "textposition": "auto",
         "type": "bar",
         "x": [
          "Book",
          "Cartographic material",
          "Iconographic material",
          "Manuscript",
          "Periodical"
         ],
         "xaxis": "x",
         "y": [
          3,
          5,
          32,
          1,
          1
         ],
         "yaxis": "y"
        },
        {
         "alignmentgroup": "True",
         "hovertemplate": "Date of Publication=1965<br>Material type=%{x}<br>counts=%{y}<extra></extra>",
         "legendgroup": "1965",
         "marker": {
          "color": "#ab63fa",
          "pattern": {
           "shape": ""
          }
         },
         "name": "1965",
         "offsetgroup": "1965",
         "orientation": "v",
         "showlegend": true,
         "textposition": "auto",
         "type": "bar",
         "x": [
          "Book",
          "Iconographic material"
         ],
         "xaxis": "x",
         "y": [
          2,
          8
         ],
         "yaxis": "y"
        },
        {
         "alignmentgroup": "True",
         "hovertemplate": "Date of Publication=1966<br>Material type=%{x}<br>counts=%{y}<extra></extra>",
         "legendgroup": "1966",
         "marker": {
          "color": "#FFA15A",
          "pattern": {
           "shape": ""
          }
         },
         "name": "1966",
         "offsetgroup": "1966",
         "orientation": "v",
         "showlegend": true,
         "textposition": "auto",
         "type": "bar",
         "x": [
          "Book"
         ],
         "xaxis": "x",
         "y": [
          1
         ],
         "yaxis": "y"
        },
        {
         "alignmentgroup": "True",
         "hovertemplate": "Date of Publication=1968<br>Material type=%{x}<br>counts=%{y}<extra></extra>",
         "legendgroup": "1968",
         "marker": {
          "color": "#19d3f3",
          "pattern": {
           "shape": ""
          }
         },
         "name": "1968",
         "offsetgroup": "1968",
         "orientation": "v",
         "showlegend": true,
         "textposition": "auto",
         "type": "bar",
         "x": [
          "Book",
          "Iconographic material"
         ],
         "xaxis": "x",
         "y": [
          1,
          14
         ],
         "yaxis": "y"
        },
        {
         "alignmentgroup": "True",
         "hovertemplate": "Date of Publication=1969<br>Material type=%{x}<br>counts=%{y}<extra></extra>",
         "legendgroup": "1969",
         "marker": {
          "color": "#FF6692",
          "pattern": {
           "shape": ""
          }
         },
         "name": "1969",
         "offsetgroup": "1969",
         "orientation": "v",
         "showlegend": true,
         "textposition": "auto",
         "type": "bar",
         "x": [
          "Book",
          "Iconographic material",
          "Notated music"
         ],
         "xaxis": "x",
         "y": [
          6,
          20,
          1
         ],
         "yaxis": "y"
        },
        {
         "alignmentgroup": "True",
         "hovertemplate": "Date of Publication=197 <br>Material type=%{x}<br>counts=%{y}<extra></extra>",
         "legendgroup": "197 ",
         "marker": {
          "color": "#B6E880",
          "pattern": {
           "shape": ""
          }
         },
         "name": "197 ",
         "offsetgroup": "197 ",
         "orientation": "v",
         "showlegend": true,
         "textposition": "auto",
         "type": "bar",
         "x": [
          "Book"
         ],
         "xaxis": "x",
         "y": [
          1
         ],
         "yaxis": "y"
        },
        {
         "alignmentgroup": "True",
         "hovertemplate": "Date of Publication=1970<br>Material type=%{x}<br>counts=%{y}<extra></extra>",
         "legendgroup": "1970",
         "marker": {
          "color": "#FF97FF",
          "pattern": {
           "shape": ""
          }
         },
         "name": "1970",
         "offsetgroup": "1970",
         "orientation": "v",
         "showlegend": true,
         "textposition": "auto",
         "type": "bar",
         "x": [
          "Book",
          "Cartographic material",
          "Iconographic material"
         ],
         "xaxis": "x",
         "y": [
          1,
          1,
          16
         ],
         "yaxis": "y"
        },
        {
         "alignmentgroup": "True",
         "hovertemplate": "Date of Publication=1971<br>Material type=%{x}<br>counts=%{y}<extra></extra>",
         "legendgroup": "1971",
         "marker": {
          "color": "#FECB52",
          "pattern": {
           "shape": ""
          }
         },
         "name": "1971",
         "offsetgroup": "1971",
         "orientation": "v",
         "showlegend": true,
         "textposition": "auto",
         "type": "bar",
         "x": [
          "Book",
          "Iconographic material"
         ],
         "xaxis": "x",
         "y": [
          4,
          2
         ],
         "yaxis": "y"
        },
        {
         "alignmentgroup": "True",
         "hovertemplate": "Date of Publication=1972<br>Material type=%{x}<br>counts=%{y}<extra></extra>",
         "legendgroup": "1972",
         "marker": {
          "color": "#636efa",
          "pattern": {
           "shape": ""
          }
         },
         "name": "1972",
         "offsetgroup": "1972",
         "orientation": "v",
         "showlegend": true,
         "textposition": "auto",
         "type": "bar",
         "x": [
          "Book",
          "Cartographic material",
          "Iconographic material"
         ],
         "xaxis": "x",
         "y": [
          2,
          1,
          6
         ],
         "yaxis": "y"
        },
        {
         "alignmentgroup": "True",
         "hovertemplate": "Date of Publication=1973<br>Material type=%{x}<br>counts=%{y}<extra></extra>",
         "legendgroup": "1973",
         "marker": {
          "color": "#EF553B",
          "pattern": {
           "shape": ""
          }
         },
         "name": "1973",
         "offsetgroup": "1973",
         "orientation": "v",
         "showlegend": true,
         "textposition": "auto",
         "type": "bar",
         "x": [
          "Book",
          "Iconographic material"
         ],
         "xaxis": "x",
         "y": [
          2,
          19
         ],
         "yaxis": "y"
        },
        {
         "alignmentgroup": "True",
         "hovertemplate": "Date of Publication=1974<br>Material type=%{x}<br>counts=%{y}<extra></extra>",
         "legendgroup": "1974",
         "marker": {
          "color": "#00cc96",
          "pattern": {
           "shape": ""
          }
         },
         "name": "1974",
         "offsetgroup": "1974",
         "orientation": "v",
         "showlegend": true,
         "textposition": "auto",
         "type": "bar",
         "x": [
          "Book",
          "Iconographic material"
         ],
         "xaxis": "x",
         "y": [
          2,
          23
         ],
         "yaxis": "y"
        },
        {
         "alignmentgroup": "True",
         "hovertemplate": "Date of Publication=1975<br>Material type=%{x}<br>counts=%{y}<extra></extra>",
         "legendgroup": "1975",
         "marker": {
          "color": "#ab63fa",
          "pattern": {
           "shape": ""
          }
         },
         "name": "1975",
         "offsetgroup": "1975",
         "orientation": "v",
         "showlegend": true,
         "textposition": "auto",
         "type": "bar",
         "x": [
          "Book",
          "Iconographic material",
          "Periodical"
         ],
         "xaxis": "x",
         "y": [
          1,
          12,
          1
         ],
         "yaxis": "y"
        },
        {
         "alignmentgroup": "True",
         "hovertemplate": "Date of Publication=1977<br>Material type=%{x}<br>counts=%{y}<extra></extra>",
         "legendgroup": "1977",
         "marker": {
          "color": "#FFA15A",
          "pattern": {
           "shape": ""
          }
         },
         "name": "1977",
         "offsetgroup": "1977",
         "orientation": "v",
         "showlegend": true,
         "textposition": "auto",
         "type": "bar",
         "x": [
          "Book",
          "Iconographic material"
         ],
         "xaxis": "x",
         "y": [
          2,
          9
         ],
         "yaxis": "y"
        },
        {
         "alignmentgroup": "True",
         "hovertemplate": "Date of Publication=1978<br>Material type=%{x}<br>counts=%{y}<extra></extra>",
         "legendgroup": "1978",
         "marker": {
          "color": "#19d3f3",
          "pattern": {
           "shape": ""
          }
         },
         "name": "1978",
         "offsetgroup": "1978",
         "orientation": "v",
         "showlegend": true,
         "textposition": "auto",
         "type": "bar",
         "x": [
          "Book",
          "Iconographic material"
         ],
         "xaxis": "x",
         "y": [
          1,
          9
         ],
         "yaxis": "y"
        },
        {
         "alignmentgroup": "True",
         "hovertemplate": "Date of Publication=1979<br>Material type=%{x}<br>counts=%{y}<extra></extra>",
         "legendgroup": "1979",
         "marker": {
          "color": "#FF6692",
          "pattern": {
           "shape": ""
          }
         },
         "name": "1979",
         "offsetgroup": "1979",
         "orientation": "v",
         "showlegend": true,
         "textposition": "auto",
         "type": "bar",
         "x": [
          "Book",
          "Iconographic material"
         ],
         "xaxis": "x",
         "y": [
          2,
          7
         ],
         "yaxis": "y"
        },
        {
         "alignmentgroup": "True",
         "hovertemplate": "Date of Publication=1980<br>Material type=%{x}<br>counts=%{y}<extra></extra>",
         "legendgroup": "1980",
         "marker": {
          "color": "#B6E880",
          "pattern": {
           "shape": ""
          }
         },
         "name": "1980",
         "offsetgroup": "1980",
         "orientation": "v",
         "showlegend": true,
         "textposition": "auto",
         "type": "bar",
         "x": [
          "Book",
          "Iconographic material",
          "Notated music"
         ],
         "xaxis": "x",
         "y": [
          2,
          14,
          2
         ],
         "yaxis": "y"
        },
        {
         "alignmentgroup": "True",
         "hovertemplate": "Date of Publication=1981<br>Material type=%{x}<br>counts=%{y}<extra></extra>",
         "legendgroup": "1981",
         "marker": {
          "color": "#FF97FF",
          "pattern": {
           "shape": ""
          }
         },
         "name": "1981",
         "offsetgroup": "1981",
         "orientation": "v",
         "showlegend": true,
         "textposition": "auto",
         "type": "bar",
         "x": [
          "Book",
          "Iconographic material"
         ],
         "xaxis": "x",
         "y": [
          4,
          8
         ],
         "yaxis": "y"
        },
        {
         "alignmentgroup": "True",
         "hovertemplate": "Date of Publication=1982<br>Material type=%{x}<br>counts=%{y}<extra></extra>",
         "legendgroup": "1982",
         "marker": {
          "color": "#FECB52",
          "pattern": {
           "shape": ""
          }
         },
         "name": "1982",
         "offsetgroup": "1982",
         "orientation": "v",
         "showlegend": true,
         "textposition": "auto",
         "type": "bar",
         "x": [
          "Book",
          "Iconographic material"
         ],
         "xaxis": "x",
         "y": [
          2,
          24
         ],
         "yaxis": "y"
        },
        {
         "alignmentgroup": "True",
         "hovertemplate": "Date of Publication=1983<br>Material type=%{x}<br>counts=%{y}<extra></extra>",
         "legendgroup": "1983",
         "marker": {
          "color": "#636efa",
          "pattern": {
           "shape": ""
          }
         },
         "name": "1983",
         "offsetgroup": "1983",
         "orientation": "v",
         "showlegend": true,
         "textposition": "auto",
         "type": "bar",
         "x": [
          "Book",
          "Iconographic material"
         ],
         "xaxis": "x",
         "y": [
          2,
          27
         ],
         "yaxis": "y"
        },
        {
         "alignmentgroup": "True",
         "hovertemplate": "Date of Publication=1984<br>Material type=%{x}<br>counts=%{y}<extra></extra>",
         "legendgroup": "1984",
         "marker": {
          "color": "#EF553B",
          "pattern": {
           "shape": ""
          }
         },
         "name": "1984",
         "offsetgroup": "1984",
         "orientation": "v",
         "showlegend": true,
         "textposition": "auto",
         "type": "bar",
         "x": [
          "Book",
          "Iconographic material"
         ],
         "xaxis": "x",
         "y": [
          3,
          17
         ],
         "yaxis": "y"
        },
        {
         "alignmentgroup": "True",
         "hovertemplate": "Date of Publication=1985<br>Material type=%{x}<br>counts=%{y}<extra></extra>",
         "legendgroup": "1985",
         "marker": {
          "color": "#00cc96",
          "pattern": {
           "shape": ""
          }
         },
         "name": "1985",
         "offsetgroup": "1985",
         "orientation": "v",
         "showlegend": true,
         "textposition": "auto",
         "type": "bar",
         "x": [
          "Book",
          "Iconographic material"
         ],
         "xaxis": "x",
         "y": [
          5,
          54
         ],
         "yaxis": "y"
        },
        {
         "alignmentgroup": "True",
         "hovertemplate": "Date of Publication=1986<br>Material type=%{x}<br>counts=%{y}<extra></extra>",
         "legendgroup": "1986",
         "marker": {
          "color": "#ab63fa",
          "pattern": {
           "shape": ""
          }
         },
         "name": "1986",
         "offsetgroup": "1986",
         "orientation": "v",
         "showlegend": true,
         "textposition": "auto",
         "type": "bar",
         "x": [
          "Book",
          "Iconographic material",
          "Notated music"
         ],
         "xaxis": "x",
         "y": [
          1,
          16,
          1
         ],
         "yaxis": "y"
        },
        {
         "alignmentgroup": "True",
         "hovertemplate": "Date of Publication=1987<br>Material type=%{x}<br>counts=%{y}<extra></extra>",
         "legendgroup": "1987",
         "marker": {
          "color": "#FFA15A",
          "pattern": {
           "shape": ""
          }
         },
         "name": "1987",
         "offsetgroup": "1987",
         "orientation": "v",
         "showlegend": true,
         "textposition": "auto",
         "type": "bar",
         "x": [
          "Book",
          "Cartographic material",
          "Iconographic material",
          "Periodical"
         ],
         "xaxis": "x",
         "y": [
          2,
          4,
          20,
          1
         ],
         "yaxis": "y"
        },
        {
         "alignmentgroup": "True",
         "hovertemplate": "Date of Publication=1988<br>Material type=%{x}<br>counts=%{y}<extra></extra>",
         "legendgroup": "1988",
         "marker": {
          "color": "#19d3f3",
          "pattern": {
           "shape": ""
          }
         },
         "name": "1988",
         "offsetgroup": "1988",
         "orientation": "v",
         "showlegend": true,
         "textposition": "auto",
         "type": "bar",
         "x": [
          "Book",
          "Iconographic material"
         ],
         "xaxis": "x",
         "y": [
          1,
          25
         ],
         "yaxis": "y"
        },
        {
         "alignmentgroup": "True",
         "hovertemplate": "Date of Publication=1989<br>Material type=%{x}<br>counts=%{y}<extra></extra>",
         "legendgroup": "1989",
         "marker": {
          "color": "#FF6692",
          "pattern": {
           "shape": ""
          }
         },
         "name": "1989",
         "offsetgroup": "1989",
         "orientation": "v",
         "showlegend": true,
         "textposition": "auto",
         "type": "bar",
         "x": [
          "Book",
          "Cartographic material",
          "Iconographic material",
          "Periodical"
         ],
         "xaxis": "x",
         "y": [
          5,
          1,
          8,
          1
         ],
         "yaxis": "y"
        },
        {
         "alignmentgroup": "True",
         "hovertemplate": "Date of Publication=1990<br>Material type=%{x}<br>counts=%{y}<extra></extra>",
         "legendgroup": "1990",
         "marker": {
          "color": "#B6E880",
          "pattern": {
           "shape": ""
          }
         },
         "name": "1990",
         "offsetgroup": "1990",
         "orientation": "v",
         "showlegend": true,
         "textposition": "auto",
         "type": "bar",
         "x": [
          "Book",
          "Cartographic material",
          "Iconographic material"
         ],
         "xaxis": "x",
         "y": [
          2,
          3,
          7
         ],
         "yaxis": "y"
        },
        {
         "alignmentgroup": "True",
         "hovertemplate": "Date of Publication=1991<br>Material type=%{x}<br>counts=%{y}<extra></extra>",
         "legendgroup": "1991",
         "marker": {
          "color": "#FF97FF",
          "pattern": {
           "shape": ""
          }
         },
         "name": "1991",
         "offsetgroup": "1991",
         "orientation": "v",
         "showlegend": true,
         "textposition": "auto",
         "type": "bar",
         "x": [
          "Book",
          "Iconographic material"
         ],
         "xaxis": "x",
         "y": [
          6,
          9
         ],
         "yaxis": "y"
        },
        {
         "alignmentgroup": "True",
         "hovertemplate": "Date of Publication=1992<br>Material type=%{x}<br>counts=%{y}<extra></extra>",
         "legendgroup": "1992",
         "marker": {
          "color": "#FECB52",
          "pattern": {
           "shape": ""
          }
         },
         "name": "1992",
         "offsetgroup": "1992",
         "orientation": "v",
         "showlegend": true,
         "textposition": "auto",
         "type": "bar",
         "x": [
          "Book"
         ],
         "xaxis": "x",
         "y": [
          5
         ],
         "yaxis": "y"
        },
        {
         "alignmentgroup": "True",
         "hovertemplate": "Date of Publication=1993<br>Material type=%{x}<br>counts=%{y}<extra></extra>",
         "legendgroup": "1993",
         "marker": {
          "color": "#636efa",
          "pattern": {
           "shape": ""
          }
         },
         "name": "1993",
         "offsetgroup": "1993",
         "orientation": "v",
         "showlegend": true,
         "textposition": "auto",
         "type": "bar",
         "x": [
          "Book",
          "Iconographic material"
         ],
         "xaxis": "x",
         "y": [
          4,
          8
         ],
         "yaxis": "y"
        },
        {
         "alignmentgroup": "True",
         "hovertemplate": "Date of Publication=1994<br>Material type=%{x}<br>counts=%{y}<extra></extra>",
         "legendgroup": "1994",
         "marker": {
          "color": "#EF553B",
          "pattern": {
           "shape": ""
          }
         },
         "name": "1994",
         "offsetgroup": "1994",
         "orientation": "v",
         "showlegend": true,
         "textposition": "auto",
         "type": "bar",
         "x": [
          "Book",
          "Iconographic material"
         ],
         "xaxis": "x",
         "y": [
          5,
          3
         ],
         "yaxis": "y"
        },
        {
         "alignmentgroup": "True",
         "hovertemplate": "Date of Publication=1995<br>Material type=%{x}<br>counts=%{y}<extra></extra>",
         "legendgroup": "1995",
         "marker": {
          "color": "#00cc96",
          "pattern": {
           "shape": ""
          }
         },
         "name": "1995",
         "offsetgroup": "1995",
         "orientation": "v",
         "showlegend": true,
         "textposition": "auto",
         "type": "bar",
         "x": [
          "Book",
          "Iconographic material"
         ],
         "xaxis": "x",
         "y": [
          6,
          15
         ],
         "yaxis": "y"
        },
        {
         "alignmentgroup": "True",
         "hovertemplate": "Date of Publication=1996<br>Material type=%{x}<br>counts=%{y}<extra></extra>",
         "legendgroup": "1996",
         "marker": {
          "color": "#ab63fa",
          "pattern": {
           "shape": ""
          }
         },
         "name": "1996",
         "offsetgroup": "1996",
         "orientation": "v",
         "showlegend": true,
         "textposition": "auto",
         "type": "bar",
         "x": [
          "Book",
          "Iconographic material"
         ],
         "xaxis": "x",
         "y": [
          11,
          1
         ],
         "yaxis": "y"
        },
        {
         "alignmentgroup": "True",
         "hovertemplate": "Date of Publication=1997<br>Material type=%{x}<br>counts=%{y}<extra></extra>",
         "legendgroup": "1997",
         "marker": {
          "color": "#FFA15A",
          "pattern": {
           "shape": ""
          }
         },
         "name": "1997",
         "offsetgroup": "1997",
         "orientation": "v",
         "showlegend": true,
         "textposition": "auto",
         "type": "bar",
         "x": [
          "Book",
          "Iconographic material",
          "Multimedia"
         ],
         "xaxis": "x",
         "y": [
          12,
          2,
          2
         ],
         "yaxis": "y"
        },
        {
         "alignmentgroup": "True",
         "hovertemplate": "Date of Publication=1998<br>Material type=%{x}<br>counts=%{y}<extra></extra>",
         "legendgroup": "1998",
         "marker": {
          "color": "#19d3f3",
          "pattern": {
           "shape": ""
          }
         },
         "name": "1998",
         "offsetgroup": "1998",
         "orientation": "v",
         "showlegend": true,
         "textposition": "auto",
         "type": "bar",
         "x": [
          "Book",
          "Iconographic material"
         ],
         "xaxis": "x",
         "y": [
          13,
          4
         ],
         "yaxis": "y"
        },
        {
         "alignmentgroup": "True",
         "hovertemplate": "Date of Publication=1999<br>Material type=%{x}<br>counts=%{y}<extra></extra>",
         "legendgroup": "1999",
         "marker": {
          "color": "#FF6692",
          "pattern": {
           "shape": ""
          }
         },
         "name": "1999",
         "offsetgroup": "1999",
         "orientation": "v",
         "showlegend": true,
         "textposition": "auto",
         "type": "bar",
         "x": [
          "Book",
          "Iconographic material"
         ],
         "xaxis": "x",
         "y": [
          20,
          4
         ],
         "yaxis": "y"
        },
        {
         "alignmentgroup": "True",
         "hovertemplate": "Date of Publication=2000<br>Material type=%{x}<br>counts=%{y}<extra></extra>",
         "legendgroup": "2000",
         "marker": {
          "color": "#B6E880",
          "pattern": {
           "shape": ""
          }
         },
         "name": "2000",
         "offsetgroup": "2000",
         "orientation": "v",
         "showlegend": true,
         "textposition": "auto",
         "type": "bar",
         "x": [
          "Book",
          "Electronic resource",
          "Iconographic material"
         ],
         "xaxis": "x",
         "y": [
          16,
          1,
          2
         ],
         "yaxis": "y"
        },
        {
         "alignmentgroup": "True",
         "hovertemplate": "Date of Publication=2001<br>Material type=%{x}<br>counts=%{y}<extra></extra>",
         "legendgroup": "2001",
         "marker": {
          "color": "#FF97FF",
          "pattern": {
           "shape": ""
          }
         },
         "name": "2001",
         "offsetgroup": "2001",
         "orientation": "v",
         "showlegend": true,
         "textposition": "auto",
         "type": "bar",
         "x": [
          "Book",
          "Electronic resource"
         ],
         "xaxis": "x",
         "y": [
          36,
          5
         ],
         "yaxis": "y"
        },
        {
         "alignmentgroup": "True",
         "hovertemplate": "Date of Publication=2002<br>Material type=%{x}<br>counts=%{y}<extra></extra>",
         "legendgroup": "2002",
         "marker": {
          "color": "#FECB52",
          "pattern": {
           "shape": ""
          }
         },
         "name": "2002",
         "offsetgroup": "2002",
         "orientation": "v",
         "showlegend": true,
         "textposition": "auto",
         "type": "bar",
         "x": [
          "Book",
          "Electronic resource",
          "Iconographic material",
          "Multimedia"
         ],
         "xaxis": "x",
         "y": [
          41,
          2,
          1,
          35
         ],
         "yaxis": "y"
        },
        {
         "alignmentgroup": "True",
         "hovertemplate": "Date of Publication=2003<br>Material type=%{x}<br>counts=%{y}<extra></extra>",
         "legendgroup": "2003",
         "marker": {
          "color": "#636efa",
          "pattern": {
           "shape": ""
          }
         },
         "name": "2003",
         "offsetgroup": "2003",
         "orientation": "v",
         "showlegend": true,
         "textposition": "auto",
         "type": "bar",
         "x": [
          "Book",
          "Electronic resource",
          "Multimedia"
         ],
         "xaxis": "x",
         "y": [
          36,
          4,
          6
         ],
         "yaxis": "y"
        },
        {
         "alignmentgroup": "True",
         "hovertemplate": "Date of Publication=2004<br>Material type=%{x}<br>counts=%{y}<extra></extra>",
         "legendgroup": "2004",
         "marker": {
          "color": "#EF553B",
          "pattern": {
           "shape": ""
          }
         },
         "name": "2004",
         "offsetgroup": "2004",
         "orientation": "v",
         "showlegend": true,
         "textposition": "auto",
         "type": "bar",
         "x": [
          "Book",
          "Electronic resource",
          "Manuscript",
          "Multimedia"
         ],
         "xaxis": "x",
         "y": [
          20,
          7,
          1,
          3
         ],
         "yaxis": "y"
        },
        {
         "alignmentgroup": "True",
         "hovertemplate": "Date of Publication=2005<br>Material type=%{x}<br>counts=%{y}<extra></extra>",
         "legendgroup": "2005",
         "marker": {
          "color": "#00cc96",
          "pattern": {
           "shape": ""
          }
         },
         "name": "2005",
         "offsetgroup": "2005",
         "orientation": "v",
         "showlegend": true,
         "textposition": "auto",
         "type": "bar",
         "x": [
          "Book",
          "Electronic resource",
          "Multimedia"
         ],
         "xaxis": "x",
         "y": [
          2,
          4,
          5
         ],
         "yaxis": "y"
        },
        {
         "alignmentgroup": "True",
         "hovertemplate": "Date of Publication=2006<br>Material type=%{x}<br>counts=%{y}<extra></extra>",
         "legendgroup": "2006",
         "marker": {
          "color": "#ab63fa",
          "pattern": {
           "shape": ""
          }
         },
         "name": "2006",
         "offsetgroup": "2006",
         "orientation": "v",
         "showlegend": true,
         "textposition": "auto",
         "type": "bar",
         "x": [
          "Book",
          "Electronic resource",
          "Multimedia"
         ],
         "xaxis": "x",
         "y": [
          2,
          4,
          1
         ],
         "yaxis": "y"
        },
        {
         "alignmentgroup": "True",
         "hovertemplate": "Date of Publication=2007<br>Material type=%{x}<br>counts=%{y}<extra></extra>",
         "legendgroup": "2007",
         "marker": {
          "color": "#FFA15A",
          "pattern": {
           "shape": ""
          }
         },
         "name": "2007",
         "offsetgroup": "2007",
         "orientation": "v",
         "showlegend": true,
         "textposition": "auto",
         "type": "bar",
         "x": [
          "Book",
          "Electronic resource"
         ],
         "xaxis": "x",
         "y": [
          2,
          2
         ],
         "yaxis": "y"
        },
        {
         "alignmentgroup": "True",
         "hovertemplate": "Date of Publication=2008<br>Material type=%{x}<br>counts=%{y}<extra></extra>",
         "legendgroup": "2008",
         "marker": {
          "color": "#19d3f3",
          "pattern": {
           "shape": ""
          }
         },
         "name": "2008",
         "offsetgroup": "2008",
         "orientation": "v",
         "showlegend": true,
         "textposition": "auto",
         "type": "bar",
         "x": [
          "Book",
          "Electronic resource"
         ],
         "xaxis": "x",
         "y": [
          2,
          1
         ],
         "yaxis": "y"
        },
        {
         "alignmentgroup": "True",
         "hovertemplate": "Date of Publication=2009<br>Material type=%{x}<br>counts=%{y}<extra></extra>",
         "legendgroup": "2009",
         "marker": {
          "color": "#FF6692",
          "pattern": {
           "shape": ""
          }
         },
         "name": "2009",
         "offsetgroup": "2009",
         "orientation": "v",
         "showlegend": true,
         "textposition": "auto",
         "type": "bar",
         "x": [
          "Book"
         ],
         "xaxis": "x",
         "y": [
          3
         ],
         "yaxis": "y"
        },
        {
         "alignmentgroup": "True",
         "hovertemplate": "Date of Publication=2011<br>Material type=%{x}<br>counts=%{y}<extra></extra>",
         "legendgroup": "2011",
         "marker": {
          "color": "#B6E880",
          "pattern": {
           "shape": ""
          }
         },
         "name": "2011",
         "offsetgroup": "2011",
         "orientation": "v",
         "showlegend": true,
         "textposition": "auto",
         "type": "bar",
         "x": [
          "Book",
          "Electronic resource"
         ],
         "xaxis": "x",
         "y": [
          1,
          1
         ],
         "yaxis": "y"
        },
        {
         "alignmentgroup": "True",
         "hovertemplate": "Date of Publication=2012<br>Material type=%{x}<br>counts=%{y}<extra></extra>",
         "legendgroup": "2012",
         "marker": {
          "color": "#FF97FF",
          "pattern": {
           "shape": ""
          }
         },
         "name": "2012",
         "offsetgroup": "2012",
         "orientation": "v",
         "showlegend": true,
         "textposition": "auto",
         "type": "bar",
         "x": [
          "Book",
          "Electronic resource",
          "Iconographic material"
         ],
         "xaxis": "x",
         "y": [
          1,
          1,
          1
         ],
         "yaxis": "y"
        },
        {
         "alignmentgroup": "True",
         "hovertemplate": "Date of Publication=2015<br>Material type=%{x}<br>counts=%{y}<extra></extra>",
         "legendgroup": "2015",
         "marker": {
          "color": "#FECB52",
          "pattern": {
           "shape": ""
          }
         },
         "name": "2015",
         "offsetgroup": "2015",
         "orientation": "v",
         "showlegend": true,
         "textposition": "auto",
         "type": "bar",
         "x": [
          "Book",
          "Iconographic material"
         ],
         "xaxis": "x",
         "y": [
          2,
          21
         ],
         "yaxis": "y"
        },
        {
         "alignmentgroup": "True",
         "hovertemplate": "Date of Publication=2017<br>Material type=%{x}<br>counts=%{y}<extra></extra>",
         "legendgroup": "2017",
         "marker": {
          "color": "#636efa",
          "pattern": {
           "shape": ""
          }
         },
         "name": "2017",
         "offsetgroup": "2017",
         "orientation": "v",
         "showlegend": true,
         "textposition": "auto",
         "type": "bar",
         "x": [
          "Book",
          "Iconographic material"
         ],
         "xaxis": "x",
         "y": [
          1,
          51
         ],
         "yaxis": "y"
        },
        {
         "alignmentgroup": "True",
         "hovertemplate": "Date of Publication=175-<br>Material type=%{x}<br>counts=%{y}<extra></extra>",
         "legendgroup": "175-",
         "marker": {
          "color": "#EF553B",
          "pattern": {
           "shape": ""
          }
         },
         "name": "175-",
         "offsetgroup": "175-",
         "orientation": "v",
         "showlegend": true,
         "textposition": "auto",
         "type": "bar",
         "x": [
          "Cartographic material"
         ],
         "xaxis": "x",
         "y": [
          1
         ],
         "yaxis": "y"
        },
        {
         "alignmentgroup": "True",
         "hovertemplate": "Date of Publication=18--<br>Material type=%{x}<br>counts=%{y}<extra></extra>",
         "legendgroup": "18--",
         "marker": {
          "color": "#00cc96",
          "pattern": {
           "shape": ""
          }
         },
         "name": "18--",
         "offsetgroup": "18--",
         "orientation": "v",
         "showlegend": true,
         "textposition": "auto",
         "type": "bar",
         "x": [
          "Cartographic material",
          "Iconographic material",
          "Notated music"
         ],
         "xaxis": "x",
         "y": [
          1,
          2,
          2
         ],
         "yaxis": "y"
        },
        {
         "alignmentgroup": "True",
         "hovertemplate": "Date of Publication=196-<br>Material type=%{x}<br>counts=%{y}<extra></extra>",
         "legendgroup": "196-",
         "marker": {
          "color": "#ab63fa",
          "pattern": {
           "shape": ""
          }
         },
         "name": "196-",
         "offsetgroup": "196-",
         "orientation": "v",
         "showlegend": true,
         "textposition": "auto",
         "type": "bar",
         "x": [
          "Cartographic material"
         ],
         "xaxis": "x",
         "y": [
          1
         ],
         "yaxis": "y"
        },
        {
         "alignmentgroup": "True",
         "hovertemplate": "Date of Publication=1976<br>Material type=%{x}<br>counts=%{y}<extra></extra>",
         "legendgroup": "1976",
         "marker": {
          "color": "#FFA15A",
          "pattern": {
           "shape": ""
          }
         },
         "name": "1976",
         "offsetgroup": "1976",
         "orientation": "v",
         "showlegend": true,
         "textposition": "auto",
         "type": "bar",
         "x": [
          "Cartographic material",
          "Iconographic material"
         ],
         "xaxis": "x",
         "y": [
          1,
          8
         ],
         "yaxis": "y"
        },
        {
         "alignmentgroup": "True",
         "hovertemplate": "Date of Publication=2013<br>Material type=%{x}<br>counts=%{y}<extra></extra>",
         "legendgroup": "2013",
         "marker": {
          "color": "#19d3f3",
          "pattern": {
           "shape": ""
          }
         },
         "name": "2013",
         "offsetgroup": "2013",
         "orientation": "v",
         "showlegend": true,
         "textposition": "auto",
         "type": "bar",
         "x": [
          "Electronic resource",
          "Iconographic material"
         ],
         "xaxis": "x",
         "y": [
          1,
          11
         ],
         "yaxis": "y"
        },
        {
         "alignmentgroup": "True",
         "hovertemplate": "Date of Publication=2014<br>Material type=%{x}<br>counts=%{y}<extra></extra>",
         "legendgroup": "2014",
         "marker": {
          "color": "#FF6692",
          "pattern": {
           "shape": ""
          }
         },
         "name": "2014",
         "offsetgroup": "2014",
         "orientation": "v",
         "showlegend": true,
         "textposition": "auto",
         "type": "bar",
         "x": [
          "Electronic resource",
          "Iconographic material"
         ],
         "xaxis": "x",
         "y": [
          1,
          29
         ],
         "yaxis": "y"
        },
        {
         "alignmentgroup": "True",
         "hovertemplate": "Date of Publication=2016<br>Material type=%{x}<br>counts=%{y}<extra></extra>",
         "legendgroup": "2016",
         "marker": {
          "color": "#B6E880",
          "pattern": {
           "shape": ""
          }
         },
         "name": "2016",
         "offsetgroup": "2016",
         "orientation": "v",
         "showlegend": true,
         "textposition": "auto",
         "type": "bar",
         "x": [
          "Electronic resource",
          "Iconographic material"
         ],
         "xaxis": "x",
         "y": [
          1,
          42
         ],
         "yaxis": "y"
        },
        {
         "alignmentgroup": "True",
         "hovertemplate": "Date of Publication=163 <br>Material type=%{x}<br>counts=%{y}<extra></extra>",
         "legendgroup": "163 ",
         "marker": {
          "color": "#FF97FF",
          "pattern": {
           "shape": ""
          }
         },
         "name": "163 ",
         "offsetgroup": "163 ",
         "orientation": "v",
         "showlegend": true,
         "textposition": "auto",
         "type": "bar",
         "x": [
          "Iconographic material"
         ],
         "xaxis": "x",
         "y": [
          1
         ],
         "yaxis": "y"
        },
        {
         "alignmentgroup": "True",
         "hovertemplate": "Date of Publication=174 <br>Material type=%{x}<br>counts=%{y}<extra></extra>",
         "legendgroup": "174 ",
         "marker": {
          "color": "#FECB52",
          "pattern": {
           "shape": ""
          }
         },
         "name": "174 ",
         "offsetgroup": "174 ",
         "orientation": "v",
         "showlegend": true,
         "textposition": "auto",
         "type": "bar",
         "x": [
          "Iconographic material"
         ],
         "xaxis": "x",
         "y": [
          1
         ],
         "yaxis": "y"
        },
        {
         "alignmentgroup": "True",
         "hovertemplate": "Date of Publication=179 <br>Material type=%{x}<br>counts=%{y}<extra></extra>",
         "legendgroup": "179 ",
         "marker": {
          "color": "#636efa",
          "pattern": {
           "shape": ""
          }
         },
         "name": "179 ",
         "offsetgroup": "179 ",
         "orientation": "v",
         "showlegend": true,
         "textposition": "auto",
         "type": "bar",
         "x": [
          "Iconographic material",
          "Notated music"
         ],
         "xaxis": "x",
         "y": [
          3,
          1
         ],
         "yaxis": "y"
        },
        {
         "alignmentgroup": "True",
         "hovertemplate": "Date of Publication=184o<br>Material type=%{x}<br>counts=%{y}<extra></extra>",
         "legendgroup": "184o",
         "marker": {
          "color": "#EF553B",
          "pattern": {
           "shape": ""
          }
         },
         "name": "184o",
         "offsetgroup": "184o",
         "orientation": "v",
         "showlegend": true,
         "textposition": "auto",
         "type": "bar",
         "x": [
          "Iconographic material"
         ],
         "xaxis": "x",
         "y": [
          2
         ],
         "yaxis": "y"
        },
        {
         "alignmentgroup": "True",
         "hovertemplate": "Date of Publication=192-<br>Material type=%{x}<br>counts=%{y}<extra></extra>",
         "legendgroup": "192-",
         "marker": {
          "color": "#00cc96",
          "pattern": {
           "shape": ""
          }
         },
         "name": "192-",
         "offsetgroup": "192-",
         "orientation": "v",
         "showlegend": true,
         "textposition": "auto",
         "type": "bar",
         "x": [
          "Iconographic material",
          "Periodical"
         ],
         "xaxis": "x",
         "y": [
          6,
          1
         ],
         "yaxis": "y"
        },
        {
         "alignmentgroup": "True",
         "hovertemplate": "Date of Publication=195 <br>Material type=%{x}<br>counts=%{y}<extra></extra>",
         "legendgroup": "195 ",
         "marker": {
          "color": "#ab63fa",
          "pattern": {
           "shape": ""
          }
         },
         "name": "195 ",
         "offsetgroup": "195 ",
         "orientation": "v",
         "showlegend": true,
         "textposition": "auto",
         "type": "bar",
         "x": [
          "Iconographic material"
         ],
         "xaxis": "x",
         "y": [
          7
         ],
         "yaxis": "y"
        },
        {
         "alignmentgroup": "True",
         "hovertemplate": "Date of Publication=1957<br>Material type=%{x}<br>counts=%{y}<extra></extra>",
         "legendgroup": "1957",
         "marker": {
          "color": "#FFA15A",
          "pattern": {
           "shape": ""
          }
         },
         "name": "1957",
         "offsetgroup": "1957",
         "orientation": "v",
         "showlegend": true,
         "textposition": "auto",
         "type": "bar",
         "x": [
          "Iconographic material"
         ],
         "xaxis": "x",
         "y": [
          2
         ],
         "yaxis": "y"
        },
        {
         "alignmentgroup": "True",
         "hovertemplate": "Date of Publication=1967<br>Material type=%{x}<br>counts=%{y}<extra></extra>",
         "legendgroup": "1967",
         "marker": {
          "color": "#19d3f3",
          "pattern": {
           "shape": ""
          }
         },
         "name": "1967",
         "offsetgroup": "1967",
         "orientation": "v",
         "showlegend": true,
         "textposition": "auto",
         "type": "bar",
         "x": [
          "Iconographic material"
         ],
         "xaxis": "x",
         "y": [
          14
         ],
         "yaxis": "y"
        },
        {
         "alignmentgroup": "True",
         "hovertemplate": "Date of Publication=2018<br>Material type=%{x}<br>counts=%{y}<extra></extra>",
         "legendgroup": "2018",
         "marker": {
          "color": "#FF6692",
          "pattern": {
           "shape": ""
          }
         },
         "name": "2018",
         "offsetgroup": "2018",
         "orientation": "v",
         "showlegend": true,
         "textposition": "auto",
         "type": "bar",
         "x": [
          "Iconographic material"
         ],
         "xaxis": "x",
         "y": [
          27
         ],
         "yaxis": "y"
        },
        {
         "alignmentgroup": "True",
         "hovertemplate": "Date of Publication=2019<br>Material type=%{x}<br>counts=%{y}<extra></extra>",
         "legendgroup": "2019",
         "marker": {
          "color": "#B6E880",
          "pattern": {
           "shape": ""
          }
         },
         "name": "2019",
         "offsetgroup": "2019",
         "orientation": "v",
         "showlegend": true,
         "textposition": "auto",
         "type": "bar",
         "x": [
          "Iconographic material"
         ],
         "xaxis": "x",
         "y": [
          5
         ],
         "yaxis": "y"
        },
        {
         "alignmentgroup": "True",
         "hovertemplate": "Date of Publication=1010<br>Material type=%{x}<br>counts=%{y}<extra></extra>",
         "legendgroup": "1010",
         "marker": {
          "color": "#FF97FF",
          "pattern": {
           "shape": ""
          }
         },
         "name": "1010",
         "offsetgroup": "1010",
         "orientation": "v",
         "showlegend": true,
         "textposition": "auto",
         "type": "bar",
         "x": [
          "Manuscript"
         ],
         "xaxis": "x",
         "y": [
          1
         ],
         "yaxis": "y"
        },
        {
         "alignmentgroup": "True",
         "hovertemplate": "Date of Publication=1075<br>Material type=%{x}<br>counts=%{y}<extra></extra>",
         "legendgroup": "1075",
         "marker": {
          "color": "#FECB52",
          "pattern": {
           "shape": ""
          }
         },
         "name": "1075",
         "offsetgroup": "1075",
         "orientation": "v",
         "showlegend": true,
         "textposition": "auto",
         "type": "bar",
         "x": [
          "Manuscript"
         ],
         "xaxis": "x",
         "y": [
          1
         ],
         "yaxis": "y"
        },
        {
         "alignmentgroup": "True",
         "hovertemplate": "Date of Publication=1101<br>Material type=%{x}<br>counts=%{y}<extra></extra>",
         "legendgroup": "1101",
         "marker": {
          "color": "#636efa",
          "pattern": {
           "shape": ""
          }
         },
         "name": "1101",
         "offsetgroup": "1101",
         "orientation": "v",
         "showlegend": true,
         "textposition": "auto",
         "type": "bar",
         "x": [
          "Manuscript"
         ],
         "xaxis": "x",
         "y": [
          6
         ],
         "yaxis": "y"
        },
        {
         "alignmentgroup": "True",
         "hovertemplate": "Date of Publication=1111<br>Material type=%{x}<br>counts=%{y}<extra></extra>",
         "legendgroup": "1111",
         "marker": {
          "color": "#EF553B",
          "pattern": {
           "shape": ""
          }
         },
         "name": "1111",
         "offsetgroup": "1111",
         "orientation": "v",
         "showlegend": true,
         "textposition": "auto",
         "type": "bar",
         "x": [
          "Manuscript"
         ],
         "xaxis": "x",
         "y": [
          1
         ],
         "yaxis": "y"
        },
        {
         "alignmentgroup": "True",
         "hovertemplate": "Date of Publication=1128<br>Material type=%{x}<br>counts=%{y}<extra></extra>",
         "legendgroup": "1128",
         "marker": {
          "color": "#00cc96",
          "pattern": {
           "shape": ""
          }
         },
         "name": "1128",
         "offsetgroup": "1128",
         "orientation": "v",
         "showlegend": true,
         "textposition": "auto",
         "type": "bar",
         "x": [
          "Manuscript"
         ],
         "xaxis": "x",
         "y": [
          1
         ],
         "yaxis": "y"
        },
        {
         "alignmentgroup": "True",
         "hovertemplate": "Date of Publication=1172<br>Material type=%{x}<br>counts=%{y}<extra></extra>",
         "legendgroup": "1172",
         "marker": {
          "color": "#ab63fa",
          "pattern": {
           "shape": ""
          }
         },
         "name": "1172",
         "offsetgroup": "1172",
         "orientation": "v",
         "showlegend": true,
         "textposition": "auto",
         "type": "bar",
         "x": [
          "Manuscript"
         ],
         "xaxis": "x",
         "y": [
          1
         ],
         "yaxis": "y"
        },
        {
         "alignmentgroup": "True",
         "hovertemplate": "Date of Publication=1175<br>Material type=%{x}<br>counts=%{y}<extra></extra>",
         "legendgroup": "1175",
         "marker": {
          "color": "#FFA15A",
          "pattern": {
           "shape": ""
          }
         },
         "name": "1175",
         "offsetgroup": "1175",
         "orientation": "v",
         "showlegend": true,
         "textposition": "auto",
         "type": "bar",
         "x": [
          "Manuscript"
         ],
         "xaxis": "x",
         "y": [
          1
         ],
         "yaxis": "y"
        },
        {
         "alignmentgroup": "True",
         "hovertemplate": "Date of Publication=1176<br>Material type=%{x}<br>counts=%{y}<extra></extra>",
         "legendgroup": "1176",
         "marker": {
          "color": "#19d3f3",
          "pattern": {
           "shape": ""
          }
         },
         "name": "1176",
         "offsetgroup": "1176",
         "orientation": "v",
         "showlegend": true,
         "textposition": "auto",
         "type": "bar",
         "x": [
          "Manuscript"
         ],
         "xaxis": "x",
         "y": [
          37
         ],
         "yaxis": "y"
        },
        {
         "alignmentgroup": "True",
         "hovertemplate": "Date of Publication=1185<br>Material type=%{x}<br>counts=%{y}<extra></extra>",
         "legendgroup": "1185",
         "marker": {
          "color": "#FF6692",
          "pattern": {
           "shape": ""
          }
         },
         "name": "1185",
         "offsetgroup": "1185",
         "orientation": "v",
         "showlegend": true,
         "textposition": "auto",
         "type": "bar",
         "x": [
          "Manuscript"
         ],
         "xaxis": "x",
         "y": [
          1
         ],
         "yaxis": "y"
        },
        {
         "alignmentgroup": "True",
         "hovertemplate": "Date of Publication=1193<br>Material type=%{x}<br>counts=%{y}<extra></extra>",
         "legendgroup": "1193",
         "marker": {
          "color": "#B6E880",
          "pattern": {
           "shape": ""
          }
         },
         "name": "1193",
         "offsetgroup": "1193",
         "orientation": "v",
         "showlegend": true,
         "textposition": "auto",
         "type": "bar",
         "x": [
          "Manuscript"
         ],
         "xaxis": "x",
         "y": [
          2
         ],
         "yaxis": "y"
        },
        {
         "alignmentgroup": "True",
         "hovertemplate": "Date of Publication=12--<br>Material type=%{x}<br>counts=%{y}<extra></extra>",
         "legendgroup": "12--",
         "marker": {
          "color": "#FF97FF",
          "pattern": {
           "shape": ""
          }
         },
         "name": "12--",
         "offsetgroup": "12--",
         "orientation": "v",
         "showlegend": true,
         "textposition": "auto",
         "type": "bar",
         "x": [
          "Manuscript"
         ],
         "xaxis": "x",
         "y": [
          1
         ],
         "yaxis": "y"
        },
        {
         "alignmentgroup": "True",
         "hovertemplate": "Date of Publication=1200<br>Material type=%{x}<br>counts=%{y}<extra></extra>",
         "legendgroup": "1200",
         "marker": {
          "color": "#FECB52",
          "pattern": {
           "shape": ""
          }
         },
         "name": "1200",
         "offsetgroup": "1200",
         "orientation": "v",
         "showlegend": true,
         "textposition": "auto",
         "type": "bar",
         "x": [
          "Manuscript"
         ],
         "xaxis": "x",
         "y": [
          1
         ],
         "yaxis": "y"
        },
        {
         "alignmentgroup": "True",
         "hovertemplate": "Date of Publication=1201<br>Material type=%{x}<br>counts=%{y}<extra></extra>",
         "legendgroup": "1201",
         "marker": {
          "color": "#636efa",
          "pattern": {
           "shape": ""
          }
         },
         "name": "1201",
         "offsetgroup": "1201",
         "orientation": "v",
         "showlegend": true,
         "textposition": "auto",
         "type": "bar",
         "x": [
          "Manuscript",
          "Notated music"
         ],
         "xaxis": "x",
         "y": [
          129,
          2
         ],
         "yaxis": "y"
        },
        {
         "alignmentgroup": "True",
         "hovertemplate": "Date of Publication=1212<br>Material type=%{x}<br>counts=%{y}<extra></extra>",
         "legendgroup": "1212",
         "marker": {
          "color": "#EF553B",
          "pattern": {
           "shape": ""
          }
         },
         "name": "1212",
         "offsetgroup": "1212",
         "orientation": "v",
         "showlegend": true,
         "textposition": "auto",
         "type": "bar",
         "x": [
          "Manuscript"
         ],
         "xaxis": "x",
         "y": [
          1
         ],
         "yaxis": "y"
        },
        {
         "alignmentgroup": "True",
         "hovertemplate": "Date of Publication=1221<br>Material type=%{x}<br>counts=%{y}<extra></extra>",
         "legendgroup": "1221",
         "marker": {
          "color": "#00cc96",
          "pattern": {
           "shape": ""
          }
         },
         "name": "1221",
         "offsetgroup": "1221",
         "orientation": "v",
         "showlegend": true,
         "textposition": "auto",
         "type": "bar",
         "x": [
          "Manuscript"
         ],
         "xaxis": "x",
         "y": [
          1
         ],
         "yaxis": "y"
        },
        {
         "alignmentgroup": "True",
         "hovertemplate": "Date of Publication=1225<br>Material type=%{x}<br>counts=%{y}<extra></extra>",
         "legendgroup": "1225",
         "marker": {
          "color": "#ab63fa",
          "pattern": {
           "shape": ""
          }
         },
         "name": "1225",
         "offsetgroup": "1225",
         "orientation": "v",
         "showlegend": true,
         "textposition": "auto",
         "type": "bar",
         "x": [
          "Manuscript"
         ],
         "xaxis": "x",
         "y": [
          1
         ],
         "yaxis": "y"
        },
        {
         "alignmentgroup": "True",
         "hovertemplate": "Date of Publication=1226<br>Material type=%{x}<br>counts=%{y}<extra></extra>",
         "legendgroup": "1226",
         "marker": {
          "color": "#FFA15A",
          "pattern": {
           "shape": ""
          }
         },
         "name": "1226",
         "offsetgroup": "1226",
         "orientation": "v",
         "showlegend": true,
         "textposition": "auto",
         "type": "bar",
         "x": [
          "Manuscript"
         ],
         "xaxis": "x",
         "y": [
          1
         ],
         "yaxis": "y"
        },
        {
         "alignmentgroup": "True",
         "hovertemplate": "Date of Publication=1230<br>Material type=%{x}<br>counts=%{y}<extra></extra>",
         "legendgroup": "1230",
         "marker": {
          "color": "#19d3f3",
          "pattern": {
           "shape": ""
          }
         },
         "name": "1230",
         "offsetgroup": "1230",
         "orientation": "v",
         "showlegend": true,
         "textposition": "auto",
         "type": "bar",
         "x": [
          "Manuscript"
         ],
         "xaxis": "x",
         "y": [
          2
         ],
         "yaxis": "y"
        },
        {
         "alignmentgroup": "True",
         "hovertemplate": "Date of Publication=1231<br>Material type=%{x}<br>counts=%{y}<extra></extra>",
         "legendgroup": "1231",
         "marker": {
          "color": "#FF6692",
          "pattern": {
           "shape": ""
          }
         },
         "name": "1231",
         "offsetgroup": "1231",
         "orientation": "v",
         "showlegend": true,
         "textposition": "auto",
         "type": "bar",
         "x": [
          "Manuscript"
         ],
         "xaxis": "x",
         "y": [
          1
         ],
         "yaxis": "y"
        },
        {
         "alignmentgroup": "True",
         "hovertemplate": "Date of Publication=1235<br>Material type=%{x}<br>counts=%{y}<extra></extra>",
         "legendgroup": "1235",
         "marker": {
          "color": "#B6E880",
          "pattern": {
           "shape": ""
          }
         },
         "name": "1235",
         "offsetgroup": "1235",
         "orientation": "v",
         "showlegend": true,
         "textposition": "auto",
         "type": "bar",
         "x": [
          "Manuscript"
         ],
         "xaxis": "x",
         "y": [
          1
         ],
         "yaxis": "y"
        },
        {
         "alignmentgroup": "True",
         "hovertemplate": "Date of Publication=1240<br>Material type=%{x}<br>counts=%{y}<extra></extra>",
         "legendgroup": "1240",
         "marker": {
          "color": "#FF97FF",
          "pattern": {
           "shape": ""
          }
         },
         "name": "1240",
         "offsetgroup": "1240",
         "orientation": "v",
         "showlegend": true,
         "textposition": "auto",
         "type": "bar",
         "x": [
          "Manuscript"
         ],
         "xaxis": "x",
         "y": [
          1
         ],
         "yaxis": "y"
        },
        {
         "alignmentgroup": "True",
         "hovertemplate": "Date of Publication=1250<br>Material type=%{x}<br>counts=%{y}<extra></extra>",
         "legendgroup": "1250",
         "marker": {
          "color": "#FECB52",
          "pattern": {
           "shape": ""
          }
         },
         "name": "1250",
         "offsetgroup": "1250",
         "orientation": "v",
         "showlegend": true,
         "textposition": "auto",
         "type": "bar",
         "x": [
          "Manuscript"
         ],
         "xaxis": "x",
         "y": [
          2
         ],
         "yaxis": "y"
        },
        {
         "alignmentgroup": "True",
         "hovertemplate": "Date of Publication=1251<br>Material type=%{x}<br>counts=%{y}<extra></extra>",
         "legendgroup": "1251",
         "marker": {
          "color": "#636efa",
          "pattern": {
           "shape": ""
          }
         },
         "name": "1251",
         "offsetgroup": "1251",
         "orientation": "v",
         "showlegend": true,
         "textposition": "auto",
         "type": "bar",
         "x": [
          "Manuscript",
          "Notated music"
         ],
         "xaxis": "x",
         "y": [
          6,
          3
         ],
         "yaxis": "y"
        },
        {
         "alignmentgroup": "True",
         "hovertemplate": "Date of Publication=1255<br>Material type=%{x}<br>counts=%{y}<extra></extra>",
         "legendgroup": "1255",
         "marker": {
          "color": "#EF553B",
          "pattern": {
           "shape": ""
          }
         },
         "name": "1255",
         "offsetgroup": "1255",
         "orientation": "v",
         "showlegend": true,
         "textposition": "auto",
         "type": "bar",
         "x": [
          "Manuscript"
         ],
         "xaxis": "x",
         "y": [
          1
         ],
         "yaxis": "y"
        },
        {
         "alignmentgroup": "True",
         "hovertemplate": "Date of Publication=1260<br>Material type=%{x}<br>counts=%{y}<extra></extra>",
         "legendgroup": "1260",
         "marker": {
          "color": "#00cc96",
          "pattern": {
           "shape": ""
          }
         },
         "name": "1260",
         "offsetgroup": "1260",
         "orientation": "v",
         "showlegend": true,
         "textposition": "auto",
         "type": "bar",
         "x": [
          "Manuscript"
         ],
         "xaxis": "x",
         "y": [
          1
         ],
         "yaxis": "y"
        },
        {
         "alignmentgroup": "True",
         "hovertemplate": "Date of Publication=1270<br>Material type=%{x}<br>counts=%{y}<extra></extra>",
         "legendgroup": "1270",
         "marker": {
          "color": "#ab63fa",
          "pattern": {
           "shape": ""
          }
         },
         "name": "1270",
         "offsetgroup": "1270",
         "orientation": "v",
         "showlegend": true,
         "textposition": "auto",
         "type": "bar",
         "x": [
          "Manuscript"
         ],
         "xaxis": "x",
         "y": [
          2
         ],
         "yaxis": "y"
        },
        {
         "alignmentgroup": "True",
         "hovertemplate": "Date of Publication=1275<br>Material type=%{x}<br>counts=%{y}<extra></extra>",
         "legendgroup": "1275",
         "marker": {
          "color": "#FFA15A",
          "pattern": {
           "shape": ""
          }
         },
         "name": "1275",
         "offsetgroup": "1275",
         "orientation": "v",
         "showlegend": true,
         "textposition": "auto",
         "type": "bar",
         "x": [
          "Manuscript"
         ],
         "xaxis": "x",
         "y": [
          2
         ],
         "yaxis": "y"
        },
        {
         "alignmentgroup": "True",
         "hovertemplate": "Date of Publication=1276<br>Material type=%{x}<br>counts=%{y}<extra></extra>",
         "legendgroup": "1276",
         "marker": {
          "color": "#19d3f3",
          "pattern": {
           "shape": ""
          }
         },
         "name": "1276",
         "offsetgroup": "1276",
         "orientation": "v",
         "showlegend": true,
         "textposition": "auto",
         "type": "bar",
         "x": [
          "Manuscript"
         ],
         "xaxis": "x",
         "y": [
          21
         ],
         "yaxis": "y"
        },
        {
         "alignmentgroup": "True",
         "hovertemplate": "Date of Publication=1285<br>Material type=%{x}<br>counts=%{y}<extra></extra>",
         "legendgroup": "1285",
         "marker": {
          "color": "#FF6692",
          "pattern": {
           "shape": ""
          }
         },
         "name": "1285",
         "offsetgroup": "1285",
         "orientation": "v",
         "showlegend": true,
         "textposition": "auto",
         "type": "bar",
         "x": [
          "Manuscript"
         ],
         "xaxis": "x",
         "y": [
          1
         ],
         "yaxis": "y"
        },
        {
         "alignmentgroup": "True",
         "hovertemplate": "Date of Publication=1290<br>Material type=%{x}<br>counts=%{y}<extra></extra>",
         "legendgroup": "1290",
         "marker": {
          "color": "#B6E880",
          "pattern": {
           "shape": ""
          }
         },
         "name": "1290",
         "offsetgroup": "1290",
         "orientation": "v",
         "showlegend": true,
         "textposition": "auto",
         "type": "bar",
         "x": [
          "Manuscript"
         ],
         "xaxis": "x",
         "y": [
          2
         ],
         "yaxis": "y"
        },
        {
         "alignmentgroup": "True",
         "hovertemplate": "Date of Publication=1293<br>Material type=%{x}<br>counts=%{y}<extra></extra>",
         "legendgroup": "1293",
         "marker": {
          "color": "#FF97FF",
          "pattern": {
           "shape": ""
          }
         },
         "name": "1293",
         "offsetgroup": "1293",
         "orientation": "v",
         "showlegend": true,
         "textposition": "auto",
         "type": "bar",
         "x": [
          "Manuscript"
         ],
         "xaxis": "x",
         "y": [
          1
         ],
         "yaxis": "y"
        },
        {
         "alignmentgroup": "True",
         "hovertemplate": "Date of Publication=1294<br>Material type=%{x}<br>counts=%{y}<extra></extra>",
         "legendgroup": "1294",
         "marker": {
          "color": "#FECB52",
          "pattern": {
           "shape": ""
          }
         },
         "name": "1294",
         "offsetgroup": "1294",
         "orientation": "v",
         "showlegend": true,
         "textposition": "auto",
         "type": "bar",
         "x": [
          "Manuscript"
         ],
         "xaxis": "x",
         "y": [
          1
         ],
         "yaxis": "y"
        },
        {
         "alignmentgroup": "True",
         "hovertemplate": "Date of Publication=1299<br>Material type=%{x}<br>counts=%{y}<extra></extra>",
         "legendgroup": "1299",
         "marker": {
          "color": "#636efa",
          "pattern": {
           "shape": ""
          }
         },
         "name": "1299",
         "offsetgroup": "1299",
         "orientation": "v",
         "showlegend": true,
         "textposition": "auto",
         "type": "bar",
         "x": [
          "Manuscript"
         ],
         "xaxis": "x",
         "y": [
          1
         ],
         "yaxis": "y"
        },
        {
         "alignmentgroup": "True",
         "hovertemplate": "Date of Publication=13--<br>Material type=%{x}<br>counts=%{y}<extra></extra>",
         "legendgroup": "13--",
         "marker": {
          "color": "#EF553B",
          "pattern": {
           "shape": ""
          }
         },
         "name": "13--",
         "offsetgroup": "13--",
         "orientation": "v",
         "showlegend": true,
         "textposition": "auto",
         "type": "bar",
         "x": [
          "Manuscript"
         ],
         "xaxis": "x",
         "y": [
          1
         ],
         "yaxis": "y"
        },
        {
         "alignmentgroup": "True",
         "hovertemplate": "Date of Publication=1301<br>Material type=%{x}<br>counts=%{y}<extra></extra>",
         "legendgroup": "1301",
         "marker": {
          "color": "#00cc96",
          "pattern": {
           "shape": ""
          }
         },
         "name": "1301",
         "offsetgroup": "1301",
         "orientation": "v",
         "showlegend": true,
         "textposition": "auto",
         "type": "bar",
         "x": [
          "Manuscript",
          "Notated music"
         ],
         "xaxis": "x",
         "y": [
          101,
          3
         ],
         "yaxis": "y"
        },
        {
         "alignmentgroup": "True",
         "hovertemplate": "Date of Publication=1309<br>Material type=%{x}<br>counts=%{y}<extra></extra>",
         "legendgroup": "1309",
         "marker": {
          "color": "#ab63fa",
          "pattern": {
           "shape": ""
          }
         },
         "name": "1309",
         "offsetgroup": "1309",
         "orientation": "v",
         "showlegend": true,
         "textposition": "auto",
         "type": "bar",
         "x": [
          "Manuscript"
         ],
         "xaxis": "x",
         "y": [
          1
         ],
         "yaxis": "y"
        },
        {
         "alignmentgroup": "True",
         "hovertemplate": "Date of Publication=1315<br>Material type=%{x}<br>counts=%{y}<extra></extra>",
         "legendgroup": "1315",
         "marker": {
          "color": "#FFA15A",
          "pattern": {
           "shape": ""
          }
         },
         "name": "1315",
         "offsetgroup": "1315",
         "orientation": "v",
         "showlegend": true,
         "textposition": "auto",
         "type": "bar",
         "x": [
          "Manuscript"
         ],
         "xaxis": "x",
         "y": [
          1
         ],
         "yaxis": "y"
        },
        {
         "alignmentgroup": "True",
         "hovertemplate": "Date of Publication=1318<br>Material type=%{x}<br>counts=%{y}<extra></extra>",
         "legendgroup": "1318",
         "marker": {
          "color": "#19d3f3",
          "pattern": {
           "shape": ""
          }
         },
         "name": "1318",
         "offsetgroup": "1318",
         "orientation": "v",
         "showlegend": true,
         "textposition": "auto",
         "type": "bar",
         "x": [
          "Manuscript"
         ],
         "xaxis": "x",
         "y": [
          1
         ],
         "yaxis": "y"
        },
        {
         "alignmentgroup": "True",
         "hovertemplate": "Date of Publication=1326<br>Material type=%{x}<br>counts=%{y}<extra></extra>",
         "legendgroup": "1326",
         "marker": {
          "color": "#FF6692",
          "pattern": {
           "shape": ""
          }
         },
         "name": "1326",
         "offsetgroup": "1326",
         "orientation": "v",
         "showlegend": true,
         "textposition": "auto",
         "type": "bar",
         "x": [
          "Manuscript"
         ],
         "xaxis": "x",
         "y": [
          1
         ],
         "yaxis": "y"
        },
        {
         "alignmentgroup": "True",
         "hovertemplate": "Date of Publication=1332<br>Material type=%{x}<br>counts=%{y}<extra></extra>",
         "legendgroup": "1332",
         "marker": {
          "color": "#B6E880",
          "pattern": {
           "shape": ""
          }
         },
         "name": "1332",
         "offsetgroup": "1332",
         "orientation": "v",
         "showlegend": true,
         "textposition": "auto",
         "type": "bar",
         "x": [
          "Manuscript"
         ],
         "xaxis": "x",
         "y": [
          1
         ],
         "yaxis": "y"
        },
        {
         "alignmentgroup": "True",
         "hovertemplate": "Date of Publication=1333<br>Material type=%{x}<br>counts=%{y}<extra></extra>",
         "legendgroup": "1333",
         "marker": {
          "color": "#FF97FF",
          "pattern": {
           "shape": ""
          }
         },
         "name": "1333",
         "offsetgroup": "1333",
         "orientation": "v",
         "showlegend": true,
         "textposition": "auto",
         "type": "bar",
         "x": [
          "Manuscript"
         ],
         "xaxis": "x",
         "y": [
          2
         ],
         "yaxis": "y"
        },
        {
         "alignmentgroup": "True",
         "hovertemplate": "Date of Publication=1341<br>Material type=%{x}<br>counts=%{y}<extra></extra>",
         "legendgroup": "1341",
         "marker": {
          "color": "#FECB52",
          "pattern": {
           "shape": ""
          }
         },
         "name": "1341",
         "offsetgroup": "1341",
         "orientation": "v",
         "showlegend": true,
         "textposition": "auto",
         "type": "bar",
         "x": [
          "Manuscript"
         ],
         "xaxis": "x",
         "y": [
          1
         ],
         "yaxis": "y"
        },
        {
         "alignmentgroup": "True",
         "hovertemplate": "Date of Publication=1342<br>Material type=%{x}<br>counts=%{y}<extra></extra>",
         "legendgroup": "1342",
         "marker": {
          "color": "#636efa",
          "pattern": {
           "shape": ""
          }
         },
         "name": "1342",
         "offsetgroup": "1342",
         "orientation": "v",
         "showlegend": true,
         "textposition": "auto",
         "type": "bar",
         "x": [
          "Manuscript"
         ],
         "xaxis": "x",
         "y": [
          1
         ],
         "yaxis": "y"
        },
        {
         "alignmentgroup": "True",
         "hovertemplate": "Date of Publication=1345<br>Material type=%{x}<br>counts=%{y}<extra></extra>",
         "legendgroup": "1345",
         "marker": {
          "color": "#EF553B",
          "pattern": {
           "shape": ""
          }
         },
         "name": "1345",
         "offsetgroup": "1345",
         "orientation": "v",
         "showlegend": true,
         "textposition": "auto",
         "type": "bar",
         "x": [
          "Manuscript"
         ],
         "xaxis": "x",
         "y": [
          1
         ],
         "yaxis": "y"
        },
        {
         "alignmentgroup": "True",
         "hovertemplate": "Date of Publication=1346<br>Material type=%{x}<br>counts=%{y}<extra></extra>",
         "legendgroup": "1346",
         "marker": {
          "color": "#00cc96",
          "pattern": {
           "shape": ""
          }
         },
         "name": "1346",
         "offsetgroup": "1346",
         "orientation": "v",
         "showlegend": true,
         "textposition": "auto",
         "type": "bar",
         "x": [
          "Manuscript"
         ],
         "xaxis": "x",
         "y": [
          1
         ],
         "yaxis": "y"
        },
        {
         "alignmentgroup": "True",
         "hovertemplate": "Date of Publication=1350<br>Material type=%{x}<br>counts=%{y}<extra></extra>",
         "legendgroup": "1350",
         "marker": {
          "color": "#ab63fa",
          "pattern": {
           "shape": ""
          }
         },
         "name": "1350",
         "offsetgroup": "1350",
         "orientation": "v",
         "showlegend": true,
         "textposition": "auto",
         "type": "bar",
         "x": [
          "Manuscript"
         ],
         "xaxis": "x",
         "y": [
          2
         ],
         "yaxis": "y"
        },
        {
         "alignmentgroup": "True",
         "hovertemplate": "Date of Publication=1351<br>Material type=%{x}<br>counts=%{y}<extra></extra>",
         "legendgroup": "1351",
         "marker": {
          "color": "#FFA15A",
          "pattern": {
           "shape": ""
          }
         },
         "name": "1351",
         "offsetgroup": "1351",
         "orientation": "v",
         "showlegend": true,
         "textposition": "auto",
         "type": "bar",
         "x": [
          "Manuscript"
         ],
         "xaxis": "x",
         "y": [
          9
         ],
         "yaxis": "y"
        },
        {
         "alignmentgroup": "True",
         "hovertemplate": "Date of Publication=1375<br>Material type=%{x}<br>counts=%{y}<extra></extra>",
         "legendgroup": "1375",
         "marker": {
          "color": "#19d3f3",
          "pattern": {
           "shape": ""
          }
         },
         "name": "1375",
         "offsetgroup": "1375",
         "orientation": "v",
         "showlegend": true,
         "textposition": "auto",
         "type": "bar",
         "x": [
          "Manuscript"
         ],
         "xaxis": "x",
         "y": [
          1
         ],
         "yaxis": "y"
        },
        {
         "alignmentgroup": "True",
         "hovertemplate": "Date of Publication=1376<br>Material type=%{x}<br>counts=%{y}<extra></extra>",
         "legendgroup": "1376",
         "marker": {
          "color": "#FF6692",
          "pattern": {
           "shape": ""
          }
         },
         "name": "1376",
         "offsetgroup": "1376",
         "orientation": "v",
         "showlegend": true,
         "textposition": "auto",
         "type": "bar",
         "x": [
          "Manuscript"
         ],
         "xaxis": "x",
         "y": [
          10
         ],
         "yaxis": "y"
        },
        {
         "alignmentgroup": "True",
         "hovertemplate": "Date of Publication=1382<br>Material type=%{x}<br>counts=%{y}<extra></extra>",
         "legendgroup": "1382",
         "marker": {
          "color": "#B6E880",
          "pattern": {
           "shape": ""
          }
         },
         "name": "1382",
         "offsetgroup": "1382",
         "orientation": "v",
         "showlegend": true,
         "textposition": "auto",
         "type": "bar",
         "x": [
          "Manuscript"
         ],
         "xaxis": "x",
         "y": [
          1
         ],
         "yaxis": "y"
        },
        {
         "alignmentgroup": "True",
         "hovertemplate": "Date of Publication=1394<br>Material type=%{x}<br>counts=%{y}<extra></extra>",
         "legendgroup": "1394",
         "marker": {
          "color": "#FF97FF",
          "pattern": {
           "shape": ""
          }
         },
         "name": "1394",
         "offsetgroup": "1394",
         "orientation": "v",
         "showlegend": true,
         "textposition": "auto",
         "type": "bar",
         "x": [
          "Manuscript"
         ],
         "xaxis": "x",
         "y": [
          1
         ],
         "yaxis": "y"
        },
        {
         "alignmentgroup": "True",
         "hovertemplate": "Date of Publication=1396<br>Material type=%{x}<br>counts=%{y}<extra></extra>",
         "legendgroup": "1396",
         "marker": {
          "color": "#FECB52",
          "pattern": {
           "shape": ""
          }
         },
         "name": "1396",
         "offsetgroup": "1396",
         "orientation": "v",
         "showlegend": true,
         "textposition": "auto",
         "type": "bar",
         "x": [
          "Manuscript"
         ],
         "xaxis": "x",
         "y": [
          2
         ],
         "yaxis": "y"
        },
        {
         "alignmentgroup": "True",
         "hovertemplate": "Date of Publication=1399<br>Material type=%{x}<br>counts=%{y}<extra></extra>",
         "legendgroup": "1399",
         "marker": {
          "color": "#636efa",
          "pattern": {
           "shape": ""
          }
         },
         "name": "1399",
         "offsetgroup": "1399",
         "orientation": "v",
         "showlegend": true,
         "textposition": "auto",
         "type": "bar",
         "x": [
          "Manuscript"
         ],
         "xaxis": "x",
         "y": [
          2
         ],
         "yaxis": "y"
        },
        {
         "alignmentgroup": "True",
         "hovertemplate": "Date of Publication=1401<br>Material type=%{x}<br>counts=%{y}<extra></extra>",
         "legendgroup": "1401",
         "marker": {
          "color": "#EF553B",
          "pattern": {
           "shape": ""
          }
         },
         "name": "1401",
         "offsetgroup": "1401",
         "orientation": "v",
         "showlegend": true,
         "textposition": "auto",
         "type": "bar",
         "x": [
          "Manuscript"
         ],
         "xaxis": "x",
         "y": [
          44
         ],
         "yaxis": "y"
        },
        {
         "alignmentgroup": "True",
         "hovertemplate": "Date of Publication=1402<br>Material type=%{x}<br>counts=%{y}<extra></extra>",
         "legendgroup": "1402",
         "marker": {
          "color": "#00cc96",
          "pattern": {
           "shape": ""
          }
         },
         "name": "1402",
         "offsetgroup": "1402",
         "orientation": "v",
         "showlegend": true,
         "textposition": "auto",
         "type": "bar",
         "x": [
          "Manuscript"
         ],
         "xaxis": "x",
         "y": [
          1
         ],
         "yaxis": "y"
        },
        {
         "alignmentgroup": "True",
         "hovertemplate": "Date of Publication=1406<br>Material type=%{x}<br>counts=%{y}<extra></extra>",
         "legendgroup": "1406",
         "marker": {
          "color": "#ab63fa",
          "pattern": {
           "shape": ""
          }
         },
         "name": "1406",
         "offsetgroup": "1406",
         "orientation": "v",
         "showlegend": true,
         "textposition": "auto",
         "type": "bar",
         "x": [
          "Manuscript"
         ],
         "xaxis": "x",
         "y": [
          1
         ],
         "yaxis": "y"
        },
        {
         "alignmentgroup": "True",
         "hovertemplate": "Date of Publication=1409<br>Material type=%{x}<br>counts=%{y}<extra></extra>",
         "legendgroup": "1409",
         "marker": {
          "color": "#FFA15A",
          "pattern": {
           "shape": ""
          }
         },
         "name": "1409",
         "offsetgroup": "1409",
         "orientation": "v",
         "showlegend": true,
         "textposition": "auto",
         "type": "bar",
         "x": [
          "Manuscript"
         ],
         "xaxis": "x",
         "y": [
          1
         ],
         "yaxis": "y"
        },
        {
         "alignmentgroup": "True",
         "hovertemplate": "Date of Publication=1414<br>Material type=%{x}<br>counts=%{y}<extra></extra>",
         "legendgroup": "1414",
         "marker": {
          "color": "#19d3f3",
          "pattern": {
           "shape": ""
          }
         },
         "name": "1414",
         "offsetgroup": "1414",
         "orientation": "v",
         "showlegend": true,
         "textposition": "auto",
         "type": "bar",
         "x": [
          "Manuscript"
         ],
         "xaxis": "x",
         "y": [
          1
         ],
         "yaxis": "y"
        },
        {
         "alignmentgroup": "True",
         "hovertemplate": "Date of Publication=1415<br>Material type=%{x}<br>counts=%{y}<extra></extra>",
         "legendgroup": "1415",
         "marker": {
          "color": "#FF6692",
          "pattern": {
           "shape": ""
          }
         },
         "name": "1415",
         "offsetgroup": "1415",
         "orientation": "v",
         "showlegend": true,
         "textposition": "auto",
         "type": "bar",
         "x": [
          "Manuscript"
         ],
         "xaxis": "x",
         "y": [
          2
         ],
         "yaxis": "y"
        },
        {
         "alignmentgroup": "True",
         "hovertemplate": "Date of Publication=1416<br>Material type=%{x}<br>counts=%{y}<extra></extra>",
         "legendgroup": "1416",
         "marker": {
          "color": "#B6E880",
          "pattern": {
           "shape": ""
          }
         },
         "name": "1416",
         "offsetgroup": "1416",
         "orientation": "v",
         "showlegend": true,
         "textposition": "auto",
         "type": "bar",
         "x": [
          "Manuscript"
         ],
         "xaxis": "x",
         "y": [
          1
         ],
         "yaxis": "y"
        },
        {
         "alignmentgroup": "True",
         "hovertemplate": "Date of Publication=1425<br>Material type=%{x}<br>counts=%{y}<extra></extra>",
         "legendgroup": "1425",
         "marker": {
          "color": "#FF97FF",
          "pattern": {
           "shape": ""
          }
         },
         "name": "1425",
         "offsetgroup": "1425",
         "orientation": "v",
         "showlegend": true,
         "textposition": "auto",
         "type": "bar",
         "x": [
          "Manuscript"
         ],
         "xaxis": "x",
         "y": [
          1
         ],
         "yaxis": "y"
        },
        {
         "alignmentgroup": "True",
         "hovertemplate": "Date of Publication=1426<br>Material type=%{x}<br>counts=%{y}<extra></extra>",
         "legendgroup": "1426",
         "marker": {
          "color": "#FECB52",
          "pattern": {
           "shape": ""
          }
         },
         "name": "1426",
         "offsetgroup": "1426",
         "orientation": "v",
         "showlegend": true,
         "textposition": "auto",
         "type": "bar",
         "x": [
          "Manuscript"
         ],
         "xaxis": "x",
         "y": [
          4
         ],
         "yaxis": "y"
        },
        {
         "alignmentgroup": "True",
         "hovertemplate": "Date of Publication=1427<br>Material type=%{x}<br>counts=%{y}<extra></extra>",
         "legendgroup": "1427",
         "marker": {
          "color": "#636efa",
          "pattern": {
           "shape": ""
          }
         },
         "name": "1427",
         "offsetgroup": "1427",
         "orientation": "v",
         "showlegend": true,
         "textposition": "auto",
         "type": "bar",
         "x": [
          "Manuscript"
         ],
         "xaxis": "x",
         "y": [
          1
         ],
         "yaxis": "y"
        },
        {
         "alignmentgroup": "True",
         "hovertemplate": "Date of Publication=1430<br>Material type=%{x}<br>counts=%{y}<extra></extra>",
         "legendgroup": "1430",
         "marker": {
          "color": "#EF553B",
          "pattern": {
           "shape": ""
          }
         },
         "name": "1430",
         "offsetgroup": "1430",
         "orientation": "v",
         "showlegend": true,
         "textposition": "auto",
         "type": "bar",
         "x": [
          "Manuscript"
         ],
         "xaxis": "x",
         "y": [
          1
         ],
         "yaxis": "y"
        },
        {
         "alignmentgroup": "True",
         "hovertemplate": "Date of Publication=1431<br>Material type=%{x}<br>counts=%{y}<extra></extra>",
         "legendgroup": "1431",
         "marker": {
          "color": "#00cc96",
          "pattern": {
           "shape": ""
          }
         },
         "name": "1431",
         "offsetgroup": "1431",
         "orientation": "v",
         "showlegend": true,
         "textposition": "auto",
         "type": "bar",
         "x": [
          "Manuscript"
         ],
         "xaxis": "x",
         "y": [
          2
         ],
         "yaxis": "y"
        },
        {
         "alignmentgroup": "True",
         "hovertemplate": "Date of Publication=1434<br>Material type=%{x}<br>counts=%{y}<extra></extra>",
         "legendgroup": "1434",
         "marker": {
          "color": "#ab63fa",
          "pattern": {
           "shape": ""
          }
         },
         "name": "1434",
         "offsetgroup": "1434",
         "orientation": "v",
         "showlegend": true,
         "textposition": "auto",
         "type": "bar",
         "x": [
          "Manuscript"
         ],
         "xaxis": "x",
         "y": [
          1
         ],
         "yaxis": "y"
        },
        {
         "alignmentgroup": "True",
         "hovertemplate": "Date of Publication=1435<br>Material type=%{x}<br>counts=%{y}<extra></extra>",
         "legendgroup": "1435",
         "marker": {
          "color": "#FFA15A",
          "pattern": {
           "shape": ""
          }
         },
         "name": "1435",
         "offsetgroup": "1435",
         "orientation": "v",
         "showlegend": true,
         "textposition": "auto",
         "type": "bar",
         "x": [
          "Manuscript"
         ],
         "xaxis": "x",
         "y": [
          1
         ],
         "yaxis": "y"
        },
        {
         "alignmentgroup": "True",
         "hovertemplate": "Date of Publication=1436<br>Material type=%{x}<br>counts=%{y}<extra></extra>",
         "legendgroup": "1436",
         "marker": {
          "color": "#19d3f3",
          "pattern": {
           "shape": ""
          }
         },
         "name": "1436",
         "offsetgroup": "1436",
         "orientation": "v",
         "showlegend": true,
         "textposition": "auto",
         "type": "bar",
         "x": [
          "Manuscript"
         ],
         "xaxis": "x",
         "y": [
          1
         ],
         "yaxis": "y"
        },
        {
         "alignmentgroup": "True",
         "hovertemplate": "Date of Publication=1438<br>Material type=%{x}<br>counts=%{y}<extra></extra>",
         "legendgroup": "1438",
         "marker": {
          "color": "#FF6692",
          "pattern": {
           "shape": ""
          }
         },
         "name": "1438",
         "offsetgroup": "1438",
         "orientation": "v",
         "showlegend": true,
         "textposition": "auto",
         "type": "bar",
         "x": [
          "Manuscript"
         ],
         "xaxis": "x",
         "y": [
          1
         ],
         "yaxis": "y"
        },
        {
         "alignmentgroup": "True",
         "hovertemplate": "Date of Publication=1439<br>Material type=%{x}<br>counts=%{y}<extra></extra>",
         "legendgroup": "1439",
         "marker": {
          "color": "#B6E880",
          "pattern": {
           "shape": ""
          }
         },
         "name": "1439",
         "offsetgroup": "1439",
         "orientation": "v",
         "showlegend": true,
         "textposition": "auto",
         "type": "bar",
         "x": [
          "Manuscript"
         ],
         "xaxis": "x",
         "y": [
          1
         ],
         "yaxis": "y"
        },
        {
         "alignmentgroup": "True",
         "hovertemplate": "Date of Publication=1442<br>Material type=%{x}<br>counts=%{y}<extra></extra>",
         "legendgroup": "1442",
         "marker": {
          "color": "#FF97FF",
          "pattern": {
           "shape": ""
          }
         },
         "name": "1442",
         "offsetgroup": "1442",
         "orientation": "v",
         "showlegend": true,
         "textposition": "auto",
         "type": "bar",
         "x": [
          "Manuscript"
         ],
         "xaxis": "x",
         "y": [
          3
         ],
         "yaxis": "y"
        },
        {
         "alignmentgroup": "True",
         "hovertemplate": "Date of Publication=1444<br>Material type=%{x}<br>counts=%{y}<extra></extra>",
         "legendgroup": "1444",
         "marker": {
          "color": "#FECB52",
          "pattern": {
           "shape": ""
          }
         },
         "name": "1444",
         "offsetgroup": "1444",
         "orientation": "v",
         "showlegend": true,
         "textposition": "auto",
         "type": "bar",
         "x": [
          "Manuscript"
         ],
         "xaxis": "x",
         "y": [
          1
         ],
         "yaxis": "y"
        },
        {
         "alignmentgroup": "True",
         "hovertemplate": "Date of Publication=1450<br>Material type=%{x}<br>counts=%{y}<extra></extra>",
         "legendgroup": "1450",
         "marker": {
          "color": "#636efa",
          "pattern": {
           "shape": ""
          }
         },
         "name": "1450",
         "offsetgroup": "1450",
         "orientation": "v",
         "showlegend": true,
         "textposition": "auto",
         "type": "bar",
         "x": [
          "Manuscript"
         ],
         "xaxis": "x",
         "y": [
          6
         ],
         "yaxis": "y"
        },
        {
         "alignmentgroup": "True",
         "hovertemplate": "Date of Publication=1451<br>Material type=%{x}<br>counts=%{y}<extra></extra>",
         "legendgroup": "1451",
         "marker": {
          "color": "#EF553B",
          "pattern": {
           "shape": ""
          }
         },
         "name": "1451",
         "offsetgroup": "1451",
         "orientation": "v",
         "showlegend": true,
         "textposition": "auto",
         "type": "bar",
         "x": [
          "Manuscript"
         ],
         "xaxis": "x",
         "y": [
          11
         ],
         "yaxis": "y"
        },
        {
         "alignmentgroup": "True",
         "hovertemplate": "Date of Publication=1453<br>Material type=%{x}<br>counts=%{y}<extra></extra>",
         "legendgroup": "1453",
         "marker": {
          "color": "#00cc96",
          "pattern": {
           "shape": ""
          }
         },
         "name": "1453",
         "offsetgroup": "1453",
         "orientation": "v",
         "showlegend": true,
         "textposition": "auto",
         "type": "bar",
         "x": [
          "Manuscript"
         ],
         "xaxis": "x",
         "y": [
          1
         ],
         "yaxis": "y"
        },
        {
         "alignmentgroup": "True",
         "hovertemplate": "Date of Publication=1458<br>Material type=%{x}<br>counts=%{y}<extra></extra>",
         "legendgroup": "1458",
         "marker": {
          "color": "#ab63fa",
          "pattern": {
           "shape": ""
          }
         },
         "name": "1458",
         "offsetgroup": "1458",
         "orientation": "v",
         "showlegend": true,
         "textposition": "auto",
         "type": "bar",
         "x": [
          "Manuscript"
         ],
         "xaxis": "x",
         "y": [
          1
         ],
         "yaxis": "y"
        },
        {
         "alignmentgroup": "True",
         "hovertemplate": "Date of Publication=1461<br>Material type=%{x}<br>counts=%{y}<extra></extra>",
         "legendgroup": "1461",
         "marker": {
          "color": "#FFA15A",
          "pattern": {
           "shape": ""
          }
         },
         "name": "1461",
         "offsetgroup": "1461",
         "orientation": "v",
         "showlegend": true,
         "textposition": "auto",
         "type": "bar",
         "x": [
          "Manuscript"
         ],
         "xaxis": "x",
         "y": [
          1
         ],
         "yaxis": "y"
        },
        {
         "alignmentgroup": "True",
         "hovertemplate": "Date of Publication=1462<br>Material type=%{x}<br>counts=%{y}<extra></extra>",
         "legendgroup": "1462",
         "marker": {
          "color": "#19d3f3",
          "pattern": {
           "shape": ""
          }
         },
         "name": "1462",
         "offsetgroup": "1462",
         "orientation": "v",
         "showlegend": true,
         "textposition": "auto",
         "type": "bar",
         "x": [
          "Manuscript"
         ],
         "xaxis": "x",
         "y": [
          1
         ],
         "yaxis": "y"
        },
        {
         "alignmentgroup": "True",
         "hovertemplate": "Date of Publication=1465<br>Material type=%{x}<br>counts=%{y}<extra></extra>",
         "legendgroup": "1465",
         "marker": {
          "color": "#FF6692",
          "pattern": {
           "shape": ""
          }
         },
         "name": "1465",
         "offsetgroup": "1465",
         "orientation": "v",
         "showlegend": true,
         "textposition": "auto",
         "type": "bar",
         "x": [
          "Manuscript"
         ],
         "xaxis": "x",
         "y": [
          1
         ],
         "yaxis": "y"
        },
        {
         "alignmentgroup": "True",
         "hovertemplate": "Date of Publication=15  <br>Material type=%{x}<br>counts=%{y}<extra></extra>",
         "legendgroup": "15  ",
         "marker": {
          "color": "#B6E880",
          "pattern": {
           "shape": ""
          }
         },
         "name": "15  ",
         "offsetgroup": "15  ",
         "orientation": "v",
         "showlegend": true,
         "textposition": "auto",
         "type": "bar",
         "x": [
          "Manuscript"
         ],
         "xaxis": "x",
         "y": [
          1
         ],
         "yaxis": "y"
        },
        {
         "alignmentgroup": "True",
         "hovertemplate": "Date of Publication=15--<br>Material type=%{x}<br>counts=%{y}<extra></extra>",
         "legendgroup": "15--",
         "marker": {
          "color": "#FF97FF",
          "pattern": {
           "shape": ""
          }
         },
         "name": "15--",
         "offsetgroup": "15--",
         "orientation": "v",
         "showlegend": true,
         "textposition": "auto",
         "type": "bar",
         "x": [
          "Manuscript"
         ],
         "xaxis": "x",
         "y": [
          1
         ],
         "yaxis": "y"
        },
        {
         "alignmentgroup": "True",
         "hovertemplate": "Date of Publication=13  <br>Material type=%{x}<br>counts=%{y}<extra></extra>",
         "legendgroup": "13  ",
         "marker": {
          "color": "#FECB52",
          "pattern": {
           "shape": ""
          }
         },
         "name": "13  ",
         "offsetgroup": "13  ",
         "orientation": "v",
         "showlegend": true,
         "textposition": "auto",
         "type": "bar",
         "x": [
          "Notated music"
         ],
         "xaxis": "x",
         "y": [
          1
         ],
         "yaxis": "y"
        },
        {
         "alignmentgroup": "True",
         "hovertemplate": "Date of Publication=178?<br>Material type=%{x}<br>counts=%{y}<extra></extra>",
         "legendgroup": "178?",
         "marker": {
          "color": "#636efa",
          "pattern": {
           "shape": ""
          }
         },
         "name": "178?",
         "offsetgroup": "178?",
         "orientation": "v",
         "showlegend": true,
         "textposition": "auto",
         "type": "bar",
         "x": [
          "Notated music"
         ],
         "xaxis": "x",
         "y": [
          1
         ],
         "yaxis": "y"
        },
        {
         "alignmentgroup": "True",
         "hovertemplate": "Date of Publication=185 <br>Material type=%{x}<br>counts=%{y}<extra></extra>",
         "legendgroup": "185 ",
         "marker": {
          "color": "#EF553B",
          "pattern": {
           "shape": ""
          }
         },
         "name": "185 ",
         "offsetgroup": "185 ",
         "orientation": "v",
         "showlegend": true,
         "textposition": "auto",
         "type": "bar",
         "x": [
          "Notated music"
         ],
         "xaxis": "x",
         "y": [
          3
         ],
         "yaxis": "y"
        },
        {
         "alignmentgroup": "True",
         "hovertemplate": "Date of Publication=185-<br>Material type=%{x}<br>counts=%{y}<extra></extra>",
         "legendgroup": "185-",
         "marker": {
          "color": "#00cc96",
          "pattern": {
           "shape": ""
          }
         },
         "name": "185-",
         "offsetgroup": "185-",
         "orientation": "v",
         "showlegend": true,
         "textposition": "auto",
         "type": "bar",
         "x": [
          "Notated music"
         ],
         "xaxis": "x",
         "y": [
          3
         ],
         "yaxis": "y"
        },
        {
         "alignmentgroup": "True",
         "hovertemplate": "Date of Publication=187-<br>Material type=%{x}<br>counts=%{y}<extra></extra>",
         "legendgroup": "187-",
         "marker": {
          "color": "#ab63fa",
          "pattern": {
           "shape": ""
          }
         },
         "name": "187-",
         "offsetgroup": "187-",
         "orientation": "v",
         "showlegend": true,
         "textposition": "auto",
         "type": "bar",
         "x": [
          "Notated music"
         ],
         "xaxis": "x",
         "y": [
          1
         ],
         "yaxis": "y"
        },
        {
         "alignmentgroup": "True",
         "hovertemplate": "Date of Publication=188 <br>Material type=%{x}<br>counts=%{y}<extra></extra>",
         "legendgroup": "188 ",
         "marker": {
          "color": "#FFA15A",
          "pattern": {
           "shape": ""
          }
         },
         "name": "188 ",
         "offsetgroup": "188 ",
         "orientation": "v",
         "showlegend": true,
         "textposition": "auto",
         "type": "bar",
         "x": [
          "Notated music",
          "Periodical"
         ],
         "xaxis": "x",
         "y": [
          4,
          7
         ],
         "yaxis": "y"
        },
        {
         "alignmentgroup": "True",
         "hovertemplate": "Date of Publication=190 <br>Material type=%{x}<br>counts=%{y}<extra></extra>",
         "legendgroup": "190 ",
         "marker": {
          "color": "#19d3f3",
          "pattern": {
           "shape": ""
          }
         },
         "name": "190 ",
         "offsetgroup": "190 ",
         "orientation": "v",
         "showlegend": true,
         "textposition": "auto",
         "type": "bar",
         "x": [
          "Notated music"
         ],
         "xaxis": "x",
         "y": [
          5
         ],
         "yaxis": "y"
        },
        {
         "alignmentgroup": "True",
         "hovertemplate": "Date of Publication=196 <br>Material type=%{x}<br>counts=%{y}<extra></extra>",
         "legendgroup": "196 ",
         "marker": {
          "color": "#FF6692",
          "pattern": {
           "shape": ""
          }
         },
         "name": "196 ",
         "offsetgroup": "196 ",
         "orientation": "v",
         "showlegend": true,
         "textposition": "auto",
         "type": "bar",
         "x": [
          "Notated music"
         ],
         "xaxis": "x",
         "y": [
          1
         ],
         "yaxis": "y"
        },
        {
         "alignmentgroup": "True",
         "hovertemplate": "Date of Publication=19_ <br>Material type=%{x}<br>counts=%{y}<extra></extra>",
         "legendgroup": "19_ ",
         "marker": {
          "color": "#B6E880",
          "pattern": {
           "shape": ""
          }
         },
         "name": "19_ ",
         "offsetgroup": "19_ ",
         "orientation": "v",
         "showlegend": true,
         "textposition": "auto",
         "type": "bar",
         "x": [
          "Periodical"
         ],
         "xaxis": "x",
         "y": [
          1
         ],
         "yaxis": "y"
        }
       ],
       "layout": {
        "barmode": "relative",
        "legend": {
         "title": {
          "text": "Date of Publication"
         },
         "tracegroupgap": 0
        },
        "template": {
         "data": {
          "bar": [
           {
            "error_x": {
             "color": "#2a3f5f"
            },
            "error_y": {
             "color": "#2a3f5f"
            },
            "marker": {
             "line": {
              "color": "#E5ECF6",
              "width": 0.5
             },
             "pattern": {
              "fillmode": "overlay",
              "size": 10,
              "solidity": 0.2
             }
            },
            "type": "bar"
           }
          ],
          "barpolar": [
           {
            "marker": {
             "line": {
              "color": "#E5ECF6",
              "width": 0.5
             },
             "pattern": {
              "fillmode": "overlay",
              "size": 10,
              "solidity": 0.2
             }
            },
            "type": "barpolar"
           }
          ],
          "carpet": [
           {
            "aaxis": {
             "endlinecolor": "#2a3f5f",
             "gridcolor": "white",
             "linecolor": "white",
             "minorgridcolor": "white",
             "startlinecolor": "#2a3f5f"
            },
            "baxis": {
             "endlinecolor": "#2a3f5f",
             "gridcolor": "white",
             "linecolor": "white",
             "minorgridcolor": "white",
             "startlinecolor": "#2a3f5f"
            },
            "type": "carpet"
           }
          ],
          "choropleth": [
           {
            "colorbar": {
             "outlinewidth": 0,
             "ticks": ""
            },
            "type": "choropleth"
           }
          ],
          "contour": [
           {
            "colorbar": {
             "outlinewidth": 0,
             "ticks": ""
            },
            "colorscale": [
             [
              0,
              "#0d0887"
             ],
             [
              0.1111111111111111,
              "#46039f"
             ],
             [
              0.2222222222222222,
              "#7201a8"
             ],
             [
              0.3333333333333333,
              "#9c179e"
             ],
             [
              0.4444444444444444,
              "#bd3786"
             ],
             [
              0.5555555555555556,
              "#d8576b"
             ],
             [
              0.6666666666666666,
              "#ed7953"
             ],
             [
              0.7777777777777778,
              "#fb9f3a"
             ],
             [
              0.8888888888888888,
              "#fdca26"
             ],
             [
              1,
              "#f0f921"
             ]
            ],
            "type": "contour"
           }
          ],
          "contourcarpet": [
           {
            "colorbar": {
             "outlinewidth": 0,
             "ticks": ""
            },
            "type": "contourcarpet"
           }
          ],
          "heatmap": [
           {
            "colorbar": {
             "outlinewidth": 0,
             "ticks": ""
            },
            "colorscale": [
             [
              0,
              "#0d0887"
             ],
             [
              0.1111111111111111,
              "#46039f"
             ],
             [
              0.2222222222222222,
              "#7201a8"
             ],
             [
              0.3333333333333333,
              "#9c179e"
             ],
             [
              0.4444444444444444,
              "#bd3786"
             ],
             [
              0.5555555555555556,
              "#d8576b"
             ],
             [
              0.6666666666666666,
              "#ed7953"
             ],
             [
              0.7777777777777778,
              "#fb9f3a"
             ],
             [
              0.8888888888888888,
              "#fdca26"
             ],
             [
              1,
              "#f0f921"
             ]
            ],
            "type": "heatmap"
           }
          ],
          "heatmapgl": [
           {
            "colorbar": {
             "outlinewidth": 0,
             "ticks": ""
            },
            "colorscale": [
             [
              0,
              "#0d0887"
             ],
             [
              0.1111111111111111,
              "#46039f"
             ],
             [
              0.2222222222222222,
              "#7201a8"
             ],
             [
              0.3333333333333333,
              "#9c179e"
             ],
             [
              0.4444444444444444,
              "#bd3786"
             ],
             [
              0.5555555555555556,
              "#d8576b"
             ],
             [
              0.6666666666666666,
              "#ed7953"
             ],
             [
              0.7777777777777778,
              "#fb9f3a"
             ],
             [
              0.8888888888888888,
              "#fdca26"
             ],
             [
              1,
              "#f0f921"
             ]
            ],
            "type": "heatmapgl"
           }
          ],
          "histogram": [
           {
            "marker": {
             "pattern": {
              "fillmode": "overlay",
              "size": 10,
              "solidity": 0.2
             }
            },
            "type": "histogram"
           }
          ],
          "histogram2d": [
           {
            "colorbar": {
             "outlinewidth": 0,
             "ticks": ""
            },
            "colorscale": [
             [
              0,
              "#0d0887"
             ],
             [
              0.1111111111111111,
              "#46039f"
             ],
             [
              0.2222222222222222,
              "#7201a8"
             ],
             [
              0.3333333333333333,
              "#9c179e"
             ],
             [
              0.4444444444444444,
              "#bd3786"
             ],
             [
              0.5555555555555556,
              "#d8576b"
             ],
             [
              0.6666666666666666,
              "#ed7953"
             ],
             [
              0.7777777777777778,
              "#fb9f3a"
             ],
             [
              0.8888888888888888,
              "#fdca26"
             ],
             [
              1,
              "#f0f921"
             ]
            ],
            "type": "histogram2d"
           }
          ],
          "histogram2dcontour": [
           {
            "colorbar": {
             "outlinewidth": 0,
             "ticks": ""
            },
            "colorscale": [
             [
              0,
              "#0d0887"
             ],
             [
              0.1111111111111111,
              "#46039f"
             ],
             [
              0.2222222222222222,
              "#7201a8"
             ],
             [
              0.3333333333333333,
              "#9c179e"
             ],
             [
              0.4444444444444444,
              "#bd3786"
             ],
             [
              0.5555555555555556,
              "#d8576b"
             ],
             [
              0.6666666666666666,
              "#ed7953"
             ],
             [
              0.7777777777777778,
              "#fb9f3a"
             ],
             [
              0.8888888888888888,
              "#fdca26"
             ],
             [
              1,
              "#f0f921"
             ]
            ],
            "type": "histogram2dcontour"
           }
          ],
          "mesh3d": [
           {
            "colorbar": {
             "outlinewidth": 0,
             "ticks": ""
            },
            "type": "mesh3d"
           }
          ],
          "parcoords": [
           {
            "line": {
             "colorbar": {
              "outlinewidth": 0,
              "ticks": ""
             }
            },
            "type": "parcoords"
           }
          ],
          "pie": [
           {
            "automargin": true,
            "type": "pie"
           }
          ],
          "scatter": [
           {
            "fillpattern": {
             "fillmode": "overlay",
             "size": 10,
             "solidity": 0.2
            },
            "type": "scatter"
           }
          ],
          "scatter3d": [
           {
            "line": {
             "colorbar": {
              "outlinewidth": 0,
              "ticks": ""
             }
            },
            "marker": {
             "colorbar": {
              "outlinewidth": 0,
              "ticks": ""
             }
            },
            "type": "scatter3d"
           }
          ],
          "scattercarpet": [
           {
            "marker": {
             "colorbar": {
              "outlinewidth": 0,
              "ticks": ""
             }
            },
            "type": "scattercarpet"
           }
          ],
          "scattergeo": [
           {
            "marker": {
             "colorbar": {
              "outlinewidth": 0,
              "ticks": ""
             }
            },
            "type": "scattergeo"
           }
          ],
          "scattergl": [
           {
            "marker": {
             "colorbar": {
              "outlinewidth": 0,
              "ticks": ""
             }
            },
            "type": "scattergl"
           }
          ],
          "scattermapbox": [
           {
            "marker": {
             "colorbar": {
              "outlinewidth": 0,
              "ticks": ""
             }
            },
            "type": "scattermapbox"
           }
          ],
          "scatterpolar": [
           {
            "marker": {
             "colorbar": {
              "outlinewidth": 0,
              "ticks": ""
             }
            },
            "type": "scatterpolar"
           }
          ],
          "scatterpolargl": [
           {
            "marker": {
             "colorbar": {
              "outlinewidth": 0,
              "ticks": ""
             }
            },
            "type": "scatterpolargl"
           }
          ],
          "scatterternary": [
           {
            "marker": {
             "colorbar": {
              "outlinewidth": 0,
              "ticks": ""
             }
            },
            "type": "scatterternary"
           }
          ],
          "surface": [
           {
            "colorbar": {
             "outlinewidth": 0,
             "ticks": ""
            },
            "colorscale": [
             [
              0,
              "#0d0887"
             ],
             [
              0.1111111111111111,
              "#46039f"
             ],
             [
              0.2222222222222222,
              "#7201a8"
             ],
             [
              0.3333333333333333,
              "#9c179e"
             ],
             [
              0.4444444444444444,
              "#bd3786"
             ],
             [
              0.5555555555555556,
              "#d8576b"
             ],
             [
              0.6666666666666666,
              "#ed7953"
             ],
             [
              0.7777777777777778,
              "#fb9f3a"
             ],
             [
              0.8888888888888888,
              "#fdca26"
             ],
             [
              1,
              "#f0f921"
             ]
            ],
            "type": "surface"
           }
          ],
          "table": [
           {
            "cells": {
             "fill": {
              "color": "#EBF0F8"
             },
             "line": {
              "color": "white"
             }
            },
            "header": {
             "fill": {
              "color": "#C8D4E3"
             },
             "line": {
              "color": "white"
             }
            },
            "type": "table"
           }
          ]
         },
         "layout": {
          "annotationdefaults": {
           "arrowcolor": "#2a3f5f",
           "arrowhead": 0,
           "arrowwidth": 1
          },
          "autotypenumbers": "strict",
          "coloraxis": {
           "colorbar": {
            "outlinewidth": 0,
            "ticks": ""
           }
          },
          "colorscale": {
           "diverging": [
            [
             0,
             "#8e0152"
            ],
            [
             0.1,
             "#c51b7d"
            ],
            [
             0.2,
             "#de77ae"
            ],
            [
             0.3,
             "#f1b6da"
            ],
            [
             0.4,
             "#fde0ef"
            ],
            [
             0.5,
             "#f7f7f7"
            ],
            [
             0.6,
             "#e6f5d0"
            ],
            [
             0.7,
             "#b8e186"
            ],
            [
             0.8,
             "#7fbc41"
            ],
            [
             0.9,
             "#4d9221"
            ],
            [
             1,
             "#276419"
            ]
           ],
           "sequential": [
            [
             0,
             "#0d0887"
            ],
            [
             0.1111111111111111,
             "#46039f"
            ],
            [
             0.2222222222222222,
             "#7201a8"
            ],
            [
             0.3333333333333333,
             "#9c179e"
            ],
            [
             0.4444444444444444,
             "#bd3786"
            ],
            [
             0.5555555555555556,
             "#d8576b"
            ],
            [
             0.6666666666666666,
             "#ed7953"
            ],
            [
             0.7777777777777778,
             "#fb9f3a"
            ],
            [
             0.8888888888888888,
             "#fdca26"
            ],
            [
             1,
             "#f0f921"
            ]
           ],
           "sequentialminus": [
            [
             0,
             "#0d0887"
            ],
            [
             0.1111111111111111,
             "#46039f"
            ],
            [
             0.2222222222222222,
             "#7201a8"
            ],
            [
             0.3333333333333333,
             "#9c179e"
            ],
            [
             0.4444444444444444,
             "#bd3786"
            ],
            [
             0.5555555555555556,
             "#d8576b"
            ],
            [
             0.6666666666666666,
             "#ed7953"
            ],
            [
             0.7777777777777778,
             "#fb9f3a"
            ],
            [
             0.8888888888888888,
             "#fdca26"
            ],
            [
             1,
             "#f0f921"
            ]
           ]
          },
          "colorway": [
           "#636efa",
           "#EF553B",
           "#00cc96",
           "#ab63fa",
           "#FFA15A",
           "#19d3f3",
           "#FF6692",
           "#B6E880",
           "#FF97FF",
           "#FECB52"
          ],
          "font": {
           "color": "#2a3f5f"
          },
          "geo": {
           "bgcolor": "white",
           "lakecolor": "white",
           "landcolor": "#E5ECF6",
           "showlakes": true,
           "showland": true,
           "subunitcolor": "white"
          },
          "hoverlabel": {
           "align": "left"
          },
          "hovermode": "closest",
          "mapbox": {
           "style": "light"
          },
          "paper_bgcolor": "white",
          "plot_bgcolor": "#E5ECF6",
          "polar": {
           "angularaxis": {
            "gridcolor": "white",
            "linecolor": "white",
            "ticks": ""
           },
           "bgcolor": "#E5ECF6",
           "radialaxis": {
            "gridcolor": "white",
            "linecolor": "white",
            "ticks": ""
           }
          },
          "scene": {
           "xaxis": {
            "backgroundcolor": "#E5ECF6",
            "gridcolor": "white",
            "gridwidth": 2,
            "linecolor": "white",
            "showbackground": true,
            "ticks": "",
            "zerolinecolor": "white"
           },
           "yaxis": {
            "backgroundcolor": "#E5ECF6",
            "gridcolor": "white",
            "gridwidth": 2,
            "linecolor": "white",
            "showbackground": true,
            "ticks": "",
            "zerolinecolor": "white"
           },
           "zaxis": {
            "backgroundcolor": "#E5ECF6",
            "gridcolor": "white",
            "gridwidth": 2,
            "linecolor": "white",
            "showbackground": true,
            "ticks": "",
            "zerolinecolor": "white"
           }
          },
          "shapedefaults": {
           "line": {
            "color": "#2a3f5f"
           }
          },
          "ternary": {
           "aaxis": {
            "gridcolor": "white",
            "linecolor": "white",
            "ticks": ""
           },
           "baxis": {
            "gridcolor": "white",
            "linecolor": "white",
            "ticks": ""
           },
           "bgcolor": "#E5ECF6",
           "caxis": {
            "gridcolor": "white",
            "linecolor": "white",
            "ticks": ""
           }
          },
          "title": {
           "x": 0.05
          },
          "xaxis": {
           "automargin": true,
           "gridcolor": "white",
           "linecolor": "white",
           "ticks": "",
           "title": {
            "standoff": 15
           },
           "zerolinecolor": "white",
           "zerolinewidth": 2
          },
          "yaxis": {
           "automargin": true,
           "gridcolor": "white",
           "linecolor": "white",
           "ticks": "",
           "title": {
            "standoff": 15
           },
           "zerolinecolor": "white",
           "zerolinewidth": 2
          }
         }
        },
        "title": {
         "text": "Tipos de materiais e ano de publicação"
        },
        "xaxis": {
         "anchor": "y",
         "domain": [
          0,
          1
         ],
         "title": {
          "text": "Material type"
         }
        },
        "yaxis": {
         "anchor": "x",
         "domain": [
          0,
          1
         ],
         "title": {
          "text": "counts"
         }
        }
       }
      }
     },
     "metadata": {},
     "output_type": "display_data"
    }
   ],
   "source": [
    "# criar gráfico de barras com os dados de tipos de materiais e ano de publicação\n",
    "fig = px.bar(df_material_ano, x='Material type', y='counts', color='Date of Publication', title='Tipos de materiais e ano de publicação')\n",
    "fig.show()"
   ]
  },
  {
   "cell_type": "code",
   "execution_count": 10,
   "metadata": {},
   "outputs": [],
   "source": [
    "#criar df apenas com coluna \"Periodical\"\n",
    "df_periodical = df[df['Material type'] == 'Periodical']"
   ]
  },
  {
   "cell_type": "code",
   "execution_count": 11,
   "metadata": {},
   "outputs": [
    {
     "data": {
      "text/html": [
       "<div>\n",
       "<style scoped>\n",
       "    .dataframe tbody tr th:only-of-type {\n",
       "        vertical-align: middle;\n",
       "    }\n",
       "\n",
       "    .dataframe tbody tr th {\n",
       "        vertical-align: top;\n",
       "    }\n",
       "\n",
       "    .dataframe thead th {\n",
       "        text-align: right;\n",
       "    }\n",
       "</style>\n",
       "<table border=\"1\" class=\"dataframe\">\n",
       "  <thead>\n",
       "    <tr style=\"text-align: right;\">\n",
       "      <th></th>\n",
       "      <th>BNP record ID</th>\n",
       "      <th>Material type</th>\n",
       "      <th>ISBN</th>\n",
       "      <th>Legal deposit number</th>\n",
       "      <th>Language of Text</th>\n",
       "      <th>Language of Original Work</th>\n",
       "      <th>Title</th>\n",
       "      <th>Subtitle</th>\n",
       "      <th>Original title</th>\n",
       "      <th>Edition</th>\n",
       "      <th>...</th>\n",
       "      <th>Name of Publisher</th>\n",
       "      <th>Date of Publication</th>\n",
       "      <th>Extent of Item</th>\n",
       "      <th>Dimensions</th>\n",
       "      <th>Series</th>\n",
       "      <th>Volume</th>\n",
       "      <th>Universal Decimal Classification</th>\n",
       "      <th>Authors</th>\n",
       "      <th>Image</th>\n",
       "      <th>Persistent URL</th>\n",
       "    </tr>\n",
       "  </thead>\n",
       "  <tbody>\n",
       "    <tr>\n",
       "      <th>52</th>\n",
       "      <td>40112</td>\n",
       "      <td>Periodical</td>\n",
       "      <td>NaN</td>\n",
       "      <td>NaN</td>\n",
       "      <td>por</td>\n",
       "      <td>NaN</td>\n",
       "      <td>Porbase</td>\n",
       "      <td>Base Nacional de Dados Bibliográficos</td>\n",
       "      <td>NaN</td>\n",
       "      <td>NaN</td>\n",
       "      <td>...</td>\n",
       "      <td>Biblioteca Nacional</td>\n",
       "      <td>1987</td>\n",
       "      <td>NaN</td>\n",
       "      <td>30 cm</td>\n",
       "      <td>NaN</td>\n",
       "      <td>NaN</td>\n",
       "      <td>002.6:681.3(469)(05)</td>\n",
       "      <td>Portugal, Biblioteca Nacional</td>\n",
       "      <td>https://purl.pt/23861/service/media/cover/low</td>\n",
       "      <td>http://id.bnportugal.gov.pt/bib/catbnp/40112</td>\n",
       "    </tr>\n",
       "    <tr>\n",
       "      <th>147</th>\n",
       "      <td>57737</td>\n",
       "      <td>Periodical</td>\n",
       "      <td>NaN</td>\n",
       "      <td>NaN</td>\n",
       "      <td>por</td>\n",
       "      <td>NaN</td>\n",
       "      <td>O Pinto Calçudo</td>\n",
       "      <td>NaN</td>\n",
       "      <td>NaN</td>\n",
       "      <td>NaN</td>\n",
       "      <td>...</td>\n",
       "      <td>Alunos da Escola Masculina de Vila Real de San...</td>\n",
       "      <td>1958</td>\n",
       "      <td>NaN</td>\n",
       "      <td>27 cm</td>\n",
       "      <td>NaN</td>\n",
       "      <td>NaN</td>\n",
       "      <td>372.22(469.601.26 VRSA)(05)</td>\n",
       "      <td>Borges, José Maria S. Baptista ; Marques, Carl...</td>\n",
       "      <td>https://purl.pt/36015/service/media/cover/low</td>\n",
       "      <td>http://id.bnportugal.gov.pt/bib/catbnp/57737</td>\n",
       "    </tr>\n",
       "    <tr>\n",
       "      <th>159</th>\n",
       "      <td>63466</td>\n",
       "      <td>Periodical</td>\n",
       "      <td>NaN</td>\n",
       "      <td>NaN</td>\n",
       "      <td>por</td>\n",
       "      <td>NaN</td>\n",
       "      <td>O João Ratão</td>\n",
       "      <td>NaN</td>\n",
       "      <td>NaN</td>\n",
       "      <td>NaN</td>\n",
       "      <td>...</td>\n",
       "      <td>Caixa Escolar Nossa Senhora de Fátima</td>\n",
       "      <td>1961</td>\n",
       "      <td>NaN</td>\n",
       "      <td>20 cm</td>\n",
       "      <td>NaN</td>\n",
       "      <td>NaN</td>\n",
       "      <td>372(469.601)(05)</td>\n",
       "      <td>Caixa Escolar Nossa Senhora de Fátima ; Escola...</td>\n",
       "      <td>https://purl.pt/36019/service/media/cover/low</td>\n",
       "      <td>http://id.bnportugal.gov.pt/bib/catbnp/63466</td>\n",
       "    </tr>\n",
       "    <tr>\n",
       "      <th>230</th>\n",
       "      <td>90413</td>\n",
       "      <td>Periodical</td>\n",
       "      <td>NaN</td>\n",
       "      <td>NaN</td>\n",
       "      <td>por</td>\n",
       "      <td>NaN</td>\n",
       "      <td>Alma Nacional</td>\n",
       "      <td>NaN</td>\n",
       "      <td>NaN</td>\n",
       "      <td>NaN</td>\n",
       "      <td>...</td>\n",
       "      <td>A. J. Almeida</td>\n",
       "      <td>1910</td>\n",
       "      <td>NaN</td>\n",
       "      <td>26 cm</td>\n",
       "      <td>NaN</td>\n",
       "      <td>NaN</td>\n",
       "      <td>NaN</td>\n",
       "      <td>Almeida, António José de</td>\n",
       "      <td>https://purl.pt/16522/service/media/cover/low</td>\n",
       "      <td>http://id.bnportugal.gov.pt/bib/catbnp/90413</td>\n",
       "    </tr>\n",
       "    <tr>\n",
       "      <th>231</th>\n",
       "      <td>90414</td>\n",
       "      <td>Periodical</td>\n",
       "      <td>NaN</td>\n",
       "      <td>NaN</td>\n",
       "      <td>por</td>\n",
       "      <td>NaN</td>\n",
       "      <td>A Águia</td>\n",
       "      <td>revista quinzenal ilustrada de literatura e cr...</td>\n",
       "      <td>NaN</td>\n",
       "      <td>NaN</td>\n",
       "      <td>...</td>\n",
       "      <td>Tércio Miranda</td>\n",
       "      <td>1910</td>\n",
       "      <td>NaN</td>\n",
       "      <td>31 cm</td>\n",
       "      <td>NaN</td>\n",
       "      <td>NaN</td>\n",
       "      <td>070</td>\n",
       "      <td>Pinto, Álvaro ; Pascoais, Teixeira de ; Carnei...</td>\n",
       "      <td>https://purl.pt/12152/service/media/cover/low</td>\n",
       "      <td>http://id.bnportugal.gov.pt/bib/catbnp/90414</td>\n",
       "    </tr>\n",
       "  </tbody>\n",
       "</table>\n",
       "<p>5 rows × 21 columns</p>\n",
       "</div>"
      ],
      "text/plain": [
       "     BNP record ID Material type ISBN Legal deposit number Language of Text  \\\n",
       "52           40112    Periodical  NaN                  NaN              por   \n",
       "147          57737    Periodical  NaN                  NaN              por   \n",
       "159          63466    Periodical  NaN                  NaN              por   \n",
       "230          90413    Periodical  NaN                  NaN              por   \n",
       "231          90414    Periodical  NaN                  NaN              por   \n",
       "\n",
       "    Language of Original Work            Title  \\\n",
       "52                        NaN          Porbase   \n",
       "147                       NaN  O Pinto Calçudo   \n",
       "159                       NaN     O João Ratão   \n",
       "230                       NaN    Alma Nacional   \n",
       "231                       NaN          A Águia   \n",
       "\n",
       "                                              Subtitle Original title Edition  \\\n",
       "52               Base Nacional de Dados Bibliográficos            NaN     NaN   \n",
       "147                                                NaN            NaN     NaN   \n",
       "159                                                NaN            NaN     NaN   \n",
       "230                                                NaN            NaN     NaN   \n",
       "231  revista quinzenal ilustrada de literatura e cr...            NaN     NaN   \n",
       "\n",
       "     ...                                  Name of Publisher  \\\n",
       "52   ...                                Biblioteca Nacional   \n",
       "147  ...  Alunos da Escola Masculina de Vila Real de San...   \n",
       "159  ...              Caixa Escolar Nossa Senhora de Fátima   \n",
       "230  ...                                      A. J. Almeida   \n",
       "231  ...                                     Tércio Miranda   \n",
       "\n",
       "    Date of Publication Extent of Item Dimensions Series Volume  \\\n",
       "52                 1987            NaN      30 cm    NaN    NaN   \n",
       "147                1958            NaN      27 cm    NaN    NaN   \n",
       "159                1961            NaN      20 cm    NaN    NaN   \n",
       "230                1910            NaN      26 cm    NaN    NaN   \n",
       "231                1910            NaN      31 cm    NaN    NaN   \n",
       "\n",
       "    Universal Decimal Classification  \\\n",
       "52              002.6:681.3(469)(05)   \n",
       "147      372.22(469.601.26 VRSA)(05)   \n",
       "159                 372(469.601)(05)   \n",
       "230                              NaN   \n",
       "231                              070   \n",
       "\n",
       "                                               Authors  \\\n",
       "52                       Portugal, Biblioteca Nacional   \n",
       "147  Borges, José Maria S. Baptista ; Marques, Carl...   \n",
       "159  Caixa Escolar Nossa Senhora de Fátima ; Escola...   \n",
       "230                           Almeida, António José de   \n",
       "231  Pinto, Álvaro ; Pascoais, Teixeira de ; Carnei...   \n",
       "\n",
       "                                             Image  \\\n",
       "52   https://purl.pt/23861/service/media/cover/low   \n",
       "147  https://purl.pt/36015/service/media/cover/low   \n",
       "159  https://purl.pt/36019/service/media/cover/low   \n",
       "230  https://purl.pt/16522/service/media/cover/low   \n",
       "231  https://purl.pt/12152/service/media/cover/low   \n",
       "\n",
       "                                   Persistent URL  \n",
       "52   http://id.bnportugal.gov.pt/bib/catbnp/40112  \n",
       "147  http://id.bnportugal.gov.pt/bib/catbnp/57737  \n",
       "159  http://id.bnportugal.gov.pt/bib/catbnp/63466  \n",
       "230  http://id.bnportugal.gov.pt/bib/catbnp/90413  \n",
       "231  http://id.bnportugal.gov.pt/bib/catbnp/90414  \n",
       "\n",
       "[5 rows x 21 columns]"
      ]
     },
     "execution_count": 11,
     "metadata": {},
     "output_type": "execute_result"
    }
   ],
   "source": [
    "df_periodical.head()\n"
   ]
  },
  {
   "attachments": {},
   "cell_type": "markdown",
   "metadata": {},
   "source": [
    "## Analisando os dados sobre periódicos"
   ]
  },
  {
   "cell_type": "code",
   "execution_count": 12,
   "metadata": {},
   "outputs": [
    {
     "data": {
      "text/plain": [
       "por    1343\n",
       "eng       6\n",
       "fre       5\n",
       "spa       2\n",
       "mul       1\n",
       "chi       1\n",
       "ger       1\n",
       "Name: Language of Text, dtype: int64"
      ]
     },
     "execution_count": 12,
     "metadata": {},
     "output_type": "execute_result"
    }
   ],
   "source": [
    "# contar idiomas dos periodicos\n",
    "df_periodical['Language of Text'].value_counts()"
   ]
  },
  {
   "cell_type": "code",
   "execution_count": 14,
   "metadata": {},
   "outputs": [
    {
     "data": {
      "application/vnd.plotly.v1+json": {
       "config": {
        "plotlyServerURL": "https://plot.ly"
       },
       "data": [
        {
         "alignmentgroup": "True",
         "hovertemplate": "Language of Text=%{x}<br>count=%{y}<extra></extra>",
         "legendgroup": "",
         "marker": {
          "color": "#636efa",
          "pattern": {
           "shape": ""
          }
         },
         "name": "",
         "offsetgroup": "",
         "orientation": "v",
         "showlegend": false,
         "textposition": "auto",
         "type": "bar",
         "x": [
          "por",
          "por",
          "por",
          "por",
          "por",
          "por",
          "por",
          "por",
          "por",
          "por",
          "por",
          "por",
          "por",
          "por",
          "por",
          "por",
          "por",
          "por",
          "por",
          "por",
          "por",
          "por",
          "por",
          "por",
          "por",
          "por",
          "por",
          "por",
          "por",
          "por",
          "por",
          "por",
          "por",
          "por",
          "por",
          "por",
          "por",
          "por",
          "por",
          "por",
          "por",
          "por",
          "por",
          "por",
          "por",
          "por",
          "por",
          "por",
          "por",
          "por",
          "por",
          "por",
          "por",
          "por",
          "por",
          "por",
          "por",
          "por",
          "por",
          "por",
          "por",
          "por",
          "por",
          "por",
          "por",
          "por",
          "por",
          "por",
          "por",
          "por",
          "por",
          "por",
          "por",
          "por",
          "por",
          "por",
          "por",
          "por",
          "por",
          "por",
          "por",
          "por",
          "por",
          "por",
          "por",
          "por",
          "por",
          "por",
          "por",
          "por",
          "por",
          "por",
          "por",
          "por",
          "por",
          "por",
          "por",
          "por",
          "por",
          "por",
          "por",
          "fre",
          "por",
          "por",
          "por",
          "por",
          "por",
          "por",
          "por",
          "por",
          "por",
          "por",
          "eng",
          "por",
          "por",
          "por",
          "por",
          "por",
          "por",
          "por",
          "por",
          "por",
          "por",
          "por",
          "por",
          "por",
          "por",
          "por",
          "por",
          "por",
          "por",
          "por",
          "por",
          "por",
          "por",
          "por",
          "por",
          "por",
          "por",
          "por",
          "por",
          "por",
          "por",
          "por",
          "por",
          "por",
          "por",
          "por",
          "por",
          "por",
          "por",
          "por",
          "por",
          "por",
          "por",
          "por",
          "por",
          "por",
          "por",
          "por",
          "por",
          "por",
          "por",
          "por",
          "por",
          "por",
          "por",
          "por",
          "por",
          "por",
          "por",
          "por",
          "por",
          "por",
          "por",
          "por",
          "por",
          "por",
          "por",
          "por",
          "por",
          "por",
          "por",
          "por",
          "por",
          "por",
          "por",
          "por",
          "por",
          "por",
          "por",
          "por",
          "por",
          "por",
          "mul",
          "por",
          "por",
          "por",
          "por",
          "por",
          "por",
          "por",
          "por",
          "por",
          "por",
          "por",
          "por",
          "por",
          "por",
          "por",
          "por",
          "por",
          "por",
          "por",
          "por",
          "por",
          "por",
          "por",
          "por",
          "por",
          "por",
          "por",
          "por",
          "por",
          "por",
          "por",
          "por",
          "por",
          "por",
          "por",
          "por",
          "por",
          "por",
          "por",
          "por",
          "por",
          "por",
          "por",
          "por",
          "por",
          "por",
          "por",
          "por",
          "por",
          "por",
          "por",
          "por",
          "por",
          "por",
          "por",
          "por",
          "por",
          "por",
          "por",
          "por",
          "por",
          "por",
          "por",
          "por",
          "por",
          "por",
          "por",
          "por",
          "por",
          "por",
          "por",
          "por",
          "por",
          "por",
          "por",
          "por",
          "por",
          "por",
          "por",
          "por",
          "por",
          "por",
          "por",
          "por",
          "por",
          "por",
          "por",
          "por",
          "por",
          "por",
          "por",
          "por",
          "por",
          "por",
          "por",
          "por",
          "por",
          "por",
          "por",
          "por",
          "por",
          "por",
          "por",
          "por",
          "por",
          "por",
          "por",
          "por",
          "por",
          "por",
          "por",
          "por",
          "por",
          "por",
          "por",
          "por",
          "por",
          "por",
          "por",
          "por",
          "por",
          "por",
          "por",
          "por",
          "por",
          "por",
          "por",
          "por",
          "por",
          "por",
          "por",
          "por",
          "por",
          "por",
          "por",
          "por",
          "por",
          "por",
          "por",
          "chi",
          "por",
          "por",
          "por",
          "por",
          "por",
          "por",
          "por",
          "por",
          "por",
          "por",
          "por",
          "por",
          "por",
          "por",
          "por",
          "por",
          "por",
          "por",
          "por",
          "por",
          "por",
          "por",
          "por",
          "por",
          "por",
          "por",
          "por",
          "por",
          "por",
          "por",
          "por",
          "por",
          "por",
          "por",
          "por",
          "por",
          "por",
          "por",
          "por",
          "por",
          "por",
          "por",
          "por",
          "por",
          "por",
          "por",
          "por",
          "por",
          "por",
          "por",
          "por",
          "por",
          "por",
          "por",
          "por",
          "por",
          "por",
          "por",
          "por",
          "por",
          "por",
          "por",
          "por",
          "por",
          "por",
          "por",
          "por",
          "por",
          "por",
          "por",
          "por",
          "por",
          "por",
          "por",
          "por",
          "por",
          "por",
          "por",
          "por",
          "por",
          "por",
          "por",
          "por",
          "por",
          "fre",
          "por",
          "por",
          "por",
          "por",
          "por",
          "por",
          "por",
          "por",
          "por",
          "por",
          "por",
          "por",
          "por",
          "por",
          "por",
          "por",
          "por",
          "por",
          "por",
          "por",
          "por",
          "por",
          "por",
          "por",
          "por",
          "por",
          "por",
          "por",
          "por",
          "por",
          "por",
          "por",
          "por",
          "por",
          "por",
          "por",
          "por",
          "por",
          "por",
          "por",
          "por",
          "por",
          "por",
          "por",
          "por",
          "por",
          "por",
          "por",
          "por",
          "por",
          "por",
          "por",
          "por",
          "por",
          "por",
          "por",
          "por",
          "por",
          "por",
          "por",
          "por",
          "por",
          "por",
          "por",
          "por",
          "por",
          "por",
          "por",
          "por",
          "por",
          "por",
          "por",
          "por",
          "por",
          "por",
          "por",
          "fre",
          "fre",
          "por",
          "por",
          "por",
          "por",
          "por",
          "por",
          "por",
          "por",
          "por",
          "por",
          "por",
          "por",
          "por",
          "por",
          "por",
          "por",
          "por",
          "por",
          "por",
          "por",
          "por",
          "por",
          "por",
          "por",
          "por",
          "por",
          "por",
          "por",
          "por",
          "por",
          "por",
          "por",
          "por",
          "por",
          "por",
          "por",
          "por",
          "por",
          "por",
          "por",
          "por",
          "por",
          "por",
          "por",
          "por",
          "por",
          "por",
          "por",
          "por",
          "por",
          "por",
          "por",
          "por",
          "por",
          "por",
          "por",
          "por",
          "por",
          "por",
          "por",
          "por",
          "por",
          "por",
          "por",
          "por",
          "por",
          "por",
          "por",
          "por",
          "por",
          "por",
          "por",
          "por",
          "por",
          "por",
          "por",
          "por",
          "por",
          "por",
          "por",
          "por",
          "por",
          "por",
          "por",
          "por",
          "por",
          "por",
          "por",
          "por",
          "por",
          "eng",
          "eng",
          "eng",
          "por",
          "fre",
          "por",
          "por",
          "por",
          "por",
          "por",
          "por",
          "por",
          "por",
          "por",
          "por",
          "por",
          "por",
          "por",
          "por",
          "por",
          "por",
          "por",
          "por",
          "por",
          "por",
          "por",
          "por",
          "por",
          "por",
          "por",
          "por",
          "por",
          "por",
          "por",
          "por",
          "por",
          "por",
          "por",
          "por",
          "por",
          "por",
          "por",
          "por",
          "por",
          "por",
          "por",
          "por",
          "por",
          "por",
          "por",
          "por",
          "por",
          "por",
          "por",
          "por",
          "por",
          "por",
          "por",
          "por",
          "por",
          "por",
          "por",
          "por",
          "por",
          "por",
          "por",
          "por",
          "por",
          "por",
          "por",
          "por",
          "por",
          "por",
          "por",
          "por",
          "por",
          "por",
          "por",
          "por",
          "por",
          "por",
          "por",
          "por",
          "por",
          "por",
          "por",
          "por",
          "por",
          "por",
          "por",
          "por",
          "por",
          "por",
          "por",
          "por",
          "por",
          "por",
          "por",
          "por",
          "por",
          "por",
          "por",
          "por",
          "por",
          "por",
          "por",
          "por",
          "por",
          "por",
          "por",
          "por",
          "por",
          "por",
          "por",
          "por",
          "por",
          "por",
          "por",
          "por",
          "por",
          "por",
          "por",
          "por",
          "por",
          "por",
          "por",
          "por",
          "por",
          "por",
          "por",
          "por",
          "por",
          "por",
          "por",
          "por",
          "por",
          "por",
          "por",
          "por",
          "por",
          "por",
          "por",
          "por",
          "por",
          "por",
          "por",
          "por",
          "por",
          "por",
          "por",
          "por",
          "por",
          "por",
          "por",
          "por",
          "por",
          "por",
          "por",
          "por",
          "por",
          "por",
          "por",
          "por",
          "por",
          "por",
          "por",
          "por",
          "por",
          "por",
          "por",
          "por",
          "por",
          "por",
          "por",
          "por",
          "por",
          "spa",
          "por",
          "por",
          "por",
          "por",
          "por",
          "por",
          "por",
          "por",
          "por",
          "por",
          "por",
          "por",
          "por",
          "por",
          "por",
          "por",
          "por",
          "por",
          "por",
          "por",
          "por",
          "por",
          "por",
          "por",
          "por",
          "por",
          "por",
          "por",
          "por",
          "por",
          "por",
          "por",
          "por",
          "por",
          "por",
          "por",
          "por",
          "por",
          "por",
          "por",
          "por",
          "por",
          "por",
          "por",
          "por",
          "por",
          "por",
          "por",
          "por",
          "por",
          "por",
          "por",
          "por",
          "por",
          "por",
          "por",
          "por",
          "por",
          "por",
          "por",
          "por",
          "por",
          "por",
          "por",
          "por",
          "por",
          "por",
          "por",
          "por",
          "por",
          "por",
          "por",
          "por",
          "por",
          "por",
          "por",
          "por",
          "por",
          "por",
          "por",
          "por",
          "por",
          "por",
          "por",
          "por",
          "por",
          "por",
          "por",
          "por",
          "por",
          "por",
          "por",
          "por",
          "por",
          "por",
          "por",
          "por",
          "por",
          "por",
          "por",
          "por",
          "por",
          "por",
          "por",
          "por",
          "por",
          "por",
          "por",
          "por",
          "por",
          "por",
          "por",
          "por",
          "por",
          "por",
          "por",
          "por",
          "por",
          "por",
          "por",
          "por",
          "por",
          "por",
          "por",
          "por",
          "por",
          "por",
          "por",
          "por",
          "por",
          "por",
          "por",
          "por",
          "por",
          "por",
          "por",
          "por",
          "por",
          "por",
          "por",
          "por",
          "por",
          "por",
          "por",
          "por",
          "por",
          "por",
          "por",
          "por",
          "por",
          "por",
          "por",
          "por",
          "por",
          "por",
          "por",
          "por",
          "por",
          "por",
          "por",
          "eng",
          "por",
          "eng",
          "por",
          "por",
          "por",
          "por",
          "por",
          "por",
          "por",
          "por",
          "por",
          "por",
          "por",
          "por",
          "por",
          "por",
          "por",
          "por",
          "por",
          "por",
          "por",
          "por",
          "por",
          "por",
          "por",
          "por",
          "por",
          "por",
          "por",
          "por",
          "por",
          "por",
          "por",
          "por",
          "por",
          "por",
          "por",
          "por",
          "por",
          "por",
          "por",
          "por",
          "por",
          "por",
          "por",
          "por",
          "por",
          "por",
          "por",
          "por",
          "por",
          "por",
          "por",
          "por",
          "por",
          "por",
          "por",
          "por",
          "por",
          "por",
          "por",
          "por",
          "por",
          "por",
          "por",
          "por",
          "por",
          "por",
          "por",
          "por",
          "por",
          "por",
          "por",
          "por",
          "por",
          "por",
          "por",
          "por",
          "por",
          "por",
          "por",
          "por",
          "por",
          "por",
          "por",
          "por",
          "por",
          "por",
          "por",
          "por",
          "por",
          "por",
          "por",
          "por",
          "por",
          "por",
          "por",
          "por",
          "por",
          "por",
          "por",
          "por",
          "por",
          "por",
          "por",
          "por",
          "por",
          "por",
          "por",
          "spa",
          "por",
          "por",
          "por",
          "por",
          "por",
          "por",
          "por",
          "por",
          "por",
          "por",
          "por",
          "por",
          "por",
          "por",
          "por",
          "por",
          "por",
          "por",
          "por",
          "por",
          "por",
          "por",
          "por",
          "por",
          "por",
          "por",
          "por",
          "por",
          "por",
          "por",
          "por",
          "por",
          "por",
          "por",
          "por",
          "por",
          "por",
          "por",
          "por",
          "por",
          "por",
          "por",
          "por",
          "por",
          "por",
          "por",
          "por",
          "por",
          "por",
          "por",
          "por",
          "por",
          "por",
          "por",
          "por",
          "por",
          "por",
          "por",
          "por",
          "por",
          "por",
          "por",
          "por",
          "por",
          "por",
          "por",
          "por",
          "por",
          "por",
          "por",
          "por",
          "por",
          "por",
          "por",
          "por",
          "por",
          "por",
          "por",
          "por",
          "por",
          "por",
          "por",
          "por",
          "por",
          "por",
          "por",
          "por",
          "por",
          "por",
          "por",
          "por",
          "por",
          "por",
          "por",
          "por",
          "por",
          "por",
          "por",
          "por",
          "por",
          "por",
          "por",
          "por",
          "por",
          "por",
          "por",
          "por",
          "por",
          "por",
          "por",
          "por",
          "por",
          "por",
          "por",
          "por",
          "por",
          "por",
          "por",
          "por",
          "por",
          "por",
          "por",
          "por",
          "por",
          "por",
          "por",
          "por",
          "por",
          "por",
          "por",
          "por",
          "por",
          "por",
          "por",
          "por",
          "por",
          "por",
          "por",
          "por",
          "por",
          "por",
          "por",
          "por",
          "por",
          "por",
          "por",
          "por",
          "por",
          "por",
          "por",
          "por",
          "por",
          "por",
          "por",
          "por",
          "por",
          "por",
          "por",
          "por",
          "por",
          "por",
          "por",
          "por",
          "por",
          "por",
          "por",
          "por",
          "por",
          "por",
          "por",
          "por",
          "por",
          "por",
          "por",
          "por",
          "por",
          "por",
          "por",
          "por",
          "por",
          "por",
          "por",
          "por",
          "por",
          "por",
          "por",
          "por",
          "por",
          "por",
          "por",
          "por",
          "por",
          "por",
          "por",
          "por",
          "por",
          "por",
          "por",
          "por",
          "por",
          "por",
          "por",
          "por",
          "por",
          "por",
          "por",
          "por",
          "por",
          "por",
          "por",
          "por",
          "por",
          "por",
          "por",
          "por",
          "por",
          "por",
          "por",
          "por",
          "por",
          "por",
          "por",
          "por",
          "por",
          "por",
          "por",
          "por",
          "por",
          "por",
          "por",
          "ger",
          "por",
          "por",
          "por",
          "por",
          "por",
          "por",
          "por",
          "por",
          "por",
          "por",
          "por",
          "por",
          "por",
          "por",
          "por",
          "por",
          "por",
          "por",
          "por",
          "por",
          "por",
          "por",
          "por",
          "por",
          "por",
          "por",
          "por",
          "por",
          "por",
          "por",
          "por",
          "por",
          "por",
          "por",
          "por",
          "por",
          "por",
          "por",
          "por",
          "por",
          "por",
          "por",
          "por",
          "por",
          "por",
          "por",
          "por",
          "por",
          "por",
          "por",
          "por",
          "por",
          "por",
          "por",
          "por",
          "por",
          "por",
          "por",
          "por",
          "por",
          "por",
          "por",
          "por",
          "por",
          "por",
          "por",
          "por",
          "por",
          "por",
          "por",
          "por",
          "por",
          "por",
          "por",
          "por",
          "por",
          "por",
          "por",
          "por",
          "por",
          "por",
          "por",
          "por",
          "por",
          "por",
          "por",
          "por",
          "por",
          "por",
          "por",
          "por",
          "por"
         ],
         "xaxis": "x",
         "y": [
          1,
          1,
          1,
          1,
          1,
          1,
          1,
          1,
          1,
          1,
          1,
          1,
          1,
          1,
          1,
          1,
          1,
          1,
          1,
          1,
          1,
          1,
          1,
          1,
          1,
          1,
          1,
          1,
          1,
          1,
          1,
          1,
          1,
          1,
          1,
          1,
          1,
          1,
          1,
          1,
          1,
          1,
          1,
          1,
          1,
          1,
          1,
          1,
          1,
          1,
          1,
          1,
          1,
          1,
          1,
          1,
          1,
          1,
          1,
          1,
          1,
          1,
          1,
          1,
          1,
          1,
          1,
          1,
          1,
          1,
          1,
          1,
          1,
          1,
          1,
          1,
          1,
          1,
          1,
          1,
          1,
          1,
          1,
          1,
          1,
          1,
          1,
          1,
          1,
          1,
          1,
          1,
          1,
          1,
          1,
          1,
          1,
          1,
          1,
          1,
          1,
          1,
          1,
          1,
          1,
          1,
          1,
          1,
          1,
          1,
          1,
          1,
          1,
          1,
          1,
          1,
          1,
          1,
          1,
          1,
          1,
          1,
          1,
          1,
          1,
          1,
          1,
          1,
          1,
          1,
          1,
          1,
          1,
          1,
          1,
          1,
          1,
          1,
          1,
          1,
          1,
          1,
          1,
          1,
          1,
          1,
          1,
          1,
          1,
          1,
          1,
          1,
          1,
          1,
          1,
          1,
          1,
          1,
          1,
          1,
          1,
          1,
          1,
          1,
          1,
          1,
          1,
          1,
          1,
          1,
          1,
          1,
          1,
          1,
          1,
          1,
          1,
          1,
          1,
          1,
          1,
          1,
          1,
          1,
          1,
          1,
          1,
          1,
          1,
          1,
          1,
          1,
          1,
          1,
          1,
          1,
          1,
          1,
          1,
          1,
          1,
          1,
          1,
          1,
          1,
          1,
          1,
          1,
          1,
          1,
          1,
          1,
          1,
          1,
          1,
          1,
          1,
          1,
          1,
          1,
          1,
          1,
          1,
          1,
          1,
          1,
          1,
          1,
          1,
          1,
          1,
          1,
          1,
          1,
          1,
          1,
          1,
          1,
          1,
          1,
          1,
          1,
          1,
          1,
          1,
          1,
          1,
          1,
          1,
          1,
          1,
          1,
          1,
          1,
          1,
          1,
          1,
          1,
          1,
          1,
          1,
          1,
          1,
          1,
          1,
          1,
          1,
          1,
          1,
          1,
          1,
          1,
          1,
          1,
          1,
          1,
          1,
          1,
          1,
          1,
          1,
          1,
          1,
          1,
          1,
          1,
          1,
          1,
          1,
          1,
          1,
          1,
          1,
          1,
          1,
          1,
          1,
          1,
          1,
          1,
          1,
          1,
          1,
          1,
          1,
          1,
          1,
          1,
          1,
          1,
          1,
          1,
          1,
          1,
          1,
          1,
          1,
          1,
          1,
          1,
          1,
          1,
          1,
          1,
          1,
          1,
          1,
          1,
          1,
          1,
          1,
          1,
          1,
          1,
          1,
          1,
          1,
          1,
          1,
          1,
          1,
          1,
          1,
          1,
          1,
          1,
          1,
          1,
          1,
          1,
          1,
          1,
          1,
          1,
          1,
          1,
          1,
          1,
          1,
          1,
          1,
          1,
          1,
          1,
          1,
          1,
          1,
          1,
          1,
          1,
          1,
          1,
          1,
          1,
          1,
          1,
          1,
          1,
          1,
          1,
          1,
          1,
          1,
          1,
          1,
          1,
          1,
          1,
          1,
          1,
          1,
          1,
          1,
          1,
          1,
          1,
          1,
          1,
          1,
          1,
          1,
          1,
          1,
          1,
          1,
          1,
          1,
          1,
          1,
          1,
          1,
          1,
          1,
          1,
          1,
          1,
          1,
          1,
          1,
          1,
          1,
          1,
          1,
          1,
          1,
          1,
          1,
          1,
          1,
          1,
          1,
          1,
          1,
          1,
          1,
          1,
          1,
          1,
          1,
          1,
          1,
          1,
          1,
          1,
          1,
          1,
          1,
          1,
          1,
          1,
          1,
          1,
          1,
          1,
          1,
          1,
          1,
          1,
          1,
          1,
          1,
          1,
          1,
          1,
          1,
          1,
          1,
          1,
          1,
          1,
          1,
          1,
          1,
          1,
          1,
          1,
          1,
          1,
          1,
          1,
          1,
          1,
          1,
          1,
          1,
          1,
          1,
          1,
          1,
          1,
          1,
          1,
          1,
          1,
          1,
          1,
          1,
          1,
          1,
          1,
          1,
          1,
          1,
          1,
          1,
          1,
          1,
          1,
          1,
          1,
          1,
          1,
          1,
          1,
          1,
          1,
          1,
          1,
          1,
          1,
          1,
          1,
          1,
          1,
          1,
          1,
          1,
          1,
          1,
          1,
          1,
          1,
          1,
          1,
          1,
          1,
          1,
          1,
          1,
          1,
          1,
          1,
          1,
          1,
          1,
          1,
          1,
          1,
          1,
          1,
          1,
          1,
          1,
          1,
          1,
          1,
          1,
          1,
          1,
          1,
          1,
          1,
          1,
          1,
          1,
          1,
          1,
          1,
          1,
          1,
          1,
          1,
          1,
          1,
          1,
          1,
          1,
          1,
          1,
          1,
          1,
          1,
          1,
          1,
          1,
          1,
          1,
          1,
          1,
          1,
          1,
          1,
          1,
          1,
          1,
          1,
          1,
          1,
          1,
          1,
          1,
          1,
          1,
          1,
          1,
          1,
          1,
          1,
          1,
          1,
          1,
          1,
          1,
          1,
          1,
          1,
          1,
          1,
          1,
          1,
          1,
          1,
          1,
          1,
          1,
          1,
          1,
          1,
          1,
          1,
          1,
          1,
          1,
          1,
          1,
          1,
          1,
          1,
          1,
          1,
          1,
          1,
          1,
          1,
          1,
          1,
          1,
          1,
          1,
          1,
          1,
          1,
          1,
          1,
          1,
          1,
          1,
          1,
          1,
          1,
          1,
          1,
          1,
          1,
          1,
          1,
          1,
          1,
          1,
          1,
          1,
          1,
          1,
          1,
          1,
          1,
          1,
          1,
          1,
          1,
          1,
          1,
          1,
          1,
          1,
          1,
          1,
          1,
          1,
          1,
          1,
          1,
          1,
          1,
          1,
          1,
          1,
          1,
          1,
          1,
          1,
          1,
          1,
          1,
          1,
          1,
          1,
          1,
          1,
          1,
          1,
          1,
          1,
          1,
          1,
          1,
          1,
          1,
          1,
          1,
          1,
          1,
          1,
          1,
          1,
          1,
          1,
          1,
          1,
          1,
          1,
          1,
          1,
          1,
          1,
          1,
          1,
          1,
          1,
          1,
          1,
          1,
          1,
          1,
          1,
          1,
          1,
          1,
          1,
          1,
          1,
          1,
          1,
          1,
          1,
          1,
          1,
          1,
          1,
          1,
          1,
          1,
          1,
          1,
          1,
          1,
          1,
          1,
          1,
          1,
          1,
          1,
          1,
          1,
          1,
          1,
          1,
          1,
          1,
          1,
          1,
          1,
          1,
          1,
          1,
          1,
          1,
          1,
          1,
          1,
          1,
          1,
          1,
          1,
          1,
          1,
          1,
          1,
          1,
          1,
          1,
          1,
          1,
          1,
          1,
          1,
          1,
          1,
          1,
          1,
          1,
          1,
          1,
          1,
          1,
          1,
          1,
          1,
          1,
          1,
          1,
          1,
          1,
          1,
          1,
          1,
          1,
          1,
          1,
          1,
          1,
          1,
          1,
          1,
          1,
          1,
          1,
          1,
          1,
          1,
          1,
          1,
          1,
          1,
          1,
          1,
          1,
          1,
          1,
          1,
          1,
          1,
          1,
          1,
          1,
          1,
          1,
          1,
          1,
          1,
          1,
          1,
          1,
          1,
          1,
          1,
          1,
          1,
          1,
          1,
          1,
          1,
          1,
          1,
          1,
          1,
          1,
          1,
          1,
          1,
          1,
          1,
          1,
          1,
          1,
          1,
          1,
          1,
          1,
          1,
          1,
          1,
          1,
          1,
          1,
          1,
          1,
          1,
          1,
          1,
          1,
          1,
          1,
          1,
          1,
          1,
          1,
          1,
          1,
          1,
          1,
          1,
          1,
          1,
          1,
          1,
          1,
          1,
          1,
          1,
          1,
          1,
          1,
          1,
          1,
          1,
          1,
          1,
          1,
          1,
          1,
          1,
          1,
          1,
          1,
          1,
          1,
          1,
          1,
          1,
          1,
          1,
          1,
          1,
          1,
          1,
          1,
          1,
          1,
          1,
          1,
          1,
          1,
          1,
          1,
          1,
          1,
          1,
          1,
          1,
          1,
          1,
          1,
          1,
          1,
          1,
          1,
          1,
          1,
          1,
          1,
          1,
          1,
          1,
          1,
          1,
          1,
          1,
          1,
          1,
          1,
          1,
          1,
          1,
          1,
          1,
          1,
          1,
          1,
          1,
          1,
          1,
          1,
          1,
          1,
          1,
          1,
          1,
          1,
          1,
          1,
          1,
          1,
          1,
          1,
          1,
          1,
          1,
          1,
          1,
          1,
          1,
          1,
          1,
          1,
          1,
          1,
          1,
          1,
          1,
          1,
          1,
          1,
          1,
          1,
          1,
          1,
          1,
          1,
          1,
          1,
          1,
          1,
          1,
          1,
          1,
          1,
          1,
          1,
          1,
          1,
          1,
          1,
          1,
          1,
          1,
          1,
          1,
          1,
          1,
          1,
          1,
          1,
          1,
          1,
          1,
          1,
          1,
          1,
          1,
          1,
          1,
          1,
          1,
          1,
          1,
          1,
          1,
          1,
          1,
          1,
          1,
          1,
          1,
          1,
          1,
          1,
          1,
          1,
          1,
          1,
          1,
          1,
          1,
          1,
          1,
          1,
          1,
          1,
          1,
          1,
          1,
          1,
          1,
          1,
          1,
          1,
          1,
          1,
          1,
          1,
          1,
          1,
          1,
          1,
          1,
          1,
          1,
          1,
          1,
          1,
          1,
          1,
          1,
          1,
          1,
          1,
          1,
          1,
          1,
          1,
          1,
          1,
          1,
          1,
          1,
          1,
          1,
          1,
          1,
          1,
          1,
          1,
          1,
          1,
          1,
          1,
          1,
          1,
          1,
          1,
          1,
          1,
          1,
          1,
          1,
          1,
          1,
          1,
          1,
          1,
          1,
          1,
          1,
          1,
          1,
          1,
          1,
          1,
          1,
          1,
          1,
          1,
          1,
          1,
          1,
          1,
          1,
          1,
          1,
          1,
          1,
          1,
          1,
          1,
          1,
          1,
          1,
          1,
          1,
          1,
          1,
          1,
          1,
          1,
          1,
          1,
          1,
          1,
          1,
          1,
          1,
          1,
          1,
          1,
          1,
          1,
          1,
          1,
          1,
          1,
          1,
          1,
          1,
          1,
          1,
          1,
          1,
          1,
          1,
          1,
          1,
          1,
          1,
          1,
          1,
          1,
          1,
          1,
          1,
          1,
          1,
          1,
          1,
          1,
          1,
          1,
          1,
          1,
          1,
          1,
          1,
          1,
          1,
          1,
          1,
          1,
          1,
          1,
          1,
          1,
          1,
          1,
          1,
          1,
          1,
          1,
          1,
          1,
          1,
          1,
          1,
          1,
          1,
          1,
          1,
          1,
          1,
          1,
          1,
          1,
          1,
          1,
          1,
          1,
          1,
          1,
          1,
          1,
          1,
          1,
          1,
          1,
          1,
          1,
          1,
          1,
          1,
          1,
          1,
          1,
          1,
          1,
          1,
          1,
          1,
          1,
          1,
          1,
          1,
          1,
          1,
          1,
          1,
          1,
          1,
          1,
          1,
          1,
          1,
          1,
          1,
          1,
          1,
          1,
          1,
          1,
          1,
          1,
          1,
          1,
          1,
          1,
          1,
          1,
          1,
          1,
          1,
          1,
          1,
          1,
          1,
          1,
          1,
          1,
          1,
          1,
          1,
          1,
          1,
          1,
          1,
          1,
          1,
          1,
          1,
          1,
          1,
          1,
          1,
          1,
          1,
          1,
          1,
          1,
          1,
          1,
          1,
          1,
          1,
          1,
          1,
          1,
          1,
          1,
          1,
          1,
          1,
          1
         ],
         "yaxis": "y"
        }
       ],
       "layout": {
        "barmode": "relative",
        "legend": {
         "tracegroupgap": 0
        },
        "template": {
         "data": {
          "bar": [
           {
            "error_x": {
             "color": "#2a3f5f"
            },
            "error_y": {
             "color": "#2a3f5f"
            },
            "marker": {
             "line": {
              "color": "#E5ECF6",
              "width": 0.5
             },
             "pattern": {
              "fillmode": "overlay",
              "size": 10,
              "solidity": 0.2
             }
            },
            "type": "bar"
           }
          ],
          "barpolar": [
           {
            "marker": {
             "line": {
              "color": "#E5ECF6",
              "width": 0.5
             },
             "pattern": {
              "fillmode": "overlay",
              "size": 10,
              "solidity": 0.2
             }
            },
            "type": "barpolar"
           }
          ],
          "carpet": [
           {
            "aaxis": {
             "endlinecolor": "#2a3f5f",
             "gridcolor": "white",
             "linecolor": "white",
             "minorgridcolor": "white",
             "startlinecolor": "#2a3f5f"
            },
            "baxis": {
             "endlinecolor": "#2a3f5f",
             "gridcolor": "white",
             "linecolor": "white",
             "minorgridcolor": "white",
             "startlinecolor": "#2a3f5f"
            },
            "type": "carpet"
           }
          ],
          "choropleth": [
           {
            "colorbar": {
             "outlinewidth": 0,
             "ticks": ""
            },
            "type": "choropleth"
           }
          ],
          "contour": [
           {
            "colorbar": {
             "outlinewidth": 0,
             "ticks": ""
            },
            "colorscale": [
             [
              0,
              "#0d0887"
             ],
             [
              0.1111111111111111,
              "#46039f"
             ],
             [
              0.2222222222222222,
              "#7201a8"
             ],
             [
              0.3333333333333333,
              "#9c179e"
             ],
             [
              0.4444444444444444,
              "#bd3786"
             ],
             [
              0.5555555555555556,
              "#d8576b"
             ],
             [
              0.6666666666666666,
              "#ed7953"
             ],
             [
              0.7777777777777778,
              "#fb9f3a"
             ],
             [
              0.8888888888888888,
              "#fdca26"
             ],
             [
              1,
              "#f0f921"
             ]
            ],
            "type": "contour"
           }
          ],
          "contourcarpet": [
           {
            "colorbar": {
             "outlinewidth": 0,
             "ticks": ""
            },
            "type": "contourcarpet"
           }
          ],
          "heatmap": [
           {
            "colorbar": {
             "outlinewidth": 0,
             "ticks": ""
            },
            "colorscale": [
             [
              0,
              "#0d0887"
             ],
             [
              0.1111111111111111,
              "#46039f"
             ],
             [
              0.2222222222222222,
              "#7201a8"
             ],
             [
              0.3333333333333333,
              "#9c179e"
             ],
             [
              0.4444444444444444,
              "#bd3786"
             ],
             [
              0.5555555555555556,
              "#d8576b"
             ],
             [
              0.6666666666666666,
              "#ed7953"
             ],
             [
              0.7777777777777778,
              "#fb9f3a"
             ],
             [
              0.8888888888888888,
              "#fdca26"
             ],
             [
              1,
              "#f0f921"
             ]
            ],
            "type": "heatmap"
           }
          ],
          "heatmapgl": [
           {
            "colorbar": {
             "outlinewidth": 0,
             "ticks": ""
            },
            "colorscale": [
             [
              0,
              "#0d0887"
             ],
             [
              0.1111111111111111,
              "#46039f"
             ],
             [
              0.2222222222222222,
              "#7201a8"
             ],
             [
              0.3333333333333333,
              "#9c179e"
             ],
             [
              0.4444444444444444,
              "#bd3786"
             ],
             [
              0.5555555555555556,
              "#d8576b"
             ],
             [
              0.6666666666666666,
              "#ed7953"
             ],
             [
              0.7777777777777778,
              "#fb9f3a"
             ],
             [
              0.8888888888888888,
              "#fdca26"
             ],
             [
              1,
              "#f0f921"
             ]
            ],
            "type": "heatmapgl"
           }
          ],
          "histogram": [
           {
            "marker": {
             "pattern": {
              "fillmode": "overlay",
              "size": 10,
              "solidity": 0.2
             }
            },
            "type": "histogram"
           }
          ],
          "histogram2d": [
           {
            "colorbar": {
             "outlinewidth": 0,
             "ticks": ""
            },
            "colorscale": [
             [
              0,
              "#0d0887"
             ],
             [
              0.1111111111111111,
              "#46039f"
             ],
             [
              0.2222222222222222,
              "#7201a8"
             ],
             [
              0.3333333333333333,
              "#9c179e"
             ],
             [
              0.4444444444444444,
              "#bd3786"
             ],
             [
              0.5555555555555556,
              "#d8576b"
             ],
             [
              0.6666666666666666,
              "#ed7953"
             ],
             [
              0.7777777777777778,
              "#fb9f3a"
             ],
             [
              0.8888888888888888,
              "#fdca26"
             ],
             [
              1,
              "#f0f921"
             ]
            ],
            "type": "histogram2d"
           }
          ],
          "histogram2dcontour": [
           {
            "colorbar": {
             "outlinewidth": 0,
             "ticks": ""
            },
            "colorscale": [
             [
              0,
              "#0d0887"
             ],
             [
              0.1111111111111111,
              "#46039f"
             ],
             [
              0.2222222222222222,
              "#7201a8"
             ],
             [
              0.3333333333333333,
              "#9c179e"
             ],
             [
              0.4444444444444444,
              "#bd3786"
             ],
             [
              0.5555555555555556,
              "#d8576b"
             ],
             [
              0.6666666666666666,
              "#ed7953"
             ],
             [
              0.7777777777777778,
              "#fb9f3a"
             ],
             [
              0.8888888888888888,
              "#fdca26"
             ],
             [
              1,
              "#f0f921"
             ]
            ],
            "type": "histogram2dcontour"
           }
          ],
          "mesh3d": [
           {
            "colorbar": {
             "outlinewidth": 0,
             "ticks": ""
            },
            "type": "mesh3d"
           }
          ],
          "parcoords": [
           {
            "line": {
             "colorbar": {
              "outlinewidth": 0,
              "ticks": ""
             }
            },
            "type": "parcoords"
           }
          ],
          "pie": [
           {
            "automargin": true,
            "type": "pie"
           }
          ],
          "scatter": [
           {
            "fillpattern": {
             "fillmode": "overlay",
             "size": 10,
             "solidity": 0.2
            },
            "type": "scatter"
           }
          ],
          "scatter3d": [
           {
            "line": {
             "colorbar": {
              "outlinewidth": 0,
              "ticks": ""
             }
            },
            "marker": {
             "colorbar": {
              "outlinewidth": 0,
              "ticks": ""
             }
            },
            "type": "scatter3d"
           }
          ],
          "scattercarpet": [
           {
            "marker": {
             "colorbar": {
              "outlinewidth": 0,
              "ticks": ""
             }
            },
            "type": "scattercarpet"
           }
          ],
          "scattergeo": [
           {
            "marker": {
             "colorbar": {
              "outlinewidth": 0,
              "ticks": ""
             }
            },
            "type": "scattergeo"
           }
          ],
          "scattergl": [
           {
            "marker": {
             "colorbar": {
              "outlinewidth": 0,
              "ticks": ""
             }
            },
            "type": "scattergl"
           }
          ],
          "scattermapbox": [
           {
            "marker": {
             "colorbar": {
              "outlinewidth": 0,
              "ticks": ""
             }
            },
            "type": "scattermapbox"
           }
          ],
          "scatterpolar": [
           {
            "marker": {
             "colorbar": {
              "outlinewidth": 0,
              "ticks": ""
             }
            },
            "type": "scatterpolar"
           }
          ],
          "scatterpolargl": [
           {
            "marker": {
             "colorbar": {
              "outlinewidth": 0,
              "ticks": ""
             }
            },
            "type": "scatterpolargl"
           }
          ],
          "scatterternary": [
           {
            "marker": {
             "colorbar": {
              "outlinewidth": 0,
              "ticks": ""
             }
            },
            "type": "scatterternary"
           }
          ],
          "surface": [
           {
            "colorbar": {
             "outlinewidth": 0,
             "ticks": ""
            },
            "colorscale": [
             [
              0,
              "#0d0887"
             ],
             [
              0.1111111111111111,
              "#46039f"
             ],
             [
              0.2222222222222222,
              "#7201a8"
             ],
             [
              0.3333333333333333,
              "#9c179e"
             ],
             [
              0.4444444444444444,
              "#bd3786"
             ],
             [
              0.5555555555555556,
              "#d8576b"
             ],
             [
              0.6666666666666666,
              "#ed7953"
             ],
             [
              0.7777777777777778,
              "#fb9f3a"
             ],
             [
              0.8888888888888888,
              "#fdca26"
             ],
             [
              1,
              "#f0f921"
             ]
            ],
            "type": "surface"
           }
          ],
          "table": [
           {
            "cells": {
             "fill": {
              "color": "#EBF0F8"
             },
             "line": {
              "color": "white"
             }
            },
            "header": {
             "fill": {
              "color": "#C8D4E3"
             },
             "line": {
              "color": "white"
             }
            },
            "type": "table"
           }
          ]
         },
         "layout": {
          "annotationdefaults": {
           "arrowcolor": "#2a3f5f",
           "arrowhead": 0,
           "arrowwidth": 1
          },
          "autotypenumbers": "strict",
          "coloraxis": {
           "colorbar": {
            "outlinewidth": 0,
            "ticks": ""
           }
          },
          "colorscale": {
           "diverging": [
            [
             0,
             "#8e0152"
            ],
            [
             0.1,
             "#c51b7d"
            ],
            [
             0.2,
             "#de77ae"
            ],
            [
             0.3,
             "#f1b6da"
            ],
            [
             0.4,
             "#fde0ef"
            ],
            [
             0.5,
             "#f7f7f7"
            ],
            [
             0.6,
             "#e6f5d0"
            ],
            [
             0.7,
             "#b8e186"
            ],
            [
             0.8,
             "#7fbc41"
            ],
            [
             0.9,
             "#4d9221"
            ],
            [
             1,
             "#276419"
            ]
           ],
           "sequential": [
            [
             0,
             "#0d0887"
            ],
            [
             0.1111111111111111,
             "#46039f"
            ],
            [
             0.2222222222222222,
             "#7201a8"
            ],
            [
             0.3333333333333333,
             "#9c179e"
            ],
            [
             0.4444444444444444,
             "#bd3786"
            ],
            [
             0.5555555555555556,
             "#d8576b"
            ],
            [
             0.6666666666666666,
             "#ed7953"
            ],
            [
             0.7777777777777778,
             "#fb9f3a"
            ],
            [
             0.8888888888888888,
             "#fdca26"
            ],
            [
             1,
             "#f0f921"
            ]
           ],
           "sequentialminus": [
            [
             0,
             "#0d0887"
            ],
            [
             0.1111111111111111,
             "#46039f"
            ],
            [
             0.2222222222222222,
             "#7201a8"
            ],
            [
             0.3333333333333333,
             "#9c179e"
            ],
            [
             0.4444444444444444,
             "#bd3786"
            ],
            [
             0.5555555555555556,
             "#d8576b"
            ],
            [
             0.6666666666666666,
             "#ed7953"
            ],
            [
             0.7777777777777778,
             "#fb9f3a"
            ],
            [
             0.8888888888888888,
             "#fdca26"
            ],
            [
             1,
             "#f0f921"
            ]
           ]
          },
          "colorway": [
           "#636efa",
           "#EF553B",
           "#00cc96",
           "#ab63fa",
           "#FFA15A",
           "#19d3f3",
           "#FF6692",
           "#B6E880",
           "#FF97FF",
           "#FECB52"
          ],
          "font": {
           "color": "#2a3f5f"
          },
          "geo": {
           "bgcolor": "white",
           "lakecolor": "white",
           "landcolor": "#E5ECF6",
           "showlakes": true,
           "showland": true,
           "subunitcolor": "white"
          },
          "hoverlabel": {
           "align": "left"
          },
          "hovermode": "closest",
          "mapbox": {
           "style": "light"
          },
          "paper_bgcolor": "white",
          "plot_bgcolor": "#E5ECF6",
          "polar": {
           "angularaxis": {
            "gridcolor": "white",
            "linecolor": "white",
            "ticks": ""
           },
           "bgcolor": "#E5ECF6",
           "radialaxis": {
            "gridcolor": "white",
            "linecolor": "white",
            "ticks": ""
           }
          },
          "scene": {
           "xaxis": {
            "backgroundcolor": "#E5ECF6",
            "gridcolor": "white",
            "gridwidth": 2,
            "linecolor": "white",
            "showbackground": true,
            "ticks": "",
            "zerolinecolor": "white"
           },
           "yaxis": {
            "backgroundcolor": "#E5ECF6",
            "gridcolor": "white",
            "gridwidth": 2,
            "linecolor": "white",
            "showbackground": true,
            "ticks": "",
            "zerolinecolor": "white"
           },
           "zaxis": {
            "backgroundcolor": "#E5ECF6",
            "gridcolor": "white",
            "gridwidth": 2,
            "linecolor": "white",
            "showbackground": true,
            "ticks": "",
            "zerolinecolor": "white"
           }
          },
          "shapedefaults": {
           "line": {
            "color": "#2a3f5f"
           }
          },
          "ternary": {
           "aaxis": {
            "gridcolor": "white",
            "linecolor": "white",
            "ticks": ""
           },
           "baxis": {
            "gridcolor": "white",
            "linecolor": "white",
            "ticks": ""
           },
           "bgcolor": "#E5ECF6",
           "caxis": {
            "gridcolor": "white",
            "linecolor": "white",
            "ticks": ""
           }
          },
          "title": {
           "x": 0.05
          },
          "xaxis": {
           "automargin": true,
           "gridcolor": "white",
           "linecolor": "white",
           "ticks": "",
           "title": {
            "standoff": 15
           },
           "zerolinecolor": "white",
           "zerolinewidth": 2
          },
          "yaxis": {
           "automargin": true,
           "gridcolor": "white",
           "linecolor": "white",
           "ticks": "",
           "title": {
            "standoff": 15
           },
           "zerolinecolor": "white",
           "zerolinewidth": 2
          }
         }
        },
        "title": {
         "text": "Idiomas dos periódicos"
        },
        "xaxis": {
         "anchor": "y",
         "domain": [
          0,
          1
         ],
         "title": {
          "text": "Language of Text"
         }
        },
        "yaxis": {
         "anchor": "x",
         "domain": [
          0,
          1
         ],
         "title": {
          "text": "count"
         }
        }
       }
      }
     },
     "metadata": {},
     "output_type": "display_data"
    }
   ],
   "source": [
    "# criar gráfico de barras com os dados de idiomas dos periódicos\n",
    "fig_02 = px.bar(df_periodical, x='Language of Text', title='Idiomas dos periódicos')\n",
    "fig_02.show()"
   ]
  },
  {
   "cell_type": "code",
   "execution_count": 15,
   "metadata": {},
   "outputs": [
    {
     "data": {
      "text/plain": [
       "1894    41\n",
       "1897    40\n",
       "1891    40\n",
       "1896    40\n",
       "1885    39\n",
       "        ..\n",
       "1862     1\n",
       "1855     1\n",
       "1832     1\n",
       "191      1\n",
       "1941     1\n",
       "Name: Date of Publication, Length: 154, dtype: int64"
      ]
     },
     "execution_count": 15,
     "metadata": {},
     "output_type": "execute_result"
    }
   ],
   "source": [
    "#contar datas de publicação\n",
    "df_periodical['Date of Publication'].value_counts()"
   ]
  },
  {
   "cell_type": "code",
   "execution_count": 19,
   "metadata": {},
   "outputs": [
    {
     "data": {
      "text/html": [
       "<div>\n",
       "<style scoped>\n",
       "    .dataframe tbody tr th:only-of-type {\n",
       "        vertical-align: middle;\n",
       "    }\n",
       "\n",
       "    .dataframe tbody tr th {\n",
       "        vertical-align: top;\n",
       "    }\n",
       "\n",
       "    .dataframe thead th {\n",
       "        text-align: right;\n",
       "    }\n",
       "</style>\n",
       "<table border=\"1\" class=\"dataframe\">\n",
       "  <thead>\n",
       "    <tr style=\"text-align: right;\">\n",
       "      <th></th>\n",
       "      <th>Date of Publication</th>\n",
       "      <th>counts</th>\n",
       "    </tr>\n",
       "  </thead>\n",
       "  <tbody>\n",
       "    <tr>\n",
       "      <th>123</th>\n",
       "      <td>1641</td>\n",
       "      <td>1</td>\n",
       "    </tr>\n",
       "    <tr>\n",
       "      <th>132</th>\n",
       "      <td>1730</td>\n",
       "      <td>1</td>\n",
       "    </tr>\n",
       "    <tr>\n",
       "      <th>105</th>\n",
       "      <td>1743</td>\n",
       "      <td>1</td>\n",
       "    </tr>\n",
       "    <tr>\n",
       "      <th>127</th>\n",
       "      <td>1752</td>\n",
       "      <td>1</td>\n",
       "    </tr>\n",
       "    <tr>\n",
       "      <th>110</th>\n",
       "      <td>1779</td>\n",
       "      <td>1</td>\n",
       "    </tr>\n",
       "    <tr>\n",
       "      <th>...</th>\n",
       "      <td>...</td>\n",
       "      <td>...</td>\n",
       "    </tr>\n",
       "    <tr>\n",
       "      <th>116</th>\n",
       "      <td>1964</td>\n",
       "      <td>1</td>\n",
       "    </tr>\n",
       "    <tr>\n",
       "      <th>118</th>\n",
       "      <td>1975</td>\n",
       "      <td>1</td>\n",
       "    </tr>\n",
       "    <tr>\n",
       "      <th>121</th>\n",
       "      <td>1987</td>\n",
       "      <td>1</td>\n",
       "    </tr>\n",
       "    <tr>\n",
       "      <th>122</th>\n",
       "      <td>1989</td>\n",
       "      <td>1</td>\n",
       "    </tr>\n",
       "    <tr>\n",
       "      <th>141</th>\n",
       "      <td>19_</td>\n",
       "      <td>1</td>\n",
       "    </tr>\n",
       "  </tbody>\n",
       "</table>\n",
       "<p>154 rows × 2 columns</p>\n",
       "</div>"
      ],
      "text/plain": [
       "    Date of Publication  counts\n",
       "123                1641       1\n",
       "132                1730       1\n",
       "105                1743       1\n",
       "127                1752       1\n",
       "110                1779       1\n",
       "..                  ...     ...\n",
       "116                1964       1\n",
       "118                1975       1\n",
       "121                1987       1\n",
       "122                1989       1\n",
       "141                19_        1\n",
       "\n",
       "[154 rows x 2 columns]"
      ]
     },
     "execution_count": 19,
     "metadata": {},
     "output_type": "execute_result"
    }
   ],
   "source": [
    "# criar dataframe com as datas de publicação e a quantidade de cada uma organizadas cronologicamente\n",
    "df_date = df_periodical['Date of Publication'].value_counts().rename_axis('Date of Publication').reset_index(name='counts')\n",
    "# sort dataframe by column \"Date of Publication\"\n",
    "df_date = df_date.sort_values(by=['Date of Publication'])\n",
    "df_date"
   ]
  },
  {
   "cell_type": "code",
   "execution_count": 22,
   "metadata": {},
   "outputs": [
    {
     "data": {
      "application/vnd.plotly.v1+json": {
       "config": {
        "plotlyServerURL": "https://plot.ly"
       },
       "data": [
        {
         "hovertemplate": "Date of Publication=%{x}<br>counts=%{y}<extra></extra>",
         "legendgroup": "",
         "marker": {
          "color": "#636efa",
          "symbol": "circle"
         },
         "mode": "markers",
         "name": "",
         "orientation": "v",
         "showlegend": false,
         "type": "scatter",
         "x": [
          "1641",
          "1730",
          "1743",
          "1752",
          "1779",
          "1792",
          "18  ",
          "1802",
          "1804",
          "1806",
          "1807",
          "1809",
          "1811",
          "1812",
          "1814",
          "1817",
          "1819",
          "1820",
          "1821",
          "1822",
          "1823",
          "1824",
          "1826",
          "1828",
          "1829",
          "1830",
          "1831",
          "1832",
          "1833",
          "1834",
          "1835",
          "1836",
          "1837",
          "1838",
          "1839",
          "1840",
          "1841",
          "1842",
          "1843",
          "1844",
          "1845",
          "1846",
          "1847",
          "1848",
          "1849",
          "1850",
          "1851",
          "1852",
          "1853",
          "1854",
          "1855",
          "1856",
          "1857",
          "1858",
          "1859",
          "186 ",
          "1860",
          "1861",
          "1862",
          "1863",
          "1864",
          "1865",
          "1866",
          "1867",
          "1868",
          "1869",
          "1870",
          "1871",
          "1872",
          "1873",
          "1874",
          "1875",
          "1876",
          "1877",
          "1878",
          "1879",
          "188 ",
          "1880",
          "1881",
          "1882",
          "1883",
          "1884",
          "1885",
          "1886",
          "1887",
          "1888",
          "1889",
          "189 ",
          "1890",
          "1891",
          "1892",
          "1893",
          "1894",
          "1895",
          "1896",
          "1897",
          "1898",
          "1899",
          "19  ",
          "1900",
          "1901",
          "1902",
          "1903",
          "1904",
          "1905",
          "1906",
          "1907",
          "1908",
          "1909",
          "191 ",
          "1910",
          "1911",
          "1912",
          "1913",
          "1914",
          "1915",
          "1916",
          "1917",
          "1918",
          "1919",
          "192 ",
          "192-",
          "1920",
          "1921",
          "1922",
          "1923",
          "1924",
          "1925",
          "1926",
          "1927",
          "1928",
          "1929",
          "193 ",
          "1930",
          "1932",
          "1933",
          "1934",
          "1935",
          "1936",
          "1937",
          "1940",
          "1941",
          "1943",
          "1952",
          "1953",
          "1954",
          "1958",
          "1960",
          "1961",
          "1964",
          "1975",
          "1987",
          "1989",
          "19_ "
         ],
         "xaxis": "x",
         "y": [
          1,
          1,
          1,
          1,
          1,
          1,
          2,
          1,
          1,
          1,
          1,
          10,
          3,
          1,
          1,
          1,
          1,
          4,
          9,
          7,
          1,
          2,
          20,
          2,
          1,
          1,
          2,
          1,
          3,
          1,
          2,
          11,
          8,
          3,
          10,
          5,
          1,
          1,
          1,
          1,
          5,
          2,
          9,
          9,
          3,
          1,
          5,
          4,
          5,
          1,
          1,
          1,
          1,
          2,
          2,
          1,
          4,
          2,
          1,
          7,
          4,
          4,
          4,
          8,
          4,
          3,
          6,
          5,
          10,
          6,
          5,
          18,
          12,
          11,
          20,
          18,
          7,
          28,
          29,
          31,
          29,
          24,
          39,
          29,
          34,
          38,
          36,
          3,
          29,
          40,
          26,
          38,
          41,
          37,
          40,
          40,
          28,
          23,
          2,
          14,
          6,
          7,
          11,
          5,
          9,
          8,
          18,
          15,
          26,
          1,
          23,
          19,
          12,
          17,
          13,
          5,
          9,
          14,
          11,
          10,
          1,
          1,
          13,
          5,
          9,
          6,
          7,
          8,
          7,
          7,
          1,
          8,
          1,
          2,
          2,
          5,
          1,
          1,
          1,
          4,
          1,
          1,
          2,
          1,
          1,
          1,
          1,
          1,
          1,
          1,
          1,
          1,
          1,
          1
         ],
         "yaxis": "y"
        }
       ],
       "layout": {
        "legend": {
         "tracegroupgap": 0
        },
        "template": {
         "data": {
          "bar": [
           {
            "error_x": {
             "color": "#2a3f5f"
            },
            "error_y": {
             "color": "#2a3f5f"
            },
            "marker": {
             "line": {
              "color": "#E5ECF6",
              "width": 0.5
             },
             "pattern": {
              "fillmode": "overlay",
              "size": 10,
              "solidity": 0.2
             }
            },
            "type": "bar"
           }
          ],
          "barpolar": [
           {
            "marker": {
             "line": {
              "color": "#E5ECF6",
              "width": 0.5
             },
             "pattern": {
              "fillmode": "overlay",
              "size": 10,
              "solidity": 0.2
             }
            },
            "type": "barpolar"
           }
          ],
          "carpet": [
           {
            "aaxis": {
             "endlinecolor": "#2a3f5f",
             "gridcolor": "white",
             "linecolor": "white",
             "minorgridcolor": "white",
             "startlinecolor": "#2a3f5f"
            },
            "baxis": {
             "endlinecolor": "#2a3f5f",
             "gridcolor": "white",
             "linecolor": "white",
             "minorgridcolor": "white",
             "startlinecolor": "#2a3f5f"
            },
            "type": "carpet"
           }
          ],
          "choropleth": [
           {
            "colorbar": {
             "outlinewidth": 0,
             "ticks": ""
            },
            "type": "choropleth"
           }
          ],
          "contour": [
           {
            "colorbar": {
             "outlinewidth": 0,
             "ticks": ""
            },
            "colorscale": [
             [
              0,
              "#0d0887"
             ],
             [
              0.1111111111111111,
              "#46039f"
             ],
             [
              0.2222222222222222,
              "#7201a8"
             ],
             [
              0.3333333333333333,
              "#9c179e"
             ],
             [
              0.4444444444444444,
              "#bd3786"
             ],
             [
              0.5555555555555556,
              "#d8576b"
             ],
             [
              0.6666666666666666,
              "#ed7953"
             ],
             [
              0.7777777777777778,
              "#fb9f3a"
             ],
             [
              0.8888888888888888,
              "#fdca26"
             ],
             [
              1,
              "#f0f921"
             ]
            ],
            "type": "contour"
           }
          ],
          "contourcarpet": [
           {
            "colorbar": {
             "outlinewidth": 0,
             "ticks": ""
            },
            "type": "contourcarpet"
           }
          ],
          "heatmap": [
           {
            "colorbar": {
             "outlinewidth": 0,
             "ticks": ""
            },
            "colorscale": [
             [
              0,
              "#0d0887"
             ],
             [
              0.1111111111111111,
              "#46039f"
             ],
             [
              0.2222222222222222,
              "#7201a8"
             ],
             [
              0.3333333333333333,
              "#9c179e"
             ],
             [
              0.4444444444444444,
              "#bd3786"
             ],
             [
              0.5555555555555556,
              "#d8576b"
             ],
             [
              0.6666666666666666,
              "#ed7953"
             ],
             [
              0.7777777777777778,
              "#fb9f3a"
             ],
             [
              0.8888888888888888,
              "#fdca26"
             ],
             [
              1,
              "#f0f921"
             ]
            ],
            "type": "heatmap"
           }
          ],
          "heatmapgl": [
           {
            "colorbar": {
             "outlinewidth": 0,
             "ticks": ""
            },
            "colorscale": [
             [
              0,
              "#0d0887"
             ],
             [
              0.1111111111111111,
              "#46039f"
             ],
             [
              0.2222222222222222,
              "#7201a8"
             ],
             [
              0.3333333333333333,
              "#9c179e"
             ],
             [
              0.4444444444444444,
              "#bd3786"
             ],
             [
              0.5555555555555556,
              "#d8576b"
             ],
             [
              0.6666666666666666,
              "#ed7953"
             ],
             [
              0.7777777777777778,
              "#fb9f3a"
             ],
             [
              0.8888888888888888,
              "#fdca26"
             ],
             [
              1,
              "#f0f921"
             ]
            ],
            "type": "heatmapgl"
           }
          ],
          "histogram": [
           {
            "marker": {
             "pattern": {
              "fillmode": "overlay",
              "size": 10,
              "solidity": 0.2
             }
            },
            "type": "histogram"
           }
          ],
          "histogram2d": [
           {
            "colorbar": {
             "outlinewidth": 0,
             "ticks": ""
            },
            "colorscale": [
             [
              0,
              "#0d0887"
             ],
             [
              0.1111111111111111,
              "#46039f"
             ],
             [
              0.2222222222222222,
              "#7201a8"
             ],
             [
              0.3333333333333333,
              "#9c179e"
             ],
             [
              0.4444444444444444,
              "#bd3786"
             ],
             [
              0.5555555555555556,
              "#d8576b"
             ],
             [
              0.6666666666666666,
              "#ed7953"
             ],
             [
              0.7777777777777778,
              "#fb9f3a"
             ],
             [
              0.8888888888888888,
              "#fdca26"
             ],
             [
              1,
              "#f0f921"
             ]
            ],
            "type": "histogram2d"
           }
          ],
          "histogram2dcontour": [
           {
            "colorbar": {
             "outlinewidth": 0,
             "ticks": ""
            },
            "colorscale": [
             [
              0,
              "#0d0887"
             ],
             [
              0.1111111111111111,
              "#46039f"
             ],
             [
              0.2222222222222222,
              "#7201a8"
             ],
             [
              0.3333333333333333,
              "#9c179e"
             ],
             [
              0.4444444444444444,
              "#bd3786"
             ],
             [
              0.5555555555555556,
              "#d8576b"
             ],
             [
              0.6666666666666666,
              "#ed7953"
             ],
             [
              0.7777777777777778,
              "#fb9f3a"
             ],
             [
              0.8888888888888888,
              "#fdca26"
             ],
             [
              1,
              "#f0f921"
             ]
            ],
            "type": "histogram2dcontour"
           }
          ],
          "mesh3d": [
           {
            "colorbar": {
             "outlinewidth": 0,
             "ticks": ""
            },
            "type": "mesh3d"
           }
          ],
          "parcoords": [
           {
            "line": {
             "colorbar": {
              "outlinewidth": 0,
              "ticks": ""
             }
            },
            "type": "parcoords"
           }
          ],
          "pie": [
           {
            "automargin": true,
            "type": "pie"
           }
          ],
          "scatter": [
           {
            "fillpattern": {
             "fillmode": "overlay",
             "size": 10,
             "solidity": 0.2
            },
            "type": "scatter"
           }
          ],
          "scatter3d": [
           {
            "line": {
             "colorbar": {
              "outlinewidth": 0,
              "ticks": ""
             }
            },
            "marker": {
             "colorbar": {
              "outlinewidth": 0,
              "ticks": ""
             }
            },
            "type": "scatter3d"
           }
          ],
          "scattercarpet": [
           {
            "marker": {
             "colorbar": {
              "outlinewidth": 0,
              "ticks": ""
             }
            },
            "type": "scattercarpet"
           }
          ],
          "scattergeo": [
           {
            "marker": {
             "colorbar": {
              "outlinewidth": 0,
              "ticks": ""
             }
            },
            "type": "scattergeo"
           }
          ],
          "scattergl": [
           {
            "marker": {
             "colorbar": {
              "outlinewidth": 0,
              "ticks": ""
             }
            },
            "type": "scattergl"
           }
          ],
          "scattermapbox": [
           {
            "marker": {
             "colorbar": {
              "outlinewidth": 0,
              "ticks": ""
             }
            },
            "type": "scattermapbox"
           }
          ],
          "scatterpolar": [
           {
            "marker": {
             "colorbar": {
              "outlinewidth": 0,
              "ticks": ""
             }
            },
            "type": "scatterpolar"
           }
          ],
          "scatterpolargl": [
           {
            "marker": {
             "colorbar": {
              "outlinewidth": 0,
              "ticks": ""
             }
            },
            "type": "scatterpolargl"
           }
          ],
          "scatterternary": [
           {
            "marker": {
             "colorbar": {
              "outlinewidth": 0,
              "ticks": ""
             }
            },
            "type": "scatterternary"
           }
          ],
          "surface": [
           {
            "colorbar": {
             "outlinewidth": 0,
             "ticks": ""
            },
            "colorscale": [
             [
              0,
              "#0d0887"
             ],
             [
              0.1111111111111111,
              "#46039f"
             ],
             [
              0.2222222222222222,
              "#7201a8"
             ],
             [
              0.3333333333333333,
              "#9c179e"
             ],
             [
              0.4444444444444444,
              "#bd3786"
             ],
             [
              0.5555555555555556,
              "#d8576b"
             ],
             [
              0.6666666666666666,
              "#ed7953"
             ],
             [
              0.7777777777777778,
              "#fb9f3a"
             ],
             [
              0.8888888888888888,
              "#fdca26"
             ],
             [
              1,
              "#f0f921"
             ]
            ],
            "type": "surface"
           }
          ],
          "table": [
           {
            "cells": {
             "fill": {
              "color": "#EBF0F8"
             },
             "line": {
              "color": "white"
             }
            },
            "header": {
             "fill": {
              "color": "#C8D4E3"
             },
             "line": {
              "color": "white"
             }
            },
            "type": "table"
           }
          ]
         },
         "layout": {
          "annotationdefaults": {
           "arrowcolor": "#2a3f5f",
           "arrowhead": 0,
           "arrowwidth": 1
          },
          "autotypenumbers": "strict",
          "coloraxis": {
           "colorbar": {
            "outlinewidth": 0,
            "ticks": ""
           }
          },
          "colorscale": {
           "diverging": [
            [
             0,
             "#8e0152"
            ],
            [
             0.1,
             "#c51b7d"
            ],
            [
             0.2,
             "#de77ae"
            ],
            [
             0.3,
             "#f1b6da"
            ],
            [
             0.4,
             "#fde0ef"
            ],
            [
             0.5,
             "#f7f7f7"
            ],
            [
             0.6,
             "#e6f5d0"
            ],
            [
             0.7,
             "#b8e186"
            ],
            [
             0.8,
             "#7fbc41"
            ],
            [
             0.9,
             "#4d9221"
            ],
            [
             1,
             "#276419"
            ]
           ],
           "sequential": [
            [
             0,
             "#0d0887"
            ],
            [
             0.1111111111111111,
             "#46039f"
            ],
            [
             0.2222222222222222,
             "#7201a8"
            ],
            [
             0.3333333333333333,
             "#9c179e"
            ],
            [
             0.4444444444444444,
             "#bd3786"
            ],
            [
             0.5555555555555556,
             "#d8576b"
            ],
            [
             0.6666666666666666,
             "#ed7953"
            ],
            [
             0.7777777777777778,
             "#fb9f3a"
            ],
            [
             0.8888888888888888,
             "#fdca26"
            ],
            [
             1,
             "#f0f921"
            ]
           ],
           "sequentialminus": [
            [
             0,
             "#0d0887"
            ],
            [
             0.1111111111111111,
             "#46039f"
            ],
            [
             0.2222222222222222,
             "#7201a8"
            ],
            [
             0.3333333333333333,
             "#9c179e"
            ],
            [
             0.4444444444444444,
             "#bd3786"
            ],
            [
             0.5555555555555556,
             "#d8576b"
            ],
            [
             0.6666666666666666,
             "#ed7953"
            ],
            [
             0.7777777777777778,
             "#fb9f3a"
            ],
            [
             0.8888888888888888,
             "#fdca26"
            ],
            [
             1,
             "#f0f921"
            ]
           ]
          },
          "colorway": [
           "#636efa",
           "#EF553B",
           "#00cc96",
           "#ab63fa",
           "#FFA15A",
           "#19d3f3",
           "#FF6692",
           "#B6E880",
           "#FF97FF",
           "#FECB52"
          ],
          "font": {
           "color": "#2a3f5f"
          },
          "geo": {
           "bgcolor": "white",
           "lakecolor": "white",
           "landcolor": "#E5ECF6",
           "showlakes": true,
           "showland": true,
           "subunitcolor": "white"
          },
          "hoverlabel": {
           "align": "left"
          },
          "hovermode": "closest",
          "mapbox": {
           "style": "light"
          },
          "paper_bgcolor": "white",
          "plot_bgcolor": "#E5ECF6",
          "polar": {
           "angularaxis": {
            "gridcolor": "white",
            "linecolor": "white",
            "ticks": ""
           },
           "bgcolor": "#E5ECF6",
           "radialaxis": {
            "gridcolor": "white",
            "linecolor": "white",
            "ticks": ""
           }
          },
          "scene": {
           "xaxis": {
            "backgroundcolor": "#E5ECF6",
            "gridcolor": "white",
            "gridwidth": 2,
            "linecolor": "white",
            "showbackground": true,
            "ticks": "",
            "zerolinecolor": "white"
           },
           "yaxis": {
            "backgroundcolor": "#E5ECF6",
            "gridcolor": "white",
            "gridwidth": 2,
            "linecolor": "white",
            "showbackground": true,
            "ticks": "",
            "zerolinecolor": "white"
           },
           "zaxis": {
            "backgroundcolor": "#E5ECF6",
            "gridcolor": "white",
            "gridwidth": 2,
            "linecolor": "white",
            "showbackground": true,
            "ticks": "",
            "zerolinecolor": "white"
           }
          },
          "shapedefaults": {
           "line": {
            "color": "#2a3f5f"
           }
          },
          "ternary": {
           "aaxis": {
            "gridcolor": "white",
            "linecolor": "white",
            "ticks": ""
           },
           "baxis": {
            "gridcolor": "white",
            "linecolor": "white",
            "ticks": ""
           },
           "bgcolor": "#E5ECF6",
           "caxis": {
            "gridcolor": "white",
            "linecolor": "white",
            "ticks": ""
           }
          },
          "title": {
           "x": 0.05
          },
          "xaxis": {
           "automargin": true,
           "gridcolor": "white",
           "linecolor": "white",
           "ticks": "",
           "title": {
            "standoff": 15
           },
           "zerolinecolor": "white",
           "zerolinewidth": 2
          },
          "yaxis": {
           "automargin": true,
           "gridcolor": "white",
           "linecolor": "white",
           "ticks": "",
           "title": {
            "standoff": 15
           },
           "zerolinecolor": "white",
           "zerolinewidth": 2
          }
         }
        },
        "title": {
         "text": "Datas de publicação dos periódicos"
        },
        "xaxis": {
         "anchor": "y",
         "domain": [
          0,
          1
         ],
         "title": {
          "text": "Date of Publication"
         }
        },
        "yaxis": {
         "anchor": "x",
         "domain": [
          0,
          1
         ],
         "title": {
          "text": "counts"
         }
        }
       }
      }
     },
     "metadata": {},
     "output_type": "display_data"
    }
   ],
   "source": [
    "# Criar scatter plot com os dados de datas de publicação com as datas de publicação no eixo Y\n",
    "fig_03 = px.scatter(df_date, x='Date of Publication', y='counts', title='Datas de publicação dos periódicos')\n",
    "fig_03.show()"
   ]
  },
  {
   "cell_type": "code",
   "execution_count": 31,
   "metadata": {},
   "outputs": [
    {
     "name": "stderr",
     "output_type": "stream",
     "text": [
      "/tmp/ipykernel_26718/4255114580.py:2: SettingWithCopyWarning:\n",
      "\n",
      "\n",
      "A value is trying to be set on a copy of a slice from a DataFrame.\n",
      "Try using .loc[row_indexer,col_indexer] = value instead\n",
      "\n",
      "See the caveats in the documentation: https://pandas.pydata.org/pandas-docs/stable/user_guide/indexing.html#returning-a-view-versus-a-copy\n",
      "\n"
     ]
    }
   ],
   "source": [
    "# na coluna name of publisher, substituir os valores \"\"[s.n.]\", \"s.n.]\" e \"[s.n.\" por \"Sem editora\"\n",
    "df_periodical['Name of Publisher'] = df_periodical['Name of Publisher'].replace(['[s.n.]', 's.n.]', '[s.n.', 's.n.'], 'Sem editora')\n"
   ]
  },
  {
   "cell_type": "code",
   "execution_count": 32,
   "metadata": {},
   "outputs": [
    {
     "data": {
      "text/plain": [
       "Sem editora                    171\n",
       "Paulo da Fonseca                17\n",
       "J. Garcia de Lima               13\n",
       "Typ. Occidental                 11\n",
       "Imprensa Minerva                 9\n",
       "                              ... \n",
       "Tasso Lopes                      1\n",
       "Typographia do Lacobrigense      1\n",
       "Typ. Franco-Portugueza           1\n",
       "P. A. Marchal e Milcent          1\n",
       "Tip. Minerva Indiana             1\n",
       "Name: Name of Publisher, Length: 993, dtype: int64"
      ]
     },
     "execution_count": 32,
     "metadata": {},
     "output_type": "execute_result"
    }
   ],
   "source": [
    "# contar editoras\n",
    "df_periodical['Name of Publisher'].value_counts()"
   ]
  },
  {
   "cell_type": "code",
   "execution_count": 33,
   "metadata": {},
   "outputs": [
    {
     "data": {
      "text/html": [
       "<div>\n",
       "<style scoped>\n",
       "    .dataframe tbody tr th:only-of-type {\n",
       "        vertical-align: middle;\n",
       "    }\n",
       "\n",
       "    .dataframe tbody tr th {\n",
       "        vertical-align: top;\n",
       "    }\n",
       "\n",
       "    .dataframe thead th {\n",
       "        text-align: right;\n",
       "    }\n",
       "</style>\n",
       "<table border=\"1\" class=\"dataframe\">\n",
       "  <thead>\n",
       "    <tr style=\"text-align: right;\">\n",
       "      <th></th>\n",
       "      <th>Name of Publisher</th>\n",
       "      <th>counts</th>\n",
       "    </tr>\n",
       "  </thead>\n",
       "  <tbody>\n",
       "    <tr>\n",
       "      <th>0</th>\n",
       "      <td>Sem editora</td>\n",
       "      <td>171</td>\n",
       "    </tr>\n",
       "    <tr>\n",
       "      <th>1</th>\n",
       "      <td>Paulo da Fonseca</td>\n",
       "      <td>17</td>\n",
       "    </tr>\n",
       "    <tr>\n",
       "      <th>2</th>\n",
       "      <td>J. Garcia de Lima</td>\n",
       "      <td>13</td>\n",
       "    </tr>\n",
       "    <tr>\n",
       "      <th>3</th>\n",
       "      <td>Typ. Occidental</td>\n",
       "      <td>11</td>\n",
       "    </tr>\n",
       "    <tr>\n",
       "      <th>4</th>\n",
       "      <td>Imprensa Minerva</td>\n",
       "      <td>9</td>\n",
       "    </tr>\n",
       "    <tr>\n",
       "      <th>...</th>\n",
       "      <td>...</td>\n",
       "      <td>...</td>\n",
       "    </tr>\n",
       "    <tr>\n",
       "      <th>988</th>\n",
       "      <td>Tasso Lopes</td>\n",
       "      <td>1</td>\n",
       "    </tr>\n",
       "    <tr>\n",
       "      <th>989</th>\n",
       "      <td>Typographia do Lacobrigense</td>\n",
       "      <td>1</td>\n",
       "    </tr>\n",
       "    <tr>\n",
       "      <th>990</th>\n",
       "      <td>Typ. Franco-Portugueza</td>\n",
       "      <td>1</td>\n",
       "    </tr>\n",
       "    <tr>\n",
       "      <th>991</th>\n",
       "      <td>P. A. Marchal e Milcent</td>\n",
       "      <td>1</td>\n",
       "    </tr>\n",
       "    <tr>\n",
       "      <th>992</th>\n",
       "      <td>Tip. Minerva Indiana</td>\n",
       "      <td>1</td>\n",
       "    </tr>\n",
       "  </tbody>\n",
       "</table>\n",
       "<p>993 rows × 2 columns</p>\n",
       "</div>"
      ],
      "text/plain": [
       "               Name of Publisher  counts\n",
       "0                    Sem editora     171\n",
       "1               Paulo da Fonseca      17\n",
       "2              J. Garcia de Lima      13\n",
       "3                Typ. Occidental      11\n",
       "4               Imprensa Minerva       9\n",
       "..                           ...     ...\n",
       "988                  Tasso Lopes       1\n",
       "989  Typographia do Lacobrigense       1\n",
       "990       Typ. Franco-Portugueza       1\n",
       "991      P. A. Marchal e Milcent       1\n",
       "992         Tip. Minerva Indiana       1\n",
       "\n",
       "[993 rows x 2 columns]"
      ]
     },
     "execution_count": 33,
     "metadata": {},
     "output_type": "execute_result"
    }
   ],
   "source": [
    "# criar dataframe com as editoras e a quantidade de cada uma\n",
    "df_publisher = df_periodical['Name of Publisher'].value_counts().rename_axis('Name of Publisher').reset_index(name='counts')\n",
    "df_publisher"
   ]
  },
  {
   "cell_type": "code",
   "execution_count": 34,
   "metadata": {},
   "outputs": [
    {
     "data": {
      "application/vnd.plotly.v1+json": {
       "config": {
        "plotlyServerURL": "https://plot.ly"
       },
       "data": [
        {
         "alignmentgroup": "True",
         "hovertemplate": "Name of Publisher=%{x}<br>counts=%{y}<extra></extra>",
         "legendgroup": "",
         "marker": {
          "color": "#636efa",
          "pattern": {
           "shape": ""
          }
         },
         "name": "",
         "offsetgroup": "",
         "orientation": "v",
         "showlegend": false,
         "textposition": "auto",
         "type": "bar",
         "x": [
          "Sem editora",
          "Paulo da Fonseca",
          "J. Garcia de Lima",
          "Typ. Occidental",
          "Imprensa Minerva",
          "Imprensa Nacional",
          "na Impressão Regia",
          "Illydio Analide da Costa",
          "Typ. Lisbonense",
          "na Imprensa Nacional",
          "Imprensa da Universidade",
          "Typ. Luso-Hespanhola",
          "na Impressão Régia",
          "Typographia Popular",
          "Typ. de Salles",
          "Henrique Pinto do Amaral",
          "Typographia do Commercio",
          "Typ. Minerva",
          "Typ. Gutenberg",
          "Imprensa Litteraria",
          "Typ. Gutierres",
          "Typ. Nacional",
          "Imprensa Civilização",
          "Typ. Burocratica",
          "Typ. Phenix",
          "Typ. da Viuva Sousa Neves",
          "Typ. Universal",
          "Typ. Central",
          "Typ. Minerva Commercial",
          "Typ. Democratica",
          "J.G. de Lima",
          "Typ. de Silva",
          "Imprensa Moderna",
          "Imprensa do Gandra",
          "Typ. do Commercio",
          "Typ. de G.A. Gutierres da Silva",
          "João Silva",
          "Raul Pousão Ramos",
          "Imprensa Economica",
          "Júlio Cesar Eustáquio dos Santos",
          "na Imprensa do Gandra",
          "Imp. Minerva",
          "Typ. União",
          "Typ. de Lucas Evangelista Torres",
          "F. P. Henriques",
          "na Nova Impressão Silviana",
          "na Typ. de A.L. de Oliveira",
          "C.S. Bingham",
          "Typ. do Commercio de Portugal",
          "Typ. Rocha"
         ],
         "xaxis": "x",
         "y": [
          171,
          17,
          13,
          11,
          9,
          9,
          7,
          7,
          7,
          7,
          6,
          6,
          5,
          5,
          5,
          5,
          4,
          4,
          4,
          4,
          4,
          4,
          4,
          4,
          3,
          3,
          3,
          3,
          3,
          3,
          3,
          3,
          2,
          2,
          2,
          2,
          2,
          2,
          2,
          2,
          2,
          2,
          2,
          2,
          2,
          2,
          2,
          2,
          2,
          2
         ],
         "yaxis": "y"
        }
       ],
       "layout": {
        "barmode": "relative",
        "legend": {
         "tracegroupgap": 0
        },
        "template": {
         "data": {
          "bar": [
           {
            "error_x": {
             "color": "#2a3f5f"
            },
            "error_y": {
             "color": "#2a3f5f"
            },
            "marker": {
             "line": {
              "color": "#E5ECF6",
              "width": 0.5
             },
             "pattern": {
              "fillmode": "overlay",
              "size": 10,
              "solidity": 0.2
             }
            },
            "type": "bar"
           }
          ],
          "barpolar": [
           {
            "marker": {
             "line": {
              "color": "#E5ECF6",
              "width": 0.5
             },
             "pattern": {
              "fillmode": "overlay",
              "size": 10,
              "solidity": 0.2
             }
            },
            "type": "barpolar"
           }
          ],
          "carpet": [
           {
            "aaxis": {
             "endlinecolor": "#2a3f5f",
             "gridcolor": "white",
             "linecolor": "white",
             "minorgridcolor": "white",
             "startlinecolor": "#2a3f5f"
            },
            "baxis": {
             "endlinecolor": "#2a3f5f",
             "gridcolor": "white",
             "linecolor": "white",
             "minorgridcolor": "white",
             "startlinecolor": "#2a3f5f"
            },
            "type": "carpet"
           }
          ],
          "choropleth": [
           {
            "colorbar": {
             "outlinewidth": 0,
             "ticks": ""
            },
            "type": "choropleth"
           }
          ],
          "contour": [
           {
            "colorbar": {
             "outlinewidth": 0,
             "ticks": ""
            },
            "colorscale": [
             [
              0,
              "#0d0887"
             ],
             [
              0.1111111111111111,
              "#46039f"
             ],
             [
              0.2222222222222222,
              "#7201a8"
             ],
             [
              0.3333333333333333,
              "#9c179e"
             ],
             [
              0.4444444444444444,
              "#bd3786"
             ],
             [
              0.5555555555555556,
              "#d8576b"
             ],
             [
              0.6666666666666666,
              "#ed7953"
             ],
             [
              0.7777777777777778,
              "#fb9f3a"
             ],
             [
              0.8888888888888888,
              "#fdca26"
             ],
             [
              1,
              "#f0f921"
             ]
            ],
            "type": "contour"
           }
          ],
          "contourcarpet": [
           {
            "colorbar": {
             "outlinewidth": 0,
             "ticks": ""
            },
            "type": "contourcarpet"
           }
          ],
          "heatmap": [
           {
            "colorbar": {
             "outlinewidth": 0,
             "ticks": ""
            },
            "colorscale": [
             [
              0,
              "#0d0887"
             ],
             [
              0.1111111111111111,
              "#46039f"
             ],
             [
              0.2222222222222222,
              "#7201a8"
             ],
             [
              0.3333333333333333,
              "#9c179e"
             ],
             [
              0.4444444444444444,
              "#bd3786"
             ],
             [
              0.5555555555555556,
              "#d8576b"
             ],
             [
              0.6666666666666666,
              "#ed7953"
             ],
             [
              0.7777777777777778,
              "#fb9f3a"
             ],
             [
              0.8888888888888888,
              "#fdca26"
             ],
             [
              1,
              "#f0f921"
             ]
            ],
            "type": "heatmap"
           }
          ],
          "heatmapgl": [
           {
            "colorbar": {
             "outlinewidth": 0,
             "ticks": ""
            },
            "colorscale": [
             [
              0,
              "#0d0887"
             ],
             [
              0.1111111111111111,
              "#46039f"
             ],
             [
              0.2222222222222222,
              "#7201a8"
             ],
             [
              0.3333333333333333,
              "#9c179e"
             ],
             [
              0.4444444444444444,
              "#bd3786"
             ],
             [
              0.5555555555555556,
              "#d8576b"
             ],
             [
              0.6666666666666666,
              "#ed7953"
             ],
             [
              0.7777777777777778,
              "#fb9f3a"
             ],
             [
              0.8888888888888888,
              "#fdca26"
             ],
             [
              1,
              "#f0f921"
             ]
            ],
            "type": "heatmapgl"
           }
          ],
          "histogram": [
           {
            "marker": {
             "pattern": {
              "fillmode": "overlay",
              "size": 10,
              "solidity": 0.2
             }
            },
            "type": "histogram"
           }
          ],
          "histogram2d": [
           {
            "colorbar": {
             "outlinewidth": 0,
             "ticks": ""
            },
            "colorscale": [
             [
              0,
              "#0d0887"
             ],
             [
              0.1111111111111111,
              "#46039f"
             ],
             [
              0.2222222222222222,
              "#7201a8"
             ],
             [
              0.3333333333333333,
              "#9c179e"
             ],
             [
              0.4444444444444444,
              "#bd3786"
             ],
             [
              0.5555555555555556,
              "#d8576b"
             ],
             [
              0.6666666666666666,
              "#ed7953"
             ],
             [
              0.7777777777777778,
              "#fb9f3a"
             ],
             [
              0.8888888888888888,
              "#fdca26"
             ],
             [
              1,
              "#f0f921"
             ]
            ],
            "type": "histogram2d"
           }
          ],
          "histogram2dcontour": [
           {
            "colorbar": {
             "outlinewidth": 0,
             "ticks": ""
            },
            "colorscale": [
             [
              0,
              "#0d0887"
             ],
             [
              0.1111111111111111,
              "#46039f"
             ],
             [
              0.2222222222222222,
              "#7201a8"
             ],
             [
              0.3333333333333333,
              "#9c179e"
             ],
             [
              0.4444444444444444,
              "#bd3786"
             ],
             [
              0.5555555555555556,
              "#d8576b"
             ],
             [
              0.6666666666666666,
              "#ed7953"
             ],
             [
              0.7777777777777778,
              "#fb9f3a"
             ],
             [
              0.8888888888888888,
              "#fdca26"
             ],
             [
              1,
              "#f0f921"
             ]
            ],
            "type": "histogram2dcontour"
           }
          ],
          "mesh3d": [
           {
            "colorbar": {
             "outlinewidth": 0,
             "ticks": ""
            },
            "type": "mesh3d"
           }
          ],
          "parcoords": [
           {
            "line": {
             "colorbar": {
              "outlinewidth": 0,
              "ticks": ""
             }
            },
            "type": "parcoords"
           }
          ],
          "pie": [
           {
            "automargin": true,
            "type": "pie"
           }
          ],
          "scatter": [
           {
            "fillpattern": {
             "fillmode": "overlay",
             "size": 10,
             "solidity": 0.2
            },
            "type": "scatter"
           }
          ],
          "scatter3d": [
           {
            "line": {
             "colorbar": {
              "outlinewidth": 0,
              "ticks": ""
             }
            },
            "marker": {
             "colorbar": {
              "outlinewidth": 0,
              "ticks": ""
             }
            },
            "type": "scatter3d"
           }
          ],
          "scattercarpet": [
           {
            "marker": {
             "colorbar": {
              "outlinewidth": 0,
              "ticks": ""
             }
            },
            "type": "scattercarpet"
           }
          ],
          "scattergeo": [
           {
            "marker": {
             "colorbar": {
              "outlinewidth": 0,
              "ticks": ""
             }
            },
            "type": "scattergeo"
           }
          ],
          "scattergl": [
           {
            "marker": {
             "colorbar": {
              "outlinewidth": 0,
              "ticks": ""
             }
            },
            "type": "scattergl"
           }
          ],
          "scattermapbox": [
           {
            "marker": {
             "colorbar": {
              "outlinewidth": 0,
              "ticks": ""
             }
            },
            "type": "scattermapbox"
           }
          ],
          "scatterpolar": [
           {
            "marker": {
             "colorbar": {
              "outlinewidth": 0,
              "ticks": ""
             }
            },
            "type": "scatterpolar"
           }
          ],
          "scatterpolargl": [
           {
            "marker": {
             "colorbar": {
              "outlinewidth": 0,
              "ticks": ""
             }
            },
            "type": "scatterpolargl"
           }
          ],
          "scatterternary": [
           {
            "marker": {
             "colorbar": {
              "outlinewidth": 0,
              "ticks": ""
             }
            },
            "type": "scatterternary"
           }
          ],
          "surface": [
           {
            "colorbar": {
             "outlinewidth": 0,
             "ticks": ""
            },
            "colorscale": [
             [
              0,
              "#0d0887"
             ],
             [
              0.1111111111111111,
              "#46039f"
             ],
             [
              0.2222222222222222,
              "#7201a8"
             ],
             [
              0.3333333333333333,
              "#9c179e"
             ],
             [
              0.4444444444444444,
              "#bd3786"
             ],
             [
              0.5555555555555556,
              "#d8576b"
             ],
             [
              0.6666666666666666,
              "#ed7953"
             ],
             [
              0.7777777777777778,
              "#fb9f3a"
             ],
             [
              0.8888888888888888,
              "#fdca26"
             ],
             [
              1,
              "#f0f921"
             ]
            ],
            "type": "surface"
           }
          ],
          "table": [
           {
            "cells": {
             "fill": {
              "color": "#EBF0F8"
             },
             "line": {
              "color": "white"
             }
            },
            "header": {
             "fill": {
              "color": "#C8D4E3"
             },
             "line": {
              "color": "white"
             }
            },
            "type": "table"
           }
          ]
         },
         "layout": {
          "annotationdefaults": {
           "arrowcolor": "#2a3f5f",
           "arrowhead": 0,
           "arrowwidth": 1
          },
          "autotypenumbers": "strict",
          "coloraxis": {
           "colorbar": {
            "outlinewidth": 0,
            "ticks": ""
           }
          },
          "colorscale": {
           "diverging": [
            [
             0,
             "#8e0152"
            ],
            [
             0.1,
             "#c51b7d"
            ],
            [
             0.2,
             "#de77ae"
            ],
            [
             0.3,
             "#f1b6da"
            ],
            [
             0.4,
             "#fde0ef"
            ],
            [
             0.5,
             "#f7f7f7"
            ],
            [
             0.6,
             "#e6f5d0"
            ],
            [
             0.7,
             "#b8e186"
            ],
            [
             0.8,
             "#7fbc41"
            ],
            [
             0.9,
             "#4d9221"
            ],
            [
             1,
             "#276419"
            ]
           ],
           "sequential": [
            [
             0,
             "#0d0887"
            ],
            [
             0.1111111111111111,
             "#46039f"
            ],
            [
             0.2222222222222222,
             "#7201a8"
            ],
            [
             0.3333333333333333,
             "#9c179e"
            ],
            [
             0.4444444444444444,
             "#bd3786"
            ],
            [
             0.5555555555555556,
             "#d8576b"
            ],
            [
             0.6666666666666666,
             "#ed7953"
            ],
            [
             0.7777777777777778,
             "#fb9f3a"
            ],
            [
             0.8888888888888888,
             "#fdca26"
            ],
            [
             1,
             "#f0f921"
            ]
           ],
           "sequentialminus": [
            [
             0,
             "#0d0887"
            ],
            [
             0.1111111111111111,
             "#46039f"
            ],
            [
             0.2222222222222222,
             "#7201a8"
            ],
            [
             0.3333333333333333,
             "#9c179e"
            ],
            [
             0.4444444444444444,
             "#bd3786"
            ],
            [
             0.5555555555555556,
             "#d8576b"
            ],
            [
             0.6666666666666666,
             "#ed7953"
            ],
            [
             0.7777777777777778,
             "#fb9f3a"
            ],
            [
             0.8888888888888888,
             "#fdca26"
            ],
            [
             1,
             "#f0f921"
            ]
           ]
          },
          "colorway": [
           "#636efa",
           "#EF553B",
           "#00cc96",
           "#ab63fa",
           "#FFA15A",
           "#19d3f3",
           "#FF6692",
           "#B6E880",
           "#FF97FF",
           "#FECB52"
          ],
          "font": {
           "color": "#2a3f5f"
          },
          "geo": {
           "bgcolor": "white",
           "lakecolor": "white",
           "landcolor": "#E5ECF6",
           "showlakes": true,
           "showland": true,
           "subunitcolor": "white"
          },
          "hoverlabel": {
           "align": "left"
          },
          "hovermode": "closest",
          "mapbox": {
           "style": "light"
          },
          "paper_bgcolor": "white",
          "plot_bgcolor": "#E5ECF6",
          "polar": {
           "angularaxis": {
            "gridcolor": "white",
            "linecolor": "white",
            "ticks": ""
           },
           "bgcolor": "#E5ECF6",
           "radialaxis": {
            "gridcolor": "white",
            "linecolor": "white",
            "ticks": ""
           }
          },
          "scene": {
           "xaxis": {
            "backgroundcolor": "#E5ECF6",
            "gridcolor": "white",
            "gridwidth": 2,
            "linecolor": "white",
            "showbackground": true,
            "ticks": "",
            "zerolinecolor": "white"
           },
           "yaxis": {
            "backgroundcolor": "#E5ECF6",
            "gridcolor": "white",
            "gridwidth": 2,
            "linecolor": "white",
            "showbackground": true,
            "ticks": "",
            "zerolinecolor": "white"
           },
           "zaxis": {
            "backgroundcolor": "#E5ECF6",
            "gridcolor": "white",
            "gridwidth": 2,
            "linecolor": "white",
            "showbackground": true,
            "ticks": "",
            "zerolinecolor": "white"
           }
          },
          "shapedefaults": {
           "line": {
            "color": "#2a3f5f"
           }
          },
          "ternary": {
           "aaxis": {
            "gridcolor": "white",
            "linecolor": "white",
            "ticks": ""
           },
           "baxis": {
            "gridcolor": "white",
            "linecolor": "white",
            "ticks": ""
           },
           "bgcolor": "#E5ECF6",
           "caxis": {
            "gridcolor": "white",
            "linecolor": "white",
            "ticks": ""
           }
          },
          "title": {
           "x": 0.05
          },
          "xaxis": {
           "automargin": true,
           "gridcolor": "white",
           "linecolor": "white",
           "ticks": "",
           "title": {
            "standoff": 15
           },
           "zerolinecolor": "white",
           "zerolinewidth": 2
          },
          "yaxis": {
           "automargin": true,
           "gridcolor": "white",
           "linecolor": "white",
           "ticks": "",
           "title": {
            "standoff": 15
           },
           "zerolinecolor": "white",
           "zerolinewidth": 2
          }
         }
        },
        "title": {
         "text": "Editoras dos periódicos"
        },
        "xaxis": {
         "anchor": "y",
         "domain": [
          0,
          1
         ],
         "title": {
          "text": "Name of Publisher"
         }
        },
        "yaxis": {
         "anchor": "x",
         "domain": [
          0,
          1
         ],
         "title": {
          "text": "counts"
         }
        }
       }
      }
     },
     "metadata": {},
     "output_type": "display_data"
    }
   ],
   "source": [
    "# criar um gráfico de barras com os 50 primeiros valores de editoras\n",
    "fig_04 = px.bar(df_publisher.head(50), x='Name of Publisher', y='counts', title='Editoras dos periódicos')\n",
    "fig_04.show()"
   ]
  },
  {
   "cell_type": "code",
   "execution_count": 37,
   "metadata": {},
   "outputs": [
    {
     "data": {
      "application/vnd.plotly.v1+json": {
       "config": {
        "plotlyServerURL": "https://plot.ly"
       },
       "data": [
        {
         "alignmentgroup": "True",
         "hovertemplate": "Name of Publisher=%{x}<br>counts=%{y}<extra></extra>",
         "legendgroup": "",
         "marker": {
          "color": "#636efa",
          "pattern": {
           "shape": ""
          }
         },
         "name": "",
         "offsetgroup": "",
         "orientation": "v",
         "showlegend": false,
         "textposition": "auto",
         "type": "bar",
         "x": [
          "Paulo da Fonseca",
          "J. Garcia de Lima",
          "Typ. Occidental",
          "Imprensa Minerva",
          "Imprensa Nacional",
          "na Impressão Regia",
          "Illydio Analide da Costa",
          "Typ. Lisbonense",
          "na Imprensa Nacional",
          "Imprensa da Universidade",
          "Typ. Luso-Hespanhola",
          "na Impressão Régia",
          "Typographia Popular",
          "Typ. de Salles",
          "Henrique Pinto do Amaral",
          "Typographia do Commercio",
          "Typ. Minerva",
          "Typ. Gutenberg",
          "Imprensa Litteraria",
          "Typ. Gutierres"
         ],
         "xaxis": "x",
         "y": [
          17,
          13,
          11,
          9,
          9,
          7,
          7,
          7,
          7,
          6,
          6,
          5,
          5,
          5,
          5,
          4,
          4,
          4,
          4,
          4
         ],
         "yaxis": "y"
        }
       ],
       "layout": {
        "barmode": "relative",
        "legend": {
         "tracegroupgap": 0
        },
        "template": {
         "data": {
          "bar": [
           {
            "error_x": {
             "color": "#2a3f5f"
            },
            "error_y": {
             "color": "#2a3f5f"
            },
            "marker": {
             "line": {
              "color": "#E5ECF6",
              "width": 0.5
             },
             "pattern": {
              "fillmode": "overlay",
              "size": 10,
              "solidity": 0.2
             }
            },
            "type": "bar"
           }
          ],
          "barpolar": [
           {
            "marker": {
             "line": {
              "color": "#E5ECF6",
              "width": 0.5
             },
             "pattern": {
              "fillmode": "overlay",
              "size": 10,
              "solidity": 0.2
             }
            },
            "type": "barpolar"
           }
          ],
          "carpet": [
           {
            "aaxis": {
             "endlinecolor": "#2a3f5f",
             "gridcolor": "white",
             "linecolor": "white",
             "minorgridcolor": "white",
             "startlinecolor": "#2a3f5f"
            },
            "baxis": {
             "endlinecolor": "#2a3f5f",
             "gridcolor": "white",
             "linecolor": "white",
             "minorgridcolor": "white",
             "startlinecolor": "#2a3f5f"
            },
            "type": "carpet"
           }
          ],
          "choropleth": [
           {
            "colorbar": {
             "outlinewidth": 0,
             "ticks": ""
            },
            "type": "choropleth"
           }
          ],
          "contour": [
           {
            "colorbar": {
             "outlinewidth": 0,
             "ticks": ""
            },
            "colorscale": [
             [
              0,
              "#0d0887"
             ],
             [
              0.1111111111111111,
              "#46039f"
             ],
             [
              0.2222222222222222,
              "#7201a8"
             ],
             [
              0.3333333333333333,
              "#9c179e"
             ],
             [
              0.4444444444444444,
              "#bd3786"
             ],
             [
              0.5555555555555556,
              "#d8576b"
             ],
             [
              0.6666666666666666,
              "#ed7953"
             ],
             [
              0.7777777777777778,
              "#fb9f3a"
             ],
             [
              0.8888888888888888,
              "#fdca26"
             ],
             [
              1,
              "#f0f921"
             ]
            ],
            "type": "contour"
           }
          ],
          "contourcarpet": [
           {
            "colorbar": {
             "outlinewidth": 0,
             "ticks": ""
            },
            "type": "contourcarpet"
           }
          ],
          "heatmap": [
           {
            "colorbar": {
             "outlinewidth": 0,
             "ticks": ""
            },
            "colorscale": [
             [
              0,
              "#0d0887"
             ],
             [
              0.1111111111111111,
              "#46039f"
             ],
             [
              0.2222222222222222,
              "#7201a8"
             ],
             [
              0.3333333333333333,
              "#9c179e"
             ],
             [
              0.4444444444444444,
              "#bd3786"
             ],
             [
              0.5555555555555556,
              "#d8576b"
             ],
             [
              0.6666666666666666,
              "#ed7953"
             ],
             [
              0.7777777777777778,
              "#fb9f3a"
             ],
             [
              0.8888888888888888,
              "#fdca26"
             ],
             [
              1,
              "#f0f921"
             ]
            ],
            "type": "heatmap"
           }
          ],
          "heatmapgl": [
           {
            "colorbar": {
             "outlinewidth": 0,
             "ticks": ""
            },
            "colorscale": [
             [
              0,
              "#0d0887"
             ],
             [
              0.1111111111111111,
              "#46039f"
             ],
             [
              0.2222222222222222,
              "#7201a8"
             ],
             [
              0.3333333333333333,
              "#9c179e"
             ],
             [
              0.4444444444444444,
              "#bd3786"
             ],
             [
              0.5555555555555556,
              "#d8576b"
             ],
             [
              0.6666666666666666,
              "#ed7953"
             ],
             [
              0.7777777777777778,
              "#fb9f3a"
             ],
             [
              0.8888888888888888,
              "#fdca26"
             ],
             [
              1,
              "#f0f921"
             ]
            ],
            "type": "heatmapgl"
           }
          ],
          "histogram": [
           {
            "marker": {
             "pattern": {
              "fillmode": "overlay",
              "size": 10,
              "solidity": 0.2
             }
            },
            "type": "histogram"
           }
          ],
          "histogram2d": [
           {
            "colorbar": {
             "outlinewidth": 0,
             "ticks": ""
            },
            "colorscale": [
             [
              0,
              "#0d0887"
             ],
             [
              0.1111111111111111,
              "#46039f"
             ],
             [
              0.2222222222222222,
              "#7201a8"
             ],
             [
              0.3333333333333333,
              "#9c179e"
             ],
             [
              0.4444444444444444,
              "#bd3786"
             ],
             [
              0.5555555555555556,
              "#d8576b"
             ],
             [
              0.6666666666666666,
              "#ed7953"
             ],
             [
              0.7777777777777778,
              "#fb9f3a"
             ],
             [
              0.8888888888888888,
              "#fdca26"
             ],
             [
              1,
              "#f0f921"
             ]
            ],
            "type": "histogram2d"
           }
          ],
          "histogram2dcontour": [
           {
            "colorbar": {
             "outlinewidth": 0,
             "ticks": ""
            },
            "colorscale": [
             [
              0,
              "#0d0887"
             ],
             [
              0.1111111111111111,
              "#46039f"
             ],
             [
              0.2222222222222222,
              "#7201a8"
             ],
             [
              0.3333333333333333,
              "#9c179e"
             ],
             [
              0.4444444444444444,
              "#bd3786"
             ],
             [
              0.5555555555555556,
              "#d8576b"
             ],
             [
              0.6666666666666666,
              "#ed7953"
             ],
             [
              0.7777777777777778,
              "#fb9f3a"
             ],
             [
              0.8888888888888888,
              "#fdca26"
             ],
             [
              1,
              "#f0f921"
             ]
            ],
            "type": "histogram2dcontour"
           }
          ],
          "mesh3d": [
           {
            "colorbar": {
             "outlinewidth": 0,
             "ticks": ""
            },
            "type": "mesh3d"
           }
          ],
          "parcoords": [
           {
            "line": {
             "colorbar": {
              "outlinewidth": 0,
              "ticks": ""
             }
            },
            "type": "parcoords"
           }
          ],
          "pie": [
           {
            "automargin": true,
            "type": "pie"
           }
          ],
          "scatter": [
           {
            "fillpattern": {
             "fillmode": "overlay",
             "size": 10,
             "solidity": 0.2
            },
            "type": "scatter"
           }
          ],
          "scatter3d": [
           {
            "line": {
             "colorbar": {
              "outlinewidth": 0,
              "ticks": ""
             }
            },
            "marker": {
             "colorbar": {
              "outlinewidth": 0,
              "ticks": ""
             }
            },
            "type": "scatter3d"
           }
          ],
          "scattercarpet": [
           {
            "marker": {
             "colorbar": {
              "outlinewidth": 0,
              "ticks": ""
             }
            },
            "type": "scattercarpet"
           }
          ],
          "scattergeo": [
           {
            "marker": {
             "colorbar": {
              "outlinewidth": 0,
              "ticks": ""
             }
            },
            "type": "scattergeo"
           }
          ],
          "scattergl": [
           {
            "marker": {
             "colorbar": {
              "outlinewidth": 0,
              "ticks": ""
             }
            },
            "type": "scattergl"
           }
          ],
          "scattermapbox": [
           {
            "marker": {
             "colorbar": {
              "outlinewidth": 0,
              "ticks": ""
             }
            },
            "type": "scattermapbox"
           }
          ],
          "scatterpolar": [
           {
            "marker": {
             "colorbar": {
              "outlinewidth": 0,
              "ticks": ""
             }
            },
            "type": "scatterpolar"
           }
          ],
          "scatterpolargl": [
           {
            "marker": {
             "colorbar": {
              "outlinewidth": 0,
              "ticks": ""
             }
            },
            "type": "scatterpolargl"
           }
          ],
          "scatterternary": [
           {
            "marker": {
             "colorbar": {
              "outlinewidth": 0,
              "ticks": ""
             }
            },
            "type": "scatterternary"
           }
          ],
          "surface": [
           {
            "colorbar": {
             "outlinewidth": 0,
             "ticks": ""
            },
            "colorscale": [
             [
              0,
              "#0d0887"
             ],
             [
              0.1111111111111111,
              "#46039f"
             ],
             [
              0.2222222222222222,
              "#7201a8"
             ],
             [
              0.3333333333333333,
              "#9c179e"
             ],
             [
              0.4444444444444444,
              "#bd3786"
             ],
             [
              0.5555555555555556,
              "#d8576b"
             ],
             [
              0.6666666666666666,
              "#ed7953"
             ],
             [
              0.7777777777777778,
              "#fb9f3a"
             ],
             [
              0.8888888888888888,
              "#fdca26"
             ],
             [
              1,
              "#f0f921"
             ]
            ],
            "type": "surface"
           }
          ],
          "table": [
           {
            "cells": {
             "fill": {
              "color": "#EBF0F8"
             },
             "line": {
              "color": "white"
             }
            },
            "header": {
             "fill": {
              "color": "#C8D4E3"
             },
             "line": {
              "color": "white"
             }
            },
            "type": "table"
           }
          ]
         },
         "layout": {
          "annotationdefaults": {
           "arrowcolor": "#2a3f5f",
           "arrowhead": 0,
           "arrowwidth": 1
          },
          "autotypenumbers": "strict",
          "coloraxis": {
           "colorbar": {
            "outlinewidth": 0,
            "ticks": ""
           }
          },
          "colorscale": {
           "diverging": [
            [
             0,
             "#8e0152"
            ],
            [
             0.1,
             "#c51b7d"
            ],
            [
             0.2,
             "#de77ae"
            ],
            [
             0.3,
             "#f1b6da"
            ],
            [
             0.4,
             "#fde0ef"
            ],
            [
             0.5,
             "#f7f7f7"
            ],
            [
             0.6,
             "#e6f5d0"
            ],
            [
             0.7,
             "#b8e186"
            ],
            [
             0.8,
             "#7fbc41"
            ],
            [
             0.9,
             "#4d9221"
            ],
            [
             1,
             "#276419"
            ]
           ],
           "sequential": [
            [
             0,
             "#0d0887"
            ],
            [
             0.1111111111111111,
             "#46039f"
            ],
            [
             0.2222222222222222,
             "#7201a8"
            ],
            [
             0.3333333333333333,
             "#9c179e"
            ],
            [
             0.4444444444444444,
             "#bd3786"
            ],
            [
             0.5555555555555556,
             "#d8576b"
            ],
            [
             0.6666666666666666,
             "#ed7953"
            ],
            [
             0.7777777777777778,
             "#fb9f3a"
            ],
            [
             0.8888888888888888,
             "#fdca26"
            ],
            [
             1,
             "#f0f921"
            ]
           ],
           "sequentialminus": [
            [
             0,
             "#0d0887"
            ],
            [
             0.1111111111111111,
             "#46039f"
            ],
            [
             0.2222222222222222,
             "#7201a8"
            ],
            [
             0.3333333333333333,
             "#9c179e"
            ],
            [
             0.4444444444444444,
             "#bd3786"
            ],
            [
             0.5555555555555556,
             "#d8576b"
            ],
            [
             0.6666666666666666,
             "#ed7953"
            ],
            [
             0.7777777777777778,
             "#fb9f3a"
            ],
            [
             0.8888888888888888,
             "#fdca26"
            ],
            [
             1,
             "#f0f921"
            ]
           ]
          },
          "colorway": [
           "#636efa",
           "#EF553B",
           "#00cc96",
           "#ab63fa",
           "#FFA15A",
           "#19d3f3",
           "#FF6692",
           "#B6E880",
           "#FF97FF",
           "#FECB52"
          ],
          "font": {
           "color": "#2a3f5f"
          },
          "geo": {
           "bgcolor": "white",
           "lakecolor": "white",
           "landcolor": "#E5ECF6",
           "showlakes": true,
           "showland": true,
           "subunitcolor": "white"
          },
          "hoverlabel": {
           "align": "left"
          },
          "hovermode": "closest",
          "mapbox": {
           "style": "light"
          },
          "paper_bgcolor": "white",
          "plot_bgcolor": "#E5ECF6",
          "polar": {
           "angularaxis": {
            "gridcolor": "white",
            "linecolor": "white",
            "ticks": ""
           },
           "bgcolor": "#E5ECF6",
           "radialaxis": {
            "gridcolor": "white",
            "linecolor": "white",
            "ticks": ""
           }
          },
          "scene": {
           "xaxis": {
            "backgroundcolor": "#E5ECF6",
            "gridcolor": "white",
            "gridwidth": 2,
            "linecolor": "white",
            "showbackground": true,
            "ticks": "",
            "zerolinecolor": "white"
           },
           "yaxis": {
            "backgroundcolor": "#E5ECF6",
            "gridcolor": "white",
            "gridwidth": 2,
            "linecolor": "white",
            "showbackground": true,
            "ticks": "",
            "zerolinecolor": "white"
           },
           "zaxis": {
            "backgroundcolor": "#E5ECF6",
            "gridcolor": "white",
            "gridwidth": 2,
            "linecolor": "white",
            "showbackground": true,
            "ticks": "",
            "zerolinecolor": "white"
           }
          },
          "shapedefaults": {
           "line": {
            "color": "#2a3f5f"
           }
          },
          "ternary": {
           "aaxis": {
            "gridcolor": "white",
            "linecolor": "white",
            "ticks": ""
           },
           "baxis": {
            "gridcolor": "white",
            "linecolor": "white",
            "ticks": ""
           },
           "bgcolor": "#E5ECF6",
           "caxis": {
            "gridcolor": "white",
            "linecolor": "white",
            "ticks": ""
           }
          },
          "title": {
           "x": 0.05
          },
          "xaxis": {
           "automargin": true,
           "gridcolor": "white",
           "linecolor": "white",
           "ticks": "",
           "title": {
            "standoff": 15
           },
           "zerolinecolor": "white",
           "zerolinewidth": 2
          },
          "yaxis": {
           "automargin": true,
           "gridcolor": "white",
           "linecolor": "white",
           "ticks": "",
           "title": {
            "standoff": 15
           },
           "zerolinecolor": "white",
           "zerolinewidth": 2
          }
         }
        },
        "title": {
         "text": "Editoras dos periódicos"
        },
        "xaxis": {
         "anchor": "y",
         "domain": [
          0,
          1
         ],
         "title": {
          "text": "Name of Publisher"
         }
        },
        "yaxis": {
         "anchor": "x",
         "domain": [
          0,
          1
         ],
         "title": {
          "text": "counts"
         }
        }
       }
      }
     },
     "metadata": {},
     "output_type": "display_data"
    }
   ],
   "source": [
    "# criar um gráfico de barras com as primeiras 20 editoras, excluíndo a primeira.\n",
    "fig_05 = px.bar(df_publisher[1:21], x='Name of Publisher', y='counts', title='Editoras dos periódicos')\n",
    "fig_05.show()"
   ]
  },
  {
   "cell_type": "code",
   "execution_count": null,
   "metadata": {},
   "outputs": [],
   "source": []
  }
 ],
 "metadata": {
  "kernelspec": {
   "display_name": "Python 3",
   "language": "python",
   "name": "python3"
  },
  "language_info": {
   "codemirror_mode": {
    "name": "ipython",
    "version": 3
   },
   "file_extension": ".py",
   "mimetype": "text/x-python",
   "name": "python",
   "nbconvert_exporter": "python",
   "pygments_lexer": "ipython3",
   "version": "3.10.6"
  },
  "orig_nbformat": 4
 },
 "nbformat": 4,
 "nbformat_minor": 2
}
