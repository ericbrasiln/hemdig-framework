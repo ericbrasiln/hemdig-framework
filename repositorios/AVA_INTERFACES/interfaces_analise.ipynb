{
 "cells": [
  {
   "attachments": {},
   "cell_type": "markdown",
   "metadata": {},
   "source": [
    "# Análise das Interfaces \n",
    "\n",
    "Esse notebook apresenta a análise dos dados gerados com o preenchimento do [formulário de avaliação das interfaces](form_criterios.csv)."
   ]
  }
 ],
 "metadata": {
  "language_info": {
   "name": "python"
  },
  "orig_nbformat": 4
 },
 "nbformat": 4,
 "nbformat_minor": 2
}
