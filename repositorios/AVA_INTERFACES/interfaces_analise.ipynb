{
 "cells": [
  {
   "attachments": {},
   "cell_type": "markdown",
   "metadata": {},
   "source": [
    "# Análise das Interfaces \n",
    "\n",
    "Esse notebook apresenta a análise dos dados gerados com o preenchimento do [formulário de avaliação das interfaces](form_criterios.csv)."
   ]
  },
  {
   "attachments": {},
   "cell_type": "markdown",
   "metadata": {},
   "source": [
    "## Critérios de avaliação das interfaces\n",
    "\n",
    "Inspirado no modelo proposto por Ehrmann, Bunout e Düring[^1].\n",
    "\n",
    "[^1]: Ehrmann, Maud, Estelle Bunout, e Marten Düring. “Historical Newspaper User Interfaces: A Review”. Em Libraries: Dialogue for Change. Athens, Greece, 2017. http://library.ifla.org/id/eprint/2578/.\n",
    "\n",
    "1. Crítica da fonte\n",
    "2. Busca de conteúdo\n",
    "3. Filtro de conteúdo\n",
    "4. Generosidade\n",
    "5. Gerenciamento e exploração de conteúdo pelo usuário\n",
    "6. Conectividade\n",
    "\n",
    "Segundo as autoras, esses critérios:\n",
    "\n",
    ">capturam tanto as intenções atuais quanto potenciais dos provedores de conteúdo e os requisitos do usuário. (EHRMANN; BUNOUT; DÜRING, 2017, p. 2)\n"
   ]
  },
  {
   "cell_type": "markdown",
   "metadata": {},
   "source": [
    "\n",
    "## Grupos de Propriedades\n",
    "\n",
    "Além dos critérios propostos, os autores também criara grupos de propriedades que agrupam as propriedades de cada critério. Esses grupos são:\n",
    "\n",
    "A) Informações sobre a coleção de periódicos\n",
    "\n",
    "B) Metadados dos periódicos\n",
    "\n",
    "C) Navegação\n",
    "\n",
    "D) Opções de pesquisa\n",
    "\n",
    "E) Exibição dos resultados da busca\n",
    "\n",
    "F) Organização dos resultados da busca\n",
    "\n",
    "G) Filtros nos resultados da busca\n",
    "\n",
    "H) Visualizador\n",
    "\n",
    "I) Documentação sobre a digitalização\n",
    "\n",
    "J) Conta pessoal e interações do usuário\n",
    "\n",
    "K) Conectividade\n",
    "\n",
    "L) APIs e códigos\n",
    "\n",
    "M) Processamento de conteúdo\n",
    "\n",
    "Cada grupo reune uma lista de propriedades que estão relacionadas com o critério correspondente."
   ]
  },
  {
   "attachments": {},
   "cell_type": "markdown",
   "metadata": {},
   "source": [
    "Vamos explicar cada um dos seis critérios e listar as propriedades (organizadas por seus grupos) que compõem cada um deles."
   ]
  },
  {
   "attachments": {},
   "cell_type": "markdown",
   "metadata": {},
   "source": [
    "## 1. Crítica da fonte ou O que estou olhando?\n",
    "\n",
    ">descreve a avaliação crítica de documentos com base na proveniência e consciência do contexto. (EHRMANN; BUNOUT; DÜRING, 2017, p. 4)\n"
   ]
  },
  {
   "attachments": {},
   "cell_type": "markdown",
   "metadata": {},
   "source": [
    "### Propriedades\n",
    "\n",
    "#### A) Informações sobre a coleção de periódicos\n",
    "\n",
    "- Número de  título(s) de periódico(s) na coleção\n",
    "- Número de edições na coleção\n",
    "- Número de páginas na coleção\n",
    "- Número de artigos na coleção\n",
    "\n",
    "#### B) Metadados dos periódicos\n",
    "\n",
    "- Títulos alternativos, relacionados ou anteriores/ subsequentes\n",
    "- Lugar de publicação\n",
    "- Cobertura geográfica\n",
    "- Editor\n",
    "- Período de publicação\n",
    "- Periodicidade\n",
    "- Descrição histórica\n",
    "- Idioma\n",
    "- Visão em calendário da coleção\n",
    "- Indicação do titular do arquivo\n",
    "\n",
    "#### E) Exibição dos resultados da busca\n",
    "\n",
    "- Pré-visualização de trechos de texto com OCR ou imagem\n",
    "\n",
    "#### H) Visualizador\n",
    "\n",
    "- Exibição de facsimile\n",
    "- Exibição de texto com OCR\n",
    "- Mostra página cheia\n",
    "- Mini-mapa interativo da página\n",
    "- Visão geral das edições disponíveis\n",
    "\n",
    "#### I) Documentação sobre a digitalização\n",
    "\n",
    "- Análise de layout do documento ao nível de artigo\n",
    "- Pontuação de confiabilidade da análise de layout\n",
    "- Documentação sobre vieses e preconceitos\n",
    "- Pontuação de relevância dos resultados da busca\n",
    "- Data de digitalização ao nível de título\n",
    "- Resolução da digitalização em dpi\n",
    "- Informações sobre ferramentas de OCR utilizadas\n",
    "- Aviso de copyright\n",
    "- Documentação sobre métodos de digitalização\n",
    "\n",
    "#### L) APIs e códigos\n",
    "\n",
    "- Link para o código fonte da interface\n",
    "- API\n",
    "- IIIF Image API\n",
    "- IIIF Presentation API\n"
   ]
  },
  {
   "attachments": {},
   "cell_type": "markdown",
   "metadata": {},
   "source": [
    "## 2. Busca de conteúdo ou Como me envolvo com o material/conteúdo\n",
    "\n",
    ">to evaluate the extent to which interfaces can help understand the information space and identify relevant content. (EHRMANN; BUNOUT; DÜRING, 2017, p. 5)\n"
   ]
  },
  {
   "attachments": {},
   "cell_type": "markdown",
   "metadata": {},
   "source": [
    "### Propriedades\n",
    "\n",
    "#### D) Opções de pesquisa\n",
    "\n",
    "- Busca por palavra-chave básica\n",
    "- Operadores Booleanos\n",
    "- Busca por frases\n",
    "- Fuzzy search\n",
    "- Wild card\n",
    "- Operador de proximidade\n",
    "- Limite de data\n",
    "- Limite por idioma\n",
    "- Limite por título de periódico\n",
    "- Limite por local de publicação\n",
    "- Limite por temática (metadados)\n",
    "- Limite por segmentos / zonas do periódico\n",
    "- Limite por categoria de artigo\n",
    "- LImite por extensão do artigo\n",
    "- Limite por titular do arquivo / biblioteca\n",
    "- Limite por licença / acessibilidade\n",
    "- Busco por entidades nomeadas\n",
    "\n",
    "####  E) Exibição dos resultados da busca\n",
    "\n",
    "- Destaque de palavras-chave em facsimiles\n",
    "- Destaque de palavras-chave em texto com OCR\n",
    "\n",
    "#### H) Visualizador\n",
    "\n",
    "- Busca em página visualizada\n",
    "- Opção de continuar para próximo resultado\n",
    "\n",
    "#### M) Processamento de conteúdo\n",
    "\n",
    "- NERC\n",
    "- Link de entidades\n",
    "- Correção pós-OCR\n",
    "- Topic modeling\n",
    "- Text re-use\n",
    "- Sentiment analysis\n",
    "- Query\n",
    "- Event detection"
   ]
  },
  {
   "attachments": {},
   "cell_type": "markdown",
   "metadata": {},
   "source": [
    "## 3. Filtro de conteúdo ou Como seleciono\n",
    "\n",
    ">to determine the extent to which interfaces support the narrowing down of search results from large corpora. (EHRMANN; BUNOUT; DÜRING, 2017, p. 5)"
   ]
  },
  {
   "attachments": {},
   "cell_type": "markdown",
   "metadata": {},
   "source": [
    "### Propriedades\n",
    "\n",
    "#### C) Navegação\n",
    "\n",
    "- Por data\n",
    "- Por título do periódico\n",
    "- Por local de publicação\n",
    "- Por tag de usuário\n",
    "- Por tema do periódico (metadados)\n",
    "\n",
    "#### F) Organização dos resultados da busca\n",
    "\n",
    "- Por relevância\n",
    "- Por data\n",
    "- Por título do periódico\n",
    "- Por título do artigo\n",
    "- Por tipo de conteúdo (propaganda, artigo, ilustração)\n",
    "- Por data de publicação online\n",
    "- Por autor\n",
    "- Por qualidade do texto\n",
    "- Por idioma\n",
    "- Por popularidade (número de visualizações) \n",
    "\n",
    "#### G) Filtros nos resultados da busca\n",
    "\n",
    "- Por título do periódico\n",
    "- Por frequência de publicação\n",
    "- Por orientação política/religiosa/etc do periódico\n",
    "- Por tema do periódico (metadados)\n",
    "- Por tipo de conteúdo\n",
    "- Por seção\n",
    "- Por evento\n",
    "- Por pessoa\n",
    "- Por organização\n",
    "- Por lugar mencionado no texto\n",
    "- Por período de tempo\n",
    "- Por tópico\n",
    "- Por tag manual\n",
    "- Por local de publicação\n",
    "- Por editor\n",
    "- Por extensão do artigo\n",
    "- Pelo nível de segmentação\n",
    "- Por idioma\n",
    "- Por licença / acessibilidade\n",
    "- Pela data de publicação online"
   ]
  },
  {
   "attachments": {},
   "cell_type": "markdown",
   "metadata": {},
   "source": [
    "## 4. Generosidade ou Como eu descubro\n",
    "\n",
    ">to appraise whether interfaces feature functionalities which, beyond keyword search and content browsing, help users discover relevant content they had not anticipated to find. (EHRMANN; BUNOUT; DÜRING, 2017, p. 5)"
   ]
  },
  {
   "attachments": {},
   "cell_type": "markdown",
   "metadata": {},
   "source": [
    "### Propriedades\n",
    "\n",
    "#### D) Opções de pesquisa\n",
    "\n",
    "- Query autocomplete\n",
    "- Sugestão de query\n",
    "\n",
    "#### E) Exibição dos resultados da busca\n",
    "\n",
    "- Distribuição ao longo do tempo\n",
    "- Distribuição por local de publicação\n",
    "- Distribuição por cobertura de periódico\n",
    "- Distribuição por nomes de lugares nos artigos\n",
    "- N-grams\n",
    "\n",
    "#### H) Visualizador\n",
    "\n",
    "- Opção para continuar para a próxima página\n",
    "\n",
    "#### M) Processamento de conteúdo\n",
    "\n",
    "- Recomendações\n"
   ]
  },
  {
   "attachments": {},
   "cell_type": "markdown",
   "metadata": {},
   "source": [
    "## 5. Gerenciamento e exploração de conteúdo pelo usuário ou Como eu trabalho\n",
    "\n",
    ">o evaluate the extent to which interfaces allow scholars to collect, organize, tag and compare their own collections of material so as to be able to work on specific research questions, in isolation or in collaboration. (EHRMANN; BUNOUT; DÜRING, 2017, p. 5)"
   ]
  },
  {
   "attachments": {},
   "cell_type": "markdown",
   "metadata": {},
   "source": [
    "### Propriedades\n",
    "\n",
    "#### J) Conta pessoal e interações do usuário\n",
    "\n",
    "- Salvar artigos para favoritos\n",
    "- Salvar queries para favoritos\n",
    "- Etiquetar artigos\n",
    "- Manter registro dos materiais visualizados\n",
    "- Recomendações de artigos\n",
    "- Links permanentes\n",
    "- Exportar citações\n",
    "- Opção de corrigir OCR\n",
    "- Opção de corrigir OLR\n",
    "- Usuário pode adicionar/editar metadados\n",
    "- Ferramenta de screenshot\n",
    "- Opções de Download (formatos de ficheiros)\n",
    "- Download em massa\n",
    "- Organizar artigos em coleções\n",
    "- Visualização comparativa de coleções pessoais"
   ]
  },
  {
   "attachments": {},
   "cell_type": "markdown",
   "metadata": {},
   "source": [
    "## 6. Conectividade ou Como eu vou além\n",
    "\n",
    ">to assess how interfaces interlink their collections so as to allow the study of digitized newspapers and other sources across institutional silos. (EHRMANN; BUNOUT; DÜRING, 2017, p. 5)"
   ]
  },
  {
   "attachments": {},
   "cell_type": "markdown",
   "metadata": {},
   "source": [
    "### Propriedades\n",
    "\n",
    "#### B) Metadados dos periódicos\n",
    "\n",
    "- Links externos\n",
    "\n",
    "#### K) Conectividade\n",
    "\n",
    "- Identificador de terceiros\n",
    "- Links para outros repositórios\n",
    "- Tecnologias de web semântica"
   ]
  },
  {
   "attachments": {},
   "cell_type": "markdown",
   "metadata": {},
   "source": [
    "## Análise dos resultados\n",
    "\n",
    "Vamos analisar os dados coletados e organizados no ficheiro [form_criterios.csv](form_criterios.csv) com auxílio das bibliotecas `pandas` e `plotly`."
   ]
  },
  {
   "cell_type": "code",
   "execution_count": 1,
   "metadata": {},
   "outputs": [],
   "source": [
    "# importar bibliotecas\n",
    "import pandas as pd\n",
    "import numpy as np"
   ]
  }
 ],
 "metadata": {
  "kernelspec": {
   "display_name": "Python 3",
   "language": "python",
   "name": "python3"
  },
  "language_info": {
   "codemirror_mode": {
    "name": "ipython",
    "version": 3
   },
   "file_extension": ".py",
   "mimetype": "text/x-python",
   "name": "python",
   "nbconvert_exporter": "python",
   "pygments_lexer": "ipython3",
   "version": "3.10.6"
  },
  "orig_nbformat": 4
 },
 "nbformat": 4,
 "nbformat_minor": 2
}
