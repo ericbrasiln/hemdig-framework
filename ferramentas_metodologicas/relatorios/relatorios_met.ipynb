{
 "cells": [
  {
   "cell_type": "markdown",
   "metadata": {},
   "source": [
    "# Relatórios Metodológicos para Pesquisa em Interfaces Gráficas de Periódicos Digitalizados"
   ]
  },
  {
   "attachments": {},
   "cell_type": "markdown",
   "metadata": {},
   "source": [
    "Com esse notebook, você pode registrar os parâmetros e metadados de pesquisas realizadas em interfaces de busca de periódicos digitalizados. O objetivo é facilitar a replicação de pesquisas, garantir transparência metodológica, comparação de resultados e o próprio processo de análise e escrita."
   ]
  },
  {
   "cell_type": "markdown",
   "metadata": {},
   "source": [
    "## Exemplo de relatórios\n",
    "\n",
    "Ao final da execução, você terá relatórios de pesquisa no formato txt e csv, podendo inclusive unir (concatenar) diferentes relatórios em um único arquivo.\n",
    "\n",
    "O relatório em texto simples (`.txt`) tem o seguinte padrão:\n",
    "\n",
    "```\n",
    "--------------------------------------------------------------------------------\n",
    "Dados gerais da pesquisa\n",
    "Nome do repositório: Hemeroteca Digital Brasileira\n",
    "URL do repositório: http://memoria.bn.br/hdb/periodico.aspx\n",
    "Nome do usuário: Eric Brasil\n",
    "Data: 2023-09-25\n",
    "Hora: 14:51:46\n",
    "--------------------------------------------------------------------------------\n",
    "Parâmetros da pesquisa\n",
    "Resumo da pesquisa: Pesquisa tendo Local como primeiro parâmetro. Exemplo para Hemdig(pt)\n",
    "Local: RJ\n",
    "Recorte temporal: 1900 - 1909\n",
    "Periódico pesquisado: Todos\n",
    "Termos pesquisados: \"cordão carnavalesco\"\n",
    "--------------------------------------------------------------------------------\n",
    "Resultados da pesquisa\n",
    "Link da página com resultados da busca: http://memoria.bn.br/DocReader/docmulti.aspx?bib=%5Bcache%5Drosa_4756005976831.DocLstX&pasta=ano%20190&pesq=%22cord%C3%A3o%20carnavalesco%22\n",
    "Número de ocorrências encontradas: 115\n",
    "\n",
    "```\n",
    "\n",
    "O relatório em csv (`.csv`) tem o seguinte padrão:\n",
    "\n",
    "```\n",
    "Repositório,URL,Usuário,Data da pesquisa,Resumo da pesquisa,Local,Recorte temporal,Termos pesquisados,Link da página com resultados da busca,Número de ocorrências encontrados\n",
    "Hemeroteca Digital Brasileira,http://memoria.bn.br/hdb/periodico.aspx,Eric Brasil,2023-09-25_14-51-46,Pesquisa tendo Local como primeiro parâmetro. Exemplo para Hemdig(pt),RJ,1900 - 1909,\"\"\"cordão carnavalesco\"\"\",http://memoria.bn.br/DocReader/docmulti.aspx?bib=%5Bcache%5Drosa_4756005976831.DocLstX&pasta=ano%20190&pesq=%22cord%C3%A3o%20carnavalesco%22,115\n",
    "\n",
    "```\n",
    "\n",
    "E pode ser aberto em qualquer editor de planilhas, como o Excel, LibreOffice Calc, Google Sheets, etc.\n",
    "\n",
    "Vejamos um exemplo de csv concatenado com dois relatórios de busca:\n",
    "\n",
    "| Repositório | URL | Usuário | Data da pesquisa | Resumo da pesquisa | Local | Recorte temporal | Termos pesquisados | Link da página com resultados da busca | Número de ocorrências encontrados |\n",
    "| --- | --- | --- | --- | --- | --- | --- | --- | --- | --- |\n",
    "| Hemeroteca Digital Brasileira | http://memoria.bn.br/hdb/periodico.aspx | Eric Brasil | 2023-09-25_14-57-10 | Exemplo para Hemdig(pt) | SP | 1910 - 1919 | \"cordão carnavalesco\" | http://memoria.bn.br/DocReader/docmulti.aspx?bib=%5Bcache%5Ddrummond_3076505580561.DocLstX&pasta=ano%20191&pesq=%22cord%C3%A3o%20carnavalesco%22 | 43 |\n",
    "| Hemeroteca Digital Brasileira | http://memoria.bn.br/hdb/periodico.aspx | Eric Brasil | 2023-09-25_14-54-30 | Pesquisa com parâmetro Local como base. Pesquisa para o Hemdig(pt) | SP | 1900 - 1909 | \"cordão carnavalesco\" | http://memoria.bn.br/DocReader/docmulti.aspx?bib=%5Bcache%5Drosa_5960507707285.DocLstX&pasta=ano%20190&pesq=%22cord%C3%A3o%20carnavalesco%22 | 0 |\n",
    "| Hemeroteca Digital Brasileira | http://memoria.bn.br/hdb/periodico.aspx | Eric Brasil | 2023-09-25_14-59-01 | Exemplo para Hemdig(pt) | RJ | 1910 - 1919 | \"cordão carnavalesco\" | http://memoria.bn.br/DocReader/docmulti.aspx?bib=%5Bcache%5Ddrummond_3675006691793.DocLstX&pasta=ano%20191&pesq=%22cord%C3%A3o%20carnavalesco%22 | 278 |\n",
    "| Hemeroteca Digital Brasileira | http://memoria.bn.br/hdb/periodico.aspx | Eric Brasil | 2023-09-25_14-51-46 | Pesquisa tendo Local como primeiro parâmetro. Exemplo para Hemdig(pt) | RJ | 1900 - 1909 | \"cordão carnavalesco\" | http://memoria.bn.br/DocReader/docmulti.aspx?bib=%5Bcache%5Drosa_4756005976831.DocLstX&pasta=ano%20190&pesq=%22cord%C3%A3o%20carnavalesco%22 | 115 |\n",
    "\n",
    "Os exemplos podem ser vistos na pasta `reports` e o arquivo csv com os dados concatenados podem ser vistos [aqui](../../book/part3/capitulo7/reports/Hemeroteca%20Digital%20Brasileira/Hemeroteca%20Digital%20Brasileira_concatenated.csv)"
   ]
  },
  {
   "attachments": {},
   "cell_type": "markdown",
   "metadata": {},
   "source": [
    "## Instalar bibliotecas\n",
    "\n",
    "A biblioteca pandas será necessária para juntar diferentes arquivos csv. Como ela não é nativa do Python, é preciso instalá-la. O jupyter notebook nos permite instalar bibliotecas diretamente no notebook. Para isso, basta executar o comando pip, precedido do sinal de porcentagem (%), seguido do nome da biblioteca que se deseja instalar."
   ]
  },
  {
   "cell_type": "code",
   "execution_count": null,
   "metadata": {},
   "outputs": [],
   "source": [
    "# Instalando a biblioteca pandas\n",
    "%pip install pandas"
   ]
  },
  {
   "attachments": {},
   "cell_type": "markdown",
   "metadata": {},
   "source": [
    "## Importar bibliotecas\n",
    "\n",
    "Aqui importamos as bibliotecas necessárias para a execução do código."
   ]
  },
  {
   "cell_type": "code",
   "execution_count": null,
   "metadata": {},
   "outputs": [],
   "source": [
    "# Importando bibliotecas\n",
    "import csv # Biblioteca para manipulação de arquivos csv\n",
    "import datetime # Biblioteca para manipulação de datas\n",
    "import os # Biblioteca para manipulação do sistema operacional\n",
    "import pandas as pd # Biblioteca para manipulação de dataframes\n",
    "import pathlib # Biblioteca para manipulação de diretórios"
   ]
  },
  {
   "attachments": {},
   "cell_type": "markdown",
   "metadata": {},
   "source": [
    ":::{note}\n",
    "Esta célula só precisa ser executada uma vez.\n",
    ":::"
   ]
  },
  {
   "attachments": {},
   "cell_type": "markdown",
   "metadata": {},
   "source": [
    "## Preparação inicial: criação do diretório geral e coleta de dados sobre o repositório\n",
    "\n",
    "Vamos criar um diretório para armazenamento dos relatórios. Em seguida coletamos as informações sobre o nome do repositório, sua URL base para pesquisa e nome do usuário que realiza a pesquisa.\n"
   ]
  },
  {
   "cell_type": "code",
   "execution_count": null,
   "metadata": {},
   "outputs": [],
   "source": [
    "# Cria a pasta \"reports\" se ela não existir\n",
    "pathlib.Path(\"reports\").mkdir(exist_ok=True)\n",
    "\n",
    "# Coleta nome do repositório e nome do usuário\n",
    "repo_name = input(\"Informe o nome do repositório: \")\n",
    "repo_url = input(\"Informe a URL do repositório: \")\n",
    "user_name = input(\"Informe seu nome: \")"
   ]
  },
  {
   "attachments": {},
   "cell_type": "markdown",
   "metadata": {},
   "source": [
    ":::{note}\n",
    "A célula anterior, só precisa ser executada uma vez para cada repositório. Caso você realize diversas pesquisas em um mesmo repositório, basta repetir as células abaixo para cada pesquisa.\n",
    ":::"
   ]
  },
  {
   "attachments": {},
   "cell_type": "markdown",
   "metadata": {},
   "source": [
    "## Primeira parte: coleta de dados gerais\n",
    "\n",
    "Essa etapa cria o arquivo de metadados da pesquisa. Esse arquivo será usado para armazenar todos os dados coletados durante a pesquisa. \n",
    "\n",
    "Nessa primeira etapa o arquivo é criado, e os dados sobre data, hora, nome do usuário, nome do repositório e URL base são armazenados."
   ]
  },
  {
   "attachments": {},
   "cell_type": "markdown",
   "metadata": {},
   "source": [
    ":::{note}\n",
    "As etapas 1, 2 e 3 devem ser executadas para cada conjunto de parâmetros de pesquisa em um mesmo repositório.\n",
    ":::"
   ]
  },
  {
   "cell_type": "code",
   "execution_count": null,
   "metadata": {},
   "outputs": [],
   "source": [
    "# Cria hora e data da execução\n",
    "now = datetime.datetime.now()\n",
    "search_time = now.strftime('%Y-%m-%d_%H-%M-%S')\n",
    "\n",
    "# Cria o nome do arquivo de texto de saída\n",
    "file_name = f\"{repo_name}_{search_time}.txt\"\n",
    "\n",
    "# cria o caminho completo do arquivo\n",
    "file_path = pathlib.Path(\"reports\") / repo_name / file_name\n",
    "\n",
    "# Cria a pasta com o nome do repositório se ela não existir\n",
    "file_path.parent.mkdir(exist_ok=True)\n",
    "\n",
    "# Cria o arquivo e escreve os dados gerais da pesquisa\n",
    "with open(file_path, \"w\") as f:\n",
    "    f.write(\"-\" * 80 + \"\\n\")\n",
    "    f.write(\"Dados gerais da pesquisa\\n\")\n",
    "    f.write(f\"Nome do repositório: {repo_name}\\n\")\n",
    "    f.write(f\"URL do repositório: {repo_url}\\n\")\n",
    "    f.write(f\"Nome do usuário: {user_name}\\n\")\n",
    "    f.write(f\"Data: {now.strftime('%Y-%m-%d')}\\n\")\n",
    "    f.write(f\"Hora: {now.strftime('%H:%M:%S')}\\n\")\n",
    "\n",
    "print(f\"Arquivo {file_path} criado com sucesso!\")\n"
   ]
  },
  {
   "attachments": {},
   "cell_type": "markdown",
   "metadata": {},
   "source": [
    "# Segunda parte: parâmetros da pesquisa\n",
    "\n",
    "Nessa etapa, vamos coletar os parâmetros da pesquisa. Esses parâmetros são: local, data, palavra-chave, descrição breve, e outros.\n",
    "\n",
    "Esses dados são incluídos no arquivo de texto criado na primeira etapa.\n",
    "\n",
    "Também é criado um arquivo csv com os mesmos dados, para facilitar a visualização e análise dos dados."
   ]
  },
  {
   "cell_type": "code",
   "execution_count": null,
   "metadata": {},
   "outputs": [],
   "source": [
    "# Adiciona os parâmetros da pesquisa ao arquivo\n",
    "with open(file_path, \"a\") as f:\n",
    "    # Pede os parâmetros da pesquisa\n",
    "    print(\"Informe os parâmetros da pesquisa, conforme solicitado.\\n\\\n",
    "    Caso não tenha um parâmetro específico, deixe o campo vazio.\\n\")\n",
    "    local = input(\"Informe o parâmetro para local: \")\n",
    "    data = input(\"Informe o parâmetro para data: \")\n",
    "    periodico = input(\"Informe o parâmetro para periódico: \")\n",
    "    palavra_chave = input(\"Informe os termos utilizados na pesquisa: \")\n",
    "    resumo = input(\"Escreva um breve resumo para esse conjunto de parâmetros: \")\n",
    "    \n",
    "    # Escreve os parâmetros no arquivo\n",
    "    f.write(\"-\" * 80 + \"\\n\")\n",
    "    f.write(\"Parâmetros da pesquisa\\n\")\n",
    "    f.write(f\"Resumo da pesquisa: {resumo}\\n\")\n",
    "    f.write(f\"Local: {local}\\n\")\n",
    "    f.write(f\"Recorte temporal: {data}\\n\")\n",
    "    f.write(f\"Periódico pesquisado: {periodico}\\n\")\n",
    "    f.write(f\"Termos pesquisados: {palavra_chave}\\n\")\n",
    "\n",
    "    # Cria o arquivo CSV com os dados\n",
    "    csv_file_name = file_name.replace(\".txt\", \".csv\")\n",
    "    csv_file_path = pathlib.Path(\"reports\") / repo_name / csv_file_name\n",
    "    csv_file_path.parent.mkdir(exist_ok=True)\n",
    "\n",
    "    with open(csv_file_path, \"w\", newline=\"\") as csv_file:\n",
    "        writer = csv.writer(csv_file)\n",
    "        writer.writerow([\"Repositório\", \"URL\", \"Usuário\", \"Data da pesquisa\", \"Resumo da pesquisa\", \"Local\", \"Recorte temporal\", \"Termos pesquisados\"])\n",
    "        writer.writerow([repo_name, repo_url, user_name, search_time, resumo, local, data, palavra_chave])\n",
    "print(\"Parâmetros da pesquisa adicionados ao arquivo!\")"
   ]
  },
  {
   "attachments": {},
   "cell_type": "markdown",
   "metadata": {},
   "source": [
    "## Terceira parte: registro dos resultados\n",
    "\n",
    "Aqui, coletamos os dados sobre os resultados da pesquisa. Esses dados são: link da página de resultados e número total de ocorrências."
   ]
  },
  {
   "cell_type": "code",
   "execution_count": null,
   "metadata": {},
   "outputs": [],
   "source": [
    "# Pede os dados sobre os resultados\n",
    "result_link = input(\"Informe o link da página com resultados da busca: \")\n",
    "result_number = input(\"Informe o número de ocorrências encontrados: \")\n",
    "\n",
    "# Adiciona os dados no CSV como novas colunas ao lado dos parâmetros da pesquisa\n",
    "with open(csv_file_path, \"r\") as csv_file:\n",
    "    reader = csv.reader(csv_file)\n",
    "    rows = list(reader)\n",
    "    rows[0].extend([\"Link da página com resultados da busca\", \"Número de ocorrências encontrados\"])\n",
    "    rows[1].extend([result_link, result_number])\n",
    "\n",
    "# Reescreve o arquivo CSV com os novos dados\n",
    "with open(csv_file_path, \"w\", newline=\"\") as csv_file:\n",
    "    writer = csv.writer(csv_file)\n",
    "    writer.writerows(rows)\n",
    "\n",
    "# Adiciona os dados no arquivo TXT\n",
    "with open(file_path, \"a\") as f:\n",
    "    f.write(\"-\" * 80 + \"\\n\")\n",
    "    f.write(\"Resultados da pesquisa\\n\")\n",
    "    f.write(f\"Link da página com resultados da busca: {result_link}\\n\")\n",
    "    f.write(f\"Número de ocorrências encontradas: {result_number}\\n\")\n",
    "    \n",
    "print(\"Resultados da pesquisa adicionados ao arquivo!\")    "
   ]
  },
  {
   "attachments": {},
   "cell_type": "markdown",
   "metadata": {},
   "source": [
    "## Quarta parte: Concatenar arquivos CSV\n",
    "\n",
    "Nessa etapa, temos a opção de concatenar todos os arquivos csv que estão no diretório de rseultados de um mesmo periódico. Isso facilita a visualização, recuperação e análise dos dados."
   ]
  },
  {
   "attachments": {},
   "cell_type": "markdown",
   "metadata": {},
   "source": [
    ":::{note}\n",
    "É recomendável que essa etapa seja realizada ao final de um conjunto de pesquisas em um mesmo periódico. Assim, após reunir uma série de arquivos csv, podemos concatená-los e obter um único arquivo com todos os dados.\n",
    ":::"
   ]
  },
  {
   "cell_type": "code",
   "execution_count": null,
   "metadata": {},
   "outputs": [],
   "source": [
    "# Pergunta se o usuário deseja concatenar os arquivos CSV\n",
    "concatenate_csv = input(\"Deseja concatenar todos os arquivos CSV existentes na pasta? (S/N) \")\n",
    "\n",
    "# Se a resposta for sim, concatena os arquivos\n",
    "if concatenate_csv.upper() == \"S\":\n",
    "    csv_files = [f for f in os.listdir(f\"reports/{repo_name}\") if f.endswith(\".csv\")]\n",
    "    if len(csv_files) > 1:\n",
    "        df = pd.concat([pd.read_csv(os.path.join(f\"reports/{repo_name}\", f)) for f in csv_files])\n",
    "        concatenated_csv_file_path = pathlib.Path(\"reports\") / repo_name / f\"{repo_name}_concatenated.csv\"\n",
    "        df.to_csv(concatenated_csv_file_path, index=False)\n",
    "        print(f\"Arquivo com todos os dados concatenados criado em {concatenated_csv_file_path}.\")\n",
    "    else:\n",
    "        print(\"Não há arquivos CSV suficientes para concatenar.\")\n",
    "# Se a resposta for não, encerra o programa\n",
    "else:\n",
    "    print(\"Operação de concatenação cancelada pelo usuário.\")"
   ]
  }
 ],
 "metadata": {
  "kernelspec": {
   "display_name": "Python 3",
   "language": "python",
   "name": "python3"
  },
  "language_info": {
   "codemirror_mode": {
    "name": "ipython",
    "version": 3
   },
   "file_extension": ".py",
   "mimetype": "text/x-python",
   "name": "python",
   "nbconvert_exporter": "python",
   "pygments_lexer": "ipython3",
   "version": "3.10.6"
  },
  "orig_nbformat": 4
 },
 "nbformat": 4,
 "nbformat_minor": 2
}
