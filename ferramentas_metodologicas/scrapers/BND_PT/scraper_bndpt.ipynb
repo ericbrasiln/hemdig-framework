{
 "cells": [
  {
   "cell_type": "markdown",
   "metadata": {},
   "source": [
    "# Scraper para a Biblioteca Digital de Portugal.\n",
    "\n",
    "Coletar dados e metadados da Biblioteca Nacional Digital Portuguesa (BNDP) utilizando selenium."
   ]
  },
  {
   "cell_type": "code",
   "execution_count": 1,
   "metadata": {},
   "outputs": [],
   "source": [
    "# import libraries\n",
    "import time\n",
    "import json\n",
    "from datetime import datetime\n",
    "from selenium import webdriver\n",
    "from selenium.webdriver.common.by import By\n",
    "from selenium.webdriver.chrome.options import Options\n",
    "from selenium.webdriver.support.ui import WebDriverWait\n",
    "from selenium.webdriver.support import expected_conditions as EC\n",
    "from selenium.webdriver.common.keys import Keys"
   ]
  },
  {
   "cell_type": "code",
   "execution_count": 2,
   "metadata": {},
   "outputs": [],
   "source": [
    "# define search keyword\n",
    "keyword = input(\"Enter the keyword you want to search for: \")"
   ]
  },
  {
   "cell_type": "code",
   "execution_count": 3,
   "metadata": {},
   "outputs": [],
   "source": [
    "search_time = datetime.now().strftime(\"%Y-%m-%d_%H-%M-%S\")"
   ]
  },
  {
   "cell_type": "code",
   "execution_count": 4,
   "metadata": {},
   "outputs": [],
   "source": [
    "# Definição das opções do driver\n",
    "chrome_options = Options()\n",
    "chrome_options.add_argument(\"--headless=new\")\n",
    "chrome_options.add_argument(\"--disable-gpu\")\n",
    "chrome_options.add_argument(\"--disable-extensions\")\n",
    "chrome_options.add_argument(\"--no-sandbox\")\n",
    "chrome_options.add_argument(\"--window-size=1920,1080\")\n",
    "chrome_options.add_argument(\"user-agent=Mozilla/5.0 (Windows NT 10.0; Win64; x64) AppleWebKit/537.36 (KHTML, like Gecko) Chrome/58.0.3029.110 Safari/537.36\")\n",
    "driver = webdriver.Chrome(options=chrome_options)"
   ]
  },
  {
   "cell_type": "code",
   "execution_count": 5,
   "metadata": {},
   "outputs": [],
   "source": [
    "# base url\n",
    "search_url = f'https://bndigital.bnportugal.gov.pt/records?navigation=default&perpage=1000&page=1&search={keyword}&fulltext=1&child=1&bookmarks=1&sort=_score&refine%5BDocumentType%5D%5B%5D=Publica%C3%A7%C3%B5es+Peri%C3%B3dicas#page'"
   ]
  },
  {
   "cell_type": "code",
   "execution_count": 6,
   "metadata": {},
   "outputs": [],
   "source": [
    "# Passa a url para o driver\n",
    "driver.get(search_url)"
   ]
  },
  {
   "cell_type": "code",
   "execution_count": 7,
   "metadata": {},
   "outputs": [
    {
     "data": {
      "text/plain": [
       "22"
      ]
     },
     "execution_count": 7,
     "metadata": {},
     "output_type": "execute_result"
    }
   ],
   "source": [
    "# find class=returned_results\n",
    "results = driver.find_element(By.CLASS_NAME, 'returned_results').text\n",
    "results = int(''.join(filter(str.isdigit, results)))\n",
    "results"
   ]
  },
  {
   "cell_type": "code",
   "execution_count": 8,
   "metadata": {},
   "outputs": [],
   "source": [
    "# dict with search info\n",
    "search_info = {\n",
    "    'keyword': keyword,\n",
    "    'search_time': search_time,\n",
    "    'results': results,\n",
    "    'url': search_url\n",
    "}"
   ]
  },
  {
   "cell_type": "code",
   "execution_count": 9,
   "metadata": {},
   "outputs": [],
   "source": [
    "def data_dict(driver, id, dict_):\n",
    "    # CHECK IF ELEMENT EXISTS BEFORE GETTING IT\n",
    "    try: \n",
    "        element = WebDriverWait(driver, 5).until(\n",
    "        EC.presence_of_element_located((By.ID, id))\n",
    "    )\n",
    "    except:\n",
    "        element = None\n",
    "    if element:\n",
    "        data = driver.find_element(By.ID, id)\n",
    "        data = data.find_element(By.TAG_NAME, 'ul')\n",
    "        data = data.find_elements(By.TAG_NAME, 'li')\n",
    "        for d in data:\n",
    "            d = d.find_element(By.TAG_NAME, 'a')\n",
    "            d_name = d.find_element(By.TAG_NAME, 'div').text\n",
    "            d_count = d.find_element(By.TAG_NAME, 'span').text\n",
    "            dict_[d_name] = d_count\n",
    "    else:\n",
    "        dict_ = {}"
   ]
  },
  {
   "cell_type": "code",
   "execution_count": 10,
   "metadata": {},
   "outputs": [],
   "source": [
    "# função para metadados\n",
    "def get_metadata(driver):\n",
    "    rights_count = {}\n",
    "    languages_count = {}\n",
    "    countries_count = {}\n",
    "    subjects_count = {}\n",
    "    facets = driver.find_element(By.CSS_SELECTOR,'.show_facets')\n",
    "    # box = facets.find_element(By.CLASS_NAME, 'page_content p_right p_top facet')\n",
    "    rights = data_dict(facets, 'facet_Rights', rights_count)\n",
    "    languages = data_dict(facets, 'facet_Language', languages_count)\n",
    "    countries = data_dict(facets, 'facet_locationcountry', countries_count)\n",
    "    subjects = data_dict(facets, 'facet_Subject', subjects_count)\n",
    "    return rights_count, languages_count, countries_count, subjects_count"
   ]
  },
  {
   "cell_type": "code",
   "execution_count": 11,
   "metadata": {},
   "outputs": [],
   "source": [
    "# function to get data from each result\n",
    "def get_np_data(driver):\n",
    "    info_general = driver.find_element(By.CSS_SELECTOR, 'div.page_content:nth-child(1)')\n",
    "    try:\n",
    "        dates_box = info_general.find_element(By.CSS_SELECTOR, '#arbo')\n",
    "        dates = dates_box.find_elements(By.TAG_NAME, 'li')\n",
    "        # tag 'data-date' name of the date\n",
    "        dates_list = []\n",
    "        for d in dates:\n",
    "            dates_list.append(d.get_attribute('data-date'))\n",
    "            dates_list = list(filter(None, dates_list))\n",
    "            dates_list = [d for d in dates_list if d != '']\n",
    "    except:\n",
    "        dates_list = []\n",
    "    try: \n",
    "        id_per = info_general.find_element(By.CSS_SELECTOR, '#small_info > a:nth-child(4)')\n",
    "        id_per = id_per.get_attribute('href')\n",
    "    except:\n",
    "        id_per = None\n",
    "    try: \n",
    "        link_per = info_general.find_element(By.CSS_SELECTOR, '.copy_permalink')\n",
    "        link_per = link_per.get_attribute('data-url')\n",
    "    except:\n",
    "        link_per = None\n",
    "    try:\n",
    "        link_cat = info_general.find_element(By.CSS_SELECTOR, '.one-third > a:nth-child(1)')\n",
    "        link_cat = link_cat.get_attribute('href')\n",
    "    except:\n",
    "        link_cat = None\n",
    "    return dates_list, id_per, link_per, link_cat"
   ]
  },
  {
   "cell_type": "code",
   "execution_count": 12,
   "metadata": {},
   "outputs": [],
   "source": [
    "def get_data(driver):\n",
    "    data = []\n",
    "    while True:\n",
    "        navlist = driver.find_elements(By.CLASS_NAME, 'navlist_tr')\n",
    "        for i in range(len(navlist)):\n",
    "            nav = navlist[i]\n",
    "            title = nav.find_element(By.TAG_NAME, 'h3').text\n",
    "            link = nav.find_element(By.TAG_NAME, 'a').get_attribute('href')\n",
    "            # append data to list\n",
    "            data.append({'title': title, 'link': link})\n",
    "            #click on link and opne in new tab\n",
    "            nav.find_element(By.TAG_NAME, 'a').send_keys(Keys.CONTROL + Keys.RETURN)\n",
    "            # wait for page to load\n",
    "            time.sleep(2)\n",
    "            # switch to new tab\n",
    "            driver.switch_to.window(driver.window_handles[1])\n",
    "            # call function to get data from each result\n",
    "            dates_list, id_per, link_per, link_cat = get_np_data(driver)\n",
    "            # append data to list\n",
    "            data.append({'dates': dates_list, 'id_per': id_per, 'link_per': link_per, 'link_cat': link_cat})\n",
    "            # back to previous tab and close current tab\n",
    "            driver.close()\n",
    "            driver.switch_to.window(driver.window_handles[0])\n",
    "            if i == len(navlist) - 1:\n",
    "                break\n",
    "        else:\n",
    "            continue\n",
    "        break\n",
    "    return data"
   ]
  },
  {
   "cell_type": "code",
   "execution_count": 13,
   "metadata": {},
   "outputs": [],
   "source": [
    "#call function\n",
    "metadata_general = get_metadata(driver)\n"
   ]
  },
  {
   "cell_type": "code",
   "execution_count": 14,
   "metadata": {},
   "outputs": [],
   "source": [
    "results_list = get_data(driver)"
   ]
  },
  {
   "cell_type": "code",
   "execution_count": 15,
   "metadata": {},
   "outputs": [],
   "source": [
    "driver.quit()\n"
   ]
  },
  {
   "cell_type": "code",
   "execution_count": 16,
   "metadata": {},
   "outputs": [],
   "source": [
    "# add results_list to metadata_general\n",
    "metadata_general = list(metadata_general)\n",
    "metadata_general.append(search_info)\n",
    "metadata_general.append(results_list)\n",
    "#move item in position 4 to position 0\n",
    "metadata_general.insert(0, metadata_general.pop(4))\n",
    "metadata_general = tuple(metadata_general)"
   ]
  },
  {
   "cell_type": "code",
   "execution_count": 17,
   "metadata": {},
   "outputs": [],
   "source": [
    "# criar um json com os dados\n",
    "headers = ['Informações da Busca', 'Direitos', 'Idiomas', 'Países', 'Assuntos', 'Lista de Resultados']\n",
    "with open(f'./data/metadata_general_{keyword}_{search_time}.json', 'w', encoding='utf-8') as f:\n",
    "    if len(metadata_general) > 0:\n",
    "        data = {}\n",
    "        for i, header in enumerate(headers):\n",
    "            data[header] = metadata_general[i]\n",
    "        json.dump(data, f, ensure_ascii=False, indent=4)"
   ]
  }
 ],
 "metadata": {
  "kernelspec": {
   "display_name": "Python 3",
   "language": "python",
   "name": "python3"
  },
  "language_info": {
   "codemirror_mode": {
    "name": "ipython",
    "version": 3
   },
   "file_extension": ".py",
   "mimetype": "text/x-python",
   "name": "python",
   "nbconvert_exporter": "python",
   "pygments_lexer": "ipython3",
   "version": "3.10.12"
  },
  "orig_nbformat": 4
 },
 "nbformat": 4,
 "nbformat_minor": 2
}
