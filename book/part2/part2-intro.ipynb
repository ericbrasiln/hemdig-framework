{
 "cells": [
  {
   "cell_type": "markdown",
   "metadata": {},
   "source": [
    "# Em que consiste a segunda fase?\n",
    "\n",
    "Acervos: [Capítulo 4](capitulo4/cap4.md)\n",
    "\n",
    "Interfaces (método *Impresso Review*): [Capítulo 5](capitulo5/cap5)\n",
    "\n",
    "Comparação dos acervos e interfaces: [Capítulo 6](capitulo6/cap6)"
   ]
  }
 ],
 "metadata": {
  "language_info": {
   "name": "python"
  },
  "orig_nbformat": 4
 },
 "nbformat": 4,
 "nbformat_minor": 2
}
