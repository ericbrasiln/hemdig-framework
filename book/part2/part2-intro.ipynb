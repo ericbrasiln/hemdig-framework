{
 "cells": [
  {
   "cell_type": "markdown",
   "metadata": {},
   "source": [
    "# Em que consiste a segunda fase?"
   ]
  },
  {
   "cell_type": "markdown",
   "metadata": {},
   "source": [
    "A segunda fase do trabalho consiste na avaliação crítica dos acervos e interfaces gráficas dos repositórios selecionados para pesquisa. Essa tarefa é muito importante e possibilita tanto a compreensão dos vieses, limitações e possibilidades de cada acervo, mas também permite a elaboração de estratégias metodológicas consistentes e reflexões teóricas condizentes com os aspectos técnicos, políticos e teóricos de cada repositório.\n",
    "\n",
    "Dessa forma, organizamos essa fase em três capítulos. No [capítulo 4](capitulo4/cap4.md) faremos uma avaliação aprofundada dos dados dos acervos da Hemeroteca Digital Brasileira, da Biblioteca Digital de Portugal e da Hemeroteca Municipal de Lisboa.\n",
    "\n",
    "Em seguida, no [capítulo 5](capitulo5/cap5.md) faremos uma avaliação das interfaces gráficas dos repositórios selecionados para pesquisa. Para tal utilizaremos o método desenvolvido pela equipe do projeto *impresso* para avaliação de interfaces gráficas. \n",
    "\n",
    "Por fim, propomos uma comparação dos acervos e interfaces no [Capítulo 6](capitulo6/cap6).\n",
    "\n",
    "É importante ressaltar, que esse capítulo busca apresentar os dados e uma série de visualizações e comparações gerais. Entretanto, as análises aprofundadas que podem surgir a partir desses dados fogem do escopo dessa pesquisa e serão utilizadas posteriormente para o desenvolvimento de artigos e publicações. E, obviamente, estão disponíveis sob licença CC-BY-SA 4.0 para que outros pesquisadores possam utilizá-los em suas pesquisas."
   ]
  }
 ],
 "metadata": {
  "language_info": {
   "name": "python"
  },
  "orig_nbformat": 4
 },
 "nbformat": 4,
 "nbformat_minor": 2
}
