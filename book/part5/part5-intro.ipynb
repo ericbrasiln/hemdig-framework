{
 "cells": [
  {
   "cell_type": "markdown",
   "metadata": {},
   "source": [
    "```{admonition} Atenção\n",
    ":class: danger\n",
    "Página em construção.\n",
    "```\n",
    "\n",
    "# Em que consiste a quinta fase? "
   ]
  },
  {
   "cell_type": "markdown",
   "metadata": {},
   "source": [
    "## Consolidação da documentação\n",
    "\n",
    "## Revisão dos dados e metadados\n",
    "\n",
    "## Publicação dos dados"
   ]
  },
  {
   "cell_type": "markdown",
   "metadata": {},
   "source": [
    "```{figure} ../assets/images/5fase_mermaid-diagram-2023-08-21-225829.png\n",
    ":name: diagram-5\n",
    ":align: center\n",
    "\n",
    "Diagrama da quinta fase\n",
    "```"
   ]
  }
 ],
 "metadata": {
  "language_info": {
   "name": "python"
  },
  "orig_nbformat": 4
 },
 "nbformat": 4,
 "nbformat_minor": 2
}
