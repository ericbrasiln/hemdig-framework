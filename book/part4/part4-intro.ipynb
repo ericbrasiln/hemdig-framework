{
 "cells": [
  {
   "cell_type": "markdown",
   "metadata": {},
   "source": [
    "# Em que consiste a quarta fase?\n",
    "\n",
    "Essa fase organiza tutoriais, documentação e ferramentas para a execução de OCR e OLR em periódicos em língua portuguesa digitalizados.\n",
    "\n",
    "Realizamos uma série de teste com diferentes ferramentas, desde CLI até GUI, e com diferentes níveis de complexidade. Também listamos uma série de lições do Programming Historian que são úteis para quem busca realizar OCR em jornais.\n",
    "\n",
    "Buscamos avaliar ferramentas de código aberto e gratuitas. Mas ao final, também listamos uma série de opções proprietárias que podem ser úteis para quem busca realizar OCR em jornais.\n",
    "\n",
    "Esse capítulo, portanto, está dividido da seguinte forma:\n",
    "\n",
    "- CLI: ferramentas de linha de comando, nomeadamente Tesseract, OCR-D e Kraken\n",
    "- GUI: ferramentas com interface gráfica de usuário, nomeadamente gImageReader\n",
    "- Lições do Programming Historian\n",
    "\n",
    "Em cada um desses tópicos, apresentamos um conjuntos de tutoriais, documentação, testes e resultados obtidos.\n",
    "\n",
    "Nosso objetivo, mas do que prover um passo-a-passo na utilização de cada ferramente, é apresentar as principais características, vantagens e desvantagens, e promover a reflexão crítica sobre seu uso.\n",
    "\n",
    "Assim como todo esse framework, visamos subsidiar os pesquisadores com conhecimentos e material para elaborar consciente e criticamente seus fluxos de trabalho."
   ]
  },
  {
   "cell_type": "markdown",
   "metadata": {},
   "source": [
    "```{figure} ../assets/images/4fase_mermaid-diagram-2023-08-21-225902.png\n",
    ":name: diagram-4\n",
    "\n",
    "Diagrama da quarta fase\n",
    "```"
   ]
  }
 ],
 "metadata": {
  "language_info": {
   "name": "python"
  },
  "orig_nbformat": 4
 },
 "nbformat": 4,
 "nbformat_minor": 2
}
