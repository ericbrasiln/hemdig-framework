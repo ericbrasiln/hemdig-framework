{
 "cells": [
  {
   "cell_type": "markdown",
   "id": "fe1b3748",
   "metadata": {},
   "source": [
    "# 13.1. Tutorial de uso do gImageReader\n"
   ]
  },
  {
   "cell_type": "markdown",
   "id": "5592e259",
   "metadata": {},
   "source": [
    "```{figure} ../../../ocr_olr/GUI-ex/gimagereader/gimagereader.png\n",
    ":name: gimagereader\n",
    ":scale: 100\n",
    "\n",
    "Logo do gImageReader, desenvolvido por Sandro Mani.\n",
    "```"
   ]
  },
  {
   "cell_type": "markdown",
   "id": "fa9d85e3",
   "metadata": {},
   "source": [
    "O gImageReader é um programa front-end que aplica o tesseract-ocr para reconhecimento de caracteres em imagens e PDFs. Ele é uma interface gráfica criada com GTK/QT[^gtk] por [Sandro Mani](https://github.com/manisandro) com licença [GNU GPL v3](https://github.com/manisandro/gImageReader/blob/master/COPYING).\n",
    "\n",
    "Atualmente ([versão 3.4.1](https://github.com/manisandro/gImageReader/releases/tag/v3.4.1)) o programa está disponível para Windows e Linux e 100% traduzido para 6 idiomas incluindo o português (brasileiro).\n",
    "\n",
    "O gImageReader possui características muito úteis para a pesquisa com jornais digitalizados. Segundo a documentação:\n",
    "\n",
    ">- Import PDF documents and images from disk, scanning devices, clipboard and screenshots\n",
    ">- Process multiple images and documents in one go\n",
    ">- Manual or automatic recognition area definition\n",
    ">- Recognize to plain text or to hOCR documents\n",
    ">- Recognized text displayed directly next to the image\n",
    ">- Post-process the recognized text, including spellchecking\n",
    ">- Generate PDF documents from hOCR documents\n",
    "\n",
    "[^gtk]: Para saber mais sobre elas, veja esse [artigo do Diolinux](https://diolinux.com.br/sistemas-operacionais/o-que-e-gtk-e-qt-linux.html)."
   ]
  },
  {
   "cell_type": "markdown",
   "id": "810e5187",
   "metadata": {},
   "source": [
    "## Instalação\n",
    "\n",
    "Na página de documentação do gImageReader encontramos a lista de distribuições linux que possuem pacotes para instalação, assim como o link para download da versão para Windows e o link para download do código fonte.\n",
    "\n",
    "Aqui, vamos instalar a versão para Ubuntu 22.04 LTS e em seguida, veremos um vídeo tutorial de instalação e uso para Windows 10."
   ]
  },
  {
   "cell_type": "markdown",
   "id": "c31dfb83",
   "metadata": {},
   "source": [
    "### Ubuntu 22.04\n",
    "\n",
    "```bash\n",
    "sudo add-apt-repository ppa:sandromani/gimagereader\n",
    "sudo apt update\n",
    "sudo apt install gimagereader-gtk\n",
    "```"
   ]
  },
  {
   "cell_type": "markdown",
   "id": "5b49ac1b",
   "metadata": {},
   "source": [
    "#### Tesseract-ocr\n",
    "\n",
    "Caso você ainda não tenha instalado o tesseract, você receberá ma mensagem do programa informando:\n",
    "\n",
    ">Nenhum idioma do Tesseract disponível para uso. O reconhecimento de caracteres não vai funcionar.\n",
    "\n",
    "```bash\n",
    "$ sudo apt install tesseract-ocr\n",
    "$ sudo apt install libtesseract-dev\n",
    "```\n",
    "\n",
    "Para saber se a instalação foi concluída corretamente, execute o comando `tesseract --version` para saber a versão instalada. Em seguida execute o comando `tesseract --list-langs` para saber quais idiomas estão disponíveis.\n",
    "\n",
    "```bash\n",
    "$ tesseract --list-langs\n",
    "```\n",
    "\n",
    "O resultado dever ser algo parecido com isso:\n",
    "\n",
    "```bash\n",
    "List of available languages (2):\n",
    "eng\n",
    "osd\n",
    "```\n",
    "\n",
    "Para instalar o idioma português, execute o comando:\n",
    "\n",
    "```bash\n",
    "$ sudo apt install tesseract-ocr-por\n",
    "```\n",
    "\n",
    "Após a instalação do tesseract, o gImageReader iniciará sem o aviso e podemos utilizá-lo normalmente.\n",
    "\n",
    "Para saber mais sobre o processo de instalação do tesseract, acesse o [link](https://tesseract-ocr.github.io/tessdoc/Installation.html)."
   ]
  },
  {
   "cell_type": "markdown",
   "id": "28050a70",
   "metadata": {},
   "source": [
    "### Windows 10\n",
    "\n",
    "O processo de instalação do gImageReader no Windows é simples, e um tutorial detalhada pode ser visto no vídeo abaixo:"
   ]
  },
  {
   "cell_type": "code",
   "execution_count": 1,
   "id": "1c7de029",
   "metadata": {
    "tags": [
     "remove-input"
    ]
   },
   "outputs": [
    {
     "data": {
      "text/html": [
       "\n",
       "        <iframe\n",
       "            width=\"426\"\n",
       "            height=\"240\"\n",
       "            src=\"https://www.youtube.com/embed/_7eqj01Hn0M?frameborder=0&allowfullscreen=True\"\n",
       "            frameborder=\"0\"\n",
       "            allowfullscreen\n",
       "            \n",
       "        ></iframe>\n",
       "        "
      ],
      "text/plain": [
       "<IPython.lib.display.IFrame at 0x7fa62f22b370>"
      ]
     },
     "execution_count": 1,
     "metadata": {},
     "output_type": "execute_result"
    }
   ],
   "source": [
    "from IPython.display import IFrame\n",
    "\n",
    "IFrame(src='https://www.youtube.com/embed/_7eqj01Hn0M', width=426, height=240, frameborder=\"0\", allowfullscreen=True)"
   ]
  },
  {
   "cell_type": "markdown",
   "id": "100a8b14",
   "metadata": {},
   "source": [
    "## Utilizando o gImageReader\n",
    "\n",
    "O vídeo tutorial mostra as funções básicas do gImageReader[^tut-gir]. Para nossa pesquisa, estamos interessados em comparar os resultados do reconhecimento de layouts e de caracteres produzido por esse programa com os resultados obtidos com OCR-D, Kraken e Transkribus.\n",
    "\n",
    "[^tut-gir]: Para um vídeo mais longo sobre a utilização do gImageReader, veja o [Workshop de Reconhecimento Ótico de Caracteres (OCR) com gImageReader](https://www.youtube.com/watch?v=ZomLnDje3BA)."
   ]
  },
  {
   "cell_type": "markdown",
   "id": "3b72f7d2",
   "metadata": {},
   "source": [
    "## Resultados\n",
    "\n",
    "Inserimos no programa as 5 páginas de exemplo utilizadas anteriormente com OCR-D e Kraken. Também inserimos as versões das imagens que haviam sido pré-processadas com o OCR-D (binarização, normalização, redução de ruídos e de inclinação)."
   ]
  },
  {
   "cell_type": "markdown",
   "id": "7c3fb857",
   "metadata": {},
   "source": [
    "```{figure} ../../../ocr_olr/GUI-ex/gimagereader/imgs/gir_01_2023-08-10_10-15-34.png\n",
    ":name: gir-01\n",
    ":scale: 50%\n",
    "\n",
    "gImageReader: visualização inicial com imagens de exemplo.\n",
    "```"
   ]
  },
  {
   "cell_type": "markdown",
   "id": "b6389483",
   "metadata": {},
   "source": [
    "### Reconhecimento de layouts\n",
    "\n",
    "O reconhecimento foi realizado com a opção *hocr* e a saída foi salva como `gir_hocr_output.html` e pode ser acessado [aqui](outputs/gir_hocr_output.html). Também exportamos o resultado de cada página como um arquivo de texto, que podem ser acessados [aqui](outputs/).\n",
    "\n",
    "```{figure} ../../../ocr_olr/GUI-ex/gimagereader/imgs/gir_02_2023-08-10_10-42.png\n",
    ":name: gir-02\n",
    ":scale: 50%\n",
    "\n",
    "gImageReader: visualização com resultados de reconhecimento.\n",
    "```"
   ]
  },
  {
   "cell_type": "markdown",
   "id": "73051057",
   "metadata": {},
   "source": [
    "Além do reconhecimento utilizando o método *hocr*, realizamos o reconhecimento de layout automático (recurso possível na opção de reconhecimento de texto simples).\n",
    "\n",
    "Ao analisarmos o resultado final, percebemos que os resultados foram semelhantes aos obtidos com o OCR-D. E que na comparação dos resultados do reconhecimento de layout automático entre as páginas originais e tratadas previamente pelo OCR-D, notamos que ou os resultados foram similares ou melhores com as imagens originais. \n",
    "\n",
    "Vejamos as imagens de cada exemplo (a primeira imagem é a original e a segunda é a imagem tratada pelo OCR-D):"
   ]
  },
  {
   "cell_type": "markdown",
   "id": "7521e5a7",
   "metadata": {},
   "source": [
    "### O Pais, p.1\n",
    "\n",
    "```{figure} ../../../ocr_olr/GUI-ex/gimagereader/imgs/gir_layout_paiz01_or_2023-08-10_11-04-27.png\n",
    ":name: gir-03\n",
    ":scale: 50%\n",
    "\n",
    "gImageReader: Reconhecimento de layout da página 01 de *O Paiz* original\n",
    "```\n",
    "\n",
    "\n",
    "```{figure} ../../../ocr_olr/GUI-ex/gimagereader/imgs/gir_layout_paiz01_ocr-d_2023-08-10_11-06-30.png\n",
    ":name: gir-04\n",
    ":scale: 50%\n",
    "\n",
    "gImageReader: Reconhecimento de layout da página 01 de *O Paiz* pré-processada com OCR-D\n",
    "```\n"
   ]
  },
  {
   "cell_type": "markdown",
   "id": "e303b197",
   "metadata": {},
   "source": [
    "### O Pais, p.2\n",
    "\n",
    "```{figure} ../../../ocr_olr/GUI-ex/gimagereader/imgs/gir_layout_paiz02_or_2023-08-10_11-08-00.png\n",
    ":name: gir-05\n",
    ":scale: 50%\n",
    "\n",
    "gImageReader: Reconhecimento de layout da página 02 de *O Paiz* original\n",
    "```\n",
    "\n",
    "```{figure} ../../../ocr_olr/GUI-ex/gimagereader/imgs/gir_layout_paiz02_ocr-d_2023-08-10_11-09-03.png\n",
    ":name: gir-06\n",
    ":scale: 50%\n",
    "\n",
    "gImageReader: Reconhecimento de layout da página 02 de *O Paiz* pré-processada com OCR-D\n",
    "```"
   ]
  },
  {
   "cell_type": "markdown",
   "id": "37d346fa",
   "metadata": {},
   "source": [
    "### Boletim de Eugenia, p.1\n",
    "\n",
    "```{figure} ../../../ocr_olr/GUI-ex/gimagereader/imgs/gir_layout_be01_or_2023-08-10_11-09-54.png\n",
    ":name: gir-07\n",
    ":scale: 50%\n",
    "\n",
    "gImageReader: Reconhecimento de layout da página 01 do *Boletim de Eugenia* original\n",
    "```\n",
    "\n",
    "```{figure} ../../../ocr_olr/GUI-ex/gimagereader/imgs/gir_layout_be01_ocr-d_2023-08-10_11-10-52.png\n",
    ":name: gir-08\n",
    ":scale: 50%\n",
    "\n",
    "gImageReader: Reconhecimento de layout da página 01 do *Boletim de Eugenia* pré-processada com OCR-D\n",
    "```"
   ]
  },
  {
   "cell_type": "markdown",
   "id": "ff0e4689",
   "metadata": {},
   "source": [
    "### Boletim de Eugenia, p.2\n",
    "\n",
    "```{figure} ../../../ocr_olr/GUI-ex/gimagereader/imgs/gir_layout_be02_or_2023-08-10_11-11-31.png\n",
    ":name: gir-09\n",
    ":scale: 50%\n",
    "\n",
    "gImageReader: Reconhecimento de layout da página 02 do *Boletim de Eugenia* original\n",
    "```\n",
    "\n",
    "```{figure} ../../../ocr_olr/GUI-ex/gimagereader/imgs/gir_layout_be02_ocr-d_2023-08-10_11-12-11.png\n",
    ":name: gir-10\n",
    ":scale: 50%\n",
    "\n",
    "gImageReader: Reconhecimento de layout da página 02 do *Boletim de Eugenia* pré-processada com OCR-D\n",
    "```"
   ]
  },
  {
   "cell_type": "markdown",
   "id": "879931d7",
   "metadata": {},
   "source": [
    "### Boletim de Eugenia, p.3\n",
    "\n",
    "```{figure} ../../../ocr_olr/GUI-ex/gimagereader/imgs/gir_layout_be03_or_2023-08-10_11-12-50.png\n",
    ":name: gir-11\n",
    ":scale: 50%\n",
    "\n",
    "gImageReader: Reconhecimento de layout da página 03 do *Boletim de Eugenia* original\n",
    "```\n",
    "\n",
    "```{figure} ../../../ocr_olr/GUI-ex/gimagereader/imgs/gir_layout_be03_ocr-d_2023-08-10_11-13-18.png\n",
    ":name: gir-12\n",
    ":scale: 50%\n",
    "\n",
    "gImageReader: Reconhecimento de layout da página 03 do *Boletim de Eugenia* pré-processada com OCR-D\n",
    "```"
   ]
  },
  {
   "cell_type": "markdown",
   "id": "ecbae24f",
   "metadata": {},
   "source": [
    "### Reconhecimento de texto\n",
    "\n",
    "Exportamos os resultados do reconhecimento de texto com o método *hocr* para ficheiros txt de cada página utilizada como exemplo. Os ficheiros estão organizados no diretório [`outuputs`](../../../ocr_olr/GUI-ex/gimagereader/outputs/).\n",
    "\n",
    "Vejamos a comparação dos textos obtidos com OCR-D (utilizando o tesseracr por), gImageReader com imagem original e gImageReader com imagem tratada. "
   ]
  },
  {
   "cell_type": "markdown",
   "id": "c4180da2",
   "metadata": {},
   "source": [
    "#### Página 1, *O Paiz*\n",
    "\n",
    "Na tabela abaixo, apresentamos a comparação dos primeiros blocos de texto da página 1 de *O Paiz*.\n",
    "\n",
    "| Original | OCR-D Tesseract por | gImageReader Imagem Original | gImageReader Imagem Tratada |\n",
    "|:--------:|:-------------------:|:---------------------------:|:--------------------------:|\n",
    "| ACTOS OFFICIAES\\n\\nPor decreto de 8 de Janeiro ultimo\\nconcedeu-se a patente de n. 465 a\\nAugusto Cambraia, portuguez, indus-\\ntrial, residente nesta cidade, para o\\n\\nprocesso de sua invenção, destinado a\\nfabricar pannos finos, morins e brins de\\nalgodão alvejados.\\n\\nEm data de 23 de Abril ultimo con-\\ncedeu-se garantia provisoria ao Dr. Gui-\\nlherme José Teixeira, brazileiro, me-\\ndico, morador nesta cidade, representado\\n\\npelo seu procurador o Club Industrial,\\nfundado e estabelecido tambem nesta\\ncidade, para transporte do lixo das ha-\\nbitações publicas e particulares, deno-\\nminado — carroça inodora. | RC CISCO E\\n\\nPor decreto de 8 de Janeiro ultimo\\nconccdeu-se a patente de n. dhj q\\nAugusto Cambrais, portu ez, indus-\\ntriol, residente nesta ci ade, para 0\\nrocesso de sua invenção, destinado q\\nubricar pannos finos, morins ce brins de\\nalcodão alvejados,\\n\\nEm data de 23 de Abril ultimo con-\\ncedeu-se garantia provisoria no Dr. Gui-\\nlherme José Teixeira, brazileiro, mo:\\ndico, morador nesta cidade re resentido\\nelo seu procurador o Club ndustrial,\\nundado 6 estabelecido tambem nesta\\ncidade, para transporte do lixo dus ha-\\nbitações publicas 6 particulares, deno-\\nminado — carroça inodora. | ACTOS OFFICIAES\\n\\nPor decreto de 8 de Janeiro ultimo\\nconcedeu-se a patente de n. 465 à\\nAugusto Cambraia, portuguez, indus-\\ntrial, residente nesta cidade, para o\\n\\nrocesso de sua invenção, destinado a\\nabricar pannos finos, morins c brins do\\nalgodão alvejados.\\n\\nEm data de 23 de Abril ultimo con-\\ncedeu-se garantia provisoria ao Dr. Gui-\\nlherme José \"Teixeira, brazileiro, mo-\\ndico, morador nesta cidade, representado\\n\\nelo seu procurador o Club Industrial,\\nundado c estabelecido tambem nesta\\ncidade, para transporte do lixo das ha-\\nbitações publicas o particulares, deno-\\nminado — carroça inodora. | ACTOS OFFICIAES\\n\\nPor decreto de 8 de Janeiro ultimo\\nconcedeu-se a patente de n. 465 à\\nAugusto Cambraia, portuguez, indus-\\ntrial, residente nesta cidade, para o\\n\\nrocesso de sua invenção, destinado a\\nabricar pannos finos, morins c brins do\\nalgodão alvejados.\\n\\nEm data de 23 de Abril ultimo con-\\ncedeu-se garantia provisoria ao Dr. Gui-\\nlherme José \"Teixeira, brazileiro, mo-\\ndico, morador nesta cidade, representado\\n\\nelo seu procurador o Club Industrial,\\nundado c estabelecido tambem nesta\\ncidade, para transporte do lixo das ha-\\nbitações publicas o particulares, deno-\\nminado — carroça inodora. |"
   ]
  },
  {
   "cell_type": "markdown",
   "id": "fa427edc",
   "metadata": {},
   "source": [
    "#### Página 2, *O Paiz*\n",
    "\n",
    "Na tabela abaixo, apresentamos a comparação dos primeiros blocos de texto da página 2 de *O Paiz*.\n",
    "\n",
    "Assim como nos resultados obtidos pelo OCR-D, a página dois não apresentou resultados utilizáveis. A imagem digitalizada apresenta muitos ruídos, impossibilitando o reconhecimento do layout e dos caracteres.\n",
    "\n",
    "Comparemos então as 30 primeiras linhas de cada resultado:\n",
    "\n",
    "| Original | OCR-D Tesseract por | gImageReader Imagem Original | gImageReader Imagem Tratada |\n",
    "|:--------:|:-------------------:|:----------------------------:|:---------------------------:|\n",
    "|? | Voa . »\\n\\nfaca Tr MS o. “ Alo TT am e RT TT Cod CT MT. os a ht a “ - na .“ E Tudo Tao\\n\\nORPAt; : SAIR É ADO\\n\\nPO PE DIC Usou NO [LL 380 BRT RI 106\\EDIR O, | A am\\n\\n\\n\\nADA RN gado rr : no eo\\n\\nMN CR ET O SM mo nt Ci RE pg o.\\e gre Cro qa Ga To EMT \" 1...\\n\\nPero Ma de tattoo cr mam at e Cetera REM as — mm E a IO e MO a o CAM mm ri O a ii mm O eU\\n\\n\\n\\n\\n\\n\\n\\nCORRETO\\n\\nPSA pio DP é FICAR O SEA RIR RONAN CS 1\\n\\npf ag gui fr nbr aa car To\\Pro vegeta õeo B1 D | revolta: ha nella epilepsias de: desespero.\\n\\nde angustias\\gula n'uma;\\ubito nessa\\forjados: por\\n\\nfamia q\\pulohro\\carnuagem” macia\\epiderme, a Vida=\\“olhos fus\\tima-tormenta:'na:-faude rouca, : d\\*electrismo “de umraio no dorso— à\\'g0 proprio co, tampo de chumbo: d\\um ferotro que nós\\n\\nclamores de gacrra, brados:\\'e'o:seu: grito. como--so estran\\suffocação de logrimas mas.\\tormenta, pesada de raios,\\rica am pista trecho\\E - mavioso, suavissimo irrompe,\\vós que 8 ferias cêo onde pipillos\" do: passaros,\\as da injur teios alacres esfuziam.\\n\\nm que Em muitos dos seus trabalhos a-ir)\\sem: QUe | acorda, a dolorosa ironia de Heine, corta,\\m organismo. putrefacto, sob\\lo alado do sua analyse re- | RAE jo 5 BET E A ENTE Va TETE ERES a\\a DR a PRESS à EM Pg ARiis gajo 1 Eta a a\\5 q ã\\n\\na, .\\pt .\\js + ea\\*PM ap e . , . - à\\n\\nv\\n\\n- Fr É “A À gusto Pacheco Alves de Arg\\POLICIAES |incirimamnats\\n\\nfredo Ruy Barboga é Manoel\\n\\nTo e\\n\\nbairro intormediario entre os grandes\\houlevards e os boulsvards exteriores.\\À taberna da tia Caron era é que aqui\\n\\n“ CORREIO\\n\\nF. Miurcondes Bicudos —Ahi vão as o\\tas, na orem das porguntos: 1º. O selo estes\\n\\no, de edicto stena e:aria da opera pero; D. Levi,\\n\\nnho Ferreira | Donsa negra, jogo: - Fossini, Simira- | "
   ]
  },
  {
   "cell_type": "markdown",
   "id": "4fe67cad",
   "metadata": {},
   "source": [
    "#### Pagina 1, Boletim de Eugenia\n",
    "\n",
    "| Original | OCR-D Tesseract por | gImageReader Imagem Original | gImageReader Imagem Tratada |\n",
    "|:--------:|:-------------------:|:---------------------------:|:--------------------------:|\n",
    "| BOLETIM DE EUGENÍA\\n\\nMENSAL\\n\\nEDITADO\\nem propaganda\\ndo\\nInstituto Brasileiro de Eugenia\\n\\nJANEIRO DE 1929\\nVOL. I -- NUM. 1\\n\\nDirecção e Propriedade\\nDR. RENATO KEHL\\nRua Smith Vasconcellos, 63 = (Aguas Ferreas)\\nRIO DE JANEIRO -- BRASIL\\n\\n\\nO NOSSO BOLETIM\\n\\nInstituto Brasileiro de Eugenia\\n\\nTêm os leitores o primeiro nu-\\nmero do Boletim de Eugenia. Ap-\\nparece modestamente: pequeno\\nformato, poucas páginas. Promette\\npouco. Deseja, apenas, auxiliar a\\ncampanha em prol da Eugenia en-\\ntre os elementos cultos e entre os\\nelementos que, embora de mediana\\ncultura, desejam, tambem, orientar-\\nse sobre o momentoso assumpto.\\n\\nApresentará, para atender a todos,\\npequenos artigos científicos, ao\\nlado de outros, de simples vulgari-\\nzação. Tudo resumidamente, tudo\\nem linguagem simples e clara. | BIOT IM DIE\\n\\nEDITADO\\nem propaganda\\ncho\\nFuxtituto Eerecmiteiro de Essegenner\\n\\nMENSAL\\n\\nJANEIRO DE 19219\\n\\nVOL. 1— NUM. 1\\n\\n\\n\\n\\NI\\n\\nDirecção e Propriedade\\nDR. MENVITO KEEL\\nRua Smith Vasconcellos, t.) = (Apuas ferreas)\\nRito DE JANEIRO — BRASIL\\n\\nDENÚSIS OROL E TIM\\nInstituto Brastleco de Eugentu\\n\\nTém os leitore o primeiro nu-\\nmero do Boletim Eugenia. Ap-\\nparece modesta nte: pequeno\\nformato, poucas p inas. Promette\\npouco. Deseja, ap as, atxtiar a\\ncampanha em prol a Eugenia en-\\nre os elementos C tos u entre os\\nelementos que. em ra de mediuni\\ncultura, desejam, ta bem, crentar-\\nse sobre o mMemen so assumpto\\nApresentara. para aender a todos,\\npequenos artigos científicos, ao\\nlado de outros, de — ples vulgari-\\n«ação. Tudo resum amente, tudo\\nem linguages cmpse clara | BOLETIM DE EUGENÍA:-.\\n\\nJANE\\nCB. Pod j— ME EESIO VA\\nM ENSAL( 4, de sedan BOGÃC\\n\\nEDITADO\\nem propaganda\\ndo\\nAustituto EBrasileiro de Eugenia\\n\\nO NOSSO kOLETIM\\n\\nInstituto Brasilero de Eugenia\\n\\nTêm os leitores o primeiro nu-\\nmero do Boletim & Eugenta. Ap-\\nparece modestamente: pequeno\\nformato, poucas pázinas. Promette\\npouco. Deseja, apínas, auxiliar a\\ncampanha em prol la Eugenia en-\\nwe os elementos cultos e entre os\\nelementos que, embyra de mediana\\ncultura, desejam, tanbem, orientar-\\nse sobre o momenbso assumpto\\nApresentará, para atender a todos,\\npequenos artigos (científicos, ao\\nlado de outros, de smples vulgari-\\nzação. Tudo resumiamente, tudo\\nem linguagem simpls e clara, | BOLETIM DE EUGENÍA-....\\n\\nM ENSAL(SL dica aecDo\\n\\nTESÃO\\n\\nEDITADO\\nem propaganda\\ndo.\\nJustituto Braniteiio de Eugenia\\n\\nJANEIRO DE 1929\\n\\nVOL. \\n\\|— NUM. 1\\n\\nDirsoção e Propriedagyr\\nDR. RENATO KEMI\\n\\nRua Smith Vasconcellos, 63 = (Aguus Ferreas)\\nRIO DE JANEIRO — BRASIL\\n\\n0 NOSSO hOLETIM\\n\\nInstituto Brasileto de Eugenia\\n\\|\\n\\n,\\n\\nTêm os leitores o primeiro nu-\\nmero do Boletim & Eugenia. Ap-\\nparece modestampnte: pequeno\\nformato, poucas pãinas. Promette\\npouco. Deseja, apúnas, auxiliar a\\ncampanha em prolila Eugenta en-\\n\\nire os elementos cultos e entre os .\\n\\nelementos que. embra de mediana\\ncultura, desejam, tahbem, orientar-\\nse sobre o momenbso assumpto\\nApresentará, para atender a todos,\\npequenos artigos icientificos, ao\\nlado de outros, de Smples vulgari-\\nzação. Tudo resumiamente, tudo\\nem linguagem simpis e clara. |"
   ]
  },
  {
   "cell_type": "markdown",
   "id": "834c0842",
   "metadata": {},
   "source": [
    "#### Pagina 2, *Boletim de Eugenia*\n",
    "\n",
    "| Original | OCR-D Tesseract por | gImageReader Imagem Original | gImageReader Imagem Tratada |\n",
    "|:--------:|:-------------------:|:---------------------------:|:--------------------------:|\n",
    "| BOLETIM DE EUGENÍA\\n\\nMENSAL\\n\\nEDITADO\\nem propaganda\\ndo\\nIustítuto Brasileiro de Eugenia\\n\\nFEVEREIRO DE 1929\\n\\nVOL. 1 — NUM. 2\\n\\nDirecção e Propriedade\\nDR. MRENATO KEN\\nRua Smith Vasconcellos, 63 = (Aguas Ferreas)\\nRIO DE JANEIRO — BRASIL\\n\\nInstituto Brasileiro de Eugenia\\n\\nLigeiro esboço — Fins do Instituto — O que é necessario fazer\\n\\nHa uma grande corrente de intel-\\nlectuaes infensa aos congressos, por\\njulgal-os absolutamente negativos.\\nCom poucos dias de differença, eis\\ncomo sobre elles se manifestaram dois\\nde nossos homens de letras cem maior\\nevidencia — Bastos Tigre e Humberto\\nde Campos. O primeiro, se bem que\\nem tom jocoso, disse numa «Macro-\\nlandia» publicada no «Diario de São\\nPaulo» de 17 de janeiro: «Estou\\ncom o publico que dos Corgressos\\nque por ahi proliferam, não virá ao\\nmundo nem bem nem mal. Acho que\\ndose homens de grande talento reu-\\nunidos em assembléa fazem sempre\\nobra de uma duzia de cretinos ! A\\nobra util e grande tem de ser indivi-\\ndual. Nenhuma Academia de poetas\\ngeniaes seria capaz de produzir a\\nOdyssea ou o Inferno ou os Luziadas;\\nnem se concebem as leis de Newton\\nou as de Kepler descobertas por um\\nCongresso de sabios. O segundo,\\nem tom sério, declara : «A inutilida-\\nde destes ajuntamentos não se a pre-\\ncisa pôr em relevo... Installado o\\nCongresso, as vaidades ficam satis-\\nfeitas. E a feira se dispersa, como\\nfronde desfolhada pelo vento, na in-\\nconsciencia da sua esterilidade». | BIO TD UR ANITA\\n\\n- RN TRARENO\\nem propaganda\\ndo\\nPrembiteates BEocemateinte efe Eocespesenes\\n\\nVE ENESIAR\\n\\nEAR DE 1991\\n\\nVOL. \\|-=- NUM. 2\\n\\nDirecção e Propriedadê\\n\\nRun Smith Vasconcellos td (Aguas Ferreas)\\nRico Di JANFIRO — NRASIL\\n\\nInstituto brasileiro de Eugenia\\n\\nLigeiro esboço — Fins do Instituto - O que é necessario fazer\\n\\nHa uma grande corrente de intel-\\nlectuaes intensa aos congressos, por\\njulgul-os absolutamente negativos.\\nCom pouvos dias de dilferença, eis\\ncomo sobre clles «e munitestaram aus\\nde nossos homens de letras cin muor\\nevidencia— Bastos Tigre cv Humberto\\nde Campos. O primeiro, se bem que\\nem tom joceso, disse numa «Macro-\\nlandia» publicada no «Diario de São\\nPaulo» de 17 de janeiro : «Estou\\ncom o publico que dos Cor gressos\\nque por ali prolmeram, nie virá «o\\nmundo nem bem nem mai. Acho gue\\ndoze bomens de grando talento reu-\\nnidos em assemblea fazem sempre\\nobra de uma duzia de cretinos ! A\\nobra util e grande tem de ser indivi-\\ndual. Nenhuma Academia de poetas\\ngentues seria capaz de produzir a\\nOdyssea omo Inferno ow os Luziadas:\\nnem se coticebem as leis de Nuwton\\nou as de Kepler descobertas por um\\nCongresso de sabios2. O segundo,\\nem tom sério, declara * «A inutilida-\\nde destes ajuntamentos não se a pre\\nvisa pôr em relevo... Instalado o\\nCongresso, as vaidades ficam satis-\\nleitas. Poa feira se dispersa, como\\ntronde destoalhadoa pelo vento, na n-\\nconsciencia da sus esterilidade. | BOLETIM DE EUGENÍA\\n\\nMENSAL\\n\\nEDITADO\\nem propaganda\\ndo\\nIustítuto Brasileiro de Eugenia\\n\\nFEVEREIRO DE 1929\\n\\nVOL. \\|— NUM. 2\\n\\nDirecção e Propriedade”\\nDR. MRENATO KEN\\nRua Smith Vasconcellos, 63 = (Aguas Ferreas)\\nRIO DE JANEIRO — BRASIL\\n\\nInstituto Brasileiro de Eugenia\\n\\nLigeiro esboço — Fins do Instituto — O que é necessario fazer\\n\\nHa uma grande corrente de intel-\\nlectuaes infensa aos congressos, por\\njulgal-os absolutamente negativos.\\nCom poucos dias de dilferença, eis\\ncomo sobre elles se manifestaram dois\\nde nossos homens de letras cem maior\\nevidencia—Bastos Tigre e Humberto\\nde Campos. O primeiro, se bem que\\nem tom jocoso, disse numa «Macro-\\nlandia» publicada no «Diario de São\\nPaulo» de 17 de janeiro: «Estou\\ncom o publico que dos Corgressos\\nque por ahi proliferam, não virá «o\\nmundo nem bem nem mal. Acho que\\ndose homens de grande talento reu-\\nunidos em assembléa fazem sempre\\n“obra de uma duzia de cretinos ! A\\nobra util e grande tem de ser indivi-\\ndual. Nenhuma Academia de poetas\\ngeniaes seria capaz de produzir a\\nOdyssea ou o Inferno ou os Luziadas;\\nnem se concebem as leis de Newton\\nouas de Kepler descobertas por vm\\nCongresso de sabios>. O segundo,\\nem tom sério, declara : \\<A inutilida-\\nde destes ajuntamentos não se a pre:\\ncisa pôr em relevo... Installado o\\nCongresso, as vaidades ficam satis-\\nfeitas. E a feira se dispersa, como\\nfronde desfolhada pelo vento, na in-\\nconsciencia da sua esterilidade», | “BOLETIM DE EUGENÍA\\n\\nMENSAL\\n\\nEDITADO\\nem propaganda\\ndo\\nInstituto Mrasiteiro de Eugenia\\n\\nFEVEREIRO DE 1929\\n\\nVOL. \\|— NUM. 2\\n\\nInstituto Brasileiro de Eugenia\\n\\nLigeiro esboço — Fins do Instituto — O que é necessario fazer\\n\\nHa uma grande corrente de intel-\\nlectuaes infensa aos congressos, por\\njulgal-os absolutamente negativos.\\nCom poucos dias de dilferença, cis\\ncomo sobre elles se munifestaram dois\\nde nossos homens de letras em maior\\nevidencia -—Bastos Tigre e Humberto\\nde Campos. U primeiro, se bem que\\nem tom jocoso, disse numa «Macro-\\nlandia» publicada no «Diario de São\\nPaulo» de 17 de janeiro: «Estou\\ncom o publico que dos Co: gressos\\nque por ahi proliferam, não virá «o\\nmundo nem bem nem mal. Acho que\\ndoze homens de grande talento reu-\\nuidos em assembléa fazem sempre\\nobra de uma duzia de cretinos ! A\\nobra util e grande tem de ser indivi-\\ndual. Nenhuma Academia de poetas\\ngenises seria capaz de produzir a\\nOdyssea ou o Inferno ou os Luziadas;\\nnem se concebem as leis de Newton\\noquas de Kepler descobertas por um\\nCongresso de sabios». O segundo,\\nem tom sério, declara : \\<A inutilida-\\nde destes ajuntamentos não se a pre-\\ncisa pôr em relevo... Instalado o\\nCongresso, as vaidades ficam satis-\\nfeitas. E a feira se dispersa, como\\nfronde desfolhada pelo vento, ua in-\\nconsciencia da sua esterilidade», |"
   ]
  },
  {
   "cell_type": "markdown",
   "id": "784ac65f",
   "metadata": {},
   "source": [
    "#### Pagina 3, *Boletim de Eugenia*\n",
    "\n",
    "| Original | OCR-D Tesseract por | gImageReader Imagem Original | gImageReader Imagem Tratada |\n",
    "|:--------:|:-------------------:|:----------------------------:|:---------------------------:|\n",
    "| Eugenía e procreação\\n\\nPELO DR. SEBASTIAN RECASENS\\n\\nDecano da Faculdade de Medicina de Madrid\\n\\n(Resumo feito pelo Prof. Luis\\nHuerta da conferencia inau-\\ngural do 1º curso eugenico hes-\\npanhol, organizado pela «Ga-\\nceta Medica Espafiola»).\\n\\nA Eugenia é sciencia muito antiga.\\n\\nSuas primeiras observações appa-\\nrecem nos poemas homericos e nas\\nobras gregas de Euripedes, Aristo-\\nphanes, Platão e outros classicos, que\\nà denominam eugeneia ou eugene; sua\\nConstituição scientifica, porém, effe-\\nctuou-se no seculo XIX, tendo o in-\\nglez Galton ideado a palavra Eugenic\\npara denominar a sciencia que tem\\npor objecto a hygiene da raça, tanto\\nsob o aspecto physico como psychico.\\n\\nOs gregos preoccuparam-se, com\\nefeito, de preferencia com o aspecto\\nphysico dos recemnascidos, especial-\\nmente Esparta, que aspirava unica-\\nmente possuir bons soldados. Assim,\\neram examinados e condemnados\\ntodos os que apresentavam alguma\\ndeformação physica ou um grau ex-\\ntremo de debilidade que os impedisse\\nde alcançar um desenvolvimento ade-\\nquado a seu genero de vida béllica,\\nna idade adulta. | BUSCA € procreação\\n\\nPELO DR, SEBASTIAN RECASENS\\nDecana da arado ae Musdicina ade Made\\n\\n(Resumo testo pelo Prot. Luis\\nHuerta da conferencia iuau-\\ngurai do \\| curso eugentoou hes-\\npeubolo organsido pela «Ga-\\nceta dlodica Espanol»).\\n\\nà Euprena é sciencia nmuto antira.\\nSus qrimetras observações app\\nFeECem qne poemas doprersas Co nas\\nObras gregas «ie Eurigedes, drsto\\nphanes, Platão e outros classicos, que\\n\" denominam eugeneia ou cugene; sua\\nconstituição seientitica, porém, efie-\\nctuou-se no seculo XIX, tendo o it-\\ngles Galtca tlcado à palavra Eugente\\npara denominar a scencia que tem\\npor objecto à hygiene da raça, tunto\\nsob o uspecto phvysico como psvchico.\\nUs pregos prevccuparam-se, com\\neiteito, de preferencia com o aspecto\\nPhysico dus recemnascidos, especial.\\nmento Esparta, que aspiriva unica-\\nmente possuir bons soldados, Assim,\\neram uxaminados e condemnados\\ntúdos os que apresentavam alguma\\ndelormução physica ou um gran ex-\\ntremo de debilidade que os impedisse\\nde alcançar um desenvolvimento ade-\\nqrad- q seu gercro de vida Dea,\\nna idade adulta. | Bugenta e proereação\\n\\nPELO DR. SEBASTIAN RECASENS\\n\\nDecano da Faculdade de Medicina de Madrid\\n\\n(Resumo feito pelo Prof. Luis\\nHuerta da conferencia inau-\\ngural do 1º curso eugenico hes-\\npanhol, organizado pela «Ga-\\nceta Medica Espafiola»).\\n\\nA Eugenia é sciencia muito antiga.\\n\\nSuas primeiras observações appa-\\nrecem nos poemas homericos e nas\\nobras gregas de Euripedes, Aristo-\\nphanes, Platão e outros classicos, que\\nà denominam eugeneia ou eugene; sua\\nConstituição scientifica, porém, effe-\\nctuou-se no seculo XIX, tendo o in-\\nglez Galton ideado a palavra Eupgenic\\npara denominar a sciencia que tem\\npor objecto a hygiene da raça, tanto\\nsob o aspecto physico como psychico,\\n\\nOs gregos preoccuparam-se, com\\nefeito, de preferencia com o aspecto\\nPliysico dos recemnascidos, especial.\\nmente Esparta, que aspirava unica-\\nmente possuir bons soldados, Assim,\\neram examinados e condemnados\\ntodos os que apresentavam alguma\\ndeformação physica ou um gran ex-\\ntremo de debilidade que os impedisse\\nde alcançar um desenvolvimento ade-\\nquado a seu genero de vida béllica,\\nna idade adulta. | Eugenia é proercação\\n\\n, PELO DR. SEBASTIAN RECASENS\\nDecano da Faculdade de Medicina de Madrid\\n\\n(Resumo feito pelo Prof. Luis\\nHuerta da conferencia inau-\\ngural do 1º curso eugenico hes-\\npanhol, organizado pela «Ga-\\nceta Medica Espanola»).\\n\\nA Eugenia é sciencia muito antiga.\\n\\nSuas primeiras observações appa-\\nrecem nos poemas homericos e nas\\nobras gregas de Euripedes, Aristo-\\nphanes, Platão e outros classicos, que\\na denominam eygeneia ou eugene; sua\\nconstituição scientifica, porém, effe-\\nctuou-se no seculo XIX, tendo o in-\\nglez Galtou ideade a palavra Eugente\\npara denominar a sciencia que tem\\npor objecto a hygiene da raça, tanto\\nsob o aspecto physico como psychico.\\n\\nOs gregos preoccuparan-se, com\\neffeito, de preferencia com o aspecto\\nPphysico dos recemnascidos, especial.\\nmente Esparta, que aspirava unica-\\nmente possuir bons soldados. Assim,\\neram examinados e condemnados\\ntodos os que apresentavam alguma\\ndeformação physica ou um grau ex-\\ntremo de debilidade que os impedisse\\nde alcançar um desenvolvimento ade-\\nquado a seu genero de vida béllica,\\nsa idade adulta. |"
   ]
  },
  {
   "cell_type": "markdown",
   "id": "67e40a8e",
   "metadata": {},
   "source": [
    "## Reflexões dos resultados\n",
    "\n",
    "No geral, podemos perceber resultados muito positivos com o gImageReader tanto no reconhecimento de layout quanto no reconhecimento de caracteres nas páginas testadas.\n",
    "\n",
    "Podemos argumentar que o gImageReader é uma ótima opção para OCR quando não temos recursos, tempo, conhecimento para treinar um modelo de OCR, ou quando não temos acesso a um modelo de OCR já treinado."
   ]
  }
 ],
 "metadata": {
  "jupytext": {
   "cell_metadata_filter": "-all",
   "main_language": "python",
   "notebook_metadata_filter": "-all"
  },
  "kernelspec": {
   "display_name": "Python 3",
   "language": "python",
   "name": "python3"
  },
  "language_info": {
   "codemirror_mode": {
    "name": "ipython",
    "version": 3
   },
   "file_extension": ".py",
   "mimetype": "text/x-python",
   "name": "python",
   "nbconvert_exporter": "python",
   "pygments_lexer": "ipython3",
   "version": "3.10.12"
  }
 },
 "nbformat": 4,
 "nbformat_minor": 5
}
