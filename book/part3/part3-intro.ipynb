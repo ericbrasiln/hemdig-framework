{
 "cells": [
  {
   "cell_type": "markdown",
   "metadata": {},
   "source": [
    "# Em que consiste a terceira fase?\n",
    "\n",
    "Nesta fase, busco elencar estratégias e de coleta e organização de dados e metadados dos acervos estudados. Apresento uma breve justificativa da importância da elaboração de estratégias consistentes de registro e documentação metodológica no [Capítulo 7](capitulo7/cap7) e em seguida apresento e explico a utilização de uma ferramenta de registro metodológico desenvolvida para auxiliar pesquisas em repositórios digitais, na [Seção 7.1](capitulo7/sec71).\n",
    "\n",
    "No [Capítulo 8](capitulo8/cap8) apresento as estratégias e ferramentas utilizadas na coleta de metadados e dados nos três repositórios aqui utilizados e na sequência, no [Capítulo 9](capitulo9/cap9), apresento algumas possibilidades relativas à organização geral dos dados coletados."
   ]
  },
  {
   "cell_type": "markdown",
   "metadata": {},
   "source": [
    "```{figure} ../assets/images/3fase_mermaid-diagram-2023-08-21-173800.png\n",
    ":name: diagram-3\n",
    "\n",
    "Diagrama da terceira fase\n",
    "```"
   ]
  }
 ],
 "metadata": {
  "language_info": {
   "name": "python"
  },
  "orig_nbformat": 4
 },
 "nbformat": 4,
 "nbformat_minor": 2
}
