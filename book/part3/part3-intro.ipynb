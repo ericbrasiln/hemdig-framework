{
 "cells": [
  {
   "cell_type": "markdown",
   "metadata": {},
   "source": [
    "# Em que consiste a terceira fase?\n",
    "\n",
    "- Importância do registro e documentação metodológica: [Capítulo 7](capitulo7/cap7)\n",
    "  - Compreensão e aplicação de ferramentas de registro metodológico: [Seção 7.1](capitulo7/sec71)\n",
    "- Ferramentas de coleta de metadados e dados: [Capítulo 8](capitulo8/cap8)\n",
    "- Estratégias de organização de datasets: [Capítulo 9](capitulo9/cap9)"
   ]
  },
  {
   "cell_type": "markdown",
   "metadata": {},
   "source": [
    "```{figure} ../assets/images/3fase_mermaid-diagram-2023-08-21-173800.png\n",
    ":name: diagram-3\n",
    "\n",
    "Diagrama da terceira fase\n",
    "```"
   ]
  }
 ],
 "metadata": {
  "language_info": {
   "name": "python"
  },
  "orig_nbformat": 4
 },
 "nbformat": 4,
 "nbformat_minor": 2
}
