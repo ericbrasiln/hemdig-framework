{
 "cells": [
  {
   "cell_type": "markdown",
   "id": "30cf4c67",
   "metadata": {},
   "source": [
    "![logo](./assets/images/logos/logo-lg.svg)"
   ]
  },
  {
   "cell_type": "markdown",
   "id": "b0beb840",
   "metadata": {},
   "source": [
    "# HEMDIG(pt)\n",
    "\n",
    "**Métodos, ferramentas e hemerotecas digitais em português: um framework para a pesquisa em periódicos digitalizados**\n",
    "\n",
    "Criado por [_Eric Brasil_](https://ericbrasiln.github.io) // Impulsionado pelo [Jupyter Book](https://jupyterbook.org/)[^jb]\n",
    "\n",
    "[^jb]: Executable Books Community. “Jupyter Book”. Zenodo, February 12, 2020. https://doi.org/10.5281/zenodo.4539666.\n",
    "\n",
    "---"
   ]
  },
  {
   "cell_type": "markdown",
   "id": "e20b20e1",
   "metadata": {},
   "source": [
    "Projeto da pesquisa de pós-doutorado de [Eric Brasil](https://ericbrasiln.github.io) realizada no âmbito do *DH_Lab* (FSCH-NOVA) sob supervisão de Daniel Alves.\n",
    "\n",
    "Período de realização: **outubro de 2022 a outubro de 2023**\n",
    "\n",
    "*Resumo*: O objetivo do projeto é analisar a operação historiográfica relacionada ao processo de selecionar, recolher e organizar fontes primárias por meio de ferramentas e dados digitais. Terá como foco repositórios e interfaces gráficas que permitem o acesso a periódicos da imprensa de língua portuguesa digitalizados, com destaque para a Hemeroteca Digital Brasileira e a coleção de periódicos da Biblioteca Nacional Digital de Portugal. Como resultado pretende-se produzir um *framework* (enquadramento dos processos de pesquisa) digital que englobe as etapas da pesquisa histórica para esse tipo de fonte. O *framework* reunirá uma biblioteca de referências bibliográficas; ferramentas para registro metodológico e organização dos dados coletados; documentação e tutoriais dos acervos e suas interfaces gráficas, das ferramentas para reconhecimento ótico de caracteres e reconhecimento automatizado de layout voltados para documentos históricos.\n"
   ]
  },
  {
   "cell_type": "markdown",
   "id": "8a14159d",
   "metadata": {},
   "source": [
    "## Diagrama do framework\n",
    "\n",
    "````{margin}\n",
    "```{admonition} Nota\n",
    ":class: note\n",
    "Os diagramas utilizados nesse livro foram desenvolvidos com o editor [on-line Mermaid](https://mermaid.live/).\n",
    "```\n",
    "`````"
   ]
  },
  {
   "cell_type": "markdown",
   "id": "f83f5fca",
   "metadata": {},
   "source": [
    "```{figure} assets/images/full-diagram.svg\n",
    ":height: 500px\n",
    ":name: diagram-full\n",
    "\n",
    "Diagrama das fases do HEMDIG(pt) em svg\n",
    "```"
   ]
  },
  {
   "cell_type": "markdown",
   "id": "a842948a",
   "metadata": {},
   "source": [
    "## Estrutura do framework e organização do livro\n",
    "\n",
    "O framework está organizado em cinco partes, e conta também com introdução e considerações finais, além de apêndices, bibliografia e página de links úteis."
   ]
  },
  {
   "cell_type": "markdown",
   "id": "f9c4c2ff",
   "metadata": {},
   "source": [
    "\n",
    "```{tableofcontents}\n",
    "```"
   ]
  }
 ],
 "metadata": {
  "jupytext": {
   "cell_metadata_filter": "-all",
   "main_language": "python",
   "notebook_metadata_filter": "-all"
  },
  "kernelspec": {
   "display_name": "Python 3",
   "language": "python",
   "name": "python3"
  },
  "language_info": {
   "codemirror_mode": {
    "name": "ipython",
    "version": 3
   },
   "file_extension": ".py",
   "mimetype": "text/x-python",
   "name": "python",
   "nbconvert_exporter": "python",
   "pygments_lexer": "ipython3",
   "version": "3.10.12"
  }
 },
 "nbformat": 4,
 "nbformat_minor": 5
}
