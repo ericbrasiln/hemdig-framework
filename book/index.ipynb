{
 "cells": [
  {
   "cell_type": "markdown",
   "id": "30cf4c67",
   "metadata": {},
   "source": [
    "![logo](./assets/images/logos/logo-lg.svg)"
   ]
  },
  {
   "cell_type": "markdown",
   "id": "5f22d107",
   "metadata": {},
   "source": [
    "```{admonition} Atenção\n",
    ":class: danger\n",
    "Página em construção.\n",
    "```"
   ]
  },
  {
   "cell_type": "markdown",
   "id": "b0beb840",
   "metadata": {},
   "source": [
    "# Início\n",
    "\n",
    "Criado por [_Eric Brasil_](https://ericbrasiln.github.io) // Impulsionado pelo [Jupyter Book](https://jupyterbook.org/)[^jb]\n",
    "\n",
    "[^jb]: Executable Books Community. “Jupyter Book”. Zenodo, February 12, 2020. https://doi.org/10.5281/zenodo.4539666.\n",
    "\n",
    "---"
   ]
  },
  {
   "cell_type": "markdown",
   "id": "e20b20e1",
   "metadata": {},
   "source": [
    "Projeto da pesquisa de pós-doutorado de [Eric Brasil](https://ericbrasiln.github.io) realizada no âmbito do *DH_Lab* (FSCH-NOVA) sob supervisão de Daniel Alves.\n",
    "\n",
    "Instituto de História Contemporânea[^ihc], Faculdade de Ciências Sociais e Humanas da Universidade NOVA de Lisboa / IN2PAST — Laboratório Associado para a Investigação e Inovação em Património, Artes, Sustentabilidade e Território\n",
    "\n",
    "[^ihc]: O IHC é financiado por fundos nacionais através da FCT — Fundação para a Ciência e a Tecnologia, I.P., no âmbito dos projectos UIDB/04209/2020, UIDP/04209/202o e LA/P/0132/2020.\n",
    "\n",
    "Período de realização: **outubro de 2022 a outubro de 2023**\n",
    "\n",
    "## Resumo\n",
    "\n",
    "O objetivo do projeto é analisar a operação historiográfica relacionada ao processo de selecionar, recolher e organizar fontes primárias por meio de ferramentas e dados digitais. Terá como foco repositórios e interfaces gráficas que permitem o acesso a periódicos da imprensa de língua portuguesa digitalizados, com destaque para a Hemeroteca Digital Brasileira e a coleção de periódicos da Biblioteca Nacional Digital de Portugal. Como resultado pretende-se produzir um *framework* (enquadramento dos processos de pesquisa) digital que englobe as etapas da pesquisa histórica para esse tipo de fonte. O *framework* reunirá uma biblioteca de referências bibliográficas; ferramentas para registro metodológico e organização dos dados coletados; documentação e tutoriais dos acervos e suas interfaces gráficas, das ferramentas para reconhecimento ótico de caracteres e reconhecimento automatizado de layout voltados para documentos históricos.\n"
   ]
  },
  {
   "cell_type": "markdown",
   "id": "a8df18e2",
   "metadata": {},
   "source": [
    "## Introdução\n",
    "\n",
    "Esse livro busca organizar, explicar e apresentar de forma clara e concatenada uma proposta de *framework*, ou enquadramento de pesquisa, para projetos que utilizem como fontes principais jornais históricos digitalizados, especificamente aqueles escritos em língua portuguesa, preservados e disponibilizados para consulta e busca pela Hemeroteca Digital Brasileira (HDB) da Biblioteca Nacional e a coleção de periódicos digitalizados da Biblioteca Digital de Portugal, da Biblioteca Nacional de Portugal e da Hemeroteca Digital da Hemeroteca Municipal de Lisboa.\n",
    "\n",
    "O material aqui apresentado é resultado da pesquisa de pós-doutorado desenvolvida no Instituto de História Contemporânea da Universidade Nova de Lisboa, no Laboratório de Humanidades Digitais, entre 2022 e 2023, sob a supervisão do Prof. Dr. Daniel Alves. \n"
   ]
  },
  {
   "cell_type": "markdown",
   "id": "2cd31c5b",
   "metadata": {},
   "source": [
    "## Estrutura do framework e organização do livro\n",
    "\n",
    "O framework está organizado em cinco partes, e conta também com uma apresentação da estrutura da pesquisa, do histórico e versionamento do processo e uma explicação do repositório final dos dados. Ao final, o leitor encontrará as considerações finais, além de apêndices, bibliografia e página de links úteis."
   ]
  },
  {
   "cell_type": "markdown",
   "id": "8a14159d",
   "metadata": {},
   "source": [
    "## Diagrama do framework\n",
    "\n",
    "````{margin}\n",
    "```{admonition} Nota\n",
    ":class: note\n",
    "Os diagramas utilizados nesse livro foram desenvolvidos com o editor [on-line Mermaid](https://mermaid.live/).\n",
    "```\n",
    "`````"
   ]
  },
  {
   "cell_type": "markdown",
   "id": "f83f5fca",
   "metadata": {},
   "source": [
    "```{figure} assets/images/full-diagram.svg\n",
    ":height: 500px\n",
    ":name: diagram-full\n",
    "\n",
    "Diagrama das fases do HEMDIG(pt) em svg\n",
    "```"
   ]
  },
  {
   "cell_type": "markdown",
   "id": "24151df6",
   "metadata": {},
   "source": [
    "## Índice"
   ]
  },
  {
   "cell_type": "markdown",
   "id": "f9c4c2ff",
   "metadata": {},
   "source": [
    "\n",
    "```{tableofcontents}\n",
    "```"
   ]
  }
 ],
 "metadata": {
  "jupytext": {
   "cell_metadata_filter": "-all",
   "main_language": "python",
   "notebook_metadata_filter": "-all"
  },
  "kernelspec": {
   "display_name": "Python 3",
   "language": "python",
   "name": "python3"
  },
  "language_info": {
   "codemirror_mode": {
    "name": "ipython",
    "version": 3
   },
   "file_extension": ".py",
   "mimetype": "text/x-python",
   "name": "python",
   "nbconvert_exporter": "python",
   "pygments_lexer": "ipython3",
   "version": "3.10.12"
  }
 },
 "nbformat": 4,
 "nbformat_minor": 5
}
