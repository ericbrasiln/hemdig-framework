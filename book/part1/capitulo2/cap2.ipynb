{
 "cells": [
  {
   "cell_type": "markdown",
   "metadata": {},
   "source": [
    "# 2. Preparação técnica básica"
   ]
  },
  {
   "cell_type": "markdown",
   "metadata": {},
   "source": [
    "Iniciar uma pesquisa mediada por ferramentas, métodos e fontes digitais/digitalizadas é um desafio para qualquer pesquisador. Apesar da crescente importante desses elementos na prática profissional de todas as áreas da ciências humanas, ainda percebemos uma carência na formação que gera dificuldades, limitações e muitas vezes enviesamentos epistemológicos no decorrer das pesquisas.\n",
    "\n",
    "Diante disso, buscamos nesse capítulo apresentar alguns tutoriais do programming Historian organizados nos seguintes tópicos: *Conhecimento computacional básico* e *Gestão de Dados* e *Escrita e publicação*.\n",
    "\n",
    "Não buscamos realizar um levantamento exaustivo de temáticas nem suprir as lacunas na formação, mas apontar caminhos e definir um mínimo de conhecimento técnico para iniciarmos a pesquisa."
   ]
  }
 ],
 "metadata": {
  "language_info": {
   "name": "python"
  },
  "orig_nbformat": 4
 },
 "nbformat": 4,
 "nbformat_minor": 2
}
