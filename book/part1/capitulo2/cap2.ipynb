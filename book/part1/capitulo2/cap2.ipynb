{
 "cells": [
  {
   "cell_type": "markdown",
   "metadata": {},
   "source": [
    "# 2. Preparação técnica básica"
   ]
  },
  {
   "cell_type": "markdown",
   "metadata": {},
   "source": [
    "Iniciar uma pesquisa mediada por ferramentas, métodos e fontes digitais/digitalizadas é um desafio para qualquer pesquisador. Apesar da importância crescente desses elementos na prática profissional de todas as áreas da ciências humanas, ainda percebemos uma carência na formação que gera dificuldades, limitações e muitas vezes enviesamentos epistemológicos no decorrer das pesquisas.\n",
    "\n",
    "Diante disso, buscamos nesse capítulo apresentar [alguns tutoriais do Programming Historian](./sec21.ipynb) organizados nos seguintes tópicos: *Conhecimento computacional básico*, *Gestão de Dados* e *Escrita e publicação*.\n",
    "\n",
    "Não buscamos realizar um levantamento exaustivo de temáticas nem suprir as lacunas na formação, mas apontar caminhos e definir um mínimo de conhecimento técnico para iniciarmos a pesquisa."
   ]
  },
  {
   "cell_type": "markdown",
   "metadata": {},
   "source": [
    "O [Programming Historian](https://programminghistorian.org/) é uma revista multilíngue de acesso aberto voltada para a publicação de artigos focados em métodos e ferramentas computacionais e digitais para pesquisa e ensino em história e humanidades no geral. A revista possuiu um sistema de revisão por pares aberto e atualmente é publicada em quatro idiomas: inglês, espanhol, português e francês. \n"
   ]
  },
  {
   "cell_type": "markdown",
   "metadata": {},
   "source": [
    "O *HEMDIG(pt)* utiliza e fomenta o uso de vários artigos publicados no *Programming Historian*, sobretudo por possuírem uma filosofia de valorizar a ciência aberta, a utilização de programas de código aberto e o desenvolvimento de métodos e ferramentas adaptáveis para diversas pesquisas. \n",
    "\n",
    "Buscamos, sempre que possível referenciar lições já publicadas ou traduzidas para o português."
   ]
  }
 ],
 "metadata": {
  "language_info": {
   "name": "python"
  },
  "orig_nbformat": 4
 },
 "nbformat": 4,
 "nbformat_minor": 2
}
