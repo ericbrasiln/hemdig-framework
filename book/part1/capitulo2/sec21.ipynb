{
 "cells": [
  {
   "cell_type": "markdown",
   "id": "712f35a7",
   "metadata": {},
   "source": [
    "# 2.1. Tutoriais do Programming Historian\n",
    "\n",
    "Lista e resumo de lições do [Programming Historian](https://programminghistorian.org/pt) úteis para o trabalho com dados digitais.\n",
    "\n",
    "As lições listadas abaixo são fundamentais para um bom aproveitamento do framework proposto nessa pesquisa. Elas apresentam noção básicas para utilização de linha de comando, python, e jupyter notebooks, além de apresentar conceitos fundamentais para a gestão de dados digitais, escrita e publicação de dados.\n",
    "\n",
    "Os resumos foram retirados das próprias lições do site do PH."
   ]
  },
  {
   "cell_type": "markdown",
   "id": "86e05975",
   "metadata": {},
   "source": [
    "## Conhecimento computacional básico\n",
    "\n",
    "1. [Introduction to the Bash Command Line](https://programminghistorian.org/en/lessons/intro-to-bash), Ian Milligan e James Baker.\n",
    "   - **Tradução para o português em andamento**. Ver [aqui](https://github.com/ericbrasiln/traducoes-ph/blob/main/introducao-ao-bash.md).\n",
    "   - **Resumo da lição**: \"Essa lição lhe ensinará como enviar comandos utilizando uma interface de linha de comando, ao invés de uma interface gráfica. Interfaces de linha de comando possuem vantagens para usuários de computador que precisam de maior precisão em seu trabalho, como historiadores(as) digitais. Permitem mais detalhamento ao rodar alguns programas, visto que você pode adicionar modificações para especificar exatamente como deseja que um programa seja executado. Além do mais, podem ser facilmente automatizados através de scripts, que são basicamente conjuntos de comandos baseados em texto.\"\n",
    "2. [Introdução e instalação do Python](https://programminghistorian.org/pt/licoes/introducao-instalacao-python), William J. Turkel e Adam Crymble.\n",
    "   - **Resumo da lição**: \"Essa primeira lição em nossa seção para tratar de Fontes Online é preparada para que você e o seu computador estejam prontos para se iniciarem na programação. Nós iremos nos concentrar em instalar os softwares necessários – todos livres e de boa reputação – e finalmente nós iremos te auxiliar a experimentar os primeiros passos na programação para que você tenha resultados imediatos.\"\n",
    "3. [Instalação de Módulos Python com pip](https://programminghistorian.org/pt/licoes/instalacao-modulos-python-pip), Fred Gibbs.\n",
    "   - **Resumo da lição**: \"Há muitas formas de se instalar bibliotecas externas de Python; esta lição explica um dos métodos mais comuns usando pip.\"\n",
    "4. [Introdução ao Jupyter Notebook](https://programminghistorian.org/pt/licoes/introducao-jupyter-notebooks), Quinn Dombrowski, Tassie Gniady e David Kloster.\n",
    "   - **Resumo da lição**: Jupyter Notebook fornece um ambiente onde você pode trabalhar com facilidade o seu código na linguagem Python. Esta lição descreve como instalar o software Jupyter Notebook, como executar e criar ficheiros para o Jupyter Notebook.\"\n",
    "5. [Introduction to the Windows Command Line with PowerShell](https://programminghistorian.org/en/lessons/intro-to-powershell), Ted Dawson.\n",
    "   - **Resumo da lição**: \"This tutorial will introduce you to the basics of Windows PowerShell, the standard command-line interface for Windows computers.\""
   ]
  },
  {
   "cell_type": "markdown",
   "id": "f2c7e023",
   "metadata": {},
   "source": [
    "## Gestão de Dados\n",
    "\n",
    "1. [Preservar os seus dados de investigação](https://programminghistorian.org/pt/licoes/preservar-os-seus-dados-de-investigacao), James Baker.\n",
    "   - **Resumo da lição**: \"Esta lição irá sugerir maneiras pelas quais os historiadores podem documentar e estruturar os seus dados de pesquisa, a fim de garantir que continuem sendo acessíveis no futuro.\"\n",
    "2. [Git como ferramenta metodológica em projetos de História (parte 1)](http://programminghistorian.github.io/ph-submissions/pt/esbocos/originais/git-ferramenta-metodologica-projetos-historia-1)[^1], Eric Brasil.\n",
    "   - **Resumo da lição**: \"A lição busca caracterizar sistemas de controle de versões, tendo o Git como exemplo, e analisar as possibilidades de seu uso para a pesquisa em História. Para tanto, pretende-se apresentar detalhadamente as principais funções e recursos do Git para o controle de versões localmente, desde a configuração inicial do programa até sua aplicação em um exemplo prático.\"\n",
    "\n",
    "[^1]: Lição em fase final de revisão para publicação. Esse link mostra a versão em desenvolvimento."
   ]
  },
  {
   "cell_type": "markdown",
   "id": "2cee4bdc",
   "metadata": {},
   "source": [
    "## Escrita e publicação\n",
    "\n",
    "1. [Introdução ao Markdown](https://programminghistorian.org/pt/licoes/introducao-ao-markdown), Sarah Simpkin.\n",
    "   - **Resumo da lição**: \"Nesta lição é apresentado o Markdown, uma sintaxe baseada em texto simples para formatação de documentos. É explicado porque ele é usado, como formatar ficheiros Markdown e como pré-visualizar documentos formatados em Markdown na web.\"\n",
    "2. [Autoria Sustentável em Texto Simples usando Pandoc e Markdown](https://programminghistorian.org/pt/licoes/autoria-sustentavel-texto-simples-pandoc-markdown), Dennis Tenen e Grant Wythoff.\n",
    "   - **Resumo da lição**: \"Neste tutorial, você aprenderá primeiro o básico do Markdown - uma sintaxe de marcação fácil de ler e escrever para texto simples - bem como Pandoc, uma ferramenta de linha de comando que converte texto simples em vários tipos de ficheiros formatados: PDF, docx, HTML, LaTeX, apresentação de slides e muito mais.\""
   ]
  }
 ],
 "metadata": {
  "jupytext": {
   "cell_metadata_filter": "-all",
   "main_language": "python",
   "notebook_metadata_filter": "-all"
  },
  "language_info": {
   "name": "python"
  }
 },
 "nbformat": 4,
 "nbformat_minor": 5
}
