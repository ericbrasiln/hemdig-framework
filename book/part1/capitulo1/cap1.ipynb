{
 "cells": [
  {
   "cell_type": "markdown",
   "metadata": {},
   "source": [
    "# 1. Revisão da Literatura\n",
    "\n",
    "Pesquisas com periódicos digitalizados, assim como qualquer outro tema, devem iniciar com uma revisão da literatura. Buscamos aqui apontar tanto algumas estratégias para a realização de uma revisão eficiente quanto disponibilizamos uma biblioteca de referências atualizadas sobre temas relacionados, devidamente organizados e etiquetados."
   ]
  },
  {
   "cell_type": "markdown",
   "metadata": {},
   "source": [
    "Existem várias estratégias e repositórios possíveis para a realização de levantamento bibliográfico inicial em meios digitais. Entretanto, o objetivo aqui, mais do que direcionar as escolhas de cada pesquisador, é fornecer suporte metodológico para tais escolhas possam ser registradas e organizadas em ambiente digital.\n",
    "\n",
    "Para uma discussão sobre algumas estratégias de levantamento bibliográfico digital, indicamos a leitura do material disponível no curso *Introdução à História Digital*, no tópico [**Levantamento bibliográfico on-line**](https://ericbrasiln.github.io/intro-historia-digital/mod2/sem5_ap.html#levantamento-bibliografico-on-line) e a gravação da aula (disponível abaixo)."
   ]
  },
  {
   "cell_type": "code",
   "execution_count": 4,
   "metadata": {
    "tags": [
     "remove-input"
    ]
   },
   "outputs": [
    {
     "data": {
      "text/html": [
       "\n",
       "        <iframe\n",
       "            width=\"426\"\n",
       "            height=\"240\"\n",
       "            src=\"https://www.youtube.com/embed/yL39yoEsZaE?si=Jll5HDINQtNzITAf?frameborder=0&allowfullscreen=True\"\n",
       "            frameborder=\"0\"\n",
       "            allowfullscreen\n",
       "            \n",
       "        ></iframe>\n",
       "        "
      ],
      "text/plain": [
       "<IPython.lib.display.IFrame at 0x7f5ad19872b0>"
      ]
     },
     "execution_count": 4,
     "metadata": {},
     "output_type": "execute_result"
    }
   ],
   "source": [
    "from IPython.display import IFrame\n",
    "IFrame(src='https://www.youtube.com/embed/yL39yoEsZaE?si=Jll5HDINQtNzITAf', width=426, height=240, frameborder=\"0\", allowfullscreen=True)"
   ]
  },
  {
   "cell_type": "markdown",
   "metadata": {},
   "source": [
    "Qualquer que seja seu método e os repositórios utilizados, ressaltamos a importância de registrar os parâmetros utilizados (como no exemplo da [próxima seção](sec11.md#parâmetros-utilizados-no-scopus)) e indicamos a utilização do Zotero para o gerenciamento das buscas e referências."
   ]
  },
  {
   "cell_type": "markdown",
   "metadata": {},
   "source": [
    "O [Zotero](https://www.zotero.org/) é um gerenciador de referências gratuito e de código aberto. O Zotero permite a coleta, organização, citação e compartilhamento. O programa é multiplataforma, possuindo versões para desktop e web.\n",
    "\n",
    "Possui extensões para navegadores que permitem a coleta de referências de sites e bases de dados com um clique.\n",
    "\n",
    "Além disso, possui plugins para *Word*, *LibreOffice* e *GoogleDocs*, permitindo que o usuário insira citações e gere bibliografias automaticamente.\n",
    "\n",
    "Com o Zotero também podemos criar bibliotecas públicas on-line, o que permite compartilhar nosso trabalho e colaborar com outras pessoas.\n",
    "\n",
    "Para um comparativo entre softwares de gerenciamento de referências indicamos {cite:ts}`yamakawa_comparativo_2014`\n",
    "\n",
    "Para mais informações sobre instalação e utilização do *Zotero*, indicamos os vídeos a seguir:"
   ]
  },
  {
   "cell_type": "markdown",
   "metadata": {},
   "source": [
    "## Zotero: Instalação e uso\n",
    "\n",
    "### Zotero do Zero - Tutorial de instalação do Zotero no Windows 10"
   ]
  },
  {
   "cell_type": "code",
   "execution_count": 4,
   "metadata": {
    "tags": [
     "remove-input"
    ]
   },
   "outputs": [
    {
     "data": {
      "text/html": [
       "\n",
       "        <iframe\n",
       "            width=\"426\"\n",
       "            height=\"240\"\n",
       "            src=\"https://www.youtube.com/embed/CPdhyKboKC0?frameborder=0&allowfullscreen=True\"\n",
       "            frameborder=\"0\"\n",
       "            allowfullscreen\n",
       "            \n",
       "        ></iframe>\n",
       "        "
      ],
      "text/plain": [
       "<IPython.lib.display.IFrame at 0x7f5f62bcaaa0>"
      ]
     },
     "execution_count": 4,
     "metadata": {},
     "output_type": "execute_result"
    }
   ],
   "source": [
    "from IPython.display import IFrame\n",
    "IFrame(src='https://www.youtube.com/embed/CPdhyKboKC0', width=426, height=240, frameborder=\"0\", allowfullscreen=True)"
   ]
  },
  {
   "cell_type": "markdown",
   "metadata": {},
   "source": [
    "### Workshop de Zotero - Ferramentas Digitais e a pesquisa em Humanidades. "
   ]
  },
  {
   "cell_type": "code",
   "execution_count": 2,
   "metadata": {
    "tags": [
     "remove-input"
    ]
   },
   "outputs": [
    {
     "data": {
      "text/html": [
       "\n",
       "        <iframe\n",
       "            width=\"426\"\n",
       "            height=\"240\"\n",
       "            src=\"https://www.youtube.com/embed/I5ohkh5d51Y?frameborder=0&allowfullscreen=True\"\n",
       "            frameborder=\"0\"\n",
       "            allowfullscreen\n",
       "            \n",
       "        ></iframe>\n",
       "        "
      ],
      "text/plain": [
       "<IPython.lib.display.IFrame at 0x7f5ad19871f0>"
      ]
     },
     "execution_count": 2,
     "metadata": {},
     "output_type": "execute_result"
    }
   ],
   "source": [
    "from IPython.display import IFrame\n",
    "\n",
    "IFrame(src='https://www.youtube.com/embed/I5ohkh5d51Y', width=426, height=240, frameborder=\"0\", allowfullscreen=True)\n"
   ]
  },
  {
   "cell_type": "markdown",
   "metadata": {},
   "source": [
    "```{bibliography}\n",
    ":style: unsrt\n",
    ":filter: docname in docnames\n",
    "```"
   ]
  }
 ],
 "metadata": {
  "kernelspec": {
   "display_name": "Python 3",
   "language": "python",
   "name": "python3"
  },
  "language_info": {
   "codemirror_mode": {
    "name": "ipython",
    "version": 3
   },
   "file_extension": ".py",
   "mimetype": "text/x-python",
   "name": "python",
   "nbconvert_exporter": "python",
   "pygments_lexer": "ipython3",
   "version": "3.10.12"
  },
  "orig_nbformat": 4
 },
 "nbformat": 4,
 "nbformat_minor": 2
}
