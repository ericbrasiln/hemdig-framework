{
 "cells": [
  {
   "cell_type": "markdown",
   "metadata": {},
   "source": [
    "# Em que consiste a primeira fase?\n",
    "\n",
    "A primeira fase consiste no planejamento e preparação metodológica e técnica básica. Aqui vamos indicar um conjunto de ferramentas e estratégias visando desenvolver conhecimentos e recursos básicos para que as etapas seguintes sejam aproveitadas de forma mais eficiente e precisa.\n",
    "\n",
    "No [capítulo 1](capitulo1/cap1.ipynb) tratamos da revisão da literatura inicial, e para isso apresentamos o Zotero, um exercício de levantamento na base Scopus e uma biblioteca pública de referências completa.\n",
    "\n",
    "Em seguida, no [Capítulo 2](capitulo2/cap2.ipynb) apresentamos de forma sucinta uma série de lições do programming historian, organizadas em três tópicos: *Conhecimento computacional básico* e *Gestão de Dados* e *Escrita e publicação*.\n",
    "\n",
    "O [terceiro capítulo](capitulo3/cap3.ipynb) trás sugestões sobre o planejamento geral da pesquisa, relativos à estratégias de documentação, organização de dados e licenças de uso."
   ]
  }
 ],
 "metadata": {
  "language_info": {
   "name": "python"
  },
  "orig_nbformat": 4
 },
 "nbformat": 4,
 "nbformat_minor": 2
}
