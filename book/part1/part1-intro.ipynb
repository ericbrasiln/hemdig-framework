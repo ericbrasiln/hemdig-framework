{
 "cells": [
  {
   "cell_type": "markdown",
   "metadata": {},
   "source": [
    "# Em que consiste a primeira fase?\n",
    "\n",
    "A primeira fase consiste no planejamento e preparação metodológica e técnica básica. Aqui vamos indicar um conjunto de ferramentas e estratégias visando desenvolver conhecimentos e recursos básicos para que as etapas seguintes sejam aproveitadas de forma mais eficiente e precisa.\n",
    "\n",
    "No [capítulo 1](capitulo1/cap1.ipynb) tratamos da revisão da literatura inicial, e para isso apresentamos o **Zotero**, um exercício de levantamento na base Scopus e uma biblioteca pública de referências completa.\n",
    "\n",
    "Em seguida, no [Capítulo 2](capitulo2/cap2.ipynb), apresentamos de forma sucinta uma série de lições do Programming Historian, organizadas em três tópicos: *Conhecimento computacional básico* e *Gestão de Dados* e *Escrita e publicação*.\n",
    "\n",
    "O [terceiro capítulo](capitulo3/cap3.ipynb) trás sugestões sobre o planejamento geral da pesquisa relativas à estratégias de documentação, organização de dados e licenças de uso.\n",
    "\n",
    "Vejamos abaixo um diagrama dessa fase. É um desdobramento de {ref}`diagram-full`."
   ]
  },
  {
   "cell_type": "markdown",
   "metadata": {},
   "source": [
    "## Diagrama da primeira fase"
   ]
  },
  {
   "cell_type": "markdown",
   "metadata": {},
   "source": [
    "```{figure} ../assets/images/1fase_mermaid-diagram-2023-08-21-171600.png\n",
    ":name: diagram-1\n",
    ":align: center\n",
    "\n",
    "Diagrama da primeira fase\n",
    "```"
   ]
  }
 ],
 "metadata": {
  "language_info": {
   "name": "python"
  },
  "orig_nbformat": 4
 },
 "nbformat": 4,
 "nbformat_minor": 2
}
