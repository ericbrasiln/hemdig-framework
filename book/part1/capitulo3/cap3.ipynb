{
 "cells": [
  {
   "cell_type": "markdown",
   "metadata": {},
   "source": [
    "# 3. Planejamento da pesquisa\n",
    "\n",
    "Além do levantamento bibliográfico e formação técnica mínima, como indicado nos capítulos [1](../capitulo1/cap1.ipynb) e [2](../capitulo2/cap2.ipynb), é importante definirmos, mesmo que de forma geral e preliminar, o planejamento específico voltado para documentação, organização, preservação e licenciamento da pesquisa. \n"
   ]
  },
  {
   "cell_type": "markdown",
   "metadata": {},
   "source": [
    "## Definição das estratégias de documentação\n",
    "\n",
    "Como você pretende documentar as etapas da sua pesquisa?\n",
    "\n",
    "1. escrever explicitamente os critérios e os padrões adotados.\n",
    "2. utilizar formatos de texto simples\n",
    "3. incluir README.md ou README.txt em cada diretório\n",
    "4. padronizar nomeação de diretórios e ficheiros;\n",
    "5. pensar em formatos, padrões e convenções que sejam multiplataforma;\n",
    "6. registar suas decisões\n",
    "7. utilizar ferramentas de versionamento, como Git."
   ]
  },
  {
   "cell_type": "markdown",
   "metadata": {},
   "source": [
    "## Definição das estratégias de organização \n",
    "\n",
    "1. Pensar estrutura de diretórios padronizado;\n",
    "2. Nomear arquivos de forma padronizada;\n",
    "3. Criar padrão de realização de backups;\n",
    "4. Incluir decisões de organização na documentação.\n"
   ]
  },
  {
   "cell_type": "markdown",
   "metadata": {},
   "source": [
    "### Tropy\n",
    "\n",
    "Assim como o Zotero, utilizado e citado no capítulo [1](../capitulo1/cap1.ipynb), o Tropy é um software livre e gratuito, que permite a organização de fotografias de documentos de arquivo, com a vantagem de permitir a anotação de metadados e a exportação de dados para outros formatos, como CSV, JSON e RDF. \n",
    "\n",
    "Ao passo que o Zotero foi elaborado para organização de fontes secundárias, o Tropy foi desenvolvido para a organização de fontes primárias, como documentos de arquivo, fotografias, etc.\n",
    "\n",
    "Indicamos sua utilização como uma ferramenta de organização e documentação bastante prática, fácil de utilizar e desenvolvida por uma equipe liderada por historiadores/as.\n",
    "\n",
    "Para saber mais sobre o Tropy, acesse: [https://tropy.org/](https://tropy.org/)\n",
    "\n",
    "Abaixo, podemos ver uma oficina ministrada por Anita Lucchesi, apresentando desde a instalação até a utilização do programa."
   ]
  },
  {
   "cell_type": "code",
   "execution_count": 1,
   "metadata": {
    "tags": [
     "remove-input"
    ]
   },
   "outputs": [
    {
     "data": {
      "text/html": [
       "\n",
       "        <iframe\n",
       "            width=\"426\"\n",
       "            height=\"240\"\n",
       "            src=\"https://www.youtube.com/embed/PE8WpSoYiFw?frameborder=0&allowfullscreen=True\"\n",
       "            frameborder=\"0\"\n",
       "            allowfullscreen\n",
       "            \n",
       "        ></iframe>\n",
       "        "
      ],
      "text/plain": [
       "<IPython.lib.display.IFrame at 0x7f55480e6980>"
      ]
     },
     "execution_count": 1,
     "metadata": {},
     "output_type": "execute_result"
    }
   ],
   "source": [
    "from IPython.display import IFrame\n",
    "\n",
    "IFrame(src='https://www.youtube.com/embed/PE8WpSoYiFw', width=426, height=240, frameborder=\"0\", allowfullscreen=True)"
   ]
  },
  {
   "cell_type": "markdown",
   "metadata": {},
   "source": [
    "## Definição da licença de uso\n",
    "\n",
    "Avaliar qual licença é mais adequada para o projeto. Para isso, acesse o site [Choose a License](https://choosealicense.com/)."
   ]
  },
  {
   "cell_type": "markdown",
   "metadata": {},
   "source": [
    "## Definição dos repositórios\n",
    "\n",
    "Os repositórios de fontes e dados selecionados para a pesquisa devem ser não apenas listados, mas também as escolhas e decisões devem ser registradas e documentadas."
   ]
  }
 ],
 "metadata": {
  "kernelspec": {
   "display_name": "Python 3",
   "language": "python",
   "name": "python3"
  },
  "language_info": {
   "codemirror_mode": {
    "name": "ipython",
    "version": 3
   },
   "file_extension": ".py",
   "mimetype": "text/x-python",
   "name": "python",
   "nbconvert_exporter": "python",
   "pygments_lexer": "ipython3",
   "version": "3.10.12"
  },
  "orig_nbformat": 4
 },
 "nbformat": 4,
 "nbformat_minor": 2
}
