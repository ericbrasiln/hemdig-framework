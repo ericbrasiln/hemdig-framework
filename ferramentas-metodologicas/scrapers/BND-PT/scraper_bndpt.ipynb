{
 "cells": [
  {
   "cell_type": "markdown",
   "metadata": {},
   "source": [
    "# scraper_bndpt.ipynb - 1.0\n",
    "\n",
    "Coletar dados e metadados da Biblioteca Nacional Digital Portuguesa (BNDP) utilizando selenium."
   ]
  },
  {
   "cell_type": "code",
   "execution_count": 1,
   "metadata": {},
   "outputs": [],
   "source": [
    "# import libraries\n",
    "import time, os\n",
    "from datetime import datetime\n",
    "from selenium import webdriver\n",
    "from webdriver_manager.chrome import ChromeDriverManager\n",
    "from selenium.webdriver.common.by import By\n",
    "from selenium.webdriver.chrome.options import Options\n",
    "from selenium.webdriver.support.ui import WebDriverWait \n",
    "from selenium.webdriver.support import expected_conditions as EC\n",
    "from selenium.webdriver.chrome.service import Service"
   ]
  },
  {
   "cell_type": "code",
   "execution_count": 56,
   "metadata": {},
   "outputs": [],
   "source": [
    "# define search keyword\n",
    "keyword = input(\"Enter the keyword you want to search for: \")"
   ]
  },
  {
   "cell_type": "code",
   "execution_count": 119,
   "metadata": {},
   "outputs": [],
   "source": [
    "# Opção para remover a impressão de logs na tela\n",
    "os.environ['WDM_LOG_LEVEL'] = '0'\n",
    "# Definição das opções do driver\n",
    "chrome_options = Options()\n",
    "chrome_options.add_argument(\"--headless=new\")\n",
    "chrome_options.add_argument(\"--no-sandbox\")\n",
    "chrome_options.add_argument(\"--start-maximized\")\n",
    "chrome_options.add_argument(\"user-agent=Mozilla/5.0 (Windows NT 10.0; Win64; x64) AppleWebKit/537.36 (KHTML, like Gecko) Chrome/58.0.3029.110 Safari/537.36\")\n",
    "s=Service(ChromeDriverManager().install())\n",
    "driver = webdriver.Chrome(service=s, options=chrome_options)"
   ]
  },
  {
   "cell_type": "code",
   "execution_count": 120,
   "metadata": {},
   "outputs": [],
   "source": [
    "# base url\n",
    "search_url = f'https://bndigital.bnportugal.gov.pt/records?navigation=default&perpage=1000&page=1&search={keyword}&fulltext=1&child=1&bookmarks=1&sort=_score&refine%5BDocumentType%5D%5B%5D=Publica%C3%A7%C3%B5es+Peri%C3%B3dicas#page'"
   ]
  },
  {
   "cell_type": "code",
   "execution_count": 121,
   "metadata": {},
   "outputs": [],
   "source": [
    "# Passa a url para o driver\n",
    "driver.get(search_url)"
   ]
  },
  {
   "cell_type": "code",
   "execution_count": 122,
   "metadata": {},
   "outputs": [],
   "source": [
    "# scroll down to bottom of the page\n",
    "driver.execute_script(\"window.scrollTo(0, document.body.scrollHeight);\")"
   ]
  },
  {
   "cell_type": "code",
   "execution_count": 123,
   "metadata": {},
   "outputs": [
    {
     "name": "stdout",
     "output_type": "stream",
     "text": [
      "A sua pesquisa devolveu 22 Resultados\n"
     ]
    }
   ],
   "source": [
    "# find class=returned_results\n",
    "results = driver.find_element(By.CLASS_NAME, 'returned_results').text\n",
    "print(results)"
   ]
  },
  {
   "cell_type": "code",
   "execution_count": 124,
   "metadata": {},
   "outputs": [
    {
     "name": "stdout",
     "output_type": "stream",
     "text": [
      "22\n"
     ]
    }
   ],
   "source": [
    "# results são apenas os dígitos na string results\n",
    "results = int(''.join(filter(str.isdigit, results)))\n",
    "print(results)"
   ]
  },
  {
   "cell_type": "code",
   "execution_count": 125,
   "metadata": {},
   "outputs": [],
   "source": [
    "# função para dados gerais de cada resultado\n",
    "def get_data(driver):\n",
    "    links = []\n",
    "    navlist = driver.find_elements(By.CLASS_NAME, 'navlist_tr')\n",
    "    for nav in navlist:\n",
    "        title = nav.find_element(By.TAG_NAME, 'h3').text\n",
    "        link = nav.find_element(By.TAG_NAME, 'a').get_attribute('href')\n",
    "        links.append(link)\n",
    "    return links"
   ]
  },
  {
   "cell_type": "code",
   "execution_count": 126,
   "metadata": {},
   "outputs": [
    {
     "name": "stdout",
     "output_type": "stream",
     "text": [
      "O Brasil : orgão dos interesses brasileiros em Portugal / dir. José Pereira Cardoso Júnior. - Lisboa : Almeida Campos, 1913-1914\n",
      "Jornal do Brasil / propr. Mendes & Companhia ; dir. Jayme Victor e Visconde de S. Boaventura. - Lisboa : [s.n.], 1897-1898\n",
      "Almanach illustrado do Brasil Portugal. - Lisboa : Typ. da Companhia Nacional Editora, 1900-1902\n",
      "O globo : hebdomadário de cultura, doutrina e informação / dir. e ed. Jaime Brasil, António Fagim. - Lisboa : J. Brasil, 1930\n",
      "A republica portugueza. - Rio de Janeiro : [s.n.], 1895\n",
      "O mensal / red. Leon Renault e Alberto Delpino. - Barbacena : Typ. Mattoso, 1897\n",
      "Revista illustrada / publicada por. Angelo Agostini. - Rio de Janeiro : Angelo Agostini, 1876-1898\n",
      "Relatorio do Gabinete Portuguez de Leitura na Bahia apresentado à assembleia geral ordinária em 24 d.... - Bahia : Imprensa Económica, 1874-\n",
      "Portugal na guerra : revista patriotica illustrada / red. Custodio Martins, R. Pinheiro. - Rio de Janeiro : [s.n.], 1916\n",
      "Aurora pernambucana / [red. Rodrigo da Fonseca Magalhães ; ed. Luiz do Rego Barreto]. - Pernambuco : na Officina do Trem de Pernambuco, 1821\n",
      "O amigo do Rei e da Nação. - Rio de Janeiro : na Typ. Real, 1821\n",
      "Relatório e contas da benemerita Sociedade Portugueza Caixa de Soccorros de D. Pedro V. - Rio de Janeiro : Typ. do Jornal do Commercio, [18--]\n",
      "Gazeta do Pará : papeis relativos aos acontecimentos do Pará. - Pará : [s.n. ;, 1821\n",
      "A Exposição de 1922 : 1822-1922 / orgão de propriedade da Commissão Organizadora. - [Rio de Janeiro] : Comissão Organizadora, 1922\n",
      "Portugal-França : numero unico organizado pela direcção de A Fé Catholica em beneficio das Victimas das inundações de Paris / dir. Jean de France ; red. princ. Syllla Junior ; Empreza do Guia do Commercio e Industria de Portugal e Brazil. - Porto : Empreza do Guia do Commercio e Industria de Portugal e Brazil, 1910\n",
      "Portugal e Brazil / ed. Luiz Augusto de Amorim. - Lisboa : Luiz Augusto de Amorim, 1898-1899\n",
      "Portugal e Brazil : orgão da colonia brazileira em Portugal / dir. Heitor de Macedo. - Lisboa : [s.n.], 1895\n",
      "Revista da América. - Lisboa : Typ. do jornal \"O Brasil\", [1876]\n",
      "A illustração : revista quinzenal para Portugal e Brasil / dir. Mariano Pina. - Paris : [s.n.], 1884-1892\n",
      "Revista de instrucção publica para Portugal e Brazil / red. Antonio Feliciano de Castilho e Luiz Filippe Leite. - Lisboa : Imprensa União Typographica, 1857-1858\n",
      "Sumário das decisões do Conselho de Ministros / Secretaria de Estado da Informação. - Lisboa : S. E. I., 1971-\n",
      "Camões / dir. Oscar Lopes. - Lisboa : Caminho, 1980-\n"
     ]
    }
   ],
   "source": [
    "#call function\n",
    "links = get_data(driver)"
   ]
  },
  {
   "cell_type": "code",
   "execution_count": 127,
   "metadata": {},
   "outputs": [
    {
     "data": {
      "text/plain": [
       "22"
      ]
     },
     "execution_count": 127,
     "metadata": {},
     "output_type": "execute_result"
    }
   ],
   "source": [
    "len(links)"
   ]
  },
  {
   "cell_type": "code",
   "execution_count": 128,
   "metadata": {},
   "outputs": [],
   "source": [
    "driver.quit()\n"
   ]
  },
  {
   "cell_type": "code",
   "execution_count": null,
   "metadata": {},
   "outputs": [],
   "source": []
  }
 ],
 "metadata": {
  "kernelspec": {
   "display_name": "Python 3",
   "language": "python",
   "name": "python3"
  },
  "language_info": {
   "codemirror_mode": {
    "name": "ipython",
    "version": 3
   },
   "file_extension": ".py",
   "mimetype": "text/x-python",
   "name": "python",
   "nbconvert_exporter": "python",
   "pygments_lexer": "ipython3",
   "version": "3.10.6"
  },
  "orig_nbformat": 4
 },
 "nbformat": 4,
 "nbformat_minor": 2
}
