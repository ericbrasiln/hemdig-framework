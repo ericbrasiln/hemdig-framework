{
 "cells": [
  {
   "attachments": {},
   "cell_type": "markdown",
   "metadata": {},
   "source": [
    "# 4.3. Análise dos dados de periódicos da Hemeroteca Municipal de Lisboa\n",
    "\n",
    "Nesse notebook, vamos limpar e apresentar os dados coletados na HML. Buscaremos compreender o escopo do acervo digitalizado e ao mesmo tempo apresentar suas características gerais.\n"
   ]
  },
  {
   "cell_type": "markdown",
   "metadata": {},
   "source": [
    "```{admonition} Atenção\n",
    ":class: attention\n",
    "Os dados da HML são escassos, visto que seu sítio não apresenta uma política de dados abertos. Os dados apresentados e analisados aqui são fruto de uma coleta realizada pelo [scraper_hml](../../../ferramentas-metodologicas/scrapers/HML/scraper_hml.ipynb) e representam um esforço da pesquisa, mas que não são suficientes para uma análise mais profunda, apresentando dados incompletos e insuficientes para uma análise mais profunda.\n",
    "```"
   ]
  },
  {
   "cell_type": "markdown",
   "metadata": {},
   "source": [
    "```{admonition} Atenção\n",
    ":class: attention\n",
    "Atualmente está em desenvolvimento uma nova verão da HML, e sua versão beta pode ser acessada [aqui](https://hemerotecadigital.lisboa.pt/) . A nova versão apresenta uma interface mais moderna e intuitiva, com mais recursos de filtros e busca. No entanto, a nova versão ainda não foi oficialmente lançada e não contém todo o acervo digitalizado da HML. Portanto, a análise aqui apresentada se refere à versão atual da HML, que pode ser acessada [aqui](http://hemerotecadigital.cm-lisboa.pt/).\n",
    "```"
   ]
  },
  {
   "attachments": {},
   "cell_type": "markdown",
   "metadata": {},
   "source": [
    "## Coleta de dados\n",
    "\n",
    "Os dados foram coletados utilizando o [scraper_hml](../../../ferramentas-metodologicas/scrapers/HML/scraper_hml.ipynb), que é um scraper desenvolvido em Python utilizando a biblioteca [BeautifulSoup](https://beautiful-soup-4.readthedocs.io/en/latest/). O scraper foi desenvolvido para coletar os dados de todos os periódicos disponíveis na HML, e os dados coletados foram salvos em um arquivo CSV.\n",
    "\n",
    "A estrutura do HTML da HML não possui uma estrutura bem definida, e com isso há uma grande variação entre as páginas dos diretórios. Isso impossibilitou o desenvolvimento de um programa para coleta de dados mais robusto. A opção mais eficiente e possível de ser desenvolvida nessa pesquisa, foi criar um scraper para coletar as informações contidas nos metadados de cada página dos periódicos. Assim, coletamos o texto presente na tag `<title>` aninhada em `<head>`. Essa escolha se justifica após uma análise geral da estrutura das páginas e de constatar que essa tag continha as informações mais relevantes para a pesquisa: sempre constando o título do periódico e comummente o local e o período de publicação. \n",
    "\n",
    "Outro dado possível foi a lista de arquivos em pdf em cada página. Para isso buscamos todos os links presentes em tags `<a>` que continham o padrão `pdf` no atributo `href`. O mesmo foi realizado para as fichas históricas.\n",
    "\n",
    "Entretanto, é importante destacar, que esses dados também oscilam e carecem de padrão, o que demandou um esforço na sua limpeza e tentativa de padronização. Para maiores informações sobre a coleta e limpeza desses dados, consulte o [scraper_hml](../../../ferramentas-metodologicas/scrapers/HML/scraper_hml.ipynb).\n",
    "\n",
    "Os dados coletados são:\n",
    "\n",
    "- **Título**: Título do periódico\n",
    "- **Autoria**: Autoria do periódico\n",
    "- **Período**: Período disponível do periódico\n",
    "- **Link**: Link para o periódico\n",
    "- **Fichas Históricas**: Link para as fichas históricas do periódico\n",
    "- **Quantidade de PDF**: Quantidade de PDFs disponíveis do periódico\n",
    "- **Links dos PDFs**: Lista com links para os PDFs disponíveis do periódico"
   ]
  },
  {
   "attachments": {},
   "cell_type": "markdown",
   "metadata": {},
   "source": [
    "## Apresentação dos dados"
   ]
  },
  {
   "attachments": {},
   "cell_type": "markdown",
   "metadata": {},
   "source": [
    "Primeiramente, vamos importar as bibliotecas necessárias para a análise."
   ]
  },
  {
   "cell_type": "code",
   "execution_count": 1,
   "metadata": {},
   "outputs": [],
   "source": [
    "# importar bibliotecas\n",
    "import pandas as pd\n",
    "import plotly.express as px\n",
    "import plotly.io as pio\n",
    "import plotly.offline as py\n",
    "pio.renderers.default = \"notebook\""
   ]
  },
  {
   "attachments": {},
   "cell_type": "markdown",
   "metadata": {},
   "source": [
    "Vamos ler o arquivo CSV com os dados coletados e apresentar os dados em um DataFrame."
   ]
  },
  {
   "cell_type": "code",
   "execution_count": 3,
   "metadata": {},
   "outputs": [],
   "source": [
    "# abrir arquivo csv e criar dataframe\n",
    "df = pd.read_csv('../../../data/hml/hemeroteca_lisboa.csv')"
   ]
  },
  {
   "cell_type": "code",
   "execution_count": 4,
   "metadata": {},
   "outputs": [
    {
     "data": {
      "text/html": [
       "<div>\n",
       "<style scoped>\n",
       "    .dataframe tbody tr th:only-of-type {\n",
       "        vertical-align: middle;\n",
       "    }\n",
       "\n",
       "    .dataframe tbody tr th {\n",
       "        vertical-align: top;\n",
       "    }\n",
       "\n",
       "    .dataframe thead th {\n",
       "        text-align: right;\n",
       "    }\n",
       "</style>\n",
       "<table border=\"1\" class=\"dataframe\">\n",
       "  <thead>\n",
       "    <tr style=\"text-align: right;\">\n",
       "      <th></th>\n",
       "      <th>Título</th>\n",
       "      <th>Anos</th>\n",
       "      <th>Local</th>\n",
       "      <th>Fichas Históricas</th>\n",
       "      <th>Quantidade de PDF</th>\n",
       "      <th>Links dos PDFs</th>\n",
       "    </tr>\n",
       "  </thead>\n",
       "  <tbody>\n",
       "    <tr>\n",
       "      <th>0</th>\n",
       "      <td>Academia Portuguesa</td>\n",
       "      <td>['1933']</td>\n",
       "      <td>Sem local</td>\n",
       "      <td>Sem Ficha Histórica</td>\n",
       "      <td>11</td>\n",
       "      <td>['https://hemerotecadigital.cm-lisboa.pt/Perio...</td>\n",
       "    </tr>\n",
       "    <tr>\n",
       "      <th>1</th>\n",
       "      <td>O Académico: publicação bi-semanal redigida po...</td>\n",
       "      <td>[]</td>\n",
       "      <td>Sem local</td>\n",
       "      <td>Sem Ficha Histórica</td>\n",
       "      <td>1</td>\n",
       "      <td>['https://hemerotecadigital.cm-lisboa.pt/Perio...</td>\n",
       "    </tr>\n",
       "    <tr>\n",
       "      <th>2</th>\n",
       "      <td>O academico: revista quinzenal litteraria</td>\n",
       "      <td>['1878']</td>\n",
       "      <td>Sem local</td>\n",
       "      <td>https://hemerotecadigital.cm-lisboa.pt/Periodi...</td>\n",
       "      <td>6</td>\n",
       "      <td>['https://hemerotecadigital.cm-lisboa.pt/Perio...</td>\n",
       "    </tr>\n",
       "    <tr>\n",
       "      <th>3</th>\n",
       "      <td>O Académico: semanário ilustrado</td>\n",
       "      <td>['1902-1903']</td>\n",
       "      <td>Sem local</td>\n",
       "      <td>https://hemerotecadigital.cm-lisboa.pt/Periodi...</td>\n",
       "      <td>8</td>\n",
       "      <td>['https://hemerotecadigital.cm-lisboa.pt/Perio...</td>\n",
       "    </tr>\n",
       "    <tr>\n",
       "      <th>4</th>\n",
       "      <td>AccaoColonial_NComemorativo</td>\n",
       "      <td>['1934']</td>\n",
       "      <td>Sem local</td>\n",
       "      <td>Sem Ficha Histórica</td>\n",
       "      <td>1</td>\n",
       "      <td>['https://hemerotecadigital.cm-lisboa.pt/Perio...</td>\n",
       "    </tr>\n",
       "  </tbody>\n",
       "</table>\n",
       "</div>"
      ],
      "text/plain": [
       "                                              Título           Anos  \\\n",
       "0                               Academia Portuguesa        ['1933']   \n",
       "1  O Académico: publicação bi-semanal redigida po...             []   \n",
       "2         O academico: revista quinzenal litteraria        ['1878']   \n",
       "3                  O Académico: semanário ilustrado   ['1902-1903']   \n",
       "4                        AccaoColonial_NComemorativo       ['1934']   \n",
       "\n",
       "       Local                                  Fichas Históricas  \\\n",
       "0  Sem local                                Sem Ficha Histórica   \n",
       "1  Sem local                                Sem Ficha Histórica   \n",
       "2  Sem local  https://hemerotecadigital.cm-lisboa.pt/Periodi...   \n",
       "3  Sem local  https://hemerotecadigital.cm-lisboa.pt/Periodi...   \n",
       "4  Sem local                                Sem Ficha Histórica   \n",
       "\n",
       "   Quantidade de PDF                                     Links dos PDFs  \n",
       "0                 11  ['https://hemerotecadigital.cm-lisboa.pt/Perio...  \n",
       "1                  1  ['https://hemerotecadigital.cm-lisboa.pt/Perio...  \n",
       "2                  6  ['https://hemerotecadigital.cm-lisboa.pt/Perio...  \n",
       "3                  8  ['https://hemerotecadigital.cm-lisboa.pt/Perio...  \n",
       "4                  1  ['https://hemerotecadigital.cm-lisboa.pt/Perio...  "
      ]
     },
     "execution_count": 4,
     "metadata": {},
     "output_type": "execute_result"
    }
   ],
   "source": [
    "# visualizar as primeiras linhas do dataframe\n",
    "df.head()"
   ]
  },
  {
   "cell_type": "code",
   "execution_count": 5,
   "metadata": {},
   "outputs": [
    {
     "data": {
      "text/plain": [
       "['Título',\n",
       " 'Anos',\n",
       " 'Local',\n",
       " 'Fichas Históricas',\n",
       " 'Quantidade de PDF',\n",
       " 'Links dos PDFs']"
      ]
     },
     "execution_count": 5,
     "metadata": {},
     "output_type": "execute_result"
    }
   ],
   "source": [
    "# mostrar colunas do dataframe\n",
    "df.columns.tolist()"
   ]
  },
  {
   "attachments": {},
   "cell_type": "markdown",
   "metadata": {},
   "source": [
    "### Quantidade de itens no acervo\n",
    "\n",
    "Vamos verificar a quantidade de itens no acervo da HML, contando os valores únicos da coluna `Título`."
   ]
  },
  {
   "cell_type": "code",
   "execution_count": 6,
   "metadata": {},
   "outputs": [
    {
     "data": {
      "text/plain": [
       "349"
      ]
     },
     "execution_count": 6,
     "metadata": {},
     "output_type": "execute_result"
    }
   ],
   "source": [
    "# contar valores únicos da coluna 'Título' e mostrar a soma\n",
    "df['Título'].nunique()"
   ]
  },
  {
   "attachments": {},
   "cell_type": "markdown",
   "metadata": {},
   "source": [
    "### Local\n",
    "\n",
    "Mostrar itens que possuem identificação de local."
   ]
  },
  {
   "cell_type": "code",
   "execution_count": 7,
   "metadata": {},
   "outputs": [
    {
     "data": {
      "text/plain": [
       "Sem local                  260\n",
       "Lisboa                      57\n",
       "Coimbra                      9\n",
       "Rio de Janeiro               6\n",
       "Porto                        5\n",
       "Paris                        3\n",
       "Lisboa e Rio de Janeiro      1\n",
       "Praia                        1\n",
       "Lourenço Marques             1\n",
       "Nova Goa                     1\n",
       "Washington                   1\n",
       "Luanda                       1\n",
       "Díli                         1\n",
       "Bolama                       1\n",
       "Macau                        1\n",
       "Madrid                       1\n",
       "Name: Local, dtype: int64"
      ]
     },
     "execution_count": 7,
     "metadata": {},
     "output_type": "execute_result"
    }
   ],
   "source": [
    "# contar cada valor na coluna 'Local'\n",
    "df['Local'].value_counts()"
   ]
  },
  {
   "attachments": {},
   "cell_type": "markdown",
   "metadata": {},
   "source": [
    "### Fichas Históricas\n",
    "\n",
    "Vamos avaliar a quantidade de itens no acervo que não possuem fichas históricas e a porcentagem de itens que possuem fichas históricas."
   ]
  },
  {
   "cell_type": "code",
   "execution_count": 8,
   "metadata": {},
   "outputs": [
    {
     "data": {
      "text/plain": [
       "147"
      ]
     },
     "execution_count": 8,
     "metadata": {},
     "output_type": "execute_result"
    }
   ],
   "source": [
    "# itens sem ficha histórica\n",
    "df['Fichas Históricas'].value_counts()['Sem Ficha Histórica']"
   ]
  },
  {
   "cell_type": "code",
   "execution_count": 9,
   "metadata": {},
   "outputs": [
    {
     "data": {
      "text/plain": [
       "202"
      ]
     },
     "execution_count": 9,
     "metadata": {},
     "output_type": "execute_result"
    }
   ],
   "source": [
    "# cálculo de itens com ficha histórica\n",
    "com_ficha = df['Título'].nunique()-df['Fichas Históricas'].value_counts()['Sem Ficha Histórica']\n",
    "com_ficha"
   ]
  },
  {
   "cell_type": "code",
   "execution_count": 10,
   "metadata": {},
   "outputs": [
    {
     "data": {
      "text/plain": [
       "57.879656160458445"
      ]
     },
     "execution_count": 10,
     "metadata": {},
     "output_type": "execute_result"
    }
   ],
   "source": [
    "# porcentagem de itens com ficha histórica\n",
    "porcentagem = com_ficha/df['Título'].nunique()*100\n",
    "porcentagem"
   ]
  },
  {
   "attachments": {},
   "cell_type": "markdown",
   "metadata": {},
   "source": [
    "Ou seja, entre os 349 itens no acervo, 202 possuem fichas históricas, o que representa 57,88% do acervo. Enquanto 147 itens não possuem fichas históricas, o que representa 42,12% do acervo."
   ]
  },
  {
   "attachments": {},
   "cell_type": "markdown",
   "metadata": {},
   "source": [
    "### Datas\n",
    "\n",
    "Em relação às datas, teremos menos condições de realizar avaliações mais profundas, visto que os dados coletados carecem de padronização e estão incompletos."
   ]
  }
 ],
 "metadata": {
  "kernelspec": {
   "display_name": "Python 3",
   "language": "python",
   "name": "python3"
  },
  "language_info": {
   "codemirror_mode": {
    "name": "ipython",
    "version": 3
   },
   "file_extension": ".py",
   "mimetype": "text/x-python",
   "name": "python",
   "nbconvert_exporter": "python",
   "pygments_lexer": "ipython3",
   "version": "3.10.12"
  },
  "orig_nbformat": 4
 },
 "nbformat": 4,
 "nbformat_minor": 2
}
