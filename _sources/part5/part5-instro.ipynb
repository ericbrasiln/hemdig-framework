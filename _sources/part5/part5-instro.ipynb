{
 "cells": [
  {
   "cell_type": "markdown",
   "metadata": {},
   "source": [
    "# Em que consiste a fase 5? "
   ]
  },
  {
   "cell_type": "markdown",
   "metadata": {},
   "source": [
    "## Consolidação da documentação\n",
    "\n",
    "## Revisão dos dados e metadados\n",
    "\n",
    "## # Publicação dos dados"
   ]
  },
  {
   "cell_type": "markdown",
   "metadata": {},
   "source": [
    "![Diagrama da quinta fase](../assets/images/5fase_mermaid-diagram-2023-08-21-225829.png)"
   ]
  }
 ],
 "metadata": {
  "language_info": {
   "name": "python"
  },
  "orig_nbformat": 4
 },
 "nbformat": 4,
 "nbformat_minor": 2
}
