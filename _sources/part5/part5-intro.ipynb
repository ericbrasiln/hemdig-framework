{
 "cells": [
  {
   "cell_type": "markdown",
   "metadata": {},
   "source": [
    "# Em que consiste a quinta fase? "
   ]
  },
  {
   "cell_type": "markdown",
   "metadata": {},
   "source": [
    "Nesta fase final do framework, objetivamos realizar a revisão geral da documentação e dos metadados e da estrutura dos dados, assim como realizar a publicação dos dados da pesquisa.\n",
    "\n",
    "É fundamental reforçar que aqui estamos apenas realizando a revisão e consolidação de um processo contínuo que foi elaborado em linhas gerais na primeira fase da pesquisa e que foi sendo executado e aprimorado ao longo das fases anterior.\n",
    "\n",
    "entendemos que o processo de documentação e registro metodológico deve ser realizado concomitantemente aos processos de seleção, coleta, tratamento e análise dos dados. Isto deve ser feito de forma transparente e padronizada, respeitando critérios claramente definidos e publicizados.\n",
    "\n",
    "Sempre que necessário recomendamos retorno e leitura da fase 1 do framework, onde apontamos os principais aspectos a serem considerados na documentação e registro metodológico.\n",
    "\n",
    "Nos próximos capítulos apontamos alguns aspectos que devem ser revisados e possibilidades de armazenamento e publicação dos dados."
   ]
  },
  {
   "cell_type": "markdown",
   "metadata": {},
   "source": [
    "```{figure} ../assets/images/5fase_mermaid-diagram-2023-08-21-225829.png\n",
    ":name: diagram-5\n",
    ":align: center\n",
    "\n",
    "Diagrama da quinta fase\n",
    "```"
   ]
  }
 ],
 "metadata": {
  "language_info": {
   "name": "python"
  },
  "orig_nbformat": 4
 },
 "nbformat": 4,
 "nbformat_minor": 2
}
