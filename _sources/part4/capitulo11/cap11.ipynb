{
 "cells": [
  {
   "cell_type": "markdown",
   "id": "2a31bae7",
   "metadata": {},
   "source": [
    "# 11. Lições do Programming Historian para Reconhecimento Ótico de Caracteres (OCR)\n",
    "\n",
    "Essas lições são úteis para a compreensão de técnicas e funcionamento geral de OCR e OLR, assim como a implementação de limpeza de dados com expressões regulares. Por isso, esse é um bom ponto de partida para quem está começando a trabalhar com OCR e OLR.\n",
    "\n",
    "Indicamos que, antes de começar a trabalhar com os programas e ferramentas listadas nesse diretório, você leia e pratique as lições abaixo."
   ]
  },
  {
   "cell_type": "markdown",
   "id": "c996834a",
   "metadata": {},
   "source": [
    "## [Working with batches of PDF files](https://programminghistorian.org/en/lessons/working-with-batches-of-pdf-files), Moritz Mähr.\n",
    "\n",
    "Estão lição possui apenas versão em inglês. Ela ensina a trabalhar com arquivos PDF em lote, ou seja, com vários arquivos PDF ao mesmo tempo. Ela é útil para quem precisa trabalhar com muitos arquivos PDF, mas não quer ter que abrir um por um.\n",
    "\n",
    ">\"Learn how to perform OCR and text extraction with free command line tools like Tesseract and Poppler>> and how to get an overview of large numbers of PDF documents using topic modeling.\""
   ]
  },
  {
   "cell_type": "markdown",
   "id": "fa09be24",
   "metadata": {},
   "source": [
    "### Uso da lição dentro do Hemdig framework\n",
    "\n",
    "Essa lição é útil para:\n",
    "\n",
    "- Reconhecimento de caracteres em massa de arquivos pdf (com ou sem OCR prévio).\n",
    "- Transformação desses dados em texto simples (txt);\n",
    "- Coleta de imagens de PDFs;\n",
    "- Reunir PDFs;\n",
    "\n",
    "É uma lição simples e útil principalmente para *datasets* de pdfs com qualidade alta, sem layouts complexos. É uma boa introdução para compreender o funcionamento de OCR com ferramentas de linha de comando.\n",
    "\n",
    "A lição também apresenta como aplicar técnicas de modelagem de tópicos, mas que não serão utilizadas nessa pesquisa."
   ]
  },
  {
   "cell_type": "markdown",
   "id": "35a97459",
   "metadata": {},
   "source": [
    "## [Generating an Ordered Data Set from an OCR Text File](https://programminghistorian.org/en/lessons/generating-an-ordered-data-set-from-an-OCR-text-file), Jon Crump.\n",
    "\n",
    "Esta lição possui versões em inglês (original) e francês. Nela você aprenderá a criar um dicionário pythonpara ordenar os dados de um arquivo de texto gerado por OCR.\n",
    "\n",
    ">\"This tutorial illustrates strategies for taking raw OCR output from a scanned text, parsing it to isolate and correct essential elements of metadata, and generating an ordered data set (a python dictionary) from it.\"\n",
    "\n",
    "### Uso da lição dentro do Hemdig framework\n",
    "\n",
    "- A lição fornece uma boa lista de exemplos úteis para a limpeza do texto gerado por OCR.\n",
    "- Tutorial de criação e aplicação de uma função de distância de Levenshtein para correção de erros de OCR (útil para  limpar cabeçalhos e rodapés de páginas).\n",
    "- Separação das páginas em grupos (chunks) e iteração sobre elas.\n",
    "- Normalização de padrões.\n",
    "- Criação de um dicionário python para armazenar os dados."
   ]
  },
  {
   "cell_type": "markdown",
   "id": "9d23dbd0",
   "metadata": {},
   "source": [
    "## [Cleaning OCR’d text with Regular Expressions](https://programminghistorian.org/en/lessons/cleaning-ocrd-text-with-regular-expressions), Laura Turner O'Hara.\n",
    "\n",
    "Lição importante para aplicação de expressões regulares para limpeza de dados. A lição possui versão apenas em inglês (original).\n",
    "\n",
    ">\"Optical Character Recognition (OCR)—the conversion of scanned images to machine-encoded text—has proven a godsend for historical research. This lesson will help you clean up OCR’d text to make it more usable.\"\n",
    "\n",
    "### Uso da lição dentro do Hemdig framework\n",
    "\n",
    "- Uso de expressões regulares para limpeza de dados."
   ]
  },
  {
   "cell_type": "markdown",
   "id": "7b619eb6",
   "metadata": {},
   "source": [
    "## [Understanding Regular Expressions](https://programminghistorian.org/en/lessons/understanding-regular-expressions), Doug Knox.\n",
    "\n",
    "Lição que apresenta de forma mais detalhada o funcionamento de expressões regulares. A lição possui versões em inglês (original) e francês.\n",
    "\n",
    ">\"In this lesson, we will use advanced find-and-replace capabilities in a word processing application in order to make use of structure in a brief historical document that is essentially a table in the form of prose.\"\n",
    "\n",
    "### Uso da lição dentro do Hemdig framework\n",
    "\n",
    "- Explicações mais detalhadas sobre o funcionamento de expressões regulares."
   ]
  },
  {
   "cell_type": "markdown",
   "id": "b2bc114c",
   "metadata": {},
   "source": [
    "## [OCR and Machine Translation](https://programminghistorian.org/en/lessons/OCR-and-Machine-Translation), Andrew Akhlaghi.\n",
    "\n",
    "Essa lição foi escrita originalmente em inglês e atualemnte possui um processo de revisão em andamento, que pode ser [acessado aqui](https://github.com/programminghistorian/ph-submissions/issues/371).\n",
    "\n",
    ">\"Esta lição ensinará a converter imagens de textos em ficheiros textuais, bem como a traduzir estes ficheiros. A lição também ensinará a organizar e editar imagens para tornar mais fácil e precisa a conversão e tradução de pastas inteiras de ficheiros textuais. A lição conclui com uma discussão sobre as deficiências da tradução automática e como superá-las.\"\n",
    "\n",
    "### Uso da lição dentro do Hemdig framework\n",
    "\n",
    "A lição apresenta como:\n",
    "\n",
    "- Tratar imagens com ImageMagick\n",
    "- Converter PDFs em formato de imagem TIFF. \n",
    "- Traduzir textos com o [Translate Shell](https://www.soimort.org/translate-shell/#translate-shell)."
   ]
  },
  {
   "cell_type": "markdown",
   "id": "5bfccc02",
   "metadata": {},
   "source": [
    "## [OCR with Google Vision API and Tesseract](https://programminghistorian.org/en/lessons/ocr-with-google-vision-and-tesseract), Isabelle Gribomont.\n",
    "\n",
    "Essa lição também conta com um processo de tradução em andamento, que pode ser [acessado aqui](https://github.com/programminghistorian/ph-submissions/issues/575), e sua versão original foi escrita em inglês.\n",
    "\n",
    ">O Google Vision e o Tesseract são ambas populares e poderosas ferramentas de OCR, mas cada uma tem as suas limitações. Nesta lição, será explicado como combinar os dois para aproveitar ao máximo os seus pontos fortes individuais e obter resultados de OCR ainda mais precisos.\n",
    "\n",
    "### Uso da lição dentro do Hemdig framework\n",
    "\n",
    "A lição apresenta:\n",
    "\n",
    "- Uma comparação de vantagens desvantagens entre o Google Vision e o Tesseract.\n",
    "- como usar o Google Vision e o Tesseract em conjunto para obter melhores resultados de OCR."
   ]
  }
 ],
 "metadata": {
  "jupytext": {
   "cell_metadata_filter": "-all",
   "main_language": "python",
   "notebook_metadata_filter": "-all"
  },
  "language_info": {
   "name": "python"
  }
 },
 "nbformat": 4,
 "nbformat_minor": 5
}
