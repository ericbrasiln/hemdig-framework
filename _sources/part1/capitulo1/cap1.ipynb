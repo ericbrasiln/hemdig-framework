{
 "cells": [
  {
   "cell_type": "markdown",
   "metadata": {},
   "source": [
    "# 1. Revisão da Literatura\n",
    "\n",
    "A primeira etapa da pesquisa com periódicos digitalizados, assim como qualquer outro tema, deve iniciar com uma revisão da literatura. Buscamos aqui apontar tanto algumas estratégias para a realização de uma revisão eficiente quanto disponibilizamos uma biblioteca de referências atualizadas sobre temas relacionados, devidamente organizados e etiquetados.\n",
    "\n",
    "Para gerenciamento de ambos os processos, utilizamos o software [Zotero](https://www.zotero.org/), que é um gerenciador de referências gratuito e de código aberto. O Zotero permite que você colete, organize, cite e compartilhe pesquisas. Ele possui uma extensão para o navegador que permite que você colete referências de sites e bases de dados com um clique. Além disso, ele possui um plugin para Word, LibreOffice e GoogleDocs que permite que você insira citações e gere bibliografias automaticamente.\n",
    "\n",
    "Com o Zotero também podemos criar bibliotecas públicas on-line, o que permite compartilhar nosso trabalho e colaborar com outras pessoas.\n",
    "\n",
    "Para mais informações sobre instalação e utilização do Zotero, indicamos os vídeos a seguir:"
   ]
  },
  {
   "cell_type": "markdown",
   "metadata": {},
   "source": [
    "## Zotero: Instalação e uso\n",
    "\n",
    "### Zotero do Zero - Tutorial de instalação do Zotero no Windows 10"
   ]
  },
  {
   "cell_type": "code",
   "execution_count": 3,
   "metadata": {
    "tags": [
     "remove-input"
    ]
   },
   "outputs": [
    {
     "data": {
      "text/html": [
       "\n",
       "        <iframe\n",
       "            width=\"560\"\n",
       "            height=\"315\"\n",
       "            src=\"https://www.youtube.com/embed/CPdhyKboKC0?frameborder=0&allowfullscreen=True\"\n",
       "            frameborder=\"0\"\n",
       "            allowfullscreen\n",
       "            \n",
       "        ></iframe>\n",
       "        "
      ],
      "text/plain": [
       "<IPython.lib.display.IFrame at 0x7fce2c372110>"
      ]
     },
     "execution_count": 3,
     "metadata": {},
     "output_type": "execute_result"
    }
   ],
   "source": [
    "from IPython.display import IFrame\n",
    "\n",
    "IFrame(src='https://www.youtube.com/embed/CPdhyKboKC0', width=560, height=315, frameborder=\"0\", allowfullscreen=True)"
   ]
  },
  {
   "cell_type": "markdown",
   "metadata": {},
   "source": [
    "### Workshop de Zotero - Ferramentas Digitais e a pesquisa em Humanidades. "
   ]
  },
  {
   "cell_type": "code",
   "execution_count": 4,
   "metadata": {
    "tags": [
     "remove-input"
    ]
   },
   "outputs": [
    {
     "data": {
      "text/html": [
       "\n",
       "        <iframe\n",
       "            width=\"560\"\n",
       "            height=\"315\"\n",
       "            src=\"https://www.youtube.com/embed/I5ohkh5d51Y?frameborder=0&allowfullscreen=True\"\n",
       "            frameborder=\"0\"\n",
       "            allowfullscreen\n",
       "            \n",
       "        ></iframe>\n",
       "        "
      ],
      "text/plain": [
       "<IPython.lib.display.IFrame at 0x7fce2c3717e0>"
      ]
     },
     "execution_count": 4,
     "metadata": {},
     "output_type": "execute_result"
    }
   ],
   "source": [
    "from IPython.display import IFrame\n",
    "\n",
    "IFrame(src='https://www.youtube.com/embed/I5ohkh5d51Y', width=560, height=315, frameborder=\"0\", allowfullscreen=True)\n"
   ]
  }
 ],
 "metadata": {
  "kernelspec": {
   "display_name": "Python 3",
   "language": "python",
   "name": "python3"
  },
  "language_info": {
   "codemirror_mode": {
    "name": "ipython",
    "version": 3
   },
   "file_extension": ".py",
   "mimetype": "text/x-python",
   "name": "python",
   "nbconvert_exporter": "python",
   "pygments_lexer": "ipython3",
   "version": "3.10.12"
  },
  "orig_nbformat": 4
 },
 "nbformat": 4,
 "nbformat_minor": 2
}
