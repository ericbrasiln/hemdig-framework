{
 "cells": [
  {
   "cell_type": "markdown",
   "id": "30cf4c67",
   "metadata": {},
   "source": [
    "![logo](./assets/images/logos/logo-lg.svg)"
   ]
  },
  {
   "cell_type": "markdown",
   "id": "b0beb840",
   "metadata": {},
   "source": [
    "# HEMDIG FRAMEWORK\n",
    "\n",
    "**Métodos, ferramentas e repositórios digitais em português: um framework para a pesquisa em periódicos digitalizados**\n",
    "\n",
    "Criado por [_Eric Brasil_](https://ericbrasiln.github.io) // Impulsionado pelo [Jupyter Book](https://jupyterbook.org/)"
   ]
  },
  {
   "cell_type": "markdown",
   "id": "e20b20e1",
   "metadata": {},
   "source": [
    "Projeto da pesquisa de pós-doutorado de [Eric Brasil](https://ericbrasiln.github.io) realizada no âmbito do *DH_Lab* (FSCH-NOVA) sob supervisão de Daniel Alves.\n",
    "\n",
    "Período de realização: **outubro de 2022 a outubro de 2023**\n",
    "\n",
    "*Resumo*: O objetivo do projeto é analisar a operação historiográfica relacionada ao processo de selecionar, recolher e organizar fontes primárias por meio de ferramentas e dados digitais. Terá como foco repositórios e interfaces gráficas que permitem o acesso a periódicos da imprensa de língua portuguesa digitalizados, com destaque para a Hemeroteca Digital Brasileira e a coleção de periódicos da Biblioteca Nacional Digital de Portugal. Como resultado pretende-se produzir um *framework* (enquadramento dos processos de pesquisa) digital que englobe as etapas da pesquisa histórica para esse tipo de fonte. O *framework* reunirá uma biblioteca de referências bibliográficas; ferramentas para registro metodológico e organização dos dados coletados; documentação e tutoriais dos acervos e suas interfaces gráficas, das ferramentas para reconhecimento ótico de caracteres e reconhecimento automatizado de layout voltados para documentos históricos.\n"
   ]
  },
  {
   "cell_type": "markdown",
   "id": "8a14159d",
   "metadata": {},
   "source": [
    "## Diagrama do framework\n",
    "\n",
    "[![](https://mermaid.ink/img/pako:eNpdkcFO4zAQhl_FGqmXKkFJSlrqAxK0IJBYCRVOKx86JFNq4diV49DtRnmaPSAh7WnfgL7YOonKLvXN9vd5PP_UkJmcgEMYhkI76RRxdkPFXD6za4sFbY19Ebq7HQxqqaXjrBawUmabrdE6Ad1-7Qp1h0-kyvZghaqkpmHNYCC00J8wu1sIzfy68MpyOIw_3tk1ljQc8v783tIGLe7f9r8Mu9Uyk6iWAhoWhufsspcSL63-l2Z2_9vJDFluSragjSml2_-x0pQHddabo-NyM6PIeY_YHPN_OJv3_Okx_2jR-Uy0M12t_It01UvpsbSgV1m2_RC7r56U_2jXXutBAAXZAmXuJ1C3uAC3poLaEAXktMJK-YiFblGsnHnY6Qy4sxUFUG1ydDSX-OwHBbwLPYAN6u_GFAeIcumM_dYPuZt1hwCv4QfwJI1O4ul0kiZn0WQcT5IAdsDj9OwkjkbRaTKOknQ0jcZNAD-7R-PmL7DVt_U?type=png)](https://mermaid.live/edit#pako:eNpdkcFO4zAQhl_FGqmXKkFJSlrqAxK0IJBYCRVOKx86JFNq4diV49DtRnmaPSAh7WnfgL7YOonKLvXN9vd5PP_UkJmcgEMYhkI76RRxdkPFXD6za4sFbY19Ebq7HQxqqaXjrBawUmabrdE6Ad1-7Qp1h0-kyvZghaqkpmHNYCC00J8wu1sIzfy68MpyOIw_3tk1ljQc8v783tIGLe7f9r8Mu9Uyk6iWAhoWhufsspcSL63-l2Z2_9vJDFluSragjSml2_-x0pQHddabo-NyM6PIeY_YHPN_OJv3_Okx_2jR-Uy0M12t_It01UvpsbSgV1m2_RC7r56U_2jXXutBAAXZAmXuJ1C3uAC3poLaEAXktMJK-YiFblGsnHnY6Qy4sxUFUG1ydDSX-OwHBbwLPYAN6u_GFAeIcumM_dYPuZt1hwCv4QfwJI1O4ul0kiZn0WQcT5IAdsDj9OwkjkbRaTKOknQ0jcZNAD-7R-PmL7DVt_U)\n"
   ]
  },
  {
   "cell_type": "markdown",
   "id": "a842948a",
   "metadata": {},
   "source": [
    "## Estrutura do framework e organização do livro\n",
    "\n",
    "O framewoork está organizado em cinco partes, e conta também com introdução e considerações finais, além de apêndices, bibliografia e página de links úteis.\n",
    "\n",
    "---\n",
    "\n",
    "```{tableofcontents}\n",
    "```"
   ]
  }
 ],
 "metadata": {
  "jupytext": {
   "cell_metadata_filter": "-all",
   "main_language": "python",
   "notebook_metadata_filter": "-all"
  },
  "kernelspec": {
   "display_name": "Python 3",
   "language": "python",
   "name": "python3"
  },
  "language_info": {
   "codemirror_mode": {
    "name": "ipython",
    "version": 3
   },
   "file_extension": ".py",
   "mimetype": "text/x-python",
   "name": "python",
   "nbconvert_exporter": "python",
   "pygments_lexer": "ipython3",
   "version": "3.10.12"
  }
 },
 "nbformat": 4,
 "nbformat_minor": 5
}
