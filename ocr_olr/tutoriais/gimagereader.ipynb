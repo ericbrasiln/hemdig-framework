{
 "cells": [
  {
   "cell_type": "markdown",
   "id": "fe1b3748",
   "metadata": {},
   "source": [
    "# Tutorial de uso do gImageReader\n"
   ]
  },
  {
   "cell_type": "markdown",
   "id": "fa9d85e3",
   "metadata": {},
   "source": [
    "## Resumo\n"
   ]
  },
  {
   "cell_type": "markdown",
   "id": "810e5187",
   "metadata": {},
   "source": [
    "## Vídeo tutorial\n"
   ]
  },
  {
   "cell_type": "code",
   "execution_count": 8,
   "id": "1c7de029",
   "metadata": {},
   "outputs": [
    {
     "data": {
      "text/html": [
       "\n",
       "        <iframe\n",
       "            width=\"560\"\n",
       "            height=\"315\"\n",
       "            src=\"https://www.youtube.com/embed/_7eqj01Hn0M?frameborder=0&allowfullscreen=True\"\n",
       "            frameborder=\"0\"\n",
       "            allowfullscreen\n",
       "            \n",
       "        ></iframe>\n",
       "        "
      ],
      "text/plain": [
       "<IPython.lib.display.IFrame at 0x7f5e9f67ce80>"
      ]
     },
     "execution_count": 8,
     "metadata": {},
     "output_type": "execute_result"
    }
   ],
   "source": [
    "from IPython.display import IFrame\n",
    "\n",
    "IFrame(src='https://www.youtube.com/embed/_7eqj01Hn0M', width=560, height=315, frameborder=\"0\", allowfullscreen=True)"
   ]
  },
  {
   "cell_type": "markdown",
   "id": "4fe67cad",
   "metadata": {},
   "source": [
    "\n",
    "## Instalação\n",
    "\n",
    "## Como usar\n",
    "\n",
    "## Referências"
   ]
  }
 ],
 "metadata": {
  "jupytext": {
   "cell_metadata_filter": "-all",
   "main_language": "python",
   "notebook_metadata_filter": "-all"
  },
  "kernelspec": {
   "display_name": "Python 3",
   "language": "python",
   "name": "python3"
  },
  "language_info": {
   "codemirror_mode": {
    "name": "ipython",
    "version": 3
   },
   "file_extension": ".py",
   "mimetype": "text/x-python",
   "name": "python",
   "nbconvert_exporter": "python",
   "pygments_lexer": "ipython3",
   "version": "3.10.12"
  }
 },
 "nbformat": 4,
 "nbformat_minor": 5
}
