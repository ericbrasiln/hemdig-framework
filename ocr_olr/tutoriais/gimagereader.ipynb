{
 "cells": [
  {
   "cell_type": "markdown",
   "id": "fe1b3748",
   "metadata": {},
   "source": [
    "# Tutorial de uso do gImageReader\n",
    "\n",
    "![gImageReader](gimagereader.png)\n"
   ]
  },
  {
   "cell_type": "markdown",
   "id": "fa9d85e3",
   "metadata": {},
   "source": [
    "O gImageReader é um programa front-end que aplica o tesseract-ocr para reconhecimento de caracteres em imagens e PDFs. Ele é uma interface gráfica criada com GTK/QT[^gtk] por [Sandro Mani](https://github.com/manisandro) com licença [GNU GPL v3](https://github.com/manisandro/gImageReader/blob/master/COPYING).\n",
    "\n",
    "Atualmente ([versão 3.4.1](https://github.com/manisandro/gImageReader/releases/tag/v3.4.1)) o programa está disponível para Windows e Linux e 100% traduzido para 6 idiomas incluindo o português (brasileiro).\n",
    "\n",
    "O gImageReader possui características muito úteis para a pesquisa com jornais digitalizados. Segundo a documentação:\n",
    "\n",
    ">- Import PDF documents and images from disk, scanning devices, clipboard and screenshots\n",
    ">- Process multiple images and documents in one go\n",
    ">- Manual or automatic recognition area definition\n",
    ">- Recognize to plain text or to hOCR documents\n",
    ">- Recognized text displayed directly next to the image\n",
    ">- Post-process the recognized text, including spellchecking\n",
    ">- Generate PDF documents from hOCR documents\n",
    "\n",
    "[^gtk]: Para saber mais sobre elas, veja esse [artigo do Diolinux](https://diolinux.com.br/sistemas-operacionais/o-que-e-gtk-e-qt-linux.html)."
   ]
  },
  {
   "cell_type": "markdown",
   "id": "810e5187",
   "metadata": {},
   "source": [
    "## Instalação\n",
    "\n",
    "Na página de documentação do gImageReader encontramos a lista de distribuições linux que possuem pacotes para instalação, assim como o link para download da versão para Windows e o link para download do código fonte.\n",
    "\n",
    "Aqui, vamos instalar a versão para Ubuntu 22.04 LTS e em seguida, veremos um vídeo tutorial de instalação e uso para Windows 10."
   ]
  },
  {
   "cell_type": "markdown",
   "id": "c31dfb83",
   "metadata": {},
   "source": [
    "### Ubuntu 22.04\n",
    "\n",
    "```bash\n",
    "sudo add-apt-repository ppa:sandromani/gimagereader\n",
    "sudo apt update\n",
    "sudo apt install gimagereader-gtk\n",
    "```"
   ]
  },
  {
   "cell_type": "markdown",
   "id": "5b49ac1b",
   "metadata": {},
   "source": [
    "#### Tesseract-ocr\n",
    "\n",
    "Caso você ainda não tenha instalado o tesseract, você receberá ma mensagem do programa informando:\n",
    "\n",
    ">Nenhum idioma do Tesseract disponível para uso. O reconhecimento de caracteres não vai funcionar.\n",
    "\n",
    "```bash\n",
    "$ sudo apt install tesseract-ocr\n",
    "$ sudo apt install libtesseract-dev\n",
    "```\n",
    "\n",
    "Para saber se a instalação foi concluída corretamente, execute o comando `tesseract --version` para saber a versão instalada. Em seguida execute o comando `tesseract --list-langs` para saber quais idiomas estão disponíveis.\n",
    "\n",
    "```bash\n",
    "$ tesseract --list-langs\n",
    "```\n",
    "\n",
    "O resultado dever ser algo parecido com isso:\n",
    "\n",
    "```bash\n",
    "List of available languages (2):\n",
    "eng\n",
    "osd\n",
    "```\n",
    "\n",
    "Para instalar o idioma português, execute o comando:\n",
    "\n",
    "```bash\n",
    "$ sudo apt install tesseract-ocr-por\n",
    "```\n",
    "\n",
    "Após a instalação do tesseract, o gImageReader iniciará sem o aviso e podemos utilizá-lo normalmente.\n",
    "\n",
    "Para saber mais sobre o processo de instalação do tesseract, acesse o [link](https://tesseract-ocr.github.io/tessdoc/Installation.html)."
   ]
  },
  {
   "cell_type": "markdown",
   "id": "28050a70",
   "metadata": {},
   "source": [
    "### Windows 10\n",
    "\n",
    "O processo de instalação do gImageReader no Windows é simples, e um tutorial detalhada pode ser visto no vídeo abaixo:"
   ]
  },
  {
   "cell_type": "code",
   "execution_count": 1,
   "id": "1c7de029",
   "metadata": {},
   "outputs": [
    {
     "data": {
      "text/html": [
       "\n",
       "        <iframe\n",
       "            width=\"560\"\n",
       "            height=\"315\"\n",
       "            src=\"https://www.youtube.com/embed/_7eqj01Hn0M?frameborder=0&allowfullscreen=True\"\n",
       "            frameborder=\"0\"\n",
       "            allowfullscreen\n",
       "            \n",
       "        ></iframe>\n",
       "        "
      ],
      "text/plain": [
       "<IPython.lib.display.IFrame at 0x7f8bef7a6d70>"
      ]
     },
     "execution_count": 1,
     "metadata": {},
     "output_type": "execute_result"
    }
   ],
   "source": [
    "from IPython.display import IFrame\n",
    "\n",
    "IFrame(src='https://www.youtube.com/embed/_7eqj01Hn0M', width=560, height=315, frameborder=\"0\", allowfullscreen=True)"
   ]
  },
  {
   "cell_type": "markdown",
   "id": "100a8b14",
   "metadata": {},
   "source": [
    "## Utilizando o gImageReader\n",
    "\n",
    "\n"
   ]
  },
  {
   "cell_type": "markdown",
   "id": "4fe67cad",
   "metadata": {},
   "source": [
    "\n",
    "## Instalação\n",
    "\n",
    "## Como usar\n",
    "\n",
    "## Referências"
   ]
  }
 ],
 "metadata": {
  "jupytext": {
   "cell_metadata_filter": "-all",
   "main_language": "python",
   "notebook_metadata_filter": "-all"
  },
  "kernelspec": {
   "display_name": "Python 3",
   "language": "python",
   "name": "python3"
  },
  "language_info": {
   "codemirror_mode": {
    "name": "ipython",
    "version": 3
   },
   "file_extension": ".py",
   "mimetype": "text/x-python",
   "name": "python",
   "nbconvert_exporter": "python",
   "pygments_lexer": "ipython3",
   "version": "3.10.12"
  }
 },
 "nbformat": 4,
 "nbformat_minor": 5
}
