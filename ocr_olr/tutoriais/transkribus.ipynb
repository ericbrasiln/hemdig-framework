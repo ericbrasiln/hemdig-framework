{
 "cells": [
  {
   "cell_type": "markdown",
   "id": "2c9f91ca",
   "metadata": {},
   "source": [
    "# Tutorial de uso do Transkribus   \n",
    "\n",
    "## Resumo\n",
    "\n",
    "## Instalação\n",
    "\n",
    "## Como usar\n",
    "\n",
    "## Referências"
   ]
  }
 ],
 "metadata": {
  "jupytext": {
   "cell_metadata_filter": "-all",
   "main_language": "python",
   "notebook_metadata_filter": "-all"
  }
 },
 "nbformat": 4,
 "nbformat_minor": 5
}
