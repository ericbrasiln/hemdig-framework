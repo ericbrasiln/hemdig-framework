{
 "cells": [
  {
   "cell_type": "markdown",
   "id": "fe1b3748",
   "metadata": {},
   "source": [
    "# Tutorial de uso do gImageReader\n",
    "\n",
    "![gImageReader](gimagereader.png)\n"
   ]
  },
  {
   "cell_type": "markdown",
   "id": "fa9d85e3",
   "metadata": {},
   "source": [
    "O gImageReader é um programa front-end que aplica o tesseract-ocr para reconhecimento de caracteres em imagens e PDFs. Ele é uma interface gráfica criada com GTK/QT[^gtk] por [Sandro Mani](https://github.com/manisandro) com licença [GNU GPL v3](https://github.com/manisandro/gImageReader/blob/master/COPYING).\n",
    "\n",
    "Atualmente ([versão 3.4.1](https://github.com/manisandro/gImageReader/releases/tag/v3.4.1)) o programa está disponível para Windows e Linux e 100% traduzido para 6 idiomas incluindo o português (brasileiro).\n",
    "\n",
    "O gImageReader possui características muito úteis para a pesquisa com jornais digitalizados. Segundo a documentação:\n",
    "\n",
    ">- Import PDF documents and images from disk, scanning devices, clipboard and screenshots\n",
    ">- Process multiple images and documents in one go\n",
    ">- Manual or automatic recognition area definition\n",
    ">- Recognize to plain text or to hOCR documents\n",
    ">- Recognized text displayed directly next to the image\n",
    ">- Post-process the recognized text, including spellchecking\n",
    ">- Generate PDF documents from hOCR documents\n",
    "\n",
    "[^gtk]: Para saber mais sobre elas, veja esse [artigo do Diolinux](https://diolinux.com.br/sistemas-operacionais/o-que-e-gtk-e-qt-linux.html)."
   ]
  },
  {
   "cell_type": "markdown",
   "id": "810e5187",
   "metadata": {},
   "source": [
    "## Instalação\n",
    "\n",
    "Na página de documentação do gImageReader encontramos a lista de distribuições linux que possuem pacotes para instalação, assim como o link para download da versão para Windows e o link para download do código fonte.\n",
    "\n",
    "Aqui, vamos instalar a versão para Ubuntu 22.04 LTS e em seguida, veremos um vídeo tutorial de instalação e uso para Windows 10."
   ]
  },
  {
   "cell_type": "markdown",
   "id": "c31dfb83",
   "metadata": {},
   "source": [
    "### Ubuntu 22.04\n",
    "\n",
    "```bash\n",
    "sudo add-apt-repository ppa:sandromani/gimagereader\n",
    "sudo apt update\n",
    "sudo apt install gimagereader-gtk\n",
    "```"
   ]
  },
  {
   "cell_type": "markdown",
   "id": "5b49ac1b",
   "metadata": {},
   "source": [
    "#### Tesseract-ocr\n",
    "\n",
    "Caso você ainda não tenha instalado o tesseract, você receberá ma mensagem do programa informando:\n",
    "\n",
    ">Nenhum idioma do Tesseract disponível para uso. O reconhecimento de caracteres não vai funcionar.\n",
    "\n",
    "```bash\n",
    "$ sudo apt install tesseract-ocr\n",
    "$ sudo apt install libtesseract-dev\n",
    "```\n",
    "\n",
    "Para saber se a instalação foi concluída corretamente, execute o comando `tesseract --version` para saber a versão instalada. Em seguida execute o comando `tesseract --list-langs` para saber quais idiomas estão disponíveis.\n",
    "\n",
    "```bash\n",
    "$ tesseract --list-langs\n",
    "```\n",
    "\n",
    "O resultado dever ser algo parecido com isso:\n",
    "\n",
    "```bash\n",
    "List of available languages (2):\n",
    "eng\n",
    "osd\n",
    "```\n",
    "\n",
    "Para instalar o idioma português, execute o comando:\n",
    "\n",
    "```bash\n",
    "$ sudo apt install tesseract-ocr-por\n",
    "```\n",
    "\n",
    "Após a instalação do tesseract, o gImageReader iniciará sem o aviso e podemos utilizá-lo normalmente.\n",
    "\n",
    "Para saber mais sobre o processo de instalação do tesseract, acesse o [link](https://tesseract-ocr.github.io/tessdoc/Installation.html)."
   ]
  },
  {
   "cell_type": "markdown",
   "id": "28050a70",
   "metadata": {},
   "source": [
    "### Windows 10\n",
    "\n",
    "O processo de instalação do gImageReader no Windows é simples, e um tutorial detalhada pode ser visto no vídeo abaixo:"
   ]
  },
  {
   "cell_type": "code",
   "execution_count": 1,
   "id": "1c7de029",
   "metadata": {},
   "outputs": [
    {
     "data": {
      "text/html": [
       "\n",
       "        <iframe\n",
       "            width=\"560\"\n",
       "            height=\"315\"\n",
       "            src=\"https://www.youtube.com/embed/_7eqj01Hn0M?frameborder=0&allowfullscreen=True\"\n",
       "            frameborder=\"0\"\n",
       "            allowfullscreen\n",
       "            \n",
       "        ></iframe>\n",
       "        "
      ],
      "text/plain": [
       "<IPython.lib.display.IFrame at 0x7f8bef7a6d70>"
      ]
     },
     "execution_count": 1,
     "metadata": {},
     "output_type": "execute_result"
    }
   ],
   "source": [
    "from IPython.display import IFrame\n",
    "\n",
    "IFrame(src='https://www.youtube.com/embed/_7eqj01Hn0M', width=560, height=315, frameborder=\"0\", allowfullscreen=True)"
   ]
  },
  {
   "cell_type": "markdown",
   "id": "100a8b14",
   "metadata": {},
   "source": [
    "## Utilizando o gImageReader\n",
    "\n",
    "O vídeo tutorial mostra as funções básicas do gImageReader[^tut-gir]. Para nossa pesquisa, estamos interessados em comparar os resultados do reconhecimento de layouts e de caracteres produzido por esse programa com os resultados obtidos com OCR-D, Kraken e Transkribus.\n",
    "\n",
    "[^tut-gir]: Para um vídeo mais longo sobre a utilização do gImageReader, veja o [Workshop de Reconhecimento Ótico de Caracteres (OCR) com gImageReader](https://www.youtube.com/watch?v=ZomLnDje3BA)."
   ]
  },
  {
   "cell_type": "markdown",
   "id": "3b72f7d2",
   "metadata": {},
   "source": [
    "## Resultados\n",
    "\n",
    "Inserimos no programa as 5 páginas de exemplo utilizadas anteriormente com OCR-D e Kraken. Também inserimos as versões das imagens que haviam sido pré-processadas com o OCR-D (binarização, normalização, redução de ruídos e de inclinação).\n",
    "\n",
    "![input](imgs/gir_01_2023-08-10_10-15-34.png)"
   ]
  },
  {
   "cell_type": "markdown",
   "id": "b6389483",
   "metadata": {},
   "source": [
    "### Reconhecimento de layouts\n",
    "\n",
    "O reconhecimento foi realizado com a opção *hocr* e a saída foi salva como `gir_hocr_output.html` e pode ser acessado [aqui](outputs/gir_hocr_output.html). Também exportamos o resultado de cada página como um arquivo de texto, que podem ser acessados [aqui](outputs/).\n",
    "\n",
    "![reconhecimento com a opção hocr](imgs/gir_02_2023-08-10_10-42.png)\n",
    "\n",
    "Podemos perceber que o resultado foi bastante positivo, mesmo na imagem sem o tratamento realizado pelas ferramentas do OCR-D. Os blocos de texto foram identificados satisfatoriamente, assim como parágrafos, linhas e palavras.\n",
    "\n",
    "![bloco de texto](imgs/gir_02_bl_2023-08-10_10-54.png)\n",
    "\n",
    "![parágrafo](./imgs/gir_02_pr_2023-08-10_10-55.png)\n",
    "\n",
    "![linha](./imgs/gir_02_li_2023-08-10_10-56.png)\n",
    "\n",
    "![palavra](./imgs/gir_02_wd_2023-08-10_10-57.png)\n",
    "\n",
    "Algumas sobreposições de blocos de texto foram identificadas, mas no geral as cinco páginas originais obtiveram resultados bons, e as imagens com processamento do OCR-D obtiveram resultados similares."
   ]
  },
  {
   "cell_type": "markdown",
   "id": "73051057",
   "metadata": {},
   "source": [
    "Além do reconhecimento utilizando o método *hocr*, realizamos o reconhecimento de layout automático (recurso possível na opção de reconhecimento de texto simples).\n",
    "\n",
    "Ao analisarmos o resultado final, percebemos que os resultados foram semelhantes aos obtidos com o OCR-D. E que na comparação dos resultados do reconhecimento de layout automático entre as páginas originais e tratadas previamente pelo OCR-D, notamos que ou os resultados foram similares ou melhores com as imagens originais. \n",
    "\n",
    "Vejamos as imagens de cada exemplo (a primeira imagem é a original e a segunda é a imagem tratada pelo OCR-D):"
   ]
  },
  {
   "cell_type": "markdown",
   "id": "7521e5a7",
   "metadata": {},
   "source": [
    "### O Pais, p.1\n",
    "\n",
    "![layout O Paiz, p.1, original](./imgs/gir_layout_paiz01_or_2023-08-10_11-04-27.png)\n",
    "\n",
    "![layout O Paiz, p.1, tratada](./imgs/gir_layout_paiz01_ocr-d_2023-08-10%2011-06-30.png)\n"
   ]
  },
  {
   "cell_type": "markdown",
   "id": "e303b197",
   "metadata": {},
   "source": [
    "### O Pais, p.2\n",
    "\n",
    "![layout O Paiz, p.2, original](./imgs/gir_layout_paiz02_or_2023-08-10_11-08-00.png)\n",
    "\n",
    "![layout O Paiz, p.2, tratada](./imgs/gir_layout_paiz02_ocr-d_2023-08-10_11-09-03.png)"
   ]
  },
  {
   "cell_type": "markdown",
   "id": "37d346fa",
   "metadata": {},
   "source": [
    "### Boletim de Eugenia, p.1\n",
    "\n",
    "![Boletim de Eugenia, p.1, original](./imgs/gir_layout_be01_or_2023-08-10_11-09-54.png)\n",
    "\n",
    "![Boletim de Eugenia, p.1, tratada](./imgs/gir_layout_be01_ocr-d_2023-08-10_11-10-52.png)"
   ]
  },
  {
   "cell_type": "markdown",
   "id": "ff0e4689",
   "metadata": {},
   "source": [
    "### Boletim de Eugenia, p.2\n",
    "\n",
    "![Boletim de Eugenia, p.2, original](./imgs/gir_layout_be02_or_2023-08-10_11-11-31.png)\n",
    "\n",
    "![Boletim de Eugenia, p.2, tratada](./imgs/gir_layout_be02_ocr-d_2023-08-10_11-12-11.png)"
   ]
  },
  {
   "cell_type": "markdown",
   "id": "879931d7",
   "metadata": {},
   "source": [
    "### Boletim de Eugenia, p.3\n",
    "\n",
    "![Boletim de Eugenia, p.3, original](./imgs/gir_layout_be03_or_2023-08-10_11-12-50.png)\n",
    "\n",
    "![Boletim de Eugenia, p.3, tratada](./imgs/gir_layout_be03_ocr-d_2023-08-10_11-13-18.png)"
   ]
  },
  {
   "cell_type": "markdown",
   "id": "ecbae24f",
   "metadata": {},
   "source": [
    "### Reconhecimento de texto\n",
    "\n",
    "Exportamos os resultados do reconhecimento de texto com o método *hocr* para ficheiros txt de cada página utilizada como exemplo. Os ficheiros estão organizados no diretório [`outuputs`](outputs/).\n",
    "\n",
    "Vejamos a comparação dos textos obtidos com OCR-D (utilizando o tesseracr por), gImageReader com imagem original e gImageReader com imagem tratada. "
   ]
  },
  {
   "cell_type": "markdown",
   "id": "c4180da2",
   "metadata": {},
   "source": [
    "#### Página 1, *O Paiz*\n",
    "\n",
    "Na tabela abaixo, apresentamos a comparação dos primeiros blocos de texto da página 1 de *O Paiz*.\n",
    "\n",
    "| Original | OCR-D Tesseract por | gImageReader Imagem Original | gImageReader Imagem Tratada |\n",
    "|:--------:|:-------------------:|:---------------------------:|:--------------------------:|\n",
    "| ACTOS OFFICIAES\\\\Por decreto de 8 de Janeiro ultimo\\concedeu-se a patente de n. 465 a\\Augusto Cambraia, portuguez, indus-\\trial, residente nesta cidade, para o\\\\processo de sua invenção, destinado a\\fabricar pannos finos, morins e brins de\\algodão alvejados.\\\\Em data de 23 de Abril ultimo con-\\cedeu-se garantia provisoria ao Dr. Gui-\\lherme José Teixeira, brazileiro, me-\\dico, morador nesta cidade, representado\\\\pelo seu procurador o Club Industrial,\\fundado e estabelecido tambem nesta\\cidade, para transporte do lixo das ha-\\bitações publicas e particulares, deno-\\minado — carroça inodora. | RC CISCO E\\\\Por decreto de 8 de Janeiro ultimo\\conccdeu-se a patente de n. dhj q\\Augusto Cambrais, portu ez, indus-\\triol, residente nesta ci ade, para 0\\rocesso de sua invenção, destinado q\\ubricar pannos finos, morins ce brins de\\alcodão alvejados,\\\\Em data de 23 de Abril ultimo con-\\cedeu-se garantia provisoria no Dr. Gui-\\lherme José Teixeira, brazileiro, mo:\\dico, morador nesta cidade re resentido\\elo seu procurador o Club ndustrial,\\undado 6 estabelecido tambem nesta\\cidade, para transporte do lixo dus ha-\\bitações publicas 6 particulares, deno-\\minado — carroça inodora. | ACTOS OFFICIAES\\\\Por decreto de 8 de Janeiro ultimo\\concedeu-se a patente de n. 465 à\\Augusto Cambraia, portuguez, indus-\\trial, residente nesta cidade, para o\\\\rocesso de sua invenção, destinado a\\abricar pannos finos, morins c brins do\\algodão alvejados.\\\\Em data de 23 de Abril ultimo con-\\cedeu-se garantia provisoria ao Dr. Gui-\\lherme José \"Teixeira, brazileiro, mo-\\dico, morador nesta cidade, representado\\\\elo seu procurador o Club Industrial,\\undado c estabelecido tambem nesta\\cidade, para transporte do lixo das ha-\\bitações publicas o particulares, deno-\\minado — carroça inodora. | ACTOS OFFICIAES\\\\Por decreto de 8 de Janeiro ultimo\\concedeu-se a patente de n. 465 à\\Augusto Cambraia, portuguez, indus-\\trial, residente nesta cidade, para o\\\\rocesso de sua invenção, destinado a\\abricar pannos finos, morins c brins do\\algodão alvejados.\\\\Em data de 23 de Abril ultimo con-\\cedeu-se garantia provisoria ao Dr. Gui-\\lherme José \"Teixeira, brazileiro, mo-\\dico, morador nesta cidade, representado\\\\elo seu procurador o Club Industrial,\\undado c estabelecido tambem nesta\\cidade, para transporte do lixo das ha-\\bitações publicas o particulares, deno-\\minado — carroça inodora. |"
   ]
  },
  {
   "cell_type": "markdown",
   "id": "fa427edc",
   "metadata": {},
   "source": [
    "#### Página 2, *O Paiz*\n",
    "\n",
    "Na tabela abaixo, apresentamos a comparação dos primeiros blocos de texto da página 2 de *O Paiz*.\n",
    "\n",
    "Assim como nos resultados obtidos pelo OCR-D, a página dois não apresentou resultados utilizáveis. A imagem digitalizada apresenta muitos ruídos, impossibilitando o reconhecimento do layout e dos caracteres.\n",
    "\n",
    "Comparemos então as 30 primeiras linhas de cada resultado:\n",
    "\n",
    "| Original | OCR-D Tesseract por | gImageReader Imagem Original | gImageReader Imagem Tratada |\n",
    "|:--------:|:-------------------:|:----------------------------:|:---------------------------:|\n",
    "|? | Voa . »\\\\faca Tr MS o. “ Alo TT am e RT TT Cod CT MT. os a ht a “ - na .“ E Tudo Tao\\\\ORPAt; : SAIR É ADO\\\\PO PE DIC Usou NO [LL 380 BRT RI 106\\EDIR O, | A am\\\\\\\\ADA RN gado rr : no eo\\\\MN CR ET O SM mo nt Ci RE pg o.\\e gre Cro qa Ga To EMT \" 1...\\\\Pero Ma de tattoo cr mam at e Cetera REM as — mm E a IO e MO a o CAM mm ri O a ii mm O eU\\\\\\\\\\\\\\\\CORRETO\\\\PSA pio DP é FICAR O SEA RIR RONAN CS 1\\\\pf ag gui fr nbr aa car To\\Pro vegeta õeo B1 D | revolta: ha nella epilepsias de: desespero.\\\\de angustias\\gula n'uma;\\ubito nessa\\forjados: por\\\\famia q\\pulohro\\carnuagem” macia\\epiderme, a Vida=\\“olhos fus\\tima-tormenta:'na:-faude rouca, : d\\*electrismo “de umraio no dorso— à\\'g0 proprio co, tampo de chumbo: d\\um ferotro que nós\\\\clamores de gacrra, brados:\\'e'o:seu: grito. como--so estran\\suffocação de logrimas mas.\\tormenta, pesada de raios,\\rica am pista trecho\\E - mavioso, suavissimo irrompe,\\vós que 8 ferias cêo onde pipillos\" do: passaros,\\as da injur teios alacres esfuziam.\\\\m que Em muitos dos seus trabalhos a-ir)\\sem: QUe | acorda, a dolorosa ironia de Heine, corta,\\m organismo. putrefacto, sob\\lo alado do sua analyse re- | RAE jo 5 BET E A ENTE Va TETE ERES a\\a DR a PRESS à EM Pg ARiis gajo 1 Eta a a\\5 q ã\\\\a, .\\pt .\\js + ea\\*PM ap e . , . - à\\\\v\\\\- Fr É “A À gusto Pacheco Alves de Arg\\POLICIAES |incirimamnats\\\\fredo Ruy Barboga é Manoel\\\\To e\\\\bairro intormediario entre os grandes\\houlevards e os boulsvards exteriores.\\À taberna da tia Caron era é que aqui\\\\“ CORREIO\\\\F. Miurcondes Bicudos —Ahi vão as o\\tas, na orem das porguntos: 1º. O selo estes\\\\o, de edicto stena e:aria da opera pero; D. Levi,\\\\nho Ferreira | Donsa negra, jogo: - Fossini, Simira- | "
   ]
  },
  {
   "cell_type": "markdown",
   "id": "4fe67cad",
   "metadata": {},
   "source": [
    "## Referências"
   ]
  }
 ],
 "metadata": {
  "jupytext": {
   "cell_metadata_filter": "-all",
   "main_language": "python",
   "notebook_metadata_filter": "-all"
  },
  "kernelspec": {
   "display_name": "Python 3",
   "language": "python",
   "name": "python3"
  },
  "language_info": {
   "codemirror_mode": {
    "name": "ipython",
    "version": 3
   },
   "file_extension": ".py",
   "mimetype": "text/x-python",
   "name": "python",
   "nbconvert_exporter": "python",
   "pygments_lexer": "ipython3",
   "version": "3.10.12"
  }
 },
 "nbformat": 4,
 "nbformat_minor": 5
}
