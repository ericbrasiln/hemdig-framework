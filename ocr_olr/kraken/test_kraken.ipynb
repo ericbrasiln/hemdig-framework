{
 "cells": [
  {
   "cell_type": "markdown",
   "metadata": {},
   "source": [
    "# Testanto o Kraken"
   ]
  },
  {
   "cell_type": "markdown",
   "metadata": {},
   "source": [
    "# Usar pip para instalar o kraken\n",
    "\n",
    "```bash\n",
    "$ pip install kraken\n",
    "```\n"
   ]
  },
  {
   "cell_type": "markdown",
   "metadata": {},
   "source": [
    "## If you want direct PDF and multi-image TIFF/JPEG2000 support it is necessary to install the pdf extras package for PyPi:\n",
    "\n",
    "```bash\n",
    "$ pip install kraken[pdf]\n",
    "```"
   ]
  },
  {
   "cell_type": "markdown",
   "metadata": {},
   "source": [
    "## To download the default model for printed English text and place it in the kraken directory for the current user:\n",
    "\n",
    "```bash\n",
    "$ kraken get 10.5281/zenodo.2577813\n",
    "```"
   ]
  },
  {
   "cell_type": "markdown",
   "metadata": {},
   "source": [
    "##  list of libre models available in the central repository can be retrieved by running:\n",
    "\n",
    "```bash\n",
    "$ kraken list\n",
    "```"
   ]
  },
  {
   "cell_type": "markdown",
   "metadata": {},
   "source": [
    "### Resultado do comando acima:\n",
    "\n",
    "```bash\n",
    "10.5281/zenodo.8193498 (pytorch) - Transcription model for Lucien Peraire's handwriting (French, 20th century)\n",
    "10.5281/zenodo.7933463 (pytorch) - HTR model for German manuscripts trained from several datasets\n",
    "10.5281/zenodo.7933402 (pytorch) - Fraktur model trained from enhanced Austrian Newspapers dataset\n",
    "10.5281/zenodo.7631619 (pytorch) - Model trained on all available data, from 8th to 16th century, from GalliCorpora, CREMMA Medieval and CREMMA Medieval Lat, as well as data from Eutyches, Caroline Minuscule, DecameronFR. Transcription guidelines: https://hal.archives-ouvertes.fr/hal-03697382\n",
    "10.5281/zenodo.7410529 (pytorch) - Gallicorpora+ ancient prints (Litterature)\n",
    "10.5281/zenodo.7051646 (pytorch) - Printed Urdu Base Model Trained on the OpenITI Corpus\n",
    "10.5281/zenodo.7051644 (pytorch) - Printed Persian Base Model Trained on the OpenITI Corpus\n",
    "10.5281/zenodo.7050342 (pytorch) - Printed Ottoman Base Model Trained on the OpenITI Corpus\n",
    "10.5281/zenodo.7050296 (pytorch) - Printed Arabic Base Model Trained on the OpenITI Corpus\n",
    "10.5281/zenodo.7050270 (pytorch) - Printed Arabic-Script Base Model Trained on the OpenITI Corpus\n",
    "10.5281/zenodo.6669508 (pytorch) - Cremma-Medieval Old French Model (Litterature)\n",
    "10.5281/zenodo.6657809 (pytorch) - Model train on openly licensed data from HTR-United. All French manuscript data from the 17th century to the 21st were used (72k lines).\n",
    "10.5281/zenodo.6542744 (pytorch) - LECTAUREP Contemporary French Model (Administration)\n",
    "10.5281/zenodo.5468665 (pytorch) - Medieval Hebrew manuscripts in Sephardi bookhand version 1.0\n",
    "10.5281/zenodo.5468573 (pytorch) - Medieval Hebrew manuscripts in Italian bookhand version 1.0\n",
    "10.5281/zenodo.5468478 (pytorch) - Medieval Hebrew manuscripts in Ashkenazi bookhand\n",
    "10.5281/zenodo.5468286 (pytorch) - Medieval Hebrew manuscripts version 1.0\n",
    "10.5281/zenodo.2577813 (pytorch) - A generalized model for English printed text\n",
    "```"
   ]
  },
  {
   "cell_type": "markdown",
   "metadata": {},
   "source": [
    "## Recognizing text on an image using the default parameters including the prerequisite steps of binarization and page segmentation:\n",
    "\n",
    "```bash\n",
    "$ kraken -i <image-path> <output>.txt binarize segment ocr -m en_best.mlmodel\n",
    "```"
   ]
  },
  {
   "cell_type": "markdown",
   "metadata": {},
   "source": []
  }
 ],
 "metadata": {
  "kernelspec": {
   "display_name": "Python 3",
   "language": "python",
   "name": "python3"
  },
  "language_info": {
   "codemirror_mode": {
    "name": "ipython",
    "version": 3
   },
   "file_extension": ".py",
   "mimetype": "text/x-python",
   "name": "python",
   "nbconvert_exporter": "python",
   "pygments_lexer": "ipython3",
   "version": "3.10.12"
  },
  "orig_nbformat": 4
 },
 "nbformat": 4,
 "nbformat_minor": 2
}
